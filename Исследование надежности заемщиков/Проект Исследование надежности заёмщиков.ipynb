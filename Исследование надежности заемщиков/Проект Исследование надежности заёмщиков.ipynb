{
 "cells": [
  {
   "cell_type": "markdown",
   "id": "87a2dd20",
   "metadata": {
    "toc": true
   },
   "source": [
    "<h1>Содержание<span class=\"tocSkip\"></span></h1>\n",
    "<div class=\"toc\"><ul class=\"toc-item\"><li><span><a href=\"#Обзор-данных\" data-toc-modified-id=\"Обзор-данных-1\"><span class=\"toc-item-num\">1&nbsp;&nbsp;</span>Обзор данных</a></span></li><li><span><a href=\"#Предобработка-данных\" data-toc-modified-id=\"Предобработка-данных-2\"><span class=\"toc-item-num\">2&nbsp;&nbsp;</span>Предобработка данных</a></span><ul class=\"toc-item\"><li><span><a href=\"#Заполнение-пропусков\" data-toc-modified-id=\"Заполнение-пропусков-2.1\"><span class=\"toc-item-num\">2.1&nbsp;&nbsp;</span>Заполнение пропусков</a></span></li><li><span><a href=\"#Проверка-данных-на-аномалии\" data-toc-modified-id=\"Проверка-данных-на-аномалии-2.2\"><span class=\"toc-item-num\">2.2&nbsp;&nbsp;</span>Проверка данных на аномалии</a></span></li><li><span><a href=\"#Удаление-дубликатов\" data-toc-modified-id=\"Удаление-дубликатов-2.3\"><span class=\"toc-item-num\">2.3&nbsp;&nbsp;</span>Удаление дубликатов</a></span></li><li><span><a href=\"#Формирование-дополнительных-датафреймов-словарей,-декомпозиция-исходного-датафрейма.\" data-toc-modified-id=\"Формирование-дополнительных-датафреймов-словарей,-декомпозиция-исходного-датафрейма.-2.4\"><span class=\"toc-item-num\">2.4&nbsp;&nbsp;</span>Формирование дополнительных датафреймов-словарей, декомпозиция исходного датафрейма.</a></span></li></ul></li><li><span><a href=\"#Анализ-данных\" data-toc-modified-id=\"Анализ-данных-3\"><span class=\"toc-item-num\">3&nbsp;&nbsp;</span>Анализ данных</a></span></li><li><span><a href=\"#Вывод:\" data-toc-modified-id=\"Вывод:-4\"><span class=\"toc-item-num\">4&nbsp;&nbsp;</span>Вывод:</a></span></li></ul></div>"
   ]
  },
  {
   "cell_type": "markdown",
   "id": "8ecf553e",
   "metadata": {},
   "source": [
    "# Исследование надежности заемщиков."
   ]
  },
  {
   "cell_type": "markdown",
   "id": "571bbd5d",
   "metadata": {},
   "source": [
    "Для любого финансового кредитного учреждения предоставление кредита - это источник дохода.\n",
    "Однако, существует риск, сможет ли получатель кредита вернуть его в срок.\n",
    "    \n",
    "На перспективу успешного погашения кредита влияет множество факторов.\n",
    "\n",
    "На данных статистики банка о платежеспособности клиентов проведем исследование.\n",
    "  \n",
    "   **Цель исследования** установить как семейное положение и количество детей клиента влияет на его платежеспособность.\n",
    "     \n",
    "Для этого ответим на вопросы:\n",
    "-  Есть ли зависимость между количеством детей и возвратом кредита в срок?\n",
    "-  Есть ли зависимость между семейным положением и возвратом кредита в срок?\n",
    "-  Есть ли зависимость между уровнем дохода и возвратом кредита в срок?\n",
    "-  Как разные цели кредита влияют на его возврат в срок?   \n",
    "  \n",
    " **Ход исследования** \n",
    "   \n",
    "Входные данные предоставлены банком и находятся в файле `/datasets/data.csv`\n",
    "\n",
    "Перед исследованием понадобится обзор данных и обработка данных. Проверка данных на ошибки и их исправление.\n",
    "    \n",
    "Таким образом исследоваие пройдет по следующим этапам:\n",
    "    \n",
    " 1. Обзор данных\n",
    " 2. Предобработка данных\n",
    " 3. Анализ данных\n",
    " 4. Вывод\n",
    "        \n",
    "                 "
   ]
  },
  {
   "cell_type": "markdown",
   "id": "6fa8be37",
   "metadata": {},
   "source": [
    "##  Обзор данных"
   ]
  },
  {
   "cell_type": "code",
   "execution_count": 1,
   "id": "19f169f9",
   "metadata": {},
   "outputs": [],
   "source": [
    "import pandas as pd  # импорт библиотеки pandas"
   ]
  },
  {
   "cell_type": "code",
   "execution_count": 2,
   "id": "e7769e9f",
   "metadata": {},
   "outputs": [],
   "source": [
    "df = pd.read_csv('/datasets/data.csv')  # чтение файла с данными и сохранение в df"
   ]
  },
  {
   "cell_type": "code",
   "execution_count": 3,
   "id": "4f5a3528",
   "metadata": {
    "scrolled": true
   },
   "outputs": [
    {
     "data": {
      "text/html": [
       "<div>\n",
       "<style scoped>\n",
       "    .dataframe tbody tr th:only-of-type {\n",
       "        vertical-align: middle;\n",
       "    }\n",
       "\n",
       "    .dataframe tbody tr th {\n",
       "        vertical-align: top;\n",
       "    }\n",
       "\n",
       "    .dataframe thead th {\n",
       "        text-align: right;\n",
       "    }\n",
       "</style>\n",
       "<table border=\"1\" class=\"dataframe\">\n",
       "  <thead>\n",
       "    <tr style=\"text-align: right;\">\n",
       "      <th></th>\n",
       "      <th>children</th>\n",
       "      <th>days_employed</th>\n",
       "      <th>dob_years</th>\n",
       "      <th>education</th>\n",
       "      <th>education_id</th>\n",
       "      <th>family_status</th>\n",
       "      <th>family_status_id</th>\n",
       "      <th>gender</th>\n",
       "      <th>income_type</th>\n",
       "      <th>debt</th>\n",
       "      <th>total_income</th>\n",
       "      <th>purpose</th>\n",
       "    </tr>\n",
       "  </thead>\n",
       "  <tbody>\n",
       "    <tr>\n",
       "      <th>0</th>\n",
       "      <td>1</td>\n",
       "      <td>-8437.673028</td>\n",
       "      <td>42</td>\n",
       "      <td>высшее</td>\n",
       "      <td>0</td>\n",
       "      <td>женат / замужем</td>\n",
       "      <td>0</td>\n",
       "      <td>F</td>\n",
       "      <td>сотрудник</td>\n",
       "      <td>0</td>\n",
       "      <td>253875.639453</td>\n",
       "      <td>покупка жилья</td>\n",
       "    </tr>\n",
       "    <tr>\n",
       "      <th>1</th>\n",
       "      <td>1</td>\n",
       "      <td>-4024.803754</td>\n",
       "      <td>36</td>\n",
       "      <td>среднее</td>\n",
       "      <td>1</td>\n",
       "      <td>женат / замужем</td>\n",
       "      <td>0</td>\n",
       "      <td>F</td>\n",
       "      <td>сотрудник</td>\n",
       "      <td>0</td>\n",
       "      <td>112080.014102</td>\n",
       "      <td>приобретение автомобиля</td>\n",
       "    </tr>\n",
       "    <tr>\n",
       "      <th>2</th>\n",
       "      <td>0</td>\n",
       "      <td>-5623.422610</td>\n",
       "      <td>33</td>\n",
       "      <td>Среднее</td>\n",
       "      <td>1</td>\n",
       "      <td>женат / замужем</td>\n",
       "      <td>0</td>\n",
       "      <td>M</td>\n",
       "      <td>сотрудник</td>\n",
       "      <td>0</td>\n",
       "      <td>145885.952297</td>\n",
       "      <td>покупка жилья</td>\n",
       "    </tr>\n",
       "    <tr>\n",
       "      <th>3</th>\n",
       "      <td>3</td>\n",
       "      <td>-4124.747207</td>\n",
       "      <td>32</td>\n",
       "      <td>среднее</td>\n",
       "      <td>1</td>\n",
       "      <td>женат / замужем</td>\n",
       "      <td>0</td>\n",
       "      <td>M</td>\n",
       "      <td>сотрудник</td>\n",
       "      <td>0</td>\n",
       "      <td>267628.550329</td>\n",
       "      <td>дополнительное образование</td>\n",
       "    </tr>\n",
       "    <tr>\n",
       "      <th>4</th>\n",
       "      <td>0</td>\n",
       "      <td>340266.072047</td>\n",
       "      <td>53</td>\n",
       "      <td>среднее</td>\n",
       "      <td>1</td>\n",
       "      <td>гражданский брак</td>\n",
       "      <td>1</td>\n",
       "      <td>F</td>\n",
       "      <td>пенсионер</td>\n",
       "      <td>0</td>\n",
       "      <td>158616.077870</td>\n",
       "      <td>сыграть свадьбу</td>\n",
       "    </tr>\n",
       "  </tbody>\n",
       "</table>\n",
       "</div>"
      ],
      "text/plain": [
       "   children  days_employed  dob_years education  education_id  \\\n",
       "0         1   -8437.673028         42    высшее             0   \n",
       "1         1   -4024.803754         36   среднее             1   \n",
       "2         0   -5623.422610         33   Среднее             1   \n",
       "3         3   -4124.747207         32   среднее             1   \n",
       "4         0  340266.072047         53   среднее             1   \n",
       "\n",
       "      family_status  family_status_id gender income_type  debt   total_income  \\\n",
       "0   женат / замужем                 0      F   сотрудник     0  253875.639453   \n",
       "1   женат / замужем                 0      F   сотрудник     0  112080.014102   \n",
       "2   женат / замужем                 0      M   сотрудник     0  145885.952297   \n",
       "3   женат / замужем                 0      M   сотрудник     0  267628.550329   \n",
       "4  гражданский брак                 1      F   пенсионер     0  158616.077870   \n",
       "\n",
       "                      purpose  \n",
       "0               покупка жилья  \n",
       "1     приобретение автомобиля  \n",
       "2               покупка жилья  \n",
       "3  дополнительное образование  \n",
       "4             сыграть свадьбу  "
      ]
     },
     "execution_count": 3,
     "metadata": {},
     "output_type": "execute_result"
    }
   ],
   "source": [
    "df.head()"
   ]
  },
  {
   "cell_type": "code",
   "execution_count": 4,
   "id": "cf6b09ad",
   "metadata": {
    "scrolled": true
   },
   "outputs": [
    {
     "name": "stdout",
     "output_type": "stream",
     "text": [
      "<class 'pandas.core.frame.DataFrame'>\n",
      "RangeIndex: 21525 entries, 0 to 21524\n",
      "Data columns (total 12 columns):\n",
      " #   Column            Non-Null Count  Dtype  \n",
      "---  ------            --------------  -----  \n",
      " 0   children          21525 non-null  int64  \n",
      " 1   days_employed     19351 non-null  float64\n",
      " 2   dob_years         21525 non-null  int64  \n",
      " 3   education         21525 non-null  object \n",
      " 4   education_id      21525 non-null  int64  \n",
      " 5   family_status     21525 non-null  object \n",
      " 6   family_status_id  21525 non-null  int64  \n",
      " 7   gender            21525 non-null  object \n",
      " 8   income_type       21525 non-null  object \n",
      " 9   debt              21525 non-null  int64  \n",
      " 10  total_income      19351 non-null  float64\n",
      " 11  purpose           21525 non-null  object \n",
      "dtypes: float64(2), int64(5), object(5)\n",
      "memory usage: 2.0+ MB\n"
     ]
    }
   ],
   "source": [
    "df.info() # получение общей информации "
   ]
  },
  {
   "cell_type": "markdown",
   "id": "7bdbf823",
   "metadata": {},
   "source": [
    "**Вывод**\n",
    "\n",
    "В таблице 12 столбцов. Тип данных в пяти колонках `int64`, в двух колонках `float64`, в пяти колонках `object` \n",
    "   \n",
    "В названиях колонок нет нарушения стиля.\n",
    "    \n",
    "Количество значений в столбцах одинаковое, за исключением двух `days_employed` и `total_income` \n",
    "Значит в данных колонках есть пропущенные значения."
   ]
  },
  {
   "cell_type": "markdown",
   "id": "164a6daf",
   "metadata": {},
   "source": [
    "## Предобработка данных"
   ]
  },
  {
   "cell_type": "markdown",
   "id": "e563145f",
   "metadata": {},
   "source": [
    "### Заполнение пропусков"
   ]
  },
  {
   "cell_type": "markdown",
   "id": "1b87b783",
   "metadata": {},
   "source": [
    "Посчитаем пропущенные значения. Применим методы `isna()` и `sum()` последовательно"
   ]
  },
  {
   "cell_type": "code",
   "execution_count": 5,
   "id": "9e5a0053",
   "metadata": {
    "scrolled": false
   },
   "outputs": [
    {
     "data": {
      "text/plain": [
       "children               0\n",
       "days_employed       2174\n",
       "dob_years              0\n",
       "education              0\n",
       "education_id           0\n",
       "family_status          0\n",
       "family_status_id       0\n",
       "gender                 0\n",
       "income_type            0\n",
       "debt                   0\n",
       "total_income        2174\n",
       "purpose                0\n",
       "dtype: int64"
      ]
     },
     "execution_count": 5,
     "metadata": {},
     "output_type": "execute_result"
    }
   ],
   "source": [
    "df.isna().sum()  "
   ]
  },
  {
   "cell_type": "markdown",
   "id": "e6ade118",
   "metadata": {},
   "source": [
    "Колличество пропусков в столбцах `days_employed` и `total_income` одинаковое. Скорее всего, причина пропусков технический сбой, а не человеческий фактор.\n",
    "  Рассчитаем долю пропусков.\n"
   ]
  },
  {
   "cell_type": "code",
   "execution_count": 6,
   "id": "5816b31c",
   "metadata": {},
   "outputs": [
    {
     "data": {
      "text/plain": [
       "children            0.000000\n",
       "days_employed       0.100999\n",
       "dob_years           0.000000\n",
       "education           0.000000\n",
       "education_id        0.000000\n",
       "family_status       0.000000\n",
       "family_status_id    0.000000\n",
       "gender              0.000000\n",
       "income_type         0.000000\n",
       "debt                0.000000\n",
       "total_income        0.100999\n",
       "purpose             0.000000\n",
       "dtype: float64"
      ]
     },
     "execution_count": 6,
     "metadata": {},
     "output_type": "execute_result"
    }
   ],
   "source": [
    "df.isna().mean()"
   ]
  },
  {
   "cell_type": "markdown",
   "id": "be5c0b73",
   "metadata": {},
   "source": [
    "Пропуски занимают примерно 10 процентов."
   ]
  },
  {
   "cell_type": "markdown",
   "id": "d915cfed",
   "metadata": {},
   "source": [
    "Проанализируем столбец  с пропусками `total_income` "
   ]
  },
  {
   "cell_type": "code",
   "execution_count": 7,
   "id": "bbc8b821",
   "metadata": {},
   "outputs": [
    {
     "name": "stdout",
     "output_type": "stream",
     "text": [
      "Максимальной значение total_income 2265604.03\n",
      "Минимальное значение total_income 20667.26\n"
     ]
    }
   ],
   "source": [
    "print('Максимальной значение total_income', round(df['total_income'].max(),2))\n",
    "print('Минимальное значение total_income', round(df['total_income'].min(),2))"
   ]
  },
  {
   "cell_type": "markdown",
   "id": "e907ee17",
   "metadata": {},
   "source": [
    "\n",
    "Столбец принадлежит к типу `float64` \n",
    "\n",
    "Ежемесячный доход **колличественная переменная**. Пропуски в таких переменных заполняют характерными значениями. Возможна замена пропусков средним арефметическим или медианным значениями.\n",
    "\n",
    "Среднее арифметическое некорректно характеризует данные, когда некоторые зачения сильно выделяются среди большинства. Разница между максимальным и минимальным значениями, в нашем случае, огромна.\n",
    "\n"
   ]
  },
  {
   "cell_type": "markdown",
   "id": "89621ca7",
   "metadata": {},
   "source": [
    "Заменим пропуски в столбце `total_income` медианой. Рассчитаем медиану по заработной плате в зависимости от типа занятости.\n",
    "\n",
    "Методом `value_counts()`  узнаем типы занятости и их колличество, и также проверим на дубликаты."
   ]
  },
  {
   "cell_type": "code",
   "execution_count": 8,
   "id": "92826a61",
   "metadata": {
    "scrolled": true
   },
   "outputs": [
    {
     "data": {
      "text/plain": [
       "сотрудник          11119\n",
       "компаньон           5085\n",
       "пенсионер           3856\n",
       "госслужащий         1459\n",
       "безработный            2\n",
       "предприниматель        2\n",
       "студент                1\n",
       "в декрете              1\n",
       "Name: income_type, dtype: int64"
      ]
     },
     "execution_count": 8,
     "metadata": {},
     "output_type": "execute_result"
    }
   ],
   "source": [
    "df['income_type'].value_counts()"
   ]
  },
  {
   "cell_type": "markdown",
   "id": "c83bd0af",
   "metadata": {},
   "source": [
    "\n",
    "Заменим пропуски медианным значением."
   ]
  },
  {
   "cell_type": "code",
   "execution_count": 9,
   "id": "c9e41074",
   "metadata": {},
   "outputs": [],
   "source": [
    "for i in df['income_type'].unique():\n",
    "    df.loc[(df['income_type'] == i) & (df['total_income'].isna()), 'total_income'] = \\\n",
    "    df.loc[(df['income_type'] == i), 'total_income'].median()"
   ]
  },
  {
   "cell_type": "code",
   "execution_count": 10,
   "id": "436d4616",
   "metadata": {},
   "outputs": [
    {
     "name": "stdout",
     "output_type": "stream",
     "text": [
      "Количество пропусков в столбце total_income 0\n"
     ]
    }
   ],
   "source": [
    "print('Количество пропусков в столбце total_income', df['total_income'].isna().sum())"
   ]
  },
  {
   "cell_type": "markdown",
   "id": "de622776",
   "metadata": {},
   "source": [
    "Прпоанализируем второй столбец с пропусками  `days_employed`  \n",
    "Изучим описание столбца"
   ]
  },
  {
   "cell_type": "code",
   "execution_count": 11,
   "id": "2af8f9cf",
   "metadata": {},
   "outputs": [
    {
     "data": {
      "text/plain": [
       "count     19351.000000\n",
       "mean      63046.497661\n",
       "std      140827.311974\n",
       "min      -18388.949901\n",
       "25%       -2747.423625\n",
       "50%       -1203.369529\n",
       "75%        -291.095954\n",
       "max      401755.400475\n",
       "Name: days_employed, dtype: float64"
      ]
     },
     "execution_count": 11,
     "metadata": {},
     "output_type": "execute_result"
    }
   ],
   "source": [
    "df['days_employed'].describe()"
   ]
  },
  {
   "cell_type": "markdown",
   "id": "cf32b28c",
   "metadata": {},
   "source": [
    "\n",
    "\n",
    "Мы видим, что в столбце встречаются аномалии. Это отрицательное колличество дней трудового стажа. И странные - очень большие - максимальные значения.\n",
    "\n",
    "Данный столбец мы не используем в дальнейшем анализе, поэтому можем оставить его без изменений.\n"
   ]
  },
  {
   "cell_type": "markdown",
   "id": "210bd0b6",
   "metadata": {},
   "source": [
    "### Проверка данных на аномалии"
   ]
  },
  {
   "cell_type": "markdown",
   "id": "50191c55",
   "metadata": {},
   "source": [
    "Проверим столбцы таблицы на артефакты, значения которые не отражают действительность.\n",
    "\n",
    "\n",
    "Вызовем метод `value_counts()` и применим его к столбцу `children`"
   ]
  },
  {
   "cell_type": "code",
   "execution_count": 12,
   "id": "8afbf10b",
   "metadata": {
    "scrolled": true
   },
   "outputs": [
    {
     "data": {
      "text/plain": [
       " 0     14149\n",
       " 1      4818\n",
       " 2      2055\n",
       " 3       330\n",
       " 20       76\n",
       "-1        47\n",
       " 4        41\n",
       " 5         9\n",
       "Name: children, dtype: int64"
      ]
     },
     "execution_count": 12,
     "metadata": {},
     "output_type": "execute_result"
    }
   ],
   "source": [
    "df['children'].value_counts()"
   ]
  },
  {
   "cell_type": "markdown",
   "id": "7478048b",
   "metadata": {},
   "source": [
    "В столбце встречаются  аномальные значения \" -1 \"   ребенок в 47 случаях и  \" 20 \"  детей в 76 случаях. \n",
    "\n",
    "Заменим значения на более реалистичные:\n",
    "-  \"-1 \"  на \"1\"  \n",
    "-  \"20\" на цифру \"2\""
   ]
  },
  {
   "cell_type": "code",
   "execution_count": 13,
   "id": "e6f79d9c",
   "metadata": {},
   "outputs": [],
   "source": [
    "df.loc[df['children'] == -1, 'children'] = 1  \n",
    "df.loc[df['children'] == 20, 'children'] = 2"
   ]
  },
  {
   "cell_type": "code",
   "execution_count": 14,
   "id": "1d428a54",
   "metadata": {},
   "outputs": [
    {
     "data": {
      "text/plain": [
       "0    14149\n",
       "1     4865\n",
       "2     2131\n",
       "3      330\n",
       "4       41\n",
       "5        9\n",
       "Name: children, dtype: int64"
      ]
     },
     "execution_count": 14,
     "metadata": {},
     "output_type": "execute_result"
    }
   ],
   "source": [
    "df['children'].value_counts()   #проверили результат"
   ]
  },
  {
   "cell_type": "markdown",
   "id": "03fa5803",
   "metadata": {},
   "source": [
    "Проверим столбцы `education_id`, `family_status_id`,  `debt` методом `value_counts()`"
   ]
  },
  {
   "cell_type": "code",
   "execution_count": 15,
   "id": "ef8e990b",
   "metadata": {},
   "outputs": [
    {
     "data": {
      "text/plain": [
       "1    15233\n",
       "0     5260\n",
       "2      744\n",
       "3      282\n",
       "4        6\n",
       "Name: education_id, dtype: int64"
      ]
     },
     "execution_count": 15,
     "metadata": {},
     "output_type": "execute_result"
    }
   ],
   "source": [
    "df['education_id'].value_counts()"
   ]
  },
  {
   "cell_type": "code",
   "execution_count": 16,
   "id": "de9f858d",
   "metadata": {},
   "outputs": [
    {
     "data": {
      "text/plain": [
       "0    12380\n",
       "1     4177\n",
       "4     2813\n",
       "3     1195\n",
       "2      960\n",
       "Name: family_status_id, dtype: int64"
      ]
     },
     "execution_count": 16,
     "metadata": {},
     "output_type": "execute_result"
    }
   ],
   "source": [
    "df['family_status_id'].value_counts()"
   ]
  },
  {
   "cell_type": "code",
   "execution_count": 17,
   "id": "f3a4267d",
   "metadata": {},
   "outputs": [
    {
     "data": {
      "text/plain": [
       "0    19784\n",
       "1     1741\n",
       "Name: debt, dtype: int64"
      ]
     },
     "execution_count": 17,
     "metadata": {},
     "output_type": "execute_result"
    }
   ],
   "source": [
    "df['debt'].value_counts()"
   ]
  },
  {
   "cell_type": "markdown",
   "id": "f1e2bc83",
   "metadata": {},
   "source": [
    "Записи выглядят корректно."
   ]
  },
  {
   "cell_type": "markdown",
   "id": "169a166e",
   "metadata": {},
   "source": [
    "\n",
    "\n",
    "Проанализируем столбец `dob_years` методом `describe()`  "
   ]
  },
  {
   "cell_type": "code",
   "execution_count": 18,
   "id": "ecd7eec7",
   "metadata": {},
   "outputs": [
    {
     "data": {
      "text/plain": [
       "count    21525.000000\n",
       "mean        43.293380\n",
       "std         12.574584\n",
       "min          0.000000\n",
       "25%         33.000000\n",
       "50%         42.000000\n",
       "75%         53.000000\n",
       "max         75.000000\n",
       "Name: dob_years, dtype: float64"
      ]
     },
     "execution_count": 18,
     "metadata": {},
     "output_type": "execute_result"
    }
   ],
   "source": [
    "df['dob_years'].describe()"
   ]
  },
  {
   "cell_type": "markdown",
   "id": "1b7d83f4",
   "metadata": {},
   "source": [
    "Мы видим, что присутствуют минимальные нулевые значения. Это странно для возраста. \n",
    "\n",
    "Посмотрим дополнительно, как группируются значения"
   ]
  },
  {
   "cell_type": "code",
   "execution_count": 19,
   "id": "1a5f4c0d",
   "metadata": {
    "scrolled": false
   },
   "outputs": [
    {
     "data": {
      "text/plain": [
       "35    617\n",
       "40    609\n",
       "41    607\n",
       "34    603\n",
       "38    598\n",
       "42    597\n",
       "33    581\n",
       "39    573\n",
       "31    560\n",
       "36    555\n",
       "44    547\n",
       "29    545\n",
       "30    540\n",
       "48    538\n",
       "37    537\n",
       "50    514\n",
       "43    513\n",
       "32    510\n",
       "49    508\n",
       "28    503\n",
       "45    497\n",
       "27    493\n",
       "56    487\n",
       "52    484\n",
       "47    480\n",
       "54    479\n",
       "46    475\n",
       "58    461\n",
       "57    460\n",
       "53    459\n",
       "51    448\n",
       "59    444\n",
       "55    443\n",
       "26    408\n",
       "60    377\n",
       "25    357\n",
       "61    355\n",
       "62    352\n",
       "63    269\n",
       "64    265\n",
       "24    264\n",
       "23    254\n",
       "65    194\n",
       "22    183\n",
       "66    183\n",
       "67    167\n",
       "21    111\n",
       "0     101\n",
       "68     99\n",
       "69     85\n",
       "70     65\n",
       "71     58\n",
       "20     51\n",
       "72     33\n",
       "19     14\n",
       "73      8\n",
       "74      6\n",
       "75      1\n",
       "Name: dob_years, dtype: int64"
      ]
     },
     "execution_count": 19,
     "metadata": {},
     "output_type": "execute_result"
    }
   ],
   "source": [
    "df['dob_years'].value_counts()  "
   ]
  },
  {
   "cell_type": "markdown",
   "id": "5f775b93",
   "metadata": {},
   "source": [
    "Значение 0 встречается в 101 случае\n",
    "\n",
    "Переменная возраста является колличественной. Заменим нули характерными значениями. В данном случае возможно заменить средним арифметическим, так как нет резко выбивающихся значений."
   ]
  },
  {
   "cell_type": "code",
   "execution_count": 20,
   "id": "5e24cfb7",
   "metadata": {},
   "outputs": [],
   "source": [
    "df.loc[df['dob_years'] == 0, 'dob_years'] = df['dob_years'].mean()"
   ]
  },
  {
   "cell_type": "markdown",
   "id": "fddbad75",
   "metadata": {},
   "source": [
    "### Удаление дубликатов"
   ]
  },
  {
   "cell_type": "markdown",
   "id": "435876a8",
   "metadata": {},
   "source": [
    "Посчитаем явные дубликаты в таблице. Удалим дубликаты с удалением старых индексов и формированием новых. "
   ]
  },
  {
   "cell_type": "code",
   "execution_count": 24,
   "id": "7cb0f86c",
   "metadata": {},
   "outputs": [
    {
     "data": {
      "text/plain": [
       "54"
      ]
     },
     "execution_count": 24,
     "metadata": {},
     "output_type": "execute_result"
    }
   ],
   "source": [
    "df.duplicated().sum() #  подсчет дубликатов"
   ]
  },
  {
   "cell_type": "code",
   "execution_count": 25,
   "id": "99fa14aa",
   "metadata": {},
   "outputs": [],
   "source": [
    "df = df.drop_duplicates().reset_index(drop=True) # удаление дубликатов"
   ]
  },
  {
   "cell_type": "code",
   "execution_count": 26,
   "id": "fc9b7989",
   "metadata": {},
   "outputs": [
    {
     "data": {
      "text/plain": [
       "0"
      ]
     },
     "execution_count": 26,
     "metadata": {},
     "output_type": "execute_result"
    }
   ],
   "source": [
    "df.duplicated().sum() # проверили удаление дубликатов"
   ]
  },
  {
   "cell_type": "markdown",
   "id": "9362980f",
   "metadata": {},
   "source": [
    "Проверим наличие неявных дубликатов. Применим метод `value_counts()`, который выбирает каждое уникальное значение и подсчитывает частоту его встречаемости в списке.\n",
    "\n",
    "Проверим столбец `education`"
   ]
  },
  {
   "cell_type": "code",
   "execution_count": 27,
   "id": "1ac1821b",
   "metadata": {
    "scrolled": false
   },
   "outputs": [
    {
     "data": {
      "text/plain": [
       "среднее                13705\n",
       "высшее                  4710\n",
       "СРЕДНЕЕ                  772\n",
       "Среднее                  711\n",
       "неоконченное высшее      668\n",
       "ВЫСШЕЕ                   273\n",
       "Высшее                   268\n",
       "начальное                250\n",
       "Неоконченное высшее       47\n",
       "НЕОКОНЧЕННОЕ ВЫСШЕЕ       29\n",
       "НАЧАЛЬНОЕ                 17\n",
       "Начальное                 15\n",
       "ученая степень             4\n",
       "Ученая степень             1\n",
       "УЧЕНАЯ СТЕПЕНЬ             1\n",
       "Name: education, dtype: int64"
      ]
     },
     "execution_count": 27,
     "metadata": {},
     "output_type": "execute_result"
    }
   ],
   "source": [
    "df['education'].value_counts() # проверим столбец 'education'"
   ]
  },
  {
   "cell_type": "markdown",
   "id": "0bc3f3a7",
   "metadata": {},
   "source": [
    "Строки отличаются регистром букв. Чтобы учесть такие дубликаты приведем все строки к нижнему регистру с помощью метода `str.lower()`"
   ]
  },
  {
   "cell_type": "code",
   "execution_count": 28,
   "id": "3297e16e",
   "metadata": {},
   "outputs": [],
   "source": [
    "df['education'] = df['education'].str.lower() # привели к нижнему регистру, перезаписали столбец"
   ]
  },
  {
   "cell_type": "code",
   "execution_count": 29,
   "id": "a8f75878",
   "metadata": {
    "scrolled": true
   },
   "outputs": [
    {
     "data": {
      "text/plain": [
       "среднее                15188\n",
       "высшее                  5251\n",
       "неоконченное высшее      744\n",
       "начальное                282\n",
       "ученая степень             6\n",
       "Name: education, dtype: int64"
      ]
     },
     "execution_count": 29,
     "metadata": {},
     "output_type": "execute_result"
    }
   ],
   "source": [
    "df['education'].value_counts()  #  проверили результат"
   ]
  },
  {
   "cell_type": "markdown",
   "id": "0504feb7",
   "metadata": {},
   "source": [
    "Проверим столбец `family_status`"
   ]
  },
  {
   "cell_type": "code",
   "execution_count": 30,
   "id": "52f8af92",
   "metadata": {
    "scrolled": true
   },
   "outputs": [
    {
     "data": {
      "text/plain": [
       "женат / замужем          12344\n",
       "гражданский брак          4163\n",
       "Не женат / не замужем     2810\n",
       "в разводе                 1195\n",
       "вдовец / вдова             959\n",
       "Name: family_status, dtype: int64"
      ]
     },
     "execution_count": 30,
     "metadata": {},
     "output_type": "execute_result"
    }
   ],
   "source": [
    "df['family_status'].value_counts()  # проверили на неявные дубликаты"
   ]
  },
  {
   "cell_type": "markdown",
   "id": "62b260bf",
   "metadata": {},
   "source": [
    "\n",
    "Приведем строки к нижнему регистру."
   ]
  },
  {
   "cell_type": "code",
   "execution_count": 31,
   "id": "6131a134",
   "metadata": {},
   "outputs": [],
   "source": [
    "df['family_status'] = df['family_status'].str.lower()  # привели к нижнему регистру, перезаписали столбец"
   ]
  },
  {
   "cell_type": "code",
   "execution_count": 32,
   "id": "e0454494",
   "metadata": {
    "scrolled": true
   },
   "outputs": [
    {
     "data": {
      "text/plain": [
       "женат / замужем          12344\n",
       "гражданский брак          4163\n",
       "не женат / не замужем     2810\n",
       "в разводе                 1195\n",
       "вдовец / вдова             959\n",
       "Name: family_status, dtype: int64"
      ]
     },
     "execution_count": 32,
     "metadata": {},
     "output_type": "execute_result"
    }
   ],
   "source": [
    "df['family_status'].value_counts()   #  проверили результат"
   ]
  },
  {
   "cell_type": "markdown",
   "id": "0db40140",
   "metadata": {},
   "source": [
    "Проверим столбец `gender`"
   ]
  },
  {
   "cell_type": "code",
   "execution_count": 33,
   "id": "c505b3a1",
   "metadata": {},
   "outputs": [
    {
     "data": {
      "text/plain": [
       "F      14189\n",
       "M       7281\n",
       "XNA        1\n",
       "Name: gender, dtype: int64"
      ]
     },
     "execution_count": 33,
     "metadata": {},
     "output_type": "execute_result"
    }
   ],
   "source": [
    "df['gender'].value_counts()  # проверили на неявные дубликаты"
   ]
  },
  {
   "cell_type": "markdown",
   "id": "dc26cbd3",
   "metadata": {
    "scrolled": true
   },
   "source": [
    "В столбце один раз появилось странное указание пола `XNA`. Его можно опредилить как пропуск, переменная является категориальной. Возможно, пол не указан намеренно. \n",
    "\n",
    "По содержанию строки невозможно опредилить мужчина это или женщина. Так как значение всего одно заменим его вручную."
   ]
  },
  {
   "cell_type": "code",
   "execution_count": 34,
   "id": "33e163ad",
   "metadata": {},
   "outputs": [],
   "source": [
    "df.loc[df['gender'] == 'XNA', 'gender'] = 'M' # заменили значение"
   ]
  },
  {
   "cell_type": "code",
   "execution_count": 35,
   "id": "49ef5e48",
   "metadata": {
    "scrolled": false
   },
   "outputs": [
    {
     "data": {
      "text/plain": [
       "F    14189\n",
       "M     7282\n",
       "Name: gender, dtype: int64"
      ]
     },
     "execution_count": 35,
     "metadata": {},
     "output_type": "execute_result"
    }
   ],
   "source": [
    "df['gender'].value_counts()  # проверим результат"
   ]
  },
  {
   "cell_type": "markdown",
   "id": "26324b01",
   "metadata": {},
   "source": [
    "После приведения строк к нижнему регистру, повторно посчитаем дубликаты и удалим."
   ]
  },
  {
   "cell_type": "code",
   "execution_count": 36,
   "id": "e755c006",
   "metadata": {},
   "outputs": [
    {
     "data": {
      "text/plain": [
       "17"
      ]
     },
     "execution_count": 36,
     "metadata": {},
     "output_type": "execute_result"
    }
   ],
   "source": [
    "df.duplicated().sum() #  подсчет дубликатов"
   ]
  },
  {
   "cell_type": "code",
   "execution_count": 37,
   "id": "d676eaec",
   "metadata": {},
   "outputs": [],
   "source": [
    "df = df.drop_duplicates().reset_index(drop=True)  # удаление дубликатов"
   ]
  },
  {
   "cell_type": "code",
   "execution_count": 38,
   "id": "79f6f75b",
   "metadata": {
    "scrolled": true
   },
   "outputs": [
    {
     "data": {
      "text/plain": [
       "0"
      ]
     },
     "execution_count": 38,
     "metadata": {},
     "output_type": "execute_result"
    }
   ],
   "source": [
    "df.duplicated().sum()  # проверили результат"
   ]
  },
  {
   "cell_type": "code",
   "execution_count": 39,
   "id": "38900421",
   "metadata": {},
   "outputs": [
    {
     "name": "stdout",
     "output_type": "stream",
     "text": [
      "<class 'pandas.core.frame.DataFrame'>\n",
      "RangeIndex: 21454 entries, 0 to 21453\n",
      "Data columns (total 12 columns):\n",
      " #   Column            Non-Null Count  Dtype  \n",
      "---  ------            --------------  -----  \n",
      " 0   children          21454 non-null  int64  \n",
      " 1   days_employed     19351 non-null  float64\n",
      " 2   dob_years         21454 non-null  float64\n",
      " 3   education         21454 non-null  object \n",
      " 4   education_id      21454 non-null  int64  \n",
      " 5   family_status     21454 non-null  object \n",
      " 6   family_status_id  21454 non-null  int64  \n",
      " 7   gender            21454 non-null  object \n",
      " 8   income_type       21454 non-null  object \n",
      " 9   debt              21454 non-null  int64  \n",
      " 10  total_income      21454 non-null  int32  \n",
      " 11  purpose           21454 non-null  object \n",
      "dtypes: float64(2), int32(1), int64(4), object(5)\n",
      "memory usage: 1.9+ MB\n"
     ]
    }
   ],
   "source": [
    "df.info() # проверили информацию"
   ]
  },
  {
   "cell_type": "markdown",
   "id": "6bb03e03",
   "metadata": {},
   "source": [
    "Проверим столбец  `purpose`,   методом `value_counts()`"
   ]
  },
  {
   "cell_type": "code",
   "execution_count": 40,
   "id": "60c6bbf8",
   "metadata": {},
   "outputs": [
    {
     "data": {
      "text/plain": [
       "свадьба                                   791\n",
       "на проведение свадьбы                     768\n",
       "сыграть свадьбу                           765\n",
       "операции с недвижимостью                  675\n",
       "покупка коммерческой недвижимости         661\n",
       "операции с жильем                         652\n",
       "покупка жилья для сдачи                   651\n",
       "операции с коммерческой недвижимостью     650\n",
       "покупка жилья                             646\n",
       "жилье                                     646\n",
       "покупка жилья для семьи                   638\n",
       "строительство собственной недвижимости    635\n",
       "недвижимость                              633\n",
       "операции со своей недвижимостью           627\n",
       "строительство жилой недвижимости          624\n",
       "покупка недвижимости                      621\n",
       "покупка своего жилья                      620\n",
       "строительство недвижимости                619\n",
       "ремонт жилью                              607\n",
       "покупка жилой недвижимости                606\n",
       "на покупку своего автомобиля              505\n",
       "заняться высшим образованием              496\n",
       "автомобиль                                494\n",
       "сделка с подержанным автомобилем          486\n",
       "свой автомобиль                           478\n",
       "на покупку подержанного автомобиля        478\n",
       "автомобили                                478\n",
       "на покупку автомобиля                     471\n",
       "приобретение автомобиля                   461\n",
       "дополнительное образование                460\n",
       "сделка с автомобилем                      455\n",
       "высшее образование                        452\n",
       "образование                               447\n",
       "получение дополнительного образования     446\n",
       "получение образования                     442\n",
       "профильное образование                    436\n",
       "получение высшего образования             426\n",
       "заняться образованием                     408\n",
       "Name: purpose, dtype: int64"
      ]
     },
     "execution_count": 40,
     "metadata": {},
     "output_type": "execute_result"
    }
   ],
   "source": [
    "df['purpose'].value_counts() "
   ]
  },
  {
   "cell_type": "markdown",
   "id": "bbd1cf36",
   "metadata": {},
   "source": [
    "Мы видим, что значения указаны в нижнем регистре. \n",
    "\n",
    "Однако, одна и таже по содержанию цель, названа разными словами. \n",
    "\n",
    "Тем не менее встречаются ключевые слова.\n",
    "\n",
    "Это поможет нам в дальнейшем разделить цели получения кредита на категории."
   ]
  },
  {
   "cell_type": "markdown",
   "id": "9eeefa10",
   "metadata": {},
   "source": [
    "###  Формирование дополнительных датафреймов-словарей, декомпозиция исходного датафрейма."
   ]
  },
  {
   "cell_type": "markdown",
   "id": "c743a751",
   "metadata": {},
   "source": [
    "Столбцы с названием уровня образования клиента и семейного положения хранятся в виде строк разной длины. Такой спосо хранения не оптимален:\n",
    "- усложняется визуальная работа с таблицей\n",
    "- увеличивается размер данных и время обработки данных\n",
    "- приходится набирать полное название, чтобы отфильтровать данные\n",
    "- создание новых категорий и изменение старых отнимает много времени\n",
    "\n",
    "\n",
    "Создадим отдельные \"словари\" для сохранения информации, где названию категории будет соответствовать номер, чтобы обращатся не к длинной строке, а к ее числовому обозначению.\n",
    "\n",
    "В словарях удалим дубликаты\n",
    "\n",
    "В исходном датафрейме удалим ставшие ненужными столбцы. Наша таблица станет более \"легкой\""
   ]
  },
  {
   "cell_type": "code",
   "execution_count": 41,
   "id": "37e79e83",
   "metadata": {},
   "outputs": [],
   "source": [
    "df_education_id_dict = df[['education_id', 'education']] # создание словаря для типа образования"
   ]
  },
  {
   "cell_type": "code",
   "execution_count": 42,
   "id": "068e9a4d",
   "metadata": {
    "scrolled": false
   },
   "outputs": [
    {
     "data": {
      "text/plain": [
       "среднее                15172\n",
       "высшее                  5250\n",
       "неоконченное высшее      744\n",
       "начальное                282\n",
       "ученая степень             6\n",
       "Name: education, dtype: int64"
      ]
     },
     "execution_count": 42,
     "metadata": {},
     "output_type": "execute_result"
    }
   ],
   "source": [
    "df_education_id_dict['education'].value_counts() # проверим словарь на дубликаты"
   ]
  },
  {
   "cell_type": "markdown",
   "id": "7baa6a74",
   "metadata": {},
   "source": [
    "В словаре присутствует большое количество дубликатов. Удалим их методом `drop_duplicates()`, обновим и перезапишем индексацию с помощью  `reset_index(drop=True)`"
   ]
  },
  {
   "cell_type": "code",
   "execution_count": 43,
   "id": "325e0435",
   "metadata": {},
   "outputs": [
    {
     "data": {
      "text/html": [
       "<div>\n",
       "<style scoped>\n",
       "    .dataframe tbody tr th:only-of-type {\n",
       "        vertical-align: middle;\n",
       "    }\n",
       "\n",
       "    .dataframe tbody tr th {\n",
       "        vertical-align: top;\n",
       "    }\n",
       "\n",
       "    .dataframe thead th {\n",
       "        text-align: right;\n",
       "    }\n",
       "</style>\n",
       "<table border=\"1\" class=\"dataframe\">\n",
       "  <thead>\n",
       "    <tr style=\"text-align: right;\">\n",
       "      <th></th>\n",
       "      <th>education_id</th>\n",
       "      <th>education</th>\n",
       "    </tr>\n",
       "  </thead>\n",
       "  <tbody>\n",
       "    <tr>\n",
       "      <th>0</th>\n",
       "      <td>0</td>\n",
       "      <td>высшее</td>\n",
       "    </tr>\n",
       "    <tr>\n",
       "      <th>1</th>\n",
       "      <td>1</td>\n",
       "      <td>среднее</td>\n",
       "    </tr>\n",
       "    <tr>\n",
       "      <th>2</th>\n",
       "      <td>2</td>\n",
       "      <td>неоконченное высшее</td>\n",
       "    </tr>\n",
       "    <tr>\n",
       "      <th>3</th>\n",
       "      <td>3</td>\n",
       "      <td>начальное</td>\n",
       "    </tr>\n",
       "    <tr>\n",
       "      <th>4</th>\n",
       "      <td>4</td>\n",
       "      <td>ученая степень</td>\n",
       "    </tr>\n",
       "  </tbody>\n",
       "</table>\n",
       "</div>"
      ],
      "text/plain": [
       "   education_id            education\n",
       "0             0               высшее\n",
       "1             1              среднее\n",
       "2             2  неоконченное высшее\n",
       "3             3            начальное\n",
       "4             4       ученая степень"
      ]
     },
     "execution_count": 43,
     "metadata": {},
     "output_type": "execute_result"
    }
   ],
   "source": [
    "df_education_id_dict = df_education_id_dict.drop_duplicates().reset_index(drop=True) # удалим дубликаты\n",
    "df_education_id_dict"
   ]
  },
  {
   "cell_type": "markdown",
   "id": "568ed2dc",
   "metadata": {},
   "source": [
    "Повторим действия для второго словаря."
   ]
  },
  {
   "cell_type": "code",
   "execution_count": 44,
   "id": "35cd3eeb",
   "metadata": {},
   "outputs": [],
   "source": [
    "df_family_status_id_dict = df[['family_status_id', 'family_status']]  # создание словаря"
   ]
  },
  {
   "cell_type": "code",
   "execution_count": 45,
   "id": "baa0a618",
   "metadata": {
    "scrolled": true
   },
   "outputs": [
    {
     "data": {
      "text/plain": [
       "женат / замужем          12339\n",
       "гражданский брак          4151\n",
       "не женат / не замужем     2810\n",
       "в разводе                 1195\n",
       "вдовец / вдова             959\n",
       "Name: family_status, dtype: int64"
      ]
     },
     "execution_count": 45,
     "metadata": {},
     "output_type": "execute_result"
    }
   ],
   "source": [
    "df_family_status_id_dict['family_status'].value_counts()  # проверим на дубликаты"
   ]
  },
  {
   "cell_type": "code",
   "execution_count": 46,
   "id": "0f5e8b3c",
   "metadata": {},
   "outputs": [
    {
     "data": {
      "text/html": [
       "<div>\n",
       "<style scoped>\n",
       "    .dataframe tbody tr th:only-of-type {\n",
       "        vertical-align: middle;\n",
       "    }\n",
       "\n",
       "    .dataframe tbody tr th {\n",
       "        vertical-align: top;\n",
       "    }\n",
       "\n",
       "    .dataframe thead th {\n",
       "        text-align: right;\n",
       "    }\n",
       "</style>\n",
       "<table border=\"1\" class=\"dataframe\">\n",
       "  <thead>\n",
       "    <tr style=\"text-align: right;\">\n",
       "      <th></th>\n",
       "      <th>family_status_id</th>\n",
       "      <th>family_status</th>\n",
       "    </tr>\n",
       "  </thead>\n",
       "  <tbody>\n",
       "    <tr>\n",
       "      <th>0</th>\n",
       "      <td>0</td>\n",
       "      <td>женат / замужем</td>\n",
       "    </tr>\n",
       "    <tr>\n",
       "      <th>1</th>\n",
       "      <td>1</td>\n",
       "      <td>гражданский брак</td>\n",
       "    </tr>\n",
       "    <tr>\n",
       "      <th>2</th>\n",
       "      <td>2</td>\n",
       "      <td>вдовец / вдова</td>\n",
       "    </tr>\n",
       "    <tr>\n",
       "      <th>3</th>\n",
       "      <td>3</td>\n",
       "      <td>в разводе</td>\n",
       "    </tr>\n",
       "    <tr>\n",
       "      <th>4</th>\n",
       "      <td>4</td>\n",
       "      <td>не женат / не замужем</td>\n",
       "    </tr>\n",
       "  </tbody>\n",
       "</table>\n",
       "</div>"
      ],
      "text/plain": [
       "   family_status_id          family_status\n",
       "0                 0        женат / замужем\n",
       "1                 1       гражданский брак\n",
       "2                 2         вдовец / вдова\n",
       "3                 3              в разводе\n",
       "4                 4  не женат / не замужем"
      ]
     },
     "execution_count": 46,
     "metadata": {},
     "output_type": "execute_result"
    }
   ],
   "source": [
    "df_family_status_id_dict = df_family_status_id_dict.drop_duplicates().reset_index(drop=True) # удалим дубликаты\n",
    "df_family_status_id_dict"
   ]
  },
  {
   "cell_type": "markdown",
   "id": "b36ef47f",
   "metadata": {},
   "source": [
    "\n",
    "\n",
    "В исходной таблице удалим столбцы `family_status` и `education` , оставив только их идентефикаторы `family_status_id` и `education_id`\n",
    "\n"
   ]
  },
  {
   "cell_type": "code",
   "execution_count": 47,
   "id": "af82972c",
   "metadata": {},
   "outputs": [],
   "source": [
    "df_new = df.drop(columns=['education', 'family_status'])  # удаление столбцов"
   ]
  },
  {
   "cell_type": "code",
   "execution_count": 48,
   "id": "f12c7930",
   "metadata": {
    "scrolled": true
   },
   "outputs": [
    {
     "data": {
      "text/html": [
       "<div>\n",
       "<style scoped>\n",
       "    .dataframe tbody tr th:only-of-type {\n",
       "        vertical-align: middle;\n",
       "    }\n",
       "\n",
       "    .dataframe tbody tr th {\n",
       "        vertical-align: top;\n",
       "    }\n",
       "\n",
       "    .dataframe thead th {\n",
       "        text-align: right;\n",
       "    }\n",
       "</style>\n",
       "<table border=\"1\" class=\"dataframe\">\n",
       "  <thead>\n",
       "    <tr style=\"text-align: right;\">\n",
       "      <th></th>\n",
       "      <th>children</th>\n",
       "      <th>days_employed</th>\n",
       "      <th>dob_years</th>\n",
       "      <th>education_id</th>\n",
       "      <th>family_status_id</th>\n",
       "      <th>gender</th>\n",
       "      <th>income_type</th>\n",
       "      <th>debt</th>\n",
       "      <th>total_income</th>\n",
       "      <th>purpose</th>\n",
       "    </tr>\n",
       "  </thead>\n",
       "  <tbody>\n",
       "    <tr>\n",
       "      <th>0</th>\n",
       "      <td>1</td>\n",
       "      <td>-8437.673028</td>\n",
       "      <td>42.0</td>\n",
       "      <td>0</td>\n",
       "      <td>0</td>\n",
       "      <td>F</td>\n",
       "      <td>сотрудник</td>\n",
       "      <td>0</td>\n",
       "      <td>253875</td>\n",
       "      <td>покупка жилья</td>\n",
       "    </tr>\n",
       "    <tr>\n",
       "      <th>1</th>\n",
       "      <td>1</td>\n",
       "      <td>-4024.803754</td>\n",
       "      <td>36.0</td>\n",
       "      <td>1</td>\n",
       "      <td>0</td>\n",
       "      <td>F</td>\n",
       "      <td>сотрудник</td>\n",
       "      <td>0</td>\n",
       "      <td>112080</td>\n",
       "      <td>приобретение автомобиля</td>\n",
       "    </tr>\n",
       "    <tr>\n",
       "      <th>2</th>\n",
       "      <td>0</td>\n",
       "      <td>-5623.422610</td>\n",
       "      <td>33.0</td>\n",
       "      <td>1</td>\n",
       "      <td>0</td>\n",
       "      <td>M</td>\n",
       "      <td>сотрудник</td>\n",
       "      <td>0</td>\n",
       "      <td>145885</td>\n",
       "      <td>покупка жилья</td>\n",
       "    </tr>\n",
       "    <tr>\n",
       "      <th>3</th>\n",
       "      <td>3</td>\n",
       "      <td>-4124.747207</td>\n",
       "      <td>32.0</td>\n",
       "      <td>1</td>\n",
       "      <td>0</td>\n",
       "      <td>M</td>\n",
       "      <td>сотрудник</td>\n",
       "      <td>0</td>\n",
       "      <td>267628</td>\n",
       "      <td>дополнительное образование</td>\n",
       "    </tr>\n",
       "    <tr>\n",
       "      <th>4</th>\n",
       "      <td>0</td>\n",
       "      <td>340266.072047</td>\n",
       "      <td>53.0</td>\n",
       "      <td>1</td>\n",
       "      <td>1</td>\n",
       "      <td>F</td>\n",
       "      <td>пенсионер</td>\n",
       "      <td>0</td>\n",
       "      <td>158616</td>\n",
       "      <td>сыграть свадьбу</td>\n",
       "    </tr>\n",
       "    <tr>\n",
       "      <th>5</th>\n",
       "      <td>0</td>\n",
       "      <td>-926.185831</td>\n",
       "      <td>27.0</td>\n",
       "      <td>0</td>\n",
       "      <td>1</td>\n",
       "      <td>M</td>\n",
       "      <td>компаньон</td>\n",
       "      <td>0</td>\n",
       "      <td>255763</td>\n",
       "      <td>покупка жилья</td>\n",
       "    </tr>\n",
       "    <tr>\n",
       "      <th>6</th>\n",
       "      <td>0</td>\n",
       "      <td>-2879.202052</td>\n",
       "      <td>43.0</td>\n",
       "      <td>0</td>\n",
       "      <td>0</td>\n",
       "      <td>F</td>\n",
       "      <td>компаньон</td>\n",
       "      <td>0</td>\n",
       "      <td>240525</td>\n",
       "      <td>операции с жильем</td>\n",
       "    </tr>\n",
       "    <tr>\n",
       "      <th>7</th>\n",
       "      <td>0</td>\n",
       "      <td>-152.779569</td>\n",
       "      <td>50.0</td>\n",
       "      <td>1</td>\n",
       "      <td>0</td>\n",
       "      <td>M</td>\n",
       "      <td>сотрудник</td>\n",
       "      <td>0</td>\n",
       "      <td>135823</td>\n",
       "      <td>образование</td>\n",
       "    </tr>\n",
       "    <tr>\n",
       "      <th>8</th>\n",
       "      <td>2</td>\n",
       "      <td>-6929.865299</td>\n",
       "      <td>35.0</td>\n",
       "      <td>0</td>\n",
       "      <td>1</td>\n",
       "      <td>F</td>\n",
       "      <td>сотрудник</td>\n",
       "      <td>0</td>\n",
       "      <td>95856</td>\n",
       "      <td>на проведение свадьбы</td>\n",
       "    </tr>\n",
       "    <tr>\n",
       "      <th>9</th>\n",
       "      <td>0</td>\n",
       "      <td>-2188.756445</td>\n",
       "      <td>41.0</td>\n",
       "      <td>1</td>\n",
       "      <td>0</td>\n",
       "      <td>M</td>\n",
       "      <td>сотрудник</td>\n",
       "      <td>0</td>\n",
       "      <td>144425</td>\n",
       "      <td>покупка жилья для семьи</td>\n",
       "    </tr>\n",
       "  </tbody>\n",
       "</table>\n",
       "</div>"
      ],
      "text/plain": [
       "   children  days_employed  dob_years  education_id  family_status_id gender  \\\n",
       "0         1   -8437.673028       42.0             0                 0      F   \n",
       "1         1   -4024.803754       36.0             1                 0      F   \n",
       "2         0   -5623.422610       33.0             1                 0      M   \n",
       "3         3   -4124.747207       32.0             1                 0      M   \n",
       "4         0  340266.072047       53.0             1                 1      F   \n",
       "5         0    -926.185831       27.0             0                 1      M   \n",
       "6         0   -2879.202052       43.0             0                 0      F   \n",
       "7         0    -152.779569       50.0             1                 0      M   \n",
       "8         2   -6929.865299       35.0             0                 1      F   \n",
       "9         0   -2188.756445       41.0             1                 0      M   \n",
       "\n",
       "  income_type  debt  total_income                     purpose  \n",
       "0   сотрудник     0        253875               покупка жилья  \n",
       "1   сотрудник     0        112080     приобретение автомобиля  \n",
       "2   сотрудник     0        145885               покупка жилья  \n",
       "3   сотрудник     0        267628  дополнительное образование  \n",
       "4   пенсионер     0        158616             сыграть свадьбу  \n",
       "5   компаньон     0        255763               покупка жилья  \n",
       "6   компаньон     0        240525           операции с жильем  \n",
       "7   сотрудник     0        135823                 образование  \n",
       "8   сотрудник     0         95856       на проведение свадьбы  \n",
       "9   сотрудник     0        144425     покупка жилья для семьи  "
      ]
     },
     "execution_count": 48,
     "metadata": {},
     "output_type": "execute_result"
    }
   ],
   "source": [
    "df_new.head(10) # посмотрим 10 строк новой таблицы"
   ]
  },
  {
   "cell_type": "code",
   "execution_count": 49,
   "id": "0886fca8",
   "metadata": {},
   "outputs": [
    {
     "name": "stdout",
     "output_type": "stream",
     "text": [
      "<class 'pandas.core.frame.DataFrame'>\n",
      "RangeIndex: 21454 entries, 0 to 21453\n",
      "Data columns (total 10 columns):\n",
      " #   Column            Non-Null Count  Dtype  \n",
      "---  ------            --------------  -----  \n",
      " 0   children          21454 non-null  int64  \n",
      " 1   days_employed     19351 non-null  float64\n",
      " 2   dob_years         21454 non-null  float64\n",
      " 3   education_id      21454 non-null  int64  \n",
      " 4   family_status_id  21454 non-null  int64  \n",
      " 5   gender            21454 non-null  object \n",
      " 6   income_type       21454 non-null  object \n",
      " 7   debt              21454 non-null  int64  \n",
      " 8   total_income      21454 non-null  int32  \n",
      " 9   purpose           21454 non-null  object \n",
      "dtypes: float64(2), int32(1), int64(4), object(3)\n",
      "memory usage: 1.6+ MB\n"
     ]
    }
   ],
   "source": [
    "df_new.info()"
   ]
  },
  {
   "cell_type": "markdown",
   "id": "2518c192",
   "metadata": {},
   "source": [
    "**Вывод**\n",
    "\n",
    "На этапе предобработки данных выполнили следующие шаги\n",
    "\n",
    " - заполнили пропуски, где это было необходимо\n",
    " - исправили аномалии\n",
    " - удалили дубликаты явные и неявные\n",
    " - декомпозировали исходный датафрейм, создали дополнительные словари"
   ]
  },
  {
   "cell_type": "markdown",
   "id": "6ebc47f0",
   "metadata": {},
   "source": [
    "## Анализ данных"
   ]
  },
  {
   "cell_type": "markdown",
   "id": "f80e44c3",
   "metadata": {},
   "source": [
    "**Категоризация дохода**"
   ]
  },
  {
   "cell_type": "markdown",
   "id": "2728f19b",
   "metadata": {},
   "source": [
    "Для дальнейшего исследования необходимо сгруппировать данные, чтобы численности каждой группы хватило для формулировки выводов.\n",
    "\n",
    "Нужна категоризация  - объединение данных в категории. \n",
    "\n",
    "Распределим клиентов банка на группы по доходам.\n",
    "\n",
    "Для этого напишем функцию и по итогам ее работы создадим дополнительный столбец для категорий дохода."
   ]
  },
  {
   "cell_type": "code",
   "execution_count": 50,
   "id": "57273205",
   "metadata": {},
   "outputs": [],
   "source": [
    "def total_income_group(total_income): \n",
    "    if total_income <= 30000:\n",
    "        return 'E'\n",
    "    if total_income <= 50000:\n",
    "        return 'D'\n",
    "    if total_income <= 200000:\n",
    "        return 'C'\n",
    "    if total_income <= 1000000:\n",
    "        return 'B'\n",
    "    return 'A'"
   ]
  },
  {
   "cell_type": "code",
   "execution_count": 51,
   "id": "c022de61",
   "metadata": {},
   "outputs": [
    {
     "name": "stdout",
     "output_type": "stream",
     "text": [
      "A\n",
      "B\n",
      "C\n",
      "D\n",
      "E\n"
     ]
    }
   ],
   "source": [
    "print(total_income_group(10000000))\n",
    "print(total_income_group(300000))\n",
    "print(total_income_group(170000))\n",
    "print(total_income_group(45000))\n",
    "print(total_income_group(25000))   # протестируем работу функции"
   ]
  },
  {
   "cell_type": "code",
   "execution_count": 52,
   "id": "47c61d17",
   "metadata": {},
   "outputs": [],
   "source": [
    "df_new['total_income_category'] = df_new['total_income'].apply(total_income_group) # создали дополнительный столбец с категориями дохода"
   ]
  },
  {
   "cell_type": "code",
   "execution_count": 53,
   "id": "c9099e5c",
   "metadata": {
    "scrolled": true
   },
   "outputs": [
    {
     "data": {
      "text/html": [
       "<div>\n",
       "<style scoped>\n",
       "    .dataframe tbody tr th:only-of-type {\n",
       "        vertical-align: middle;\n",
       "    }\n",
       "\n",
       "    .dataframe tbody tr th {\n",
       "        vertical-align: top;\n",
       "    }\n",
       "\n",
       "    .dataframe thead th {\n",
       "        text-align: right;\n",
       "    }\n",
       "</style>\n",
       "<table border=\"1\" class=\"dataframe\">\n",
       "  <thead>\n",
       "    <tr style=\"text-align: right;\">\n",
       "      <th></th>\n",
       "      <th>children</th>\n",
       "      <th>days_employed</th>\n",
       "      <th>dob_years</th>\n",
       "      <th>education_id</th>\n",
       "      <th>family_status_id</th>\n",
       "      <th>gender</th>\n",
       "      <th>income_type</th>\n",
       "      <th>debt</th>\n",
       "      <th>total_income</th>\n",
       "      <th>purpose</th>\n",
       "      <th>total_income_category</th>\n",
       "    </tr>\n",
       "  </thead>\n",
       "  <tbody>\n",
       "    <tr>\n",
       "      <th>0</th>\n",
       "      <td>1</td>\n",
       "      <td>-8437.673028</td>\n",
       "      <td>42.0</td>\n",
       "      <td>0</td>\n",
       "      <td>0</td>\n",
       "      <td>F</td>\n",
       "      <td>сотрудник</td>\n",
       "      <td>0</td>\n",
       "      <td>253875</td>\n",
       "      <td>покупка жилья</td>\n",
       "      <td>B</td>\n",
       "    </tr>\n",
       "    <tr>\n",
       "      <th>1</th>\n",
       "      <td>1</td>\n",
       "      <td>-4024.803754</td>\n",
       "      <td>36.0</td>\n",
       "      <td>1</td>\n",
       "      <td>0</td>\n",
       "      <td>F</td>\n",
       "      <td>сотрудник</td>\n",
       "      <td>0</td>\n",
       "      <td>112080</td>\n",
       "      <td>приобретение автомобиля</td>\n",
       "      <td>C</td>\n",
       "    </tr>\n",
       "    <tr>\n",
       "      <th>2</th>\n",
       "      <td>0</td>\n",
       "      <td>-5623.422610</td>\n",
       "      <td>33.0</td>\n",
       "      <td>1</td>\n",
       "      <td>0</td>\n",
       "      <td>M</td>\n",
       "      <td>сотрудник</td>\n",
       "      <td>0</td>\n",
       "      <td>145885</td>\n",
       "      <td>покупка жилья</td>\n",
       "      <td>C</td>\n",
       "    </tr>\n",
       "    <tr>\n",
       "      <th>3</th>\n",
       "      <td>3</td>\n",
       "      <td>-4124.747207</td>\n",
       "      <td>32.0</td>\n",
       "      <td>1</td>\n",
       "      <td>0</td>\n",
       "      <td>M</td>\n",
       "      <td>сотрудник</td>\n",
       "      <td>0</td>\n",
       "      <td>267628</td>\n",
       "      <td>дополнительное образование</td>\n",
       "      <td>B</td>\n",
       "    </tr>\n",
       "    <tr>\n",
       "      <th>4</th>\n",
       "      <td>0</td>\n",
       "      <td>340266.072047</td>\n",
       "      <td>53.0</td>\n",
       "      <td>1</td>\n",
       "      <td>1</td>\n",
       "      <td>F</td>\n",
       "      <td>пенсионер</td>\n",
       "      <td>0</td>\n",
       "      <td>158616</td>\n",
       "      <td>сыграть свадьбу</td>\n",
       "      <td>C</td>\n",
       "    </tr>\n",
       "  </tbody>\n",
       "</table>\n",
       "</div>"
      ],
      "text/plain": [
       "   children  days_employed  dob_years  education_id  family_status_id gender  \\\n",
       "0         1   -8437.673028       42.0             0                 0      F   \n",
       "1         1   -4024.803754       36.0             1                 0      F   \n",
       "2         0   -5623.422610       33.0             1                 0      M   \n",
       "3         3   -4124.747207       32.0             1                 0      M   \n",
       "4         0  340266.072047       53.0             1                 1      F   \n",
       "\n",
       "  income_type  debt  total_income                     purpose  \\\n",
       "0   сотрудник     0        253875               покупка жилья   \n",
       "1   сотрудник     0        112080     приобретение автомобиля   \n",
       "2   сотрудник     0        145885               покупка жилья   \n",
       "3   сотрудник     0        267628  дополнительное образование   \n",
       "4   пенсионер     0        158616             сыграть свадьбу   \n",
       "\n",
       "  total_income_category  \n",
       "0                     B  \n",
       "1                     C  \n",
       "2                     C  \n",
       "3                     B  \n",
       "4                     C  "
      ]
     },
     "execution_count": 53,
     "metadata": {},
     "output_type": "execute_result"
    }
   ],
   "source": [
    "df_new.head()"
   ]
  },
  {
   "cell_type": "markdown",
   "id": "7770a753",
   "metadata": {},
   "source": [
    "**Категоризация целей кредита**"
   ]
  },
  {
   "cell_type": "markdown",
   "id": "cf77cbc5",
   "metadata": {},
   "source": [
    "Проанализируем столбец  `purpose`  -  цель получения кредита. \n",
    "\n",
    "Как правило, цель каждый указывает своими словами. \n",
    "\n",
    "Изучив данные можно выделить ключевые слова, и на их основании распределить цели кредита на категории.\n",
    "\n",
    "Для этого напишем функцию, которая на основании столбца `purpose` сформирует новый столбец  `purpose_category`"
   ]
  },
  {
   "cell_type": "code",
   "execution_count": 55,
   "id": "d9a5658f",
   "metadata": {},
   "outputs": [],
   "source": [
    "def purpose_group(purpose):   # пишем функцию\n",
    "    if 'автомобил' in purpose:\n",
    "        return 'операции с автомобилем'\n",
    "    if 'недвижимост' in purpose:\n",
    "        return 'операции с недвижимостью'\n",
    "    if 'жиль' in purpose:\n",
    "        return 'операции с недвижимостью'\n",
    "    if 'свадьб' in purpose:\n",
    "        return 'проведение свадьбы'\n",
    "    if 'образовани' in purpose:\n",
    "        return 'получение образования'"
   ]
  },
  {
   "cell_type": "code",
   "execution_count": 56,
   "id": "5793a2d0",
   "metadata": {},
   "outputs": [
    {
     "name": "stdout",
     "output_type": "stream",
     "text": [
      "проведение свадьбы\n",
      "операции с автомобилем\n",
      "получение образования\n",
      "операции с недвижимостью\n"
     ]
    }
   ],
   "source": [
    "print(purpose_group('на проведение свадьбы'))\n",
    "print(purpose_group('сделка с подержанным автомобилем'))\n",
    "print(purpose_group('высшее образование'))\n",
    "print(purpose_group('покупка жилой недвижимости'))\n",
    "\n",
    "# протестируем функцию"
   ]
  },
  {
   "cell_type": "code",
   "execution_count": 57,
   "id": "f3636f4d",
   "metadata": {},
   "outputs": [],
   "source": [
    "df_new['purpose_category'] = df_new['purpose'].apply(purpose_group) # создадим новый столбец"
   ]
  },
  {
   "cell_type": "code",
   "execution_count": 58,
   "id": "010d20e9",
   "metadata": {
    "scrolled": true
   },
   "outputs": [
    {
     "data": {
      "text/html": [
       "<div>\n",
       "<style scoped>\n",
       "    .dataframe tbody tr th:only-of-type {\n",
       "        vertical-align: middle;\n",
       "    }\n",
       "\n",
       "    .dataframe tbody tr th {\n",
       "        vertical-align: top;\n",
       "    }\n",
       "\n",
       "    .dataframe thead th {\n",
       "        text-align: right;\n",
       "    }\n",
       "</style>\n",
       "<table border=\"1\" class=\"dataframe\">\n",
       "  <thead>\n",
       "    <tr style=\"text-align: right;\">\n",
       "      <th></th>\n",
       "      <th>children</th>\n",
       "      <th>days_employed</th>\n",
       "      <th>dob_years</th>\n",
       "      <th>education_id</th>\n",
       "      <th>family_status_id</th>\n",
       "      <th>gender</th>\n",
       "      <th>income_type</th>\n",
       "      <th>debt</th>\n",
       "      <th>total_income</th>\n",
       "      <th>purpose</th>\n",
       "      <th>total_income_category</th>\n",
       "      <th>purpose_category</th>\n",
       "    </tr>\n",
       "  </thead>\n",
       "  <tbody>\n",
       "    <tr>\n",
       "      <th>0</th>\n",
       "      <td>1</td>\n",
       "      <td>-8437.673028</td>\n",
       "      <td>42.0</td>\n",
       "      <td>0</td>\n",
       "      <td>0</td>\n",
       "      <td>F</td>\n",
       "      <td>сотрудник</td>\n",
       "      <td>0</td>\n",
       "      <td>253875</td>\n",
       "      <td>покупка жилья</td>\n",
       "      <td>B</td>\n",
       "      <td>операции с недвижимостью</td>\n",
       "    </tr>\n",
       "    <tr>\n",
       "      <th>1</th>\n",
       "      <td>1</td>\n",
       "      <td>-4024.803754</td>\n",
       "      <td>36.0</td>\n",
       "      <td>1</td>\n",
       "      <td>0</td>\n",
       "      <td>F</td>\n",
       "      <td>сотрудник</td>\n",
       "      <td>0</td>\n",
       "      <td>112080</td>\n",
       "      <td>приобретение автомобиля</td>\n",
       "      <td>C</td>\n",
       "      <td>операции с автомобилем</td>\n",
       "    </tr>\n",
       "    <tr>\n",
       "      <th>2</th>\n",
       "      <td>0</td>\n",
       "      <td>-5623.422610</td>\n",
       "      <td>33.0</td>\n",
       "      <td>1</td>\n",
       "      <td>0</td>\n",
       "      <td>M</td>\n",
       "      <td>сотрудник</td>\n",
       "      <td>0</td>\n",
       "      <td>145885</td>\n",
       "      <td>покупка жилья</td>\n",
       "      <td>C</td>\n",
       "      <td>операции с недвижимостью</td>\n",
       "    </tr>\n",
       "    <tr>\n",
       "      <th>3</th>\n",
       "      <td>3</td>\n",
       "      <td>-4124.747207</td>\n",
       "      <td>32.0</td>\n",
       "      <td>1</td>\n",
       "      <td>0</td>\n",
       "      <td>M</td>\n",
       "      <td>сотрудник</td>\n",
       "      <td>0</td>\n",
       "      <td>267628</td>\n",
       "      <td>дополнительное образование</td>\n",
       "      <td>B</td>\n",
       "      <td>получение образования</td>\n",
       "    </tr>\n",
       "    <tr>\n",
       "      <th>4</th>\n",
       "      <td>0</td>\n",
       "      <td>340266.072047</td>\n",
       "      <td>53.0</td>\n",
       "      <td>1</td>\n",
       "      <td>1</td>\n",
       "      <td>F</td>\n",
       "      <td>пенсионер</td>\n",
       "      <td>0</td>\n",
       "      <td>158616</td>\n",
       "      <td>сыграть свадьбу</td>\n",
       "      <td>C</td>\n",
       "      <td>проведение свадьбы</td>\n",
       "    </tr>\n",
       "  </tbody>\n",
       "</table>\n",
       "</div>"
      ],
      "text/plain": [
       "   children  days_employed  dob_years  education_id  family_status_id gender  \\\n",
       "0         1   -8437.673028       42.0             0                 0      F   \n",
       "1         1   -4024.803754       36.0             1                 0      F   \n",
       "2         0   -5623.422610       33.0             1                 0      M   \n",
       "3         3   -4124.747207       32.0             1                 0      M   \n",
       "4         0  340266.072047       53.0             1                 1      F   \n",
       "\n",
       "  income_type  debt  total_income                     purpose  \\\n",
       "0   сотрудник     0        253875               покупка жилья   \n",
       "1   сотрудник     0        112080     приобретение автомобиля   \n",
       "2   сотрудник     0        145885               покупка жилья   \n",
       "3   сотрудник     0        267628  дополнительное образование   \n",
       "4   пенсионер     0        158616             сыграть свадьбу   \n",
       "\n",
       "  total_income_category          purpose_category  \n",
       "0                     B  операции с недвижимостью  \n",
       "1                     C    операции с автомобилем  \n",
       "2                     C  операции с недвижимостью  \n",
       "3                     B     получение образования  \n",
       "4                     C        проведение свадьбы  "
      ]
     },
     "execution_count": 58,
     "metadata": {},
     "output_type": "execute_result"
    }
   ],
   "source": [
    "df_new.head()"
   ]
  },
  {
   "cell_type": "code",
   "execution_count": 59,
   "id": "2bd28051",
   "metadata": {},
   "outputs": [
    {
     "name": "stdout",
     "output_type": "stream",
     "text": [
      "<class 'pandas.core.frame.DataFrame'>\n",
      "RangeIndex: 21454 entries, 0 to 21453\n",
      "Data columns (total 12 columns):\n",
      " #   Column                 Non-Null Count  Dtype  \n",
      "---  ------                 --------------  -----  \n",
      " 0   children               21454 non-null  int64  \n",
      " 1   days_employed          19351 non-null  float64\n",
      " 2   dob_years              21454 non-null  float64\n",
      " 3   education_id           21454 non-null  int64  \n",
      " 4   family_status_id       21454 non-null  int64  \n",
      " 5   gender                 21454 non-null  object \n",
      " 6   income_type            21454 non-null  object \n",
      " 7   debt                   21454 non-null  int64  \n",
      " 8   total_income           21454 non-null  int32  \n",
      " 9   purpose                21454 non-null  object \n",
      " 10  total_income_category  21454 non-null  object \n",
      " 11  purpose_category       21454 non-null  object \n",
      "dtypes: float64(2), int32(1), int64(4), object(5)\n",
      "memory usage: 1.9+ MB\n"
     ]
    }
   ],
   "source": [
    "df_new.info()"
   ]
  },
  {
   "cell_type": "markdown",
   "id": "9b78e8e3",
   "metadata": {},
   "source": [
    "Изучим полученные данные\n",
    "\n",
    "Построим сводные таблицы для ответа на вопросы исследования."
   ]
  },
  {
   "cell_type": "markdown",
   "id": "04b8c547",
   "metadata": {
    "scrolled": true
   },
   "source": [
    "\n",
    "- Есть ли зависимость между количеством детей и возвратом кредита в срок?\n",
    "\n",
    "Выведем таблицу, где показано сколько задолжностей и возвращенных кредитов для каждого количества детей\n",
    "\n",
    "Добавим столбец, где рассчитан процент невозвращенных кредитов. \n",
    "\n",
    "Отсортируем его по возрастанию."
   ]
  },
  {
   "cell_type": "code",
   "execution_count": 60,
   "id": "0f0f71b4",
   "metadata": {
    "scrolled": false
   },
   "outputs": [
    {
     "data": {
      "text/html": [
       "<div>\n",
       "<style scoped>\n",
       "    .dataframe tbody tr th:only-of-type {\n",
       "        vertical-align: middle;\n",
       "    }\n",
       "\n",
       "    .dataframe tbody tr th {\n",
       "        vertical-align: top;\n",
       "    }\n",
       "\n",
       "    .dataframe thead th {\n",
       "        text-align: right;\n",
       "    }\n",
       "</style>\n",
       "<table border=\"1\" class=\"dataframe\">\n",
       "  <thead>\n",
       "    <tr style=\"text-align: right;\">\n",
       "      <th>debt</th>\n",
       "      <th>0</th>\n",
       "      <th>1</th>\n",
       "      <th>ratio</th>\n",
       "    </tr>\n",
       "    <tr>\n",
       "      <th>children</th>\n",
       "      <th></th>\n",
       "      <th></th>\n",
       "      <th></th>\n",
       "    </tr>\n",
       "  </thead>\n",
       "  <tbody>\n",
       "    <tr>\n",
       "      <th>0</th>\n",
       "      <td>13028.0</td>\n",
       "      <td>1063.0</td>\n",
       "      <td>7.543822</td>\n",
       "    </tr>\n",
       "    <tr>\n",
       "      <th>3</th>\n",
       "      <td>303.0</td>\n",
       "      <td>27.0</td>\n",
       "      <td>8.181818</td>\n",
       "    </tr>\n",
       "    <tr>\n",
       "      <th>1</th>\n",
       "      <td>4410.0</td>\n",
       "      <td>445.0</td>\n",
       "      <td>9.165808</td>\n",
       "    </tr>\n",
       "    <tr>\n",
       "      <th>2</th>\n",
       "      <td>1926.0</td>\n",
       "      <td>202.0</td>\n",
       "      <td>9.492481</td>\n",
       "    </tr>\n",
       "    <tr>\n",
       "      <th>4</th>\n",
       "      <td>37.0</td>\n",
       "      <td>4.0</td>\n",
       "      <td>9.756098</td>\n",
       "    </tr>\n",
       "    <tr>\n",
       "      <th>5</th>\n",
       "      <td>9.0</td>\n",
       "      <td>NaN</td>\n",
       "      <td>NaN</td>\n",
       "    </tr>\n",
       "  </tbody>\n",
       "</table>\n",
       "</div>"
      ],
      "text/plain": [
       "debt            0       1     ratio\n",
       "children                           \n",
       "0         13028.0  1063.0  7.543822\n",
       "3           303.0    27.0  8.181818\n",
       "1          4410.0   445.0  9.165808\n",
       "2          1926.0   202.0  9.492481\n",
       "4            37.0     4.0  9.756098\n",
       "5             9.0     NaN       NaN"
      ]
     },
     "execution_count": 60,
     "metadata": {},
     "output_type": "execute_result"
    }
   ],
   "source": [
    "df_new_pivot_child = df_new.pivot_table(index=['children'], columns='debt', values='family_status_id', aggfunc='count')\n",
    "df_new_pivot_child['ratio'] = (df_new_pivot_child[1] / (df_new_pivot_child[0] + df_new_pivot_child[1]) * 100)\n",
    "df_new_pivot_child.sort_values(by='ratio', ascending=True)\n",
    " "
   ]
  },
  {
   "cell_type": "markdown",
   "id": "74418eb3",
   "metadata": {},
   "source": [
    "Вывод: \n",
    "\n",
    "Чаще всего берут кредит, люди с нулевым колличеством детей, а также более ответственно его возвращают.\n",
    "\n",
    "Примерно одни цифры по невозврату у людей с одним ребенком, двумя и четырмя. \n",
    "\n",
    "В семьях с тремя детьми процент невозврата ниже, чем в семьях с одним и с двумя детьми. \n",
    "\n",
    "Семьи с пятью детьми крайне редко прибегают к кредитованию, но задолжностей не зафиксированно."
   ]
  },
  {
   "cell_type": "markdown",
   "id": "cc8c1b8e",
   "metadata": {},
   "source": [
    "\n",
    "\n",
    "-  Выведем таблицу, где показано сколько задолжностей и возвращенных кредитов для каждого семейного статуса."
   ]
  },
  {
   "cell_type": "code",
   "execution_count": 61,
   "id": "0aed4ee9",
   "metadata": {
    "scrolled": true
   },
   "outputs": [
    {
     "data": {
      "text/html": [
       "<div>\n",
       "<style scoped>\n",
       "    .dataframe tbody tr th:only-of-type {\n",
       "        vertical-align: middle;\n",
       "    }\n",
       "\n",
       "    .dataframe tbody tr th {\n",
       "        vertical-align: top;\n",
       "    }\n",
       "\n",
       "    .dataframe thead th {\n",
       "        text-align: right;\n",
       "    }\n",
       "</style>\n",
       "<table border=\"1\" class=\"dataframe\">\n",
       "  <thead>\n",
       "    <tr style=\"text-align: right;\">\n",
       "      <th>debt</th>\n",
       "      <th>0</th>\n",
       "      <th>1</th>\n",
       "      <th>ratio</th>\n",
       "    </tr>\n",
       "    <tr>\n",
       "      <th>family_status_id</th>\n",
       "      <th></th>\n",
       "      <th></th>\n",
       "      <th></th>\n",
       "    </tr>\n",
       "  </thead>\n",
       "  <tbody>\n",
       "    <tr>\n",
       "      <th>2</th>\n",
       "      <td>896</td>\n",
       "      <td>63</td>\n",
       "      <td>6.569343</td>\n",
       "    </tr>\n",
       "    <tr>\n",
       "      <th>3</th>\n",
       "      <td>1110</td>\n",
       "      <td>85</td>\n",
       "      <td>7.112971</td>\n",
       "    </tr>\n",
       "    <tr>\n",
       "      <th>0</th>\n",
       "      <td>11408</td>\n",
       "      <td>931</td>\n",
       "      <td>7.545182</td>\n",
       "    </tr>\n",
       "    <tr>\n",
       "      <th>1</th>\n",
       "      <td>3763</td>\n",
       "      <td>388</td>\n",
       "      <td>9.347145</td>\n",
       "    </tr>\n",
       "    <tr>\n",
       "      <th>4</th>\n",
       "      <td>2536</td>\n",
       "      <td>274</td>\n",
       "      <td>9.750890</td>\n",
       "    </tr>\n",
       "  </tbody>\n",
       "</table>\n",
       "</div>"
      ],
      "text/plain": [
       "debt                  0    1     ratio\n",
       "family_status_id                      \n",
       "2                   896   63  6.569343\n",
       "3                  1110   85  7.112971\n",
       "0                 11408  931  7.545182\n",
       "1                  3763  388  9.347145\n",
       "4                  2536  274  9.750890"
      ]
     },
     "execution_count": 61,
     "metadata": {},
     "output_type": "execute_result"
    }
   ],
   "source": [
    "df_new_pivot_fam = df_new.pivot_table(index='family_status_id', columns='debt', values='education_id', aggfunc='count')\n",
    "df_new_pivot_fam['ratio'] = (df_new_pivot_fam[1] / (df_new_pivot_fam[0] + df_new_pivot_fam[1]) * 100)\n",
    "df_new_pivot_fam.sort_values(by='ratio', ascending=True)\n"
   ]
  },
  {
   "cell_type": "markdown",
   "id": "97dd2a63",
   "metadata": {},
   "source": [
    "Вывод: \n",
    "\n",
    "Возможно, в официальном браке люди чуствуют себя увереннее, так как это самые активные заёмщики. \n",
    "\n",
    "По возвращаенмости они находятся на третьем месте уступая, вдовцам и людям в разводе.\n",
    "\n",
    "Чаще всего проблемы с платежеспособностью встречаются у людей вне брака или состоящих в гражданском браке."
   ]
  },
  {
   "cell_type": "markdown",
   "id": "a389f028",
   "metadata": {},
   "source": [
    "-  Выведем таблицу, где количество задолжностей и возвращенных кредитов соотносится с доходом клиента."
   ]
  },
  {
   "cell_type": "code",
   "execution_count": 62,
   "id": "cfab67c9",
   "metadata": {
    "scrolled": false
   },
   "outputs": [
    {
     "data": {
      "text/html": [
       "<div>\n",
       "<style scoped>\n",
       "    .dataframe tbody tr th:only-of-type {\n",
       "        vertical-align: middle;\n",
       "    }\n",
       "\n",
       "    .dataframe tbody tr th {\n",
       "        vertical-align: top;\n",
       "    }\n",
       "\n",
       "    .dataframe thead th {\n",
       "        text-align: right;\n",
       "    }\n",
       "</style>\n",
       "<table border=\"1\" class=\"dataframe\">\n",
       "  <thead>\n",
       "    <tr style=\"text-align: right;\">\n",
       "      <th>debt</th>\n",
       "      <th>0</th>\n",
       "      <th>1</th>\n",
       "      <th>ratio</th>\n",
       "    </tr>\n",
       "    <tr>\n",
       "      <th>total_income_category</th>\n",
       "      <th></th>\n",
       "      <th></th>\n",
       "      <th></th>\n",
       "    </tr>\n",
       "  </thead>\n",
       "  <tbody>\n",
       "    <tr>\n",
       "      <th>D</th>\n",
       "      <td>329</td>\n",
       "      <td>21</td>\n",
       "      <td>6.000000</td>\n",
       "    </tr>\n",
       "    <tr>\n",
       "      <th>B</th>\n",
       "      <td>4686</td>\n",
       "      <td>356</td>\n",
       "      <td>7.060690</td>\n",
       "    </tr>\n",
       "    <tr>\n",
       "      <th>A</th>\n",
       "      <td>23</td>\n",
       "      <td>2</td>\n",
       "      <td>8.000000</td>\n",
       "    </tr>\n",
       "    <tr>\n",
       "      <th>C</th>\n",
       "      <td>14655</td>\n",
       "      <td>1360</td>\n",
       "      <td>8.492039</td>\n",
       "    </tr>\n",
       "    <tr>\n",
       "      <th>E</th>\n",
       "      <td>20</td>\n",
       "      <td>2</td>\n",
       "      <td>9.090909</td>\n",
       "    </tr>\n",
       "  </tbody>\n",
       "</table>\n",
       "</div>"
      ],
      "text/plain": [
       "debt                       0     1     ratio\n",
       "total_income_category                       \n",
       "D                        329    21  6.000000\n",
       "B                       4686   356  7.060690\n",
       "A                         23     2  8.000000\n",
       "C                      14655  1360  8.492039\n",
       "E                         20     2  9.090909"
      ]
     },
     "execution_count": 62,
     "metadata": {},
     "output_type": "execute_result"
    }
   ],
   "source": [
    "df_new_pivot_inc = df_new.pivot_table(index='total_income_category', columns='debt', values='gender', aggfunc='count')\n",
    "df_new_pivot_inc['ratio'] = (df_new_pivot_inc[1] / (df_new_pivot_inc[0] + df_new_pivot_inc[1]) * 100)\n",
    "df_new_pivot_inc.sort_values(by='ratio', ascending=True) \n"
   ]
  },
  {
   "cell_type": "markdown",
   "id": "fdfa8523",
   "metadata": {},
   "source": [
    "Вывод:\n",
    "\n",
    "- Самыми активными заемщиками являются люди с доходом от 50000 до 200000 рублей, но также они находятся на предпоследнем месте  по возвращаемости. \n",
    "\n",
    "- На последнем месте плетежеспособности люди с доходом до 30000 рублей.\n",
    "\n",
    "- Эффективнее всего кредит возвращают те, чей  доход от 30000 до 50000 рублей.\n",
    "\n",
    "- Второе и третье место по возвращаемости поделили люди с доходм от 200000 до миллиона и выше.\n"
   ]
  },
  {
   "cell_type": "markdown",
   "id": "246d2cbd",
   "metadata": {},
   "source": [
    "\n",
    "\n",
    "Выведем таблицу, где показано количество задолжностей и возвращенных кредитов в зависимости от целей кредита"
   ]
  },
  {
   "cell_type": "code",
   "execution_count": 63,
   "id": "91cd7c42",
   "metadata": {
    "scrolled": true
   },
   "outputs": [
    {
     "data": {
      "text/html": [
       "<div>\n",
       "<style scoped>\n",
       "    .dataframe tbody tr th:only-of-type {\n",
       "        vertical-align: middle;\n",
       "    }\n",
       "\n",
       "    .dataframe tbody tr th {\n",
       "        vertical-align: top;\n",
       "    }\n",
       "\n",
       "    .dataframe thead th {\n",
       "        text-align: right;\n",
       "    }\n",
       "</style>\n",
       "<table border=\"1\" class=\"dataframe\">\n",
       "  <thead>\n",
       "    <tr style=\"text-align: right;\">\n",
       "      <th>debt</th>\n",
       "      <th>0</th>\n",
       "      <th>1</th>\n",
       "      <th>ratio</th>\n",
       "    </tr>\n",
       "    <tr>\n",
       "      <th>purpose_category</th>\n",
       "      <th></th>\n",
       "      <th></th>\n",
       "      <th></th>\n",
       "    </tr>\n",
       "  </thead>\n",
       "  <tbody>\n",
       "    <tr>\n",
       "      <th>операции с недвижимостью</th>\n",
       "      <td>10029</td>\n",
       "      <td>782</td>\n",
       "      <td>7.233373</td>\n",
       "    </tr>\n",
       "    <tr>\n",
       "      <th>проведение свадьбы</th>\n",
       "      <td>2138</td>\n",
       "      <td>186</td>\n",
       "      <td>8.003442</td>\n",
       "    </tr>\n",
       "    <tr>\n",
       "      <th>получение образования</th>\n",
       "      <td>3643</td>\n",
       "      <td>370</td>\n",
       "      <td>9.220035</td>\n",
       "    </tr>\n",
       "    <tr>\n",
       "      <th>операции с автомобилем</th>\n",
       "      <td>3903</td>\n",
       "      <td>403</td>\n",
       "      <td>9.359034</td>\n",
       "    </tr>\n",
       "  </tbody>\n",
       "</table>\n",
       "</div>"
      ],
      "text/plain": [
       "debt                          0    1     ratio\n",
       "purpose_category                              \n",
       "операции с недвижимостью  10029  782  7.233373\n",
       "проведение свадьбы         2138  186  8.003442\n",
       "получение образования      3643  370  9.220035\n",
       "операции с автомобилем     3903  403  9.359034"
      ]
     },
     "execution_count": 63,
     "metadata": {},
     "output_type": "execute_result"
    }
   ],
   "source": [
    "df_new_pivot_purp = df_new.pivot_table(index='purpose_category', columns='debt', values='gender', aggfunc='count')\n",
    "df_new_pivot_purp['ratio'] = (df_new_pivot_purp[1] / (df_new_pivot_purp[0] + df_new_pivot_purp[1]) * 100)\n",
    "df_new_pivot_purp.sort_values(by='ratio', ascending=True)\n",
    "                                  "
   ]
  },
  {
   "cell_type": "markdown",
   "id": "b076962c",
   "metadata": {},
   "source": [
    "Вывод:\n",
    "\n",
    "- Самая часто встречающаяся цель, указанная при получении кредита \"операциис недвижимостью\". И возвращаемость такого кредита одна из самых высоких.\n",
    "\n",
    "- Вполне ответственно возвращают кредит, полученный для проведения свадьбы. \n",
    "\n",
    "- Кредиты, взятые для покупки автомобиля и получения образовая чаще и практически в равной мере сталкиваются с проблемой невозврата."
   ]
  },
  {
   "cell_type": "markdown",
   "id": "6a4fe01d",
   "metadata": {},
   "source": [
    "## Вывод:"
   ]
  },
  {
   "cell_type": "markdown",
   "id": "9aa958bc",
   "metadata": {},
   "source": [
    "Задачей данного исследования, был ответ на вопрос кредитного отдела банка:\n",
    "\n",
    "Как различные факторы влияют на способность клиента погашения кредита в срок?\n",
    "\n",
    "Для исследования была предоставлена таблица данных статистики банка о платежеспособности клиентов.\n",
    "\n",
    "**Этапы работы**\n",
    "\n",
    "__Знакомство с данными, изучение данных__\n",
    " \n",
    "__Предобработка данных__\n",
    " \n",
    " - Таблицу с данными мы исследовали на пропуски, аномалии, дубликакты. Для этого проанализировали каждый столбец.\n",
    " \n",
    "     - Пропуски в столбце с ежемесячным доходом, заменили медианным значением, рассчитанным для характерных групп.\n",
    " \n",
    "     - Проверили данные на аномалии. Заменили нулевой возраст клиента средним значением. В столбце с количеством детей убрали отрицательные значения.\n",
    " \n",
    " \n",
    " - Исследовали таблицу с данными на дубликаты явные и неявные.\n",
    " \n",
    "     - Грубые дубликаты удалили.\n",
    " \n",
    "     - Выявили неявные дубликаты. Привели строки к нижнему регистру, удалили дубликаты.\n",
    " \n",
    " \n",
    " - Для более удобной работы с таблицей провели декомпозицию исходного датафрейма.\n",
    " \n",
    "     - Выделили отдельно два словаря для идентификации уровня образования  и семейного положения клиента. И соответственно, смогли удалить столбцы с названиями, оставив только идентификаторы.\n",
    " \n",
    " \n",
    " \n",
    " __Анализ данных для ответа на вопросы исследования.__\n",
    " \n",
    " - Создали распределение клиентов на категории по уровню дохода и также категоризация целей кредита.Для каждой задачи мы написали функцию и по итогам работы функции создали дополнительные столбцы.\n",
    " \n",
    " - Ответы на вопросы исследования были сделаны на основании сводных таблиц.\n",
    " \n",
    "   **Для каждого вопроса была построена отдельная таблица, где по соотношению показателей**\n",
    "   \n",
    "     **возвращаемости кредита и категории клиента:**\n",
    "     \n",
    "       - по количеству детей,  \n",
    "       - семейному положению,\n",
    "       - доходу клиента\n",
    "       - целей кредита \n",
    "    \n",
    "    **становилось понятно, как они взаимосвязаны.**\n",
    "    \n",
    " - Зависимость между количеством детей и возвратом кредита в срок, несомненно, присутствует,но это не всегда прямая зависимость.Так кредитополучатели с нулевым количеством детей чаще возвращают кредит в срок, чем те у кого один или два ребенка. Но опять же те у кого трое детей эффективнее возвращают кредит, чем те у кого один или два. А также люди, у которых пятеро детей вовсе не имели проблем с возвратом. \n",
    " \n",
    " - Связь между семейныи положением и возратом кредита в срок также прослеживается. Ответственее всего возвращают кредит вдоствующие и разведенные. Среднее место по возвращаемости кредита занимают лица, состоящие в браке. Больше всего проблем с возвратом кредита в срок было у людей, состоящих  в гражданском браке или вне брака.\n",
    " \n",
    " - Соотношение между уровнем дохода и возвратом кредита в срок показывает, что в целом высокий доход способствует более успешному возврату в срок. Так самый высокий процент невозврата у людей с доходом  до 30000 рублей. С другой стороны самые ответственные заемщики, люди с доходом от 30000 до 50000 рублей.\n",
    " \n",
    " - Как правило, кредит на квартиру или другое имущество возвращается успешнее чем на автомобиль или образование.\n"
   ]
  }
 ],
 "metadata": {
  "ExecuteTimeLog": [
   {
    "duration": 361,
    "start_time": "2022-03-04T11:32:07.912Z"
   },
   {
    "duration": 681,
    "start_time": "2022-03-04T11:32:34.365Z"
   },
   {
    "duration": 59,
    "start_time": "2022-03-04T11:32:36.830Z"
   },
   {
    "duration": 31,
    "start_time": "2022-03-04T11:34:31.898Z"
   },
   {
    "duration": 16,
    "start_time": "2022-03-04T11:52:24.226Z"
   },
   {
    "duration": 7,
    "start_time": "2022-03-04T12:32:42.675Z"
   },
   {
    "duration": 15,
    "start_time": "2022-03-04T13:08:50.075Z"
   },
   {
    "duration": 9,
    "start_time": "2022-03-04T13:11:50.557Z"
   },
   {
    "duration": 86,
    "start_time": "2022-03-04T13:13:31.575Z"
   },
   {
    "duration": 8,
    "start_time": "2022-03-04T13:13:43.499Z"
   },
   {
    "duration": 7,
    "start_time": "2022-03-04T13:41:36.797Z"
   },
   {
    "duration": 7,
    "start_time": "2022-03-04T13:42:17.799Z"
   },
   {
    "duration": 7,
    "start_time": "2022-03-04T13:43:30.469Z"
   },
   {
    "duration": 8,
    "start_time": "2022-03-04T13:44:38.615Z"
   },
   {
    "duration": 8,
    "start_time": "2022-03-04T13:52:26.188Z"
   },
   {
    "duration": 6,
    "start_time": "2022-03-04T13:52:34.188Z"
   },
   {
    "duration": 7,
    "start_time": "2022-03-04T14:23:24.487Z"
   },
   {
    "duration": 7,
    "start_time": "2022-03-04T14:23:52.926Z"
   },
   {
    "duration": 7,
    "start_time": "2022-03-04T14:24:20.141Z"
   },
   {
    "duration": 5,
    "start_time": "2022-03-04T14:28:22.764Z"
   },
   {
    "duration": 7,
    "start_time": "2022-03-04T14:28:41.533Z"
   },
   {
    "duration": 4364,
    "start_time": "2022-03-04T14:33:01.987Z"
   },
   {
    "duration": 6,
    "start_time": "2022-03-04T14:35:21.040Z"
   },
   {
    "duration": 4736,
    "start_time": "2022-03-04T14:35:47.042Z"
   },
   {
    "duration": 67,
    "start_time": "2022-03-04T14:40:46.648Z"
   },
   {
    "duration": 3058,
    "start_time": "2022-03-04T14:41:50.137Z"
   },
   {
    "duration": 4352,
    "start_time": "2022-03-04T14:42:26.350Z"
   },
   {
    "duration": 10,
    "start_time": "2022-03-04T14:43:49.414Z"
   },
   {
    "duration": 5,
    "start_time": "2022-03-04T14:45:16.247Z"
   },
   {
    "duration": 7,
    "start_time": "2022-03-04T14:45:40.888Z"
   },
   {
    "duration": 5,
    "start_time": "2022-03-04T14:59:09.270Z"
   },
   {
    "duration": 5,
    "start_time": "2022-03-04T15:08:08.789Z"
   },
   {
    "duration": 6,
    "start_time": "2022-03-04T15:20:26.280Z"
   },
   {
    "duration": 5,
    "start_time": "2022-03-04T15:21:03.993Z"
   },
   {
    "duration": 7,
    "start_time": "2022-03-04T15:21:06.119Z"
   },
   {
    "duration": 7,
    "start_time": "2022-03-04T15:21:09.127Z"
   },
   {
    "duration": 7,
    "start_time": "2022-03-04T15:22:59.108Z"
   },
   {
    "duration": 10,
    "start_time": "2022-03-04T15:23:09.836Z"
   },
   {
    "duration": 8,
    "start_time": "2022-03-04T15:23:12.651Z"
   },
   {
    "duration": 7,
    "start_time": "2022-03-04T15:24:34.425Z"
   },
   {
    "duration": 12,
    "start_time": "2022-03-04T15:24:37.110Z"
   },
   {
    "duration": 12,
    "start_time": "2022-03-04T15:25:36.151Z"
   },
   {
    "duration": 7,
    "start_time": "2022-03-04T15:26:44.732Z"
   },
   {
    "duration": 5,
    "start_time": "2022-03-04T15:28:34.588Z"
   },
   {
    "duration": 9,
    "start_time": "2022-03-04T15:28:38.534Z"
   },
   {
    "duration": 10,
    "start_time": "2022-03-04T16:21:54.484Z"
   },
   {
    "duration": 248,
    "start_time": "2022-03-04T16:40:15.752Z"
   },
   {
    "duration": 4,
    "start_time": "2022-03-04T16:41:20.688Z"
   },
   {
    "duration": 28,
    "start_time": "2022-03-04T16:42:36.457Z"
   },
   {
    "duration": 5,
    "start_time": "2022-03-04T16:46:15.801Z"
   },
   {
    "duration": 5,
    "start_time": "2022-03-04T16:48:01.673Z"
   },
   {
    "duration": 8,
    "start_time": "2022-03-04T16:51:50.848Z"
   },
   {
    "duration": 23,
    "start_time": "2022-03-04T16:56:49.641Z"
   },
   {
    "duration": 8,
    "start_time": "2022-03-04T17:10:46.185Z"
   },
   {
    "duration": 7,
    "start_time": "2022-03-04T17:12:51.034Z"
   },
   {
    "duration": 9,
    "start_time": "2022-03-04T17:14:38.053Z"
   },
   {
    "duration": 7,
    "start_time": "2022-03-04T17:14:43.245Z"
   },
   {
    "duration": 8,
    "start_time": "2022-03-04T17:14:49.294Z"
   },
   {
    "duration": 6,
    "start_time": "2022-03-04T17:36:46.752Z"
   },
   {
    "duration": 8,
    "start_time": "2022-03-04T17:36:49.985Z"
   },
   {
    "duration": 7,
    "start_time": "2022-03-04T17:36:52.569Z"
   },
   {
    "duration": 5,
    "start_time": "2022-03-04T19:47:16.872Z"
   },
   {
    "duration": 293,
    "start_time": "2022-03-05T10:37:58.722Z"
   },
   {
    "duration": 709,
    "start_time": "2022-03-05T10:38:22.708Z"
   },
   {
    "duration": 58,
    "start_time": "2022-03-05T10:38:25.940Z"
   },
   {
    "duration": 29,
    "start_time": "2022-03-05T10:38:30.334Z"
   },
   {
    "duration": 15,
    "start_time": "2022-03-05T10:38:36.527Z"
   },
   {
    "duration": 9,
    "start_time": "2022-03-05T10:38:49.181Z"
   },
   {
    "duration": 9,
    "start_time": "2022-03-05T10:39:30.814Z"
   },
   {
    "duration": 21,
    "start_time": "2022-03-05T10:47:44.582Z"
   },
   {
    "duration": 17,
    "start_time": "2022-03-05T10:48:38.548Z"
   },
   {
    "duration": 293,
    "start_time": "2022-03-05T10:56:44.419Z"
   },
   {
    "duration": 234,
    "start_time": "2022-03-05T10:58:58.840Z"
   },
   {
    "duration": 236,
    "start_time": "2022-03-05T11:00:51.592Z"
   },
   {
    "duration": 652,
    "start_time": "2022-03-05T11:03:30.334Z"
   },
   {
    "duration": 10,
    "start_time": "2022-03-05T11:04:51.432Z"
   },
   {
    "duration": 604,
    "start_time": "2022-03-05T11:05:37.576Z"
   },
   {
    "duration": 613,
    "start_time": "2022-03-05T11:05:59.585Z"
   },
   {
    "duration": 687,
    "start_time": "2022-03-05T11:10:05.984Z"
   },
   {
    "duration": 606,
    "start_time": "2022-03-05T11:10:25.432Z"
   },
   {
    "duration": 76,
    "start_time": "2022-03-05T11:12:11.604Z"
   },
   {
    "duration": 236,
    "start_time": "2022-03-05T11:12:54.700Z"
   },
   {
    "duration": 592,
    "start_time": "2022-03-05T11:13:14.326Z"
   },
   {
    "duration": 10,
    "start_time": "2022-03-05T11:15:49.024Z"
   },
   {
    "duration": 726,
    "start_time": "2022-03-05T11:16:04.680Z"
   },
   {
    "duration": 17,
    "start_time": "2022-03-05T11:20:04.961Z"
   },
   {
    "duration": 625,
    "start_time": "2022-03-05T11:20:09.287Z"
   },
   {
    "duration": 6,
    "start_time": "2022-03-05T11:27:57.790Z"
   },
   {
    "duration": 9,
    "start_time": "2022-03-05T11:29:15.039Z"
   },
   {
    "duration": 8,
    "start_time": "2022-03-05T11:32:32.477Z"
   },
   {
    "duration": 11,
    "start_time": "2022-03-05T11:36:59.099Z"
   },
   {
    "duration": 16,
    "start_time": "2022-03-05T11:39:23.982Z"
   },
   {
    "duration": 8,
    "start_time": "2022-03-05T11:39:28.085Z"
   },
   {
    "duration": 11,
    "start_time": "2022-03-05T11:39:29.967Z"
   },
   {
    "duration": 87,
    "start_time": "2022-03-05T11:41:43.507Z"
   },
   {
    "duration": 8,
    "start_time": "2022-03-05T11:43:55.669Z"
   },
   {
    "duration": 6,
    "start_time": "2022-03-05T11:44:09.076Z"
   },
   {
    "duration": 15,
    "start_time": "2022-03-05T11:45:35.671Z"
   },
   {
    "duration": 8,
    "start_time": "2022-03-05T11:45:39.663Z"
   },
   {
    "duration": 11,
    "start_time": "2022-03-05T11:45:42.079Z"
   },
   {
    "duration": 8,
    "start_time": "2022-03-05T11:45:42.935Z"
   },
   {
    "duration": 6,
    "start_time": "2022-03-05T11:45:46.039Z"
   },
   {
    "duration": 7,
    "start_time": "2022-03-05T12:01:55.609Z"
   },
   {
    "duration": 4,
    "start_time": "2022-03-05T12:01:59.169Z"
   },
   {
    "duration": 7,
    "start_time": "2022-03-05T12:02:01.746Z"
   },
   {
    "duration": 4,
    "start_time": "2022-03-05T12:02:06.202Z"
   },
   {
    "duration": 5,
    "start_time": "2022-03-05T12:02:14.745Z"
   },
   {
    "duration": 7,
    "start_time": "2022-03-05T12:02:16.497Z"
   },
   {
    "duration": 7,
    "start_time": "2022-03-05T12:02:48.621Z"
   },
   {
    "duration": 15,
    "start_time": "2022-03-05T12:08:01.876Z"
   },
   {
    "duration": 9,
    "start_time": "2022-03-05T12:08:06.555Z"
   },
   {
    "duration": 11,
    "start_time": "2022-03-05T12:08:07.691Z"
   },
   {
    "duration": 8,
    "start_time": "2022-03-05T12:08:09.508Z"
   },
   {
    "duration": 6,
    "start_time": "2022-03-05T12:08:13.299Z"
   },
   {
    "duration": 226,
    "start_time": "2022-03-05T12:37:25.475Z"
   },
   {
    "duration": 219,
    "start_time": "2022-03-05T12:37:41.274Z"
   },
   {
    "duration": 24,
    "start_time": "2022-03-05T12:37:58.997Z"
   },
   {
    "duration": 10,
    "start_time": "2022-03-05T12:43:04.411Z"
   },
   {
    "duration": 16,
    "start_time": "2022-03-05T12:57:55.252Z"
   },
   {
    "duration": 11,
    "start_time": "2022-03-05T12:58:12.551Z"
   },
   {
    "duration": 10,
    "start_time": "2022-03-05T12:59:56.693Z"
   },
   {
    "duration": 22,
    "start_time": "2022-03-05T13:01:08.480Z"
   },
   {
    "duration": 12,
    "start_time": "2022-03-05T13:01:34.177Z"
   },
   {
    "duration": 12,
    "start_time": "2022-03-05T13:07:31.642Z"
   },
   {
    "duration": 7,
    "start_time": "2022-03-05T13:08:01.099Z"
   },
   {
    "duration": 8,
    "start_time": "2022-03-05T13:10:12.718Z"
   },
   {
    "duration": 237,
    "start_time": "2022-03-05T13:13:01.110Z"
   },
   {
    "duration": 6,
    "start_time": "2022-03-05T13:14:19.229Z"
   },
   {
    "duration": 14,
    "start_time": "2022-03-05T13:15:11.903Z"
   },
   {
    "duration": 3,
    "start_time": "2022-03-05T13:18:11.140Z"
   },
   {
    "duration": 60,
    "start_time": "2022-03-05T13:18:13.699Z"
   },
   {
    "duration": 19,
    "start_time": "2022-03-05T13:18:16.066Z"
   },
   {
    "duration": 14,
    "start_time": "2022-03-05T13:18:21.134Z"
   },
   {
    "duration": 14,
    "start_time": "2022-03-05T13:18:29.827Z"
   },
   {
    "duration": 5,
    "start_time": "2022-03-05T13:18:34.163Z"
   },
   {
    "duration": 21,
    "start_time": "2022-03-05T13:18:51.100Z"
   },
   {
    "duration": 10,
    "start_time": "2022-03-05T13:19:05.729Z"
   },
   {
    "duration": 19,
    "start_time": "2022-03-05T13:19:09.569Z"
   },
   {
    "duration": 12,
    "start_time": "2022-03-05T13:19:12.724Z"
   },
   {
    "duration": 10,
    "start_time": "2022-03-05T13:20:34.047Z"
   },
   {
    "duration": 10,
    "start_time": "2022-03-05T13:22:03.441Z"
   },
   {
    "duration": 19,
    "start_time": "2022-03-05T13:44:27.182Z"
   },
   {
    "duration": 11,
    "start_time": "2022-03-05T13:44:31.422Z"
   },
   {
    "duration": 12,
    "start_time": "2022-03-05T13:44:35.510Z"
   },
   {
    "duration": 10,
    "start_time": "2022-03-05T13:44:37.062Z"
   },
   {
    "duration": 6,
    "start_time": "2022-03-05T13:44:39.853Z"
   },
   {
    "duration": 20,
    "start_time": "2022-03-05T13:47:44.350Z"
   },
   {
    "duration": 4,
    "start_time": "2022-03-05T13:52:22.737Z"
   },
   {
    "duration": 63,
    "start_time": "2022-03-05T13:52:24.128Z"
   },
   {
    "duration": 19,
    "start_time": "2022-03-05T13:52:25.566Z"
   },
   {
    "duration": 16,
    "start_time": "2022-03-05T13:52:40.546Z"
   },
   {
    "duration": 9,
    "start_time": "2022-03-05T13:52:43.065Z"
   },
   {
    "duration": 13,
    "start_time": "2022-03-05T13:52:44.002Z"
   },
   {
    "duration": 10,
    "start_time": "2022-03-05T13:52:45.465Z"
   },
   {
    "duration": 7,
    "start_time": "2022-03-05T13:52:47.945Z"
   },
   {
    "duration": 9,
    "start_time": "2022-03-05T13:59:39.814Z"
   },
   {
    "duration": 7,
    "start_time": "2022-03-05T13:59:44.663Z"
   },
   {
    "duration": 11,
    "start_time": "2022-03-05T14:00:19.549Z"
   },
   {
    "duration": 6,
    "start_time": "2022-03-05T14:00:23.790Z"
   },
   {
    "duration": 14,
    "start_time": "2022-03-05T14:02:53.010Z"
   },
   {
    "duration": 6,
    "start_time": "2022-03-05T14:03:50.932Z"
   },
   {
    "duration": 12,
    "start_time": "2022-03-05T14:05:01.717Z"
   },
   {
    "duration": 9,
    "start_time": "2022-03-05T14:05:03.013Z"
   },
   {
    "duration": 8,
    "start_time": "2022-03-05T14:26:02.962Z"
   },
   {
    "duration": 4,
    "start_time": "2022-03-05T14:26:50.944Z"
   },
   {
    "duration": 8,
    "start_time": "2022-03-05T14:26:52.840Z"
   },
   {
    "duration": 14,
    "start_time": "2022-03-05T14:30:34.214Z"
   },
   {
    "duration": 14,
    "start_time": "2022-03-05T14:33:46.788Z"
   },
   {
    "duration": 7,
    "start_time": "2022-03-05T14:34:56.956Z"
   },
   {
    "duration": 14,
    "start_time": "2022-03-05T15:06:41.120Z"
   },
   {
    "duration": 7,
    "start_time": "2022-03-05T15:06:47.336Z"
   },
   {
    "duration": 16,
    "start_time": "2022-03-05T15:16:14.912Z"
   },
   {
    "duration": 14,
    "start_time": "2022-03-05T15:16:17.815Z"
   },
   {
    "duration": 7,
    "start_time": "2022-03-05T15:16:22.147Z"
   },
   {
    "duration": 11,
    "start_time": "2022-03-05T16:05:21.246Z"
   },
   {
    "duration": 10,
    "start_time": "2022-03-05T16:06:07.893Z"
   },
   {
    "duration": 10,
    "start_time": "2022-03-05T16:06:46.590Z"
   },
   {
    "duration": 5,
    "start_time": "2022-03-05T16:12:38.058Z"
   },
   {
    "duration": 6,
    "start_time": "2022-03-05T16:16:14.237Z"
   },
   {
    "duration": 11,
    "start_time": "2022-03-05T16:55:06.804Z"
   },
   {
    "duration": 13,
    "start_time": "2022-03-05T16:57:27.520Z"
   },
   {
    "duration": 6,
    "start_time": "2022-03-05T16:57:36.040Z"
   },
   {
    "duration": 15,
    "start_time": "2022-03-05T17:05:56.071Z"
   },
   {
    "duration": 13,
    "start_time": "2022-03-05T17:09:54.059Z"
   },
   {
    "duration": 12,
    "start_time": "2022-03-05T17:10:56.946Z"
   },
   {
    "duration": 15,
    "start_time": "2022-03-05T17:12:33.012Z"
   },
   {
    "duration": 20,
    "start_time": "2022-03-05T17:16:04.565Z"
   },
   {
    "duration": 7,
    "start_time": "2022-03-05T17:16:10.340Z"
   },
   {
    "duration": 21,
    "start_time": "2022-03-05T17:17:54.621Z"
   },
   {
    "duration": 27,
    "start_time": "2022-03-05T17:19:26.428Z"
   },
   {
    "duration": 6,
    "start_time": "2022-03-05T17:19:30.553Z"
   },
   {
    "duration": 25,
    "start_time": "2022-03-05T17:23:14.296Z"
   },
   {
    "duration": 33,
    "start_time": "2022-03-05T17:25:07.333Z"
   },
   {
    "duration": 6,
    "start_time": "2022-03-05T17:25:12.558Z"
   },
   {
    "duration": 79,
    "start_time": "2022-03-05T17:31:39.102Z"
   },
   {
    "duration": 217,
    "start_time": "2022-03-05T17:32:18.095Z"
   },
   {
    "duration": 20,
    "start_time": "2022-03-05T17:32:41.766Z"
   },
   {
    "duration": 23,
    "start_time": "2022-03-05T17:33:21.952Z"
   },
   {
    "duration": 14,
    "start_time": "2022-03-05T17:34:46.594Z"
   },
   {
    "duration": 7,
    "start_time": "2022-03-05T17:35:25.188Z"
   },
   {
    "duration": 6,
    "start_time": "2022-03-05T17:45:32.876Z"
   },
   {
    "duration": 222,
    "start_time": "2022-03-05T17:45:48.115Z"
   },
   {
    "duration": 6,
    "start_time": "2022-03-05T17:46:06.803Z"
   },
   {
    "duration": 76,
    "start_time": "2022-03-05T17:48:16.831Z"
   },
   {
    "duration": 8,
    "start_time": "2022-03-05T17:49:51.995Z"
   },
   {
    "duration": 27,
    "start_time": "2022-03-05T17:52:52.608Z"
   },
   {
    "duration": 30,
    "start_time": "2022-03-05T17:59:26.267Z"
   },
   {
    "duration": 27,
    "start_time": "2022-03-05T18:04:04.921Z"
   },
   {
    "duration": 39,
    "start_time": "2022-03-05T18:07:11.399Z"
   },
   {
    "duration": 7,
    "start_time": "2022-03-05T18:07:16.184Z"
   },
   {
    "duration": 3,
    "start_time": "2022-03-05T18:15:30.307Z"
   },
   {
    "duration": 61,
    "start_time": "2022-03-05T18:15:32.210Z"
   },
   {
    "duration": 22,
    "start_time": "2022-03-05T18:15:34.147Z"
   },
   {
    "duration": 15,
    "start_time": "2022-03-05T18:15:41.612Z"
   },
   {
    "duration": 12,
    "start_time": "2022-03-05T18:15:53.253Z"
   },
   {
    "duration": 9,
    "start_time": "2022-03-05T18:38:14.992Z"
   },
   {
    "duration": 28,
    "start_time": "2022-03-05T18:39:40.682Z"
   },
   {
    "duration": 41,
    "start_time": "2022-03-05T18:39:45.401Z"
   },
   {
    "duration": 6,
    "start_time": "2022-03-05T18:39:51.361Z"
   },
   {
    "duration": 6,
    "start_time": "2022-03-05T18:41:08.875Z"
   },
   {
    "duration": 26,
    "start_time": "2022-03-05T18:47:04.318Z"
   },
   {
    "duration": 5,
    "start_time": "2022-03-05T19:01:59.950Z"
   },
   {
    "duration": 7,
    "start_time": "2022-03-05T19:05:00.047Z"
   },
   {
    "duration": 6,
    "start_time": "2022-03-05T19:17:00.384Z"
   },
   {
    "duration": 6,
    "start_time": "2022-03-05T19:17:05.486Z"
   },
   {
    "duration": 7,
    "start_time": "2022-03-05T19:17:09.445Z"
   },
   {
    "duration": 6,
    "start_time": "2022-03-05T19:30:10.676Z"
   },
   {
    "duration": 6,
    "start_time": "2022-03-05T19:30:31.250Z"
   },
   {
    "duration": 5,
    "start_time": "2022-03-05T19:30:39.706Z"
   },
   {
    "duration": 582,
    "start_time": "2022-03-06T11:59:53.405Z"
   },
   {
    "duration": 50,
    "start_time": "2022-03-06T11:59:55.639Z"
   },
   {
    "duration": 21,
    "start_time": "2022-03-06T11:59:57.493Z"
   },
   {
    "duration": 10,
    "start_time": "2022-03-06T12:00:11.428Z"
   },
   {
    "duration": 4,
    "start_time": "2022-03-06T12:00:28.220Z"
   },
   {
    "duration": 5,
    "start_time": "2022-03-06T12:00:31.586Z"
   },
   {
    "duration": 5,
    "start_time": "2022-03-06T12:00:36.540Z"
   },
   {
    "duration": 4,
    "start_time": "2022-03-06T12:00:38.484Z"
   },
   {
    "duration": 225,
    "start_time": "2022-03-06T12:01:55.565Z"
   },
   {
    "duration": 6,
    "start_time": "2022-03-06T12:02:26.723Z"
   },
   {
    "duration": 180,
    "start_time": "2022-03-06T12:02:37.881Z"
   },
   {
    "duration": 170,
    "start_time": "2022-03-06T12:07:15.121Z"
   },
   {
    "duration": 188,
    "start_time": "2022-03-06T12:09:13.069Z"
   },
   {
    "duration": 279,
    "start_time": "2022-03-06T12:10:01.819Z"
   },
   {
    "duration": 6,
    "start_time": "2022-03-06T12:11:44.054Z"
   },
   {
    "duration": 177,
    "start_time": "2022-03-06T12:13:45.466Z"
   },
   {
    "duration": 176,
    "start_time": "2022-03-06T12:14:29.891Z"
   },
   {
    "duration": 179,
    "start_time": "2022-03-06T12:16:58.063Z"
   },
   {
    "duration": 7,
    "start_time": "2022-03-06T12:17:14.615Z"
   },
   {
    "duration": 12,
    "start_time": "2022-03-06T12:17:33.201Z"
   },
   {
    "duration": 6,
    "start_time": "2022-03-06T12:23:08.000Z"
   },
   {
    "duration": 5,
    "start_time": "2022-03-06T12:23:09.951Z"
   },
   {
    "duration": 11,
    "start_time": "2022-03-06T12:23:15.808Z"
   },
   {
    "duration": 4,
    "start_time": "2022-03-06T12:23:20.153Z"
   },
   {
    "duration": 14,
    "start_time": "2022-03-06T12:23:28.977Z"
   },
   {
    "duration": 4,
    "start_time": "2022-03-06T12:23:31.128Z"
   },
   {
    "duration": 240,
    "start_time": "2022-03-06T12:25:55.987Z"
   },
   {
    "duration": 9,
    "start_time": "2022-03-06T12:27:17.992Z"
   },
   {
    "duration": 5,
    "start_time": "2022-03-06T12:27:25.509Z"
   },
   {
    "duration": 11,
    "start_time": "2022-03-06T12:27:31.751Z"
   },
   {
    "duration": 5,
    "start_time": "2022-03-06T12:27:33.814Z"
   },
   {
    "duration": 11,
    "start_time": "2022-03-06T12:30:51.667Z"
   },
   {
    "duration": 13,
    "start_time": "2022-03-06T12:35:32.218Z"
   },
   {
    "duration": 5,
    "start_time": "2022-03-06T12:35:34.986Z"
   },
   {
    "duration": 11,
    "start_time": "2022-03-06T12:37:03.511Z"
   },
   {
    "duration": 13,
    "start_time": "2022-03-06T12:37:05.141Z"
   },
   {
    "duration": 4,
    "start_time": "2022-03-06T12:37:06.533Z"
   },
   {
    "duration": 7,
    "start_time": "2022-03-06T12:39:33.153Z"
   },
   {
    "duration": 236,
    "start_time": "2022-03-06T12:39:52.802Z"
   },
   {
    "duration": 19,
    "start_time": "2022-03-06T12:40:54.227Z"
   },
   {
    "duration": 26,
    "start_time": "2022-03-06T12:40:56.948Z"
   },
   {
    "duration": 5,
    "start_time": "2022-03-06T12:41:00.082Z"
   },
   {
    "duration": 4,
    "start_time": "2022-03-06T12:41:06.388Z"
   },
   {
    "duration": 4,
    "start_time": "2022-03-06T12:41:11.116Z"
   },
   {
    "duration": 11,
    "start_time": "2022-03-06T12:41:12.573Z"
   },
   {
    "duration": 6,
    "start_time": "2022-03-06T12:44:56.115Z"
   },
   {
    "duration": 19,
    "start_time": "2022-03-06T13:25:47.539Z"
   },
   {
    "duration": 15,
    "start_time": "2022-03-06T13:26:50.253Z"
   },
   {
    "duration": 4,
    "start_time": "2022-03-06T13:29:54.681Z"
   },
   {
    "duration": 5,
    "start_time": "2022-03-06T13:30:12.097Z"
   },
   {
    "duration": 14,
    "start_time": "2022-03-06T14:49:06.591Z"
   },
   {
    "duration": 10,
    "start_time": "2022-03-06T14:49:28.935Z"
   },
   {
    "duration": 7,
    "start_time": "2022-03-06T14:50:10.865Z"
   },
   {
    "duration": 11,
    "start_time": "2022-03-06T14:50:16.969Z"
   },
   {
    "duration": 9,
    "start_time": "2022-03-06T14:50:20.210Z"
   },
   {
    "duration": 9,
    "start_time": "2022-03-06T14:56:32.684Z"
   },
   {
    "duration": 7,
    "start_time": "2022-03-06T14:58:57.330Z"
   },
   {
    "duration": 62,
    "start_time": "2022-03-06T15:00:02.528Z"
   },
   {
    "duration": 11,
    "start_time": "2022-03-06T15:01:13.882Z"
   },
   {
    "duration": 13,
    "start_time": "2022-03-06T15:01:48.579Z"
   },
   {
    "duration": 6,
    "start_time": "2022-03-06T15:07:12.292Z"
   },
   {
    "duration": 8,
    "start_time": "2022-03-06T15:08:02.615Z"
   },
   {
    "duration": 13,
    "start_time": "2022-03-06T15:11:49.355Z"
   },
   {
    "duration": 60,
    "start_time": "2022-03-06T15:15:50.363Z"
   },
   {
    "duration": 24,
    "start_time": "2022-03-06T15:16:00.761Z"
   },
   {
    "duration": 16,
    "start_time": "2022-03-06T15:19:56.273Z"
   },
   {
    "duration": 5,
    "start_time": "2022-03-06T15:21:56.292Z"
   },
   {
    "duration": 6,
    "start_time": "2022-03-06T15:23:35.109Z"
   },
   {
    "duration": 16,
    "start_time": "2022-03-06T15:26:46.837Z"
   },
   {
    "duration": 18,
    "start_time": "2022-03-06T15:33:18.960Z"
   },
   {
    "duration": 17,
    "start_time": "2022-03-06T15:33:43.014Z"
   },
   {
    "duration": 10,
    "start_time": "2022-03-06T15:34:18.384Z"
   },
   {
    "duration": 7,
    "start_time": "2022-03-06T15:34:18.483Z"
   },
   {
    "duration": 15,
    "start_time": "2022-03-06T16:00:29.211Z"
   },
   {
    "duration": 167,
    "start_time": "2022-03-06T16:02:38.997Z"
   },
   {
    "duration": 180,
    "start_time": "2022-03-06T16:03:17.232Z"
   },
   {
    "duration": 3,
    "start_time": "2022-03-06T16:03:48.663Z"
   },
   {
    "duration": 11,
    "start_time": "2022-03-06T16:04:29.249Z"
   },
   {
    "duration": 14,
    "start_time": "2022-03-06T16:04:33.911Z"
   },
   {
    "duration": 12,
    "start_time": "2022-03-06T16:50:41.879Z"
   },
   {
    "duration": 9,
    "start_time": "2022-03-06T16:51:07.881Z"
   },
   {
    "duration": 33,
    "start_time": "2022-03-06T16:51:11.111Z"
   },
   {
    "duration": 6,
    "start_time": "2022-03-06T16:51:21.149Z"
   },
   {
    "duration": 7,
    "start_time": "2022-03-06T16:55:52.672Z"
   },
   {
    "duration": 20,
    "start_time": "2022-03-06T17:00:19.023Z"
   },
   {
    "duration": 17,
    "start_time": "2022-03-06T17:00:47.194Z"
   },
   {
    "duration": 2,
    "start_time": "2022-03-06T17:01:15.705Z"
   },
   {
    "duration": 41,
    "start_time": "2022-03-06T17:01:16.833Z"
   },
   {
    "duration": 10,
    "start_time": "2022-03-06T17:01:24.490Z"
   },
   {
    "duration": 15,
    "start_time": "2022-03-06T17:01:53.521Z"
   },
   {
    "duration": 17,
    "start_time": "2022-03-06T17:01:57.089Z"
   },
   {
    "duration": 16,
    "start_time": "2022-03-06T17:01:59.722Z"
   },
   {
    "duration": 8,
    "start_time": "2022-03-06T17:02:05.330Z"
   },
   {
    "duration": 11,
    "start_time": "2022-03-06T17:02:13.673Z"
   },
   {
    "duration": 8,
    "start_time": "2022-03-06T17:02:15.169Z"
   },
   {
    "duration": 7,
    "start_time": "2022-03-06T17:02:20.520Z"
   },
   {
    "duration": 12,
    "start_time": "2022-03-06T17:02:27.173Z"
   },
   {
    "duration": 9,
    "start_time": "2022-03-06T17:02:28.585Z"
   },
   {
    "duration": 7,
    "start_time": "2022-03-06T17:02:32.945Z"
   },
   {
    "duration": 18,
    "start_time": "2022-03-06T17:02:35.613Z"
   },
   {
    "duration": 9,
    "start_time": "2022-03-06T17:02:39.418Z"
   },
   {
    "duration": 8,
    "start_time": "2022-03-06T17:02:41.321Z"
   },
   {
    "duration": 21,
    "start_time": "2022-03-06T17:02:45.633Z"
   },
   {
    "duration": 19,
    "start_time": "2022-03-06T17:02:48.181Z"
   },
   {
    "duration": 18,
    "start_time": "2022-03-06T17:02:49.409Z"
   },
   {
    "duration": 11,
    "start_time": "2022-03-06T17:02:55.689Z"
   },
   {
    "duration": 15,
    "start_time": "2022-03-06T17:35:44.085Z"
   },
   {
    "duration": 7,
    "start_time": "2022-03-06T17:35:48.783Z"
   },
   {
    "duration": 15,
    "start_time": "2022-03-06T17:37:13.554Z"
   },
   {
    "duration": 7,
    "start_time": "2022-03-06T17:37:16.474Z"
   },
   {
    "duration": 8,
    "start_time": "2022-03-06T17:37:26.301Z"
   },
   {
    "duration": 8,
    "start_time": "2022-03-06T17:37:41.124Z"
   },
   {
    "duration": 7,
    "start_time": "2022-03-06T17:38:06.635Z"
   },
   {
    "duration": 14,
    "start_time": "2022-03-06T17:38:13.987Z"
   },
   {
    "duration": 9,
    "start_time": "2022-03-06T17:38:33.004Z"
   },
   {
    "duration": 5,
    "start_time": "2022-03-06T17:39:49.202Z"
   },
   {
    "duration": 7,
    "start_time": "2022-03-06T17:39:51.333Z"
   },
   {
    "duration": 2,
    "start_time": "2022-03-06T17:40:35.688Z"
   },
   {
    "duration": 41,
    "start_time": "2022-03-06T17:40:39.151Z"
   },
   {
    "duration": 16,
    "start_time": "2022-03-06T17:41:05.088Z"
   },
   {
    "duration": 15,
    "start_time": "2022-03-06T17:41:08.396Z"
   },
   {
    "duration": 15,
    "start_time": "2022-03-06T17:41:09.592Z"
   },
   {
    "duration": 7,
    "start_time": "2022-03-06T17:41:13.799Z"
   },
   {
    "duration": 10,
    "start_time": "2022-03-06T17:41:18.376Z"
   },
   {
    "duration": 8,
    "start_time": "2022-03-06T17:41:19.995Z"
   },
   {
    "duration": 8,
    "start_time": "2022-03-06T17:41:27.152Z"
   },
   {
    "duration": 11,
    "start_time": "2022-03-06T17:41:33.074Z"
   },
   {
    "duration": 8,
    "start_time": "2022-03-06T17:41:34.905Z"
   },
   {
    "duration": 8,
    "start_time": "2022-03-06T17:41:40.113Z"
   },
   {
    "duration": 13,
    "start_time": "2022-03-06T17:41:44.403Z"
   },
   {
    "duration": 7,
    "start_time": "2022-03-06T17:41:56.665Z"
   },
   {
    "duration": 7,
    "start_time": "2022-03-06T17:42:01.953Z"
   },
   {
    "duration": 21,
    "start_time": "2022-03-06T17:42:07.272Z"
   },
   {
    "duration": 19,
    "start_time": "2022-03-06T17:42:13.658Z"
   },
   {
    "duration": 16,
    "start_time": "2022-03-06T17:42:15.497Z"
   },
   {
    "duration": 11,
    "start_time": "2022-03-06T17:42:18.321Z"
   },
   {
    "duration": 23,
    "start_time": "2022-03-06T18:08:21.161Z"
   },
   {
    "duration": 72,
    "start_time": "2022-03-06T18:18:14.499Z"
   },
   {
    "duration": 180,
    "start_time": "2022-03-06T18:19:21.774Z"
   },
   {
    "duration": 4,
    "start_time": "2022-03-06T18:20:14.599Z"
   },
   {
    "duration": 448,
    "start_time": "2022-03-06T18:21:40.074Z"
   },
   {
    "duration": 415,
    "start_time": "2022-03-06T18:22:58.635Z"
   },
   {
    "duration": 62,
    "start_time": "2022-03-06T18:25:08.710Z"
   },
   {
    "duration": 6,
    "start_time": "2022-03-06T18:27:57.810Z"
   },
   {
    "duration": 4,
    "start_time": "2022-03-06T18:28:49.788Z"
   },
   {
    "duration": 6,
    "start_time": "2022-03-06T18:28:52.012Z"
   },
   {
    "duration": 55,
    "start_time": "2022-03-06T18:29:52.246Z"
   },
   {
    "duration": 64,
    "start_time": "2022-03-06T18:31:41.504Z"
   },
   {
    "duration": 8,
    "start_time": "2022-03-06T18:32:14.430Z"
   },
   {
    "duration": 9,
    "start_time": "2022-03-06T18:33:46.933Z"
   },
   {
    "duration": 5,
    "start_time": "2022-03-06T18:34:28.694Z"
   },
   {
    "duration": 9,
    "start_time": "2022-03-06T18:38:12.001Z"
   },
   {
    "duration": 3,
    "start_time": "2022-03-06T18:38:31.011Z"
   },
   {
    "duration": 46,
    "start_time": "2022-03-06T18:38:33.563Z"
   },
   {
    "duration": 20,
    "start_time": "2022-03-06T18:38:45.695Z"
   },
   {
    "duration": 6,
    "start_time": "2022-03-06T18:41:35.858Z"
   },
   {
    "duration": 54,
    "start_time": "2022-03-06T18:41:47.495Z"
   },
   {
    "duration": 8,
    "start_time": "2022-03-06T18:41:56.435Z"
   },
   {
    "duration": 17,
    "start_time": "2022-03-06T19:06:39.372Z"
   },
   {
    "duration": 15,
    "start_time": "2022-03-06T19:07:15.499Z"
   },
   {
    "duration": 69,
    "start_time": "2022-03-07T09:57:20.138Z"
   },
   {
    "duration": 639,
    "start_time": "2022-03-07T10:02:28.757Z"
   },
   {
    "duration": 51,
    "start_time": "2022-03-07T10:02:30.923Z"
   },
   {
    "duration": 15,
    "start_time": "2022-03-07T10:06:10.337Z"
   },
   {
    "duration": 2,
    "start_time": "2022-03-07T10:07:03.834Z"
   },
   {
    "duration": 11,
    "start_time": "2022-03-07T10:12:25.516Z"
   },
   {
    "duration": 4,
    "start_time": "2022-03-07T10:12:57.298Z"
   },
   {
    "duration": 8,
    "start_time": "2022-03-07T10:17:01.897Z"
   },
   {
    "duration": 4,
    "start_time": "2022-03-07T10:17:09.330Z"
   },
   {
    "duration": 27,
    "start_time": "2022-03-07T10:19:48.399Z"
   },
   {
    "duration": 5,
    "start_time": "2022-03-07T10:20:05.126Z"
   },
   {
    "duration": 9,
    "start_time": "2022-03-07T10:20:12.398Z"
   },
   {
    "duration": 12,
    "start_time": "2022-03-07T10:20:18.399Z"
   },
   {
    "duration": 4,
    "start_time": "2022-03-07T10:22:12.338Z"
   },
   {
    "duration": 9,
    "start_time": "2022-03-07T10:25:05.622Z"
   },
   {
    "duration": 7,
    "start_time": "2022-03-07T10:27:46.053Z"
   },
   {
    "duration": 8,
    "start_time": "2022-03-07T10:31:10.073Z"
   },
   {
    "duration": 3,
    "start_time": "2022-03-07T10:33:31.919Z"
   },
   {
    "duration": 3,
    "start_time": "2022-03-07T10:33:34.077Z"
   },
   {
    "duration": 7,
    "start_time": "2022-03-07T10:36:52.645Z"
   },
   {
    "duration": 2,
    "start_time": "2022-03-07T10:37:01.398Z"
   },
   {
    "duration": 10,
    "start_time": "2022-03-07T10:50:47.778Z"
   },
   {
    "duration": 7,
    "start_time": "2022-03-07T10:51:03.948Z"
   },
   {
    "duration": 2,
    "start_time": "2022-03-07T10:54:37.139Z"
   },
   {
    "duration": 5,
    "start_time": "2022-03-07T11:13:16.577Z"
   },
   {
    "duration": 5,
    "start_time": "2022-03-07T13:26:01.581Z"
   },
   {
    "duration": 8,
    "start_time": "2022-03-07T13:26:33.061Z"
   },
   {
    "duration": 3,
    "start_time": "2022-03-07T13:26:59.110Z"
   },
   {
    "duration": 5,
    "start_time": "2022-03-07T13:28:39.913Z"
   },
   {
    "duration": 8,
    "start_time": "2022-03-07T13:29:09.748Z"
   },
   {
    "duration": 7,
    "start_time": "2022-03-07T13:30:12.266Z"
   },
   {
    "duration": 2,
    "start_time": "2022-03-07T13:30:33.123Z"
   },
   {
    "duration": 2,
    "start_time": "2022-03-07T13:30:51.263Z"
   },
   {
    "duration": 3,
    "start_time": "2022-03-07T13:42:18.809Z"
   },
   {
    "duration": 46,
    "start_time": "2022-03-07T13:42:20.881Z"
   },
   {
    "duration": 19,
    "start_time": "2022-03-07T13:42:22.563Z"
   },
   {
    "duration": 12,
    "start_time": "2022-03-07T13:42:28.641Z"
   },
   {
    "duration": 13,
    "start_time": "2022-03-07T13:42:35.076Z"
   },
   {
    "duration": 4,
    "start_time": "2022-03-07T13:42:40.281Z"
   },
   {
    "duration": 5,
    "start_time": "2022-03-07T13:42:48.625Z"
   },
   {
    "duration": 5,
    "start_time": "2022-03-07T13:42:51.065Z"
   },
   {
    "duration": 7,
    "start_time": "2022-03-07T13:42:58.658Z"
   },
   {
    "duration": 21,
    "start_time": "2022-03-07T13:43:20.604Z"
   },
   {
    "duration": 32,
    "start_time": "2022-03-07T13:43:26.658Z"
   },
   {
    "duration": 5,
    "start_time": "2022-03-07T13:43:28.251Z"
   },
   {
    "duration": 7,
    "start_time": "2022-03-07T13:43:33.739Z"
   },
   {
    "duration": 10,
    "start_time": "2022-03-07T13:43:38.959Z"
   },
   {
    "duration": 6,
    "start_time": "2022-03-07T13:43:41.636Z"
   },
   {
    "duration": 24,
    "start_time": "2022-03-07T13:44:22.942Z"
   },
   {
    "duration": 4,
    "start_time": "2022-03-07T13:44:27.892Z"
   },
   {
    "duration": 9,
    "start_time": "2022-03-07T13:44:31.020Z"
   },
   {
    "duration": 10,
    "start_time": "2022-03-07T13:44:33.636Z"
   },
   {
    "duration": 6,
    "start_time": "2022-03-07T13:44:38.740Z"
   },
   {
    "duration": 4,
    "start_time": "2022-03-07T13:44:43.068Z"
   },
   {
    "duration": 5,
    "start_time": "2022-03-07T13:44:47.372Z"
   },
   {
    "duration": 5,
    "start_time": "2022-03-07T13:44:51.981Z"
   },
   {
    "duration": 4,
    "start_time": "2022-03-07T13:44:53.765Z"
   },
   {
    "duration": 13,
    "start_time": "2022-03-07T13:44:56.677Z"
   },
   {
    "duration": 16,
    "start_time": "2022-03-07T13:44:59.165Z"
   },
   {
    "duration": 6,
    "start_time": "2022-03-07T13:45:01.333Z"
   },
   {
    "duration": 4,
    "start_time": "2022-03-07T13:45:09.134Z"
   },
   {
    "duration": 3,
    "start_time": "2022-03-07T13:45:12.117Z"
   },
   {
    "duration": 9,
    "start_time": "2022-03-07T13:45:20.789Z"
   },
   {
    "duration": 18,
    "start_time": "2022-03-07T13:45:27.117Z"
   },
   {
    "duration": 26,
    "start_time": "2022-03-07T13:45:29.958Z"
   },
   {
    "duration": 19,
    "start_time": "2022-03-07T13:45:31.757Z"
   },
   {
    "duration": 8,
    "start_time": "2022-03-07T13:45:35.630Z"
   },
   {
    "duration": 13,
    "start_time": "2022-03-07T13:45:39.400Z"
   },
   {
    "duration": 10,
    "start_time": "2022-03-07T13:45:41.206Z"
   },
   {
    "duration": 8,
    "start_time": "2022-03-07T13:45:45.731Z"
   },
   {
    "duration": 14,
    "start_time": "2022-03-07T13:45:49.558Z"
   },
   {
    "duration": 10,
    "start_time": "2022-03-07T13:45:51.022Z"
   },
   {
    "duration": 8,
    "start_time": "2022-03-07T13:45:57.030Z"
   },
   {
    "duration": 13,
    "start_time": "2022-03-07T13:46:02.279Z"
   },
   {
    "duration": 7,
    "start_time": "2022-03-07T13:46:04.607Z"
   },
   {
    "duration": 12,
    "start_time": "2022-03-07T13:46:06.246Z"
   },
   {
    "duration": 22,
    "start_time": "2022-03-07T13:46:12.054Z"
   },
   {
    "duration": 21,
    "start_time": "2022-03-07T13:46:14.283Z"
   },
   {
    "duration": 18,
    "start_time": "2022-03-07T13:46:15.525Z"
   },
   {
    "duration": 12,
    "start_time": "2022-03-07T13:46:18.847Z"
   },
   {
    "duration": 4,
    "start_time": "2022-03-07T13:46:31.807Z"
   },
   {
    "duration": 5,
    "start_time": "2022-03-07T13:46:35.588Z"
   },
   {
    "duration": 6,
    "start_time": "2022-03-07T13:49:32.509Z"
   },
   {
    "duration": 13,
    "start_time": "2022-03-07T13:50:05.885Z"
   },
   {
    "duration": 3,
    "start_time": "2022-03-07T13:50:32.003Z"
   },
   {
    "duration": 310,
    "start_time": "2022-03-07T13:53:21.075Z"
   },
   {
    "duration": 8,
    "start_time": "2022-03-07T13:53:46.155Z"
   },
   {
    "duration": 2,
    "start_time": "2022-03-07T13:54:29.533Z"
   },
   {
    "duration": 4,
    "start_time": "2022-03-07T14:16:05.342Z"
   },
   {
    "duration": 4,
    "start_time": "2022-03-07T14:16:07.430Z"
   },
   {
    "duration": 4,
    "start_time": "2022-03-07T14:16:36.175Z"
   },
   {
    "duration": 5,
    "start_time": "2022-03-07T14:16:46.839Z"
   },
   {
    "duration": 2,
    "start_time": "2022-03-07T14:17:42.641Z"
   },
   {
    "duration": 10,
    "start_time": "2022-03-07T14:21:40.168Z"
   },
   {
    "duration": 13,
    "start_time": "2022-03-07T14:21:51.376Z"
   },
   {
    "duration": 4,
    "start_time": "2022-03-07T14:23:43.891Z"
   },
   {
    "duration": 3,
    "start_time": "2022-03-07T14:25:48.382Z"
   },
   {
    "duration": 4,
    "start_time": "2022-03-07T14:25:51.431Z"
   },
   {
    "duration": 9,
    "start_time": "2022-03-07T14:25:54.455Z"
   },
   {
    "duration": 13,
    "start_time": "2022-03-07T14:25:56.927Z"
   },
   {
    "duration": 4,
    "start_time": "2022-03-07T14:27:46.425Z"
   },
   {
    "duration": 4,
    "start_time": "2022-03-07T14:27:49.441Z"
   },
   {
    "duration": 10,
    "start_time": "2022-03-07T14:27:52.027Z"
   },
   {
    "duration": 12,
    "start_time": "2022-03-07T14:27:54.882Z"
   },
   {
    "duration": 13,
    "start_time": "2022-03-07T14:29:33.445Z"
   },
   {
    "duration": 3,
    "start_time": "2022-03-07T14:29:55.794Z"
   },
   {
    "duration": 9,
    "start_time": "2022-03-07T14:41:12.790Z"
   },
   {
    "duration": 3,
    "start_time": "2022-03-07T15:04:23.758Z"
   },
   {
    "duration": 434,
    "start_time": "2022-03-07T15:04:25.411Z"
   },
   {
    "duration": 5,
    "start_time": "2022-03-07T15:04:48.924Z"
   },
   {
    "duration": 4,
    "start_time": "2022-03-07T15:04:50.196Z"
   },
   {
    "duration": 5,
    "start_time": "2022-03-07T15:06:44.258Z"
   },
   {
    "duration": 443,
    "start_time": "2022-03-07T15:06:47.240Z"
   },
   {
    "duration": 4,
    "start_time": "2022-03-07T15:07:18.370Z"
   },
   {
    "duration": 4,
    "start_time": "2022-03-07T15:07:20.769Z"
   },
   {
    "duration": 4,
    "start_time": "2022-03-07T15:07:45.106Z"
   },
   {
    "duration": 4,
    "start_time": "2022-03-07T15:08:13.498Z"
   },
   {
    "duration": 5,
    "start_time": "2022-03-07T15:08:37.148Z"
   },
   {
    "duration": 722,
    "start_time": "2022-03-07T15:12:52.882Z"
   },
   {
    "duration": 609,
    "start_time": "2022-03-07T15:14:34.021Z"
   },
   {
    "duration": 11,
    "start_time": "2022-03-07T15:17:28.640Z"
   },
   {
    "duration": 20,
    "start_time": "2022-03-07T15:18:15.995Z"
   },
   {
    "duration": 4,
    "start_time": "2022-03-07T15:19:58.692Z"
   },
   {
    "duration": 4,
    "start_time": "2022-03-07T15:20:02.861Z"
   },
   {
    "duration": 4,
    "start_time": "2022-03-07T15:20:26.102Z"
   },
   {
    "duration": 8,
    "start_time": "2022-03-07T15:20:33.126Z"
   },
   {
    "duration": 14,
    "start_time": "2022-03-07T15:20:34.737Z"
   },
   {
    "duration": 4,
    "start_time": "2022-03-07T15:24:34.228Z"
   },
   {
    "duration": 4,
    "start_time": "2022-03-07T15:24:36.100Z"
   },
   {
    "duration": 9,
    "start_time": "2022-03-07T15:24:39.718Z"
   },
   {
    "duration": 14,
    "start_time": "2022-03-07T15:24:41.796Z"
   },
   {
    "duration": 3,
    "start_time": "2022-03-07T15:27:36.834Z"
   },
   {
    "duration": 4,
    "start_time": "2022-03-07T15:27:38.465Z"
   },
   {
    "duration": 8,
    "start_time": "2022-03-07T15:27:40.739Z"
   },
   {
    "duration": 14,
    "start_time": "2022-03-07T15:27:41.904Z"
   },
   {
    "duration": 646,
    "start_time": "2022-03-08T06:59:47.506Z"
   },
   {
    "duration": 46,
    "start_time": "2022-03-08T06:59:49.044Z"
   },
   {
    "duration": 24,
    "start_time": "2022-03-08T06:59:52.143Z"
   },
   {
    "duration": 12,
    "start_time": "2022-03-08T07:00:00.662Z"
   },
   {
    "duration": 10,
    "start_time": "2022-03-08T07:00:07.446Z"
   },
   {
    "duration": 3,
    "start_time": "2022-03-08T07:00:09.076Z"
   },
   {
    "duration": 4,
    "start_time": "2022-03-08T07:00:22.551Z"
   },
   {
    "duration": 5,
    "start_time": "2022-03-08T07:00:24.797Z"
   },
   {
    "duration": 7,
    "start_time": "2022-03-08T07:00:32.839Z"
   },
   {
    "duration": 2,
    "start_time": "2022-03-08T07:00:58.716Z"
   },
   {
    "duration": 18,
    "start_time": "2022-03-08T07:00:59.310Z"
   },
   {
    "duration": 28,
    "start_time": "2022-03-08T07:01:03.773Z"
   },
   {
    "duration": 5,
    "start_time": "2022-03-08T07:01:08.613Z"
   },
   {
    "duration": 6,
    "start_time": "2022-03-08T07:01:14.966Z"
   },
   {
    "duration": 8,
    "start_time": "2022-03-08T07:01:17.927Z"
   },
   {
    "duration": 7,
    "start_time": "2022-03-08T07:01:18.870Z"
   },
   {
    "duration": 2,
    "start_time": "2022-03-08T07:01:19.744Z"
   },
   {
    "duration": 2,
    "start_time": "2022-03-08T07:01:27.128Z"
   },
   {
    "duration": 2,
    "start_time": "2022-03-08T07:01:28.056Z"
   },
   {
    "duration": 2,
    "start_time": "2022-03-08T07:01:39.254Z"
   },
   {
    "duration": 20,
    "start_time": "2022-03-08T07:01:44.527Z"
   },
   {
    "duration": 3,
    "start_time": "2022-03-08T07:01:48.687Z"
   },
   {
    "duration": 6,
    "start_time": "2022-03-08T07:01:50.567Z"
   },
   {
    "duration": 8,
    "start_time": "2022-03-08T07:01:51.207Z"
   },
   {
    "duration": 5,
    "start_time": "2022-03-08T07:01:57.582Z"
   },
   {
    "duration": 4,
    "start_time": "2022-03-08T07:02:05.015Z"
   },
   {
    "duration": 5,
    "start_time": "2022-03-08T07:02:07.231Z"
   },
   {
    "duration": 5,
    "start_time": "2022-03-08T07:02:13.879Z"
   },
   {
    "duration": 5,
    "start_time": "2022-03-08T07:02:14.695Z"
   },
   {
    "duration": 13,
    "start_time": "2022-03-08T07:02:15.753Z"
   },
   {
    "duration": 16,
    "start_time": "2022-03-08T07:02:21.431Z"
   },
   {
    "duration": 5,
    "start_time": "2022-03-08T07:02:23.015Z"
   },
   {
    "duration": 5,
    "start_time": "2022-03-08T07:02:27.528Z"
   },
   {
    "duration": 9,
    "start_time": "2022-03-08T07:02:31.264Z"
   },
   {
    "duration": 16,
    "start_time": "2022-03-08T07:02:39.599Z"
   },
   {
    "duration": 18,
    "start_time": "2022-03-08T07:02:40.488Z"
   },
   {
    "duration": 15,
    "start_time": "2022-03-08T07:02:41.170Z"
   },
   {
    "duration": 7,
    "start_time": "2022-03-08T07:02:48.264Z"
   },
   {
    "duration": 15,
    "start_time": "2022-03-08T07:02:52.168Z"
   },
   {
    "duration": 8,
    "start_time": "2022-03-08T07:02:52.792Z"
   },
   {
    "duration": 7,
    "start_time": "2022-03-08T07:04:16.932Z"
   },
   {
    "duration": 15,
    "start_time": "2022-03-08T07:04:18.699Z"
   },
   {
    "duration": 9,
    "start_time": "2022-03-08T07:04:19.346Z"
   },
   {
    "duration": 7,
    "start_time": "2022-03-08T07:04:23.082Z"
   },
   {
    "duration": 12,
    "start_time": "2022-03-08T07:04:25.210Z"
   },
   {
    "duration": 7,
    "start_time": "2022-03-08T07:04:28.172Z"
   },
   {
    "duration": 8,
    "start_time": "2022-03-08T07:04:28.907Z"
   },
   {
    "duration": 22,
    "start_time": "2022-03-08T07:04:32.147Z"
   },
   {
    "duration": 20,
    "start_time": "2022-03-08T07:04:32.899Z"
   },
   {
    "duration": 18,
    "start_time": "2022-03-08T07:04:33.612Z"
   },
   {
    "duration": 11,
    "start_time": "2022-03-08T07:04:36.129Z"
   },
   {
    "duration": 4,
    "start_time": "2022-03-08T07:04:50.230Z"
   },
   {
    "duration": 8,
    "start_time": "2022-03-08T07:04:50.843Z"
   },
   {
    "duration": 2,
    "start_time": "2022-03-08T07:05:11.082Z"
   },
   {
    "duration": 4,
    "start_time": "2022-03-08T07:05:18.461Z"
   },
   {
    "duration": 2,
    "start_time": "2022-03-08T07:05:20.516Z"
   },
   {
    "duration": 5,
    "start_time": "2022-03-08T07:05:26.269Z"
   },
   {
    "duration": 11,
    "start_time": "2022-03-08T07:05:33.572Z"
   },
   {
    "duration": 14,
    "start_time": "2022-03-08T07:06:49.896Z"
   },
   {
    "duration": 3,
    "start_time": "2022-03-08T07:07:13.444Z"
   },
   {
    "duration": 269,
    "start_time": "2022-03-08T07:09:00.644Z"
   },
   {
    "duration": 9,
    "start_time": "2022-03-08T07:11:45.672Z"
   },
   {
    "duration": 8,
    "start_time": "2022-03-08T07:12:54.984Z"
   },
   {
    "duration": 10,
    "start_time": "2022-03-08T07:39:07.762Z"
   },
   {
    "duration": 10,
    "start_time": "2022-03-08T07:40:30.430Z"
   },
   {
    "duration": 4,
    "start_time": "2022-03-08T07:40:45.095Z"
   },
   {
    "duration": 11,
    "start_time": "2022-03-08T07:40:51.037Z"
   },
   {
    "duration": 12,
    "start_time": "2022-03-08T07:41:09.191Z"
   },
   {
    "duration": 5,
    "start_time": "2022-03-08T07:52:39.576Z"
   },
   {
    "duration": 8,
    "start_time": "2022-03-08T07:52:40.938Z"
   },
   {
    "duration": 12,
    "start_time": "2022-03-08T07:52:45.658Z"
   },
   {
    "duration": 4,
    "start_time": "2022-03-08T07:52:54.152Z"
   },
   {
    "duration": 9,
    "start_time": "2022-03-08T07:52:55.352Z"
   },
   {
    "duration": 10,
    "start_time": "2022-03-08T07:52:58.545Z"
   },
   {
    "duration": 5,
    "start_time": "2022-03-08T07:53:03.561Z"
   },
   {
    "duration": 11,
    "start_time": "2022-03-08T07:53:05.209Z"
   },
   {
    "duration": 6,
    "start_time": "2022-03-08T08:04:25.294Z"
   },
   {
    "duration": 11,
    "start_time": "2022-03-08T08:04:26.139Z"
   },
   {
    "duration": 12,
    "start_time": "2022-03-08T08:04:32.234Z"
   },
   {
    "duration": 9,
    "start_time": "2022-03-08T08:07:18.415Z"
   },
   {
    "duration": 9,
    "start_time": "2022-03-08T08:08:12.699Z"
   },
   {
    "duration": 2,
    "start_time": "2022-03-08T08:12:02.020Z"
   },
   {
    "duration": 6,
    "start_time": "2022-03-08T08:14:42.964Z"
   },
   {
    "duration": 5555,
    "start_time": "2022-03-08T08:24:15.377Z"
   },
   {
    "duration": 1174,
    "start_time": "2022-03-08T08:26:58.368Z"
   },
   {
    "duration": 5558,
    "start_time": "2022-03-08T08:27:29.103Z"
   },
   {
    "duration": 5602,
    "start_time": "2022-03-08T08:27:44.751Z"
   },
   {
    "duration": 1183,
    "start_time": "2022-03-08T08:28:06.012Z"
   },
   {
    "duration": 9,
    "start_time": "2022-03-08T08:28:23.434Z"
   },
   {
    "duration": 16,
    "start_time": "2022-03-08T08:30:43.925Z"
   },
   {
    "duration": 17,
    "start_time": "2022-03-08T08:36:53.663Z"
   },
   {
    "duration": 4,
    "start_time": "2022-03-08T08:40:39.704Z"
   },
   {
    "duration": 6,
    "start_time": "2022-03-08T08:41:48.504Z"
   },
   {
    "duration": 6,
    "start_time": "2022-03-08T08:43:31.938Z"
   },
   {
    "duration": 19,
    "start_time": "2022-03-08T08:44:32.681Z"
   },
   {
    "duration": 211,
    "start_time": "2022-03-08T08:45:13.659Z"
   },
   {
    "duration": 8,
    "start_time": "2022-03-08T08:45:23.435Z"
   },
   {
    "duration": 207,
    "start_time": "2022-03-08T09:15:05.795Z"
   },
   {
    "duration": 4,
    "start_time": "2022-03-08T09:15:32.149Z"
   },
   {
    "duration": 325,
    "start_time": "2022-03-08T09:17:22.200Z"
   },
   {
    "duration": 241,
    "start_time": "2022-03-08T09:54:42.176Z"
   },
   {
    "duration": 17,
    "start_time": "2022-03-08T09:55:46.021Z"
   },
   {
    "duration": 21,
    "start_time": "2022-03-08T09:56:26.353Z"
   },
   {
    "duration": 13,
    "start_time": "2022-03-08T10:18:12.072Z"
   },
   {
    "duration": 17,
    "start_time": "2022-03-08T10:18:47.320Z"
   },
   {
    "duration": 239,
    "start_time": "2022-03-08T10:33:04.424Z"
   },
   {
    "duration": 11,
    "start_time": "2022-03-08T10:35:14.663Z"
   },
   {
    "duration": 12,
    "start_time": "2022-03-08T10:35:31.965Z"
   },
   {
    "duration": 5,
    "start_time": "2022-03-08T10:35:57.164Z"
   },
   {
    "duration": 11,
    "start_time": "2022-03-08T10:35:57.988Z"
   },
   {
    "duration": 11,
    "start_time": "2022-03-08T10:36:03.428Z"
   },
   {
    "duration": 3,
    "start_time": "2022-03-08T10:36:08.638Z"
   },
   {
    "duration": 4,
    "start_time": "2022-03-08T10:36:11.454Z"
   },
   {
    "duration": 10,
    "start_time": "2022-03-08T10:36:12.420Z"
   },
   {
    "duration": 12,
    "start_time": "2022-03-08T10:36:13.693Z"
   },
   {
    "duration": 4,
    "start_time": "2022-03-08T10:36:20.211Z"
   },
   {
    "duration": 3,
    "start_time": "2022-03-08T10:36:20.908Z"
   },
   {
    "duration": 8,
    "start_time": "2022-03-08T10:36:21.812Z"
   },
   {
    "duration": 12,
    "start_time": "2022-03-08T10:36:23.229Z"
   },
   {
    "duration": 12,
    "start_time": "2022-03-08T10:36:27.621Z"
   },
   {
    "duration": 19,
    "start_time": "2022-03-08T10:36:45.709Z"
   },
   {
    "duration": 16,
    "start_time": "2022-03-08T10:36:48.429Z"
   },
   {
    "duration": 19,
    "start_time": "2022-03-08T10:37:05.211Z"
   },
   {
    "duration": 15,
    "start_time": "2022-03-08T10:37:13.951Z"
   },
   {
    "duration": 18,
    "start_time": "2022-03-08T10:37:21.376Z"
   },
   {
    "duration": 3,
    "start_time": "2022-03-08T10:47:56.180Z"
   },
   {
    "duration": 3,
    "start_time": "2022-03-08T10:48:07.189Z"
   },
   {
    "duration": 2,
    "start_time": "2022-03-08T10:48:14.812Z"
   },
   {
    "duration": 244,
    "start_time": "2022-03-08T10:48:26.472Z"
   },
   {
    "duration": 2,
    "start_time": "2022-03-08T10:48:37.692Z"
   },
   {
    "duration": 2,
    "start_time": "2022-03-08T10:49:04.990Z"
   },
   {
    "duration": 70,
    "start_time": "2022-03-08T10:51:17.438Z"
   },
   {
    "duration": 20,
    "start_time": "2022-03-08T10:51:42.429Z"
   },
   {
    "duration": 7,
    "start_time": "2022-03-08T10:55:25.195Z"
   },
   {
    "duration": 3,
    "start_time": "2022-03-08T10:56:25.661Z"
   },
   {
    "duration": 3,
    "start_time": "2022-03-08T10:56:26.532Z"
   },
   {
    "duration": 4,
    "start_time": "2022-03-08T10:57:28.102Z"
   },
   {
    "duration": 3,
    "start_time": "2022-03-08T10:58:03.728Z"
   },
   {
    "duration": 428,
    "start_time": "2022-03-08T10:58:07.001Z"
   },
   {
    "duration": 3,
    "start_time": "2022-03-08T10:58:21.523Z"
   },
   {
    "duration": 3,
    "start_time": "2022-03-08T10:58:22.527Z"
   },
   {
    "duration": 3,
    "start_time": "2022-03-08T10:59:48.928Z"
   },
   {
    "duration": 4,
    "start_time": "2022-03-08T11:00:24.827Z"
   },
   {
    "duration": 4,
    "start_time": "2022-03-08T11:00:28.579Z"
   },
   {
    "duration": 4,
    "start_time": "2022-03-08T11:04:35.281Z"
   },
   {
    "duration": 3,
    "start_time": "2022-03-08T11:04:38.202Z"
   },
   {
    "duration": 3,
    "start_time": "2022-03-08T11:05:28.715Z"
   },
   {
    "duration": 4,
    "start_time": "2022-03-08T11:06:20.573Z"
   },
   {
    "duration": 3,
    "start_time": "2022-03-08T11:07:03.496Z"
   },
   {
    "duration": 3,
    "start_time": "2022-03-08T11:07:12.479Z"
   },
   {
    "duration": 3,
    "start_time": "2022-03-08T11:07:14.869Z"
   },
   {
    "duration": 3,
    "start_time": "2022-03-08T11:07:38.007Z"
   },
   {
    "duration": 4,
    "start_time": "2022-03-08T11:07:42.094Z"
   },
   {
    "duration": 4,
    "start_time": "2022-03-08T11:08:30.624Z"
   },
   {
    "duration": 3,
    "start_time": "2022-03-08T11:09:10.691Z"
   },
   {
    "duration": 3,
    "start_time": "2022-03-08T11:09:44.210Z"
   },
   {
    "duration": 3,
    "start_time": "2022-03-08T11:09:45.106Z"
   },
   {
    "duration": 4,
    "start_time": "2022-03-08T11:10:27.643Z"
   },
   {
    "duration": 4,
    "start_time": "2022-03-08T11:12:14.942Z"
   },
   {
    "duration": 3,
    "start_time": "2022-03-08T11:12:20.733Z"
   },
   {
    "duration": 4,
    "start_time": "2022-03-08T11:12:21.406Z"
   },
   {
    "duration": 2,
    "start_time": "2022-03-08T11:12:44.300Z"
   },
   {
    "duration": 2,
    "start_time": "2022-03-08T11:13:39.704Z"
   },
   {
    "duration": 4,
    "start_time": "2022-03-08T11:13:40.471Z"
   },
   {
    "duration": 9,
    "start_time": "2022-03-08T11:13:41.649Z"
   },
   {
    "duration": 13,
    "start_time": "2022-03-08T11:13:43.052Z"
   },
   {
    "duration": 8,
    "start_time": "2022-03-08T11:13:46.799Z"
   },
   {
    "duration": 3,
    "start_time": "2022-03-08T11:13:52.224Z"
   },
   {
    "duration": 4,
    "start_time": "2022-03-08T11:13:53.184Z"
   },
   {
    "duration": 3,
    "start_time": "2022-03-08T11:14:31.810Z"
   },
   {
    "duration": 4,
    "start_time": "2022-03-08T11:14:34.751Z"
   },
   {
    "duration": 4,
    "start_time": "2022-03-08T11:15:22.212Z"
   },
   {
    "duration": 2,
    "start_time": "2022-03-08T11:15:45.125Z"
   },
   {
    "duration": 3,
    "start_time": "2022-03-08T11:16:12.031Z"
   },
   {
    "duration": 3,
    "start_time": "2022-03-08T11:16:12.973Z"
   },
   {
    "duration": 4,
    "start_time": "2022-03-08T11:17:01.637Z"
   },
   {
    "duration": 4,
    "start_time": "2022-03-08T11:17:33.327Z"
   },
   {
    "duration": 4,
    "start_time": "2022-03-08T11:17:55.208Z"
   },
   {
    "duration": 3,
    "start_time": "2022-03-08T11:19:18.865Z"
   },
   {
    "duration": 4,
    "start_time": "2022-03-08T11:19:22.833Z"
   },
   {
    "duration": 3,
    "start_time": "2022-03-08T11:19:38.570Z"
   },
   {
    "duration": 4,
    "start_time": "2022-03-08T11:19:56.802Z"
   },
   {
    "duration": 4,
    "start_time": "2022-03-08T11:20:19.347Z"
   },
   {
    "duration": 4,
    "start_time": "2022-03-08T11:20:51.229Z"
   },
   {
    "duration": 4,
    "start_time": "2022-03-08T11:21:07.997Z"
   },
   {
    "duration": 4,
    "start_time": "2022-03-08T11:21:32.268Z"
   },
   {
    "duration": 4,
    "start_time": "2022-03-08T11:22:14.520Z"
   },
   {
    "duration": 9,
    "start_time": "2022-03-08T11:22:26.734Z"
   },
   {
    "duration": 12,
    "start_time": "2022-03-08T11:22:30.359Z"
   },
   {
    "duration": 18,
    "start_time": "2022-03-08T11:22:43.664Z"
   },
   {
    "duration": 240,
    "start_time": "2022-03-08T11:33:16.608Z"
   },
   {
    "duration": 22,
    "start_time": "2022-03-08T11:33:47.424Z"
   },
   {
    "duration": 20,
    "start_time": "2022-03-08T11:35:04.053Z"
   },
   {
    "duration": 24,
    "start_time": "2022-03-08T11:39:43.386Z"
   },
   {
    "duration": 4355,
    "start_time": "2022-03-08T11:50:16.431Z"
   },
   {
    "duration": 4610,
    "start_time": "2022-03-08T11:50:59.160Z"
   },
   {
    "duration": 4245,
    "start_time": "2022-03-08T11:51:52.325Z"
   },
   {
    "duration": 4322,
    "start_time": "2022-03-08T11:53:58.016Z"
   },
   {
    "duration": 4428,
    "start_time": "2022-03-08T11:54:43.713Z"
   },
   {
    "duration": 2,
    "start_time": "2022-03-08T12:00:09.467Z"
   },
   {
    "duration": 25,
    "start_time": "2022-03-08T12:00:31.102Z"
   },
   {
    "duration": 4044,
    "start_time": "2022-03-08T12:05:48.805Z"
   },
   {
    "duration": 4276,
    "start_time": "2022-03-08T12:07:15.405Z"
   },
   {
    "duration": 7,
    "start_time": "2022-03-08T12:07:43.190Z"
   },
   {
    "duration": 9,
    "start_time": "2022-03-08T12:08:21.246Z"
   },
   {
    "duration": 5,
    "start_time": "2022-03-08T12:12:13.764Z"
   },
   {
    "duration": 9,
    "start_time": "2022-03-08T12:12:17.140Z"
   },
   {
    "duration": 9,
    "start_time": "2022-03-08T12:15:36.708Z"
   },
   {
    "duration": 10,
    "start_time": "2022-03-08T12:23:33.143Z"
   },
   {
    "duration": 5,
    "start_time": "2022-03-08T13:02:13.908Z"
   },
   {
    "duration": 9,
    "start_time": "2022-03-08T13:04:45.523Z"
   },
   {
    "duration": 5,
    "start_time": "2022-03-08T13:32:06.248Z"
   },
   {
    "duration": 8,
    "start_time": "2022-03-08T13:33:16.999Z"
   },
   {
    "duration": 3,
    "start_time": "2022-03-08T14:34:39.895Z"
   },
   {
    "duration": 4,
    "start_time": "2022-03-08T14:37:15.370Z"
   },
   {
    "duration": 8,
    "start_time": "2022-03-08T14:38:00.610Z"
   },
   {
    "duration": 576,
    "start_time": "2022-03-09T06:53:01.454Z"
   },
   {
    "duration": 59,
    "start_time": "2022-03-09T06:53:02.740Z"
   },
   {
    "duration": 21,
    "start_time": "2022-03-09T06:53:03.701Z"
   },
   {
    "duration": 3,
    "start_time": "2022-03-09T07:02:33.086Z"
   },
   {
    "duration": 5,
    "start_time": "2022-03-09T07:08:07.939Z"
   },
   {
    "duration": 4,
    "start_time": "2022-03-09T07:08:08.828Z"
   },
   {
    "duration": 7,
    "start_time": "2022-03-09T07:08:12.443Z"
   },
   {
    "duration": 1821,
    "start_time": "2022-03-09T07:08:16.059Z"
   },
   {
    "duration": 9,
    "start_time": "2022-03-09T07:11:10.381Z"
   },
   {
    "duration": 5,
    "start_time": "2022-03-09T07:22:22.571Z"
   },
   {
    "duration": 368,
    "start_time": "2022-03-09T07:22:26.010Z"
   },
   {
    "duration": 17,
    "start_time": "2022-03-09T07:22:36.477Z"
   },
   {
    "duration": 24,
    "start_time": "2022-03-09T07:22:39.683Z"
   },
   {
    "duration": 4,
    "start_time": "2022-03-09T07:22:43.052Z"
   },
   {
    "duration": 3,
    "start_time": "2022-03-09T07:27:41.424Z"
   },
   {
    "duration": 12,
    "start_time": "2022-03-09T07:30:38.033Z"
   },
   {
    "duration": 6,
    "start_time": "2022-03-09T07:32:31.675Z"
   },
   {
    "duration": 8,
    "start_time": "2022-03-09T07:33:23.507Z"
   },
   {
    "duration": 6,
    "start_time": "2022-03-09T07:33:24.659Z"
   },
   {
    "duration": 5,
    "start_time": "2022-03-09T07:36:13.368Z"
   },
   {
    "duration": 6,
    "start_time": "2022-03-09T07:36:19.192Z"
   },
   {
    "duration": 5,
    "start_time": "2022-03-09T07:36:25.952Z"
   },
   {
    "duration": 5,
    "start_time": "2022-03-09T07:42:33.124Z"
   },
   {
    "duration": 2,
    "start_time": "2022-03-09T07:43:48.293Z"
   },
   {
    "duration": 21,
    "start_time": "2022-03-09T07:45:20.000Z"
   },
   {
    "duration": 4,
    "start_time": "2022-03-09T07:45:37.757Z"
   },
   {
    "duration": 6,
    "start_time": "2022-03-09T07:46:07.271Z"
   },
   {
    "duration": 7,
    "start_time": "2022-03-09T07:46:11.072Z"
   },
   {
    "duration": 3,
    "start_time": "2022-03-09T07:49:01.006Z"
   },
   {
    "duration": 5,
    "start_time": "2022-03-09T07:49:04.964Z"
   },
   {
    "duration": 24,
    "start_time": "2022-03-09T08:00:38.254Z"
   },
   {
    "duration": 10,
    "start_time": "2022-03-09T08:03:15.523Z"
   },
   {
    "duration": 13,
    "start_time": "2022-03-09T08:03:16.442Z"
   },
   {
    "duration": 4,
    "start_time": "2022-03-09T08:03:22.148Z"
   },
   {
    "duration": 4,
    "start_time": "2022-03-09T08:07:00.657Z"
   },
   {
    "duration": 8,
    "start_time": "2022-03-09T08:08:22.579Z"
   },
   {
    "duration": 17,
    "start_time": "2022-03-09T08:09:19.380Z"
   },
   {
    "duration": 15,
    "start_time": "2022-03-09T08:09:23.924Z"
   },
   {
    "duration": 11,
    "start_time": "2022-03-09T08:11:08.881Z"
   },
   {
    "duration": 9,
    "start_time": "2022-03-09T08:11:09.936Z"
   },
   {
    "duration": 6,
    "start_time": "2022-03-09T08:13:13.002Z"
   },
   {
    "duration": 10,
    "start_time": "2022-03-09T08:15:40.071Z"
   },
   {
    "duration": 10,
    "start_time": "2022-03-09T08:21:50.357Z"
   },
   {
    "duration": 6,
    "start_time": "2022-03-09T08:22:39.953Z"
   },
   {
    "duration": 7,
    "start_time": "2022-03-09T08:22:40.752Z"
   },
   {
    "duration": 16,
    "start_time": "2022-03-09T08:23:32.611Z"
   },
   {
    "duration": 10,
    "start_time": "2022-03-09T08:23:38.251Z"
   },
   {
    "duration": 6,
    "start_time": "2022-03-09T08:42:17.987Z"
   },
   {
    "duration": 2,
    "start_time": "2022-03-09T08:42:32.122Z"
   },
   {
    "duration": 306,
    "start_time": "2022-03-09T09:08:07.134Z"
   },
   {
    "duration": 4,
    "start_time": "2022-03-09T09:08:15.713Z"
   },
   {
    "duration": 8,
    "start_time": "2022-03-09T09:08:16.420Z"
   },
   {
    "duration": 9,
    "start_time": "2022-03-09T09:08:30.885Z"
   },
   {
    "duration": 4,
    "start_time": "2022-03-09T09:09:36.741Z"
   },
   {
    "duration": 7,
    "start_time": "2022-03-09T09:09:38.804Z"
   },
   {
    "duration": 8,
    "start_time": "2022-03-09T09:09:42.576Z"
   },
   {
    "duration": 285,
    "start_time": "2022-03-09T09:23:21.600Z"
   },
   {
    "duration": 4,
    "start_time": "2022-03-09T09:23:52.621Z"
   },
   {
    "duration": 6,
    "start_time": "2022-03-09T09:23:53.722Z"
   },
   {
    "duration": 8,
    "start_time": "2022-03-09T09:23:57.926Z"
   },
   {
    "duration": 4,
    "start_time": "2022-03-09T09:24:01.517Z"
   },
   {
    "duration": 7,
    "start_time": "2022-03-09T09:24:02.978Z"
   },
   {
    "duration": 10,
    "start_time": "2022-03-09T09:24:05.539Z"
   },
   {
    "duration": 4,
    "start_time": "2022-03-09T09:24:09.690Z"
   },
   {
    "duration": 10,
    "start_time": "2022-03-09T09:24:16.059Z"
   },
   {
    "duration": 7,
    "start_time": "2022-03-09T09:24:20.090Z"
   },
   {
    "duration": 6,
    "start_time": "2022-03-09T09:24:55.086Z"
   },
   {
    "duration": 2,
    "start_time": "2022-03-09T09:57:53.634Z"
   },
   {
    "duration": 4,
    "start_time": "2022-03-09T09:57:54.873Z"
   },
   {
    "duration": 4,
    "start_time": "2022-03-09T09:58:06.114Z"
   },
   {
    "duration": 4,
    "start_time": "2022-03-09T09:59:11.822Z"
   },
   {
    "duration": 3,
    "start_time": "2022-03-09T09:59:19.444Z"
   },
   {
    "duration": 4,
    "start_time": "2022-03-09T10:00:56.782Z"
   },
   {
    "duration": 8,
    "start_time": "2022-03-09T10:04:37.557Z"
   },
   {
    "duration": 11,
    "start_time": "2022-03-09T10:04:39.373Z"
   },
   {
    "duration": 7,
    "start_time": "2022-03-09T10:25:10.550Z"
   },
   {
    "duration": 2,
    "start_time": "2022-03-09T10:25:29.484Z"
   },
   {
    "duration": 122,
    "start_time": "2022-03-09T10:45:38.152Z"
   },
   {
    "duration": 8,
    "start_time": "2022-03-09T10:50:58.886Z"
   },
   {
    "duration": 3,
    "start_time": "2022-03-09T10:52:36.403Z"
   },
   {
    "duration": 4,
    "start_time": "2022-03-09T10:52:38.089Z"
   },
   {
    "duration": 9,
    "start_time": "2022-03-09T10:53:34.016Z"
   },
   {
    "duration": 11,
    "start_time": "2022-03-09T10:53:37.596Z"
   },
   {
    "duration": 99,
    "start_time": "2022-03-09T10:55:33.290Z"
   },
   {
    "duration": 103,
    "start_time": "2022-03-09T10:56:09.906Z"
   },
   {
    "duration": 7,
    "start_time": "2022-03-09T10:56:18.127Z"
   },
   {
    "duration": 6,
    "start_time": "2022-03-09T10:58:02.481Z"
   },
   {
    "duration": 107,
    "start_time": "2022-03-09T11:08:59.387Z"
   },
   {
    "duration": 98,
    "start_time": "2022-03-09T11:23:18.793Z"
   },
   {
    "duration": 17,
    "start_time": "2022-03-09T11:26:11.135Z"
   },
   {
    "duration": 8,
    "start_time": "2022-03-09T11:26:12.110Z"
   },
   {
    "duration": 105,
    "start_time": "2022-03-09T11:26:13.070Z"
   },
   {
    "duration": 7,
    "start_time": "2022-03-09T11:26:59.521Z"
   },
   {
    "duration": 16,
    "start_time": "2022-03-09T11:38:37.427Z"
   },
   {
    "duration": 4,
    "start_time": "2022-03-09T11:38:42.481Z"
   },
   {
    "duration": 6,
    "start_time": "2022-03-09T11:38:43.609Z"
   },
   {
    "duration": 2,
    "start_time": "2022-03-09T13:24:18.404Z"
   },
   {
    "duration": 56,
    "start_time": "2022-03-09T13:24:21.281Z"
   },
   {
    "duration": 12,
    "start_time": "2022-03-09T13:26:05.484Z"
   },
   {
    "duration": 9,
    "start_time": "2022-03-09T13:26:22.764Z"
   },
   {
    "duration": 3,
    "start_time": "2022-03-09T13:26:38.941Z"
   },
   {
    "duration": 5,
    "start_time": "2022-03-09T13:26:46.189Z"
   },
   {
    "duration": 4,
    "start_time": "2022-03-09T13:26:47.086Z"
   },
   {
    "duration": 6,
    "start_time": "2022-03-09T13:26:56.737Z"
   },
   {
    "duration": 17,
    "start_time": "2022-03-09T13:27:02.054Z"
   },
   {
    "duration": 24,
    "start_time": "2022-03-09T13:27:19.926Z"
   },
   {
    "duration": 5,
    "start_time": "2022-03-09T13:27:31.310Z"
   },
   {
    "duration": 6,
    "start_time": "2022-03-09T13:27:54.534Z"
   },
   {
    "duration": 8,
    "start_time": "2022-03-09T13:28:00.219Z"
   },
   {
    "duration": 6,
    "start_time": "2022-03-09T13:28:01.107Z"
   },
   {
    "duration": 5,
    "start_time": "2022-03-09T13:28:14.135Z"
   },
   {
    "duration": 5,
    "start_time": "2022-03-09T13:28:15.088Z"
   },
   {
    "duration": 5,
    "start_time": "2022-03-09T13:28:15.951Z"
   },
   {
    "duration": 6,
    "start_time": "2022-03-09T13:28:30.648Z"
   },
   {
    "duration": 21,
    "start_time": "2022-03-09T13:28:39.150Z"
   },
   {
    "duration": 3,
    "start_time": "2022-03-09T13:28:43.129Z"
   },
   {
    "duration": 5,
    "start_time": "2022-03-09T13:28:44.076Z"
   },
   {
    "duration": 7,
    "start_time": "2022-03-09T13:28:45.233Z"
   },
   {
    "duration": 4,
    "start_time": "2022-03-09T13:28:47.063Z"
   },
   {
    "duration": 3,
    "start_time": "2022-03-09T13:28:52.928Z"
   },
   {
    "duration": 5,
    "start_time": "2022-03-09T13:28:54.463Z"
   },
   {
    "duration": 4,
    "start_time": "2022-03-09T13:28:59.535Z"
   },
   {
    "duration": 4,
    "start_time": "2022-03-09T13:29:00.472Z"
   },
   {
    "duration": 12,
    "start_time": "2022-03-09T13:29:12.943Z"
   },
   {
    "duration": 12,
    "start_time": "2022-03-09T13:29:16.935Z"
   },
   {
    "duration": 4,
    "start_time": "2022-03-09T13:29:17.441Z"
   },
   {
    "duration": 3,
    "start_time": "2022-03-09T13:29:32.168Z"
   },
   {
    "duration": 8,
    "start_time": "2022-03-09T13:29:34.048Z"
   },
   {
    "duration": 14,
    "start_time": "2022-03-09T13:29:47.713Z"
   },
   {
    "duration": 16,
    "start_time": "2022-03-09T13:29:48.969Z"
   },
   {
    "duration": 14,
    "start_time": "2022-03-09T13:29:49.682Z"
   },
   {
    "duration": 7,
    "start_time": "2022-03-09T13:30:07.634Z"
   },
   {
    "duration": 11,
    "start_time": "2022-03-09T13:30:17.593Z"
   },
   {
    "duration": 8,
    "start_time": "2022-03-09T13:30:18.690Z"
   },
   {
    "duration": 7,
    "start_time": "2022-03-09T13:30:57.236Z"
   },
   {
    "duration": 11,
    "start_time": "2022-03-09T13:31:02.925Z"
   },
   {
    "duration": 8,
    "start_time": "2022-03-09T13:31:03.803Z"
   },
   {
    "duration": 6,
    "start_time": "2022-03-09T13:31:08.868Z"
   },
   {
    "duration": 11,
    "start_time": "2022-03-09T13:31:13.683Z"
   },
   {
    "duration": 6,
    "start_time": "2022-03-09T13:31:15.124Z"
   },
   {
    "duration": 6,
    "start_time": "2022-03-09T13:31:16.324Z"
   },
   {
    "duration": 18,
    "start_time": "2022-03-09T13:31:21.341Z"
   },
   {
    "duration": 17,
    "start_time": "2022-03-09T13:31:22.060Z"
   },
   {
    "duration": 15,
    "start_time": "2022-03-09T13:31:22.791Z"
   },
   {
    "duration": 9,
    "start_time": "2022-03-09T13:31:25.596Z"
   },
   {
    "duration": 7,
    "start_time": "2022-03-09T13:31:42.700Z"
   },
   {
    "duration": 5,
    "start_time": "2022-03-09T13:31:51.553Z"
   },
   {
    "duration": 8,
    "start_time": "2022-03-09T13:31:52.368Z"
   },
   {
    "duration": 10,
    "start_time": "2022-03-09T13:32:02.209Z"
   },
   {
    "duration": 4,
    "start_time": "2022-03-09T13:32:05.924Z"
   },
   {
    "duration": 8,
    "start_time": "2022-03-09T13:32:06.749Z"
   },
   {
    "duration": 10,
    "start_time": "2022-03-09T13:32:09.559Z"
   },
   {
    "duration": 5,
    "start_time": "2022-03-09T13:32:17.283Z"
   },
   {
    "duration": 10,
    "start_time": "2022-03-09T13:32:19.447Z"
   },
   {
    "duration": 8,
    "start_time": "2022-03-09T13:32:27.456Z"
   },
   {
    "duration": 4,
    "start_time": "2022-03-09T13:33:15.768Z"
   },
   {
    "duration": 4,
    "start_time": "2022-03-09T13:33:16.502Z"
   },
   {
    "duration": 7,
    "start_time": "2022-03-09T13:33:19.986Z"
   },
   {
    "duration": 11,
    "start_time": "2022-03-09T13:33:21.048Z"
   },
   {
    "duration": 6,
    "start_time": "2022-03-09T13:33:21.134Z"
   },
   {
    "duration": 7,
    "start_time": "2022-03-09T13:36:32.821Z"
   },
   {
    "duration": 11,
    "start_time": "2022-03-09T13:36:34.021Z"
   },
   {
    "duration": 7,
    "start_time": "2022-03-09T13:36:44.140Z"
   },
   {
    "duration": 3,
    "start_time": "2022-03-09T13:36:48.695Z"
   },
   {
    "duration": 3,
    "start_time": "2022-03-09T13:36:50.213Z"
   },
   {
    "duration": 7,
    "start_time": "2022-03-09T13:36:52.602Z"
   },
   {
    "duration": 11,
    "start_time": "2022-03-09T13:37:16.950Z"
   },
   {
    "duration": 10,
    "start_time": "2022-03-09T13:37:18.350Z"
   },
   {
    "duration": 16,
    "start_time": "2022-03-09T13:38:04.575Z"
   },
   {
    "duration": 5,
    "start_time": "2022-03-09T13:38:07.598Z"
   },
   {
    "duration": 8,
    "start_time": "2022-03-09T13:38:08.409Z"
   },
   {
    "duration": 14,
    "start_time": "2022-03-09T13:38:47.620Z"
   },
   {
    "duration": 5,
    "start_time": "2022-03-09T13:38:55.312Z"
   },
   {
    "duration": 7,
    "start_time": "2022-03-09T13:38:59.921Z"
   },
   {
    "duration": 15,
    "start_time": "2022-03-09T13:39:10.442Z"
   },
   {
    "duration": 4,
    "start_time": "2022-03-09T13:39:13.929Z"
   },
   {
    "duration": 7,
    "start_time": "2022-03-09T13:39:14.672Z"
   },
   {
    "duration": 16,
    "start_time": "2022-03-09T13:39:26.441Z"
   },
   {
    "duration": 3,
    "start_time": "2022-03-09T13:39:31.450Z"
   },
   {
    "duration": 7,
    "start_time": "2022-03-09T13:39:32.194Z"
   },
   {
    "duration": 576,
    "start_time": "2022-03-09T13:42:15.625Z"
   },
   {
    "duration": 58,
    "start_time": "2022-03-09T13:42:16.203Z"
   },
   {
    "duration": 17,
    "start_time": "2022-03-09T13:42:16.263Z"
   },
   {
    "duration": 10,
    "start_time": "2022-03-09T13:42:16.281Z"
   },
   {
    "duration": 8,
    "start_time": "2022-03-09T13:42:16.292Z"
   },
   {
    "duration": 4,
    "start_time": "2022-03-09T13:42:16.302Z"
   },
   {
    "duration": 11,
    "start_time": "2022-03-09T13:42:16.308Z"
   },
   {
    "duration": 6,
    "start_time": "2022-03-09T13:42:16.321Z"
   },
   {
    "duration": 7,
    "start_time": "2022-03-09T13:42:16.328Z"
   },
   {
    "duration": 18,
    "start_time": "2022-03-09T13:42:16.336Z"
   },
   {
    "duration": 24,
    "start_time": "2022-03-09T13:42:16.355Z"
   },
   {
    "duration": 3,
    "start_time": "2022-03-09T13:42:16.381Z"
   },
   {
    "duration": 25,
    "start_time": "2022-03-09T13:42:16.386Z"
   },
   {
    "duration": 7,
    "start_time": "2022-03-09T13:42:16.413Z"
   },
   {
    "duration": 5,
    "start_time": "2022-03-09T13:42:16.422Z"
   },
   {
    "duration": 5,
    "start_time": "2022-03-09T13:42:16.429Z"
   },
   {
    "duration": 4,
    "start_time": "2022-03-09T13:42:16.436Z"
   },
   {
    "duration": 15,
    "start_time": "2022-03-09T13:42:16.441Z"
   },
   {
    "duration": 6,
    "start_time": "2022-03-09T13:42:16.457Z"
   },
   {
    "duration": 42,
    "start_time": "2022-03-09T13:42:16.464Z"
   },
   {
    "duration": 3,
    "start_time": "2022-03-09T13:42:16.508Z"
   },
   {
    "duration": 7,
    "start_time": "2022-03-09T13:42:16.513Z"
   },
   {
    "duration": 11,
    "start_time": "2022-03-09T13:42:16.524Z"
   },
   {
    "duration": 8,
    "start_time": "2022-03-09T13:42:16.537Z"
   },
   {
    "duration": 3,
    "start_time": "2022-03-09T13:42:16.546Z"
   },
   {
    "duration": 7,
    "start_time": "2022-03-09T13:42:16.550Z"
   },
   {
    "duration": 7,
    "start_time": "2022-03-09T13:42:16.559Z"
   },
   {
    "duration": 5,
    "start_time": "2022-03-09T13:42:16.567Z"
   },
   {
    "duration": 33,
    "start_time": "2022-03-09T13:42:16.573Z"
   },
   {
    "duration": 13,
    "start_time": "2022-03-09T13:42:16.607Z"
   },
   {
    "duration": 4,
    "start_time": "2022-03-09T13:42:16.622Z"
   },
   {
    "duration": 7,
    "start_time": "2022-03-09T13:42:16.627Z"
   },
   {
    "duration": 9,
    "start_time": "2022-03-09T13:42:16.636Z"
   },
   {
    "duration": 14,
    "start_time": "2022-03-09T13:42:16.646Z"
   },
   {
    "duration": 14,
    "start_time": "2022-03-09T13:42:16.662Z"
   },
   {
    "duration": 39,
    "start_time": "2022-03-09T13:42:16.678Z"
   },
   {
    "duration": 6,
    "start_time": "2022-03-09T13:42:16.718Z"
   },
   {
    "duration": 12,
    "start_time": "2022-03-09T13:42:16.725Z"
   },
   {
    "duration": 6,
    "start_time": "2022-03-09T13:42:16.739Z"
   },
   {
    "duration": 8,
    "start_time": "2022-03-09T13:42:16.746Z"
   },
   {
    "duration": 11,
    "start_time": "2022-03-09T13:42:16.755Z"
   },
   {
    "duration": 7,
    "start_time": "2022-03-09T13:42:16.768Z"
   },
   {
    "duration": 30,
    "start_time": "2022-03-09T13:42:16.776Z"
   },
   {
    "duration": 12,
    "start_time": "2022-03-09T13:42:16.807Z"
   },
   {
    "duration": 5,
    "start_time": "2022-03-09T13:42:16.821Z"
   },
   {
    "duration": 7,
    "start_time": "2022-03-09T13:42:16.828Z"
   },
   {
    "duration": 20,
    "start_time": "2022-03-09T13:42:16.836Z"
   },
   {
    "duration": 15,
    "start_time": "2022-03-09T13:42:16.857Z"
   },
   {
    "duration": 43,
    "start_time": "2022-03-09T13:42:16.873Z"
   },
   {
    "duration": 10,
    "start_time": "2022-03-09T13:42:16.917Z"
   },
   {
    "duration": 10,
    "start_time": "2022-03-09T13:42:16.928Z"
   },
   {
    "duration": 9,
    "start_time": "2022-03-09T13:42:16.940Z"
   },
   {
    "duration": 13,
    "start_time": "2022-03-09T13:42:16.950Z"
   },
   {
    "duration": 11,
    "start_time": "2022-03-09T13:42:16.964Z"
   },
   {
    "duration": 3,
    "start_time": "2022-03-09T13:42:16.977Z"
   },
   {
    "duration": 9,
    "start_time": "2022-03-09T13:42:16.981Z"
   },
   {
    "duration": 10,
    "start_time": "2022-03-09T13:42:17.005Z"
   },
   {
    "duration": 5,
    "start_time": "2022-03-09T13:42:17.016Z"
   },
   {
    "duration": 12,
    "start_time": "2022-03-09T13:42:17.022Z"
   },
   {
    "duration": 10,
    "start_time": "2022-03-09T13:42:17.036Z"
   },
   {
    "duration": 2,
    "start_time": "2022-03-09T13:42:17.048Z"
   },
   {
    "duration": 8,
    "start_time": "2022-03-09T13:42:17.051Z"
   },
   {
    "duration": 8,
    "start_time": "2022-03-09T13:42:17.061Z"
   },
   {
    "duration": 36,
    "start_time": "2022-03-09T13:42:17.070Z"
   },
   {
    "duration": 9,
    "start_time": "2022-03-09T13:42:17.108Z"
   },
   {
    "duration": 5,
    "start_time": "2022-03-09T13:42:17.119Z"
   },
   {
    "duration": 9,
    "start_time": "2022-03-09T13:42:17.125Z"
   },
   {
    "duration": 8,
    "start_time": "2022-03-09T13:42:17.138Z"
   },
   {
    "duration": 11,
    "start_time": "2022-03-09T13:42:17.148Z"
   },
   {
    "duration": 11,
    "start_time": "2022-03-09T13:42:17.161Z"
   },
   {
    "duration": 44,
    "start_time": "2022-03-09T13:42:17.173Z"
   },
   {
    "duration": 6,
    "start_time": "2022-03-09T13:42:17.219Z"
   },
   {
    "duration": 7,
    "start_time": "2022-03-09T13:42:17.227Z"
   },
   {
    "duration": 16,
    "start_time": "2022-03-09T13:42:17.236Z"
   },
   {
    "duration": 3,
    "start_time": "2022-03-09T13:42:17.254Z"
   },
   {
    "duration": 8,
    "start_time": "2022-03-09T13:42:17.259Z"
   },
   {
    "duration": 47,
    "start_time": "2022-03-09T13:42:17.268Z"
   },
   {
    "duration": 3,
    "start_time": "2022-03-09T13:42:17.317Z"
   },
   {
    "duration": 9,
    "start_time": "2022-03-09T13:42:17.322Z"
   },
   {
    "duration": 17,
    "start_time": "2022-03-09T13:42:17.332Z"
   },
   {
    "duration": 3,
    "start_time": "2022-03-09T13:42:17.350Z"
   },
   {
    "duration": 8,
    "start_time": "2022-03-09T13:42:17.354Z"
   },
   {
    "duration": 881,
    "start_time": "2022-03-17T14:18:09.229Z"
   },
   {
    "duration": 70,
    "start_time": "2022-03-17T14:18:10.113Z"
   },
   {
    "duration": 28,
    "start_time": "2022-03-17T14:18:10.186Z"
   },
   {
    "duration": 15,
    "start_time": "2022-03-17T14:18:10.217Z"
   },
   {
    "duration": 32,
    "start_time": "2022-03-17T14:18:10.235Z"
   },
   {
    "duration": 5,
    "start_time": "2022-03-17T14:18:10.269Z"
   },
   {
    "duration": 10,
    "start_time": "2022-03-17T14:18:10.275Z"
   },
   {
    "duration": 5,
    "start_time": "2022-03-17T14:18:10.288Z"
   },
   {
    "duration": 8,
    "start_time": "2022-03-17T14:18:10.295Z"
   },
   {
    "duration": 21,
    "start_time": "2022-03-17T14:18:10.305Z"
   },
   {
    "duration": 30,
    "start_time": "2022-03-17T14:18:10.363Z"
   },
   {
    "duration": 6,
    "start_time": "2022-03-17T14:18:10.394Z"
   },
   {
    "duration": 8,
    "start_time": "2022-03-17T14:18:10.402Z"
   },
   {
    "duration": 10,
    "start_time": "2022-03-17T14:18:10.412Z"
   },
   {
    "duration": 7,
    "start_time": "2022-03-17T14:18:10.424Z"
   },
   {
    "duration": 7,
    "start_time": "2022-03-17T14:18:10.464Z"
   },
   {
    "duration": 16,
    "start_time": "2022-03-17T14:18:10.473Z"
   },
   {
    "duration": 9,
    "start_time": "2022-03-17T14:18:10.491Z"
   },
   {
    "duration": 10,
    "start_time": "2022-03-17T14:18:10.502Z"
   },
   {
    "duration": 29,
    "start_time": "2022-03-17T14:18:10.513Z"
   },
   {
    "duration": 19,
    "start_time": "2022-03-17T14:18:10.544Z"
   },
   {
    "duration": 10,
    "start_time": "2022-03-17T14:18:10.565Z"
   },
   {
    "duration": 10,
    "start_time": "2022-03-17T14:18:10.579Z"
   },
   {
    "duration": 6,
    "start_time": "2022-03-17T14:18:10.592Z"
   },
   {
    "duration": 4,
    "start_time": "2022-03-17T14:18:10.600Z"
   },
   {
    "duration": 7,
    "start_time": "2022-03-17T14:18:10.606Z"
   },
   {
    "duration": 7,
    "start_time": "2022-03-17T14:18:10.615Z"
   },
   {
    "duration": 40,
    "start_time": "2022-03-17T14:18:10.624Z"
   },
   {
    "duration": 16,
    "start_time": "2022-03-17T14:18:10.667Z"
   },
   {
    "duration": 17,
    "start_time": "2022-03-17T14:18:10.685Z"
   },
   {
    "duration": 5,
    "start_time": "2022-03-17T14:18:10.705Z"
   },
   {
    "duration": 9,
    "start_time": "2022-03-17T14:18:10.712Z"
   },
   {
    "duration": 41,
    "start_time": "2022-03-17T14:18:10.723Z"
   },
   {
    "duration": 18,
    "start_time": "2022-03-17T14:18:10.767Z"
   },
   {
    "duration": 17,
    "start_time": "2022-03-17T14:18:10.787Z"
   },
   {
    "duration": 15,
    "start_time": "2022-03-17T14:18:10.806Z"
   },
   {
    "duration": 7,
    "start_time": "2022-03-17T14:18:10.823Z"
   },
   {
    "duration": 13,
    "start_time": "2022-03-17T14:18:10.863Z"
   },
   {
    "duration": 13,
    "start_time": "2022-03-17T14:18:10.877Z"
   },
   {
    "duration": 12,
    "start_time": "2022-03-17T14:18:10.892Z"
   },
   {
    "duration": 19,
    "start_time": "2022-03-17T14:18:10.906Z"
   },
   {
    "duration": 13,
    "start_time": "2022-03-17T14:18:10.928Z"
   },
   {
    "duration": 29,
    "start_time": "2022-03-17T14:18:10.943Z"
   },
   {
    "duration": 20,
    "start_time": "2022-03-17T14:18:10.974Z"
   },
   {
    "duration": 8,
    "start_time": "2022-03-17T14:18:10.996Z"
   },
   {
    "duration": 10,
    "start_time": "2022-03-17T14:18:11.006Z"
   },
   {
    "duration": 47,
    "start_time": "2022-03-17T14:18:11.018Z"
   },
   {
    "duration": 28,
    "start_time": "2022-03-17T14:18:11.067Z"
   },
   {
    "duration": 25,
    "start_time": "2022-03-17T14:18:11.097Z"
   },
   {
    "duration": 12,
    "start_time": "2022-03-17T14:18:11.125Z"
   },
   {
    "duration": 9,
    "start_time": "2022-03-17T14:18:11.163Z"
   },
   {
    "duration": 8,
    "start_time": "2022-03-17T14:18:11.174Z"
   },
   {
    "duration": 13,
    "start_time": "2022-03-17T14:18:11.184Z"
   },
   {
    "duration": 13,
    "start_time": "2022-03-17T14:18:11.198Z"
   },
   {
    "duration": 5,
    "start_time": "2022-03-17T14:18:11.213Z"
   },
   {
    "duration": 12,
    "start_time": "2022-03-17T14:18:11.220Z"
   },
   {
    "duration": 15,
    "start_time": "2022-03-17T14:18:11.262Z"
   },
   {
    "duration": 5,
    "start_time": "2022-03-17T14:18:11.279Z"
   },
   {
    "duration": 14,
    "start_time": "2022-03-17T14:18:11.286Z"
   },
   {
    "duration": 13,
    "start_time": "2022-03-17T14:18:11.303Z"
   },
   {
    "duration": 3,
    "start_time": "2022-03-17T14:18:11.318Z"
   },
   {
    "duration": 7,
    "start_time": "2022-03-17T14:18:11.323Z"
   },
   {
    "duration": 39,
    "start_time": "2022-03-17T14:18:11.332Z"
   },
   {
    "duration": 12,
    "start_time": "2022-03-17T14:18:11.373Z"
   },
   {
    "duration": 10,
    "start_time": "2022-03-17T14:18:11.387Z"
   },
   {
    "duration": 5,
    "start_time": "2022-03-17T14:18:11.399Z"
   },
   {
    "duration": 8,
    "start_time": "2022-03-17T14:18:11.406Z"
   },
   {
    "duration": 9,
    "start_time": "2022-03-17T14:18:11.419Z"
   },
   {
    "duration": 13,
    "start_time": "2022-03-17T14:18:11.463Z"
   },
   {
    "duration": 14,
    "start_time": "2022-03-17T14:18:11.478Z"
   },
   {
    "duration": 21,
    "start_time": "2022-03-17T14:18:11.494Z"
   },
   {
    "duration": 11,
    "start_time": "2022-03-17T14:18:11.516Z"
   },
   {
    "duration": 36,
    "start_time": "2022-03-17T14:18:11.529Z"
   },
   {
    "duration": 17,
    "start_time": "2022-03-17T14:18:11.567Z"
   },
   {
    "duration": 4,
    "start_time": "2022-03-17T14:18:11.586Z"
   },
   {
    "duration": 9,
    "start_time": "2022-03-17T14:18:11.592Z"
   },
   {
    "duration": 30,
    "start_time": "2022-03-17T14:18:11.603Z"
   },
   {
    "duration": 29,
    "start_time": "2022-03-17T14:18:11.635Z"
   },
   {
    "duration": 11,
    "start_time": "2022-03-17T14:18:11.666Z"
   },
   {
    "duration": 20,
    "start_time": "2022-03-17T14:18:11.679Z"
   },
   {
    "duration": 5,
    "start_time": "2022-03-17T14:18:11.701Z"
   },
   {
    "duration": 10,
    "start_time": "2022-03-17T14:18:11.708Z"
   },
   {
    "duration": 873,
    "start_time": "2022-03-17T14:29:53.060Z"
   },
   {
    "duration": 62,
    "start_time": "2022-03-17T14:29:53.936Z"
   },
   {
    "duration": 27,
    "start_time": "2022-03-17T14:29:54.001Z"
   },
   {
    "duration": 33,
    "start_time": "2022-03-17T14:29:54.030Z"
   },
   {
    "duration": 15,
    "start_time": "2022-03-17T14:29:54.065Z"
   },
   {
    "duration": 4,
    "start_time": "2022-03-17T14:29:54.082Z"
   },
   {
    "duration": 7,
    "start_time": "2022-03-17T14:29:54.088Z"
   },
   {
    "duration": 6,
    "start_time": "2022-03-17T14:29:54.097Z"
   },
   {
    "duration": 12,
    "start_time": "2022-03-17T14:29:54.107Z"
   },
   {
    "duration": 51,
    "start_time": "2022-03-17T14:29:54.121Z"
   },
   {
    "duration": 29,
    "start_time": "2022-03-17T14:29:54.174Z"
   },
   {
    "duration": 5,
    "start_time": "2022-03-17T14:29:54.204Z"
   },
   {
    "duration": 5,
    "start_time": "2022-03-17T14:29:54.210Z"
   },
   {
    "duration": 9,
    "start_time": "2022-03-17T14:29:54.216Z"
   },
   {
    "duration": 37,
    "start_time": "2022-03-17T14:29:54.226Z"
   },
   {
    "duration": 6,
    "start_time": "2022-03-17T14:29:54.265Z"
   },
   {
    "duration": 12,
    "start_time": "2022-03-17T14:29:54.273Z"
   },
   {
    "duration": 6,
    "start_time": "2022-03-17T14:29:54.287Z"
   },
   {
    "duration": 16,
    "start_time": "2022-03-17T14:29:54.295Z"
   },
   {
    "duration": 16,
    "start_time": "2022-03-17T14:29:54.312Z"
   },
   {
    "duration": 23,
    "start_time": "2022-03-17T14:29:54.329Z"
   },
   {
    "duration": 4,
    "start_time": "2022-03-17T14:29:54.363Z"
   },
   {
    "duration": 10,
    "start_time": "2022-03-17T14:29:54.368Z"
   },
   {
    "duration": 12,
    "start_time": "2022-03-17T14:29:54.380Z"
   },
   {
    "duration": 11,
    "start_time": "2022-03-17T14:29:54.395Z"
   },
   {
    "duration": 3,
    "start_time": "2022-03-17T14:29:54.408Z"
   },
   {
    "duration": 5,
    "start_time": "2022-03-17T14:29:54.415Z"
   },
   {
    "duration": 4,
    "start_time": "2022-03-17T14:29:54.423Z"
   },
   {
    "duration": 35,
    "start_time": "2022-03-17T14:29:54.429Z"
   },
   {
    "duration": 14,
    "start_time": "2022-03-17T14:29:54.466Z"
   },
   {
    "duration": 13,
    "start_time": "2022-03-17T14:29:54.482Z"
   },
   {
    "duration": 6,
    "start_time": "2022-03-17T14:29:54.497Z"
   },
   {
    "duration": 5,
    "start_time": "2022-03-17T14:29:54.504Z"
   },
   {
    "duration": 11,
    "start_time": "2022-03-17T14:29:54.510Z"
   },
   {
    "duration": 44,
    "start_time": "2022-03-17T14:29:54.522Z"
   },
   {
    "duration": 17,
    "start_time": "2022-03-17T14:29:54.568Z"
   },
   {
    "duration": 14,
    "start_time": "2022-03-17T14:29:54.587Z"
   },
   {
    "duration": 7,
    "start_time": "2022-03-17T14:29:54.602Z"
   },
   {
    "duration": 13,
    "start_time": "2022-03-17T14:29:54.610Z"
   },
   {
    "duration": 44,
    "start_time": "2022-03-17T14:29:54.625Z"
   },
   {
    "duration": 10,
    "start_time": "2022-03-17T14:29:54.671Z"
   },
   {
    "duration": 18,
    "start_time": "2022-03-17T14:29:54.683Z"
   },
   {
    "duration": 13,
    "start_time": "2022-03-17T14:29:54.702Z"
   },
   {
    "duration": 10,
    "start_time": "2022-03-17T14:29:54.717Z"
   },
   {
    "duration": 14,
    "start_time": "2022-03-17T14:29:54.729Z"
   },
   {
    "duration": 22,
    "start_time": "2022-03-17T14:29:54.744Z"
   },
   {
    "duration": 13,
    "start_time": "2022-03-17T14:29:54.768Z"
   },
   {
    "duration": 25,
    "start_time": "2022-03-17T14:29:54.782Z"
   },
   {
    "duration": 19,
    "start_time": "2022-03-17T14:29:54.809Z"
   },
   {
    "duration": 34,
    "start_time": "2022-03-17T14:29:54.830Z"
   },
   {
    "duration": 12,
    "start_time": "2022-03-17T14:29:54.865Z"
   },
   {
    "duration": 9,
    "start_time": "2022-03-17T14:29:54.879Z"
   },
   {
    "duration": 7,
    "start_time": "2022-03-17T14:29:54.890Z"
   },
   {
    "duration": 14,
    "start_time": "2022-03-17T14:29:54.898Z"
   },
   {
    "duration": 12,
    "start_time": "2022-03-17T14:29:54.914Z"
   },
   {
    "duration": 4,
    "start_time": "2022-03-17T14:29:54.928Z"
   },
   {
    "duration": 33,
    "start_time": "2022-03-17T14:29:54.933Z"
   },
   {
    "duration": 13,
    "start_time": "2022-03-17T14:29:54.968Z"
   },
   {
    "duration": 4,
    "start_time": "2022-03-17T14:29:54.983Z"
   },
   {
    "duration": 14,
    "start_time": "2022-03-17T14:29:54.988Z"
   },
   {
    "duration": 12,
    "start_time": "2022-03-17T14:29:55.004Z"
   },
   {
    "duration": 4,
    "start_time": "2022-03-17T14:29:55.018Z"
   },
   {
    "duration": 8,
    "start_time": "2022-03-17T14:29:55.024Z"
   },
   {
    "duration": 9,
    "start_time": "2022-03-17T14:29:55.063Z"
   },
   {
    "duration": 17,
    "start_time": "2022-03-17T14:29:55.074Z"
   },
   {
    "duration": 11,
    "start_time": "2022-03-17T14:29:55.093Z"
   },
   {
    "duration": 7,
    "start_time": "2022-03-17T14:29:55.106Z"
   },
   {
    "duration": 5,
    "start_time": "2022-03-17T14:29:55.115Z"
   },
   {
    "duration": 12,
    "start_time": "2022-03-17T14:29:55.122Z"
   },
   {
    "duration": 38,
    "start_time": "2022-03-17T14:29:55.136Z"
   },
   {
    "duration": 17,
    "start_time": "2022-03-17T14:29:55.176Z"
   },
   {
    "duration": 21,
    "start_time": "2022-03-17T14:29:55.195Z"
   },
   {
    "duration": 8,
    "start_time": "2022-03-17T14:29:55.218Z"
   },
   {
    "duration": 12,
    "start_time": "2022-03-17T14:29:55.227Z"
   },
   {
    "duration": 21,
    "start_time": "2022-03-17T14:29:55.263Z"
   },
   {
    "duration": 4,
    "start_time": "2022-03-17T14:29:55.286Z"
   },
   {
    "duration": 13,
    "start_time": "2022-03-17T14:29:55.292Z"
   },
   {
    "duration": 18,
    "start_time": "2022-03-17T14:29:55.307Z"
   },
   {
    "duration": 4,
    "start_time": "2022-03-17T14:29:55.326Z"
   },
   {
    "duration": 36,
    "start_time": "2022-03-17T14:29:55.332Z"
   },
   {
    "duration": 19,
    "start_time": "2022-03-17T14:29:55.373Z"
   },
   {
    "duration": 4,
    "start_time": "2022-03-17T14:29:55.394Z"
   },
   {
    "duration": 11,
    "start_time": "2022-03-17T14:29:55.399Z"
   },
   {
    "duration": 359,
    "start_time": "2022-03-18T07:15:09.967Z"
   },
   {
    "duration": 67,
    "start_time": "2022-03-18T07:15:10.691Z"
   },
   {
    "duration": 20,
    "start_time": "2022-03-18T07:15:11.563Z"
   },
   {
    "duration": 16,
    "start_time": "2022-03-18T07:15:15.250Z"
   },
   {
    "duration": 11,
    "start_time": "2022-03-18T07:15:23.752Z"
   },
   {
    "duration": 4,
    "start_time": "2022-03-18T07:15:30.233Z"
   },
   {
    "duration": 12,
    "start_time": "2022-03-18T07:15:31.106Z"
   },
   {
    "duration": 85,
    "start_time": "2022-03-18T07:20:56.121Z"
   },
   {
    "duration": 3,
    "start_time": "2022-03-18T07:50:39.043Z"
   },
   {
    "duration": 57,
    "start_time": "2022-03-18T07:50:39.842Z"
   },
   {
    "duration": 12,
    "start_time": "2022-03-18T07:50:40.530Z"
   },
   {
    "duration": 18,
    "start_time": "2022-03-18T07:50:43.201Z"
   },
   {
    "duration": 10,
    "start_time": "2022-03-18T07:50:47.649Z"
   },
   {
    "duration": 5,
    "start_time": "2022-03-18T07:51:07.089Z"
   },
   {
    "duration": 18,
    "start_time": "2022-03-18T07:51:08.601Z"
   },
   {
    "duration": 6,
    "start_time": "2022-03-18T07:51:12.161Z"
   },
   {
    "duration": 5,
    "start_time": "2022-03-18T07:51:12.873Z"
   },
   {
    "duration": 8,
    "start_time": "2022-03-18T07:51:16.857Z"
   },
   {
    "duration": 21,
    "start_time": "2022-03-18T07:51:21.401Z"
   },
   {
    "duration": 25,
    "start_time": "2022-03-18T07:51:25.746Z"
   },
   {
    "duration": 4,
    "start_time": "2022-03-18T07:51:27.972Z"
   },
   {
    "duration": 6,
    "start_time": "2022-03-18T07:51:36.075Z"
   },
   {
    "duration": 6,
    "start_time": "2022-03-18T07:51:39.353Z"
   },
   {
    "duration": 6,
    "start_time": "2022-03-18T07:51:40.594Z"
   },
   {
    "duration": 6,
    "start_time": "2022-03-18T07:51:45.001Z"
   },
   {
    "duration": 6,
    "start_time": "2022-03-18T07:51:46.132Z"
   },
   {
    "duration": 6,
    "start_time": "2022-03-18T07:51:46.986Z"
   },
   {
    "duration": 6,
    "start_time": "2022-03-18T07:51:51.842Z"
   },
   {
    "duration": 22,
    "start_time": "2022-03-18T07:51:55.820Z"
   },
   {
    "duration": 4,
    "start_time": "2022-03-18T07:52:05.547Z"
   },
   {
    "duration": 8,
    "start_time": "2022-03-18T07:52:14.784Z"
   },
   {
    "duration": 6,
    "start_time": "2022-03-18T07:52:21.219Z"
   },
   {
    "duration": 9,
    "start_time": "2022-03-18T07:55:29.516Z"
   },
   {
    "duration": 9,
    "start_time": "2022-03-18T07:55:30.848Z"
   },
   {
    "duration": 73,
    "start_time": "2022-03-18T07:57:02.599Z"
   },
   {
    "duration": 3,
    "start_time": "2022-03-18T07:59:18.998Z"
   },
   {
    "duration": 5,
    "start_time": "2022-03-18T07:59:21.221Z"
   },
   {
    "duration": 445,
    "start_time": "2022-03-18T08:12:35.104Z"
   },
   {
    "duration": 71,
    "start_time": "2022-03-18T08:12:35.551Z"
   },
   {
    "duration": 20,
    "start_time": "2022-03-18T08:12:35.624Z"
   },
   {
    "duration": 16,
    "start_time": "2022-03-18T08:12:35.646Z"
   },
   {
    "duration": 11,
    "start_time": "2022-03-18T08:12:35.663Z"
   },
   {
    "duration": 5,
    "start_time": "2022-03-18T08:12:35.675Z"
   },
   {
    "duration": 12,
    "start_time": "2022-03-18T08:12:35.709Z"
   },
   {
    "duration": 5,
    "start_time": "2022-03-18T08:12:35.723Z"
   },
   {
    "duration": 9,
    "start_time": "2022-03-18T08:12:35.729Z"
   },
   {
    "duration": 12,
    "start_time": "2022-03-18T08:12:35.740Z"
   },
   {
    "duration": 20,
    "start_time": "2022-03-18T08:12:35.753Z"
   },
   {
    "duration": 55,
    "start_time": "2022-03-18T08:12:35.775Z"
   },
   {
    "duration": 5,
    "start_time": "2022-03-18T08:12:35.832Z"
   },
   {
    "duration": 6,
    "start_time": "2022-03-18T08:12:35.838Z"
   },
   {
    "duration": 12,
    "start_time": "2022-03-18T08:12:35.845Z"
   },
   {
    "duration": 10,
    "start_time": "2022-03-18T08:12:35.858Z"
   },
   {
    "duration": 9,
    "start_time": "2022-03-18T08:12:35.869Z"
   },
   {
    "duration": 7,
    "start_time": "2022-03-18T08:12:35.879Z"
   },
   {
    "duration": 6,
    "start_time": "2022-03-18T08:12:35.909Z"
   },
   {
    "duration": 8,
    "start_time": "2022-03-18T08:12:35.916Z"
   },
   {
    "duration": 7,
    "start_time": "2022-03-18T08:12:35.925Z"
   },
   {
    "duration": 23,
    "start_time": "2022-03-18T08:12:35.933Z"
   },
   {
    "duration": 2,
    "start_time": "2022-03-18T08:12:35.958Z"
   },
   {
    "duration": 5,
    "start_time": "2022-03-18T08:12:35.961Z"
   },
   {
    "duration": 8,
    "start_time": "2022-03-18T08:12:35.967Z"
   },
   {
    "duration": 41,
    "start_time": "2022-03-18T08:12:35.976Z"
   },
   {
    "duration": 2,
    "start_time": "2022-03-18T08:12:36.019Z"
   },
   {
    "duration": 9,
    "start_time": "2022-03-18T08:12:36.027Z"
   },
   {
    "duration": 3,
    "start_time": "2022-03-18T08:12:36.038Z"
   },
   {
    "duration": 12,
    "start_time": "2022-03-18T08:12:36.042Z"
   },
   {
    "duration": 3,
    "start_time": "2022-03-18T08:12:36.056Z"
   },
   {
    "duration": 6,
    "start_time": "2022-03-18T08:12:36.061Z"
   },
   {
    "duration": 48,
    "start_time": "2022-03-18T08:12:36.068Z"
   },
   {
    "duration": 10,
    "start_time": "2022-03-18T08:12:36.117Z"
   },
   {
    "duration": 4,
    "start_time": "2022-03-18T08:12:36.129Z"
   },
   {
    "duration": 4,
    "start_time": "2022-03-18T08:12:36.135Z"
   },
   {
    "duration": 6,
    "start_time": "2022-03-18T08:12:36.141Z"
   },
   {
    "duration": 9,
    "start_time": "2022-03-18T08:12:36.148Z"
   },
   {
    "duration": 51,
    "start_time": "2022-03-18T08:12:36.159Z"
   },
   {
    "duration": 22,
    "start_time": "2022-03-18T08:12:36.212Z"
   },
   {
    "duration": 21,
    "start_time": "2022-03-18T08:12:36.235Z"
   },
   {
    "duration": 7,
    "start_time": "2022-03-18T08:12:36.259Z"
   },
   {
    "duration": 42,
    "start_time": "2022-03-18T08:12:36.267Z"
   },
   {
    "duration": 8,
    "start_time": "2022-03-18T08:12:36.310Z"
   },
   {
    "duration": 9,
    "start_time": "2022-03-18T08:12:36.320Z"
   },
   {
    "duration": 15,
    "start_time": "2022-03-18T08:12:36.330Z"
   },
   {
    "duration": 8,
    "start_time": "2022-03-18T08:12:36.346Z"
   },
   {
    "duration": 7,
    "start_time": "2022-03-18T08:12:36.356Z"
   },
   {
    "duration": 15,
    "start_time": "2022-03-18T08:12:36.365Z"
   },
   {
    "duration": 31,
    "start_time": "2022-03-18T08:12:36.382Z"
   },
   {
    "duration": 11,
    "start_time": "2022-03-18T08:12:36.414Z"
   },
   {
    "duration": 22,
    "start_time": "2022-03-18T08:12:36.427Z"
   },
   {
    "duration": 20,
    "start_time": "2022-03-18T08:12:36.451Z"
   },
   {
    "duration": 43,
    "start_time": "2022-03-18T08:12:36.473Z"
   },
   {
    "duration": 15,
    "start_time": "2022-03-18T08:12:36.517Z"
   },
   {
    "duration": 7,
    "start_time": "2022-03-18T08:12:36.534Z"
   },
   {
    "duration": 6,
    "start_time": "2022-03-18T08:12:36.542Z"
   },
   {
    "duration": 9,
    "start_time": "2022-03-18T08:12:36.549Z"
   },
   {
    "duration": 11,
    "start_time": "2022-03-18T08:12:36.559Z"
   },
   {
    "duration": 3,
    "start_time": "2022-03-18T08:12:36.572Z"
   },
   {
    "duration": 9,
    "start_time": "2022-03-18T08:12:36.609Z"
   },
   {
    "duration": 15,
    "start_time": "2022-03-18T08:12:36.620Z"
   },
   {
    "duration": 5,
    "start_time": "2022-03-18T08:12:36.637Z"
   },
   {
    "duration": 12,
    "start_time": "2022-03-18T08:12:36.644Z"
   },
   {
    "duration": 14,
    "start_time": "2022-03-18T08:12:36.658Z"
   },
   {
    "duration": 37,
    "start_time": "2022-03-18T08:12:36.674Z"
   },
   {
    "duration": 16,
    "start_time": "2022-03-18T08:12:36.712Z"
   },
   {
    "duration": 10,
    "start_time": "2022-03-18T08:12:36.730Z"
   },
   {
    "duration": 18,
    "start_time": "2022-03-18T08:12:36.741Z"
   },
   {
    "duration": 9,
    "start_time": "2022-03-18T08:12:36.760Z"
   },
   {
    "duration": 4,
    "start_time": "2022-03-18T08:12:36.771Z"
   },
   {
    "duration": 5,
    "start_time": "2022-03-18T08:12:36.777Z"
   },
   {
    "duration": 27,
    "start_time": "2022-03-18T08:12:36.783Z"
   },
   {
    "duration": 15,
    "start_time": "2022-03-18T08:12:36.811Z"
   },
   {
    "duration": 16,
    "start_time": "2022-03-18T08:12:36.827Z"
   },
   {
    "duration": 18,
    "start_time": "2022-03-18T08:12:36.844Z"
   },
   {
    "duration": 4,
    "start_time": "2022-03-18T08:12:36.864Z"
   },
   {
    "duration": 45,
    "start_time": "2022-03-18T08:12:36.870Z"
   },
   {
    "duration": 16,
    "start_time": "2022-03-18T08:12:36.917Z"
   },
   {
    "duration": 4,
    "start_time": "2022-03-18T08:12:36.935Z"
   },
   {
    "duration": 11,
    "start_time": "2022-03-18T08:12:36.941Z"
   },
   {
    "duration": 18,
    "start_time": "2022-03-18T08:12:36.958Z"
   },
   {
    "duration": 31,
    "start_time": "2022-03-18T08:12:36.978Z"
   },
   {
    "duration": 10,
    "start_time": "2022-03-18T08:12:37.011Z"
   },
   {
    "duration": 21,
    "start_time": "2022-03-18T08:12:37.022Z"
   },
   {
    "duration": 4,
    "start_time": "2022-03-18T08:12:37.044Z"
   },
   {
    "duration": 10,
    "start_time": "2022-03-18T08:12:37.050Z"
   },
   {
    "duration": 761,
    "start_time": "2022-03-18T13:07:01.151Z"
   },
   {
    "duration": 48,
    "start_time": "2022-03-18T13:07:01.914Z"
   },
   {
    "duration": 20,
    "start_time": "2022-03-18T13:07:01.965Z"
   },
   {
    "duration": 24,
    "start_time": "2022-03-18T13:07:01.987Z"
   },
   {
    "duration": 21,
    "start_time": "2022-03-18T13:07:02.013Z"
   },
   {
    "duration": 25,
    "start_time": "2022-03-18T13:07:02.035Z"
   },
   {
    "duration": 40,
    "start_time": "2022-03-18T13:07:02.062Z"
   },
   {
    "duration": 15,
    "start_time": "2022-03-18T13:07:02.105Z"
   },
   {
    "duration": 32,
    "start_time": "2022-03-18T13:07:02.123Z"
   },
   {
    "duration": 17,
    "start_time": "2022-03-18T13:07:02.157Z"
   },
   {
    "duration": 25,
    "start_time": "2022-03-18T13:07:02.175Z"
   },
   {
    "duration": 30,
    "start_time": "2022-03-18T13:07:02.202Z"
   },
   {
    "duration": 4,
    "start_time": "2022-03-18T13:07:02.234Z"
   },
   {
    "duration": 10,
    "start_time": "2022-03-18T13:07:02.240Z"
   },
   {
    "duration": 15,
    "start_time": "2022-03-18T13:07:02.252Z"
   },
   {
    "duration": 14,
    "start_time": "2022-03-18T13:07:02.269Z"
   },
   {
    "duration": 18,
    "start_time": "2022-03-18T13:07:02.285Z"
   },
   {
    "duration": 15,
    "start_time": "2022-03-18T13:07:02.305Z"
   },
   {
    "duration": 13,
    "start_time": "2022-03-18T13:07:02.322Z"
   },
   {
    "duration": 10,
    "start_time": "2022-03-18T13:07:02.337Z"
   },
   {
    "duration": 20,
    "start_time": "2022-03-18T13:07:02.348Z"
   },
   {
    "duration": 27,
    "start_time": "2022-03-18T13:07:02.370Z"
   },
   {
    "duration": 3,
    "start_time": "2022-03-18T13:07:02.401Z"
   },
   {
    "duration": 20,
    "start_time": "2022-03-18T13:07:02.406Z"
   },
   {
    "duration": 17,
    "start_time": "2022-03-18T13:07:02.427Z"
   },
   {
    "duration": 28,
    "start_time": "2022-03-18T13:07:02.445Z"
   },
   {
    "duration": 12,
    "start_time": "2022-03-18T13:07:02.475Z"
   },
   {
    "duration": 26,
    "start_time": "2022-03-18T13:07:02.489Z"
   },
   {
    "duration": 12,
    "start_time": "2022-03-18T13:07:02.517Z"
   },
   {
    "duration": 10,
    "start_time": "2022-03-18T13:07:02.531Z"
   },
   {
    "duration": 4,
    "start_time": "2022-03-18T13:07:02.543Z"
   },
   {
    "duration": 8,
    "start_time": "2022-03-18T13:07:02.549Z"
   },
   {
    "duration": 14,
    "start_time": "2022-03-18T13:07:02.558Z"
   },
   {
    "duration": 14,
    "start_time": "2022-03-18T13:07:02.574Z"
   },
   {
    "duration": 4,
    "start_time": "2022-03-18T13:07:02.590Z"
   },
   {
    "duration": 14,
    "start_time": "2022-03-18T13:07:02.595Z"
   },
   {
    "duration": 12,
    "start_time": "2022-03-18T13:07:02.611Z"
   },
   {
    "duration": 12,
    "start_time": "2022-03-18T13:07:02.624Z"
   },
   {
    "duration": 25,
    "start_time": "2022-03-18T13:07:02.638Z"
   },
   {
    "duration": 19,
    "start_time": "2022-03-18T13:07:02.665Z"
   },
   {
    "duration": 15,
    "start_time": "2022-03-18T13:07:02.686Z"
   },
   {
    "duration": 6,
    "start_time": "2022-03-18T13:07:02.703Z"
   },
   {
    "duration": 17,
    "start_time": "2022-03-18T13:07:02.711Z"
   },
   {
    "duration": 34,
    "start_time": "2022-03-18T13:07:02.729Z"
   },
   {
    "duration": 9,
    "start_time": "2022-03-18T13:07:02.765Z"
   },
   {
    "duration": 19,
    "start_time": "2022-03-18T13:07:02.776Z"
   },
   {
    "duration": 15,
    "start_time": "2022-03-18T13:07:02.797Z"
   },
   {
    "duration": 16,
    "start_time": "2022-03-18T13:07:02.814Z"
   },
   {
    "duration": 14,
    "start_time": "2022-03-18T13:07:02.832Z"
   },
   {
    "duration": 21,
    "start_time": "2022-03-18T13:07:02.848Z"
   },
   {
    "duration": 16,
    "start_time": "2022-03-18T13:07:02.871Z"
   },
   {
    "duration": 21,
    "start_time": "2022-03-18T13:07:02.889Z"
   },
   {
    "duration": 22,
    "start_time": "2022-03-18T13:07:02.912Z"
   },
   {
    "duration": 37,
    "start_time": "2022-03-18T13:07:02.936Z"
   },
   {
    "duration": 12,
    "start_time": "2022-03-18T13:07:02.975Z"
   },
   {
    "duration": 9,
    "start_time": "2022-03-18T13:07:02.989Z"
   },
   {
    "duration": 7,
    "start_time": "2022-03-18T13:07:03.000Z"
   },
   {
    "duration": 22,
    "start_time": "2022-03-18T13:07:03.009Z"
   },
   {
    "duration": 34,
    "start_time": "2022-03-18T13:07:03.033Z"
   },
   {
    "duration": 5,
    "start_time": "2022-03-18T13:07:03.070Z"
   },
   {
    "duration": 12,
    "start_time": "2022-03-18T13:07:03.076Z"
   },
   {
    "duration": 12,
    "start_time": "2022-03-18T13:07:03.090Z"
   },
   {
    "duration": 4,
    "start_time": "2022-03-18T13:07:03.104Z"
   },
   {
    "duration": 19,
    "start_time": "2022-03-18T13:07:03.110Z"
   },
   {
    "duration": 35,
    "start_time": "2022-03-18T13:07:03.131Z"
   },
   {
    "duration": 3,
    "start_time": "2022-03-18T13:07:03.168Z"
   },
   {
    "duration": 8,
    "start_time": "2022-03-18T13:07:03.173Z"
   },
   {
    "duration": 9,
    "start_time": "2022-03-18T13:07:03.187Z"
   },
   {
    "duration": 19,
    "start_time": "2022-03-18T13:07:03.198Z"
   },
   {
    "duration": 11,
    "start_time": "2022-03-18T13:07:03.219Z"
   },
   {
    "duration": 5,
    "start_time": "2022-03-18T13:07:03.232Z"
   },
   {
    "duration": 3,
    "start_time": "2022-03-18T13:07:03.263Z"
   },
   {
    "duration": 13,
    "start_time": "2022-03-18T13:07:03.268Z"
   },
   {
    "duration": 20,
    "start_time": "2022-03-18T13:07:03.283Z"
   },
   {
    "duration": 15,
    "start_time": "2022-03-18T13:07:03.305Z"
   },
   {
    "duration": 17,
    "start_time": "2022-03-18T13:07:03.322Z"
   },
   {
    "duration": 25,
    "start_time": "2022-03-18T13:07:03.340Z"
   },
   {
    "duration": 8,
    "start_time": "2022-03-18T13:07:03.366Z"
   },
   {
    "duration": 21,
    "start_time": "2022-03-18T13:07:03.376Z"
   },
   {
    "duration": 4,
    "start_time": "2022-03-18T13:07:03.399Z"
   },
   {
    "duration": 13,
    "start_time": "2022-03-18T13:07:03.404Z"
   },
   {
    "duration": 24,
    "start_time": "2022-03-18T13:07:03.419Z"
   },
   {
    "duration": 20,
    "start_time": "2022-03-18T13:07:03.445Z"
   },
   {
    "duration": 17,
    "start_time": "2022-03-18T13:07:03.467Z"
   },
   {
    "duration": 25,
    "start_time": "2022-03-18T13:07:03.486Z"
   },
   {
    "duration": 4,
    "start_time": "2022-03-18T13:07:03.512Z"
   },
   {
    "duration": 16,
    "start_time": "2022-03-18T13:07:03.518Z"
   },
   {
    "duration": 815,
    "start_time": "2022-03-18T13:09:17.791Z"
   },
   {
    "duration": 45,
    "start_time": "2022-03-18T13:09:18.608Z"
   },
   {
    "duration": 23,
    "start_time": "2022-03-18T13:09:18.655Z"
   },
   {
    "duration": 16,
    "start_time": "2022-03-18T13:09:18.680Z"
   },
   {
    "duration": 14,
    "start_time": "2022-03-18T13:09:18.698Z"
   },
   {
    "duration": 25,
    "start_time": "2022-03-18T13:09:18.714Z"
   },
   {
    "duration": 28,
    "start_time": "2022-03-18T13:09:18.741Z"
   },
   {
    "duration": 22,
    "start_time": "2022-03-18T13:09:18.772Z"
   },
   {
    "duration": 18,
    "start_time": "2022-03-18T13:09:18.796Z"
   },
   {
    "duration": 29,
    "start_time": "2022-03-18T13:09:18.816Z"
   },
   {
    "duration": 38,
    "start_time": "2022-03-18T13:09:18.847Z"
   },
   {
    "duration": 40,
    "start_time": "2022-03-18T13:09:18.887Z"
   },
   {
    "duration": 6,
    "start_time": "2022-03-18T13:09:18.928Z"
   },
   {
    "duration": 24,
    "start_time": "2022-03-18T13:09:18.936Z"
   },
   {
    "duration": 28,
    "start_time": "2022-03-18T13:09:18.962Z"
   },
   {
    "duration": 27,
    "start_time": "2022-03-18T13:09:18.991Z"
   },
   {
    "duration": 39,
    "start_time": "2022-03-18T13:09:19.020Z"
   },
   {
    "duration": 21,
    "start_time": "2022-03-18T13:09:19.060Z"
   },
   {
    "duration": 26,
    "start_time": "2022-03-18T13:09:19.083Z"
   },
   {
    "duration": 34,
    "start_time": "2022-03-18T13:09:19.111Z"
   },
   {
    "duration": 22,
    "start_time": "2022-03-18T13:09:19.147Z"
   },
   {
    "duration": 34,
    "start_time": "2022-03-18T13:09:19.171Z"
   },
   {
    "duration": 4,
    "start_time": "2022-03-18T13:09:19.209Z"
   },
   {
    "duration": 25,
    "start_time": "2022-03-18T13:09:19.216Z"
   },
   {
    "duration": 30,
    "start_time": "2022-03-18T13:09:19.243Z"
   },
   {
    "duration": 28,
    "start_time": "2022-03-18T13:09:19.275Z"
   },
   {
    "duration": 21,
    "start_time": "2022-03-18T13:09:19.305Z"
   },
   {
    "duration": 24,
    "start_time": "2022-03-18T13:09:19.327Z"
   },
   {
    "duration": 16,
    "start_time": "2022-03-18T13:09:19.353Z"
   },
   {
    "duration": 13,
    "start_time": "2022-03-18T13:09:19.370Z"
   },
   {
    "duration": 5,
    "start_time": "2022-03-18T13:09:19.385Z"
   },
   {
    "duration": 4,
    "start_time": "2022-03-18T13:09:19.392Z"
   },
   {
    "duration": 11,
    "start_time": "2022-03-18T13:09:19.398Z"
   },
   {
    "duration": 16,
    "start_time": "2022-03-18T13:09:19.410Z"
   },
   {
    "duration": 5,
    "start_time": "2022-03-18T13:09:19.428Z"
   },
   {
    "duration": 28,
    "start_time": "2022-03-18T13:09:19.435Z"
   },
   {
    "duration": 9,
    "start_time": "2022-03-18T13:09:19.465Z"
   },
   {
    "duration": 14,
    "start_time": "2022-03-18T13:09:19.476Z"
   },
   {
    "duration": 18,
    "start_time": "2022-03-18T13:09:19.492Z"
   },
   {
    "duration": 19,
    "start_time": "2022-03-18T13:09:19.512Z"
   },
   {
    "duration": 40,
    "start_time": "2022-03-18T13:09:19.532Z"
   },
   {
    "duration": 9,
    "start_time": "2022-03-18T13:09:19.574Z"
   },
   {
    "duration": 11,
    "start_time": "2022-03-18T13:09:19.585Z"
   },
   {
    "duration": 8,
    "start_time": "2022-03-18T13:09:19.598Z"
   },
   {
    "duration": 9,
    "start_time": "2022-03-18T13:09:19.608Z"
   },
   {
    "duration": 14,
    "start_time": "2022-03-18T13:09:19.619Z"
   },
   {
    "duration": 34,
    "start_time": "2022-03-18T13:09:19.635Z"
   },
   {
    "duration": 8,
    "start_time": "2022-03-18T13:09:19.671Z"
   },
   {
    "duration": 13,
    "start_time": "2022-03-18T13:09:19.680Z"
   },
   {
    "duration": 7,
    "start_time": "2022-03-18T13:09:19.695Z"
   },
   {
    "duration": 19,
    "start_time": "2022-03-18T13:09:19.703Z"
   },
   {
    "duration": 46,
    "start_time": "2022-03-18T13:09:19.724Z"
   },
   {
    "duration": 19,
    "start_time": "2022-03-18T13:09:19.772Z"
   },
   {
    "duration": 17,
    "start_time": "2022-03-18T13:09:19.793Z"
   },
   {
    "duration": 10,
    "start_time": "2022-03-18T13:09:19.811Z"
   },
   {
    "duration": 9,
    "start_time": "2022-03-18T13:09:19.823Z"
   },
   {
    "duration": 4,
    "start_time": "2022-03-18T13:09:19.864Z"
   },
   {
    "duration": 12,
    "start_time": "2022-03-18T13:09:19.869Z"
   },
   {
    "duration": 11,
    "start_time": "2022-03-18T13:09:19.882Z"
   },
   {
    "duration": 5,
    "start_time": "2022-03-18T13:09:19.895Z"
   },
   {
    "duration": 11,
    "start_time": "2022-03-18T13:09:19.901Z"
   },
   {
    "duration": 12,
    "start_time": "2022-03-18T13:09:19.913Z"
   },
   {
    "duration": 4,
    "start_time": "2022-03-18T13:09:19.926Z"
   },
   {
    "duration": 12,
    "start_time": "2022-03-18T13:09:19.963Z"
   },
   {
    "duration": 13,
    "start_time": "2022-03-18T13:09:19.977Z"
   },
   {
    "duration": 4,
    "start_time": "2022-03-18T13:09:19.991Z"
   },
   {
    "duration": 10,
    "start_time": "2022-03-18T13:09:19.997Z"
   },
   {
    "duration": 9,
    "start_time": "2022-03-18T13:09:20.013Z"
   },
   {
    "duration": 39,
    "start_time": "2022-03-18T13:09:20.025Z"
   },
   {
    "duration": 9,
    "start_time": "2022-03-18T13:09:20.067Z"
   },
   {
    "duration": 5,
    "start_time": "2022-03-18T13:09:20.078Z"
   },
   {
    "duration": 6,
    "start_time": "2022-03-18T13:09:20.084Z"
   },
   {
    "duration": 11,
    "start_time": "2022-03-18T13:09:20.092Z"
   },
   {
    "duration": 13,
    "start_time": "2022-03-18T13:09:20.105Z"
   },
   {
    "duration": 13,
    "start_time": "2022-03-18T13:09:20.120Z"
   },
   {
    "duration": 42,
    "start_time": "2022-03-18T13:09:20.135Z"
   },
   {
    "duration": 7,
    "start_time": "2022-03-18T13:09:20.179Z"
   },
   {
    "duration": 7,
    "start_time": "2022-03-18T13:09:20.188Z"
   },
   {
    "duration": 19,
    "start_time": "2022-03-18T13:09:20.197Z"
   },
   {
    "duration": 4,
    "start_time": "2022-03-18T13:09:20.217Z"
   },
   {
    "duration": 12,
    "start_time": "2022-03-18T13:09:20.222Z"
   },
   {
    "duration": 46,
    "start_time": "2022-03-18T13:09:20.236Z"
   },
   {
    "duration": 4,
    "start_time": "2022-03-18T13:09:20.284Z"
   },
   {
    "duration": 12,
    "start_time": "2022-03-18T13:09:20.289Z"
   },
   {
    "duration": 24,
    "start_time": "2022-03-18T13:09:20.303Z"
   },
   {
    "duration": 4,
    "start_time": "2022-03-18T13:09:20.328Z"
   },
   {
    "duration": 33,
    "start_time": "2022-03-18T13:09:20.334Z"
   }
  ],
  "kernelspec": {
   "display_name": "Python 3 (ipykernel)",
   "language": "python",
   "name": "python3"
  },
  "language_info": {
   "codemirror_mode": {
    "name": "ipython",
    "version": 3
   },
   "file_extension": ".py",
   "mimetype": "text/x-python",
   "name": "python",
   "nbconvert_exporter": "python",
   "pygments_lexer": "ipython3",
   "version": "3.9.5"
  },
  "toc": {
   "base_numbering": 1,
   "nav_menu": {
    "height": "193px",
    "width": "260px"
   },
   "number_sections": true,
   "sideBar": true,
   "skip_h1_title": true,
   "title_cell": "Содержание",
   "title_sidebar": "Contents",
   "toc_cell": true,
   "toc_position": {},
   "toc_section_display": true,
   "toc_window_display": true
  }
 },
 "nbformat": 4,
 "nbformat_minor": 5
}
