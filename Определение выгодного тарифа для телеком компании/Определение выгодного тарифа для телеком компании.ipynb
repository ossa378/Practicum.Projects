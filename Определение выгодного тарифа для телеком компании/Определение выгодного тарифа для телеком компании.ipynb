{
 "cells": [
  {
   "cell_type": "markdown",
   "id": "35734c44",
   "metadata": {
    "toc": true
   },
   "source": [
    "<h1>Содержание<span class=\"tocSkip\"></span></h1>\n",
    "<div class=\"toc\"><ul class=\"toc-item\"><li><span><a href=\"#Изучение-данных-из-файла\" data-toc-modified-id=\"Изучение-данных-из-файла-1\"><span class=\"toc-item-num\">1&nbsp;&nbsp;</span>Изучение данных из файла</a></span><ul class=\"toc-item\"><li><span><a href=\"#Вывод\" data-toc-modified-id=\"Вывод-1.1\"><span class=\"toc-item-num\">1.1&nbsp;&nbsp;</span>Вывод</a></span></li></ul></li><li><span><a href=\"#Предобработка-данных\" data-toc-modified-id=\"Предобработка-данных-2\"><span class=\"toc-item-num\">2&nbsp;&nbsp;</span>Предобработка данных</a></span></li><li><span><a href=\"#Подготовка-данных-к-анализу\" data-toc-modified-id=\"Подготовка-данных-к-анализу-3\"><span class=\"toc-item-num\">3&nbsp;&nbsp;</span>Подготовка данных к анализу</a></span></li><li><span><a href=\"#Анализ-данных\" data-toc-modified-id=\"Анализ-данных-4\"><span class=\"toc-item-num\">4&nbsp;&nbsp;</span>Анализ данных</a></span></li><li><span><a href=\"#Проверка-гипотез\" data-toc-modified-id=\"Проверка-гипотез-5\"><span class=\"toc-item-num\">5&nbsp;&nbsp;</span>Проверка гипотез</a></span></li><li><span><a href=\"#Вывод\" data-toc-modified-id=\"Вывод-6\"><span class=\"toc-item-num\">6&nbsp;&nbsp;</span>Вывод</a></span></li></ul></div>"
   ]
  },
  {
   "cell_type": "markdown",
   "id": "947d2174",
   "metadata": {},
   "source": [
    "# Определение выгодного тарифа для телеком компании"
   ]
  },
  {
   "cell_type": "markdown",
   "id": "4e85a428",
   "metadata": {},
   "source": [
    "Федеральный опреатор сотовой связи решил проанализировать  два тарифных плана \"Смарт\" и \"Ультра\"\n",
    "\n",
    "Необходимо понять какой тариф приносит больше денег, чтобы скорректировать рекламный бюджет\n",
    "\n",
    "Для анализа нам предоставлены данные о звонках 500 пользователей оператора сотовой связи за один год.\n",
    "\n",
    "\n",
    "**Цель исследования:** \n",
    "\n",
    "  - Определить какой тариф доходнее.\n",
    "  \n",
    "**Ход исследования**\n",
    "\n",
    "Данные мы получим из файлов `users.csv`  `calls.csv`  `internet.csv`  `messages.csv`  `tariffs.csv`\n",
    "\n",
    "Перед началом анализа ознакомимся с данными, проверим на возможные ошибки и аномалии\n",
    "\n",
    "На этапе предобработки исправим ошибки, приведем данные к нужным типам\n",
    "\n",
    "Подготовим данные к анализу и проанализируем\n",
    "\n",
    " - Таким образом исследование пройдет по следующим этапам:\n",
    " \n",
    "    - обзор данных\n",
    "    - предобработка данных\n",
    "    - подготовка данных к анализу\n",
    "    - анализ данных\n",
    "    - проверка гипотез\n",
    "    "
   ]
  },
  {
   "cell_type": "markdown",
   "id": "967b85ac",
   "metadata": {},
   "source": [
    "## Изучение данных из файла"
   ]
  },
  {
   "cell_type": "code",
   "execution_count": 1,
   "id": "06a8da5d",
   "metadata": {},
   "outputs": [],
   "source": [
    "import pandas as pd    # импортируем библиотеки\n",
    "import numpy as np\n",
    "import matplotlib.pyplot as plt\n",
    "from scipy import stats as st"
   ]
  },
  {
   "cell_type": "markdown",
   "id": "faf2f124",
   "metadata": {},
   "source": [
    " - Прочитаем файлы и сохраним\n",
    "\n",
    " - Получим общюю информацию"
   ]
  },
  {
   "cell_type": "code",
   "execution_count": 2,
   "id": "1f04ad61",
   "metadata": {},
   "outputs": [],
   "source": [
    "df_users = pd.read_csv('/datasets/users.csv')"
   ]
  },
  {
   "cell_type": "code",
   "execution_count": 3,
   "id": "14275d48",
   "metadata": {
    "scrolled": true
   },
   "outputs": [
    {
     "data": {
      "text/html": [
       "<div>\n",
       "<style scoped>\n",
       "    .dataframe tbody tr th:only-of-type {\n",
       "        vertical-align: middle;\n",
       "    }\n",
       "\n",
       "    .dataframe tbody tr th {\n",
       "        vertical-align: top;\n",
       "    }\n",
       "\n",
       "    .dataframe thead th {\n",
       "        text-align: right;\n",
       "    }\n",
       "</style>\n",
       "<table border=\"1\" class=\"dataframe\">\n",
       "  <thead>\n",
       "    <tr style=\"text-align: right;\">\n",
       "      <th></th>\n",
       "      <th>user_id</th>\n",
       "      <th>age</th>\n",
       "      <th>churn_date</th>\n",
       "      <th>city</th>\n",
       "      <th>first_name</th>\n",
       "      <th>last_name</th>\n",
       "      <th>reg_date</th>\n",
       "      <th>tariff</th>\n",
       "    </tr>\n",
       "  </thead>\n",
       "  <tbody>\n",
       "    <tr>\n",
       "      <th>0</th>\n",
       "      <td>1000</td>\n",
       "      <td>52</td>\n",
       "      <td>NaN</td>\n",
       "      <td>Краснодар</td>\n",
       "      <td>Рафаил</td>\n",
       "      <td>Верещагин</td>\n",
       "      <td>2018-05-25</td>\n",
       "      <td>ultra</td>\n",
       "    </tr>\n",
       "    <tr>\n",
       "      <th>1</th>\n",
       "      <td>1001</td>\n",
       "      <td>41</td>\n",
       "      <td>NaN</td>\n",
       "      <td>Москва</td>\n",
       "      <td>Иван</td>\n",
       "      <td>Ежов</td>\n",
       "      <td>2018-11-01</td>\n",
       "      <td>smart</td>\n",
       "    </tr>\n",
       "    <tr>\n",
       "      <th>2</th>\n",
       "      <td>1002</td>\n",
       "      <td>59</td>\n",
       "      <td>NaN</td>\n",
       "      <td>Стерлитамак</td>\n",
       "      <td>Евгений</td>\n",
       "      <td>Абрамович</td>\n",
       "      <td>2018-06-17</td>\n",
       "      <td>smart</td>\n",
       "    </tr>\n",
       "    <tr>\n",
       "      <th>3</th>\n",
       "      <td>1003</td>\n",
       "      <td>23</td>\n",
       "      <td>NaN</td>\n",
       "      <td>Москва</td>\n",
       "      <td>Белла</td>\n",
       "      <td>Белякова</td>\n",
       "      <td>2018-08-17</td>\n",
       "      <td>ultra</td>\n",
       "    </tr>\n",
       "    <tr>\n",
       "      <th>4</th>\n",
       "      <td>1004</td>\n",
       "      <td>68</td>\n",
       "      <td>NaN</td>\n",
       "      <td>Новокузнецк</td>\n",
       "      <td>Татьяна</td>\n",
       "      <td>Авдеенко</td>\n",
       "      <td>2018-05-14</td>\n",
       "      <td>ultra</td>\n",
       "    </tr>\n",
       "  </tbody>\n",
       "</table>\n",
       "</div>"
      ],
      "text/plain": [
       "   user_id  age churn_date         city first_name  last_name    reg_date  \\\n",
       "0     1000   52        NaN    Краснодар     Рафаил  Верещагин  2018-05-25   \n",
       "1     1001   41        NaN       Москва       Иван       Ежов  2018-11-01   \n",
       "2     1002   59        NaN  Стерлитамак    Евгений  Абрамович  2018-06-17   \n",
       "3     1003   23        NaN       Москва      Белла   Белякова  2018-08-17   \n",
       "4     1004   68        NaN  Новокузнецк    Татьяна   Авдеенко  2018-05-14   \n",
       "\n",
       "  tariff  \n",
       "0  ultra  \n",
       "1  smart  \n",
       "2  smart  \n",
       "3  ultra  \n",
       "4  ultra  "
      ]
     },
     "execution_count": 3,
     "metadata": {},
     "output_type": "execute_result"
    }
   ],
   "source": [
    "df_users.head()"
   ]
  },
  {
   "cell_type": "code",
   "execution_count": 4,
   "id": "3608b456",
   "metadata": {
    "scrolled": true
   },
   "outputs": [
    {
     "name": "stdout",
     "output_type": "stream",
     "text": [
      "<class 'pandas.core.frame.DataFrame'>\n",
      "RangeIndex: 500 entries, 0 to 499\n",
      "Data columns (total 8 columns):\n",
      " #   Column      Non-Null Count  Dtype \n",
      "---  ------      --------------  ----- \n",
      " 0   user_id     500 non-null    int64 \n",
      " 1   age         500 non-null    int64 \n",
      " 2   churn_date  38 non-null     object\n",
      " 3   city        500 non-null    object\n",
      " 4   first_name  500 non-null    object\n",
      " 5   last_name   500 non-null    object\n",
      " 6   reg_date    500 non-null    object\n",
      " 7   tariff      500 non-null    object\n",
      "dtypes: int64(2), object(6)\n",
      "memory usage: 31.4+ KB\n"
     ]
    }
   ],
   "source": [
    "df_users.info()"
   ]
  },
  {
   "cell_type": "code",
   "execution_count": 5,
   "id": "0ac3bfe0",
   "metadata": {},
   "outputs": [],
   "source": [
    "df_calls = pd.read_csv('/datasets/calls.csv')"
   ]
  },
  {
   "cell_type": "code",
   "execution_count": 6,
   "id": "b5c32c4e",
   "metadata": {},
   "outputs": [
    {
     "data": {
      "text/html": [
       "<div>\n",
       "<style scoped>\n",
       "    .dataframe tbody tr th:only-of-type {\n",
       "        vertical-align: middle;\n",
       "    }\n",
       "\n",
       "    .dataframe tbody tr th {\n",
       "        vertical-align: top;\n",
       "    }\n",
       "\n",
       "    .dataframe thead th {\n",
       "        text-align: right;\n",
       "    }\n",
       "</style>\n",
       "<table border=\"1\" class=\"dataframe\">\n",
       "  <thead>\n",
       "    <tr style=\"text-align: right;\">\n",
       "      <th></th>\n",
       "      <th>id</th>\n",
       "      <th>call_date</th>\n",
       "      <th>duration</th>\n",
       "      <th>user_id</th>\n",
       "    </tr>\n",
       "  </thead>\n",
       "  <tbody>\n",
       "    <tr>\n",
       "      <th>0</th>\n",
       "      <td>1000_0</td>\n",
       "      <td>2018-07-25</td>\n",
       "      <td>0.00</td>\n",
       "      <td>1000</td>\n",
       "    </tr>\n",
       "    <tr>\n",
       "      <th>1</th>\n",
       "      <td>1000_1</td>\n",
       "      <td>2018-08-17</td>\n",
       "      <td>0.00</td>\n",
       "      <td>1000</td>\n",
       "    </tr>\n",
       "    <tr>\n",
       "      <th>2</th>\n",
       "      <td>1000_2</td>\n",
       "      <td>2018-06-11</td>\n",
       "      <td>2.85</td>\n",
       "      <td>1000</td>\n",
       "    </tr>\n",
       "    <tr>\n",
       "      <th>3</th>\n",
       "      <td>1000_3</td>\n",
       "      <td>2018-09-21</td>\n",
       "      <td>13.80</td>\n",
       "      <td>1000</td>\n",
       "    </tr>\n",
       "    <tr>\n",
       "      <th>4</th>\n",
       "      <td>1000_4</td>\n",
       "      <td>2018-12-15</td>\n",
       "      <td>5.18</td>\n",
       "      <td>1000</td>\n",
       "    </tr>\n",
       "  </tbody>\n",
       "</table>\n",
       "</div>"
      ],
      "text/plain": [
       "       id   call_date  duration  user_id\n",
       "0  1000_0  2018-07-25      0.00     1000\n",
       "1  1000_1  2018-08-17      0.00     1000\n",
       "2  1000_2  2018-06-11      2.85     1000\n",
       "3  1000_3  2018-09-21     13.80     1000\n",
       "4  1000_4  2018-12-15      5.18     1000"
      ]
     },
     "execution_count": 6,
     "metadata": {},
     "output_type": "execute_result"
    }
   ],
   "source": [
    "df_calls.head()"
   ]
  },
  {
   "cell_type": "code",
   "execution_count": 7,
   "id": "ccd4fc78",
   "metadata": {
    "scrolled": false
   },
   "outputs": [
    {
     "name": "stdout",
     "output_type": "stream",
     "text": [
      "<class 'pandas.core.frame.DataFrame'>\n",
      "RangeIndex: 202607 entries, 0 to 202606\n",
      "Data columns (total 4 columns):\n",
      " #   Column     Non-Null Count   Dtype  \n",
      "---  ------     --------------   -----  \n",
      " 0   id         202607 non-null  object \n",
      " 1   call_date  202607 non-null  object \n",
      " 2   duration   202607 non-null  float64\n",
      " 3   user_id    202607 non-null  int64  \n",
      "dtypes: float64(1), int64(1), object(2)\n",
      "memory usage: 6.2+ MB\n"
     ]
    }
   ],
   "source": [
    "df_calls.info()"
   ]
  },
  {
   "cell_type": "code",
   "execution_count": 8,
   "id": "e1950991",
   "metadata": {},
   "outputs": [],
   "source": [
    "df_internet = pd.read_csv('/datasets/internet.csv', index_col=0)"
   ]
  },
  {
   "cell_type": "code",
   "execution_count": 9,
   "id": "6b6ac82c",
   "metadata": {},
   "outputs": [
    {
     "data": {
      "text/html": [
       "<div>\n",
       "<style scoped>\n",
       "    .dataframe tbody tr th:only-of-type {\n",
       "        vertical-align: middle;\n",
       "    }\n",
       "\n",
       "    .dataframe tbody tr th {\n",
       "        vertical-align: top;\n",
       "    }\n",
       "\n",
       "    .dataframe thead th {\n",
       "        text-align: right;\n",
       "    }\n",
       "</style>\n",
       "<table border=\"1\" class=\"dataframe\">\n",
       "  <thead>\n",
       "    <tr style=\"text-align: right;\">\n",
       "      <th></th>\n",
       "      <th>id</th>\n",
       "      <th>mb_used</th>\n",
       "      <th>session_date</th>\n",
       "      <th>user_id</th>\n",
       "    </tr>\n",
       "  </thead>\n",
       "  <tbody>\n",
       "    <tr>\n",
       "      <th>0</th>\n",
       "      <td>1000_0</td>\n",
       "      <td>112.95</td>\n",
       "      <td>2018-11-25</td>\n",
       "      <td>1000</td>\n",
       "    </tr>\n",
       "    <tr>\n",
       "      <th>1</th>\n",
       "      <td>1000_1</td>\n",
       "      <td>1052.81</td>\n",
       "      <td>2018-09-07</td>\n",
       "      <td>1000</td>\n",
       "    </tr>\n",
       "    <tr>\n",
       "      <th>2</th>\n",
       "      <td>1000_2</td>\n",
       "      <td>1197.26</td>\n",
       "      <td>2018-06-25</td>\n",
       "      <td>1000</td>\n",
       "    </tr>\n",
       "    <tr>\n",
       "      <th>3</th>\n",
       "      <td>1000_3</td>\n",
       "      <td>550.27</td>\n",
       "      <td>2018-08-22</td>\n",
       "      <td>1000</td>\n",
       "    </tr>\n",
       "    <tr>\n",
       "      <th>4</th>\n",
       "      <td>1000_4</td>\n",
       "      <td>302.56</td>\n",
       "      <td>2018-09-24</td>\n",
       "      <td>1000</td>\n",
       "    </tr>\n",
       "  </tbody>\n",
       "</table>\n",
       "</div>"
      ],
      "text/plain": [
       "       id  mb_used session_date  user_id\n",
       "0  1000_0   112.95   2018-11-25     1000\n",
       "1  1000_1  1052.81   2018-09-07     1000\n",
       "2  1000_2  1197.26   2018-06-25     1000\n",
       "3  1000_3   550.27   2018-08-22     1000\n",
       "4  1000_4   302.56   2018-09-24     1000"
      ]
     },
     "execution_count": 9,
     "metadata": {},
     "output_type": "execute_result"
    }
   ],
   "source": [
    "df_internet.head()"
   ]
  },
  {
   "cell_type": "code",
   "execution_count": 10,
   "id": "72e7049f",
   "metadata": {
    "scrolled": true
   },
   "outputs": [
    {
     "name": "stdout",
     "output_type": "stream",
     "text": [
      "<class 'pandas.core.frame.DataFrame'>\n",
      "Int64Index: 149396 entries, 0 to 149395\n",
      "Data columns (total 4 columns):\n",
      " #   Column        Non-Null Count   Dtype  \n",
      "---  ------        --------------   -----  \n",
      " 0   id            149396 non-null  object \n",
      " 1   mb_used       149396 non-null  float64\n",
      " 2   session_date  149396 non-null  object \n",
      " 3   user_id       149396 non-null  int64  \n",
      "dtypes: float64(1), int64(1), object(2)\n",
      "memory usage: 5.7+ MB\n"
     ]
    }
   ],
   "source": [
    "df_internet.info()"
   ]
  },
  {
   "cell_type": "code",
   "execution_count": 11,
   "id": "138c5498",
   "metadata": {},
   "outputs": [],
   "source": [
    "df_messages = pd.read_csv('/datasets/messages.csv')"
   ]
  },
  {
   "cell_type": "code",
   "execution_count": 12,
   "id": "71fc10cc",
   "metadata": {},
   "outputs": [
    {
     "data": {
      "text/html": [
       "<div>\n",
       "<style scoped>\n",
       "    .dataframe tbody tr th:only-of-type {\n",
       "        vertical-align: middle;\n",
       "    }\n",
       "\n",
       "    .dataframe tbody tr th {\n",
       "        vertical-align: top;\n",
       "    }\n",
       "\n",
       "    .dataframe thead th {\n",
       "        text-align: right;\n",
       "    }\n",
       "</style>\n",
       "<table border=\"1\" class=\"dataframe\">\n",
       "  <thead>\n",
       "    <tr style=\"text-align: right;\">\n",
       "      <th></th>\n",
       "      <th>id</th>\n",
       "      <th>message_date</th>\n",
       "      <th>user_id</th>\n",
       "    </tr>\n",
       "  </thead>\n",
       "  <tbody>\n",
       "    <tr>\n",
       "      <th>0</th>\n",
       "      <td>1000_0</td>\n",
       "      <td>2018-06-27</td>\n",
       "      <td>1000</td>\n",
       "    </tr>\n",
       "    <tr>\n",
       "      <th>1</th>\n",
       "      <td>1000_1</td>\n",
       "      <td>2018-10-08</td>\n",
       "      <td>1000</td>\n",
       "    </tr>\n",
       "    <tr>\n",
       "      <th>2</th>\n",
       "      <td>1000_2</td>\n",
       "      <td>2018-08-04</td>\n",
       "      <td>1000</td>\n",
       "    </tr>\n",
       "    <tr>\n",
       "      <th>3</th>\n",
       "      <td>1000_3</td>\n",
       "      <td>2018-06-16</td>\n",
       "      <td>1000</td>\n",
       "    </tr>\n",
       "    <tr>\n",
       "      <th>4</th>\n",
       "      <td>1000_4</td>\n",
       "      <td>2018-12-05</td>\n",
       "      <td>1000</td>\n",
       "    </tr>\n",
       "  </tbody>\n",
       "</table>\n",
       "</div>"
      ],
      "text/plain": [
       "       id message_date  user_id\n",
       "0  1000_0   2018-06-27     1000\n",
       "1  1000_1   2018-10-08     1000\n",
       "2  1000_2   2018-08-04     1000\n",
       "3  1000_3   2018-06-16     1000\n",
       "4  1000_4   2018-12-05     1000"
      ]
     },
     "execution_count": 12,
     "metadata": {},
     "output_type": "execute_result"
    }
   ],
   "source": [
    "df_messages.head()"
   ]
  },
  {
   "cell_type": "code",
   "execution_count": 13,
   "id": "1311dbd8",
   "metadata": {
    "scrolled": false
   },
   "outputs": [
    {
     "name": "stdout",
     "output_type": "stream",
     "text": [
      "<class 'pandas.core.frame.DataFrame'>\n",
      "RangeIndex: 123036 entries, 0 to 123035\n",
      "Data columns (total 3 columns):\n",
      " #   Column        Non-Null Count   Dtype \n",
      "---  ------        --------------   ----- \n",
      " 0   id            123036 non-null  object\n",
      " 1   message_date  123036 non-null  object\n",
      " 2   user_id       123036 non-null  int64 \n",
      "dtypes: int64(1), object(2)\n",
      "memory usage: 2.8+ MB\n"
     ]
    }
   ],
   "source": [
    "df_messages.info()"
   ]
  },
  {
   "cell_type": "code",
   "execution_count": 14,
   "id": "f3fed3d0",
   "metadata": {},
   "outputs": [],
   "source": [
    "df_tariffs = pd.read_csv('/datasets/tariffs.csv')"
   ]
  },
  {
   "cell_type": "code",
   "execution_count": 15,
   "id": "0fbbb746",
   "metadata": {},
   "outputs": [
    {
     "data": {
      "text/html": [
       "<div>\n",
       "<style scoped>\n",
       "    .dataframe tbody tr th:only-of-type {\n",
       "        vertical-align: middle;\n",
       "    }\n",
       "\n",
       "    .dataframe tbody tr th {\n",
       "        vertical-align: top;\n",
       "    }\n",
       "\n",
       "    .dataframe thead th {\n",
       "        text-align: right;\n",
       "    }\n",
       "</style>\n",
       "<table border=\"1\" class=\"dataframe\">\n",
       "  <thead>\n",
       "    <tr style=\"text-align: right;\">\n",
       "      <th></th>\n",
       "      <th>messages_included</th>\n",
       "      <th>mb_per_month_included</th>\n",
       "      <th>minutes_included</th>\n",
       "      <th>rub_monthly_fee</th>\n",
       "      <th>rub_per_gb</th>\n",
       "      <th>rub_per_message</th>\n",
       "      <th>rub_per_minute</th>\n",
       "      <th>tariff_name</th>\n",
       "    </tr>\n",
       "  </thead>\n",
       "  <tbody>\n",
       "    <tr>\n",
       "      <th>0</th>\n",
       "      <td>50</td>\n",
       "      <td>15360</td>\n",
       "      <td>500</td>\n",
       "      <td>550</td>\n",
       "      <td>200</td>\n",
       "      <td>3</td>\n",
       "      <td>3</td>\n",
       "      <td>smart</td>\n",
       "    </tr>\n",
       "    <tr>\n",
       "      <th>1</th>\n",
       "      <td>1000</td>\n",
       "      <td>30720</td>\n",
       "      <td>3000</td>\n",
       "      <td>1950</td>\n",
       "      <td>150</td>\n",
       "      <td>1</td>\n",
       "      <td>1</td>\n",
       "      <td>ultra</td>\n",
       "    </tr>\n",
       "  </tbody>\n",
       "</table>\n",
       "</div>"
      ],
      "text/plain": [
       "   messages_included  mb_per_month_included  minutes_included  \\\n",
       "0                 50                  15360               500   \n",
       "1               1000                  30720              3000   \n",
       "\n",
       "   rub_monthly_fee  rub_per_gb  rub_per_message  rub_per_minute tariff_name  \n",
       "0              550         200                3               3       smart  \n",
       "1             1950         150                1               1       ultra  "
      ]
     },
     "execution_count": 15,
     "metadata": {},
     "output_type": "execute_result"
    }
   ],
   "source": [
    "df_tariffs.head()"
   ]
  },
  {
   "cell_type": "code",
   "execution_count": 16,
   "id": "e0d5eb99",
   "metadata": {},
   "outputs": [
    {
     "name": "stdout",
     "output_type": "stream",
     "text": [
      "<class 'pandas.core.frame.DataFrame'>\n",
      "RangeIndex: 2 entries, 0 to 1\n",
      "Data columns (total 8 columns):\n",
      " #   Column                 Non-Null Count  Dtype \n",
      "---  ------                 --------------  ----- \n",
      " 0   messages_included      2 non-null      int64 \n",
      " 1   mb_per_month_included  2 non-null      int64 \n",
      " 2   minutes_included       2 non-null      int64 \n",
      " 3   rub_monthly_fee        2 non-null      int64 \n",
      " 4   rub_per_gb             2 non-null      int64 \n",
      " 5   rub_per_message        2 non-null      int64 \n",
      " 6   rub_per_minute         2 non-null      int64 \n",
      " 7   tariff_name            2 non-null      object\n",
      "dtypes: int64(7), object(1)\n",
      "memory usage: 256.0+ bytes\n"
     ]
    }
   ],
   "source": [
    "df_tariffs.info()"
   ]
  },
  {
   "cell_type": "markdown",
   "id": "a7fc039c",
   "metadata": {},
   "source": [
    "### Вывод"
   ]
  },
  {
   "cell_type": "markdown",
   "id": "ca89a9b8",
   "metadata": {},
   "source": [
    "Информация для анализа предоставлена в пяти таблицах\n",
    "\n",
    "Обзор данных выявил некоторые аномалии:\n",
    "\n",
    " - В таблицах `df_users` `df_calls` `df_internet` `df_messages` информация о датах представлена как  `object` \n",
    "   Изменим тип данных на `datetime64`\n",
    "\n",
    " - В таблицах `df_calls` `df_internet` `df_messages` информация об `id` звонков, интернет-сессий и сообщений записана `object`\n",
    "   Изменим тип данных на числовой `int64`\n",
    "\n",
    " - В таблице с интернет трафиком двойная индексация. Уберем ее.\n",
    " \n",
    "Устраним проблемы в данных, чтобы двигаться дальше. \n",
    "\n"
   ]
  },
  {
   "cell_type": "markdown",
   "id": "5ae7a645",
   "metadata": {},
   "source": [
    "## Предобработка данных"
   ]
  },
  {
   "cell_type": "markdown",
   "id": "fb7c1717",
   "metadata": {},
   "source": [
    "Приведем данные к нужным типам\n",
    "\n",
    "Проверим на дубликаты"
   ]
  },
  {
   "cell_type": "code",
   "execution_count": 17,
   "id": "274d9a85",
   "metadata": {},
   "outputs": [],
   "source": [
    "df_users['reg_date'] = pd.to_datetime(df_users['reg_date'], format='%Y-%m-%d') # изменение типа данных\n",
    "df_users['churn_date'] = pd.to_datetime(df_users['churn_date'], format='%Y-%m-%d')"
   ]
  },
  {
   "cell_type": "code",
   "execution_count": 18,
   "id": "78614f0a",
   "metadata": {
    "scrolled": true
   },
   "outputs": [
    {
     "data": {
      "text/plain": [
       "user_id                int64\n",
       "age                    int64\n",
       "churn_date    datetime64[ns]\n",
       "city                  object\n",
       "first_name            object\n",
       "last_name             object\n",
       "reg_date      datetime64[ns]\n",
       "tariff                object\n",
       "dtype: object"
      ]
     },
     "execution_count": 18,
     "metadata": {},
     "output_type": "execute_result"
    }
   ],
   "source": [
    "df_users.dtypes # проверка"
   ]
  },
  {
   "cell_type": "code",
   "execution_count": 19,
   "id": "db88e54f",
   "metadata": {
    "scrolled": true
   },
   "outputs": [
    {
     "data": {
      "text/plain": [
       "count    500.00000\n",
       "mean      46.58800\n",
       "std       16.66763\n",
       "min       18.00000\n",
       "25%       32.00000\n",
       "50%       46.00000\n",
       "75%       62.00000\n",
       "max       75.00000\n",
       "Name: age, dtype: float64"
      ]
     },
     "execution_count": 19,
     "metadata": {},
     "output_type": "execute_result"
    }
   ],
   "source": [
    "df_users['age'].describe() # изучим описание столбца"
   ]
  },
  {
   "cell_type": "code",
   "execution_count": 20,
   "id": "393c8fee",
   "metadata": {},
   "outputs": [
    {
     "data": {
      "text/plain": [
       "['Архангельск',\n",
       " 'Астрахань',\n",
       " 'Балашиха',\n",
       " 'Барнаул',\n",
       " 'Белгород',\n",
       " 'Брянск',\n",
       " 'Владивосток',\n",
       " 'Владикавказ',\n",
       " 'Владимир',\n",
       " 'Волгоград',\n",
       " 'Волжский',\n",
       " 'Вологда',\n",
       " 'Воронеж',\n",
       " 'Грозный',\n",
       " 'Екатеринбург',\n",
       " 'Иваново',\n",
       " 'Ижевск',\n",
       " 'Иркутск',\n",
       " 'Казань',\n",
       " 'Калининград',\n",
       " 'Калуга',\n",
       " 'Кемерово',\n",
       " 'Киров',\n",
       " 'Кострома',\n",
       " 'Краснодар',\n",
       " 'Красноярск',\n",
       " 'Курган',\n",
       " 'Курск',\n",
       " 'Липецк',\n",
       " 'Магнитогорск',\n",
       " 'Махачкала',\n",
       " 'Москва',\n",
       " 'Мурманск',\n",
       " 'Набережные Челны',\n",
       " 'Нижневартовск',\n",
       " 'Нижний Новгород',\n",
       " 'Нижний Тагил',\n",
       " 'Новокузнецк',\n",
       " 'Новороссийск',\n",
       " 'Новосибирск',\n",
       " 'Омск',\n",
       " 'Оренбург',\n",
       " 'Орёл',\n",
       " 'Пенза',\n",
       " 'Пермь',\n",
       " 'Петрозаводск',\n",
       " 'Подольск',\n",
       " 'Ростов-на-Дону',\n",
       " 'Рязань',\n",
       " 'Самара',\n",
       " 'Санкт-Петербург',\n",
       " 'Саранск',\n",
       " 'Саратов',\n",
       " 'Севастополь',\n",
       " 'Смоленск',\n",
       " 'Сочи',\n",
       " 'Ставрополь',\n",
       " 'Стерлитамак',\n",
       " 'Сургут',\n",
       " 'Тамбов',\n",
       " 'Тверь',\n",
       " 'Тольятти',\n",
       " 'Томск',\n",
       " 'Тула',\n",
       " 'Тюмень',\n",
       " 'Улан-Удэ',\n",
       " 'Ульяновск',\n",
       " 'Уфа',\n",
       " 'Хабаровск',\n",
       " 'Химки',\n",
       " 'Чебоксары',\n",
       " 'Челябинск',\n",
       " 'Череповец',\n",
       " 'Чита',\n",
       " 'Якутск',\n",
       " 'Ярославль']"
      ]
     },
     "execution_count": 20,
     "metadata": {},
     "output_type": "execute_result"
    }
   ],
   "source": [
    "sorted(df_users['city'].unique()) # изучим описание столбца"
   ]
  },
  {
   "cell_type": "code",
   "execution_count": 21,
   "id": "af164f58",
   "metadata": {},
   "outputs": [
    {
     "data": {
      "text/plain": [
       "0"
      ]
     },
     "execution_count": 21,
     "metadata": {},
     "output_type": "execute_result"
    }
   ],
   "source": [
    "df_users.duplicated().sum() # проверили на дубликаты"
   ]
  },
  {
   "cell_type": "code",
   "execution_count": 22,
   "id": "d5bf98fc",
   "metadata": {},
   "outputs": [],
   "source": [
    "df_calls['call_date'] = pd.to_datetime(df_calls['call_date'], format='%Y-%m-%d') # изменили типы данных\n",
    "df_calls['id'] = df_calls['id'].astype('int') "
   ]
  },
  {
   "cell_type": "code",
   "execution_count": 23,
   "id": "78aebfba",
   "metadata": {
    "scrolled": true
   },
   "outputs": [
    {
     "data": {
      "text/plain": [
       "id                    int32\n",
       "call_date    datetime64[ns]\n",
       "duration            float64\n",
       "user_id               int64\n",
       "dtype: object"
      ]
     },
     "execution_count": 23,
     "metadata": {},
     "output_type": "execute_result"
    }
   ],
   "source": [
    "df_calls.dtypes  # проверка"
   ]
  },
  {
   "cell_type": "code",
   "execution_count": 24,
   "id": "4762d89d",
   "metadata": {},
   "outputs": [
    {
     "data": {
      "text/plain": [
       "0"
      ]
     },
     "execution_count": 24,
     "metadata": {},
     "output_type": "execute_result"
    }
   ],
   "source": [
    "df_calls.duplicated().sum() # проверка на дубликаты"
   ]
  },
  {
   "cell_type": "code",
   "execution_count": 25,
   "id": "b760f07a",
   "metadata": {},
   "outputs": [],
   "source": [
    "df_internet['session_date'] = pd.to_datetime(df_internet['session_date'], format='%Y-%m-%d') # меняем тип данных\n",
    "df_internet['id'] = df_internet['id'].astype('int') "
   ]
  },
  {
   "cell_type": "code",
   "execution_count": 26,
   "id": "f41ea21d",
   "metadata": {},
   "outputs": [
    {
     "data": {
      "text/plain": [
       "id                       int32\n",
       "mb_used                float64\n",
       "session_date    datetime64[ns]\n",
       "user_id                  int64\n",
       "dtype: object"
      ]
     },
     "execution_count": 26,
     "metadata": {},
     "output_type": "execute_result"
    }
   ],
   "source": [
    "df_internet.dtypes # провекра"
   ]
  },
  {
   "cell_type": "code",
   "execution_count": 27,
   "id": "1efe20aa",
   "metadata": {},
   "outputs": [
    {
     "data": {
      "text/plain": [
       "0"
      ]
     },
     "execution_count": 27,
     "metadata": {},
     "output_type": "execute_result"
    }
   ],
   "source": [
    "df_internet.duplicated().sum() # проверили дубликаты"
   ]
  },
  {
   "cell_type": "code",
   "execution_count": 28,
   "id": "d4d7dfc7",
   "metadata": {},
   "outputs": [],
   "source": [
    "df_messages['message_date'] = pd.to_datetime(df_messages['message_date'], format='%Y-%m-%d') # изменили тип данных\n",
    "df_messages['id'] = df_messages['id'].astype('int') "
   ]
  },
  {
   "cell_type": "code",
   "execution_count": 29,
   "id": "44ae28ca",
   "metadata": {},
   "outputs": [
    {
     "data": {
      "text/plain": [
       "id                       int32\n",
       "message_date    datetime64[ns]\n",
       "user_id                  int64\n",
       "dtype: object"
      ]
     },
     "execution_count": 29,
     "metadata": {},
     "output_type": "execute_result"
    }
   ],
   "source": [
    "df_messages.dtypes # проверили"
   ]
  },
  {
   "cell_type": "code",
   "execution_count": 30,
   "id": "0d9247c5",
   "metadata": {},
   "outputs": [
    {
     "data": {
      "text/plain": [
       "0"
      ]
     },
     "execution_count": 30,
     "metadata": {},
     "output_type": "execute_result"
    }
   ],
   "source": [
    "df_messages.duplicated().sum() #  поверили таблицу на дубликаты"
   ]
  },
  {
   "cell_type": "markdown",
   "id": "93ef0ce4",
   "metadata": {},
   "source": [
    "## Подготовка данных к анализу"
   ]
  },
  {
   "cell_type": "markdown",
   "id": "7f5367a6",
   "metadata": {},
   "source": [
    "Выручку необходимо посчитать в среднем по каждому клиенту по месяцам\n",
    "\n",
    "Выполним следующие действия:\n",
    "\n",
    " - в таблицы со звонками, сообщениями и интернет-трафиком добавим столбец `month`\n",
    " - создадим сводные таблицы для расчета для каждого пользователя по месяцам: \n",
    "    -  количества и длительности звонков\n",
    "    -  количества сообщений\n",
    "    -  объем интернет-трафика\n",
    " - в таблице с пользователями оставим колонки, необходимые для анализа, остальные удалим\n",
    " - объединим таблицы"
   ]
  },
  {
   "cell_type": "code",
   "execution_count": 31,
   "id": "162f3429",
   "metadata": {
    "scrolled": false
   },
   "outputs": [
    {
     "data": {
      "text/html": [
       "<div>\n",
       "<style scoped>\n",
       "    .dataframe tbody tr th:only-of-type {\n",
       "        vertical-align: middle;\n",
       "    }\n",
       "\n",
       "    .dataframe tbody tr th {\n",
       "        vertical-align: top;\n",
       "    }\n",
       "\n",
       "    .dataframe thead th {\n",
       "        text-align: right;\n",
       "    }\n",
       "</style>\n",
       "<table border=\"1\" class=\"dataframe\">\n",
       "  <thead>\n",
       "    <tr style=\"text-align: right;\">\n",
       "      <th></th>\n",
       "      <th>id</th>\n",
       "      <th>call_date</th>\n",
       "      <th>duration</th>\n",
       "      <th>user_id</th>\n",
       "      <th>month</th>\n",
       "    </tr>\n",
       "  </thead>\n",
       "  <tbody>\n",
       "    <tr>\n",
       "      <th>0</th>\n",
       "      <td>10000</td>\n",
       "      <td>2018-07-25</td>\n",
       "      <td>0.00</td>\n",
       "      <td>1000</td>\n",
       "      <td>7</td>\n",
       "    </tr>\n",
       "    <tr>\n",
       "      <th>1</th>\n",
       "      <td>10001</td>\n",
       "      <td>2018-08-17</td>\n",
       "      <td>0.00</td>\n",
       "      <td>1000</td>\n",
       "      <td>8</td>\n",
       "    </tr>\n",
       "    <tr>\n",
       "      <th>2</th>\n",
       "      <td>10002</td>\n",
       "      <td>2018-06-11</td>\n",
       "      <td>2.85</td>\n",
       "      <td>1000</td>\n",
       "      <td>6</td>\n",
       "    </tr>\n",
       "    <tr>\n",
       "      <th>3</th>\n",
       "      <td>10003</td>\n",
       "      <td>2018-09-21</td>\n",
       "      <td>13.80</td>\n",
       "      <td>1000</td>\n",
       "      <td>9</td>\n",
       "    </tr>\n",
       "    <tr>\n",
       "      <th>4</th>\n",
       "      <td>10004</td>\n",
       "      <td>2018-12-15</td>\n",
       "      <td>5.18</td>\n",
       "      <td>1000</td>\n",
       "      <td>12</td>\n",
       "    </tr>\n",
       "  </tbody>\n",
       "</table>\n",
       "</div>"
      ],
      "text/plain": [
       "      id  call_date  duration  user_id  month\n",
       "0  10000 2018-07-25      0.00     1000      7\n",
       "1  10001 2018-08-17      0.00     1000      8\n",
       "2  10002 2018-06-11      2.85     1000      6\n",
       "3  10003 2018-09-21     13.80     1000      9\n",
       "4  10004 2018-12-15      5.18     1000     12"
      ]
     },
     "execution_count": 31,
     "metadata": {},
     "output_type": "execute_result"
    }
   ],
   "source": [
    "df_calls['month'] = df_calls['call_date'].dt.month # добавили столбец month\n",
    "df_calls.head()"
   ]
  },
  {
   "cell_type": "code",
   "execution_count": 32,
   "id": "3ad563ae",
   "metadata": {
    "scrolled": true
   },
   "outputs": [
    {
     "name": "stdout",
     "output_type": "stream",
     "text": [
      "<class 'pandas.core.frame.DataFrame'>\n",
      "RangeIndex: 202607 entries, 0 to 202606\n",
      "Data columns (total 5 columns):\n",
      " #   Column     Non-Null Count   Dtype         \n",
      "---  ------     --------------   -----         \n",
      " 0   id         202607 non-null  int32         \n",
      " 1   call_date  202607 non-null  datetime64[ns]\n",
      " 2   duration   202607 non-null  float64       \n",
      " 3   user_id    202607 non-null  int64         \n",
      " 4   month      202607 non-null  int64         \n",
      "dtypes: datetime64[ns](1), float64(1), int32(1), int64(2)\n",
      "memory usage: 7.0 MB\n"
     ]
    }
   ],
   "source": [
    "df_calls.info()"
   ]
  },
  {
   "cell_type": "markdown",
   "id": "862e60fc",
   "metadata": {},
   "source": [
    "Компания оператор сотовой связи всегда округляет секунды до минут. Каждый звонок округляется отдельно."
   ]
  },
  {
   "cell_type": "code",
   "execution_count": 33,
   "id": "26ccc14e",
   "metadata": {
    "scrolled": true
   },
   "outputs": [
    {
     "data": {
      "text/html": [
       "<div>\n",
       "<style scoped>\n",
       "    .dataframe tbody tr th:only-of-type {\n",
       "        vertical-align: middle;\n",
       "    }\n",
       "\n",
       "    .dataframe tbody tr th {\n",
       "        vertical-align: top;\n",
       "    }\n",
       "\n",
       "    .dataframe thead th {\n",
       "        text-align: right;\n",
       "    }\n",
       "</style>\n",
       "<table border=\"1\" class=\"dataframe\">\n",
       "  <thead>\n",
       "    <tr style=\"text-align: right;\">\n",
       "      <th></th>\n",
       "      <th>id</th>\n",
       "      <th>call_date</th>\n",
       "      <th>duration</th>\n",
       "      <th>user_id</th>\n",
       "      <th>month</th>\n",
       "      <th>duration_round</th>\n",
       "    </tr>\n",
       "  </thead>\n",
       "  <tbody>\n",
       "    <tr>\n",
       "      <th>0</th>\n",
       "      <td>10000</td>\n",
       "      <td>2018-07-25</td>\n",
       "      <td>0.00</td>\n",
       "      <td>1000</td>\n",
       "      <td>7</td>\n",
       "      <td>0.0</td>\n",
       "    </tr>\n",
       "    <tr>\n",
       "      <th>1</th>\n",
       "      <td>10001</td>\n",
       "      <td>2018-08-17</td>\n",
       "      <td>0.00</td>\n",
       "      <td>1000</td>\n",
       "      <td>8</td>\n",
       "      <td>0.0</td>\n",
       "    </tr>\n",
       "    <tr>\n",
       "      <th>2</th>\n",
       "      <td>10002</td>\n",
       "      <td>2018-06-11</td>\n",
       "      <td>2.85</td>\n",
       "      <td>1000</td>\n",
       "      <td>6</td>\n",
       "      <td>3.0</td>\n",
       "    </tr>\n",
       "    <tr>\n",
       "      <th>3</th>\n",
       "      <td>10003</td>\n",
       "      <td>2018-09-21</td>\n",
       "      <td>13.80</td>\n",
       "      <td>1000</td>\n",
       "      <td>9</td>\n",
       "      <td>14.0</td>\n",
       "    </tr>\n",
       "    <tr>\n",
       "      <th>4</th>\n",
       "      <td>10004</td>\n",
       "      <td>2018-12-15</td>\n",
       "      <td>5.18</td>\n",
       "      <td>1000</td>\n",
       "      <td>12</td>\n",
       "      <td>6.0</td>\n",
       "    </tr>\n",
       "  </tbody>\n",
       "</table>\n",
       "</div>"
      ],
      "text/plain": [
       "      id  call_date  duration  user_id  month  duration_round\n",
       "0  10000 2018-07-25      0.00     1000      7             0.0\n",
       "1  10001 2018-08-17      0.00     1000      8             0.0\n",
       "2  10002 2018-06-11      2.85     1000      6             3.0\n",
       "3  10003 2018-09-21     13.80     1000      9            14.0\n",
       "4  10004 2018-12-15      5.18     1000     12             6.0"
      ]
     },
     "execution_count": 33,
     "metadata": {},
     "output_type": "execute_result"
    }
   ],
   "source": [
    "df_calls['duration_round'] = np.ceil(df_calls['duration'])   # округлили звонки\n",
    "df_calls.head()"
   ]
  },
  {
   "cell_type": "code",
   "execution_count": 34,
   "id": "5ac1f9c5",
   "metadata": {},
   "outputs": [
    {
     "data": {
      "text/html": [
       "<div>\n",
       "<style scoped>\n",
       "    .dataframe tbody tr th:only-of-type {\n",
       "        vertical-align: middle;\n",
       "    }\n",
       "\n",
       "    .dataframe tbody tr th {\n",
       "        vertical-align: top;\n",
       "    }\n",
       "\n",
       "    .dataframe thead tr th {\n",
       "        text-align: left;\n",
       "    }\n",
       "\n",
       "    .dataframe thead tr:last-of-type th {\n",
       "        text-align: right;\n",
       "    }\n",
       "</style>\n",
       "<table border=\"1\" class=\"dataframe\">\n",
       "  <thead>\n",
       "    <tr>\n",
       "      <th></th>\n",
       "      <th></th>\n",
       "      <th>count</th>\n",
       "      <th>sum</th>\n",
       "    </tr>\n",
       "    <tr>\n",
       "      <th></th>\n",
       "      <th></th>\n",
       "      <th>duration_round</th>\n",
       "      <th>duration_round</th>\n",
       "    </tr>\n",
       "    <tr>\n",
       "      <th>user_id</th>\n",
       "      <th>month</th>\n",
       "      <th></th>\n",
       "      <th></th>\n",
       "    </tr>\n",
       "  </thead>\n",
       "  <tbody>\n",
       "    <tr>\n",
       "      <th rowspan=\"5\" valign=\"top\">1000</th>\n",
       "      <th>5</th>\n",
       "      <td>22</td>\n",
       "      <td>159.0</td>\n",
       "    </tr>\n",
       "    <tr>\n",
       "      <th>6</th>\n",
       "      <td>43</td>\n",
       "      <td>172.0</td>\n",
       "    </tr>\n",
       "    <tr>\n",
       "      <th>7</th>\n",
       "      <td>47</td>\n",
       "      <td>340.0</td>\n",
       "    </tr>\n",
       "    <tr>\n",
       "      <th>8</th>\n",
       "      <td>52</td>\n",
       "      <td>408.0</td>\n",
       "    </tr>\n",
       "    <tr>\n",
       "      <th>9</th>\n",
       "      <td>58</td>\n",
       "      <td>466.0</td>\n",
       "    </tr>\n",
       "    <tr>\n",
       "      <th>...</th>\n",
       "      <th>...</th>\n",
       "      <td>...</td>\n",
       "      <td>...</td>\n",
       "    </tr>\n",
       "    <tr>\n",
       "      <th>1498</th>\n",
       "      <th>10</th>\n",
       "      <td>41</td>\n",
       "      <td>247.0</td>\n",
       "    </tr>\n",
       "    <tr>\n",
       "      <th rowspan=\"4\" valign=\"top\">1499</th>\n",
       "      <th>9</th>\n",
       "      <td>9</td>\n",
       "      <td>70.0</td>\n",
       "    </tr>\n",
       "    <tr>\n",
       "      <th>10</th>\n",
       "      <td>68</td>\n",
       "      <td>449.0</td>\n",
       "    </tr>\n",
       "    <tr>\n",
       "      <th>11</th>\n",
       "      <td>74</td>\n",
       "      <td>612.0</td>\n",
       "    </tr>\n",
       "    <tr>\n",
       "      <th>12</th>\n",
       "      <td>69</td>\n",
       "      <td>492.0</td>\n",
       "    </tr>\n",
       "  </tbody>\n",
       "</table>\n",
       "<p>3174 rows × 2 columns</p>\n",
       "</div>"
      ],
      "text/plain": [
       "                       count            sum\n",
       "              duration_round duration_round\n",
       "user_id month                              \n",
       "1000    5                 22          159.0\n",
       "        6                 43          172.0\n",
       "        7                 47          340.0\n",
       "        8                 52          408.0\n",
       "        9                 58          466.0\n",
       "...                      ...            ...\n",
       "1498    10                41          247.0\n",
       "1499    9                  9           70.0\n",
       "        10                68          449.0\n",
       "        11                74          612.0\n",
       "        12                69          492.0\n",
       "\n",
       "[3174 rows x 2 columns]"
      ]
     },
     "execution_count": 34,
     "metadata": {},
     "output_type": "execute_result"
    }
   ],
   "source": [
    "df_calls_group = df_calls.pivot_table(index=['user_id', 'month'], values='duration_round', aggfunc=['count', 'sum'])\n",
    "# посчитали количество звонков и длительность\n",
    "df_calls_group"
   ]
  },
  {
   "cell_type": "code",
   "execution_count": 35,
   "id": "9722be94",
   "metadata": {},
   "outputs": [
    {
     "data": {
      "text/html": [
       "<div>\n",
       "<style scoped>\n",
       "    .dataframe tbody tr th:only-of-type {\n",
       "        vertical-align: middle;\n",
       "    }\n",
       "\n",
       "    .dataframe tbody tr th {\n",
       "        vertical-align: top;\n",
       "    }\n",
       "\n",
       "    .dataframe thead th {\n",
       "        text-align: right;\n",
       "    }\n",
       "</style>\n",
       "<table border=\"1\" class=\"dataframe\">\n",
       "  <thead>\n",
       "    <tr style=\"text-align: right;\">\n",
       "      <th></th>\n",
       "      <th>user_id</th>\n",
       "      <th>month</th>\n",
       "      <th>calls_count</th>\n",
       "      <th>calls_minute</th>\n",
       "    </tr>\n",
       "  </thead>\n",
       "  <tbody>\n",
       "    <tr>\n",
       "      <th>0</th>\n",
       "      <td>1000</td>\n",
       "      <td>5</td>\n",
       "      <td>22</td>\n",
       "      <td>159.0</td>\n",
       "    </tr>\n",
       "    <tr>\n",
       "      <th>1</th>\n",
       "      <td>1000</td>\n",
       "      <td>6</td>\n",
       "      <td>43</td>\n",
       "      <td>172.0</td>\n",
       "    </tr>\n",
       "    <tr>\n",
       "      <th>2</th>\n",
       "      <td>1000</td>\n",
       "      <td>7</td>\n",
       "      <td>47</td>\n",
       "      <td>340.0</td>\n",
       "    </tr>\n",
       "    <tr>\n",
       "      <th>3</th>\n",
       "      <td>1000</td>\n",
       "      <td>8</td>\n",
       "      <td>52</td>\n",
       "      <td>408.0</td>\n",
       "    </tr>\n",
       "    <tr>\n",
       "      <th>4</th>\n",
       "      <td>1000</td>\n",
       "      <td>9</td>\n",
       "      <td>58</td>\n",
       "      <td>466.0</td>\n",
       "    </tr>\n",
       "  </tbody>\n",
       "</table>\n",
       "</div>"
      ],
      "text/plain": [
       "   user_id  month  calls_count  calls_minute\n",
       "0     1000      5           22         159.0\n",
       "1     1000      6           43         172.0\n",
       "2     1000      7           47         340.0\n",
       "3     1000      8           52         408.0\n",
       "4     1000      9           58         466.0"
      ]
     },
     "execution_count": 35,
     "metadata": {},
     "output_type": "execute_result"
    }
   ],
   "source": [
    "df_calls_group.columns = ['calls_count', 'calls_minute'] # переименовали колонки\n",
    "df_calls_group.reset_index().head()"
   ]
  },
  {
   "cell_type": "code",
   "execution_count": 36,
   "id": "5acf44f0",
   "metadata": {
    "scrolled": true
   },
   "outputs": [
    {
     "data": {
      "text/html": [
       "<div>\n",
       "<style scoped>\n",
       "    .dataframe tbody tr th:only-of-type {\n",
       "        vertical-align: middle;\n",
       "    }\n",
       "\n",
       "    .dataframe tbody tr th {\n",
       "        vertical-align: top;\n",
       "    }\n",
       "\n",
       "    .dataframe thead th {\n",
       "        text-align: right;\n",
       "    }\n",
       "</style>\n",
       "<table border=\"1\" class=\"dataframe\">\n",
       "  <thead>\n",
       "    <tr style=\"text-align: right;\">\n",
       "      <th></th>\n",
       "      <th>id</th>\n",
       "      <th>mb_used</th>\n",
       "      <th>session_date</th>\n",
       "      <th>user_id</th>\n",
       "      <th>month</th>\n",
       "    </tr>\n",
       "  </thead>\n",
       "  <tbody>\n",
       "    <tr>\n",
       "      <th>0</th>\n",
       "      <td>10000</td>\n",
       "      <td>112.95</td>\n",
       "      <td>2018-11-25</td>\n",
       "      <td>1000</td>\n",
       "      <td>11</td>\n",
       "    </tr>\n",
       "    <tr>\n",
       "      <th>1</th>\n",
       "      <td>10001</td>\n",
       "      <td>1052.81</td>\n",
       "      <td>2018-09-07</td>\n",
       "      <td>1000</td>\n",
       "      <td>9</td>\n",
       "    </tr>\n",
       "    <tr>\n",
       "      <th>2</th>\n",
       "      <td>10002</td>\n",
       "      <td>1197.26</td>\n",
       "      <td>2018-06-25</td>\n",
       "      <td>1000</td>\n",
       "      <td>6</td>\n",
       "    </tr>\n",
       "    <tr>\n",
       "      <th>3</th>\n",
       "      <td>10003</td>\n",
       "      <td>550.27</td>\n",
       "      <td>2018-08-22</td>\n",
       "      <td>1000</td>\n",
       "      <td>8</td>\n",
       "    </tr>\n",
       "    <tr>\n",
       "      <th>4</th>\n",
       "      <td>10004</td>\n",
       "      <td>302.56</td>\n",
       "      <td>2018-09-24</td>\n",
       "      <td>1000</td>\n",
       "      <td>9</td>\n",
       "    </tr>\n",
       "  </tbody>\n",
       "</table>\n",
       "</div>"
      ],
      "text/plain": [
       "      id  mb_used session_date  user_id  month\n",
       "0  10000   112.95   2018-11-25     1000     11\n",
       "1  10001  1052.81   2018-09-07     1000      9\n",
       "2  10002  1197.26   2018-06-25     1000      6\n",
       "3  10003   550.27   2018-08-22     1000      8\n",
       "4  10004   302.56   2018-09-24     1000      9"
      ]
     },
     "execution_count": 36,
     "metadata": {},
     "output_type": "execute_result"
    }
   ],
   "source": [
    "df_internet['month'] = df_internet['session_date'].dt.month   # добавили столбец month\n",
    "df_internet.head()"
   ]
  },
  {
   "cell_type": "code",
   "execution_count": 37,
   "id": "c26b4778",
   "metadata": {},
   "outputs": [
    {
     "data": {
      "text/html": [
       "<div>\n",
       "<style scoped>\n",
       "    .dataframe tbody tr th:only-of-type {\n",
       "        vertical-align: middle;\n",
       "    }\n",
       "\n",
       "    .dataframe tbody tr th {\n",
       "        vertical-align: top;\n",
       "    }\n",
       "\n",
       "    .dataframe thead th {\n",
       "        text-align: right;\n",
       "    }\n",
       "</style>\n",
       "<table border=\"1\" class=\"dataframe\">\n",
       "  <thead>\n",
       "    <tr style=\"text-align: right;\">\n",
       "      <th></th>\n",
       "      <th></th>\n",
       "      <th>mb_used</th>\n",
       "    </tr>\n",
       "    <tr>\n",
       "      <th>user_id</th>\n",
       "      <th>month</th>\n",
       "      <th></th>\n",
       "    </tr>\n",
       "  </thead>\n",
       "  <tbody>\n",
       "    <tr>\n",
       "      <th rowspan=\"5\" valign=\"top\">1000</th>\n",
       "      <th>5</th>\n",
       "      <td>2253.49</td>\n",
       "    </tr>\n",
       "    <tr>\n",
       "      <th>6</th>\n",
       "      <td>23233.77</td>\n",
       "    </tr>\n",
       "    <tr>\n",
       "      <th>7</th>\n",
       "      <td>14003.64</td>\n",
       "    </tr>\n",
       "    <tr>\n",
       "      <th>8</th>\n",
       "      <td>14055.93</td>\n",
       "    </tr>\n",
       "    <tr>\n",
       "      <th>9</th>\n",
       "      <td>14568.91</td>\n",
       "    </tr>\n",
       "  </tbody>\n",
       "</table>\n",
       "</div>"
      ],
      "text/plain": [
       "                mb_used\n",
       "user_id month          \n",
       "1000    5       2253.49\n",
       "        6      23233.77\n",
       "        7      14003.64\n",
       "        8      14055.93\n",
       "        9      14568.91"
      ]
     },
     "execution_count": 37,
     "metadata": {},
     "output_type": "execute_result"
    }
   ],
   "source": [
    "df_internet_group = df_internet.pivot_table(index=['user_id', 'month'], values='mb_used', aggfunc='sum') \n",
    "#  посчитали длительность  интернет сессий\n",
    "df_internet_group.head()"
   ]
  },
  {
   "cell_type": "markdown",
   "id": "1606747b",
   "metadata": {},
   "source": [
    "Компания оператор сотовой связи для рассчета веб-трафика отдельные сессии не считает. Общая сумма за месяц округляется в большую сторону. 1025 мегабайт огруглятся до 2 гигабайт"
   ]
  },
  {
   "cell_type": "code",
   "execution_count": 38,
   "id": "e265e584",
   "metadata": {},
   "outputs": [],
   "source": [
    "df_internet_group['gb_used'] = np.ceil(df_internet_group['mb_used'] / 1024) # добавим столбец с гигабайтами"
   ]
  },
  {
   "cell_type": "code",
   "execution_count": 39,
   "id": "115066b6",
   "metadata": {},
   "outputs": [
    {
     "data": {
      "text/html": [
       "<div>\n",
       "<style scoped>\n",
       "    .dataframe tbody tr th:only-of-type {\n",
       "        vertical-align: middle;\n",
       "    }\n",
       "\n",
       "    .dataframe tbody tr th {\n",
       "        vertical-align: top;\n",
       "    }\n",
       "\n",
       "    .dataframe thead th {\n",
       "        text-align: right;\n",
       "    }\n",
       "</style>\n",
       "<table border=\"1\" class=\"dataframe\">\n",
       "  <thead>\n",
       "    <tr style=\"text-align: right;\">\n",
       "      <th></th>\n",
       "      <th>user_id</th>\n",
       "      <th>month</th>\n",
       "      <th>mb_used</th>\n",
       "      <th>gb_used</th>\n",
       "    </tr>\n",
       "  </thead>\n",
       "  <tbody>\n",
       "    <tr>\n",
       "      <th>0</th>\n",
       "      <td>1000</td>\n",
       "      <td>5</td>\n",
       "      <td>2253.49</td>\n",
       "      <td>3.0</td>\n",
       "    </tr>\n",
       "    <tr>\n",
       "      <th>1</th>\n",
       "      <td>1000</td>\n",
       "      <td>6</td>\n",
       "      <td>23233.77</td>\n",
       "      <td>23.0</td>\n",
       "    </tr>\n",
       "    <tr>\n",
       "      <th>2</th>\n",
       "      <td>1000</td>\n",
       "      <td>7</td>\n",
       "      <td>14003.64</td>\n",
       "      <td>14.0</td>\n",
       "    </tr>\n",
       "    <tr>\n",
       "      <th>3</th>\n",
       "      <td>1000</td>\n",
       "      <td>8</td>\n",
       "      <td>14055.93</td>\n",
       "      <td>14.0</td>\n",
       "    </tr>\n",
       "    <tr>\n",
       "      <th>4</th>\n",
       "      <td>1000</td>\n",
       "      <td>9</td>\n",
       "      <td>14568.91</td>\n",
       "      <td>15.0</td>\n",
       "    </tr>\n",
       "  </tbody>\n",
       "</table>\n",
       "</div>"
      ],
      "text/plain": [
       "   user_id  month   mb_used  gb_used\n",
       "0     1000      5   2253.49      3.0\n",
       "1     1000      6  23233.77     23.0\n",
       "2     1000      7  14003.64     14.0\n",
       "3     1000      8  14055.93     14.0\n",
       "4     1000      9  14568.91     15.0"
      ]
     },
     "execution_count": 39,
     "metadata": {},
     "output_type": "execute_result"
    }
   ],
   "source": [
    "df_internet_group = df_internet_group.reset_index()  \n",
    "df_internet_group.head()"
   ]
  },
  {
   "cell_type": "code",
   "execution_count": 40,
   "id": "afa51379",
   "metadata": {},
   "outputs": [
    {
     "data": {
      "text/html": [
       "<div>\n",
       "<style scoped>\n",
       "    .dataframe tbody tr th:only-of-type {\n",
       "        vertical-align: middle;\n",
       "    }\n",
       "\n",
       "    .dataframe tbody tr th {\n",
       "        vertical-align: top;\n",
       "    }\n",
       "\n",
       "    .dataframe thead th {\n",
       "        text-align: right;\n",
       "    }\n",
       "</style>\n",
       "<table border=\"1\" class=\"dataframe\">\n",
       "  <thead>\n",
       "    <tr style=\"text-align: right;\">\n",
       "      <th></th>\n",
       "      <th>id</th>\n",
       "      <th>message_date</th>\n",
       "      <th>user_id</th>\n",
       "      <th>month</th>\n",
       "    </tr>\n",
       "  </thead>\n",
       "  <tbody>\n",
       "    <tr>\n",
       "      <th>0</th>\n",
       "      <td>10000</td>\n",
       "      <td>2018-06-27</td>\n",
       "      <td>1000</td>\n",
       "      <td>6</td>\n",
       "    </tr>\n",
       "    <tr>\n",
       "      <th>1</th>\n",
       "      <td>10001</td>\n",
       "      <td>2018-10-08</td>\n",
       "      <td>1000</td>\n",
       "      <td>10</td>\n",
       "    </tr>\n",
       "    <tr>\n",
       "      <th>2</th>\n",
       "      <td>10002</td>\n",
       "      <td>2018-08-04</td>\n",
       "      <td>1000</td>\n",
       "      <td>8</td>\n",
       "    </tr>\n",
       "    <tr>\n",
       "      <th>3</th>\n",
       "      <td>10003</td>\n",
       "      <td>2018-06-16</td>\n",
       "      <td>1000</td>\n",
       "      <td>6</td>\n",
       "    </tr>\n",
       "    <tr>\n",
       "      <th>4</th>\n",
       "      <td>10004</td>\n",
       "      <td>2018-12-05</td>\n",
       "      <td>1000</td>\n",
       "      <td>12</td>\n",
       "    </tr>\n",
       "  </tbody>\n",
       "</table>\n",
       "</div>"
      ],
      "text/plain": [
       "      id message_date  user_id  month\n",
       "0  10000   2018-06-27     1000      6\n",
       "1  10001   2018-10-08     1000     10\n",
       "2  10002   2018-08-04     1000      8\n",
       "3  10003   2018-06-16     1000      6\n",
       "4  10004   2018-12-05     1000     12"
      ]
     },
     "execution_count": 40,
     "metadata": {},
     "output_type": "execute_result"
    }
   ],
   "source": [
    "df_messages['month'] = df_messages['message_date'].dt.month    # добавили столбец month\n",
    "df_messages.head()"
   ]
  },
  {
   "cell_type": "code",
   "execution_count": 41,
   "id": "a34471bc",
   "metadata": {},
   "outputs": [],
   "source": [
    "df_messages_group = df_messages.pivot_table(index=['user_id', 'month'], values='id', aggfunc='count') \n",
    "# посчитали количество сообщений"
   ]
  },
  {
   "cell_type": "code",
   "execution_count": 42,
   "id": "892acc37",
   "metadata": {},
   "outputs": [
    {
     "data": {
      "text/html": [
       "<div>\n",
       "<style scoped>\n",
       "    .dataframe tbody tr th:only-of-type {\n",
       "        vertical-align: middle;\n",
       "    }\n",
       "\n",
       "    .dataframe tbody tr th {\n",
       "        vertical-align: top;\n",
       "    }\n",
       "\n",
       "    .dataframe thead th {\n",
       "        text-align: right;\n",
       "    }\n",
       "</style>\n",
       "<table border=\"1\" class=\"dataframe\">\n",
       "  <thead>\n",
       "    <tr style=\"text-align: right;\">\n",
       "      <th></th>\n",
       "      <th>user_id</th>\n",
       "      <th>month</th>\n",
       "      <th>message_count</th>\n",
       "    </tr>\n",
       "  </thead>\n",
       "  <tbody>\n",
       "    <tr>\n",
       "      <th>0</th>\n",
       "      <td>1000</td>\n",
       "      <td>5</td>\n",
       "      <td>22</td>\n",
       "    </tr>\n",
       "    <tr>\n",
       "      <th>1</th>\n",
       "      <td>1000</td>\n",
       "      <td>6</td>\n",
       "      <td>60</td>\n",
       "    </tr>\n",
       "    <tr>\n",
       "      <th>2</th>\n",
       "      <td>1000</td>\n",
       "      <td>7</td>\n",
       "      <td>75</td>\n",
       "    </tr>\n",
       "    <tr>\n",
       "      <th>3</th>\n",
       "      <td>1000</td>\n",
       "      <td>8</td>\n",
       "      <td>81</td>\n",
       "    </tr>\n",
       "    <tr>\n",
       "      <th>4</th>\n",
       "      <td>1000</td>\n",
       "      <td>9</td>\n",
       "      <td>57</td>\n",
       "    </tr>\n",
       "  </tbody>\n",
       "</table>\n",
       "</div>"
      ],
      "text/plain": [
       "   user_id  month  message_count\n",
       "0     1000      5             22\n",
       "1     1000      6             60\n",
       "2     1000      7             75\n",
       "3     1000      8             81\n",
       "4     1000      9             57"
      ]
     },
     "execution_count": 42,
     "metadata": {},
     "output_type": "execute_result"
    }
   ],
   "source": [
    "df_messages_group.columns = ['message_count'] #  переименовали колонки\n",
    "df_messages_group.reset_index().head()"
   ]
  },
  {
   "cell_type": "code",
   "execution_count": 43,
   "id": "0b78d692",
   "metadata": {},
   "outputs": [],
   "source": [
    "df = df_users.drop(['age', 'churn_date', 'first_name', 'last_name', 'reg_date'], axis=1) \n",
    "# удалили столбцы, которые не нужны для анализа"
   ]
  },
  {
   "cell_type": "code",
   "execution_count": 44,
   "id": "ba467f61",
   "metadata": {},
   "outputs": [
    {
     "data": {
      "text/html": [
       "<div>\n",
       "<style scoped>\n",
       "    .dataframe tbody tr th:only-of-type {\n",
       "        vertical-align: middle;\n",
       "    }\n",
       "\n",
       "    .dataframe tbody tr th {\n",
       "        vertical-align: top;\n",
       "    }\n",
       "\n",
       "    .dataframe thead th {\n",
       "        text-align: right;\n",
       "    }\n",
       "</style>\n",
       "<table border=\"1\" class=\"dataframe\">\n",
       "  <thead>\n",
       "    <tr style=\"text-align: right;\">\n",
       "      <th></th>\n",
       "      <th>user_id</th>\n",
       "      <th>city</th>\n",
       "      <th>tariff_name</th>\n",
       "    </tr>\n",
       "  </thead>\n",
       "  <tbody>\n",
       "    <tr>\n",
       "      <th>0</th>\n",
       "      <td>1000</td>\n",
       "      <td>Краснодар</td>\n",
       "      <td>ultra</td>\n",
       "    </tr>\n",
       "    <tr>\n",
       "      <th>1</th>\n",
       "      <td>1001</td>\n",
       "      <td>Москва</td>\n",
       "      <td>smart</td>\n",
       "    </tr>\n",
       "    <tr>\n",
       "      <th>2</th>\n",
       "      <td>1002</td>\n",
       "      <td>Стерлитамак</td>\n",
       "      <td>smart</td>\n",
       "    </tr>\n",
       "    <tr>\n",
       "      <th>3</th>\n",
       "      <td>1003</td>\n",
       "      <td>Москва</td>\n",
       "      <td>ultra</td>\n",
       "    </tr>\n",
       "    <tr>\n",
       "      <th>4</th>\n",
       "      <td>1004</td>\n",
       "      <td>Новокузнецк</td>\n",
       "      <td>ultra</td>\n",
       "    </tr>\n",
       "  </tbody>\n",
       "</table>\n",
       "</div>"
      ],
      "text/plain": [
       "   user_id         city tariff_name\n",
       "0     1000    Краснодар       ultra\n",
       "1     1001       Москва       smart\n",
       "2     1002  Стерлитамак       smart\n",
       "3     1003       Москва       ultra\n",
       "4     1004  Новокузнецк       ultra"
      ]
     },
     "execution_count": 44,
     "metadata": {},
     "output_type": "execute_result"
    }
   ],
   "source": [
    "df.columns = ['user_id', 'city', 'tariff_name'] # переименовали колонки\n",
    "df.head()"
   ]
  },
  {
   "cell_type": "code",
   "execution_count": 45,
   "id": "d2a53a87",
   "metadata": {},
   "outputs": [
    {
     "data": {
      "text/html": [
       "<div>\n",
       "<style scoped>\n",
       "    .dataframe tbody tr th:only-of-type {\n",
       "        vertical-align: middle;\n",
       "    }\n",
       "\n",
       "    .dataframe tbody tr th {\n",
       "        vertical-align: top;\n",
       "    }\n",
       "\n",
       "    .dataframe thead th {\n",
       "        text-align: right;\n",
       "    }\n",
       "</style>\n",
       "<table border=\"1\" class=\"dataframe\">\n",
       "  <thead>\n",
       "    <tr style=\"text-align: right;\">\n",
       "      <th></th>\n",
       "      <th>user_id</th>\n",
       "      <th>city</th>\n",
       "      <th>tariff_name</th>\n",
       "      <th>calls_count</th>\n",
       "      <th>calls_minute</th>\n",
       "    </tr>\n",
       "  </thead>\n",
       "  <tbody>\n",
       "    <tr>\n",
       "      <th>0</th>\n",
       "      <td>1000</td>\n",
       "      <td>Краснодар</td>\n",
       "      <td>ultra</td>\n",
       "      <td>22.0</td>\n",
       "      <td>159.0</td>\n",
       "    </tr>\n",
       "    <tr>\n",
       "      <th>1</th>\n",
       "      <td>1000</td>\n",
       "      <td>Краснодар</td>\n",
       "      <td>ultra</td>\n",
       "      <td>43.0</td>\n",
       "      <td>172.0</td>\n",
       "    </tr>\n",
       "    <tr>\n",
       "      <th>2</th>\n",
       "      <td>1000</td>\n",
       "      <td>Краснодар</td>\n",
       "      <td>ultra</td>\n",
       "      <td>47.0</td>\n",
       "      <td>340.0</td>\n",
       "    </tr>\n",
       "    <tr>\n",
       "      <th>3</th>\n",
       "      <td>1000</td>\n",
       "      <td>Краснодар</td>\n",
       "      <td>ultra</td>\n",
       "      <td>52.0</td>\n",
       "      <td>408.0</td>\n",
       "    </tr>\n",
       "    <tr>\n",
       "      <th>4</th>\n",
       "      <td>1000</td>\n",
       "      <td>Краснодар</td>\n",
       "      <td>ultra</td>\n",
       "      <td>58.0</td>\n",
       "      <td>466.0</td>\n",
       "    </tr>\n",
       "  </tbody>\n",
       "</table>\n",
       "</div>"
      ],
      "text/plain": [
       "   user_id       city tariff_name  calls_count  calls_minute\n",
       "0     1000  Краснодар       ultra         22.0         159.0\n",
       "1     1000  Краснодар       ultra         43.0         172.0\n",
       "2     1000  Краснодар       ultra         47.0         340.0\n",
       "3     1000  Краснодар       ultra         52.0         408.0\n",
       "4     1000  Краснодар       ultra         58.0         466.0"
      ]
     },
     "execution_count": 45,
     "metadata": {},
     "output_type": "execute_result"
    }
   ],
   "source": [
    "df_new = df.merge(df_calls_group, on='user_id', how='outer') # объединяем таблицы\n",
    "df_new.head()"
   ]
  },
  {
   "cell_type": "code",
   "execution_count": 46,
   "id": "8abb0adc",
   "metadata": {
    "scrolled": true
   },
   "outputs": [
    {
     "data": {
      "text/html": [
       "<div>\n",
       "<style scoped>\n",
       "    .dataframe tbody tr th:only-of-type {\n",
       "        vertical-align: middle;\n",
       "    }\n",
       "\n",
       "    .dataframe tbody tr th {\n",
       "        vertical-align: top;\n",
       "    }\n",
       "\n",
       "    .dataframe thead th {\n",
       "        text-align: right;\n",
       "    }\n",
       "</style>\n",
       "<table border=\"1\" class=\"dataframe\">\n",
       "  <thead>\n",
       "    <tr style=\"text-align: right;\">\n",
       "      <th></th>\n",
       "      <th>user_id</th>\n",
       "      <th>city</th>\n",
       "      <th>tariff_name</th>\n",
       "      <th>calls_count</th>\n",
       "      <th>calls_minute</th>\n",
       "      <th>month</th>\n",
       "      <th>mb_used</th>\n",
       "      <th>gb_used</th>\n",
       "    </tr>\n",
       "  </thead>\n",
       "  <tbody>\n",
       "    <tr>\n",
       "      <th>0</th>\n",
       "      <td>1000</td>\n",
       "      <td>Краснодар</td>\n",
       "      <td>ultra</td>\n",
       "      <td>22.0</td>\n",
       "      <td>159.0</td>\n",
       "      <td>5.0</td>\n",
       "      <td>2253.49</td>\n",
       "      <td>3.0</td>\n",
       "    </tr>\n",
       "    <tr>\n",
       "      <th>1</th>\n",
       "      <td>1000</td>\n",
       "      <td>Краснодар</td>\n",
       "      <td>ultra</td>\n",
       "      <td>22.0</td>\n",
       "      <td>159.0</td>\n",
       "      <td>6.0</td>\n",
       "      <td>23233.77</td>\n",
       "      <td>23.0</td>\n",
       "    </tr>\n",
       "    <tr>\n",
       "      <th>2</th>\n",
       "      <td>1000</td>\n",
       "      <td>Краснодар</td>\n",
       "      <td>ultra</td>\n",
       "      <td>22.0</td>\n",
       "      <td>159.0</td>\n",
       "      <td>7.0</td>\n",
       "      <td>14003.64</td>\n",
       "      <td>14.0</td>\n",
       "    </tr>\n",
       "    <tr>\n",
       "      <th>3</th>\n",
       "      <td>1000</td>\n",
       "      <td>Краснодар</td>\n",
       "      <td>ultra</td>\n",
       "      <td>22.0</td>\n",
       "      <td>159.0</td>\n",
       "      <td>8.0</td>\n",
       "      <td>14055.93</td>\n",
       "      <td>14.0</td>\n",
       "    </tr>\n",
       "    <tr>\n",
       "      <th>4</th>\n",
       "      <td>1000</td>\n",
       "      <td>Краснодар</td>\n",
       "      <td>ultra</td>\n",
       "      <td>22.0</td>\n",
       "      <td>159.0</td>\n",
       "      <td>9.0</td>\n",
       "      <td>14568.91</td>\n",
       "      <td>15.0</td>\n",
       "    </tr>\n",
       "  </tbody>\n",
       "</table>\n",
       "</div>"
      ],
      "text/plain": [
       "   user_id       city tariff_name  calls_count  calls_minute  month   mb_used  \\\n",
       "0     1000  Краснодар       ultra         22.0         159.0    5.0   2253.49   \n",
       "1     1000  Краснодар       ultra         22.0         159.0    6.0  23233.77   \n",
       "2     1000  Краснодар       ultra         22.0         159.0    7.0  14003.64   \n",
       "3     1000  Краснодар       ultra         22.0         159.0    8.0  14055.93   \n",
       "4     1000  Краснодар       ultra         22.0         159.0    9.0  14568.91   \n",
       "\n",
       "   gb_used  \n",
       "0      3.0  \n",
       "1     23.0  \n",
       "2     14.0  \n",
       "3     14.0  \n",
       "4     15.0  "
      ]
     },
     "execution_count": 46,
     "metadata": {},
     "output_type": "execute_result"
    }
   ],
   "source": [
    "df_new = df_new.merge(df_internet_group, on=['user_id'], how='outer') # объединяем таблицы\n",
    "df_new.head()"
   ]
  },
  {
   "cell_type": "code",
   "execution_count": 47,
   "id": "e16ed72a",
   "metadata": {},
   "outputs": [
    {
     "data": {
      "text/html": [
       "<div>\n",
       "<style scoped>\n",
       "    .dataframe tbody tr th:only-of-type {\n",
       "        vertical-align: middle;\n",
       "    }\n",
       "\n",
       "    .dataframe tbody tr th {\n",
       "        vertical-align: top;\n",
       "    }\n",
       "\n",
       "    .dataframe thead th {\n",
       "        text-align: right;\n",
       "    }\n",
       "</style>\n",
       "<table border=\"1\" class=\"dataframe\">\n",
       "  <thead>\n",
       "    <tr style=\"text-align: right;\">\n",
       "      <th></th>\n",
       "      <th>user_id</th>\n",
       "      <th>city</th>\n",
       "      <th>tariff_name</th>\n",
       "      <th>calls_count</th>\n",
       "      <th>calls_minute</th>\n",
       "      <th>month</th>\n",
       "      <th>mb_used</th>\n",
       "      <th>gb_used</th>\n",
       "      <th>message_count</th>\n",
       "    </tr>\n",
       "  </thead>\n",
       "  <tbody>\n",
       "    <tr>\n",
       "      <th>0</th>\n",
       "      <td>1000</td>\n",
       "      <td>Краснодар</td>\n",
       "      <td>ultra</td>\n",
       "      <td>22.0</td>\n",
       "      <td>159.0</td>\n",
       "      <td>5.0</td>\n",
       "      <td>2253.49</td>\n",
       "      <td>3.0</td>\n",
       "      <td>22.0</td>\n",
       "    </tr>\n",
       "    <tr>\n",
       "      <th>1</th>\n",
       "      <td>1000</td>\n",
       "      <td>Краснодар</td>\n",
       "      <td>ultra</td>\n",
       "      <td>43.0</td>\n",
       "      <td>172.0</td>\n",
       "      <td>5.0</td>\n",
       "      <td>2253.49</td>\n",
       "      <td>3.0</td>\n",
       "      <td>22.0</td>\n",
       "    </tr>\n",
       "    <tr>\n",
       "      <th>2</th>\n",
       "      <td>1000</td>\n",
       "      <td>Краснодар</td>\n",
       "      <td>ultra</td>\n",
       "      <td>47.0</td>\n",
       "      <td>340.0</td>\n",
       "      <td>5.0</td>\n",
       "      <td>2253.49</td>\n",
       "      <td>3.0</td>\n",
       "      <td>22.0</td>\n",
       "    </tr>\n",
       "    <tr>\n",
       "      <th>3</th>\n",
       "      <td>1000</td>\n",
       "      <td>Краснодар</td>\n",
       "      <td>ultra</td>\n",
       "      <td>52.0</td>\n",
       "      <td>408.0</td>\n",
       "      <td>5.0</td>\n",
       "      <td>2253.49</td>\n",
       "      <td>3.0</td>\n",
       "      <td>22.0</td>\n",
       "    </tr>\n",
       "    <tr>\n",
       "      <th>4</th>\n",
       "      <td>1000</td>\n",
       "      <td>Краснодар</td>\n",
       "      <td>ultra</td>\n",
       "      <td>58.0</td>\n",
       "      <td>466.0</td>\n",
       "      <td>5.0</td>\n",
       "      <td>2253.49</td>\n",
       "      <td>3.0</td>\n",
       "      <td>22.0</td>\n",
       "    </tr>\n",
       "  </tbody>\n",
       "</table>\n",
       "</div>"
      ],
      "text/plain": [
       "   user_id       city tariff_name  calls_count  calls_minute  month  mb_used  \\\n",
       "0     1000  Краснодар       ultra         22.0         159.0    5.0  2253.49   \n",
       "1     1000  Краснодар       ultra         43.0         172.0    5.0  2253.49   \n",
       "2     1000  Краснодар       ultra         47.0         340.0    5.0  2253.49   \n",
       "3     1000  Краснодар       ultra         52.0         408.0    5.0  2253.49   \n",
       "4     1000  Краснодар       ultra         58.0         466.0    5.0  2253.49   \n",
       "\n",
       "   gb_used  message_count  \n",
       "0      3.0           22.0  \n",
       "1      3.0           22.0  \n",
       "2      3.0           22.0  \n",
       "3      3.0           22.0  \n",
       "4      3.0           22.0  "
      ]
     },
     "execution_count": 47,
     "metadata": {},
     "output_type": "execute_result"
    }
   ],
   "source": [
    "df_new = df_new.merge(df_messages_group, on=['user_id', 'month'], how='outer')  # объединяем таблицы\n",
    "df_new.head()"
   ]
  },
  {
   "cell_type": "markdown",
   "id": "910cf236",
   "metadata": {},
   "source": [
    "В таблицу о тарифах добавили столбец с объемом интернет-трафика, включенного в абонентскую плату(в гигабайтах)"
   ]
  },
  {
   "cell_type": "code",
   "execution_count": 48,
   "id": "b45223ed",
   "metadata": {},
   "outputs": [
    {
     "data": {
      "text/html": [
       "<div>\n",
       "<style scoped>\n",
       "    .dataframe tbody tr th:only-of-type {\n",
       "        vertical-align: middle;\n",
       "    }\n",
       "\n",
       "    .dataframe tbody tr th {\n",
       "        vertical-align: top;\n",
       "    }\n",
       "\n",
       "    .dataframe thead th {\n",
       "        text-align: right;\n",
       "    }\n",
       "</style>\n",
       "<table border=\"1\" class=\"dataframe\">\n",
       "  <thead>\n",
       "    <tr style=\"text-align: right;\">\n",
       "      <th></th>\n",
       "      <th>messages_included</th>\n",
       "      <th>mb_per_month_included</th>\n",
       "      <th>minutes_included</th>\n",
       "      <th>rub_monthly_fee</th>\n",
       "      <th>rub_per_gb</th>\n",
       "      <th>rub_per_message</th>\n",
       "      <th>rub_per_minute</th>\n",
       "      <th>tariff_name</th>\n",
       "      <th>gb_per_month_included</th>\n",
       "    </tr>\n",
       "  </thead>\n",
       "  <tbody>\n",
       "    <tr>\n",
       "      <th>0</th>\n",
       "      <td>50</td>\n",
       "      <td>15360</td>\n",
       "      <td>500</td>\n",
       "      <td>550</td>\n",
       "      <td>200</td>\n",
       "      <td>3</td>\n",
       "      <td>3</td>\n",
       "      <td>smart</td>\n",
       "      <td>15.0</td>\n",
       "    </tr>\n",
       "    <tr>\n",
       "      <th>1</th>\n",
       "      <td>1000</td>\n",
       "      <td>30720</td>\n",
       "      <td>3000</td>\n",
       "      <td>1950</td>\n",
       "      <td>150</td>\n",
       "      <td>1</td>\n",
       "      <td>1</td>\n",
       "      <td>ultra</td>\n",
       "      <td>30.0</td>\n",
       "    </tr>\n",
       "  </tbody>\n",
       "</table>\n",
       "</div>"
      ],
      "text/plain": [
       "   messages_included  mb_per_month_included  minutes_included  \\\n",
       "0                 50                  15360               500   \n",
       "1               1000                  30720              3000   \n",
       "\n",
       "   rub_monthly_fee  rub_per_gb  rub_per_message  rub_per_minute tariff_name  \\\n",
       "0              550         200                3               3       smart   \n",
       "1             1950         150                1               1       ultra   \n",
       "\n",
       "   gb_per_month_included  \n",
       "0                   15.0  \n",
       "1                   30.0  "
      ]
     },
     "execution_count": 48,
     "metadata": {},
     "output_type": "execute_result"
    }
   ],
   "source": [
    "df_tariffs['gb_per_month_included'] = df_tariffs['mb_per_month_included'] / 1024\n",
    "df_tariffs.head()"
   ]
  },
  {
   "cell_type": "code",
   "execution_count": 49,
   "id": "dd9b4988",
   "metadata": {},
   "outputs": [
    {
     "data": {
      "text/html": [
       "<div>\n",
       "<style scoped>\n",
       "    .dataframe tbody tr th:only-of-type {\n",
       "        vertical-align: middle;\n",
       "    }\n",
       "\n",
       "    .dataframe tbody tr th {\n",
       "        vertical-align: top;\n",
       "    }\n",
       "\n",
       "    .dataframe thead th {\n",
       "        text-align: right;\n",
       "    }\n",
       "</style>\n",
       "<table border=\"1\" class=\"dataframe\">\n",
       "  <thead>\n",
       "    <tr style=\"text-align: right;\">\n",
       "      <th></th>\n",
       "      <th>user_id</th>\n",
       "      <th>city</th>\n",
       "      <th>tariff_name</th>\n",
       "      <th>calls_count</th>\n",
       "      <th>calls_minute</th>\n",
       "      <th>month</th>\n",
       "      <th>mb_used</th>\n",
       "      <th>gb_used</th>\n",
       "      <th>message_count</th>\n",
       "      <th>messages_included</th>\n",
       "      <th>mb_per_month_included</th>\n",
       "      <th>minutes_included</th>\n",
       "      <th>rub_monthly_fee</th>\n",
       "      <th>rub_per_gb</th>\n",
       "      <th>rub_per_message</th>\n",
       "      <th>rub_per_minute</th>\n",
       "      <th>gb_per_month_included</th>\n",
       "    </tr>\n",
       "  </thead>\n",
       "  <tbody>\n",
       "    <tr>\n",
       "      <th>0</th>\n",
       "      <td>1000</td>\n",
       "      <td>Краснодар</td>\n",
       "      <td>ultra</td>\n",
       "      <td>22.0</td>\n",
       "      <td>159.0</td>\n",
       "      <td>5.0</td>\n",
       "      <td>2253.49</td>\n",
       "      <td>3.0</td>\n",
       "      <td>22.0</td>\n",
       "      <td>1000.0</td>\n",
       "      <td>30720.0</td>\n",
       "      <td>3000.0</td>\n",
       "      <td>1950.0</td>\n",
       "      <td>150.0</td>\n",
       "      <td>1.0</td>\n",
       "      <td>1.0</td>\n",
       "      <td>30.0</td>\n",
       "    </tr>\n",
       "    <tr>\n",
       "      <th>1</th>\n",
       "      <td>1000</td>\n",
       "      <td>Краснодар</td>\n",
       "      <td>ultra</td>\n",
       "      <td>43.0</td>\n",
       "      <td>172.0</td>\n",
       "      <td>5.0</td>\n",
       "      <td>2253.49</td>\n",
       "      <td>3.0</td>\n",
       "      <td>22.0</td>\n",
       "      <td>1000.0</td>\n",
       "      <td>30720.0</td>\n",
       "      <td>3000.0</td>\n",
       "      <td>1950.0</td>\n",
       "      <td>150.0</td>\n",
       "      <td>1.0</td>\n",
       "      <td>1.0</td>\n",
       "      <td>30.0</td>\n",
       "    </tr>\n",
       "    <tr>\n",
       "      <th>2</th>\n",
       "      <td>1000</td>\n",
       "      <td>Краснодар</td>\n",
       "      <td>ultra</td>\n",
       "      <td>47.0</td>\n",
       "      <td>340.0</td>\n",
       "      <td>5.0</td>\n",
       "      <td>2253.49</td>\n",
       "      <td>3.0</td>\n",
       "      <td>22.0</td>\n",
       "      <td>1000.0</td>\n",
       "      <td>30720.0</td>\n",
       "      <td>3000.0</td>\n",
       "      <td>1950.0</td>\n",
       "      <td>150.0</td>\n",
       "      <td>1.0</td>\n",
       "      <td>1.0</td>\n",
       "      <td>30.0</td>\n",
       "    </tr>\n",
       "    <tr>\n",
       "      <th>3</th>\n",
       "      <td>1000</td>\n",
       "      <td>Краснодар</td>\n",
       "      <td>ultra</td>\n",
       "      <td>52.0</td>\n",
       "      <td>408.0</td>\n",
       "      <td>5.0</td>\n",
       "      <td>2253.49</td>\n",
       "      <td>3.0</td>\n",
       "      <td>22.0</td>\n",
       "      <td>1000.0</td>\n",
       "      <td>30720.0</td>\n",
       "      <td>3000.0</td>\n",
       "      <td>1950.0</td>\n",
       "      <td>150.0</td>\n",
       "      <td>1.0</td>\n",
       "      <td>1.0</td>\n",
       "      <td>30.0</td>\n",
       "    </tr>\n",
       "    <tr>\n",
       "      <th>4</th>\n",
       "      <td>1000</td>\n",
       "      <td>Краснодар</td>\n",
       "      <td>ultra</td>\n",
       "      <td>58.0</td>\n",
       "      <td>466.0</td>\n",
       "      <td>5.0</td>\n",
       "      <td>2253.49</td>\n",
       "      <td>3.0</td>\n",
       "      <td>22.0</td>\n",
       "      <td>1000.0</td>\n",
       "      <td>30720.0</td>\n",
       "      <td>3000.0</td>\n",
       "      <td>1950.0</td>\n",
       "      <td>150.0</td>\n",
       "      <td>1.0</td>\n",
       "      <td>1.0</td>\n",
       "      <td>30.0</td>\n",
       "    </tr>\n",
       "  </tbody>\n",
       "</table>\n",
       "</div>"
      ],
      "text/plain": [
       "   user_id       city tariff_name  calls_count  calls_minute  month  mb_used  \\\n",
       "0     1000  Краснодар       ultra         22.0         159.0    5.0  2253.49   \n",
       "1     1000  Краснодар       ultra         43.0         172.0    5.0  2253.49   \n",
       "2     1000  Краснодар       ultra         47.0         340.0    5.0  2253.49   \n",
       "3     1000  Краснодар       ultra         52.0         408.0    5.0  2253.49   \n",
       "4     1000  Краснодар       ultra         58.0         466.0    5.0  2253.49   \n",
       "\n",
       "   gb_used  message_count  messages_included  mb_per_month_included  \\\n",
       "0      3.0           22.0             1000.0                30720.0   \n",
       "1      3.0           22.0             1000.0                30720.0   \n",
       "2      3.0           22.0             1000.0                30720.0   \n",
       "3      3.0           22.0             1000.0                30720.0   \n",
       "4      3.0           22.0             1000.0                30720.0   \n",
       "\n",
       "   minutes_included  rub_monthly_fee  rub_per_gb  rub_per_message  \\\n",
       "0            3000.0           1950.0       150.0              1.0   \n",
       "1            3000.0           1950.0       150.0              1.0   \n",
       "2            3000.0           1950.0       150.0              1.0   \n",
       "3            3000.0           1950.0       150.0              1.0   \n",
       "4            3000.0           1950.0       150.0              1.0   \n",
       "\n",
       "   rub_per_minute  gb_per_month_included  \n",
       "0             1.0                   30.0  \n",
       "1             1.0                   30.0  \n",
       "2             1.0                   30.0  \n",
       "3             1.0                   30.0  \n",
       "4             1.0                   30.0  "
      ]
     },
     "execution_count": 49,
     "metadata": {},
     "output_type": "execute_result"
    }
   ],
   "source": [
    "df_new = df_new.merge(df_tariffs, on='tariff_name', how='outer')  # объединяем таблицы\n",
    "df_new.head()"
   ]
  },
  {
   "cell_type": "markdown",
   "id": "1aac1c42",
   "metadata": {},
   "source": [
    "**Теперь у нас есть таблица со всей необходимой информацией для рассчетов**\n",
    "\n",
    " - Рассчитаем выручку с каждого пользователя по месяцам. Для этого напишем функцию\n",
    " - Посчитаем стоимость звонков, стоимость сообщений, стоимость интернет-трафика для каждого пользователя по месяцам\n",
    " - Добавим в таблицу столбец с расчетами\n"
   ]
  },
  {
   "cell_type": "code",
   "execution_count": 50,
   "id": "a0736d2f",
   "metadata": {},
   "outputs": [],
   "source": [
    "def how_much_cost(row): # функция для рассчета стоимости \n",
    "    income = 0\n",
    "    if row['calls_minute'] > row['minutes_included']:\n",
    "        income += (row['calls_minute'] - row['minutes_included']) * row['rub_per_minute']\n",
    "    if row['gb_used'] > row['gb_per_month_included']:\n",
    "        income += (row['gb_used'] - row['gb_per_month_included']) * row['rub_per_gb']\n",
    "    if row['message_count'] > row['messages_included']:\n",
    "        income += (row['message_count'] - row['messages_included']) * row['rub_per_message']\n",
    "    else:\n",
    "        income += 0        \n",
    "    return income"
   ]
  },
  {
   "cell_type": "code",
   "execution_count": 51,
   "id": "6419a9d5",
   "metadata": {},
   "outputs": [
    {
     "name": "stdout",
     "output_type": "stream",
     "text": [
      "450.0\n"
     ]
    }
   ],
   "source": [
    "row_values = [120.0, 1000.0, 1.0, 33.0, 30.0, 150.0, 60.0, 1000.0, 1.0]\n",
    "row_columns = ['calls_minute', 'minutes_included', 'rub_per_minute','gb_used', 'gb_per_month_included', 'rub_per_gb'\\\n",
    "               ,'message_count', 'messages_included', 'rub_per_message' ]  \n",
    "row = pd.Series(data=row_values, index=row_columns)\n",
    "print(how_much_cost(row))"
   ]
  },
  {
   "cell_type": "code",
   "execution_count": 52,
   "id": "4a0a7a58",
   "metadata": {},
   "outputs": [
    {
     "data": {
      "text/html": [
       "<div>\n",
       "<style scoped>\n",
       "    .dataframe tbody tr th:only-of-type {\n",
       "        vertical-align: middle;\n",
       "    }\n",
       "\n",
       "    .dataframe tbody tr th {\n",
       "        vertical-align: top;\n",
       "    }\n",
       "\n",
       "    .dataframe thead th {\n",
       "        text-align: right;\n",
       "    }\n",
       "</style>\n",
       "<table border=\"1\" class=\"dataframe\">\n",
       "  <thead>\n",
       "    <tr style=\"text-align: right;\">\n",
       "      <th></th>\n",
       "      <th>user_id</th>\n",
       "      <th>city</th>\n",
       "      <th>tariff_name</th>\n",
       "      <th>calls_count</th>\n",
       "      <th>calls_minute</th>\n",
       "      <th>month</th>\n",
       "      <th>mb_used</th>\n",
       "      <th>gb_used</th>\n",
       "      <th>message_count</th>\n",
       "      <th>messages_included</th>\n",
       "      <th>mb_per_month_included</th>\n",
       "      <th>minutes_included</th>\n",
       "      <th>rub_monthly_fee</th>\n",
       "      <th>rub_per_gb</th>\n",
       "      <th>rub_per_message</th>\n",
       "      <th>rub_per_minute</th>\n",
       "      <th>gb_per_month_included</th>\n",
       "      <th>income</th>\n",
       "    </tr>\n",
       "  </thead>\n",
       "  <tbody>\n",
       "    <tr>\n",
       "      <th>0</th>\n",
       "      <td>1000</td>\n",
       "      <td>Краснодар</td>\n",
       "      <td>ultra</td>\n",
       "      <td>22.0</td>\n",
       "      <td>159.0</td>\n",
       "      <td>5.0</td>\n",
       "      <td>2253.49</td>\n",
       "      <td>3.0</td>\n",
       "      <td>22.0</td>\n",
       "      <td>1000.0</td>\n",
       "      <td>30720.0</td>\n",
       "      <td>3000.0</td>\n",
       "      <td>1950.0</td>\n",
       "      <td>150.0</td>\n",
       "      <td>1.0</td>\n",
       "      <td>1.0</td>\n",
       "      <td>30.0</td>\n",
       "      <td>1950.0</td>\n",
       "    </tr>\n",
       "    <tr>\n",
       "      <th>1</th>\n",
       "      <td>1000</td>\n",
       "      <td>Краснодар</td>\n",
       "      <td>ultra</td>\n",
       "      <td>43.0</td>\n",
       "      <td>172.0</td>\n",
       "      <td>5.0</td>\n",
       "      <td>2253.49</td>\n",
       "      <td>3.0</td>\n",
       "      <td>22.0</td>\n",
       "      <td>1000.0</td>\n",
       "      <td>30720.0</td>\n",
       "      <td>3000.0</td>\n",
       "      <td>1950.0</td>\n",
       "      <td>150.0</td>\n",
       "      <td>1.0</td>\n",
       "      <td>1.0</td>\n",
       "      <td>30.0</td>\n",
       "      <td>1950.0</td>\n",
       "    </tr>\n",
       "    <tr>\n",
       "      <th>2</th>\n",
       "      <td>1000</td>\n",
       "      <td>Краснодар</td>\n",
       "      <td>ultra</td>\n",
       "      <td>47.0</td>\n",
       "      <td>340.0</td>\n",
       "      <td>5.0</td>\n",
       "      <td>2253.49</td>\n",
       "      <td>3.0</td>\n",
       "      <td>22.0</td>\n",
       "      <td>1000.0</td>\n",
       "      <td>30720.0</td>\n",
       "      <td>3000.0</td>\n",
       "      <td>1950.0</td>\n",
       "      <td>150.0</td>\n",
       "      <td>1.0</td>\n",
       "      <td>1.0</td>\n",
       "      <td>30.0</td>\n",
       "      <td>1950.0</td>\n",
       "    </tr>\n",
       "    <tr>\n",
       "      <th>3</th>\n",
       "      <td>1000</td>\n",
       "      <td>Краснодар</td>\n",
       "      <td>ultra</td>\n",
       "      <td>52.0</td>\n",
       "      <td>408.0</td>\n",
       "      <td>5.0</td>\n",
       "      <td>2253.49</td>\n",
       "      <td>3.0</td>\n",
       "      <td>22.0</td>\n",
       "      <td>1000.0</td>\n",
       "      <td>30720.0</td>\n",
       "      <td>3000.0</td>\n",
       "      <td>1950.0</td>\n",
       "      <td>150.0</td>\n",
       "      <td>1.0</td>\n",
       "      <td>1.0</td>\n",
       "      <td>30.0</td>\n",
       "      <td>1950.0</td>\n",
       "    </tr>\n",
       "    <tr>\n",
       "      <th>4</th>\n",
       "      <td>1000</td>\n",
       "      <td>Краснодар</td>\n",
       "      <td>ultra</td>\n",
       "      <td>58.0</td>\n",
       "      <td>466.0</td>\n",
       "      <td>5.0</td>\n",
       "      <td>2253.49</td>\n",
       "      <td>3.0</td>\n",
       "      <td>22.0</td>\n",
       "      <td>1000.0</td>\n",
       "      <td>30720.0</td>\n",
       "      <td>3000.0</td>\n",
       "      <td>1950.0</td>\n",
       "      <td>150.0</td>\n",
       "      <td>1.0</td>\n",
       "      <td>1.0</td>\n",
       "      <td>30.0</td>\n",
       "      <td>1950.0</td>\n",
       "    </tr>\n",
       "  </tbody>\n",
       "</table>\n",
       "</div>"
      ],
      "text/plain": [
       "   user_id       city tariff_name  calls_count  calls_minute  month  mb_used  \\\n",
       "0     1000  Краснодар       ultra         22.0         159.0    5.0  2253.49   \n",
       "1     1000  Краснодар       ultra         43.0         172.0    5.0  2253.49   \n",
       "2     1000  Краснодар       ultra         47.0         340.0    5.0  2253.49   \n",
       "3     1000  Краснодар       ultra         52.0         408.0    5.0  2253.49   \n",
       "4     1000  Краснодар       ultra         58.0         466.0    5.0  2253.49   \n",
       "\n",
       "   gb_used  message_count  messages_included  mb_per_month_included  \\\n",
       "0      3.0           22.0             1000.0                30720.0   \n",
       "1      3.0           22.0             1000.0                30720.0   \n",
       "2      3.0           22.0             1000.0                30720.0   \n",
       "3      3.0           22.0             1000.0                30720.0   \n",
       "4      3.0           22.0             1000.0                30720.0   \n",
       "\n",
       "   minutes_included  rub_monthly_fee  rub_per_gb  rub_per_message  \\\n",
       "0            3000.0           1950.0       150.0              1.0   \n",
       "1            3000.0           1950.0       150.0              1.0   \n",
       "2            3000.0           1950.0       150.0              1.0   \n",
       "3            3000.0           1950.0       150.0              1.0   \n",
       "4            3000.0           1950.0       150.0              1.0   \n",
       "\n",
       "   rub_per_minute  gb_per_month_included  income  \n",
       "0             1.0                   30.0  1950.0  \n",
       "1             1.0                   30.0  1950.0  \n",
       "2             1.0                   30.0  1950.0  \n",
       "3             1.0                   30.0  1950.0  \n",
       "4             1.0                   30.0  1950.0  "
      ]
     },
     "execution_count": 52,
     "metadata": {},
     "output_type": "execute_result"
    }
   ],
   "source": [
    "df_new['income'] = (df_new.apply(how_much_cost, axis=1)) + df_new['rub_monthly_fee']\n",
    "df_new.head()"
   ]
  },
  {
   "cell_type": "markdown",
   "id": "70b6a8eb",
   "metadata": {},
   "source": [
    "## Анализ данных"
   ]
  },
  {
   "cell_type": "markdown",
   "id": "32e81000",
   "metadata": {},
   "source": [
    " - Создадим таблицы отдельно для каждого тарифа. Отфильтруем строки."
   ]
  },
  {
   "cell_type": "code",
   "execution_count": 53,
   "id": "5e35f786",
   "metadata": {},
   "outputs": [],
   "source": [
    "df_new_smart = df_new[df_new['tariff_name'] == 'smart']"
   ]
  },
  {
   "cell_type": "code",
   "execution_count": 54,
   "id": "d79b947f",
   "metadata": {},
   "outputs": [],
   "source": [
    "df_new_smart = df_new_smart.loc[:, 'user_id': 'income']"
   ]
  },
  {
   "cell_type": "code",
   "execution_count": 55,
   "id": "444c568e",
   "metadata": {
    "scrolled": true
   },
   "outputs": [
    {
     "data": {
      "text/html": [
       "<div>\n",
       "<style scoped>\n",
       "    .dataframe tbody tr th:only-of-type {\n",
       "        vertical-align: middle;\n",
       "    }\n",
       "\n",
       "    .dataframe tbody tr th {\n",
       "        vertical-align: top;\n",
       "    }\n",
       "\n",
       "    .dataframe thead th {\n",
       "        text-align: right;\n",
       "    }\n",
       "</style>\n",
       "<table border=\"1\" class=\"dataframe\">\n",
       "  <thead>\n",
       "    <tr style=\"text-align: right;\">\n",
       "      <th></th>\n",
       "      <th>user_id</th>\n",
       "      <th>city</th>\n",
       "      <th>tariff_name</th>\n",
       "      <th>calls_count</th>\n",
       "      <th>calls_minute</th>\n",
       "      <th>month</th>\n",
       "      <th>mb_used</th>\n",
       "      <th>gb_used</th>\n",
       "      <th>message_count</th>\n",
       "      <th>messages_included</th>\n",
       "      <th>mb_per_month_included</th>\n",
       "      <th>minutes_included</th>\n",
       "      <th>rub_monthly_fee</th>\n",
       "      <th>rub_per_gb</th>\n",
       "      <th>rub_per_message</th>\n",
       "      <th>rub_per_minute</th>\n",
       "      <th>gb_per_month_included</th>\n",
       "      <th>income</th>\n",
       "    </tr>\n",
       "  </thead>\n",
       "  <tbody>\n",
       "    <tr>\n",
       "      <th>7826</th>\n",
       "      <td>1001</td>\n",
       "      <td>Москва</td>\n",
       "      <td>smart</td>\n",
       "      <td>59.0</td>\n",
       "      <td>430.0</td>\n",
       "      <td>11.0</td>\n",
       "      <td>18429.34</td>\n",
       "      <td>18.0</td>\n",
       "      <td>NaN</td>\n",
       "      <td>50.0</td>\n",
       "      <td>15360.0</td>\n",
       "      <td>500.0</td>\n",
       "      <td>550.0</td>\n",
       "      <td>200.0</td>\n",
       "      <td>3.0</td>\n",
       "      <td>3.0</td>\n",
       "      <td>15.0</td>\n",
       "      <td>1150.0</td>\n",
       "    </tr>\n",
       "    <tr>\n",
       "      <th>7827</th>\n",
       "      <td>1001</td>\n",
       "      <td>Москва</td>\n",
       "      <td>smart</td>\n",
       "      <td>63.0</td>\n",
       "      <td>414.0</td>\n",
       "      <td>11.0</td>\n",
       "      <td>18429.34</td>\n",
       "      <td>18.0</td>\n",
       "      <td>NaN</td>\n",
       "      <td>50.0</td>\n",
       "      <td>15360.0</td>\n",
       "      <td>500.0</td>\n",
       "      <td>550.0</td>\n",
       "      <td>200.0</td>\n",
       "      <td>3.0</td>\n",
       "      <td>3.0</td>\n",
       "      <td>15.0</td>\n",
       "      <td>1150.0</td>\n",
       "    </tr>\n",
       "    <tr>\n",
       "      <th>7828</th>\n",
       "      <td>1001</td>\n",
       "      <td>Москва</td>\n",
       "      <td>smart</td>\n",
       "      <td>59.0</td>\n",
       "      <td>430.0</td>\n",
       "      <td>12.0</td>\n",
       "      <td>14036.66</td>\n",
       "      <td>14.0</td>\n",
       "      <td>NaN</td>\n",
       "      <td>50.0</td>\n",
       "      <td>15360.0</td>\n",
       "      <td>500.0</td>\n",
       "      <td>550.0</td>\n",
       "      <td>200.0</td>\n",
       "      <td>3.0</td>\n",
       "      <td>3.0</td>\n",
       "      <td>15.0</td>\n",
       "      <td>550.0</td>\n",
       "    </tr>\n",
       "    <tr>\n",
       "      <th>7829</th>\n",
       "      <td>1001</td>\n",
       "      <td>Москва</td>\n",
       "      <td>smart</td>\n",
       "      <td>63.0</td>\n",
       "      <td>414.0</td>\n",
       "      <td>12.0</td>\n",
       "      <td>14036.66</td>\n",
       "      <td>14.0</td>\n",
       "      <td>NaN</td>\n",
       "      <td>50.0</td>\n",
       "      <td>15360.0</td>\n",
       "      <td>500.0</td>\n",
       "      <td>550.0</td>\n",
       "      <td>200.0</td>\n",
       "      <td>3.0</td>\n",
       "      <td>3.0</td>\n",
       "      <td>15.0</td>\n",
       "      <td>550.0</td>\n",
       "    </tr>\n",
       "    <tr>\n",
       "      <th>7830</th>\n",
       "      <td>1002</td>\n",
       "      <td>Стерлитамак</td>\n",
       "      <td>smart</td>\n",
       "      <td>15.0</td>\n",
       "      <td>117.0</td>\n",
       "      <td>6.0</td>\n",
       "      <td>10856.82</td>\n",
       "      <td>11.0</td>\n",
       "      <td>4.0</td>\n",
       "      <td>50.0</td>\n",
       "      <td>15360.0</td>\n",
       "      <td>500.0</td>\n",
       "      <td>550.0</td>\n",
       "      <td>200.0</td>\n",
       "      <td>3.0</td>\n",
       "      <td>3.0</td>\n",
       "      <td>15.0</td>\n",
       "      <td>550.0</td>\n",
       "    </tr>\n",
       "  </tbody>\n",
       "</table>\n",
       "</div>"
      ],
      "text/plain": [
       "      user_id         city tariff_name  calls_count  calls_minute  month  \\\n",
       "7826     1001       Москва       smart         59.0         430.0   11.0   \n",
       "7827     1001       Москва       smart         63.0         414.0   11.0   \n",
       "7828     1001       Москва       smart         59.0         430.0   12.0   \n",
       "7829     1001       Москва       smart         63.0         414.0   12.0   \n",
       "7830     1002  Стерлитамак       smart         15.0         117.0    6.0   \n",
       "\n",
       "       mb_used  gb_used  message_count  messages_included  \\\n",
       "7826  18429.34     18.0            NaN               50.0   \n",
       "7827  18429.34     18.0            NaN               50.0   \n",
       "7828  14036.66     14.0            NaN               50.0   \n",
       "7829  14036.66     14.0            NaN               50.0   \n",
       "7830  10856.82     11.0            4.0               50.0   \n",
       "\n",
       "      mb_per_month_included  minutes_included  rub_monthly_fee  rub_per_gb  \\\n",
       "7826                15360.0             500.0            550.0       200.0   \n",
       "7827                15360.0             500.0            550.0       200.0   \n",
       "7828                15360.0             500.0            550.0       200.0   \n",
       "7829                15360.0             500.0            550.0       200.0   \n",
       "7830                15360.0             500.0            550.0       200.0   \n",
       "\n",
       "      rub_per_message  rub_per_minute  gb_per_month_included  income  \n",
       "7826              3.0             3.0                   15.0  1150.0  \n",
       "7827              3.0             3.0                   15.0  1150.0  \n",
       "7828              3.0             3.0                   15.0   550.0  \n",
       "7829              3.0             3.0                   15.0   550.0  \n",
       "7830              3.0             3.0                   15.0   550.0  "
      ]
     },
     "execution_count": 55,
     "metadata": {},
     "output_type": "execute_result"
    }
   ],
   "source": [
    "df_new_smart.head()"
   ]
  },
  {
   "cell_type": "code",
   "execution_count": 56,
   "id": "a5b56157",
   "metadata": {},
   "outputs": [
    {
     "data": {
      "text/plain": [
       "0"
      ]
     },
     "execution_count": 56,
     "metadata": {},
     "output_type": "execute_result"
    }
   ],
   "source": [
    "df_new_smart['rub_monthly_fee'].isna().sum()"
   ]
  },
  {
   "cell_type": "code",
   "execution_count": 57,
   "id": "76765d2c",
   "metadata": {},
   "outputs": [
    {
     "data": {
      "text/plain": [
       "count    18189.000000\n",
       "mean      1262.927099\n",
       "std        744.423146\n",
       "min        550.000000\n",
       "25%        595.000000\n",
       "50%       1040.000000\n",
       "75%       1740.000000\n",
       "max       6770.000000\n",
       "Name: income, dtype: float64"
      ]
     },
     "execution_count": 57,
     "metadata": {},
     "output_type": "execute_result"
    }
   ],
   "source": [
    "df_new_smart['income'].describe()"
   ]
  },
  {
   "cell_type": "code",
   "execution_count": 58,
   "id": "740ad54c",
   "metadata": {},
   "outputs": [],
   "source": [
    "df_new_ultra = df_new[df_new['tariff_name'] == 'ultra']"
   ]
  },
  {
   "cell_type": "code",
   "execution_count": 59,
   "id": "7dba0397",
   "metadata": {},
   "outputs": [],
   "source": [
    "df_new_ultra = df_new_ultra.loc[:, 'user_id': 'income']"
   ]
  },
  {
   "cell_type": "code",
   "execution_count": 60,
   "id": "8a1bd799",
   "metadata": {},
   "outputs": [
    {
     "data": {
      "text/html": [
       "<div>\n",
       "<style scoped>\n",
       "    .dataframe tbody tr th:only-of-type {\n",
       "        vertical-align: middle;\n",
       "    }\n",
       "\n",
       "    .dataframe tbody tr th {\n",
       "        vertical-align: top;\n",
       "    }\n",
       "\n",
       "    .dataframe thead th {\n",
       "        text-align: right;\n",
       "    }\n",
       "</style>\n",
       "<table border=\"1\" class=\"dataframe\">\n",
       "  <thead>\n",
       "    <tr style=\"text-align: right;\">\n",
       "      <th></th>\n",
       "      <th>user_id</th>\n",
       "      <th>city</th>\n",
       "      <th>tariff_name</th>\n",
       "      <th>calls_count</th>\n",
       "      <th>calls_minute</th>\n",
       "      <th>month</th>\n",
       "      <th>mb_used</th>\n",
       "      <th>gb_used</th>\n",
       "      <th>message_count</th>\n",
       "      <th>messages_included</th>\n",
       "      <th>mb_per_month_included</th>\n",
       "      <th>minutes_included</th>\n",
       "      <th>rub_monthly_fee</th>\n",
       "      <th>rub_per_gb</th>\n",
       "      <th>rub_per_message</th>\n",
       "      <th>rub_per_minute</th>\n",
       "      <th>gb_per_month_included</th>\n",
       "      <th>income</th>\n",
       "    </tr>\n",
       "  </thead>\n",
       "  <tbody>\n",
       "    <tr>\n",
       "      <th>0</th>\n",
       "      <td>1000</td>\n",
       "      <td>Краснодар</td>\n",
       "      <td>ultra</td>\n",
       "      <td>22.0</td>\n",
       "      <td>159.0</td>\n",
       "      <td>5.0</td>\n",
       "      <td>2253.49</td>\n",
       "      <td>3.0</td>\n",
       "      <td>22.0</td>\n",
       "      <td>1000.0</td>\n",
       "      <td>30720.0</td>\n",
       "      <td>3000.0</td>\n",
       "      <td>1950.0</td>\n",
       "      <td>150.0</td>\n",
       "      <td>1.0</td>\n",
       "      <td>1.0</td>\n",
       "      <td>30.0</td>\n",
       "      <td>1950.0</td>\n",
       "    </tr>\n",
       "    <tr>\n",
       "      <th>1</th>\n",
       "      <td>1000</td>\n",
       "      <td>Краснодар</td>\n",
       "      <td>ultra</td>\n",
       "      <td>43.0</td>\n",
       "      <td>172.0</td>\n",
       "      <td>5.0</td>\n",
       "      <td>2253.49</td>\n",
       "      <td>3.0</td>\n",
       "      <td>22.0</td>\n",
       "      <td>1000.0</td>\n",
       "      <td>30720.0</td>\n",
       "      <td>3000.0</td>\n",
       "      <td>1950.0</td>\n",
       "      <td>150.0</td>\n",
       "      <td>1.0</td>\n",
       "      <td>1.0</td>\n",
       "      <td>30.0</td>\n",
       "      <td>1950.0</td>\n",
       "    </tr>\n",
       "    <tr>\n",
       "      <th>2</th>\n",
       "      <td>1000</td>\n",
       "      <td>Краснодар</td>\n",
       "      <td>ultra</td>\n",
       "      <td>47.0</td>\n",
       "      <td>340.0</td>\n",
       "      <td>5.0</td>\n",
       "      <td>2253.49</td>\n",
       "      <td>3.0</td>\n",
       "      <td>22.0</td>\n",
       "      <td>1000.0</td>\n",
       "      <td>30720.0</td>\n",
       "      <td>3000.0</td>\n",
       "      <td>1950.0</td>\n",
       "      <td>150.0</td>\n",
       "      <td>1.0</td>\n",
       "      <td>1.0</td>\n",
       "      <td>30.0</td>\n",
       "      <td>1950.0</td>\n",
       "    </tr>\n",
       "    <tr>\n",
       "      <th>3</th>\n",
       "      <td>1000</td>\n",
       "      <td>Краснодар</td>\n",
       "      <td>ultra</td>\n",
       "      <td>52.0</td>\n",
       "      <td>408.0</td>\n",
       "      <td>5.0</td>\n",
       "      <td>2253.49</td>\n",
       "      <td>3.0</td>\n",
       "      <td>22.0</td>\n",
       "      <td>1000.0</td>\n",
       "      <td>30720.0</td>\n",
       "      <td>3000.0</td>\n",
       "      <td>1950.0</td>\n",
       "      <td>150.0</td>\n",
       "      <td>1.0</td>\n",
       "      <td>1.0</td>\n",
       "      <td>30.0</td>\n",
       "      <td>1950.0</td>\n",
       "    </tr>\n",
       "    <tr>\n",
       "      <th>4</th>\n",
       "      <td>1000</td>\n",
       "      <td>Краснодар</td>\n",
       "      <td>ultra</td>\n",
       "      <td>58.0</td>\n",
       "      <td>466.0</td>\n",
       "      <td>5.0</td>\n",
       "      <td>2253.49</td>\n",
       "      <td>3.0</td>\n",
       "      <td>22.0</td>\n",
       "      <td>1000.0</td>\n",
       "      <td>30720.0</td>\n",
       "      <td>3000.0</td>\n",
       "      <td>1950.0</td>\n",
       "      <td>150.0</td>\n",
       "      <td>1.0</td>\n",
       "      <td>1.0</td>\n",
       "      <td>30.0</td>\n",
       "      <td>1950.0</td>\n",
       "    </tr>\n",
       "  </tbody>\n",
       "</table>\n",
       "</div>"
      ],
      "text/plain": [
       "   user_id       city tariff_name  calls_count  calls_minute  month  mb_used  \\\n",
       "0     1000  Краснодар       ultra         22.0         159.0    5.0  2253.49   \n",
       "1     1000  Краснодар       ultra         43.0         172.0    5.0  2253.49   \n",
       "2     1000  Краснодар       ultra         47.0         340.0    5.0  2253.49   \n",
       "3     1000  Краснодар       ultra         52.0         408.0    5.0  2253.49   \n",
       "4     1000  Краснодар       ultra         58.0         466.0    5.0  2253.49   \n",
       "\n",
       "   gb_used  message_count  messages_included  mb_per_month_included  \\\n",
       "0      3.0           22.0             1000.0                30720.0   \n",
       "1      3.0           22.0             1000.0                30720.0   \n",
       "2      3.0           22.0             1000.0                30720.0   \n",
       "3      3.0           22.0             1000.0                30720.0   \n",
       "4      3.0           22.0             1000.0                30720.0   \n",
       "\n",
       "   minutes_included  rub_monthly_fee  rub_per_gb  rub_per_message  \\\n",
       "0            3000.0           1950.0       150.0              1.0   \n",
       "1            3000.0           1950.0       150.0              1.0   \n",
       "2            3000.0           1950.0       150.0              1.0   \n",
       "3            3000.0           1950.0       150.0              1.0   \n",
       "4            3000.0           1950.0       150.0              1.0   \n",
       "\n",
       "   rub_per_minute  gb_per_month_included  income  \n",
       "0             1.0                   30.0  1950.0  \n",
       "1             1.0                   30.0  1950.0  \n",
       "2             1.0                   30.0  1950.0  \n",
       "3             1.0                   30.0  1950.0  \n",
       "4             1.0                   30.0  1950.0  "
      ]
     },
     "execution_count": 60,
     "metadata": {},
     "output_type": "execute_result"
    }
   ],
   "source": [
    "df_new_ultra.head()"
   ]
  },
  {
   "cell_type": "code",
   "execution_count": 61,
   "id": "c3b89540",
   "metadata": {},
   "outputs": [
    {
     "data": {
      "text/plain": [
       "0"
      ]
     },
     "execution_count": 61,
     "metadata": {},
     "output_type": "execute_result"
    }
   ],
   "source": [
    "df_new_ultra['rub_monthly_fee'].isna().sum()"
   ]
  },
  {
   "cell_type": "code",
   "execution_count": 62,
   "id": "d837abd3",
   "metadata": {},
   "outputs": [
    {
     "data": {
      "text/plain": [
       "count    7826.000000\n",
       "mean     2064.100434\n",
       "std       360.537674\n",
       "min      1950.000000\n",
       "25%      1950.000000\n",
       "50%      1950.000000\n",
       "75%      1950.000000\n",
       "max      4800.000000\n",
       "Name: income, dtype: float64"
      ]
     },
     "execution_count": 62,
     "metadata": {},
     "output_type": "execute_result"
    }
   ],
   "source": [
    "df_new_ultra['income'].describe()"
   ]
  },
  {
   "cell_type": "markdown",
   "id": "2da7169c",
   "metadata": {},
   "source": [
    "**Проанализируем данные**\n",
    "\n",
    " - Общая информация о тарифах"
   ]
  },
  {
   "cell_type": "markdown",
   "id": "d300e60d",
   "metadata": {},
   "source": [
    "**Тариф \"Смарт\"**\n",
    " - ежемесячная плата 550 рублей\n",
    " - включено 500 минут разговора, 50 сообщений, 15 Гб интернет-трафика\n",
    " \n",
    " - стоимость услуг сверх тарифного пакета\n",
    "    - минута разговора 3 рубля\n",
    "    - сообщение 3 рубля\n",
    "    - 1 Гб интернет-трафика 200 рублей\n",
    "    \n",
    "**Тариф \"Ультра\"**\n",
    " - ежемесячная плата 1950 рублей\n",
    " - включено 3000 минут разговора, 1000 сообщений, 30 Гб интернет-трафика\n",
    " \n",
    " - стоимость услуг сверх тарифного пакета\n",
    "    - минута разговора 1 рубль\n",
    "    - сообщение 1 рубль\n",
    "    - 1 Гб интернет-трафика 150 рублей"
   ]
  },
  {
   "cell_type": "markdown",
   "id": "cfd598e8",
   "metadata": {},
   "source": [
    " - Изучим сколько минут разговора, сколько сообщений и какой объем интернет-трафика требуется пользователям каждого тарифа в месяц\n",
    " \n",
    "Построим графики распределения длительности звонков для каждого тарифа"
   ]
  },
  {
   "cell_type": "code",
   "execution_count": 63,
   "id": "acf2f277",
   "metadata": {},
   "outputs": [
    {
     "data": {
      "text/plain": [
       "count    18183.000000\n",
       "mean       417.755926\n",
       "std        184.444696\n",
       "min          0.000000\n",
       "25%        286.000000\n",
       "50%        428.000000\n",
       "75%        544.000000\n",
       "max       1435.000000\n",
       "Name: calls_minute, dtype: float64"
      ]
     },
     "execution_count": 63,
     "metadata": {},
     "output_type": "execute_result"
    }
   ],
   "source": [
    "df_new_smart['calls_minute'].describe() # получили описание столбца "
   ]
  },
  {
   "cell_type": "code",
   "execution_count": 64,
   "id": "1d74a8a5",
   "metadata": {},
   "outputs": [
    {
     "data": {
      "text/plain": [
       "count    7792.000000\n",
       "mean      550.534908\n",
       "std       296.578648\n",
       "min         0.000000\n",
       "25%       326.000000\n",
       "50%       536.000000\n",
       "75%       757.000000\n",
       "max      1673.000000\n",
       "Name: calls_minute, dtype: float64"
      ]
     },
     "execution_count": 64,
     "metadata": {},
     "output_type": "execute_result"
    }
   ],
   "source": [
    "df_new_ultra['calls_minute'].describe()"
   ]
  },
  {
   "cell_type": "code",
   "execution_count": 65,
   "id": "330b66f8",
   "metadata": {
    "scrolled": false
   },
   "outputs": [
    {
     "data": {
      "image/png": "[encoded data removed]",
      "text/plain": [
       "<Figure size 864x288 with 1 Axes>"
      ]
     },
     "metadata": {
      "needs_background": "light"
     },
     "output_type": "display_data"
    }
   ],
   "source": [
    "df_new_smart.plot(kind='hist', y='calls_minute', bins=100, range=(0, 1435), label='calls minute',\n",
    "                  figsize=(12,4), title='Распределение минут для тарифа smart')\n",
    "plt.xlabel('Минуты');"
   ]
  },
  {
   "cell_type": "markdown",
   "id": "a966c7c7",
   "metadata": {},
   "source": [
    "Вывод\n",
    "\n",
    "В среднем пользователям тарифа Смарт требуется 400-420 минут минут разговора в месяц. Но почти треть пользователей не укладывается в предоставленный и оплачивает дополнительные минуты разговора.\n"
   ]
  },
  {
   "cell_type": "code",
   "execution_count": 66,
   "id": "9bb76ec4",
   "metadata": {},
   "outputs": [
    {
     "data": {
      "image/png": "[encoded data removed]",
      "text/plain": [
       "<Figure size 864x288 with 1 Axes>"
      ]
     },
     "metadata": {
      "needs_background": "light"
     },
     "output_type": "display_data"
    }
   ],
   "source": [
    "df_new_ultra.plot(kind='hist', y='calls_minute', bins=100, range=(0, 1673), label='calls minute'\\\n",
    "                  , figsize=(12,4),title='Распределение минут для тарифа ultra')\n",
    "plt.xlabel('Минуты');"
   ]
  },
  {
   "cell_type": "markdown",
   "id": "019d6e67",
   "metadata": {},
   "source": [
    "Вывод\n",
    "\n",
    "Гистограмма более широкая и плоская, в сравнении с предыдущей. Выборка очень неоднородна. Много как коротких, так и продолжительных звонков"
   ]
  },
  {
   "cell_type": "markdown",
   "id": "fcdd9129",
   "metadata": {},
   "source": [
    " - Построим график, чтобы сравнить среднюю длительность звонка для каждого тарифа"
   ]
  },
  {
   "cell_type": "code",
   "execution_count": 67,
   "id": "d84569ed",
   "metadata": {},
   "outputs": [],
   "source": [
    "df_new_smart_calls = df_new_smart.pivot_table(index='month', values='calls_minute', aggfunc='mean')\n",
    "df_new_ultra_calls = df_new_ultra.pivot_table(index='month', values='calls_minute', aggfunc='mean')"
   ]
  },
  {
   "cell_type": "code",
   "execution_count": 68,
   "id": "19ff6e11",
   "metadata": {
    "scrolled": true
   },
   "outputs": [
    {
     "data": {
      "image/png": "[encoded data removed]",
      "text/plain": [
       "<Figure size 864x288 with 1 Axes>"
      ]
     },
     "metadata": {
      "needs_background": "light"
     },
     "output_type": "display_data"
    }
   ],
   "source": [
    "ax = df_new_smart_calls.plot(\n",
    "    y='calls_minute',\n",
    "    alpha=0.9,\n",
    "    label='smart',\n",
    ")\n",
    "df_new_ultra_calls.plot(\n",
    "    y='calls_minute',\n",
    "    alpha=0.9,\n",
    "    label='ultra',\n",
    "    ax=ax,\n",
    "    legend=True,\n",
    "    figsize=(12,4), title='Средняя длительность звонков для каждого тарифа помесячно', xlabel='Месяц', ylabel='Продолжительность'\n",
    ");"
   ]
  },
  {
   "cell_type": "markdown",
   "id": "c657d482",
   "metadata": {},
   "source": [
    "**Вывод**\n",
    "\n",
    "Пользователи тарифа Ультра тратят значительно больше времени на разговор, чем пользователи тарифа Смарт. Однако, даже самая большая цифра, использованного времени, (таких пользователей мало) всего лишь половина включенного в тариф времени.\n",
    "Основная масса пользователей Ультра использует лишь, примерно, шестую часть предоплаченного времени.\n",
    "\n",
    "В тарифе Смарт большая часть пользователей, в среднем укладывается в предоставленный лимит."
   ]
  },
  {
   "cell_type": "markdown",
   "id": "98621f84",
   "metadata": {},
   "source": [
    " - Построим  распределения сообщений для каждого тарифа"
   ]
  },
  {
   "cell_type": "code",
   "execution_count": 69,
   "id": "d4d42eb3",
   "metadata": {
    "scrolled": true
   },
   "outputs": [
    {
     "data": {
      "text/plain": [
       "count    15825.000000\n",
       "mean        39.217820\n",
       "std         26.171143\n",
       "min          1.000000\n",
       "25%         19.000000\n",
       "50%         35.000000\n",
       "75%         56.000000\n",
       "max        143.000000\n",
       "Name: message_count, dtype: float64"
      ]
     },
     "execution_count": 69,
     "metadata": {},
     "output_type": "execute_result"
    }
   ],
   "source": [
    "df_new_smart['message_count'].describe()  # получили описание столбца"
   ]
  },
  {
   "cell_type": "code",
   "execution_count": 70,
   "id": "87217007",
   "metadata": {},
   "outputs": [
    {
     "data": {
      "text/plain": [
       "count    6107.000000\n",
       "mean       58.926314\n",
       "std        43.531400\n",
       "min         1.000000\n",
       "25%        23.000000\n",
       "50%        50.000000\n",
       "75%        84.000000\n",
       "max       224.000000\n",
       "Name: message_count, dtype: float64"
      ]
     },
     "execution_count": 70,
     "metadata": {},
     "output_type": "execute_result"
    }
   ],
   "source": [
    "df_new_ultra['message_count'].describe()"
   ]
  },
  {
   "cell_type": "code",
   "execution_count": 71,
   "id": "88f55a6c",
   "metadata": {
    "scrolled": true
   },
   "outputs": [
    {
     "data": {
      "image/png": "[encoded data removed]",
      "text/plain": [
       "<Figure size 1008x288 with 1 Axes>"
      ]
     },
     "metadata": {
      "needs_background": "light"
     },
     "output_type": "display_data"
    }
   ],
   "source": [
    "df_new_smart.plot(kind='hist', y='message_count', bins=100, range=(1, 143), label='message count', figsize=(14,4)\\\n",
    "                 ,title='Распределение сообщений для тарифа smart')\n",
    "plt.xlabel('Сообщения');"
   ]
  },
  {
   "cell_type": "markdown",
   "id": "49a3cee2",
   "metadata": {},
   "source": [
    "Вывод\n",
    "\n",
    "В среднем пользователи тарифа Cмарт укладываются в лимит отправляя около 20 сообщений. Но чаще эта число больше. Гистограмма скошена вправо.  Пользователи Смарт часто доплачивают за превышение лимита."
   ]
  },
  {
   "cell_type": "code",
   "execution_count": 72,
   "id": "a7c19c50",
   "metadata": {},
   "outputs": [
    {
     "data": {
      "image/png": "[encoded data removed]",
      "text/plain": [
       "<Figure size 864x288 with 1 Axes>"
      ]
     },
     "metadata": {
      "needs_background": "light"
     },
     "output_type": "display_data"
    }
   ],
   "source": [
    "df_new_ultra.plot(kind='hist', y='message_count', bins=100, range=(1, 224), label='message count', figsize=(12,4)\\\n",
    "                 , title='Распределение сообщений для тарифа ultra')\n",
    "plt.xlabel('Сообщения');"
   ]
  },
  {
   "cell_type": "markdown",
   "id": "6597749a",
   "metadata": {},
   "source": [
    "Вывод\n",
    "\n",
    "Очень большой разброс в значениях. в тарифе Ультра. Значительное количество пользователей отправляет примерно 10-20 сообщений при лимите в 1000.\n",
    "В среднем пользователи отправляют около 60 сообщений. Максимальное  количество, которое было отправлено 224. 1000 сообщений так никто и не отправил"
   ]
  },
  {
   "cell_type": "markdown",
   "id": "14e68846",
   "metadata": {},
   "source": [
    " - Построим график, чтобы сравнить среднее число сообщений для каждого тарифа"
   ]
  },
  {
   "cell_type": "code",
   "execution_count": 73,
   "id": "42a60d9f",
   "metadata": {},
   "outputs": [],
   "source": [
    "df_new_smart_message = df_new_smart.pivot_table(index='month', values='message_count', aggfunc='mean')\n",
    "df_new_ultra_message = df_new_ultra.pivot_table(index='month', values='message_count', aggfunc='mean')"
   ]
  },
  {
   "cell_type": "code",
   "execution_count": 74,
   "id": "1071e83b",
   "metadata": {},
   "outputs": [
    {
     "data": {
      "image/png": "[encoded data removed]",
      "text/plain": [
       "<Figure size 864x288 with 1 Axes>"
      ]
     },
     "metadata": {
      "needs_background": "light"
     },
     "output_type": "display_data"
    }
   ],
   "source": [
    "ax = df_new_smart_message.plot(\n",
    "    y='message_count',\n",
    "    alpha=0.9,\n",
    "    label='smart',\n",
    ")\n",
    "df_new_ultra_message.plot(\n",
    "    y='message_count',\n",
    "    alpha=0.9,\n",
    "    label='ultra',\n",
    "    ax=ax,\n",
    "    legend=True,\n",
    "    figsize=(12,4), title='Среднее количество сообщений для каждого тарифа помесячно',\\\n",
    "    xlabel='Месяц', ylabel='Количество сообщений'\n",
    ");\n",
    "  "
   ]
  },
  {
   "cell_type": "markdown",
   "id": "24707b61",
   "metadata": {},
   "source": [
    "**Вывод**\n",
    "\n",
    "В среднем пользователи Смарт остаются в рамках лимита по количеству сообщений не больше 50.\n",
    "Пользователи Ультра отправляют в  среднем чуть больше сообщений 60-70, при этом не используя и 10 части предоставленных возможностей.\n",
    "На графике наблюдается заметный рост среднего числа сообщений в тарифе Ультра"
   ]
  },
  {
   "cell_type": "markdown",
   "id": "9b90baee",
   "metadata": {},
   "source": [
    " - Построим  распределения интернет-трафика для каждого тарифа"
   ]
  },
  {
   "cell_type": "code",
   "execution_count": 75,
   "id": "4fdf4084",
   "metadata": {
    "scrolled": true
   },
   "outputs": [
    {
     "data": {
      "text/plain": [
       "count    18188.000000\n",
       "mean        16.302122\n",
       "std          5.514577\n",
       "min          0.000000\n",
       "25%         13.000000\n",
       "50%         17.000000\n",
       "75%         20.000000\n",
       "max         38.000000\n",
       "Name: gb_used, dtype: float64"
      ]
     },
     "execution_count": 75,
     "metadata": {},
     "output_type": "execute_result"
    }
   ],
   "source": [
    "df_new_smart['gb_used'].describe()   # получили описание столбца "
   ]
  },
  {
   "cell_type": "code",
   "execution_count": 76,
   "id": "95f3416f",
   "metadata": {},
   "outputs": [
    {
     "data": {
      "text/plain": [
       "count    7817.000000\n",
       "mean       19.742484\n",
       "std         9.530500\n",
       "min         0.000000\n",
       "25%        13.000000\n",
       "50%        19.000000\n",
       "75%        27.000000\n",
       "max        49.000000\n",
       "Name: gb_used, dtype: float64"
      ]
     },
     "execution_count": 76,
     "metadata": {},
     "output_type": "execute_result"
    }
   ],
   "source": [
    "df_new_ultra['gb_used'].describe()"
   ]
  },
  {
   "cell_type": "code",
   "execution_count": 77,
   "id": "571b7136",
   "metadata": {},
   "outputs": [
    {
     "data": {
      "image/png": "[encoded data removed]",
      "text/plain": [
       "<Figure size 864x288 with 1 Axes>"
      ]
     },
     "metadata": {
      "needs_background": "light"
     },
     "output_type": "display_data"
    }
   ],
   "source": [
    "df_new_smart.plot(kind='hist', y='gb_used', bins=50, range=(0, 38), label='gb used', figsize=(12,4)\\\n",
    "                  , title='Распределение интернет-трафика для тарифа smart')\n",
    "plt.xlabel('Мегабайты');"
   ]
  },
  {
   "cell_type": "markdown",
   "id": "0764a096",
   "metadata": {},
   "source": [
    "Вывод\n",
    "\n",
    "Большинство пользователей тарифа Смарт, как правило, доплачивают за интернет.   16Гб в среднем (при лимите 15Гб) необходимо большему числу клиентов"
   ]
  },
  {
   "cell_type": "code",
   "execution_count": 78,
   "id": "61ee9dd4",
   "metadata": {
    "scrolled": false
   },
   "outputs": [
    {
     "data": {
      "image/png": "[encoded data removed]",
      "text/plain": [
       "<Figure size 864x288 with 1 Axes>"
      ]
     },
     "metadata": {
      "needs_background": "light"
     },
     "output_type": "display_data"
    }
   ],
   "source": [
    "df_new_ultra.plot(kind='hist', y='gb_used', bins=60, range=(0, 49), label='gb used', figsize=(12,4)\\\n",
    "                  , title='Распределение интернет-трафика для тарифа ultra')\n",
    "plt.xlabel('Мегабайты');"
   ]
  },
  {
   "cell_type": "markdown",
   "id": "8a795f34",
   "metadata": {},
   "source": [
    "Вывод\n",
    "\n",
    "Пользователям тарифа Ультра, как правило хватает гигабайтов, которые включены в тариф\n",
    "Большинство использует 18-22 Гб трафика\n",
    "И все же некоторому числу пользователей приходится доплачивать за перерасход Гб"
   ]
  },
  {
   "cell_type": "markdown",
   "id": "2bab883f",
   "metadata": {},
   "source": [
    " - Построим график, чтобы сравнить средний трафик для каждого тарифа по месяцам"
   ]
  },
  {
   "cell_type": "code",
   "execution_count": 79,
   "id": "2e133d43",
   "metadata": {},
   "outputs": [],
   "source": [
    "df_new_smart_gb = df_new_smart.pivot_table(index='month', values='gb_used', aggfunc='mean')\n",
    "df_new_ultra_gb = df_new_ultra.pivot_table(index='month', values='gb_used', aggfunc='mean')"
   ]
  },
  {
   "cell_type": "code",
   "execution_count": 80,
   "id": "1e9f1723",
   "metadata": {
    "scrolled": true
   },
   "outputs": [
    {
     "data": {
      "image/png": "[encoded data removed]",
      "text/plain": [
       "<Figure size 864x288 with 1 Axes>"
      ]
     },
     "metadata": {
      "needs_background": "light"
     },
     "output_type": "display_data"
    }
   ],
   "source": [
    "ax = df_new_smart_gb.plot(\n",
    "    y='gb_used',\n",
    "    alpha=0.9,\n",
    "    label='smart',\n",
    ")\n",
    "df_new_ultra_gb.plot(\n",
    "    y='gb_used',\n",
    "    alpha=0.9,\n",
    "    label='ultra',\n",
    "    ax=ax,\n",
    "    legend=True,\n",
    "    figsize=(12,4), title='Среднее количество интернет-трафика для каждого тарифа помесячно',\\\n",
    "    xlabel='Месяц', ylabel='Мегабайты'\n",
    ");"
   ]
  },
  {
   "cell_type": "markdown",
   "id": "84038095",
   "metadata": {},
   "source": [
    "Вывод\n",
    "\n",
    "Пользователи тарифа Ультра активнее используют интернет трафик по сравнению с пользователями тарифа Смарт.\n",
    "Даже включенных в тариф гигабайт не всегда хватает для удовлетворения всех запросов"
   ]
  },
  {
   "cell_type": "markdown",
   "id": "9f515894",
   "metadata": {},
   "source": [
    "**Общий вывод**\n",
    "\n",
    "Пользователи тарифа Ультра в сравнении с пользователями Смарт больше звонят, больше пишут сообщений, больше используют интернет-трафик (это очень хорошо заметно по графикам), однако укладываются в границы тарифов.\n",
    "\n",
    "Пользователи  Смарт менее активные пользователи. Несмотря на то, что включенных в тариф минут и сообщений  значительно меньше в сравнениии с Ультрой, в среднем пользователи не превышают тарифных ограничений.\n",
    "\n",
    "Этого нельзя сказать об интернет трафике. Пользователи Смарт, доплачивают за  превышение тарифа.\n",
    "Пользователям Ультра также не всегда хватает, включенных гигабайтов.\n",
    "\n",
    "Выборку для тарифа Ультра отличает очень сильный разброс значений. Гистограммы по звонкам и сообщениям скошены вправо, видимо лимит предоставляет возможность не ограничивать себя. Использование интернета отличается более равномерным распределением.\n",
    "\n",
    "\n"
   ]
  },
  {
   "cell_type": "markdown",
   "id": "4478574d",
   "metadata": {},
   "source": [
    "## Проверка гипотез"
   ]
  },
  {
   "cell_type": "markdown",
   "id": "23dee109",
   "metadata": {},
   "source": [
    "Поверим гипотезы:\n",
    "\n",
    " - средняя выручка тарифов Ультра и Смарт различаются\n",
    " - средняя выручка пользователей из Москвы отличается от выручки пользователей из других регионов\n",
    " \n",
    " Применим метод о равенстве среднего двух генеральных совокупностей"
   ]
  },
  {
   "cell_type": "code",
   "execution_count": 81,
   "id": "8f6843e7",
   "metadata": {
    "scrolled": true
   },
   "outputs": [
    {
     "name": "stdout",
     "output_type": "stream",
     "text": [
      "129970.80463310055\n",
      "554135.3533087443\n"
     ]
    }
   ],
   "source": [
    "print(np.var(df_new_ultra['income'])) # рассчитали дисперсию, чтобы решить, нужно ли применять equal_var=False\n",
    "print(np.var(df_new_smart['income']))"
   ]
  },
  {
   "cell_type": "code",
   "execution_count": 82,
   "id": "15b80cbb",
   "metadata": {},
   "outputs": [
    {
     "name": "stdout",
     "output_type": "stream",
     "text": [
      "(7826, 18)\n",
      "(18189, 18)\n"
     ]
    }
   ],
   "source": [
    "print(df_new_ultra.shape)\n",
    "print(df_new_smart.shape)"
   ]
  },
  {
   "cell_type": "markdown",
   "id": "1a6baaf4",
   "metadata": {},
   "source": [
    "Дисперсии сильно отличаются. И таблицы значительно отличаются по размеру. Используем параметр equal_var=False"
   ]
  },
  {
   "cell_type": "markdown",
   "id": "03e5c980",
   "metadata": {},
   "source": [
    "Сформулируем гипотезы\n",
    "\n",
    " - Нулевая гипотеза - средняя выручка  пользователей тарифов \"Ультра\" и \"Смарт\"  - равны\n",
    "\n",
    " - Альтернативная гипотеза - выручки различаются"
   ]
  },
  {
   "cell_type": "code",
   "execution_count": 83,
   "id": "d1f517a1",
   "metadata": {},
   "outputs": [],
   "source": [
    "alpha = .05  # задали критический уровень статистической значимости"
   ]
  },
  {
   "cell_type": "code",
   "execution_count": 84,
   "id": "6b9b13f6",
   "metadata": {
    "scrolled": false
   },
   "outputs": [
    {
     "name": "stdout",
     "output_type": "stream",
     "text": [
      "0.0\n"
     ]
    }
   ],
   "source": [
    "results = st.ttest_ind(df_new_smart['income'], df_new_ultra['income'], equal_var=False)\n",
    "print(results.pvalue)"
   ]
  },
  {
   "cell_type": "code",
   "execution_count": 85,
   "id": "17a59032",
   "metadata": {},
   "outputs": [
    {
     "name": "stdout",
     "output_type": "stream",
     "text": [
      "Отвергаем нулевую гипотезу\n"
     ]
    }
   ],
   "source": [
    "if results.pvalue < alpha:\n",
    "    print(\"Отвергаем нулевую гипотезу\")\n",
    "else:\n",
    "    print(\"Не получилось отвергнуть нулевую гипотезу\")"
   ]
  },
  {
   "cell_type": "code",
   "execution_count": 86,
   "id": "7ec7d441",
   "metadata": {
    "scrolled": true
   },
   "outputs": [
    {
     "name": "stdout",
     "output_type": "stream",
     "text": [
      "Средняя выручка тарифа Смарт 1263\n",
      "Средняя выручка тарифа Ультра 2064\n"
     ]
    }
   ],
   "source": [
    "smart_income_mean = df_new_smart['income'].mean()\n",
    "ultra_income_mean = df_new_ultra['income'].mean()\n",
    "print('Средняя выручка тарифа Смарт', round(smart_income_mean))\n",
    "print('Средняя выручка тарифа Ультра', round(ultra_income_mean))"
   ]
  },
  {
   "cell_type": "markdown",
   "id": "6655703e",
   "metadata": {},
   "source": [
    "Вывод\n",
    "\n",
    "Отвергли нулевую гипотезу. У нас очень маленькая пероятность получить, наблюдаемое на выборке значение, при условии, что нулевая гипотеза верна.\n",
    "\n",
    "Дополнительно сравнили среднее доходов тарифов, чтобы уточнить какой тариф доходнее.\n",
    "\n",
    "Тариф Ультра приносит больше выручки по сравнению с тарифом Смарт. Разница статистически значима."
   ]
  },
  {
   "cell_type": "markdown",
   "id": "bf77bf69",
   "metadata": {},
   "source": [
    " - Для проверки второй гипотезы создадим таблицы для пользователей из Москвы и для пользователей из других регионов\n",
    "\n",
    " - Отфильтруем строки по условию\n"
   ]
  },
  {
   "cell_type": "code",
   "execution_count": 87,
   "id": "cbdca022",
   "metadata": {},
   "outputs": [],
   "source": [
    "df_for_moscov = df_new[df_new['city'] == 'Москва']"
   ]
  },
  {
   "cell_type": "code",
   "execution_count": 88,
   "id": "341bcd9b",
   "metadata": {},
   "outputs": [],
   "source": [
    "df_for_moscow = df_for_moscov.loc[:, 'user_id': 'income']"
   ]
  },
  {
   "cell_type": "code",
   "execution_count": 89,
   "id": "79d04e87",
   "metadata": {},
   "outputs": [
    {
     "data": {
      "text/html": [
       "<div>\n",
       "<style scoped>\n",
       "    .dataframe tbody tr th:only-of-type {\n",
       "        vertical-align: middle;\n",
       "    }\n",
       "\n",
       "    .dataframe tbody tr th {\n",
       "        vertical-align: top;\n",
       "    }\n",
       "\n",
       "    .dataframe thead th {\n",
       "        text-align: right;\n",
       "    }\n",
       "</style>\n",
       "<table border=\"1\" class=\"dataframe\">\n",
       "  <thead>\n",
       "    <tr style=\"text-align: right;\">\n",
       "      <th></th>\n",
       "      <th>user_id</th>\n",
       "      <th>city</th>\n",
       "      <th>tariff_name</th>\n",
       "      <th>calls_count</th>\n",
       "      <th>calls_minute</th>\n",
       "      <th>month</th>\n",
       "      <th>mb_used</th>\n",
       "      <th>gb_used</th>\n",
       "      <th>message_count</th>\n",
       "      <th>messages_included</th>\n",
       "      <th>mb_per_month_included</th>\n",
       "      <th>minutes_included</th>\n",
       "      <th>rub_monthly_fee</th>\n",
       "      <th>rub_per_gb</th>\n",
       "      <th>rub_per_message</th>\n",
       "      <th>rub_per_minute</th>\n",
       "      <th>gb_per_month_included</th>\n",
       "      <th>income</th>\n",
       "    </tr>\n",
       "  </thead>\n",
       "  <tbody>\n",
       "    <tr>\n",
       "      <th>64</th>\n",
       "      <td>1003</td>\n",
       "      <td>Москва</td>\n",
       "      <td>ultra</td>\n",
       "      <td>55.0</td>\n",
       "      <td>380.0</td>\n",
       "      <td>8.0</td>\n",
       "      <td>8565.21</td>\n",
       "      <td>9.0</td>\n",
       "      <td>37.0</td>\n",
       "      <td>1000.0</td>\n",
       "      <td>30720.0</td>\n",
       "      <td>3000.0</td>\n",
       "      <td>1950.0</td>\n",
       "      <td>150.0</td>\n",
       "      <td>1.0</td>\n",
       "      <td>1.0</td>\n",
       "      <td>30.0</td>\n",
       "      <td>1950.0</td>\n",
       "    </tr>\n",
       "    <tr>\n",
       "      <th>65</th>\n",
       "      <td>1003</td>\n",
       "      <td>Москва</td>\n",
       "      <td>ultra</td>\n",
       "      <td>134.0</td>\n",
       "      <td>961.0</td>\n",
       "      <td>8.0</td>\n",
       "      <td>8565.21</td>\n",
       "      <td>9.0</td>\n",
       "      <td>37.0</td>\n",
       "      <td>1000.0</td>\n",
       "      <td>30720.0</td>\n",
       "      <td>3000.0</td>\n",
       "      <td>1950.0</td>\n",
       "      <td>150.0</td>\n",
       "      <td>1.0</td>\n",
       "      <td>1.0</td>\n",
       "      <td>30.0</td>\n",
       "      <td>1950.0</td>\n",
       "    </tr>\n",
       "    <tr>\n",
       "      <th>66</th>\n",
       "      <td>1003</td>\n",
       "      <td>Москва</td>\n",
       "      <td>ultra</td>\n",
       "      <td>108.0</td>\n",
       "      <td>855.0</td>\n",
       "      <td>8.0</td>\n",
       "      <td>8565.21</td>\n",
       "      <td>9.0</td>\n",
       "      <td>37.0</td>\n",
       "      <td>1000.0</td>\n",
       "      <td>30720.0</td>\n",
       "      <td>3000.0</td>\n",
       "      <td>1950.0</td>\n",
       "      <td>150.0</td>\n",
       "      <td>1.0</td>\n",
       "      <td>1.0</td>\n",
       "      <td>30.0</td>\n",
       "      <td>1950.0</td>\n",
       "    </tr>\n",
       "    <tr>\n",
       "      <th>67</th>\n",
       "      <td>1003</td>\n",
       "      <td>Москва</td>\n",
       "      <td>ultra</td>\n",
       "      <td>115.0</td>\n",
       "      <td>824.0</td>\n",
       "      <td>8.0</td>\n",
       "      <td>8565.21</td>\n",
       "      <td>9.0</td>\n",
       "      <td>37.0</td>\n",
       "      <td>1000.0</td>\n",
       "      <td>30720.0</td>\n",
       "      <td>3000.0</td>\n",
       "      <td>1950.0</td>\n",
       "      <td>150.0</td>\n",
       "      <td>1.0</td>\n",
       "      <td>1.0</td>\n",
       "      <td>30.0</td>\n",
       "      <td>1950.0</td>\n",
       "    </tr>\n",
       "    <tr>\n",
       "      <th>68</th>\n",
       "      <td>1003</td>\n",
       "      <td>Москва</td>\n",
       "      <td>ultra</td>\n",
       "      <td>108.0</td>\n",
       "      <td>802.0</td>\n",
       "      <td>8.0</td>\n",
       "      <td>8565.21</td>\n",
       "      <td>9.0</td>\n",
       "      <td>37.0</td>\n",
       "      <td>1000.0</td>\n",
       "      <td>30720.0</td>\n",
       "      <td>3000.0</td>\n",
       "      <td>1950.0</td>\n",
       "      <td>150.0</td>\n",
       "      <td>1.0</td>\n",
       "      <td>1.0</td>\n",
       "      <td>30.0</td>\n",
       "      <td>1950.0</td>\n",
       "    </tr>\n",
       "  </tbody>\n",
       "</table>\n",
       "</div>"
      ],
      "text/plain": [
       "    user_id    city tariff_name  calls_count  calls_minute  month  mb_used  \\\n",
       "64     1003  Москва       ultra         55.0         380.0    8.0  8565.21   \n",
       "65     1003  Москва       ultra        134.0         961.0    8.0  8565.21   \n",
       "66     1003  Москва       ultra        108.0         855.0    8.0  8565.21   \n",
       "67     1003  Москва       ultra        115.0         824.0    8.0  8565.21   \n",
       "68     1003  Москва       ultra        108.0         802.0    8.0  8565.21   \n",
       "\n",
       "    gb_used  message_count  messages_included  mb_per_month_included  \\\n",
       "64      9.0           37.0             1000.0                30720.0   \n",
       "65      9.0           37.0             1000.0                30720.0   \n",
       "66      9.0           37.0             1000.0                30720.0   \n",
       "67      9.0           37.0             1000.0                30720.0   \n",
       "68      9.0           37.0             1000.0                30720.0   \n",
       "\n",
       "    minutes_included  rub_monthly_fee  rub_per_gb  rub_per_message  \\\n",
       "64            3000.0           1950.0       150.0              1.0   \n",
       "65            3000.0           1950.0       150.0              1.0   \n",
       "66            3000.0           1950.0       150.0              1.0   \n",
       "67            3000.0           1950.0       150.0              1.0   \n",
       "68            3000.0           1950.0       150.0              1.0   \n",
       "\n",
       "    rub_per_minute  gb_per_month_included  income  \n",
       "64             1.0                   30.0  1950.0  \n",
       "65             1.0                   30.0  1950.0  \n",
       "66             1.0                   30.0  1950.0  \n",
       "67             1.0                   30.0  1950.0  \n",
       "68             1.0                   30.0  1950.0  "
      ]
     },
     "execution_count": 89,
     "metadata": {},
     "output_type": "execute_result"
    }
   ],
   "source": [
    "df_for_moscow.head() "
   ]
  },
  {
   "cell_type": "code",
   "execution_count": 90,
   "id": "a4b2b73a",
   "metadata": {},
   "outputs": [
    {
     "name": "stdout",
     "output_type": "stream",
     "text": [
      "<class 'pandas.core.frame.DataFrame'>\n",
      "Int64Index: 4868 entries, 64 to 25755\n",
      "Data columns (total 18 columns):\n",
      " #   Column                 Non-Null Count  Dtype  \n",
      "---  ------                 --------------  -----  \n",
      " 0   user_id                4868 non-null   int64  \n",
      " 1   city                   4868 non-null   object \n",
      " 2   tariff_name            4868 non-null   object \n",
      " 3   calls_count            4868 non-null   float64\n",
      " 4   calls_minute           4868 non-null   float64\n",
      " 5   month                  4868 non-null   float64\n",
      " 6   mb_used                4868 non-null   float64\n",
      " 7   gb_used                4868 non-null   float64\n",
      " 8   message_count          3876 non-null   float64\n",
      " 9   messages_included      4868 non-null   float64\n",
      " 10  mb_per_month_included  4868 non-null   float64\n",
      " 11  minutes_included       4868 non-null   float64\n",
      " 12  rub_monthly_fee        4868 non-null   float64\n",
      " 13  rub_per_gb             4868 non-null   float64\n",
      " 14  rub_per_message        4868 non-null   float64\n",
      " 15  rub_per_minute         4868 non-null   float64\n",
      " 16  gb_per_month_included  4868 non-null   float64\n",
      " 17  income                 4868 non-null   float64\n",
      "dtypes: float64(15), int64(1), object(2)\n",
      "memory usage: 722.6+ KB\n"
     ]
    }
   ],
   "source": [
    "df_for_moscow.info()"
   ]
  },
  {
   "cell_type": "code",
   "execution_count": 91,
   "id": "c307b853",
   "metadata": {},
   "outputs": [],
   "source": [
    "df_not_for_moscov = df_new[df_new['city'] != 'Москва']"
   ]
  },
  {
   "cell_type": "code",
   "execution_count": 92,
   "id": "beda6faf",
   "metadata": {},
   "outputs": [],
   "source": [
    "df_not_for_moscow = df_not_for_moscov.loc[:, 'user_id': 'income']"
   ]
  },
  {
   "cell_type": "code",
   "execution_count": 93,
   "id": "640031bc",
   "metadata": {},
   "outputs": [
    {
     "data": {
      "text/html": [
       "<div>\n",
       "<style scoped>\n",
       "    .dataframe tbody tr th:only-of-type {\n",
       "        vertical-align: middle;\n",
       "    }\n",
       "\n",
       "    .dataframe tbody tr th {\n",
       "        vertical-align: top;\n",
       "    }\n",
       "\n",
       "    .dataframe thead th {\n",
       "        text-align: right;\n",
       "    }\n",
       "</style>\n",
       "<table border=\"1\" class=\"dataframe\">\n",
       "  <thead>\n",
       "    <tr style=\"text-align: right;\">\n",
       "      <th></th>\n",
       "      <th>user_id</th>\n",
       "      <th>city</th>\n",
       "      <th>tariff_name</th>\n",
       "      <th>calls_count</th>\n",
       "      <th>calls_minute</th>\n",
       "      <th>month</th>\n",
       "      <th>mb_used</th>\n",
       "      <th>gb_used</th>\n",
       "      <th>message_count</th>\n",
       "      <th>messages_included</th>\n",
       "      <th>mb_per_month_included</th>\n",
       "      <th>minutes_included</th>\n",
       "      <th>rub_monthly_fee</th>\n",
       "      <th>rub_per_gb</th>\n",
       "      <th>rub_per_message</th>\n",
       "      <th>rub_per_minute</th>\n",
       "      <th>gb_per_month_included</th>\n",
       "      <th>income</th>\n",
       "    </tr>\n",
       "  </thead>\n",
       "  <tbody>\n",
       "    <tr>\n",
       "      <th>0</th>\n",
       "      <td>1000</td>\n",
       "      <td>Краснодар</td>\n",
       "      <td>ultra</td>\n",
       "      <td>22.0</td>\n",
       "      <td>159.0</td>\n",
       "      <td>5.0</td>\n",
       "      <td>2253.49</td>\n",
       "      <td>3.0</td>\n",
       "      <td>22.0</td>\n",
       "      <td>1000.0</td>\n",
       "      <td>30720.0</td>\n",
       "      <td>3000.0</td>\n",
       "      <td>1950.0</td>\n",
       "      <td>150.0</td>\n",
       "      <td>1.0</td>\n",
       "      <td>1.0</td>\n",
       "      <td>30.0</td>\n",
       "      <td>1950.0</td>\n",
       "    </tr>\n",
       "    <tr>\n",
       "      <th>1</th>\n",
       "      <td>1000</td>\n",
       "      <td>Краснодар</td>\n",
       "      <td>ultra</td>\n",
       "      <td>43.0</td>\n",
       "      <td>172.0</td>\n",
       "      <td>5.0</td>\n",
       "      <td>2253.49</td>\n",
       "      <td>3.0</td>\n",
       "      <td>22.0</td>\n",
       "      <td>1000.0</td>\n",
       "      <td>30720.0</td>\n",
       "      <td>3000.0</td>\n",
       "      <td>1950.0</td>\n",
       "      <td>150.0</td>\n",
       "      <td>1.0</td>\n",
       "      <td>1.0</td>\n",
       "      <td>30.0</td>\n",
       "      <td>1950.0</td>\n",
       "    </tr>\n",
       "    <tr>\n",
       "      <th>2</th>\n",
       "      <td>1000</td>\n",
       "      <td>Краснодар</td>\n",
       "      <td>ultra</td>\n",
       "      <td>47.0</td>\n",
       "      <td>340.0</td>\n",
       "      <td>5.0</td>\n",
       "      <td>2253.49</td>\n",
       "      <td>3.0</td>\n",
       "      <td>22.0</td>\n",
       "      <td>1000.0</td>\n",
       "      <td>30720.0</td>\n",
       "      <td>3000.0</td>\n",
       "      <td>1950.0</td>\n",
       "      <td>150.0</td>\n",
       "      <td>1.0</td>\n",
       "      <td>1.0</td>\n",
       "      <td>30.0</td>\n",
       "      <td>1950.0</td>\n",
       "    </tr>\n",
       "    <tr>\n",
       "      <th>3</th>\n",
       "      <td>1000</td>\n",
       "      <td>Краснодар</td>\n",
       "      <td>ultra</td>\n",
       "      <td>52.0</td>\n",
       "      <td>408.0</td>\n",
       "      <td>5.0</td>\n",
       "      <td>2253.49</td>\n",
       "      <td>3.0</td>\n",
       "      <td>22.0</td>\n",
       "      <td>1000.0</td>\n",
       "      <td>30720.0</td>\n",
       "      <td>3000.0</td>\n",
       "      <td>1950.0</td>\n",
       "      <td>150.0</td>\n",
       "      <td>1.0</td>\n",
       "      <td>1.0</td>\n",
       "      <td>30.0</td>\n",
       "      <td>1950.0</td>\n",
       "    </tr>\n",
       "    <tr>\n",
       "      <th>4</th>\n",
       "      <td>1000</td>\n",
       "      <td>Краснодар</td>\n",
       "      <td>ultra</td>\n",
       "      <td>58.0</td>\n",
       "      <td>466.0</td>\n",
       "      <td>5.0</td>\n",
       "      <td>2253.49</td>\n",
       "      <td>3.0</td>\n",
       "      <td>22.0</td>\n",
       "      <td>1000.0</td>\n",
       "      <td>30720.0</td>\n",
       "      <td>3000.0</td>\n",
       "      <td>1950.0</td>\n",
       "      <td>150.0</td>\n",
       "      <td>1.0</td>\n",
       "      <td>1.0</td>\n",
       "      <td>30.0</td>\n",
       "      <td>1950.0</td>\n",
       "    </tr>\n",
       "  </tbody>\n",
       "</table>\n",
       "</div>"
      ],
      "text/plain": [
       "   user_id       city tariff_name  calls_count  calls_minute  month  mb_used  \\\n",
       "0     1000  Краснодар       ultra         22.0         159.0    5.0  2253.49   \n",
       "1     1000  Краснодар       ultra         43.0         172.0    5.0  2253.49   \n",
       "2     1000  Краснодар       ultra         47.0         340.0    5.0  2253.49   \n",
       "3     1000  Краснодар       ultra         52.0         408.0    5.0  2253.49   \n",
       "4     1000  Краснодар       ultra         58.0         466.0    5.0  2253.49   \n",
       "\n",
       "   gb_used  message_count  messages_included  mb_per_month_included  \\\n",
       "0      3.0           22.0             1000.0                30720.0   \n",
       "1      3.0           22.0             1000.0                30720.0   \n",
       "2      3.0           22.0             1000.0                30720.0   \n",
       "3      3.0           22.0             1000.0                30720.0   \n",
       "4      3.0           22.0             1000.0                30720.0   \n",
       "\n",
       "   minutes_included  rub_monthly_fee  rub_per_gb  rub_per_message  \\\n",
       "0            3000.0           1950.0       150.0              1.0   \n",
       "1            3000.0           1950.0       150.0              1.0   \n",
       "2            3000.0           1950.0       150.0              1.0   \n",
       "3            3000.0           1950.0       150.0              1.0   \n",
       "4            3000.0           1950.0       150.0              1.0   \n",
       "\n",
       "   rub_per_minute  gb_per_month_included  income  \n",
       "0             1.0                   30.0  1950.0  \n",
       "1             1.0                   30.0  1950.0  \n",
       "2             1.0                   30.0  1950.0  \n",
       "3             1.0                   30.0  1950.0  \n",
       "4             1.0                   30.0  1950.0  "
      ]
     },
     "execution_count": 93,
     "metadata": {},
     "output_type": "execute_result"
    }
   ],
   "source": [
    "df_not_for_moscow.head()"
   ]
  },
  {
   "cell_type": "code",
   "execution_count": 94,
   "id": "cac1bbfc",
   "metadata": {},
   "outputs": [
    {
     "name": "stdout",
     "output_type": "stream",
     "text": [
      "<class 'pandas.core.frame.DataFrame'>\n",
      "Int64Index: 21158 entries, 0 to 26025\n",
      "Data columns (total 18 columns):\n",
      " #   Column                 Non-Null Count  Dtype  \n",
      "---  ------                 --------------  -----  \n",
      " 0   user_id                21158 non-null  int64  \n",
      " 1   city                   21147 non-null  object \n",
      " 2   tariff_name            21147 non-null  object \n",
      " 3   calls_count            21107 non-null  float64\n",
      " 4   calls_minute           21107 non-null  float64\n",
      " 5   month                  21148 non-null  float64\n",
      " 6   mb_used                21137 non-null  float64\n",
      " 7   gb_used                21137 non-null  float64\n",
      " 8   message_count          18067 non-null  float64\n",
      " 9   messages_included      21147 non-null  float64\n",
      " 10  mb_per_month_included  21147 non-null  float64\n",
      " 11  minutes_included       21147 non-null  float64\n",
      " 12  rub_monthly_fee        21147 non-null  float64\n",
      " 13  rub_per_gb             21147 non-null  float64\n",
      " 14  rub_per_message        21147 non-null  float64\n",
      " 15  rub_per_minute         21147 non-null  float64\n",
      " 16  gb_per_month_included  21147 non-null  float64\n",
      " 17  income                 21147 non-null  float64\n",
      "dtypes: float64(15), int64(1), object(2)\n",
      "memory usage: 3.1+ MB\n"
     ]
    }
   ],
   "source": [
    "df_not_for_moscow.info()"
   ]
  },
  {
   "cell_type": "code",
   "execution_count": 95,
   "id": "c24dec91",
   "metadata": {},
   "outputs": [
    {
     "data": {
      "text/plain": [
       "count    4868.000000\n",
       "mean     1555.653862\n",
       "std       714.828895\n",
       "min       550.000000\n",
       "25%       883.000000\n",
       "50%      1750.000000\n",
       "75%      1950.000000\n",
       "max      5321.000000\n",
       "Name: income, dtype: float64"
      ]
     },
     "execution_count": 95,
     "metadata": {},
     "output_type": "execute_result"
    }
   ],
   "source": [
    "df_for_moscow['income'].describe()"
   ]
  },
  {
   "cell_type": "code",
   "execution_count": 96,
   "id": "d097e932",
   "metadata": {
    "scrolled": true
   },
   "outputs": [
    {
     "data": {
      "text/plain": [
       "count    21147.000000\n",
       "mean      1492.037074\n",
       "std        756.620636\n",
       "min        550.000000\n",
       "25%        750.000000\n",
       "50%       1550.000000\n",
       "75%       1950.000000\n",
       "max       6770.000000\n",
       "Name: income, dtype: float64"
      ]
     },
     "execution_count": 96,
     "metadata": {},
     "output_type": "execute_result"
    }
   ],
   "source": [
    "df_not_for_moscow['income'].describe()"
   ]
  },
  {
   "cell_type": "markdown",
   "id": "78aba8ff",
   "metadata": {
    "scrolled": true
   },
   "source": [
    "Посчитаем пропуски, иначе статистический тест не срабатывает"
   ]
  },
  {
   "cell_type": "code",
   "execution_count": 97,
   "id": "9df4dd3d",
   "metadata": {},
   "outputs": [
    {
     "name": "stdout",
     "output_type": "stream",
     "text": [
      "0\n",
      "11\n"
     ]
    }
   ],
   "source": [
    "print(df_for_moscow['income'].isna().sum())  \n",
    "print(df_not_for_moscow['income'].isna().sum())"
   ]
  },
  {
   "cell_type": "code",
   "execution_count": 98,
   "id": "b9dbc0f1",
   "metadata": {},
   "outputs": [
    {
     "data": {
      "text/html": [
       "<div>\n",
       "<style scoped>\n",
       "    .dataframe tbody tr th:only-of-type {\n",
       "        vertical-align: middle;\n",
       "    }\n",
       "\n",
       "    .dataframe tbody tr th {\n",
       "        vertical-align: top;\n",
       "    }\n",
       "\n",
       "    .dataframe thead th {\n",
       "        text-align: right;\n",
       "    }\n",
       "</style>\n",
       "<table border=\"1\" class=\"dataframe\">\n",
       "  <thead>\n",
       "    <tr style=\"text-align: right;\">\n",
       "      <th></th>\n",
       "      <th>user_id</th>\n",
       "      <th>city</th>\n",
       "      <th>tariff_name</th>\n",
       "      <th>calls_count</th>\n",
       "      <th>calls_minute</th>\n",
       "      <th>month</th>\n",
       "      <th>mb_used</th>\n",
       "      <th>gb_used</th>\n",
       "      <th>message_count</th>\n",
       "      <th>messages_included</th>\n",
       "      <th>mb_per_month_included</th>\n",
       "      <th>minutes_included</th>\n",
       "      <th>rub_monthly_fee</th>\n",
       "      <th>rub_per_gb</th>\n",
       "      <th>rub_per_message</th>\n",
       "      <th>rub_per_minute</th>\n",
       "      <th>gb_per_month_included</th>\n",
       "      <th>income</th>\n",
       "    </tr>\n",
       "  </thead>\n",
       "  <tbody>\n",
       "    <tr>\n",
       "      <th>26015</th>\n",
       "      <td>1273</td>\n",
       "      <td>NaN</td>\n",
       "      <td>NaN</td>\n",
       "      <td>NaN</td>\n",
       "      <td>NaN</td>\n",
       "      <td>5.0</td>\n",
       "      <td>NaN</td>\n",
       "      <td>NaN</td>\n",
       "      <td>21.0</td>\n",
       "      <td>NaN</td>\n",
       "      <td>NaN</td>\n",
       "      <td>NaN</td>\n",
       "      <td>NaN</td>\n",
       "      <td>NaN</td>\n",
       "      <td>NaN</td>\n",
       "      <td>NaN</td>\n",
       "      <td>NaN</td>\n",
       "      <td>NaN</td>\n",
       "    </tr>\n",
       "    <tr>\n",
       "      <th>26016</th>\n",
       "      <td>1273</td>\n",
       "      <td>NaN</td>\n",
       "      <td>NaN</td>\n",
       "      <td>NaN</td>\n",
       "      <td>NaN</td>\n",
       "      <td>6.0</td>\n",
       "      <td>NaN</td>\n",
       "      <td>NaN</td>\n",
       "      <td>38.0</td>\n",
       "      <td>NaN</td>\n",
       "      <td>NaN</td>\n",
       "      <td>NaN</td>\n",
       "      <td>NaN</td>\n",
       "      <td>NaN</td>\n",
       "      <td>NaN</td>\n",
       "      <td>NaN</td>\n",
       "      <td>NaN</td>\n",
       "      <td>NaN</td>\n",
       "    </tr>\n",
       "    <tr>\n",
       "      <th>26017</th>\n",
       "      <td>1273</td>\n",
       "      <td>NaN</td>\n",
       "      <td>NaN</td>\n",
       "      <td>NaN</td>\n",
       "      <td>NaN</td>\n",
       "      <td>7.0</td>\n",
       "      <td>NaN</td>\n",
       "      <td>NaN</td>\n",
       "      <td>37.0</td>\n",
       "      <td>NaN</td>\n",
       "      <td>NaN</td>\n",
       "      <td>NaN</td>\n",
       "      <td>NaN</td>\n",
       "      <td>NaN</td>\n",
       "      <td>NaN</td>\n",
       "      <td>NaN</td>\n",
       "      <td>NaN</td>\n",
       "      <td>NaN</td>\n",
       "    </tr>\n",
       "    <tr>\n",
       "      <th>26018</th>\n",
       "      <td>1273</td>\n",
       "      <td>NaN</td>\n",
       "      <td>NaN</td>\n",
       "      <td>NaN</td>\n",
       "      <td>NaN</td>\n",
       "      <td>8.0</td>\n",
       "      <td>NaN</td>\n",
       "      <td>NaN</td>\n",
       "      <td>41.0</td>\n",
       "      <td>NaN</td>\n",
       "      <td>NaN</td>\n",
       "      <td>NaN</td>\n",
       "      <td>NaN</td>\n",
       "      <td>NaN</td>\n",
       "      <td>NaN</td>\n",
       "      <td>NaN</td>\n",
       "      <td>NaN</td>\n",
       "      <td>NaN</td>\n",
       "    </tr>\n",
       "    <tr>\n",
       "      <th>26019</th>\n",
       "      <td>1273</td>\n",
       "      <td>NaN</td>\n",
       "      <td>NaN</td>\n",
       "      <td>NaN</td>\n",
       "      <td>NaN</td>\n",
       "      <td>9.0</td>\n",
       "      <td>NaN</td>\n",
       "      <td>NaN</td>\n",
       "      <td>32.0</td>\n",
       "      <td>NaN</td>\n",
       "      <td>NaN</td>\n",
       "      <td>NaN</td>\n",
       "      <td>NaN</td>\n",
       "      <td>NaN</td>\n",
       "      <td>NaN</td>\n",
       "      <td>NaN</td>\n",
       "      <td>NaN</td>\n",
       "      <td>NaN</td>\n",
       "    </tr>\n",
       "  </tbody>\n",
       "</table>\n",
       "</div>"
      ],
      "text/plain": [
       "       user_id city tariff_name  calls_count  calls_minute  month  mb_used  \\\n",
       "26015     1273  NaN         NaN          NaN           NaN    5.0      NaN   \n",
       "26016     1273  NaN         NaN          NaN           NaN    6.0      NaN   \n",
       "26017     1273  NaN         NaN          NaN           NaN    7.0      NaN   \n",
       "26018     1273  NaN         NaN          NaN           NaN    8.0      NaN   \n",
       "26019     1273  NaN         NaN          NaN           NaN    9.0      NaN   \n",
       "\n",
       "       gb_used  message_count  messages_included  mb_per_month_included  \\\n",
       "26015      NaN           21.0                NaN                    NaN   \n",
       "26016      NaN           38.0                NaN                    NaN   \n",
       "26017      NaN           37.0                NaN                    NaN   \n",
       "26018      NaN           41.0                NaN                    NaN   \n",
       "26019      NaN           32.0                NaN                    NaN   \n",
       "\n",
       "       minutes_included  rub_monthly_fee  rub_per_gb  rub_per_message  \\\n",
       "26015               NaN              NaN         NaN              NaN   \n",
       "26016               NaN              NaN         NaN              NaN   \n",
       "26017               NaN              NaN         NaN              NaN   \n",
       "26018               NaN              NaN         NaN              NaN   \n",
       "26019               NaN              NaN         NaN              NaN   \n",
       "\n",
       "       rub_per_minute  gb_per_month_included  income  \n",
       "26015             NaN                    NaN     NaN  \n",
       "26016             NaN                    NaN     NaN  \n",
       "26017             NaN                    NaN     NaN  \n",
       "26018             NaN                    NaN     NaN  \n",
       "26019             NaN                    NaN     NaN  "
      ]
     },
     "execution_count": 98,
     "metadata": {},
     "output_type": "execute_result"
    }
   ],
   "source": [
    "df_not_for_moscow[df_not_for_moscow['income'].isna()].head() # запросили строки с пропусками"
   ]
  },
  {
   "cell_type": "markdown",
   "id": "1f39130a",
   "metadata": {},
   "source": [
    "Заполним пропуски нулями. Возможно тарифом не пользовались или абонентская плата не была внесена."
   ]
  },
  {
   "cell_type": "code",
   "execution_count": 99,
   "id": "f3f826a6",
   "metadata": {},
   "outputs": [],
   "source": [
    "df_not_for_moscow['income'] = df_not_for_moscow['income'].fillna(0) "
   ]
  },
  {
   "cell_type": "code",
   "execution_count": 100,
   "id": "346fe517",
   "metadata": {
    "scrolled": true
   },
   "outputs": [
    {
     "data": {
      "text/plain": [
       "0"
      ]
     },
     "execution_count": 100,
     "metadata": {},
     "output_type": "execute_result"
    }
   ],
   "source": [
    "df_not_for_moscow['income'].isna().sum() "
   ]
  },
  {
   "cell_type": "code",
   "execution_count": 101,
   "id": "51910fea",
   "metadata": {
    "scrolled": false
   },
   "outputs": [
    {
     "name": "stdout",
     "output_type": "stream",
     "text": [
      "510875.382037263\n",
      "573306.8829114955\n"
     ]
    }
   ],
   "source": [
    "print(np.var(df_for_moscow['income'])) # рассчитали дисперсию, чтобы решить, нужно ли применять equal_var=False\n",
    "print(np.var(df_not_for_moscow['income']))"
   ]
  },
  {
   "cell_type": "code",
   "execution_count": 102,
   "id": "e2781000",
   "metadata": {
    "scrolled": true
   },
   "outputs": [
    {
     "name": "stdout",
     "output_type": "stream",
     "text": [
      "Относительное различие в дисперсиях  12.2%\n"
     ]
    }
   ],
   "source": [
    "print('Относительное различие в дисперсиях  {:.1%}'\\\n",
    "      .format(np.var(df_not_for_moscow['income']) / np.var(df_for_moscow['income']) - 1))"
   ]
  },
  {
   "cell_type": "markdown",
   "id": "57b136e0",
   "metadata": {},
   "source": [
    "Таблицы существенно отличаются по размеру. Разница в дисперсиях больше 5 %, укажем параметр equal_var=False при проведении теста."
   ]
  },
  {
   "cell_type": "markdown",
   "id": "a3a8a14f",
   "metadata": {},
   "source": [
    "Сформулируем гипотезы\n",
    "\n",
    " - Нулевая гипотеза - средняя выручка пользователей из Москвы равна средней выручке пользователей из других регионов\n",
    "\n",
    " - Альтернативная гипотеза - средние выручки пользователей из Москвы и пользователей из других регионов отличаются "
   ]
  },
  {
   "cell_type": "code",
   "execution_count": 103,
   "id": "586b60c6",
   "metadata": {},
   "outputs": [],
   "source": [
    "alpha = .05  # задали задали критический уровень статистической значимости"
   ]
  },
  {
   "cell_type": "code",
   "execution_count": 104,
   "id": "24a8565e",
   "metadata": {},
   "outputs": [],
   "source": [
    "results = st.ttest_ind(df_for_moscow['income'], df_not_for_moscow['income'], equal_var=False)"
   ]
  },
  {
   "cell_type": "code",
   "execution_count": 105,
   "id": "ab577f02",
   "metadata": {},
   "outputs": [
    {
     "name": "stdout",
     "output_type": "stream",
     "text": [
      "2.1771392895073102e-08\n"
     ]
    }
   ],
   "source": [
    "print(results.pvalue)"
   ]
  },
  {
   "cell_type": "code",
   "execution_count": 106,
   "id": "93c5c776",
   "metadata": {},
   "outputs": [
    {
     "name": "stdout",
     "output_type": "stream",
     "text": [
      "Отвергаем нулевую гипотезу\n"
     ]
    }
   ],
   "source": [
    "if results.pvalue < alpha:\n",
    "    print(\"Отвергаем нулевую гипотезу\")\n",
    "else:\n",
    "    print(\"Не получилось отвергнуть нулевую гипотезу\")"
   ]
  },
  {
   "cell_type": "code",
   "execution_count": 107,
   "id": "ed9725b7",
   "metadata": {},
   "outputs": [
    {
     "name": "stdout",
     "output_type": "stream",
     "text": [
      "Средняя выручка пользователей Москвы 1556\n",
      "Средняя выручка пользователей из других регионов 1491\n"
     ]
    }
   ],
   "source": [
    "df_for_moscow_mean = df_for_moscow['income'].mean()\n",
    "df_not_for_moscow_mean = df_not_for_moscow['income'].mean()\n",
    "print('Средняя выручка пользователей Москвы', round(df_for_moscow_mean))\n",
    "print('Средняя выручка пользователей из других регионов', round(df_not_for_moscow_mean))"
   ]
  },
  {
   "cell_type": "markdown",
   "id": "0aea8a47",
   "metadata": {},
   "source": [
    "Вывод\n",
    "\n",
    "Не получилось отвергнуть нулевую гипотезу \n",
    "\n",
    "Хотя средняя выручка для жителей Москвы и других регионов неодинакова, тест не показал статистически значимой разницы. "
   ]
  },
  {
   "cell_type": "markdown",
   "id": "d8b8976e",
   "metadata": {},
   "source": [
    "## Вывод"
   ]
  },
  {
   "cell_type": "markdown",
   "id": "dffd5f98",
   "metadata": {},
   "source": [
    "Задачей данного исследования было проанализировать два тарифных плана сотового оператора и оптеделить какой приносит больший доход\n",
    "\n",
    "Исследование проходило по следующим этапам:\n",
    "\n",
    "  **Обзор данных**\n",
    "  \n",
    " - Информация для анализа предоставлена в пяти таблицах:\n",
    "   - информация о пользователях\n",
    "   - информация о звонках\n",
    "   - информация о сообщениях\n",
    "   - информация об интернет-сессиях\n",
    "   - информация о тарифах\n",
    "  \n",
    "  **Предобработка данных**\n",
    "  \n",
    "  \n",
    "  - На этапе предобработки изменили типы данных\n",
    "  \n",
    "   **Подготовка данных к анализу**\n",
    "   \n",
    "   \n",
    " -  В таблицы со звонками, сообщениями и интернет-трафиком добали столбец с номером месяца, чтобы читать выручку помесячно\n",
    " -  В сводных таблицах рассчитали среднюю длительность звонков, количество сообщений, объем интернет-трафика для каждого тарифа\n",
    "    в разрезе месяцев.\n",
    " -  Объединили таблицы.\n",
    " -  На основе работы функций добавили столбцы и рассчитапли среднюю помесячную выручку для каждого пользователя\n",
    "   \n",
    "   **Анализ данных**\n",
    "   \n",
    "   \n",
    "  - Для анализа создали таблицы - на основе объединенной -  для каждого тарифа отдельно\n",
    "  - Изучили сколько минут разговора, сколько сообщений и какой объем интернет-трафика требуется пользователю каждого \n",
    "    тарифа в месяц\n",
    "     - Построили гистограммы и графики\n",
    "\n",
    "   \n",
    "   **Проверка гипотез**\n",
    "   \n",
    "   Провели статистический тест и проверили гипотезы\n",
    "    \n",
    "   - Средняя выручка пользователей тарифа Ультра и тарифа Смарт различаются\n",
    "   - Средняя выручка пользователей из Москвы  отличается от выручки пользователей из других регионов. \n",
    "\n",
    "**По результатам исследования установили следующее**:\n",
    "\n",
    " - Пользователи тарифа Ультра в сравнении с пользователями Смарт больше звонят, больше пишут сообщений, больше используют интернет-трафик однако укладываются в границы тарифов.\n",
    "\n",
    " - Пользователи  Смарт менее активные пользователи. Несмотря на то, что включенных в тариф минут и сообщений  значительно меньше в сравнениии с Ультрой, в среднем пользователи не превышают тарифных ограничений.\n",
    " \n",
    " - Тариф Ультра приносит больше выручки по сравнению с тарифом Смарт. Разница статистически значима.\n",
    " \n",
    " - Статистический тест не выявил значимой разницы между выручкой пользователей Москвы и других регионов.\n",
    "\n",
    "\n"
   ]
  }
 ],
 "metadata": {
  "ExecuteTimeLog": [
   {
    "duration": 788,
    "start_time": "2022-04-06T19:08:52.963Z"
   },
   {
    "duration": 465,
    "start_time": "2022-04-06T19:09:21.132Z"
   },
   {
    "duration": 18,
    "start_time": "2022-04-06T19:12:13.551Z"
   },
   {
    "duration": 13,
    "start_time": "2022-04-06T19:12:17.154Z"
   },
   {
    "duration": 107,
    "start_time": "2022-04-06T19:39:03.001Z"
   },
   {
    "duration": 9,
    "start_time": "2022-04-06T19:39:14.858Z"
   },
   {
    "duration": 8,
    "start_time": "2022-04-06T19:39:49.945Z"
   },
   {
    "duration": 1632,
    "start_time": "2022-04-08T11:04:13.979Z"
   },
   {
    "duration": 20,
    "start_time": "2022-04-08T11:04:16.476Z"
   },
   {
    "duration": 21,
    "start_time": "2022-04-08T11:04:18.262Z"
   },
   {
    "duration": 19,
    "start_time": "2022-04-08T11:04:24.628Z"
   },
   {
    "duration": 182,
    "start_time": "2022-04-08T11:05:10.649Z"
   },
   {
    "duration": 14,
    "start_time": "2022-04-08T11:05:12.792Z"
   },
   {
    "duration": 155,
    "start_time": "2022-04-08T11:05:50.776Z"
   },
   {
    "duration": 13,
    "start_time": "2022-04-08T11:05:52.224Z"
   },
   {
    "duration": 119,
    "start_time": "2022-04-08T11:06:32.056Z"
   },
   {
    "duration": 12,
    "start_time": "2022-04-08T11:06:33.703Z"
   },
   {
    "duration": 24,
    "start_time": "2022-04-08T11:06:37.090Z"
   },
   {
    "duration": 12,
    "start_time": "2022-04-08T11:07:13.123Z"
   },
   {
    "duration": 12,
    "start_time": "2022-04-08T11:07:14.800Z"
   },
   {
    "duration": 15,
    "start_time": "2022-04-08T11:07:19.905Z"
   },
   {
    "duration": 1478,
    "start_time": "2022-04-08T11:07:53.432Z"
   },
   {
    "duration": 20,
    "start_time": "2022-04-08T11:07:54.913Z"
   },
   {
    "duration": 21,
    "start_time": "2022-04-08T11:07:54.935Z"
   },
   {
    "duration": 17,
    "start_time": "2022-04-08T11:07:54.968Z"
   },
   {
    "duration": 209,
    "start_time": "2022-04-08T11:07:54.987Z"
   },
   {
    "duration": 12,
    "start_time": "2022-04-08T11:07:55.199Z"
   },
   {
    "duration": 55,
    "start_time": "2022-04-08T11:07:55.214Z"
   },
   {
    "duration": 174,
    "start_time": "2022-04-08T11:07:55.271Z"
   },
   {
    "duration": 19,
    "start_time": "2022-04-08T11:07:55.447Z"
   },
   {
    "duration": 29,
    "start_time": "2022-04-08T11:07:55.471Z"
   },
   {
    "duration": 128,
    "start_time": "2022-04-08T11:07:55.502Z"
   },
   {
    "duration": 11,
    "start_time": "2022-04-08T11:07:55.632Z"
   },
   {
    "duration": 45,
    "start_time": "2022-04-08T11:07:55.645Z"
   },
   {
    "duration": 11,
    "start_time": "2022-04-08T11:07:55.692Z"
   },
   {
    "duration": 12,
    "start_time": "2022-04-08T11:07:55.705Z"
   },
   {
    "duration": 18,
    "start_time": "2022-04-08T11:07:55.719Z"
   },
   {
    "duration": 31,
    "start_time": "2022-04-08T11:07:55.739Z"
   },
   {
    "duration": 11,
    "start_time": "2022-04-08T11:07:55.772Z"
   },
   {
    "duration": 13,
    "start_time": "2022-04-08T11:07:55.785Z"
   },
   {
    "duration": 11,
    "start_time": "2022-04-08T11:07:55.801Z"
   },
   {
    "duration": 11,
    "start_time": "2022-04-08T11:07:55.814Z"
   },
   {
    "duration": 77,
    "start_time": "2022-04-08T11:07:55.867Z"
   },
   {
    "duration": 21,
    "start_time": "2022-04-08T11:07:55.946Z"
   },
   {
    "duration": 81,
    "start_time": "2022-04-08T11:07:55.969Z"
   },
   {
    "duration": 65,
    "start_time": "2022-04-08T11:07:56.053Z"
   },
   {
    "duration": 11,
    "start_time": "2022-04-08T11:07:56.121Z"
   },
   {
    "duration": 32,
    "start_time": "2022-04-08T11:07:56.135Z"
   },
   {
    "duration": 12,
    "start_time": "2022-04-08T11:07:56.174Z"
   },
   {
    "duration": 50,
    "start_time": "2022-04-08T11:07:56.188Z"
   },
   {
    "duration": 64,
    "start_time": "2022-04-08T11:07:56.240Z"
   },
   {
    "duration": 8,
    "start_time": "2022-04-08T11:07:56.307Z"
   },
   {
    "duration": 66,
    "start_time": "2022-04-08T11:07:56.317Z"
   },
   {
    "duration": 40,
    "start_time": "2022-04-08T11:07:56.386Z"
   },
   {
    "duration": 43,
    "start_time": "2022-04-08T11:07:56.429Z"
   },
   {
    "duration": 102,
    "start_time": "2022-04-08T11:07:56.475Z"
   },
   {
    "duration": 13,
    "start_time": "2022-04-08T11:07:56.580Z"
   },
   {
    "duration": 16,
    "start_time": "2022-04-08T11:07:56.596Z"
   },
   {
    "duration": 67,
    "start_time": "2022-04-08T11:07:56.615Z"
   },
   {
    "duration": 41,
    "start_time": "2022-04-08T11:07:56.685Z"
   },
   {
    "duration": 7,
    "start_time": "2022-04-08T11:07:56.729Z"
   },
   {
    "duration": 41,
    "start_time": "2022-04-08T11:07:56.739Z"
   },
   {
    "duration": 30,
    "start_time": "2022-04-08T11:07:56.783Z"
   },
   {
    "duration": 60,
    "start_time": "2022-04-08T11:07:56.815Z"
   },
   {
    "duration": 13,
    "start_time": "2022-04-08T11:07:56.878Z"
   },
   {
    "duration": 8,
    "start_time": "2022-04-08T11:07:56.893Z"
   },
   {
    "duration": 14,
    "start_time": "2022-04-08T11:07:56.903Z"
   },
   {
    "duration": 63,
    "start_time": "2022-04-08T11:07:56.920Z"
   },
   {
    "duration": 28,
    "start_time": "2022-04-08T11:07:56.986Z"
   },
   {
    "duration": 51,
    "start_time": "2022-04-08T11:07:57.017Z"
   },
   {
    "duration": 3,
    "start_time": "2022-04-08T11:07:57.070Z"
   },
   {
    "duration": 16,
    "start_time": "2022-04-08T11:07:57.075Z"
   },
   {
    "duration": 35,
    "start_time": "2022-04-08T11:07:57.093Z"
   },
   {
    "duration": 3,
    "start_time": "2022-04-08T11:07:57.130Z"
   },
   {
    "duration": 5,
    "start_time": "2022-04-08T11:07:57.167Z"
   },
   {
    "duration": 14,
    "start_time": "2022-04-08T11:07:57.174Z"
   },
   {
    "duration": 13,
    "start_time": "2022-04-08T11:07:57.190Z"
   },
   {
    "duration": 90,
    "start_time": "2022-04-08T11:07:57.206Z"
   },
   {
    "duration": 5,
    "start_time": "2022-04-08T11:07:57.298Z"
   },
   {
    "duration": 11,
    "start_time": "2022-04-08T11:07:57.305Z"
   },
   {
    "duration": 99,
    "start_time": "2022-04-08T11:07:57.318Z"
   },
   {
    "duration": 5,
    "start_time": "2022-04-08T11:07:57.419Z"
   },
   {
    "duration": 14,
    "start_time": "2022-04-08T11:07:57.426Z"
   },
   {
    "duration": 88,
    "start_time": "2022-04-08T11:07:57.442Z"
   },
   {
    "duration": 6,
    "start_time": "2022-04-08T11:07:57.532Z"
   },
   {
    "duration": 49,
    "start_time": "2022-04-08T11:07:57.540Z"
   },
   {
    "duration": 7,
    "start_time": "2022-04-08T11:07:57.591Z"
   },
   {
    "duration": 12,
    "start_time": "2022-04-08T11:07:57.600Z"
   },
   {
    "duration": 59,
    "start_time": "2022-04-08T11:07:57.614Z"
   },
   {
    "duration": 7,
    "start_time": "2022-04-08T11:07:57.675Z"
   },
   {
    "duration": 14,
    "start_time": "2022-04-08T11:07:57.684Z"
   },
   {
    "duration": 6,
    "start_time": "2022-04-08T11:07:57.700Z"
   },
   {
    "duration": 6,
    "start_time": "2022-04-08T11:07:57.708Z"
   },
   {
    "duration": 72,
    "start_time": "2022-04-08T11:07:57.716Z"
   },
   {
    "duration": 7,
    "start_time": "2022-04-08T11:07:57.790Z"
   },
   {
    "duration": 12,
    "start_time": "2022-04-08T11:07:57.799Z"
   },
   {
    "duration": 15,
    "start_time": "2022-04-08T11:07:57.814Z"
   },
   {
    "duration": 47,
    "start_time": "2022-04-08T11:07:57.832Z"
   },
   {
    "duration": 7,
    "start_time": "2022-04-08T11:07:57.882Z"
   },
   {
    "duration": 7,
    "start_time": "2022-04-08T11:07:57.893Z"
   },
   {
    "duration": 451,
    "start_time": "2022-04-08T11:07:57.903Z"
   },
   {
    "duration": 399,
    "start_time": "2022-04-08T11:07:58.356Z"
   },
   {
    "duration": 21,
    "start_time": "2022-04-08T11:07:58.773Z"
   },
   {
    "duration": 248,
    "start_time": "2022-04-08T11:07:58.796Z"
   },
   {
    "duration": 23,
    "start_time": "2022-04-08T11:07:59.046Z"
   },
   {
    "duration": 10,
    "start_time": "2022-04-08T11:07:59.071Z"
   },
   {
    "duration": 11,
    "start_time": "2022-04-08T11:07:59.083Z"
   },
   {
    "duration": 6,
    "start_time": "2022-04-08T11:07:59.096Z"
   },
   {
    "duration": 426,
    "start_time": "2022-04-08T11:07:59.104Z"
   },
   {
    "duration": 399,
    "start_time": "2022-04-08T11:07:59.532Z"
   },
   {
    "duration": 19,
    "start_time": "2022-04-08T11:07:59.933Z"
   },
   {
    "duration": 322,
    "start_time": "2022-04-08T11:07:59.967Z"
   },
   {
    "duration": 11,
    "start_time": "2022-04-08T11:08:00.291Z"
   },
   {
    "duration": 17,
    "start_time": "2022-04-08T11:08:00.304Z"
   },
   {
    "duration": 18,
    "start_time": "2022-04-08T11:08:00.324Z"
   },
   {
    "duration": 26,
    "start_time": "2022-04-08T11:08:00.344Z"
   },
   {
    "duration": 23,
    "start_time": "2022-04-08T11:08:00.372Z"
   },
   {
    "duration": 322,
    "start_time": "2022-04-08T11:08:00.397Z"
   },
   {
    "duration": 340,
    "start_time": "2022-04-08T11:08:00.721Z"
   },
   {
    "duration": 22,
    "start_time": "2022-04-08T11:08:01.067Z"
   },
   {
    "duration": 260,
    "start_time": "2022-04-08T11:08:01.091Z"
   },
   {
    "duration": 14,
    "start_time": "2022-04-08T11:08:01.354Z"
   },
   {
    "duration": 3,
    "start_time": "2022-04-08T11:08:01.370Z"
   },
   {
    "duration": 22,
    "start_time": "2022-04-08T11:08:01.375Z"
   },
   {
    "duration": 20,
    "start_time": "2022-04-08T11:08:01.399Z"
   },
   {
    "duration": 27,
    "start_time": "2022-04-08T11:08:01.421Z"
   },
   {
    "duration": 9,
    "start_time": "2022-04-08T11:08:01.450Z"
   },
   {
    "duration": 13,
    "start_time": "2022-04-08T11:08:01.462Z"
   },
   {
    "duration": 43,
    "start_time": "2022-04-08T11:08:01.477Z"
   },
   {
    "duration": 6,
    "start_time": "2022-04-08T11:08:01.522Z"
   },
   {
    "duration": 13,
    "start_time": "2022-04-08T11:08:01.530Z"
   },
   {
    "duration": 8,
    "start_time": "2022-04-08T11:08:01.546Z"
   },
   {
    "duration": 42,
    "start_time": "2022-04-08T11:08:01.556Z"
   },
   {
    "duration": 3,
    "start_time": "2022-04-08T11:08:01.601Z"
   },
   {
    "duration": 15,
    "start_time": "2022-04-08T11:08:01.606Z"
   },
   {
    "duration": 26,
    "start_time": "2022-04-08T11:08:01.624Z"
   },
   {
    "duration": 6,
    "start_time": "2022-04-08T11:08:01.667Z"
   },
   {
    "duration": 36,
    "start_time": "2022-04-08T11:08:01.676Z"
   },
   {
    "duration": 5,
    "start_time": "2022-04-08T11:08:01.715Z"
   },
   {
    "duration": 9,
    "start_time": "2022-04-08T11:08:01.722Z"
   },
   {
    "duration": 36,
    "start_time": "2022-04-08T11:08:01.733Z"
   },
   {
    "duration": 4,
    "start_time": "2022-04-08T11:08:01.771Z"
   },
   {
    "duration": 11,
    "start_time": "2022-04-08T11:08:01.778Z"
   },
   {
    "duration": 8,
    "start_time": "2022-04-08T11:08:01.791Z"
   },
   {
    "duration": 12,
    "start_time": "2022-04-08T11:08:01.801Z"
   },
   {
    "duration": 9,
    "start_time": "2022-04-08T11:08:01.815Z"
   },
   {
    "duration": 1474,
    "start_time": "2022-04-18T11:27:33.931Z"
   },
   {
    "duration": 24,
    "start_time": "2022-04-18T11:27:35.408Z"
   },
   {
    "duration": 21,
    "start_time": "2022-04-18T11:27:35.434Z"
   },
   {
    "duration": 16,
    "start_time": "2022-04-18T11:27:35.457Z"
   },
   {
    "duration": 203,
    "start_time": "2022-04-18T11:27:35.476Z"
   },
   {
    "duration": 11,
    "start_time": "2022-04-18T11:27:35.681Z"
   },
   {
    "duration": 36,
    "start_time": "2022-04-18T11:27:35.694Z"
   },
   {
    "duration": 164,
    "start_time": "2022-04-18T11:27:35.752Z"
   },
   {
    "duration": 13,
    "start_time": "2022-04-18T11:27:35.919Z"
   },
   {
    "duration": 40,
    "start_time": "2022-04-18T11:27:35.934Z"
   },
   {
    "duration": 125,
    "start_time": "2022-04-18T11:27:35.976Z"
   },
   {
    "duration": 11,
    "start_time": "2022-04-18T11:27:36.103Z"
   },
   {
    "duration": 41,
    "start_time": "2022-04-18T11:27:36.117Z"
   },
   {
    "duration": 11,
    "start_time": "2022-04-18T11:27:36.165Z"
   },
   {
    "duration": 12,
    "start_time": "2022-04-18T11:27:36.178Z"
   },
   {
    "duration": 16,
    "start_time": "2022-04-18T11:27:36.192Z"
   },
   {
    "duration": 11,
    "start_time": "2022-04-18T11:27:36.210Z"
   },
   {
    "duration": 6,
    "start_time": "2022-04-18T11:27:36.253Z"
   },
   {
    "duration": 14,
    "start_time": "2022-04-18T11:27:36.261Z"
   },
   {
    "duration": 9,
    "start_time": "2022-04-18T11:27:36.277Z"
   },
   {
    "duration": 10,
    "start_time": "2022-04-18T11:27:36.288Z"
   },
   {
    "duration": 106,
    "start_time": "2022-04-18T11:27:36.300Z"
   },
   {
    "duration": 6,
    "start_time": "2022-04-18T11:27:36.408Z"
   },
   {
    "duration": 93,
    "start_time": "2022-04-18T11:27:36.416Z"
   },
   {
    "duration": 68,
    "start_time": "2022-04-18T11:27:36.511Z"
   },
   {
    "duration": 9,
    "start_time": "2022-04-18T11:27:36.581Z"
   },
   {
    "duration": 7,
    "start_time": "2022-04-18T11:27:36.592Z"
   },
   {
    "duration": 14,
    "start_time": "2022-04-18T11:27:36.601Z"
   },
   {
    "duration": 79,
    "start_time": "2022-04-18T11:27:36.617Z"
   },
   {
    "duration": 53,
    "start_time": "2022-04-18T11:27:36.698Z"
   },
   {
    "duration": 6,
    "start_time": "2022-04-18T11:27:36.754Z"
   },
   {
    "duration": 40,
    "start_time": "2022-04-18T11:27:36.762Z"
   },
   {
    "duration": 63,
    "start_time": "2022-04-18T11:27:36.804Z"
   },
   {
    "duration": 13,
    "start_time": "2022-04-18T11:27:36.870Z"
   },
   {
    "duration": 108,
    "start_time": "2022-04-18T11:27:36.885Z"
   },
   {
    "duration": 12,
    "start_time": "2022-04-18T11:27:36.996Z"
   },
   {
    "duration": 21,
    "start_time": "2022-04-18T11:27:37.010Z"
   },
   {
    "duration": 33,
    "start_time": "2022-04-18T11:27:37.052Z"
   },
   {
    "duration": 64,
    "start_time": "2022-04-18T11:27:37.088Z"
   },
   {
    "duration": 6,
    "start_time": "2022-04-18T11:27:37.154Z"
   },
   {
    "duration": 14,
    "start_time": "2022-04-18T11:27:37.168Z"
   },
   {
    "duration": 34,
    "start_time": "2022-04-18T11:27:37.184Z"
   },
   {
    "duration": 48,
    "start_time": "2022-04-18T11:27:37.220Z"
   },
   {
    "duration": 13,
    "start_time": "2022-04-18T11:27:37.270Z"
   },
   {
    "duration": 6,
    "start_time": "2022-04-18T11:27:37.285Z"
   },
   {
    "duration": 14,
    "start_time": "2022-04-18T11:27:37.293Z"
   },
   {
    "duration": 54,
    "start_time": "2022-04-18T11:27:37.310Z"
   },
   {
    "duration": 26,
    "start_time": "2022-04-18T11:27:37.366Z"
   },
   {
    "duration": 25,
    "start_time": "2022-04-18T11:27:37.395Z"
   },
   {
    "duration": 32,
    "start_time": "2022-04-18T11:27:37.422Z"
   },
   {
    "duration": 16,
    "start_time": "2022-04-18T11:27:37.457Z"
   },
   {
    "duration": 36,
    "start_time": "2022-04-18T11:27:37.476Z"
   },
   {
    "duration": 4,
    "start_time": "2022-04-18T11:27:37.514Z"
   },
   {
    "duration": 7,
    "start_time": "2022-04-18T11:27:37.552Z"
   },
   {
    "duration": 12,
    "start_time": "2022-04-18T11:27:37.561Z"
   },
   {
    "duration": 7,
    "start_time": "2022-04-18T11:27:37.575Z"
   },
   {
    "duration": 96,
    "start_time": "2022-04-18T11:27:37.585Z"
   },
   {
    "duration": 5,
    "start_time": "2022-04-18T11:27:37.683Z"
   },
   {
    "duration": 8,
    "start_time": "2022-04-18T11:27:37.692Z"
   },
   {
    "duration": 104,
    "start_time": "2022-04-18T11:27:37.703Z"
   },
   {
    "duration": 5,
    "start_time": "2022-04-18T11:27:37.809Z"
   },
   {
    "duration": 8,
    "start_time": "2022-04-18T11:27:37.816Z"
   },
   {
    "duration": 82,
    "start_time": "2022-04-18T11:27:37.826Z"
   },
   {
    "duration": 6,
    "start_time": "2022-04-18T11:27:37.910Z"
   },
   {
    "duration": 50,
    "start_time": "2022-04-18T11:27:37.918Z"
   },
   {
    "duration": 7,
    "start_time": "2022-04-18T11:27:37.970Z"
   },
   {
    "duration": 6,
    "start_time": "2022-04-18T11:27:37.978Z"
   },
   {
    "duration": 39,
    "start_time": "2022-04-18T11:27:37.986Z"
   },
   {
    "duration": 29,
    "start_time": "2022-04-18T11:27:38.027Z"
   },
   {
    "duration": 11,
    "start_time": "2022-04-18T11:27:38.059Z"
   },
   {
    "duration": 5,
    "start_time": "2022-04-18T11:27:38.072Z"
   },
   {
    "duration": 9,
    "start_time": "2022-04-18T11:27:38.079Z"
   },
   {
    "duration": 70,
    "start_time": "2022-04-18T11:27:38.089Z"
   },
   {
    "duration": 6,
    "start_time": "2022-04-18T11:27:38.162Z"
   },
   {
    "duration": 18,
    "start_time": "2022-04-18T11:27:38.169Z"
   },
   {
    "duration": 10,
    "start_time": "2022-04-18T11:27:38.189Z"
   },
   {
    "duration": 18,
    "start_time": "2022-04-18T11:27:38.201Z"
   },
   {
    "duration": 33,
    "start_time": "2022-04-18T11:27:38.222Z"
   },
   {
    "duration": 9,
    "start_time": "2022-04-18T11:27:38.257Z"
   },
   {
    "duration": 421,
    "start_time": "2022-04-18T11:27:38.268Z"
   },
   {
    "duration": 386,
    "start_time": "2022-04-18T11:27:38.691Z"
   },
   {
    "duration": 19,
    "start_time": "2022-04-18T11:27:39.079Z"
   },
   {
    "duration": 243,
    "start_time": "2022-04-18T11:27:39.100Z"
   },
   {
    "duration": 14,
    "start_time": "2022-04-18T11:27:39.345Z"
   },
   {
    "duration": 11,
    "start_time": "2022-04-18T11:27:39.361Z"
   },
   {
    "duration": 5,
    "start_time": "2022-04-18T11:27:39.374Z"
   },
   {
    "duration": 10,
    "start_time": "2022-04-18T11:27:39.381Z"
   },
   {
    "duration": 429,
    "start_time": "2022-04-18T11:27:39.392Z"
   },
   {
    "duration": 378,
    "start_time": "2022-04-18T11:27:39.823Z"
   },
   {
    "duration": 21,
    "start_time": "2022-04-18T11:27:40.203Z"
   },
   {
    "duration": 336,
    "start_time": "2022-04-18T11:27:40.226Z"
   },
   {
    "duration": 11,
    "start_time": "2022-04-18T11:27:40.565Z"
   },
   {
    "duration": 12,
    "start_time": "2022-04-18T11:27:40.578Z"
   },
   {
    "duration": 4,
    "start_time": "2022-04-18T11:27:40.592Z"
   },
   {
    "duration": 13,
    "start_time": "2022-04-18T11:27:40.597Z"
   },
   {
    "duration": 41,
    "start_time": "2022-04-18T11:27:40.612Z"
   },
   {
    "duration": 315,
    "start_time": "2022-04-18T11:27:40.656Z"
   },
   {
    "duration": 341,
    "start_time": "2022-04-18T11:27:40.973Z"
   },
   {
    "duration": 19,
    "start_time": "2022-04-18T11:27:41.316Z"
   },
   {
    "duration": 242,
    "start_time": "2022-04-18T11:27:41.351Z"
   },
   {
    "duration": 7,
    "start_time": "2022-04-18T11:27:41.595Z"
   },
   {
    "duration": 19,
    "start_time": "2022-04-18T11:27:41.604Z"
   },
   {
    "duration": 11,
    "start_time": "2022-04-18T11:27:41.625Z"
   },
   {
    "duration": 17,
    "start_time": "2022-04-18T11:27:41.639Z"
   },
   {
    "duration": 18,
    "start_time": "2022-04-18T11:27:41.658Z"
   },
   {
    "duration": 21,
    "start_time": "2022-04-18T11:27:41.678Z"
   },
   {
    "duration": 17,
    "start_time": "2022-04-18T11:27:41.701Z"
   },
   {
    "duration": 46,
    "start_time": "2022-04-18T11:27:41.720Z"
   },
   {
    "duration": 3,
    "start_time": "2022-04-18T11:27:41.768Z"
   },
   {
    "duration": 16,
    "start_time": "2022-04-18T11:27:41.773Z"
   },
   {
    "duration": 22,
    "start_time": "2022-04-18T11:27:41.791Z"
   },
   {
    "duration": 42,
    "start_time": "2022-04-18T11:27:41.815Z"
   },
   {
    "duration": 6,
    "start_time": "2022-04-18T11:27:41.859Z"
   },
   {
    "duration": 31,
    "start_time": "2022-04-18T11:27:41.867Z"
   },
   {
    "duration": 18,
    "start_time": "2022-04-18T11:27:41.900Z"
   },
   {
    "duration": 12,
    "start_time": "2022-04-18T11:27:41.920Z"
   },
   {
    "duration": 45,
    "start_time": "2022-04-18T11:27:41.934Z"
   },
   {
    "duration": 19,
    "start_time": "2022-04-18T11:27:41.981Z"
   },
   {
    "duration": 20,
    "start_time": "2022-04-18T11:27:42.002Z"
   },
   {
    "duration": 18,
    "start_time": "2022-04-18T11:27:42.024Z"
   },
   {
    "duration": 4,
    "start_time": "2022-04-18T11:27:42.044Z"
   },
   {
    "duration": 4,
    "start_time": "2022-04-18T11:27:42.058Z"
   },
   {
    "duration": 7,
    "start_time": "2022-04-18T11:27:42.064Z"
   },
   {
    "duration": 6,
    "start_time": "2022-04-18T11:27:42.073Z"
   },
   {
    "duration": 10,
    "start_time": "2022-04-18T11:27:42.081Z"
   },
   {
    "duration": 1440,
    "start_time": "2022-04-18T11:41:44.823Z"
   },
   {
    "duration": 19,
    "start_time": "2022-04-18T11:41:46.266Z"
   },
   {
    "duration": 19,
    "start_time": "2022-04-18T11:41:46.287Z"
   },
   {
    "duration": 25,
    "start_time": "2022-04-18T11:41:46.309Z"
   },
   {
    "duration": 199,
    "start_time": "2022-04-18T11:41:46.352Z"
   },
   {
    "duration": 12,
    "start_time": "2022-04-18T11:41:46.553Z"
   },
   {
    "duration": 52,
    "start_time": "2022-04-18T11:41:46.567Z"
   },
   {
    "duration": 176,
    "start_time": "2022-04-18T11:41:46.621Z"
   },
   {
    "duration": 12,
    "start_time": "2022-04-18T11:41:46.800Z"
   },
   {
    "duration": 51,
    "start_time": "2022-04-18T11:41:46.814Z"
   },
   {
    "duration": 113,
    "start_time": "2022-04-18T11:41:46.867Z"
   },
   {
    "duration": 10,
    "start_time": "2022-04-18T11:41:46.982Z"
   },
   {
    "duration": 47,
    "start_time": "2022-04-18T11:41:46.995Z"
   },
   {
    "duration": 22,
    "start_time": "2022-04-18T11:41:47.046Z"
   },
   {
    "duration": 25,
    "start_time": "2022-04-18T11:41:47.071Z"
   },
   {
    "duration": 24,
    "start_time": "2022-04-18T11:41:47.098Z"
   },
   {
    "duration": 21,
    "start_time": "2022-04-18T11:41:47.124Z"
   },
   {
    "duration": 25,
    "start_time": "2022-04-18T11:41:47.147Z"
   },
   {
    "duration": 21,
    "start_time": "2022-04-18T11:41:47.174Z"
   },
   {
    "duration": 14,
    "start_time": "2022-04-18T11:41:47.198Z"
   },
   {
    "duration": 19,
    "start_time": "2022-04-18T11:41:47.214Z"
   },
   {
    "duration": 98,
    "start_time": "2022-04-18T11:41:47.235Z"
   },
   {
    "duration": 7,
    "start_time": "2022-04-18T11:41:47.335Z"
   },
   {
    "duration": 80,
    "start_time": "2022-04-18T11:41:47.351Z"
   },
   {
    "duration": 64,
    "start_time": "2022-04-18T11:41:47.433Z"
   },
   {
    "duration": 11,
    "start_time": "2022-04-18T11:41:47.499Z"
   },
   {
    "duration": 7,
    "start_time": "2022-04-18T11:41:47.513Z"
   },
   {
    "duration": 39,
    "start_time": "2022-04-18T11:41:47.522Z"
   },
   {
    "duration": 68,
    "start_time": "2022-04-18T11:41:47.563Z"
   },
   {
    "duration": 45,
    "start_time": "2022-04-18T11:41:47.633Z"
   },
   {
    "duration": 7,
    "start_time": "2022-04-18T11:41:47.680Z"
   },
   {
    "duration": 46,
    "start_time": "2022-04-18T11:41:47.689Z"
   },
   {
    "duration": 53,
    "start_time": "2022-04-18T11:41:47.737Z"
   },
   {
    "duration": 15,
    "start_time": "2022-04-18T11:41:47.791Z"
   },
   {
    "duration": 118,
    "start_time": "2022-04-18T11:41:47.808Z"
   },
   {
    "duration": 24,
    "start_time": "2022-04-18T11:41:47.928Z"
   },
   {
    "duration": 31,
    "start_time": "2022-04-18T11:41:47.954Z"
   },
   {
    "duration": 43,
    "start_time": "2022-04-18T11:41:47.987Z"
   },
   {
    "duration": 39,
    "start_time": "2022-04-18T11:41:48.032Z"
   },
   {
    "duration": 6,
    "start_time": "2022-04-18T11:41:48.073Z"
   },
   {
    "duration": 16,
    "start_time": "2022-04-18T11:41:48.087Z"
   },
   {
    "duration": 50,
    "start_time": "2022-04-18T11:41:48.105Z"
   },
   {
    "duration": 20,
    "start_time": "2022-04-18T11:41:48.157Z"
   },
   {
    "duration": 14,
    "start_time": "2022-04-18T11:41:48.179Z"
   },
   {
    "duration": 6,
    "start_time": "2022-04-18T11:41:48.195Z"
   },
   {
    "duration": 22,
    "start_time": "2022-04-18T11:41:48.203Z"
   },
   {
    "duration": 42,
    "start_time": "2022-04-18T11:41:48.227Z"
   },
   {
    "duration": 24,
    "start_time": "2022-04-18T11:41:48.271Z"
   },
   {
    "duration": 25,
    "start_time": "2022-04-18T11:41:48.297Z"
   },
   {
    "duration": 29,
    "start_time": "2022-04-18T11:41:48.324Z"
   },
   {
    "duration": 29,
    "start_time": "2022-04-18T11:41:48.356Z"
   },
   {
    "duration": 48,
    "start_time": "2022-04-18T11:41:48.388Z"
   },
   {
    "duration": 4,
    "start_time": "2022-04-18T11:41:48.439Z"
   },
   {
    "duration": 20,
    "start_time": "2022-04-18T11:41:48.445Z"
   },
   {
    "duration": 32,
    "start_time": "2022-04-18T11:41:48.467Z"
   },
   {
    "duration": 17,
    "start_time": "2022-04-18T11:41:48.501Z"
   },
   {
    "duration": 80,
    "start_time": "2022-04-18T11:41:48.520Z"
   },
   {
    "duration": 4,
    "start_time": "2022-04-18T11:41:48.603Z"
   },
   {
    "duration": 24,
    "start_time": "2022-04-18T11:41:48.609Z"
   },
   {
    "duration": 92,
    "start_time": "2022-04-18T11:41:48.635Z"
   },
   {
    "duration": 5,
    "start_time": "2022-04-18T11:41:48.729Z"
   },
   {
    "duration": 18,
    "start_time": "2022-04-18T11:41:48.736Z"
   },
   {
    "duration": 72,
    "start_time": "2022-04-18T11:41:48.756Z"
   },
   {
    "duration": 6,
    "start_time": "2022-04-18T11:41:48.830Z"
   },
   {
    "duration": 56,
    "start_time": "2022-04-18T11:41:48.837Z"
   },
   {
    "duration": 6,
    "start_time": "2022-04-18T11:41:48.896Z"
   },
   {
    "duration": 12,
    "start_time": "2022-04-18T11:41:48.904Z"
   },
   {
    "duration": 52,
    "start_time": "2022-04-18T11:41:48.918Z"
   },
   {
    "duration": 9,
    "start_time": "2022-04-18T11:41:48.972Z"
   },
   {
    "duration": 30,
    "start_time": "2022-04-18T11:41:48.983Z"
   },
   {
    "duration": 15,
    "start_time": "2022-04-18T11:41:49.015Z"
   },
   {
    "duration": 17,
    "start_time": "2022-04-18T11:41:49.033Z"
   },
   {
    "duration": 59,
    "start_time": "2022-04-18T11:41:49.052Z"
   },
   {
    "duration": 12,
    "start_time": "2022-04-18T11:41:49.113Z"
   },
   {
    "duration": 25,
    "start_time": "2022-04-18T11:41:49.127Z"
   },
   {
    "duration": 30,
    "start_time": "2022-04-18T11:41:49.154Z"
   },
   {
    "duration": 13,
    "start_time": "2022-04-18T11:41:49.186Z"
   },
   {
    "duration": 6,
    "start_time": "2022-04-18T11:41:49.201Z"
   },
   {
    "duration": 7,
    "start_time": "2022-04-18T11:41:49.209Z"
   },
   {
    "duration": 438,
    "start_time": "2022-04-18T11:41:49.218Z"
   },
   {
    "duration": 394,
    "start_time": "2022-04-18T11:41:49.658Z"
   },
   {
    "duration": 20,
    "start_time": "2022-04-18T11:41:50.054Z"
   },
   {
    "duration": 240,
    "start_time": "2022-04-18T11:41:50.076Z"
   },
   {
    "duration": 12,
    "start_time": "2022-04-18T11:41:50.318Z"
   },
   {
    "duration": 27,
    "start_time": "2022-04-18T11:41:50.332Z"
   },
   {
    "duration": 24,
    "start_time": "2022-04-18T11:41:50.361Z"
   },
   {
    "duration": 21,
    "start_time": "2022-04-18T11:41:50.387Z"
   },
   {
    "duration": 387,
    "start_time": "2022-04-18T11:41:50.411Z"
   },
   {
    "duration": 379,
    "start_time": "2022-04-18T11:41:50.800Z"
   },
   {
    "duration": 20,
    "start_time": "2022-04-18T11:41:51.181Z"
   },
   {
    "duration": 312,
    "start_time": "2022-04-18T11:41:51.204Z"
   },
   {
    "duration": 11,
    "start_time": "2022-04-18T11:41:51.518Z"
   },
   {
    "duration": 28,
    "start_time": "2022-04-18T11:41:51.532Z"
   },
   {
    "duration": 4,
    "start_time": "2022-04-18T11:41:51.563Z"
   },
   {
    "duration": 7,
    "start_time": "2022-04-18T11:41:51.569Z"
   },
   {
    "duration": 7,
    "start_time": "2022-04-18T11:41:51.579Z"
   },
   {
    "duration": 360,
    "start_time": "2022-04-18T11:41:51.588Z"
   },
   {
    "duration": 332,
    "start_time": "2022-04-18T11:41:51.951Z"
   },
   {
    "duration": 20,
    "start_time": "2022-04-18T11:41:52.285Z"
   },
   {
    "duration": 256,
    "start_time": "2022-04-18T11:41:52.308Z"
   },
   {
    "duration": 7,
    "start_time": "2022-04-18T11:41:52.567Z"
   },
   {
    "duration": 13,
    "start_time": "2022-04-18T11:41:52.576Z"
   },
   {
    "duration": 9,
    "start_time": "2022-04-18T11:41:52.592Z"
   },
   {
    "duration": 8,
    "start_time": "2022-04-18T11:41:52.603Z"
   },
   {
    "duration": 40,
    "start_time": "2022-04-18T11:41:52.613Z"
   },
   {
    "duration": 6,
    "start_time": "2022-04-18T11:41:52.655Z"
   },
   {
    "duration": 9,
    "start_time": "2022-04-18T11:41:52.664Z"
   },
   {
    "duration": 43,
    "start_time": "2022-04-18T11:41:52.675Z"
   },
   {
    "duration": 4,
    "start_time": "2022-04-18T11:41:52.721Z"
   },
   {
    "duration": 28,
    "start_time": "2022-04-18T11:41:52.727Z"
   },
   {
    "duration": 6,
    "start_time": "2022-04-18T11:41:52.757Z"
   },
   {
    "duration": 38,
    "start_time": "2022-04-18T11:41:52.766Z"
   },
   {
    "duration": 3,
    "start_time": "2022-04-18T11:41:52.806Z"
   },
   {
    "duration": 42,
    "start_time": "2022-04-18T11:41:52.811Z"
   },
   {
    "duration": 10,
    "start_time": "2022-04-18T11:41:52.855Z"
   },
   {
    "duration": 6,
    "start_time": "2022-04-18T11:41:52.867Z"
   },
   {
    "duration": 33,
    "start_time": "2022-04-18T11:41:52.875Z"
   },
   {
    "duration": 5,
    "start_time": "2022-04-18T11:41:52.910Z"
   },
   {
    "duration": 6,
    "start_time": "2022-04-18T11:41:52.953Z"
   },
   {
    "duration": 7,
    "start_time": "2022-04-18T11:41:52.961Z"
   },
   {
    "duration": 5,
    "start_time": "2022-04-18T11:41:52.970Z"
   },
   {
    "duration": 4,
    "start_time": "2022-04-18T11:41:52.986Z"
   },
   {
    "duration": 8,
    "start_time": "2022-04-18T11:41:52.992Z"
   },
   {
    "duration": 7,
    "start_time": "2022-04-18T11:41:53.002Z"
   },
   {
    "duration": 7,
    "start_time": "2022-04-18T11:41:53.051Z"
   },
   {
    "duration": 1483,
    "start_time": "2022-04-18T11:44:11.505Z"
   },
   {
    "duration": 19,
    "start_time": "2022-04-18T11:44:12.991Z"
   },
   {
    "duration": 19,
    "start_time": "2022-04-18T11:44:13.012Z"
   },
   {
    "duration": 29,
    "start_time": "2022-04-18T11:44:13.033Z"
   },
   {
    "duration": 206,
    "start_time": "2022-04-18T11:44:13.064Z"
   },
   {
    "duration": 12,
    "start_time": "2022-04-18T11:44:13.272Z"
   },
   {
    "duration": 37,
    "start_time": "2022-04-18T11:44:13.286Z"
   },
   {
    "duration": 186,
    "start_time": "2022-04-18T11:44:13.325Z"
   },
   {
    "duration": 12,
    "start_time": "2022-04-18T11:44:13.513Z"
   },
   {
    "duration": 44,
    "start_time": "2022-04-18T11:44:13.528Z"
   },
   {
    "duration": 119,
    "start_time": "2022-04-18T11:44:13.574Z"
   },
   {
    "duration": 10,
    "start_time": "2022-04-18T11:44:13.695Z"
   },
   {
    "duration": 27,
    "start_time": "2022-04-18T11:44:13.707Z"
   },
   {
    "duration": 20,
    "start_time": "2022-04-18T11:44:13.735Z"
   },
   {
    "duration": 11,
    "start_time": "2022-04-18T11:44:13.757Z"
   },
   {
    "duration": 17,
    "start_time": "2022-04-18T11:44:13.770Z"
   },
   {
    "duration": 10,
    "start_time": "2022-04-18T11:44:13.789Z"
   },
   {
    "duration": 8,
    "start_time": "2022-04-18T11:44:13.801Z"
   },
   {
    "duration": 11,
    "start_time": "2022-04-18T11:44:13.851Z"
   },
   {
    "duration": 9,
    "start_time": "2022-04-18T11:44:13.864Z"
   },
   {
    "duration": 10,
    "start_time": "2022-04-18T11:44:13.875Z"
   },
   {
    "duration": 103,
    "start_time": "2022-04-18T11:44:13.887Z"
   },
   {
    "duration": 7,
    "start_time": "2022-04-18T11:44:13.992Z"
   },
   {
    "duration": 95,
    "start_time": "2022-04-18T11:44:14.001Z"
   },
   {
    "duration": 65,
    "start_time": "2022-04-18T11:44:14.098Z"
   },
   {
    "duration": 11,
    "start_time": "2022-04-18T11:44:14.166Z"
   },
   {
    "duration": 7,
    "start_time": "2022-04-18T11:44:14.179Z"
   },
   {
    "duration": 11,
    "start_time": "2022-04-18T11:44:14.193Z"
   },
   {
    "duration": 80,
    "start_time": "2022-04-18T11:44:14.206Z"
   },
   {
    "duration": 43,
    "start_time": "2022-04-18T11:44:14.288Z"
   },
   {
    "duration": 23,
    "start_time": "2022-04-18T11:44:14.333Z"
   },
   {
    "duration": 39,
    "start_time": "2022-04-18T11:44:14.358Z"
   },
   {
    "duration": 64,
    "start_time": "2022-04-18T11:44:14.399Z"
   },
   {
    "duration": 15,
    "start_time": "2022-04-18T11:44:14.465Z"
   },
   {
    "duration": 102,
    "start_time": "2022-04-18T11:44:14.482Z"
   },
   {
    "duration": 11,
    "start_time": "2022-04-18T11:44:14.586Z"
   },
   {
    "duration": 14,
    "start_time": "2022-04-18T11:44:14.600Z"
   },
   {
    "duration": 56,
    "start_time": "2022-04-18T11:44:14.616Z"
   },
   {
    "duration": 38,
    "start_time": "2022-04-18T11:44:14.674Z"
   },
   {
    "duration": 6,
    "start_time": "2022-04-18T11:44:14.714Z"
   },
   {
    "duration": 46,
    "start_time": "2022-04-18T11:44:14.721Z"
   },
   {
    "duration": 27,
    "start_time": "2022-04-18T11:44:14.769Z"
   },
   {
    "duration": 20,
    "start_time": "2022-04-18T11:44:14.798Z"
   },
   {
    "duration": 37,
    "start_time": "2022-04-18T11:44:14.820Z"
   },
   {
    "duration": 5,
    "start_time": "2022-04-18T11:44:14.859Z"
   },
   {
    "duration": 14,
    "start_time": "2022-04-18T11:44:14.867Z"
   },
   {
    "duration": 22,
    "start_time": "2022-04-18T11:44:14.883Z"
   },
   {
    "duration": 66,
    "start_time": "2022-04-18T11:44:14.908Z"
   },
   {
    "duration": 26,
    "start_time": "2022-04-18T11:44:14.976Z"
   },
   {
    "duration": 3,
    "start_time": "2022-04-18T11:44:15.004Z"
   },
   {
    "duration": 47,
    "start_time": "2022-04-18T11:44:15.010Z"
   },
   {
    "duration": 37,
    "start_time": "2022-04-18T11:44:15.060Z"
   },
   {
    "duration": 3,
    "start_time": "2022-04-18T11:44:15.100Z"
   },
   {
    "duration": 9,
    "start_time": "2022-04-18T11:44:15.106Z"
   },
   {
    "duration": 34,
    "start_time": "2022-04-18T11:44:15.118Z"
   },
   {
    "duration": 11,
    "start_time": "2022-04-18T11:44:15.155Z"
   },
   {
    "duration": 89,
    "start_time": "2022-04-18T11:44:15.168Z"
   },
   {
    "duration": 6,
    "start_time": "2022-04-18T11:44:15.259Z"
   },
   {
    "duration": 9,
    "start_time": "2022-04-18T11:44:15.268Z"
   },
   {
    "duration": 104,
    "start_time": "2022-04-18T11:44:15.279Z"
   },
   {
    "duration": 6,
    "start_time": "2022-04-18T11:44:15.386Z"
   },
   {
    "duration": 9,
    "start_time": "2022-04-18T11:44:15.394Z"
   },
   {
    "duration": 91,
    "start_time": "2022-04-18T11:44:15.406Z"
   },
   {
    "duration": 6,
    "start_time": "2022-04-18T11:44:15.500Z"
   },
   {
    "duration": 63,
    "start_time": "2022-04-18T11:44:15.509Z"
   },
   {
    "duration": 8,
    "start_time": "2022-04-18T11:44:15.574Z"
   },
   {
    "duration": 9,
    "start_time": "2022-04-18T11:44:15.584Z"
   },
   {
    "duration": 61,
    "start_time": "2022-04-18T11:44:15.595Z"
   },
   {
    "duration": 7,
    "start_time": "2022-04-18T11:44:15.659Z"
   },
   {
    "duration": 39,
    "start_time": "2022-04-18T11:44:15.669Z"
   },
   {
    "duration": 10,
    "start_time": "2022-04-18T11:44:15.711Z"
   },
   {
    "duration": 14,
    "start_time": "2022-04-18T11:44:15.724Z"
   },
   {
    "duration": 43,
    "start_time": "2022-04-18T11:44:15.740Z"
   },
   {
    "duration": 8,
    "start_time": "2022-04-18T11:44:15.785Z"
   },
   {
    "duration": 18,
    "start_time": "2022-04-18T11:44:15.795Z"
   },
   {
    "duration": 38,
    "start_time": "2022-04-18T11:44:15.815Z"
   },
   {
    "duration": 13,
    "start_time": "2022-04-18T11:44:15.856Z"
   },
   {
    "duration": 6,
    "start_time": "2022-04-18T11:44:15.871Z"
   },
   {
    "duration": 8,
    "start_time": "2022-04-18T11:44:15.879Z"
   },
   {
    "duration": 505,
    "start_time": "2022-04-18T11:44:15.889Z"
   },
   {
    "duration": 732,
    "start_time": "2022-04-18T11:44:16.396Z"
   },
   {
    "duration": 20,
    "start_time": "2022-04-18T11:44:17.154Z"
   },
   {
    "duration": 346,
    "start_time": "2022-04-18T11:44:17.176Z"
   },
   {
    "duration": 11,
    "start_time": "2022-04-18T11:44:17.524Z"
   },
   {
    "duration": 24,
    "start_time": "2022-04-18T11:44:17.537Z"
   },
   {
    "duration": 7,
    "start_time": "2022-04-18T11:44:17.563Z"
   },
   {
    "duration": 11,
    "start_time": "2022-04-18T11:44:17.572Z"
   },
   {
    "duration": 440,
    "start_time": "2022-04-18T11:44:17.585Z"
   },
   {
    "duration": 383,
    "start_time": "2022-04-18T11:44:18.027Z"
   },
   {
    "duration": 21,
    "start_time": "2022-04-18T11:44:18.412Z"
   },
   {
    "duration": 317,
    "start_time": "2022-04-18T11:44:18.452Z"
   },
   {
    "duration": 14,
    "start_time": "2022-04-18T11:44:18.772Z"
   },
   {
    "duration": 12,
    "start_time": "2022-04-18T11:44:18.788Z"
   },
   {
    "duration": 8,
    "start_time": "2022-04-18T11:44:18.802Z"
   },
   {
    "duration": 41,
    "start_time": "2022-04-18T11:44:18.812Z"
   },
   {
    "duration": 10,
    "start_time": "2022-04-18T11:44:18.856Z"
   },
   {
    "duration": 321,
    "start_time": "2022-04-18T11:44:18.869Z"
   },
   {
    "duration": 342,
    "start_time": "2022-04-18T11:44:19.192Z"
   },
   {
    "duration": 31,
    "start_time": "2022-04-18T11:44:19.536Z"
   },
   {
    "duration": 240,
    "start_time": "2022-04-18T11:44:19.569Z"
   },
   {
    "duration": 7,
    "start_time": "2022-04-18T11:44:19.811Z"
   },
   {
    "duration": 6,
    "start_time": "2022-04-18T11:44:19.820Z"
   },
   {
    "duration": 28,
    "start_time": "2022-04-18T11:44:19.828Z"
   },
   {
    "duration": 6,
    "start_time": "2022-04-18T11:44:19.858Z"
   },
   {
    "duration": 17,
    "start_time": "2022-04-18T11:44:19.866Z"
   },
   {
    "duration": 8,
    "start_time": "2022-04-18T11:44:19.885Z"
   },
   {
    "duration": 6,
    "start_time": "2022-04-18T11:44:19.896Z"
   },
   {
    "duration": 69,
    "start_time": "2022-04-18T11:44:19.904Z"
   },
   {
    "duration": 4,
    "start_time": "2022-04-18T11:44:19.976Z"
   },
   {
    "duration": 8,
    "start_time": "2022-04-18T11:44:19.982Z"
   },
   {
    "duration": 6,
    "start_time": "2022-04-18T11:44:19.992Z"
   },
   {
    "duration": 63,
    "start_time": "2022-04-18T11:44:20.000Z"
   },
   {
    "duration": 4,
    "start_time": "2022-04-18T11:44:20.065Z"
   },
   {
    "duration": 18,
    "start_time": "2022-04-18T11:44:20.070Z"
   },
   {
    "duration": 12,
    "start_time": "2022-04-18T11:44:20.090Z"
   },
   {
    "duration": 6,
    "start_time": "2022-04-18T11:44:20.104Z"
   },
   {
    "duration": 66,
    "start_time": "2022-04-18T11:44:20.113Z"
   },
   {
    "duration": 5,
    "start_time": "2022-04-18T11:44:20.181Z"
   },
   {
    "duration": 7,
    "start_time": "2022-04-18T11:44:20.188Z"
   },
   {
    "duration": 7,
    "start_time": "2022-04-18T11:44:20.197Z"
   },
   {
    "duration": 5,
    "start_time": "2022-04-18T11:44:20.206Z"
   },
   {
    "duration": 5,
    "start_time": "2022-04-18T11:44:20.252Z"
   },
   {
    "duration": 10,
    "start_time": "2022-04-18T11:44:20.259Z"
   },
   {
    "duration": 7,
    "start_time": "2022-04-18T11:44:20.271Z"
   },
   {
    "duration": 8,
    "start_time": "2022-04-18T11:44:20.280Z"
   },
   {
    "duration": 2650,
    "start_time": "2022-04-18T14:34:13.823Z"
   },
   {
    "duration": 34,
    "start_time": "2022-04-18T14:34:16.481Z"
   },
   {
    "duration": 30,
    "start_time": "2022-04-18T14:34:16.518Z"
   },
   {
    "duration": 25,
    "start_time": "2022-04-18T14:34:18.786Z"
   },
   {
    "duration": 197,
    "start_time": "2022-04-18T14:34:30.434Z"
   },
   {
    "duration": 12,
    "start_time": "2022-04-18T14:34:31.091Z"
   },
   {
    "duration": 34,
    "start_time": "2022-04-18T14:34:44.582Z"
   },
   {
    "duration": 167,
    "start_time": "2022-04-18T14:34:46.965Z"
   },
   {
    "duration": 13,
    "start_time": "2022-04-18T14:34:47.135Z"
   },
   {
    "duration": 31,
    "start_time": "2022-04-18T14:34:51.875Z"
   },
   {
    "duration": 114,
    "start_time": "2022-04-18T14:34:53.461Z"
   },
   {
    "duration": 10,
    "start_time": "2022-04-18T14:34:58.458Z"
   },
   {
    "duration": 25,
    "start_time": "2022-04-18T14:34:59.105Z"
   },
   {
    "duration": 12,
    "start_time": "2022-04-18T14:35:06.867Z"
   },
   {
    "duration": 11,
    "start_time": "2022-04-18T14:35:07.619Z"
   },
   {
    "duration": 15,
    "start_time": "2022-04-18T14:35:08.533Z"
   },
   {
    "duration": 10,
    "start_time": "2022-04-18T14:35:42.940Z"
   },
   {
    "duration": 7,
    "start_time": "2022-04-18T14:35:44.063Z"
   },
   {
    "duration": 11,
    "start_time": "2022-04-18T14:35:48.714Z"
   },
   {
    "duration": 8,
    "start_time": "2022-04-18T14:35:50.074Z"
   },
   {
    "duration": 11,
    "start_time": "2022-04-18T14:36:09.262Z"
   },
   {
    "duration": 80,
    "start_time": "2022-04-18T14:36:10.147Z"
   },
   {
    "duration": 7,
    "start_time": "2022-04-18T14:36:10.822Z"
   },
   {
    "duration": 190,
    "start_time": "2022-04-18T14:44:01.221Z"
   },
   {
    "duration": 12,
    "start_time": "2022-04-18T14:44:03.896Z"
   },
   {
    "duration": 5,
    "start_time": "2022-04-18T14:51:44.831Z"
   },
   {
    "duration": 18,
    "start_time": "2022-04-18T14:51:47.517Z"
   },
   {
    "duration": 15,
    "start_time": "2022-04-18T14:51:52.503Z"
   },
   {
    "duration": 12,
    "start_time": "2022-04-18T14:52:01.486Z"
   },
   {
    "duration": 176,
    "start_time": "2022-04-18T14:52:10.030Z"
   },
   {
    "duration": 12,
    "start_time": "2022-04-18T14:52:10.724Z"
   },
   {
    "duration": 29,
    "start_time": "2022-04-18T14:52:24.033Z"
   },
   {
    "duration": 116,
    "start_time": "2022-04-18T14:52:31.854Z"
   },
   {
    "duration": 11,
    "start_time": "2022-04-18T14:52:32.526Z"
   },
   {
    "duration": 16,
    "start_time": "2022-04-18T14:52:56.514Z"
   },
   {
    "duration": 11,
    "start_time": "2022-04-18T14:53:07.671Z"
   },
   {
    "duration": 8,
    "start_time": "2022-04-18T14:53:15.687Z"
   },
   {
    "duration": 7,
    "start_time": "2022-04-18T14:53:16.531Z"
   },
   {
    "duration": 11,
    "start_time": "2022-04-18T14:53:19.055Z"
   },
   {
    "duration": 7,
    "start_time": "2022-04-18T14:53:19.876Z"
   },
   {
    "duration": 11,
    "start_time": "2022-04-18T14:53:23.785Z"
   },
   {
    "duration": 28,
    "start_time": "2022-04-18T14:53:25.433Z"
   },
   {
    "duration": 8,
    "start_time": "2022-04-18T14:53:28.463Z"
   },
   {
    "duration": 92,
    "start_time": "2022-04-18T14:53:31.655Z"
   },
   {
    "duration": 63,
    "start_time": "2022-04-18T14:53:39.433Z"
   },
   {
    "duration": 7,
    "start_time": "2022-04-18T14:54:18.784Z"
   },
   {
    "duration": 47,
    "start_time": "2022-04-18T14:54:42.474Z"
   },
   {
    "duration": 47,
    "start_time": "2022-04-18T14:54:43.226Z"
   },
   {
    "duration": 7,
    "start_time": "2022-04-18T14:54:43.898Z"
   },
   {
    "duration": 30,
    "start_time": "2022-04-18T15:05:56.447Z"
   },
   {
    "duration": 38,
    "start_time": "2022-04-18T15:06:08.724Z"
   },
   {
    "duration": 17,
    "start_time": "2022-04-18T15:10:07.554Z"
   },
   {
    "duration": 122,
    "start_time": "2022-04-18T15:34:36.140Z"
   },
   {
    "duration": 39,
    "start_time": "2022-04-18T16:16:37.166Z"
   },
   {
    "duration": 15,
    "start_time": "2022-04-18T16:17:02.149Z"
   },
   {
    "duration": 94,
    "start_time": "2022-04-18T16:17:06.749Z"
   },
   {
    "duration": 13,
    "start_time": "2022-04-18T16:17:10.846Z"
   },
   {
    "duration": 19,
    "start_time": "2022-04-18T16:17:11.653Z"
   },
   {
    "duration": 724,
    "start_time": "2022-04-18T16:20:02.851Z"
   },
   {
    "duration": 77,
    "start_time": "2022-04-18T16:20:08.024Z"
   },
   {
    "duration": 13,
    "start_time": "2022-04-18T16:20:11.602Z"
   },
   {
    "duration": 13,
    "start_time": "2022-04-18T16:20:18.926Z"
   },
   {
    "duration": 34,
    "start_time": "2022-04-18T16:20:27.434Z"
   },
   {
    "duration": 43,
    "start_time": "2022-04-18T16:20:28.737Z"
   },
   {
    "duration": 5,
    "start_time": "2022-04-18T16:20:33.937Z"
   },
   {
    "duration": 19,
    "start_time": "2022-04-18T16:20:39.622Z"
   },
   {
    "duration": 29,
    "start_time": "2022-04-18T16:21:01.548Z"
   },
   {
    "duration": 26,
    "start_time": "2022-04-18T16:21:05.922Z"
   },
   {
    "duration": 15,
    "start_time": "2022-04-18T16:21:07.000Z"
   },
   {
    "duration": 5,
    "start_time": "2022-04-18T16:21:30.466Z"
   },
   {
    "duration": 11,
    "start_time": "2022-04-18T16:21:31.058Z"
   },
   {
    "duration": 20,
    "start_time": "2022-04-18T16:25:47.543Z"
   },
   {
    "duration": 26,
    "start_time": "2022-04-18T16:25:48.250Z"
   },
   {
    "duration": 26,
    "start_time": "2022-04-18T16:25:55.370Z"
   },
   {
    "duration": 7,
    "start_time": "2022-04-18T16:26:02.829Z"
   },
   {
    "duration": 18,
    "start_time": "2022-04-18T16:30:15.298Z"
   },
   {
    "duration": 42,
    "start_time": "2022-04-18T16:51:50.501Z"
   },
   {
    "duration": 38,
    "start_time": "2022-04-18T16:51:51.524Z"
   },
   {
    "duration": 6,
    "start_time": "2022-04-18T16:51:55.474Z"
   },
   {
    "duration": 14,
    "start_time": "2022-04-18T16:51:59.426Z"
   },
   {
    "duration": 28,
    "start_time": "2022-04-18T16:52:02.283Z"
   },
   {
    "duration": 22,
    "start_time": "2022-04-18T16:52:03.171Z"
   },
   {
    "duration": 13,
    "start_time": "2022-04-18T16:52:05.810Z"
   },
   {
    "duration": 5,
    "start_time": "2022-04-18T16:52:06.675Z"
   },
   {
    "duration": 11,
    "start_time": "2022-04-18T16:52:09.160Z"
   },
   {
    "duration": 21,
    "start_time": "2022-04-18T16:52:09.851Z"
   },
   {
    "duration": 25,
    "start_time": "2022-04-18T16:52:14.355Z"
   },
   {
    "duration": 35,
    "start_time": "2022-04-18T16:52:15.019Z"
   },
   {
    "duration": 8,
    "start_time": "2022-04-18T16:52:21.299Z"
   },
   {
    "duration": 4,
    "start_time": "2022-04-18T16:52:28.188Z"
   },
   {
    "duration": 20,
    "start_time": "2022-04-18T16:52:34.292Z"
   },
   {
    "duration": 48,
    "start_time": "2022-04-18T16:52:35.277Z"
   },
   {
    "duration": 8,
    "start_time": "2022-04-18T17:13:24.968Z"
   },
   {
    "duration": 281,
    "start_time": "2022-04-18T17:13:35.525Z"
   },
   {
    "duration": 7,
    "start_time": "2022-04-18T17:22:41.069Z"
   },
   {
    "duration": 7,
    "start_time": "2022-04-18T17:26:29.927Z"
   },
   {
    "duration": 6,
    "start_time": "2022-04-18T17:26:30.584Z"
   },
   {
    "duration": 29,
    "start_time": "2022-04-18T17:26:31.160Z"
   },
   {
    "duration": 7,
    "start_time": "2022-04-18T17:26:34.400Z"
   },
   {
    "duration": 11,
    "start_time": "2022-04-18T17:26:35.366Z"
   },
   {
    "duration": 6,
    "start_time": "2022-04-18T17:26:51.512Z"
   },
   {
    "duration": 4,
    "start_time": "2022-04-18T17:26:52.274Z"
   },
   {
    "duration": 30,
    "start_time": "2022-04-18T17:26:52.960Z"
   },
   {
    "duration": 6,
    "start_time": "2022-04-18T17:26:56.593Z"
   },
   {
    "duration": 11,
    "start_time": "2022-04-18T17:26:57.425Z"
   },
   {
    "duration": 460,
    "start_time": "2022-04-18T17:28:12.017Z"
   },
   {
    "duration": 444,
    "start_time": "2022-04-18T17:28:31.832Z"
   },
   {
    "duration": 330,
    "start_time": "2022-04-18T17:28:40.596Z"
   },
   {
    "duration": 426,
    "start_time": "2022-04-18T17:28:47.206Z"
   },
   {
    "duration": 305,
    "start_time": "2022-04-18T17:31:29.979Z"
   },
   {
    "duration": 453,
    "start_time": "2022-04-18T17:31:47.715Z"
   },
   {
    "duration": 118,
    "start_time": "2022-04-18T17:39:10.940Z"
   },
   {
    "duration": 670,
    "start_time": "2022-04-18T17:50:56.866Z"
   },
   {
    "duration": 187,
    "start_time": "2022-04-18T18:02:54.261Z"
   },
   {
    "duration": 531,
    "start_time": "2022-04-18T18:05:06.911Z"
   },
   {
    "duration": 467,
    "start_time": "2022-04-18T18:06:17.177Z"
   },
   {
    "duration": 625,
    "start_time": "2022-04-18T18:06:21.866Z"
   },
   {
    "duration": 619,
    "start_time": "2022-04-18T18:06:37.656Z"
   },
   {
    "duration": 530,
    "start_time": "2022-04-18T18:06:49.722Z"
   },
   {
    "duration": 546,
    "start_time": "2022-04-18T18:12:33.541Z"
   },
   {
    "duration": 18,
    "start_time": "2022-04-18T18:16:01.809Z"
   },
   {
    "duration": 26,
    "start_time": "2022-04-18T18:16:18.650Z"
   },
   {
    "duration": 343,
    "start_time": "2022-04-18T18:16:19.810Z"
   },
   {
    "duration": 265,
    "start_time": "2022-04-18T18:16:37.307Z"
   },
   {
    "duration": 512,
    "start_time": "2022-04-18T18:17:08.226Z"
   },
   {
    "duration": 870,
    "start_time": "2022-04-18T18:17:31.335Z"
   },
   {
    "duration": 498,
    "start_time": "2022-04-18T18:52:35.146Z"
   },
   {
    "duration": 493,
    "start_time": "2022-04-18T19:02:00.991Z"
   },
   {
    "duration": 473,
    "start_time": "2022-04-18T19:03:18.612Z"
   },
   {
    "duration": 528,
    "start_time": "2022-04-18T19:04:16.910Z"
   },
   {
    "duration": 20,
    "start_time": "2022-04-18T19:11:17.560Z"
   },
   {
    "duration": 289,
    "start_time": "2022-04-18T19:11:20.808Z"
   },
   {
    "duration": 489,
    "start_time": "2022-04-18T19:14:54.175Z"
   },
   {
    "duration": 666,
    "start_time": "2022-04-18T19:15:05.263Z"
   },
   {
    "duration": 452,
    "start_time": "2022-04-18T19:16:31.548Z"
   },
   {
    "duration": 600,
    "start_time": "2022-04-18T19:18:51.976Z"
   },
   {
    "duration": 607,
    "start_time": "2022-04-18T19:22:52.994Z"
   },
   {
    "duration": 415,
    "start_time": "2022-04-18T19:23:05.158Z"
   },
   {
    "duration": 410,
    "start_time": "2022-04-18T19:23:21.357Z"
   },
   {
    "duration": 17,
    "start_time": "2022-04-18T19:23:38.646Z"
   },
   {
    "duration": 20,
    "start_time": "2022-04-18T19:23:46.236Z"
   },
   {
    "duration": 426,
    "start_time": "2022-04-18T19:23:47.710Z"
   },
   {
    "duration": 1349,
    "start_time": "2022-04-19T05:33:16.572Z"
   },
   {
    "duration": 26,
    "start_time": "2022-04-19T05:33:18.029Z"
   },
   {
    "duration": 16,
    "start_time": "2022-04-19T05:33:18.662Z"
   },
   {
    "duration": 11,
    "start_time": "2022-04-19T05:33:22.560Z"
   },
   {
    "duration": 147,
    "start_time": "2022-04-19T05:33:23.711Z"
   },
   {
    "duration": 8,
    "start_time": "2022-04-19T05:33:26.294Z"
   },
   {
    "duration": 26,
    "start_time": "2022-04-19T05:33:26.931Z"
   },
   {
    "duration": 153,
    "start_time": "2022-04-19T05:33:30.031Z"
   },
   {
    "duration": 8,
    "start_time": "2022-04-19T05:33:30.582Z"
   },
   {
    "duration": 20,
    "start_time": "2022-04-19T05:33:31.143Z"
   },
   {
    "duration": 89,
    "start_time": "2022-04-19T05:33:34.431Z"
   },
   {
    "duration": 7,
    "start_time": "2022-04-19T05:33:35.007Z"
   },
   {
    "duration": 18,
    "start_time": "2022-04-19T05:33:37.680Z"
   },
   {
    "duration": 10,
    "start_time": "2022-04-19T05:33:38.782Z"
   },
   {
    "duration": 7,
    "start_time": "2022-04-19T05:33:41.298Z"
   },
   {
    "duration": 10,
    "start_time": "2022-04-19T05:33:41.866Z"
   },
   {
    "duration": 6,
    "start_time": "2022-04-19T05:33:49.337Z"
   },
   {
    "duration": 5,
    "start_time": "2022-04-19T05:33:50.008Z"
   },
   {
    "duration": 7,
    "start_time": "2022-04-19T05:33:52.415Z"
   },
   {
    "duration": 6,
    "start_time": "2022-04-19T05:33:53.359Z"
   },
   {
    "duration": 7,
    "start_time": "2022-04-19T05:33:57.385Z"
   },
   {
    "duration": 57,
    "start_time": "2022-04-19T05:33:58.105Z"
   },
   {
    "duration": 5,
    "start_time": "2022-04-19T05:34:01.251Z"
   },
   {
    "duration": 61,
    "start_time": "2022-04-19T05:34:02.017Z"
   },
   {
    "duration": 37,
    "start_time": "2022-04-19T05:34:02.696Z"
   },
   {
    "duration": 5,
    "start_time": "2022-04-19T05:34:07.461Z"
   },
   {
    "duration": 27,
    "start_time": "2022-04-19T05:34:39.689Z"
   },
   {
    "duration": 29,
    "start_time": "2022-04-19T05:34:41.580Z"
   },
   {
    "duration": 5,
    "start_time": "2022-04-19T05:34:42.921Z"
   },
   {
    "duration": 31,
    "start_time": "2022-04-19T05:34:45.025Z"
   },
   {
    "duration": 29,
    "start_time": "2022-04-19T05:34:49.923Z"
   },
   {
    "duration": 27,
    "start_time": "2022-04-19T05:34:50.810Z"
   },
   {
    "duration": 13,
    "start_time": "2022-04-19T05:34:53.787Z"
   },
   {
    "duration": 11,
    "start_time": "2022-04-19T05:35:09.810Z"
   },
   {
    "duration": 69,
    "start_time": "2022-04-19T05:35:30.866Z"
   },
   {
    "duration": 10,
    "start_time": "2022-04-19T05:35:31.675Z"
   },
   {
    "duration": 10,
    "start_time": "2022-04-19T05:35:36.475Z"
   },
   {
    "duration": 22,
    "start_time": "2022-04-19T05:35:42.764Z"
   },
   {
    "duration": 34,
    "start_time": "2022-04-19T05:35:43.459Z"
   },
   {
    "duration": 5,
    "start_time": "2022-04-19T05:37:16.007Z"
   },
   {
    "duration": 8,
    "start_time": "2022-04-19T05:37:21.128Z"
   },
   {
    "duration": 20,
    "start_time": "2022-04-19T05:37:27.645Z"
   },
   {
    "duration": 18,
    "start_time": "2022-04-19T05:37:28.503Z"
   },
   {
    "duration": 8,
    "start_time": "2022-04-19T05:37:31.902Z"
   },
   {
    "duration": 4,
    "start_time": "2022-04-19T05:37:36.127Z"
   },
   {
    "duration": 8,
    "start_time": "2022-04-19T05:37:36.893Z"
   },
   {
    "duration": 14,
    "start_time": "2022-04-19T05:38:16.735Z"
   },
   {
    "duration": 98,
    "start_time": "2022-04-19T05:38:17.319Z"
   },
   {
    "duration": 13,
    "start_time": "2022-04-19T05:38:17.865Z"
   },
   {
    "duration": 8,
    "start_time": "2022-04-19T05:38:27.564Z"
   },
   {
    "duration": 14,
    "start_time": "2022-04-19T05:38:28.279Z"
   },
   {
    "duration": 17,
    "start_time": "2022-04-19T05:38:33.840Z"
   },
   {
    "duration": 13,
    "start_time": "2022-04-19T05:39:20.384Z"
   },
   {
    "duration": 9,
    "start_time": "2022-04-19T05:39:21.200Z"
   },
   {
    "duration": 4,
    "start_time": "2022-04-19T05:39:22.280Z"
   },
   {
    "duration": 7,
    "start_time": "2022-04-19T05:39:24.720Z"
   },
   {
    "duration": 14,
    "start_time": "2022-04-19T05:39:26.737Z"
   },
   {
    "duration": 20,
    "start_time": "2022-04-19T05:39:32.849Z"
   },
   {
    "duration": 34,
    "start_time": "2022-04-19T05:42:17.943Z"
   },
   {
    "duration": 155,
    "start_time": "2022-04-19T05:42:34.415Z"
   },
   {
    "duration": 9,
    "start_time": "2022-04-19T05:42:35.061Z"
   },
   {
    "duration": 24,
    "start_time": "2022-04-19T05:42:40.525Z"
   },
   {
    "duration": 12,
    "start_time": "2022-04-19T05:42:52.807Z"
   },
   {
    "duration": 44,
    "start_time": "2022-04-19T05:43:11.262Z"
   },
   {
    "duration": 4,
    "start_time": "2022-04-19T05:43:12.003Z"
   },
   {
    "duration": 28,
    "start_time": "2022-04-19T05:43:16.480Z"
   },
   {
    "duration": 2,
    "start_time": "2022-04-19T05:43:28.287Z"
   },
   {
    "duration": 2,
    "start_time": "2022-04-19T05:43:29.343Z"
   },
   {
    "duration": 12,
    "start_time": "2022-04-19T05:43:38.807Z"
   },
   {
    "duration": 3,
    "start_time": "2022-04-19T05:45:16.610Z"
   },
   {
    "duration": 21,
    "start_time": "2022-04-19T05:45:21.010Z"
   },
   {
    "duration": 9,
    "start_time": "2022-04-19T05:45:21.706Z"
   },
   {
    "duration": 11,
    "start_time": "2022-04-19T05:45:22.641Z"
   },
   {
    "duration": 148,
    "start_time": "2022-04-19T05:45:26.282Z"
   },
   {
    "duration": 11,
    "start_time": "2022-04-19T05:45:27.087Z"
   },
   {
    "duration": 25,
    "start_time": "2022-04-19T05:45:40.914Z"
   },
   {
    "duration": 140,
    "start_time": "2022-04-19T05:45:46.563Z"
   },
   {
    "duration": 8,
    "start_time": "2022-04-19T05:45:47.205Z"
   },
   {
    "duration": 21,
    "start_time": "2022-04-19T05:45:47.939Z"
   },
   {
    "duration": 86,
    "start_time": "2022-04-19T05:45:55.210Z"
   },
   {
    "duration": 7,
    "start_time": "2022-04-19T05:45:55.811Z"
   },
   {
    "duration": 18,
    "start_time": "2022-04-19T05:45:58.805Z"
   },
   {
    "duration": 10,
    "start_time": "2022-04-19T05:46:00.220Z"
   },
   {
    "duration": 11,
    "start_time": "2022-04-19T05:46:00.867Z"
   },
   {
    "duration": 10,
    "start_time": "2022-04-19T05:46:05.075Z"
   },
   {
    "duration": 8,
    "start_time": "2022-04-19T05:46:15.524Z"
   },
   {
    "duration": 5,
    "start_time": "2022-04-19T05:46:16.477Z"
   },
   {
    "duration": 7,
    "start_time": "2022-04-19T05:46:17.483Z"
   },
   {
    "duration": 6,
    "start_time": "2022-04-19T05:46:24.284Z"
   },
   {
    "duration": 8,
    "start_time": "2022-04-19T05:46:36.196Z"
   },
   {
    "duration": 62,
    "start_time": "2022-04-19T05:46:36.924Z"
   },
   {
    "duration": 4,
    "start_time": "2022-04-19T05:46:38.244Z"
   },
   {
    "duration": 67,
    "start_time": "2022-04-19T05:46:41.773Z"
   },
   {
    "duration": 61,
    "start_time": "2022-04-19T05:46:49.710Z"
   },
   {
    "duration": 6,
    "start_time": "2022-04-19T05:46:57.130Z"
   },
   {
    "duration": 36,
    "start_time": "2022-04-19T05:47:02.046Z"
   },
   {
    "duration": 29,
    "start_time": "2022-04-19T05:47:05.484Z"
   },
   {
    "duration": 6,
    "start_time": "2022-04-19T05:47:07.812Z"
   },
   {
    "duration": 39,
    "start_time": "2022-04-19T05:47:15.022Z"
   },
   {
    "duration": 11,
    "start_time": "2022-04-19T05:48:00.439Z"
   },
   {
    "duration": 12,
    "start_time": "2022-04-19T05:48:55.873Z"
   },
   {
    "duration": 62,
    "start_time": "2022-04-19T05:50:17.282Z"
   },
   {
    "duration": 9,
    "start_time": "2022-04-19T05:50:36.483Z"
   },
   {
    "duration": 9,
    "start_time": "2022-04-19T05:51:51.572Z"
   },
   {
    "duration": 29,
    "start_time": "2022-04-19T05:53:37.648Z"
   },
   {
    "duration": 27,
    "start_time": "2022-04-19T05:53:38.401Z"
   },
   {
    "duration": 6,
    "start_time": "2022-04-19T05:53:47.775Z"
   },
   {
    "duration": 10,
    "start_time": "2022-04-19T05:53:51.575Z"
   },
   {
    "duration": 19,
    "start_time": "2022-04-19T05:53:54.820Z"
   },
   {
    "duration": 14,
    "start_time": "2022-04-19T05:53:55.713Z"
   },
   {
    "duration": 10,
    "start_time": "2022-04-19T05:54:00.260Z"
   },
   {
    "duration": 5,
    "start_time": "2022-04-19T05:54:01.761Z"
   },
   {
    "duration": 8,
    "start_time": "2022-04-19T05:54:04.670Z"
   },
   {
    "duration": 13,
    "start_time": "2022-04-19T05:54:05.800Z"
   },
   {
    "duration": 24,
    "start_time": "2022-04-19T05:54:08.545Z"
   },
   {
    "duration": 11,
    "start_time": "2022-04-19T05:57:54.976Z"
   },
   {
    "duration": 11,
    "start_time": "2022-04-19T05:59:27.576Z"
   },
   {
    "duration": 11,
    "start_time": "2022-04-19T06:02:15.773Z"
   },
   {
    "duration": 21,
    "start_time": "2022-04-19T06:03:18.943Z"
   },
   {
    "duration": 4,
    "start_time": "2022-04-19T06:03:51.210Z"
   },
   {
    "duration": 9,
    "start_time": "2022-04-19T06:03:58.833Z"
   },
   {
    "duration": 21,
    "start_time": "2022-04-19T06:04:01.800Z"
   },
   {
    "duration": 4,
    "start_time": "2022-04-19T06:04:39.187Z"
   },
   {
    "duration": 100,
    "start_time": "2022-04-19T06:04:41.833Z"
   },
   {
    "duration": 4,
    "start_time": "2022-04-19T06:04:44.970Z"
   },
   {
    "duration": 5,
    "start_time": "2022-04-19T06:04:52.193Z"
   },
   {
    "duration": 4,
    "start_time": "2022-04-19T06:05:13.210Z"
   },
   {
    "duration": 4,
    "start_time": "2022-04-19T06:06:21.932Z"
   },
   {
    "duration": 4,
    "start_time": "2022-04-19T06:06:28.816Z"
   },
   {
    "duration": 105,
    "start_time": "2022-04-19T06:06:30.861Z"
   },
   {
    "duration": 5,
    "start_time": "2022-04-19T06:07:00.125Z"
   },
   {
    "duration": 5,
    "start_time": "2022-04-19T06:09:45.959Z"
   },
   {
    "duration": 5,
    "start_time": "2022-04-19T06:11:30.508Z"
   },
   {
    "duration": 5,
    "start_time": "2022-04-19T06:13:02.662Z"
   },
   {
    "duration": 4,
    "start_time": "2022-04-19T06:13:04.176Z"
   },
   {
    "duration": 4,
    "start_time": "2022-04-19T06:14:48.706Z"
   },
   {
    "duration": 5,
    "start_time": "2022-04-19T06:14:49.807Z"
   },
   {
    "duration": 107,
    "start_time": "2022-04-19T06:15:06.089Z"
   },
   {
    "duration": 5,
    "start_time": "2022-04-19T06:15:11.692Z"
   },
   {
    "duration": 4,
    "start_time": "2022-04-19T06:16:15.579Z"
   },
   {
    "duration": 5,
    "start_time": "2022-04-19T06:16:16.730Z"
   },
   {
    "duration": 3,
    "start_time": "2022-04-19T06:16:32.693Z"
   },
   {
    "duration": 5,
    "start_time": "2022-04-19T06:16:33.490Z"
   },
   {
    "duration": 4,
    "start_time": "2022-04-19T06:16:41.084Z"
   },
   {
    "duration": 4,
    "start_time": "2022-04-19T06:16:41.769Z"
   },
   {
    "duration": 97,
    "start_time": "2022-04-19T06:17:23.961Z"
   },
   {
    "duration": 4,
    "start_time": "2022-04-19T06:17:34.565Z"
   },
   {
    "duration": 4,
    "start_time": "2022-04-19T06:17:35.263Z"
   },
   {
    "duration": 17,
    "start_time": "2022-04-19T06:17:35.900Z"
   },
   {
    "duration": 5,
    "start_time": "2022-04-19T06:17:38.720Z"
   },
   {
    "duration": 7,
    "start_time": "2022-04-19T06:17:39.453Z"
   },
   {
    "duration": 4,
    "start_time": "2022-04-19T06:17:40.421Z"
   },
   {
    "duration": 4,
    "start_time": "2022-04-19T06:17:41.148Z"
   },
   {
    "duration": 17,
    "start_time": "2022-04-19T06:17:41.797Z"
   },
   {
    "duration": 4,
    "start_time": "2022-04-19T06:17:44.640Z"
   },
   {
    "duration": 7,
    "start_time": "2022-04-19T06:17:45.317Z"
   },
   {
    "duration": 10,
    "start_time": "2022-04-19T06:17:50.746Z"
   },
   {
    "duration": 8,
    "start_time": "2022-04-19T06:17:51.370Z"
   },
   {
    "duration": 294,
    "start_time": "2022-04-19T06:20:21.087Z"
   },
   {
    "duration": 121,
    "start_time": "2022-04-19T06:21:17.396Z"
   },
   {
    "duration": 119,
    "start_time": "2022-04-19T06:22:29.486Z"
   },
   {
    "duration": 139,
    "start_time": "2022-04-19T06:22:54.885Z"
   },
   {
    "duration": 294,
    "start_time": "2022-04-19T06:26:26.692Z"
   },
   {
    "duration": 12,
    "start_time": "2022-04-19T06:28:15.407Z"
   },
   {
    "duration": 301,
    "start_time": "2022-04-19T06:28:29.711Z"
   },
   {
    "duration": 308,
    "start_time": "2022-04-19T06:29:46.484Z"
   },
   {
    "duration": 372,
    "start_time": "2022-04-19T06:30:48.437Z"
   },
   {
    "duration": 259,
    "start_time": "2022-04-19T06:32:26.639Z"
   },
   {
    "duration": 265,
    "start_time": "2022-04-19T06:33:24.545Z"
   },
   {
    "duration": 212,
    "start_time": "2022-04-19T06:34:22.106Z"
   },
   {
    "duration": 250,
    "start_time": "2022-04-19T06:35:02.627Z"
   },
   {
    "duration": 13,
    "start_time": "2022-04-19T06:35:22.106Z"
   },
   {
    "duration": 141,
    "start_time": "2022-04-19T06:35:23.160Z"
   },
   {
    "duration": 13,
    "start_time": "2022-04-19T06:35:42.393Z"
   },
   {
    "duration": 140,
    "start_time": "2022-04-19T06:35:44.099Z"
   },
   {
    "duration": 12,
    "start_time": "2022-04-19T06:36:14.959Z"
   },
   {
    "duration": 250,
    "start_time": "2022-04-19T06:36:15.893Z"
   },
   {
    "duration": 5,
    "start_time": "2022-04-19T06:40:43.019Z"
   },
   {
    "duration": 117,
    "start_time": "2022-04-19T06:40:44.717Z"
   },
   {
    "duration": 5,
    "start_time": "2022-04-19T06:41:52.362Z"
   },
   {
    "duration": 5,
    "start_time": "2022-04-19T06:42:33.398Z"
   },
   {
    "duration": 8,
    "start_time": "2022-04-19T07:00:24.187Z"
   },
   {
    "duration": 4,
    "start_time": "2022-04-19T07:00:30.529Z"
   },
   {
    "duration": 3,
    "start_time": "2022-04-19T07:00:51.019Z"
   },
   {
    "duration": 3,
    "start_time": "2022-04-19T07:01:36.683Z"
   },
   {
    "duration": 4,
    "start_time": "2022-04-19T07:08:06.100Z"
   },
   {
    "duration": 3,
    "start_time": "2022-04-19T07:08:06.725Z"
   },
   {
    "duration": 18,
    "start_time": "2022-04-19T07:08:07.645Z"
   },
   {
    "duration": 12,
    "start_time": "2022-04-19T07:08:16.388Z"
   },
   {
    "duration": 4,
    "start_time": "2022-04-19T07:08:29.061Z"
   },
   {
    "duration": 4,
    "start_time": "2022-04-19T07:08:29.932Z"
   },
   {
    "duration": 18,
    "start_time": "2022-04-19T07:08:30.741Z"
   },
   {
    "duration": 11,
    "start_time": "2022-04-19T07:08:33.677Z"
   },
   {
    "duration": 4,
    "start_time": "2022-04-19T07:09:08.894Z"
   },
   {
    "duration": 16,
    "start_time": "2022-04-19T07:09:09.735Z"
   },
   {
    "duration": 3,
    "start_time": "2022-04-19T07:09:15.614Z"
   },
   {
    "duration": 4,
    "start_time": "2022-04-19T07:09:16.382Z"
   },
   {
    "duration": 5,
    "start_time": "2022-04-19T07:10:09.024Z"
   },
   {
    "duration": 2,
    "start_time": "2022-04-19T07:10:13.504Z"
   },
   {
    "duration": 4,
    "start_time": "2022-04-19T07:10:14.295Z"
   },
   {
    "duration": 3,
    "start_time": "2022-04-19T07:10:15.062Z"
   },
   {
    "duration": 3,
    "start_time": "2022-04-19T07:10:25.376Z"
   },
   {
    "duration": 4,
    "start_time": "2022-04-19T07:10:37.008Z"
   },
   {
    "duration": 119,
    "start_time": "2022-04-19T07:24:06.070Z"
   },
   {
    "duration": 12,
    "start_time": "2022-04-19T07:24:55.315Z"
   },
   {
    "duration": 5,
    "start_time": "2022-04-19T07:26:24.164Z"
   },
   {
    "duration": 19,
    "start_time": "2022-04-19T07:41:50.212Z"
   },
   {
    "duration": 22,
    "start_time": "2022-04-19T08:40:27.482Z"
   },
   {
    "duration": 1328,
    "start_time": "2022-04-19T11:35:12.736Z"
   },
   {
    "duration": 41,
    "start_time": "2022-04-19T11:35:14.066Z"
   },
   {
    "duration": 13,
    "start_time": "2022-04-19T11:35:14.108Z"
   },
   {
    "duration": 10,
    "start_time": "2022-04-19T11:35:14.123Z"
   },
   {
    "duration": 157,
    "start_time": "2022-04-19T11:35:14.135Z"
   },
   {
    "duration": 8,
    "start_time": "2022-04-19T11:35:14.294Z"
   },
   {
    "duration": 24,
    "start_time": "2022-04-19T11:35:14.304Z"
   },
   {
    "duration": 168,
    "start_time": "2022-04-19T11:35:14.330Z"
   },
   {
    "duration": 9,
    "start_time": "2022-04-19T11:35:14.499Z"
   },
   {
    "duration": 23,
    "start_time": "2022-04-19T11:35:14.512Z"
   },
   {
    "duration": 94,
    "start_time": "2022-04-19T11:35:14.549Z"
   },
   {
    "duration": 13,
    "start_time": "2022-04-19T11:35:14.645Z"
   },
   {
    "duration": 25,
    "start_time": "2022-04-19T11:35:14.660Z"
   },
   {
    "duration": 9,
    "start_time": "2022-04-19T11:35:14.687Z"
   },
   {
    "duration": 9,
    "start_time": "2022-04-19T11:35:14.698Z"
   },
   {
    "duration": 12,
    "start_time": "2022-04-19T11:35:14.709Z"
   },
   {
    "duration": 36,
    "start_time": "2022-04-19T11:35:14.723Z"
   },
   {
    "duration": 10,
    "start_time": "2022-04-19T11:35:14.762Z"
   },
   {
    "duration": 8,
    "start_time": "2022-04-19T11:35:14.774Z"
   },
   {
    "duration": 6,
    "start_time": "2022-04-19T11:35:14.784Z"
   },
   {
    "duration": 7,
    "start_time": "2022-04-19T11:35:14.792Z"
   },
   {
    "duration": 98,
    "start_time": "2022-04-19T11:35:14.801Z"
   },
   {
    "duration": 5,
    "start_time": "2022-04-19T11:35:14.901Z"
   },
   {
    "duration": 78,
    "start_time": "2022-04-19T11:35:14.908Z"
   },
   {
    "duration": 38,
    "start_time": "2022-04-19T11:35:14.988Z"
   },
   {
    "duration": 6,
    "start_time": "2022-04-19T11:35:15.027Z"
   },
   {
    "duration": 55,
    "start_time": "2022-04-19T11:35:15.034Z"
   },
   {
    "duration": 29,
    "start_time": "2022-04-19T11:35:15.095Z"
   },
   {
    "duration": 5,
    "start_time": "2022-04-19T11:35:15.126Z"
   },
   {
    "duration": 38,
    "start_time": "2022-04-19T11:35:15.148Z"
   },
   {
    "duration": 26,
    "start_time": "2022-04-19T11:35:15.187Z"
   },
   {
    "duration": 2,
    "start_time": "2022-04-19T11:35:15.215Z"
   },
   {
    "duration": 16,
    "start_time": "2022-04-19T11:35:15.219Z"
   },
   {
    "duration": 27,
    "start_time": "2022-04-19T11:35:15.237Z"
   },
   {
    "duration": 67,
    "start_time": "2022-04-19T11:35:15.265Z"
   },
   {
    "duration": 26,
    "start_time": "2022-04-19T11:35:15.334Z"
   },
   {
    "duration": 13,
    "start_time": "2022-04-19T11:35:15.362Z"
   },
   {
    "duration": 23,
    "start_time": "2022-04-19T11:35:15.377Z"
   },
   {
    "duration": 62,
    "start_time": "2022-04-19T11:35:15.402Z"
   },
   {
    "duration": 4,
    "start_time": "2022-04-19T11:35:15.466Z"
   },
   {
    "duration": 12,
    "start_time": "2022-04-19T11:35:15.472Z"
   },
   {
    "duration": 20,
    "start_time": "2022-04-19T11:35:15.486Z"
   },
   {
    "duration": 43,
    "start_time": "2022-04-19T11:35:15.508Z"
   },
   {
    "duration": 13,
    "start_time": "2022-04-19T11:35:15.555Z"
   },
   {
    "duration": 5,
    "start_time": "2022-04-19T11:35:15.570Z"
   },
   {
    "duration": 9,
    "start_time": "2022-04-19T11:35:15.577Z"
   },
   {
    "duration": 14,
    "start_time": "2022-04-19T11:35:15.588Z"
   },
   {
    "duration": 62,
    "start_time": "2022-04-19T11:35:15.604Z"
   },
   {
    "duration": 16,
    "start_time": "2022-04-19T11:35:15.668Z"
   },
   {
    "duration": 10,
    "start_time": "2022-04-19T11:35:15.685Z"
   },
   {
    "duration": 23,
    "start_time": "2022-04-19T11:35:15.696Z"
   },
   {
    "duration": 30,
    "start_time": "2022-04-19T11:35:15.721Z"
   },
   {
    "duration": 14,
    "start_time": "2022-04-19T11:35:15.756Z"
   },
   {
    "duration": 8,
    "start_time": "2022-04-19T11:35:15.772Z"
   },
   {
    "duration": 121,
    "start_time": "2022-04-19T11:35:15.781Z"
   },
   {
    "duration": 4,
    "start_time": "2022-04-19T11:35:15.904Z"
   },
   {
    "duration": 5,
    "start_time": "2022-04-19T11:35:15.910Z"
   },
   {
    "duration": 33,
    "start_time": "2022-04-19T11:35:15.917Z"
   },
   {
    "duration": 18,
    "start_time": "2022-04-19T11:35:15.952Z"
   },
   {
    "duration": 9,
    "start_time": "2022-04-19T11:35:15.972Z"
   },
   {
    "duration": 4,
    "start_time": "2022-04-19T11:35:15.983Z"
   },
   {
    "duration": 5,
    "start_time": "2022-04-19T11:35:15.989Z"
   },
   {
    "duration": 19,
    "start_time": "2022-04-19T11:35:15.995Z"
   },
   {
    "duration": 4,
    "start_time": "2022-04-19T11:35:16.016Z"
   },
   {
    "duration": 34,
    "start_time": "2022-04-19T11:35:16.021Z"
   },
   {
    "duration": 22,
    "start_time": "2022-04-19T11:35:16.057Z"
   },
   {
    "duration": 8,
    "start_time": "2022-04-19T11:35:16.080Z"
   },
   {
    "duration": 333,
    "start_time": "2022-04-19T11:35:16.089Z"
   },
   {
    "duration": 297,
    "start_time": "2022-04-19T11:35:16.423Z"
   },
   {
    "duration": 14,
    "start_time": "2022-04-19T11:35:16.721Z"
   },
   {
    "duration": 159,
    "start_time": "2022-04-19T11:35:16.747Z"
   },
   {
    "duration": 8,
    "start_time": "2022-04-19T11:35:16.909Z"
   },
   {
    "duration": 7,
    "start_time": "2022-04-19T11:35:16.919Z"
   },
   {
    "duration": 300,
    "start_time": "2022-04-19T11:35:16.927Z"
   },
   {
    "duration": 286,
    "start_time": "2022-04-19T11:35:17.229Z"
   },
   {
    "duration": 13,
    "start_time": "2022-04-19T11:35:17.516Z"
   },
   {
    "duration": 242,
    "start_time": "2022-04-19T11:35:17.531Z"
   },
   {
    "duration": 8,
    "start_time": "2022-04-19T11:35:17.775Z"
   },
   {
    "duration": 7,
    "start_time": "2022-04-19T11:35:17.784Z"
   },
   {
    "duration": 3,
    "start_time": "2022-04-19T11:35:17.792Z"
   },
   {
    "duration": 252,
    "start_time": "2022-04-19T11:35:17.796Z"
   },
   {
    "duration": 246,
    "start_time": "2022-04-19T11:35:18.058Z"
   },
   {
    "duration": 15,
    "start_time": "2022-04-19T11:35:18.307Z"
   },
   {
    "duration": 180,
    "start_time": "2022-04-19T11:35:18.323Z"
   },
   {
    "duration": 5,
    "start_time": "2022-04-19T11:35:18.505Z"
   },
   {
    "duration": 7,
    "start_time": "2022-04-19T11:35:18.512Z"
   },
   {
    "duration": 10,
    "start_time": "2022-04-19T11:35:18.521Z"
   },
   {
    "duration": 19,
    "start_time": "2022-04-19T11:35:18.532Z"
   },
   {
    "duration": 12,
    "start_time": "2022-04-19T11:35:18.555Z"
   },
   {
    "duration": 7,
    "start_time": "2022-04-19T11:35:18.568Z"
   },
   {
    "duration": 7,
    "start_time": "2022-04-19T11:35:18.576Z"
   },
   {
    "duration": 7,
    "start_time": "2022-04-19T11:35:18.584Z"
   },
   {
    "duration": 20,
    "start_time": "2022-04-19T11:35:18.593Z"
   },
   {
    "duration": 11,
    "start_time": "2022-04-19T11:35:18.615Z"
   },
   {
    "duration": 24,
    "start_time": "2022-04-19T11:35:18.627Z"
   },
   {
    "duration": 12,
    "start_time": "2022-04-19T11:35:18.653Z"
   },
   {
    "duration": 19,
    "start_time": "2022-04-19T11:35:18.667Z"
   },
   {
    "duration": 11,
    "start_time": "2022-04-19T11:35:18.688Z"
   },
   {
    "duration": 8,
    "start_time": "2022-04-19T11:35:18.701Z"
   },
   {
    "duration": 7,
    "start_time": "2022-04-19T11:35:18.711Z"
   },
   {
    "duration": 9,
    "start_time": "2022-04-19T11:35:18.750Z"
   },
   {
    "duration": 23,
    "start_time": "2022-04-19T11:35:18.761Z"
   },
   {
    "duration": 4,
    "start_time": "2022-04-19T11:35:18.785Z"
   },
   {
    "duration": 7,
    "start_time": "2022-04-19T11:35:18.791Z"
   },
   {
    "duration": 6,
    "start_time": "2022-04-19T11:35:18.799Z"
   },
   {
    "duration": 6,
    "start_time": "2022-04-19T11:35:18.807Z"
   },
   {
    "duration": 4,
    "start_time": "2022-04-19T11:35:18.814Z"
   },
   {
    "duration": 46,
    "start_time": "2022-04-19T11:35:18.819Z"
   },
   {
    "duration": 7,
    "start_time": "2022-04-19T11:35:18.866Z"
   },
   {
    "duration": 3,
    "start_time": "2022-04-19T11:35:18.875Z"
   },
   {
    "duration": 5,
    "start_time": "2022-04-19T11:35:18.880Z"
   },
   {
    "duration": 1426,
    "start_time": "2022-04-19T13:37:37.473Z"
   },
   {
    "duration": 19,
    "start_time": "2022-04-19T13:37:38.902Z"
   },
   {
    "duration": 28,
    "start_time": "2022-04-19T13:37:38.924Z"
   },
   {
    "duration": 17,
    "start_time": "2022-04-19T13:37:38.955Z"
   },
   {
    "duration": 220,
    "start_time": "2022-04-19T13:37:38.974Z"
   },
   {
    "duration": 13,
    "start_time": "2022-04-19T13:37:39.196Z"
   },
   {
    "duration": 54,
    "start_time": "2022-04-19T13:37:39.211Z"
   },
   {
    "duration": 285,
    "start_time": "2022-04-19T13:37:39.267Z"
   },
   {
    "duration": 13,
    "start_time": "2022-04-19T13:37:39.555Z"
   },
   {
    "duration": 45,
    "start_time": "2022-04-19T13:37:39.572Z"
   },
   {
    "duration": 120,
    "start_time": "2022-04-19T13:37:39.620Z"
   },
   {
    "duration": 16,
    "start_time": "2022-04-19T13:37:39.743Z"
   },
   {
    "duration": 39,
    "start_time": "2022-04-19T13:37:39.761Z"
   },
   {
    "duration": 17,
    "start_time": "2022-04-19T13:37:39.802Z"
   },
   {
    "duration": 23,
    "start_time": "2022-04-19T13:37:39.821Z"
   },
   {
    "duration": 44,
    "start_time": "2022-04-19T13:37:39.846Z"
   },
   {
    "duration": 32,
    "start_time": "2022-04-19T13:37:39.893Z"
   },
   {
    "duration": 56,
    "start_time": "2022-04-19T13:37:39.927Z"
   },
   {
    "duration": 44,
    "start_time": "2022-04-19T13:37:39.985Z"
   },
   {
    "duration": 26,
    "start_time": "2022-04-19T13:37:40.031Z"
   },
   {
    "duration": 34,
    "start_time": "2022-04-19T13:37:40.059Z"
   },
   {
    "duration": 97,
    "start_time": "2022-04-19T13:37:40.096Z"
   },
   {
    "duration": 7,
    "start_time": "2022-04-19T13:37:40.196Z"
   },
   {
    "duration": 103,
    "start_time": "2022-04-19T13:37:40.205Z"
   },
   {
    "duration": 62,
    "start_time": "2022-04-19T13:37:40.311Z"
   },
   {
    "duration": 8,
    "start_time": "2022-04-19T13:37:40.375Z"
   },
   {
    "duration": 88,
    "start_time": "2022-04-19T13:37:40.385Z"
   },
   {
    "duration": 50,
    "start_time": "2022-04-19T13:37:40.482Z"
   },
   {
    "duration": 25,
    "start_time": "2022-04-19T13:37:40.534Z"
   },
   {
    "duration": 65,
    "start_time": "2022-04-19T13:37:40.562Z"
   },
   {
    "duration": 40,
    "start_time": "2022-04-19T13:37:40.629Z"
   },
   {
    "duration": 4,
    "start_time": "2022-04-19T13:37:40.671Z"
   },
   {
    "duration": 30,
    "start_time": "2022-04-19T13:37:40.677Z"
   },
   {
    "duration": 45,
    "start_time": "2022-04-19T13:37:40.710Z"
   },
   {
    "duration": 116,
    "start_time": "2022-04-19T13:37:40.757Z"
   },
   {
    "duration": 13,
    "start_time": "2022-04-19T13:37:40.875Z"
   },
   {
    "duration": 41,
    "start_time": "2022-04-19T13:37:40.890Z"
   },
   {
    "duration": 77,
    "start_time": "2022-04-19T13:37:40.933Z"
   },
   {
    "duration": 48,
    "start_time": "2022-04-19T13:37:41.012Z"
   },
   {
    "duration": 6,
    "start_time": "2022-04-19T13:37:41.063Z"
   },
   {
    "duration": 37,
    "start_time": "2022-04-19T13:37:41.072Z"
   },
   {
    "duration": 52,
    "start_time": "2022-04-19T13:37:41.111Z"
   },
   {
    "duration": 30,
    "start_time": "2022-04-19T13:37:41.166Z"
   },
   {
    "duration": 17,
    "start_time": "2022-04-19T13:37:41.199Z"
   },
   {
    "duration": 10,
    "start_time": "2022-04-19T13:37:41.218Z"
   },
   {
    "duration": 36,
    "start_time": "2022-04-19T13:37:41.252Z"
   },
   {
    "duration": 30,
    "start_time": "2022-04-19T13:37:41.290Z"
   },
   {
    "duration": 30,
    "start_time": "2022-04-19T13:37:41.322Z"
   },
   {
    "duration": 28,
    "start_time": "2022-04-19T13:37:41.354Z"
   },
   {
    "duration": 19,
    "start_time": "2022-04-19T13:37:41.384Z"
   },
   {
    "duration": 63,
    "start_time": "2022-04-19T13:37:41.405Z"
   },
   {
    "duration": 3,
    "start_time": "2022-04-19T13:37:41.470Z"
   },
   {
    "duration": 18,
    "start_time": "2022-04-19T13:37:41.475Z"
   },
   {
    "duration": 22,
    "start_time": "2022-04-19T13:37:41.495Z"
   },
   {
    "duration": 236,
    "start_time": "2022-04-19T13:37:41.519Z"
   },
   {
    "duration": 9,
    "start_time": "2022-04-19T13:37:41.757Z"
   },
   {
    "duration": 30,
    "start_time": "2022-04-19T13:37:41.769Z"
   },
   {
    "duration": 38,
    "start_time": "2022-04-19T13:37:41.801Z"
   },
   {
    "duration": 16,
    "start_time": "2022-04-19T13:37:41.841Z"
   },
   {
    "duration": 15,
    "start_time": "2022-04-19T13:37:41.860Z"
   },
   {
    "duration": 7,
    "start_time": "2022-04-19T13:37:41.877Z"
   },
   {
    "duration": 8,
    "start_time": "2022-04-19T13:37:41.886Z"
   },
   {
    "duration": 38,
    "start_time": "2022-04-19T13:37:41.896Z"
   },
   {
    "duration": 11,
    "start_time": "2022-04-19T13:37:41.952Z"
   },
   {
    "duration": 12,
    "start_time": "2022-04-19T13:37:41.965Z"
   },
   {
    "duration": 13,
    "start_time": "2022-04-19T13:37:41.980Z"
   },
   {
    "duration": 11,
    "start_time": "2022-04-19T13:37:41.997Z"
   },
   {
    "duration": 617,
    "start_time": "2022-04-19T13:37:42.010Z"
   },
   {
    "duration": 561,
    "start_time": "2022-04-19T13:37:42.629Z"
   },
   {
    "duration": 25,
    "start_time": "2022-04-19T13:37:43.193Z"
   },
   {
    "duration": 281,
    "start_time": "2022-04-19T13:37:43.221Z"
   },
   {
    "duration": 13,
    "start_time": "2022-04-19T13:37:43.504Z"
   },
   {
    "duration": 31,
    "start_time": "2022-04-19T13:37:43.520Z"
   },
   {
    "duration": 491,
    "start_time": "2022-04-19T13:37:43.553Z"
   },
   {
    "duration": 508,
    "start_time": "2022-04-19T13:37:44.046Z"
   },
   {
    "duration": 20,
    "start_time": "2022-04-19T13:37:44.556Z"
   },
   {
    "duration": 354,
    "start_time": "2022-04-19T13:37:44.579Z"
   },
   {
    "duration": 18,
    "start_time": "2022-04-19T13:37:44.936Z"
   },
   {
    "duration": 13,
    "start_time": "2022-04-19T13:37:44.957Z"
   },
   {
    "duration": 9,
    "start_time": "2022-04-19T13:37:44.973Z"
   },
   {
    "duration": 423,
    "start_time": "2022-04-19T13:37:44.984Z"
   },
   {
    "duration": 447,
    "start_time": "2022-04-19T13:37:45.416Z"
   },
   {
    "duration": 20,
    "start_time": "2022-04-19T13:37:45.865Z"
   },
   {
    "duration": 311,
    "start_time": "2022-04-19T13:37:45.887Z"
   },
   {
    "duration": 6,
    "start_time": "2022-04-19T13:37:46.201Z"
   },
   {
    "duration": 13,
    "start_time": "2022-04-19T13:37:46.210Z"
   },
   {
    "duration": 28,
    "start_time": "2022-04-19T13:37:46.225Z"
   },
   {
    "duration": 10,
    "start_time": "2022-04-19T13:37:46.256Z"
   },
   {
    "duration": 7,
    "start_time": "2022-04-19T13:37:46.268Z"
   },
   {
    "duration": 10,
    "start_time": "2022-04-19T13:37:46.277Z"
   },
   {
    "duration": 5,
    "start_time": "2022-04-19T13:37:46.290Z"
   },
   {
    "duration": 14,
    "start_time": "2022-04-19T13:37:46.297Z"
   },
   {
    "duration": 71,
    "start_time": "2022-04-19T13:37:46.313Z"
   },
   {
    "duration": 19,
    "start_time": "2022-04-19T13:37:46.386Z"
   },
   {
    "duration": 19,
    "start_time": "2022-04-19T13:37:46.407Z"
   },
   {
    "duration": 29,
    "start_time": "2022-04-19T13:37:46.429Z"
   },
   {
    "duration": 39,
    "start_time": "2022-04-19T13:37:46.461Z"
   },
   {
    "duration": 18,
    "start_time": "2022-04-19T13:37:46.502Z"
   },
   {
    "duration": 29,
    "start_time": "2022-04-19T13:37:46.523Z"
   },
   {
    "duration": 15,
    "start_time": "2022-04-19T13:37:46.555Z"
   },
   {
    "duration": 8,
    "start_time": "2022-04-19T13:37:46.572Z"
   },
   {
    "duration": 70,
    "start_time": "2022-04-19T13:37:46.582Z"
   },
   {
    "duration": 5,
    "start_time": "2022-04-19T13:37:46.655Z"
   },
   {
    "duration": 10,
    "start_time": "2022-04-19T13:37:46.663Z"
   },
   {
    "duration": 8,
    "start_time": "2022-04-19T13:37:46.675Z"
   },
   {
    "duration": 10,
    "start_time": "2022-04-19T13:37:46.685Z"
   },
   {
    "duration": 10,
    "start_time": "2022-04-19T13:37:46.697Z"
   },
   {
    "duration": 47,
    "start_time": "2022-04-19T13:37:46.709Z"
   },
   {
    "duration": 7,
    "start_time": "2022-04-19T13:37:46.758Z"
   },
   {
    "duration": 10,
    "start_time": "2022-04-19T13:37:46.767Z"
   },
   {
    "duration": 10,
    "start_time": "2022-04-19T13:37:46.779Z"
   }
  ],
  "kernelspec": {
   "display_name": "Python 3 (ipykernel)",
   "language": "python",
   "name": "python3"
  },
  "language_info": {
   "codemirror_mode": {
    "name": "ipython",
    "version": 3
   },
   "file_extension": ".py",
   "mimetype": "text/x-python",
   "name": "python",
   "nbconvert_exporter": "python",
   "pygments_lexer": "ipython3",
   "version": "3.9.7"
  },
  "toc": {
   "base_numbering": 1,
   "nav_menu": {
    "height": "197px",
    "width": "321px"
   },
   "number_sections": true,
   "sideBar": true,
   "skip_h1_title": true,
   "title_cell": "Содержание",
   "title_sidebar": "Contents",
   "toc_cell": true,
   "toc_position": {},
   "toc_section_display": true,
   "toc_window_display": true
  }
 },
 "nbformat": 4,
 "nbformat_minor": 5
}
