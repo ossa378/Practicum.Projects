{
 "cells": [
  {
   "cell_type": "markdown",
   "metadata": {
    "toc": true
   },
   "source": [
    "<h1>Содержание<span class=\"tocSkip\"></span></h1>\n",
    "<div class=\"toc\"><ul class=\"toc-item\"><li><span><a href=\"#Изучение-данных-из-файла\" data-toc-modified-id=\"Изучение-данных-из-файла-1\"><span class=\"toc-item-num\">1&nbsp;&nbsp;</span>Изучение данных из файла</a></span><ul class=\"toc-item\"><li><span><a href=\"#Вывод\" data-toc-modified-id=\"Вывод-1.1\"><span class=\"toc-item-num\">1.1&nbsp;&nbsp;</span>Вывод</a></span></li></ul></li><li><span><a href=\"#Предобработка-данных\" data-toc-modified-id=\"Предобработка-данных-2\"><span class=\"toc-item-num\">2&nbsp;&nbsp;</span>Предобработка данных</a></span></li><li><span><a href=\"#Расчёты-и-добавление-результатов-в-таблицу\" data-toc-modified-id=\"Расчёты-и-добавление-результатов-в-таблицу-3\"><span class=\"toc-item-num\">3&nbsp;&nbsp;</span>Расчёты и добавление результатов в таблицу</a></span></li><li><span><a href=\"#Исследовательский-анализ-данных\" data-toc-modified-id=\"Исследовательский-анализ-данных-4\"><span class=\"toc-item-num\">4&nbsp;&nbsp;</span>Исследовательский анализ данных</a></span></li><li><span><a href=\"#Общий-вывод\" data-toc-modified-id=\"Общий-вывод-5\"><span class=\"toc-item-num\">5&nbsp;&nbsp;</span>Общий вывод</a></span></li>"
   ]
  },
  {
   "cell_type": "markdown",
   "metadata": {},
   "source": [
    "# Анализ рынка жилой недвижимости в Санкт-Петербурге"
   ]
  },
  {
   "cell_type": "markdown",
   "metadata": {},
   "source": [
    "***Рынок недвижемости огромный. Одна из характеристик огромное количество информации.***\n",
    "\n",
    "Необходимо в ней ориентироваться, выявлять закономерносити, взаимосвязи.\n",
    "\n",
    "**Цель данной работы:** разработать параметры для определения рыночной стоимости объектов недвижимости.\n",
    "\n",
    "**Ход исследования:**\n",
    "\n",
    "Для анализа нам предоставлен архив объявлений о продаже квартир в Санкт-Петербурге и соседних населённых пунктах за несколько лет.\n",
    "\n",
    "По каждой квартире на продажу доступны два вида данных. Первые вписаны пользователем, вторые получены автоматически на основе картографических данных. Например, расстояние до центра, аэропорта, ближайшего парка и водоёма. \n",
    "\n",
    "  - __Проведем исследование по следующим этапам:__\n",
    "\n",
    "     1. Обзор данных\n",
    "     2. Обработка данных\n",
    "     4. Рассчеты и добавление результатов в таблицу\n",
    "     3. Исследовательский анализ данных\n",
    "     5. Вывод\n",
    "  "
   ]
  },
  {
   "cell_type": "markdown",
   "metadata": {},
   "source": [
    "## Изучение данных из файла"
   ]
  },
  {
   "cell_type": "code",
   "execution_count": 1,
   "metadata": {},
   "outputs": [],
   "source": [
    "import pandas as pd\n",
    "import matplotlib.pyplot as plt"
   ]
  },
  {
   "cell_type": "code",
   "execution_count": 2,
   "metadata": {},
   "outputs": [],
   "source": [
    "df = pd.read_csv('/datasets/real_estate_data.csv', sep= '\\t')"
   ]
  },
  {
   "cell_type": "code",
   "execution_count": 3,
   "metadata": {
    "scrolled": true
   },
   "outputs": [
    {
     "name": "stdout",
     "output_type": "stream",
     "text": [
      "<class 'pandas.core.frame.DataFrame'>\n",
      "RangeIndex: 23699 entries, 0 to 23698\n",
      "Data columns (total 22 columns):\n",
      " #   Column                Non-Null Count  Dtype  \n",
      "---  ------                --------------  -----  \n",
      " 0   total_images          23699 non-null  int64  \n",
      " 1   last_price            23699 non-null  float64\n",
      " 2   total_area            23699 non-null  float64\n",
      " 3   first_day_exposition  23699 non-null  object \n",
      " 4   rooms                 23699 non-null  int64  \n",
      " 5   ceiling_height        14504 non-null  float64\n",
      " 6   floors_total          23613 non-null  float64\n",
      " 7   living_area           21796 non-null  float64\n",
      " 8   floor                 23699 non-null  int64  \n",
      " 9   is_apartment          2775 non-null   object \n",
      " 10  studio                23699 non-null  bool   \n",
      " 11  open_plan             23699 non-null  bool   \n",
      " 12  kitchen_area          21421 non-null  float64\n",
      " 13  balcony               12180 non-null  float64\n",
      " 14  locality_name         23650 non-null  object \n",
      " 15  airports_nearest      18157 non-null  float64\n",
      " 16  cityCenters_nearest   18180 non-null  float64\n",
      " 17  parks_around3000      18181 non-null  float64\n",
      " 18  parks_nearest         8079 non-null   float64\n",
      " 19  ponds_around3000      18181 non-null  float64\n",
      " 20  ponds_nearest         9110 non-null   float64\n",
      " 21  days_exposition       20518 non-null  float64\n",
      "dtypes: bool(2), float64(14), int64(3), object(3)\n",
      "memory usage: 3.7+ MB\n"
     ]
    }
   ],
   "source": [
    "df.info()  # получение информации"
   ]
  },
  {
   "cell_type": "code",
   "execution_count": 4,
   "metadata": {
    "scrolled": true
   },
   "outputs": [
    {
     "data": {
      "text/html": [
       "<div>\n",
       "<style scoped>\n",
       "    .dataframe tbody tr th:only-of-type {\n",
       "        vertical-align: middle;\n",
       "    }\n",
       "\n",
       "    .dataframe tbody tr th {\n",
       "        vertical-align: top;\n",
       "    }\n",
       "\n",
       "    .dataframe thead th {\n",
       "        text-align: right;\n",
       "    }\n",
       "</style>\n",
       "<table border=\"1\" class=\"dataframe\">\n",
       "  <thead>\n",
       "    <tr style=\"text-align: right;\">\n",
       "      <th></th>\n",
       "      <th>total_images</th>\n",
       "      <th>last_price</th>\n",
       "      <th>total_area</th>\n",
       "      <th>first_day_exposition</th>\n",
       "      <th>rooms</th>\n",
       "      <th>ceiling_height</th>\n",
       "      <th>floors_total</th>\n",
       "      <th>living_area</th>\n",
       "      <th>floor</th>\n",
       "      <th>is_apartment</th>\n",
       "      <th>...</th>\n",
       "      <th>kitchen_area</th>\n",
       "      <th>balcony</th>\n",
       "      <th>locality_name</th>\n",
       "      <th>airports_nearest</th>\n",
       "      <th>cityCenters_nearest</th>\n",
       "      <th>parks_around3000</th>\n",
       "      <th>parks_nearest</th>\n",
       "      <th>ponds_around3000</th>\n",
       "      <th>ponds_nearest</th>\n",
       "      <th>days_exposition</th>\n",
       "    </tr>\n",
       "  </thead>\n",
       "  <tbody>\n",
       "    <tr>\n",
       "      <th>0</th>\n",
       "      <td>20</td>\n",
       "      <td>13000000.0</td>\n",
       "      <td>108.0</td>\n",
       "      <td>2019-03-07T00:00:00</td>\n",
       "      <td>3</td>\n",
       "      <td>2.70</td>\n",
       "      <td>16.0</td>\n",
       "      <td>51.0</td>\n",
       "      <td>8</td>\n",
       "      <td>NaN</td>\n",
       "      <td>...</td>\n",
       "      <td>25.0</td>\n",
       "      <td>NaN</td>\n",
       "      <td>Санкт-Петербург</td>\n",
       "      <td>18863.0</td>\n",
       "      <td>16028.0</td>\n",
       "      <td>1.0</td>\n",
       "      <td>482.0</td>\n",
       "      <td>2.0</td>\n",
       "      <td>755.0</td>\n",
       "      <td>NaN</td>\n",
       "    </tr>\n",
       "    <tr>\n",
       "      <th>1</th>\n",
       "      <td>7</td>\n",
       "      <td>3350000.0</td>\n",
       "      <td>40.4</td>\n",
       "      <td>2018-12-04T00:00:00</td>\n",
       "      <td>1</td>\n",
       "      <td>NaN</td>\n",
       "      <td>11.0</td>\n",
       "      <td>18.6</td>\n",
       "      <td>1</td>\n",
       "      <td>NaN</td>\n",
       "      <td>...</td>\n",
       "      <td>11.0</td>\n",
       "      <td>2.0</td>\n",
       "      <td>посёлок Шушары</td>\n",
       "      <td>12817.0</td>\n",
       "      <td>18603.0</td>\n",
       "      <td>0.0</td>\n",
       "      <td>NaN</td>\n",
       "      <td>0.0</td>\n",
       "      <td>NaN</td>\n",
       "      <td>81.0</td>\n",
       "    </tr>\n",
       "    <tr>\n",
       "      <th>2</th>\n",
       "      <td>10</td>\n",
       "      <td>5196000.0</td>\n",
       "      <td>56.0</td>\n",
       "      <td>2015-08-20T00:00:00</td>\n",
       "      <td>2</td>\n",
       "      <td>NaN</td>\n",
       "      <td>5.0</td>\n",
       "      <td>34.3</td>\n",
       "      <td>4</td>\n",
       "      <td>NaN</td>\n",
       "      <td>...</td>\n",
       "      <td>8.3</td>\n",
       "      <td>0.0</td>\n",
       "      <td>Санкт-Петербург</td>\n",
       "      <td>21741.0</td>\n",
       "      <td>13933.0</td>\n",
       "      <td>1.0</td>\n",
       "      <td>90.0</td>\n",
       "      <td>2.0</td>\n",
       "      <td>574.0</td>\n",
       "      <td>558.0</td>\n",
       "    </tr>\n",
       "    <tr>\n",
       "      <th>3</th>\n",
       "      <td>0</td>\n",
       "      <td>64900000.0</td>\n",
       "      <td>159.0</td>\n",
       "      <td>2015-07-24T00:00:00</td>\n",
       "      <td>3</td>\n",
       "      <td>NaN</td>\n",
       "      <td>14.0</td>\n",
       "      <td>NaN</td>\n",
       "      <td>9</td>\n",
       "      <td>NaN</td>\n",
       "      <td>...</td>\n",
       "      <td>NaN</td>\n",
       "      <td>0.0</td>\n",
       "      <td>Санкт-Петербург</td>\n",
       "      <td>28098.0</td>\n",
       "      <td>6800.0</td>\n",
       "      <td>2.0</td>\n",
       "      <td>84.0</td>\n",
       "      <td>3.0</td>\n",
       "      <td>234.0</td>\n",
       "      <td>424.0</td>\n",
       "    </tr>\n",
       "    <tr>\n",
       "      <th>4</th>\n",
       "      <td>2</td>\n",
       "      <td>10000000.0</td>\n",
       "      <td>100.0</td>\n",
       "      <td>2018-06-19T00:00:00</td>\n",
       "      <td>2</td>\n",
       "      <td>3.03</td>\n",
       "      <td>14.0</td>\n",
       "      <td>32.0</td>\n",
       "      <td>13</td>\n",
       "      <td>NaN</td>\n",
       "      <td>...</td>\n",
       "      <td>41.0</td>\n",
       "      <td>NaN</td>\n",
       "      <td>Санкт-Петербург</td>\n",
       "      <td>31856.0</td>\n",
       "      <td>8098.0</td>\n",
       "      <td>2.0</td>\n",
       "      <td>112.0</td>\n",
       "      <td>1.0</td>\n",
       "      <td>48.0</td>\n",
       "      <td>121.0</td>\n",
       "    </tr>\n",
       "  </tbody>\n",
       "</table>\n",
       "<p>5 rows × 22 columns</p>\n",
       "</div>"
      ],
      "text/plain": [
       "   total_images  last_price  total_area first_day_exposition  rooms  \\\n",
       "0            20  13000000.0       108.0  2019-03-07T00:00:00      3   \n",
       "1             7   3350000.0        40.4  2018-12-04T00:00:00      1   \n",
       "2            10   5196000.0        56.0  2015-08-20T00:00:00      2   \n",
       "3             0  64900000.0       159.0  2015-07-24T00:00:00      3   \n",
       "4             2  10000000.0       100.0  2018-06-19T00:00:00      2   \n",
       "\n",
       "   ceiling_height  floors_total  living_area  floor is_apartment  ...  \\\n",
       "0            2.70          16.0         51.0      8          NaN  ...   \n",
       "1             NaN          11.0         18.6      1          NaN  ...   \n",
       "2             NaN           5.0         34.3      4          NaN  ...   \n",
       "3             NaN          14.0          NaN      9          NaN  ...   \n",
       "4            3.03          14.0         32.0     13          NaN  ...   \n",
       "\n",
       "   kitchen_area  balcony    locality_name  airports_nearest  \\\n",
       "0          25.0      NaN  Санкт-Петербург           18863.0   \n",
       "1          11.0      2.0   посёлок Шушары           12817.0   \n",
       "2           8.3      0.0  Санкт-Петербург           21741.0   \n",
       "3           NaN      0.0  Санкт-Петербург           28098.0   \n",
       "4          41.0      NaN  Санкт-Петербург           31856.0   \n",
       "\n",
       "  cityCenters_nearest  parks_around3000  parks_nearest  ponds_around3000  \\\n",
       "0             16028.0               1.0          482.0               2.0   \n",
       "1             18603.0               0.0            NaN               0.0   \n",
       "2             13933.0               1.0           90.0               2.0   \n",
       "3              6800.0               2.0           84.0               3.0   \n",
       "4              8098.0               2.0          112.0               1.0   \n",
       "\n",
       "   ponds_nearest  days_exposition  \n",
       "0          755.0              NaN  \n",
       "1            NaN             81.0  \n",
       "2          574.0            558.0  \n",
       "3          234.0            424.0  \n",
       "4           48.0            121.0  \n",
       "\n",
       "[5 rows x 22 columns]"
      ]
     },
     "execution_count": 4,
     "metadata": {},
     "output_type": "execute_result"
    }
   ],
   "source": [
    "df.head()"
   ]
  },
  {
   "cell_type": "markdown",
   "metadata": {},
   "source": [
    "### Вывод"
   ]
  },
  {
   "cell_type": "markdown",
   "metadata": {},
   "source": [
    "В таблице 23699 строк и 22 колонки\n",
    "\n",
    "Тип данных в двух колонках bool, в четырнадцати колонках float64, в трех колонках int64, в трех колонках object\n",
    "\n",
    "Нарушений стиля в наименовании колонок нет.\n",
    " \n",
    "Только в восьми столбцах из двадцати двух нет пропусков.\n",
    " \n",
    "Исследуем пропущенные значения и заполним, где это возможно."
   ]
  },
  {
   "cell_type": "markdown",
   "metadata": {},
   "source": [
    "## Предобработка данных"
   ]
  },
  {
   "cell_type": "markdown",
   "metadata": {},
   "source": [
    "Посчитаем количество пропусков и изучим их для каждого столбца. "
   ]
  },
  {
   "cell_type": "code",
   "execution_count": 5,
   "metadata": {
    "scrolled": true
   },
   "outputs": [
    {
     "data": {
      "text/plain": [
       "total_images                0\n",
       "last_price                  0\n",
       "total_area                  0\n",
       "first_day_exposition        0\n",
       "rooms                       0\n",
       "ceiling_height           9195\n",
       "floors_total               86\n",
       "living_area              1903\n",
       "floor                       0\n",
       "is_apartment            20924\n",
       "studio                      0\n",
       "open_plan                   0\n",
       "kitchen_area             2278\n",
       "balcony                 11519\n",
       "locality_name              49\n",
       "airports_nearest         5542\n",
       "cityCenters_nearest      5519\n",
       "parks_around3000         5518\n",
       "parks_nearest           15620\n",
       "ponds_around3000         5518\n",
       "ponds_nearest           14589\n",
       "days_exposition          3181\n",
       "dtype: int64"
      ]
     },
     "execution_count": 5,
     "metadata": {},
     "output_type": "execute_result"
    }
   ],
   "source": [
    "df.isna().sum() #  посчитали пропуски"
   ]
  },
  {
   "cell_type": "markdown",
   "metadata": {},
   "source": [
    "**Изучим столбец `ceiling_height`** методом `describe()`\n",
    "\n",
    "Медианное значение не сильно отличается от среднего. Крайние значения 1 и 100.  Посчитаем строки с крайними значениями"
   ]
  },
  {
   "cell_type": "code",
   "execution_count": 6,
   "metadata": {
    "scrolled": false
   },
   "outputs": [
    {
     "data": {
      "text/plain": [
       "count    14504.000000\n",
       "mean         2.771499\n",
       "std          1.261056\n",
       "min          1.000000\n",
       "25%          2.520000\n",
       "50%          2.650000\n",
       "75%          2.800000\n",
       "max        100.000000\n",
       "Name: ceiling_height, dtype: float64"
      ]
     },
     "execution_count": 6,
     "metadata": {},
     "output_type": "execute_result"
    }
   ],
   "source": [
    "df['ceiling_height'].describe()"
   ]
  },
  {
   "cell_type": "code",
   "execution_count": 7,
   "metadata": {
    "scrolled": true
   },
   "outputs": [
    {
     "name": "stdout",
     "output_type": "stream",
     "text": [
      "Количество квартир, с высотой потолка 1м и менее - 1 квартира\n",
      "Количество квартир, с высотой потолка до 2м - 14 квартир\n",
      "Количество квартир, с высотой потолка 100м - 1 квартира\n",
      "Количество квартир, с высотой потолка больше 20м - 22 квартиры\n"
     ]
    }
   ],
   "source": [
    "print('Количество квартир, с высотой потолка 1м и менее - {} квартира'\\\n",
    "      .format(df.loc[df['ceiling_height'] <= 1]['ceiling_height'].count()))\n",
    "print('Количество квартир, с высотой потолка до 2м - {} квартир'\\\n",
    "      .format(df.loc[df['ceiling_height'] <= 2]['ceiling_height'].count()))\n",
    "print('Количество квартир, с высотой потолка 100м - {} квартира'\\\n",
    "      .format(df.loc[df['ceiling_height'] == 100]['ceiling_height'].count()))\n",
    "\n",
    "print('Количество квартир, с высотой потолка больше 20м - {} квартиры'\\\n",
    "      .format(df.loc[df['ceiling_height'] > 20]['ceiling_height'].count()))"
   ]
  },
  {
   "cell_type": "markdown",
   "metadata": {},
   "source": [
    "Крайние значения единичны. Рассчитаем среднее для более реалистичных значений и заполним пропуски"
   ]
  },
  {
   "cell_type": "code",
   "execution_count": 8,
   "metadata": {
    "scrolled": true
   },
   "outputs": [],
   "source": [
    "ceilling_heit_mean = df.loc[(df['ceiling_height'] < 20) & (df['ceiling_height'] > 2)]['ceiling_height'].mean()\n",
    "df['ceiling_height'] = df['ceiling_height'].fillna(ceilling_heit_mean)"
   ]
  },
  {
   "cell_type": "code",
   "execution_count": 9,
   "metadata": {
    "scrolled": true
   },
   "outputs": [],
   "source": [
    "df['ceiling_height'] = df['ceiling_height'].fillna(ceilling_heit_mean)"
   ]
  },
  {
   "cell_type": "code",
   "execution_count": 10,
   "metadata": {},
   "outputs": [
    {
     "name": "stdout",
     "output_type": "stream",
     "text": [
      "Пропуски в столбце ceiling_height равны  0\n"
     ]
    }
   ],
   "source": [
    "print('Пропуски в столбце ceiling_height равны ',df['ceiling_height'].isna().sum())"
   ]
  },
  {
   "cell_type": "markdown",
   "metadata": {},
   "source": [
    "**Изучим столбцы `floors_total` и `floor`**"
   ]
  },
  {
   "cell_type": "code",
   "execution_count": 11,
   "metadata": {},
   "outputs": [
    {
     "name": "stdout",
     "output_type": "stream",
     "text": [
      "Доля пропусков в столбце floors_total 0.004%\n"
     ]
    }
   ],
   "source": [
    "print('Доля пропусков в столбце floors_total {:.3f}%'.format(df['floors_total'].isna().mean()))  # посчитали долю пропусков"
   ]
  },
  {
   "cell_type": "markdown",
   "metadata": {},
   "source": [
    "В столбце `floor` нет пропусков, в столбце `floors_total` доля пропусков незначительная. Можно оставить их без изменения. В дальнейшем мы не используем данный столбец для анализа\n",
    "\n"
   ]
  },
  {
   "cell_type": "markdown",
   "metadata": {},
   "source": [
    "Пропущенные значения в **столбце `balcony`** могут указывать на отсутсвие балконов. Заменим пропущененые значения нулем.\n",
    "\n",
    "Изменим тип данных на числовой."
   ]
  },
  {
   "cell_type": "code",
   "execution_count": 12,
   "metadata": {
    "scrolled": true
   },
   "outputs": [],
   "source": [
    "df['balcony'] = df['balcony'].fillna(0) # заменили значения"
   ]
  },
  {
   "cell_type": "code",
   "execution_count": 13,
   "metadata": {},
   "outputs": [],
   "source": [
    "df['balcony'] = df['balcony'].astype('int') # изменили тип даных"
   ]
  },
  {
   "cell_type": "markdown",
   "metadata": {},
   "source": [
    "**Столбец `is_apartment` содержит пропуски.** \n",
    "\n",
    "В столбце указаны булевы значения, можно предположить, что пропуски это значения `False` Если человек продаёт апартаменты, он скорее всего об этом знает и ответит утвердительно. Как правило, если значение слова неизвестно, графу пропускают.\n",
    "\n",
    "Заменим пропуски, а также изменим тип данных с `int` на  `bool`"
   ]
  },
  {
   "cell_type": "code",
   "execution_count": 14,
   "metadata": {},
   "outputs": [
    {
     "data": {
      "text/plain": [
       "False    2725\n",
       "True       50\n",
       "Name: is_apartment, dtype: int64"
      ]
     },
     "execution_count": 14,
     "metadata": {},
     "output_type": "execute_result"
    }
   ],
   "source": [
    "df['is_apartment'].value_counts()"
   ]
  },
  {
   "cell_type": "code",
   "execution_count": 15,
   "metadata": {},
   "outputs": [],
   "source": [
    "df['is_apartment'] = df['is_apartment'].fillna(False) #  заменили значения"
   ]
  },
  {
   "cell_type": "code",
   "execution_count": 16,
   "metadata": {},
   "outputs": [],
   "source": [
    "df['is_apartment'] = df['is_apartment'].astype('bool') #  изменили тип даных"
   ]
  },
  {
   "cell_type": "markdown",
   "metadata": {},
   "source": [
    "**В столбце `first_day_exposition`** нет пропущенных значений, но необходимо изменить формат данных из строкового в datetime64"
   ]
  },
  {
   "cell_type": "code",
   "execution_count": 17,
   "metadata": {},
   "outputs": [],
   "source": [
    "df['first_day_exposition'] = pd.to_datetime(df['first_day_exposition'], format='%Y-%m-%dT%H:%M:%S') #  изменили тип даных"
   ]
  },
  {
   "cell_type": "markdown",
   "metadata": {},
   "source": [
    "**Изучим столбец `days_exposition`**  \n",
    "\n",
    "Можно предположить, что пропущенные значения это ноль дней, объявление было размещено и сразу снято.\n",
    "Можно предположить, что, когда данные выгружали, объявление еще было размещено. В данном случае мы не можем установить срок рамещения объявления. Известна дата публикации, но неизвестна дата снятия объявления.\n",
    "Оставим пропущенные значения без изменений\n",
    "\n"
   ]
  },
  {
   "cell_type": "markdown",
   "metadata": {},
   "source": [
    "**В столбцах `parks_around3000 `  `ponds_around3000`** одинаковое число пропущенных значений. \n",
    "\n",
    "Можно предположить, что если значение пропущенно парка или пруда в радиусе 3 км нет.\n",
    "\n",
    "Данные, скорее всего, получены с помощью картографической съемки. При необходимости их можно уточнить\n",
    "\n",
    "Данные цифры не используются в расчетах, оставим пропуски без изменений\n",
    "\n",
    "\n",
    " "
   ]
  },
  {
   "cell_type": "markdown",
   "metadata": {},
   "source": [
    "**Изучим столбцы  `ponds_nearest`  `parks_nearest`** Более, чем в 60% процентах расстояние до ближайшего парка или пруда не указано. \n",
    "\n",
    "Мы не используем эту информацию в дальнейшем исследовании.\n",
    "\n",
    "Оставим пропуски без изменений\n"
   ]
  },
  {
   "cell_type": "markdown",
   "metadata": {},
   "source": [
    "**Изучим столбец `cityCenters_nearest`**  Постараемся избавится от пропусков.\n",
    "\n",
    "Приведем названия населенных пунктов к единообразию:\n",
    "\n",
    "-  заменим ё на е\n",
    "-  сделаем все буквы строковыми"
   ]
  },
  {
   "cell_type": "code",
   "execution_count": 18,
   "metadata": {},
   "outputs": [],
   "source": [
    "df['locality_name'] = df['locality_name'].str.replace('ё', 'е').str.lower()"
   ]
  },
  {
   "cell_type": "markdown",
   "metadata": {},
   "source": [
    "Выберем строки по одновременному условию название населенного пункта в столбце `locality_name` \n",
    "\n",
    "и пропущенные значения в столбце `cityCenters_nearest`\n",
    "\n",
    "Расстояние между населенными пунктами найдем в *интернете* и подставим значения."
   ]
  },
  {
   "cell_type": "code",
   "execution_count": 19,
   "metadata": {
    "scrolled": true
   },
   "outputs": [
    {
     "name": "stdout",
     "output_type": "stream",
     "text": [
      "554\n"
     ]
    }
   ],
   "source": [
    "print(len(df.loc[(df['locality_name'] == 'поселок мурино') & (df['cityCenters_nearest'].isna())]))\n",
    "df.loc[df['locality_name'] == 'поселок мурино', 'cityCenters_nearest'] = 17000"
   ]
  },
  {
   "cell_type": "code",
   "execution_count": 20,
   "metadata": {
    "scrolled": true
   },
   "outputs": [
    {
     "name": "stdout",
     "output_type": "stream",
     "text": [
      "142\n"
     ]
    }
   ],
   "source": [
    "print(len(df.loc[(df['locality_name'] == 'сертолово') & (df['cityCenters_nearest'].isna())]))\n",
    "df.loc[df['locality_name'] == 'сертолово', 'cityCenters_nearest'] = 37000"
   ]
  },
  {
   "cell_type": "code",
   "execution_count": 21,
   "metadata": {
    "scrolled": true
   },
   "outputs": [
    {
     "name": "stdout",
     "output_type": "stream",
     "text": [
      "299\n"
     ]
    }
   ],
   "source": [
    "print(len(df.loc[(df['locality_name'] == 'деревня кудрово') & (df['cityCenters_nearest'].isna())]))\n",
    "df.loc[df['locality_name'] == 'деревня кудрово', 'cityCenters_nearest'] = 14000"
   ]
  },
  {
   "cell_type": "code",
   "execution_count": 22,
   "metadata": {
    "scrolled": true
   },
   "outputs": [
    {
     "name": "stdout",
     "output_type": "stream",
     "text": [
      "307\n"
     ]
    }
   ],
   "source": [
    "print(len(df.loc[(df['locality_name'] == 'гатчина') & (df['cityCenters_nearest'].isna())]))\n",
    "df.loc[df['locality_name'] == 'гатчина', 'cityCenters_nearest'] = 47000"
   ]
  },
  {
   "cell_type": "code",
   "execution_count": 23,
   "metadata": {
    "scrolled": true
   },
   "outputs": [
    {
     "name": "stdout",
     "output_type": "stream",
     "text": [
      "89\n"
     ]
    }
   ],
   "source": [
    "print(len(df.loc[(df['locality_name'] == 'коммунар') & (df['cityCenters_nearest'].isna())]))\n",
    "df.loc[df['locality_name'] == 'коммунар', 'cityCenters_nearest'] = 43000"
   ]
  },
  {
   "cell_type": "code",
   "execution_count": 24,
   "metadata": {
    "scrolled": true
   },
   "outputs": [
    {
     "name": "stdout",
     "output_type": "stream",
     "text": [
      "398\n"
     ]
    }
   ],
   "source": [
    "print(len(df.loc[(df['locality_name'] == 'всеволожск') & (df['cityCenters_nearest'].isna())]))\n",
    "df.loc[df['locality_name'] == 'всеволожск', 'cityCenters_nearest'] = 28000"
   ]
  },
  {
   "cell_type": "code",
   "execution_count": 25,
   "metadata": {
    "scrolled": true
   },
   "outputs": [
    {
     "name": "stdout",
     "output_type": "stream",
     "text": [
      "237\n"
     ]
    }
   ],
   "source": [
    "print(len(df.loc[(df['locality_name'] == 'выборг') & (df['cityCenters_nearest'].isna())]))\n",
    "df.loc[df['locality_name'] == 'выборг', 'cityCenters_nearest'] = 139000"
   ]
  },
  {
   "cell_type": "code",
   "execution_count": 26,
   "metadata": {},
   "outputs": [
    {
     "name": "stdout",
     "output_type": "stream",
     "text": [
      "84\n"
     ]
    }
   ],
   "source": [
    "print(len(df.loc[(df['locality_name'] == 'кировск') & (df['cityCenters_nearest'].isna())]))\n",
    "df.loc[df['locality_name'] == 'кировск', 'cityCenters_nearest'] = 47000"
   ]
  },
  {
   "cell_type": "code",
   "execution_count": 27,
   "metadata": {},
   "outputs": [
    {
     "name": "stdout",
     "output_type": "stream",
     "text": [
      "144\n"
     ]
    }
   ],
   "source": [
    "print(len(df.loc[(df['locality_name'] == 'деревня новое девяткино') & (df['cityCenters_nearest'].isna())]))\n",
    "df.loc[df['locality_name'] == 'деревня новое девяткино', 'cityCenters_nearest'] = 24000"
   ]
  },
  {
   "cell_type": "code",
   "execution_count": 28,
   "metadata": {},
   "outputs": [
    {
     "name": "stdout",
     "output_type": "stream",
     "text": [
      "111\n"
     ]
    }
   ],
   "source": [
    "print(len(df.loc[(df['locality_name'] == 'волхов') & (df['cityCenters_nearest'].isna())]))\n",
    "df.loc[df['locality_name'] == 'волхов', 'cityCenters_nearest'] = 134000"
   ]
  },
  {
   "cell_type": "code",
   "execution_count": 29,
   "metadata": {
    "scrolled": true
   },
   "outputs": [
    {
     "name": "stdout",
     "output_type": "stream",
     "text": [
      "104\n"
     ]
    }
   ],
   "source": [
    "print(len(df.loc[(df['locality_name'] == 'тосно') & (df['cityCenters_nearest'].isna())]))\n",
    "df.loc[df['locality_name'] == 'тосно', 'cityCenters_nearest'] = 60000"
   ]
  },
  {
   "cell_type": "code",
   "execution_count": 30,
   "metadata": {},
   "outputs": [
    {
     "name": "stdout",
     "output_type": "stream",
     "text": [
      "173\n"
     ]
    }
   ],
   "source": [
    "print(len(df.loc[(df['locality_name'] == 'кудрово') & (df['cityCenters_nearest'].isna())]))\n",
    "df.loc[df['locality_name'] == 'кудрово', 'cityCenters_nearest'] = 14000"
   ]
  },
  {
   "cell_type": "markdown",
   "metadata": {},
   "source": [
    "Надо признать, что такой способ не очень эффективный.\n",
    "\n",
    "Таким образом смогли исправить только часть пропусков."
   ]
  },
  {
   "cell_type": "markdown",
   "metadata": {},
   "source": [
    "\n",
    "\n",
    "**Изучим столбец `locality_name`**\n",
    "\n",
    "Предположили, что название не указано, так как это Санкт-Петербург\n",
    "\n",
    "Отфильтровали строки по имени Санкт-Петербург и посчитали медиану по столбцу  `cityCenters_nearest`\n",
    "\n",
    "Далее выбрали строки с пропущеннымы значениями `locality_name`  и медианой столбца `cityCenters_nearest` заполнили часть пропущенных значений в столбце  `locality_name`"
   ]
  },
  {
   "cell_type": "code",
   "execution_count": 31,
   "metadata": {},
   "outputs": [],
   "source": [
    "center_median = df.loc[df['locality_name'] == 'санкт-петербург']['cityCenters_nearest'].median() "
   ]
  },
  {
   "cell_type": "code",
   "execution_count": 32,
   "metadata": {},
   "outputs": [
    {
     "name": "stdout",
     "output_type": "stream",
     "text": [
      "Количество строк для условия  26\n"
     ]
    }
   ],
   "source": [
    "center_median = df.loc[df['locality_name'] == 'санкт-петербург']['cityCenters_nearest'].median() \n",
    "print('Количество строк для условия ', len(df.loc[(df['cityCenters_nearest'] <= center_median) & (df['locality_name'].isna())])) "
   ]
  },
  {
   "cell_type": "code",
   "execution_count": 33,
   "metadata": {
    "scrolled": true
   },
   "outputs": [],
   "source": [
    "df.loc[df['cityCenters_nearest'] <=center_median, 'locality_name'] = \\\n",
    "df.loc[df['cityCenters_nearest'] <=center_median, 'locality_name'].fillna('санкт-петербург')\n",
    "#  заполнили пропуски"
   ]
  },
  {
   "cell_type": "markdown",
   "metadata": {},
   "source": [
    " - **Заполним пропуски** `living_area` и  `kitchen_area`\n",
    " \n",
    "Пропуски в столбце `living_area` заполним медианой, рассчитаной в зависимости от количества комнат\n"
   ]
  },
  {
   "cell_type": "code",
   "execution_count": 34,
   "metadata": {},
   "outputs": [
    {
     "name": "stdout",
     "output_type": "stream",
     "text": [
      "17.6\n",
      "30.5\n",
      "45.0\n",
      "68.0\n",
      "139.9\n",
      "201.0\n"
     ]
    }
   ],
   "source": [
    "living_area_1_room_med = df.loc[df['rooms'] == 1]['living_area'].median() # считаем медиану\n",
    "living_area_2_room_med = df.loc[df['rooms'] == 2]['living_area'].median()\n",
    "living_area_3_room_med = df.loc[df['rooms'] == 3]['living_area'].median()\n",
    "living_area_3_5_room_med = df.loc[(df['rooms'] > 3) & (df['rooms'] <= 5)]['living_area'].median()\n",
    "living_area_5_10_room_med = df.loc[(df['rooms'] > 5) & (df['rooms'] <= 10)]['living_area'].median()\n",
    "living_area_high_10_room_med = df.loc[df['rooms'] >10]['living_area'].median()\n",
    "print(living_area_1_room_med)\n",
    "print(living_area_2_room_med)\n",
    "print(living_area_3_room_med)\n",
    "print(living_area_3_5_room_med)\n",
    "print(living_area_5_10_room_med)\n",
    "print(living_area_high_10_room_med)"
   ]
  },
  {
   "cell_type": "code",
   "execution_count": 35,
   "metadata": {},
   "outputs": [],
   "source": [
    "df.loc[df['rooms'] == 1, 'living_area'] = df.loc[df['rooms'] == 1, 'living_area'].fillna(living_area_1_room_med)\n",
    "df.loc[df['rooms'] == 2, 'living_area'] = df.loc[df['rooms'] == 2, 'living_area'].fillna(living_area_2_room_med)\n",
    "df.loc[df['rooms'] == 3, 'living_area'] = df.loc[df['rooms'] == 3, 'living_area'].fillna(living_area_3_room_med)\n",
    "df.loc[(df['rooms'] > 3) & (df['rooms'] <= 5), 'living_area'] = df.loc[(df['rooms'] > 3) & \\\n",
    "                                                    (df['rooms'] <= 5), 'living_area'].fillna(living_area_3_5_room_med)\n",
    "df.loc[(df['rooms'] > 5) & (df['rooms'] <= 10), 'living_area'] = df.loc[(df['rooms'] > 5) & \\\n",
    "                                                    (df['rooms'] <= 10), 'living_area'].fillna(living_area_5_10_room_med)\n",
    "df.loc[df['rooms'] > 10, 'living_area'] = df.loc[df['rooms'] > 10, 'living_area'].fillna(living_area_high_10_room_med)"
   ]
  },
  {
   "cell_type": "code",
   "execution_count": 36,
   "metadata": {},
   "outputs": [
    {
     "data": {
      "text/plain": [
       "14"
      ]
     },
     "execution_count": 36,
     "metadata": {},
     "output_type": "execute_result"
    }
   ],
   "source": [
    "df['living_area'].isna().sum()"
   ]
  },
  {
   "cell_type": "markdown",
   "metadata": {},
   "source": [
    "Пропуски остались в 14 случаях\n",
    "\n",
    " - Изучим опсание столбца `rooms`"
   ]
  },
  {
   "cell_type": "code",
   "execution_count": 37,
   "metadata": {
    "scrolled": true
   },
   "outputs": [
    {
     "data": {
      "text/plain": [
       "1     8047\n",
       "2     7940\n",
       "3     5814\n",
       "4     1180\n",
       "5      326\n",
       "0      197\n",
       "6      105\n",
       "7       59\n",
       "8       12\n",
       "9        8\n",
       "10       3\n",
       "11       2\n",
       "14       2\n",
       "15       1\n",
       "19       1\n",
       "16       1\n",
       "12       1\n",
       "Name: rooms, dtype: int64"
      ]
     },
     "execution_count": 37,
     "metadata": {},
     "output_type": "execute_result"
    }
   ],
   "source": [
    "df['rooms'].value_counts()"
   ]
  },
  {
   "cell_type": "markdown",
   "metadata": {},
   "source": [
    "Есть 197 квартир с 0 комнат\n",
    "\n",
    "Посчитаем количество строк по условию\n",
    " - 0 комнат и пропущенные значения `kitchen_area`\n",
    " - 0 комнат и пропущенные значения `living_area`\n",
    " - и пропущенные значения `kitchen_area` и `living_area` одновременно\n",
    " \n",
    "Можно предположить, что 0 комнат это 1 комната, по типу студии, где кухня не выделена, как отдельное помещение "
   ]
  },
  {
   "cell_type": "code",
   "execution_count": 38,
   "metadata": {
    "scrolled": true
   },
   "outputs": [
    {
     "name": "stdout",
     "output_type": "stream",
     "text": [
      "197\n",
      "14\n",
      "14\n"
     ]
    }
   ],
   "source": [
    "print(len(df.loc[(df['rooms'] == 0) & (df['kitchen_area'].isna())])) # считаем количество строк\n",
    "print(len(df.loc[(df['rooms'] == 0) & (df['living_area'].isna())]))\n",
    "print(len(df.loc[(df['living_area'].isna()) & (df['kitchen_area'].isna())]))"
   ]
  },
  {
   "cell_type": "markdown",
   "metadata": {},
   "source": [
    " - В строках, где 0 комнат и площадь кухни пропущена, приравняем площадь кухни к жилой. Также можно поступить и в отношении квартир студий с пропущенными значениями\n",
    " \n",
    " - оставшиеся 14 случаев приравняем к однокомнатным квартирам. Заполним медианой пропущенные значения жилой площади. И, думаю, жилую площадь можно также приравнять к площади кухни\n",
    " "
   ]
  },
  {
   "cell_type": "code",
   "execution_count": 39,
   "metadata": {},
   "outputs": [],
   "source": [
    "df.loc[df['rooms'] == 0, 'kitchen_area'] = df['living_area']"
   ]
  },
  {
   "cell_type": "code",
   "execution_count": 40,
   "metadata": {},
   "outputs": [
    {
     "name": "stdout",
     "output_type": "stream",
     "text": [
      "Количество квартир-студий с пропущенным значением kitchen_area: 21\n"
     ]
    }
   ],
   "source": [
    "print('Количество квартир-студий с пропущенным значением kitchen_area:', \\\n",
    "      (len(df.loc[(df['studio'] == True) & (df['kitchen_area'].isna())])))"
   ]
  },
  {
   "cell_type": "code",
   "execution_count": 110,
   "metadata": {},
   "outputs": [
    {
     "name": "stdout",
     "output_type": "stream",
     "text": [
      "Количество квартир-студий с пропущенным значением kitchen_area: 0\n"
     ]
    }
   ],
   "source": [
    "df.loc[df['studio'] == True, 'kitchen_area'] = df['living_area']\n",
    "print('Количество квартир-студий с пропущенным значением kitchen_area:', \\\n",
    "      (len(df.loc[(df['studio'] == True) & (df['kitchen_area'].isna())])))"
   ]
  },
  {
   "cell_type": "code",
   "execution_count": 42,
   "metadata": {},
   "outputs": [
    {
     "data": {
      "text/plain": [
       "14"
      ]
     },
     "execution_count": 42,
     "metadata": {},
     "output_type": "execute_result"
    }
   ],
   "source": [
    "len(df.loc[(df['rooms'] == 0) & (df['kitchen_area'].isna())])"
   ]
  },
  {
   "cell_type": "code",
   "execution_count": 43,
   "metadata": {},
   "outputs": [],
   "source": [
    "df.loc[df['rooms'] == 0, 'rooms'] = 1\n",
    "df.loc[df['rooms'] == 1, 'living_area'] = df.loc[df['rooms'] == 1, 'living_area'].fillna(living_area_1_room_med)"
   ]
  },
  {
   "cell_type": "code",
   "execution_count": 44,
   "metadata": {
    "scrolled": true
   },
   "outputs": [
    {
     "data": {
      "text/plain": [
       "0"
      ]
     },
     "execution_count": 44,
     "metadata": {},
     "output_type": "execute_result"
    }
   ],
   "source": [
    "df['living_area'].isna().sum() # пропуски в столбце living_area заполнены полностью"
   ]
  },
  {
   "cell_type": "markdown",
   "metadata": {},
   "source": [
    "Пропуски в жилой площади заполнили медианным значение, в зависимости от количества комнат.\n",
    "Пропуски в площади кухни также частично заполнили.\n",
    "Можно, конечно, заполнить оставшиеся пропуски медианой, рассчитаной по количеству комнат. Но может быть, площадь кухни не указана, потому что она не выделена, как отдельное помещение, как например \"евротрешки\",  \"евродвушки\".\n",
    "Корректо ли будет заполнять пропущенные значения?    \n",
    "Вычесть из общей площади жилую, для нахождения площади кухни, мы также не можем, так как в общую площадь входит и жилая площадь, и площадь кухни, и санузел, и коридор, кладовка, перегородки.  "
   ]
  },
  {
   "cell_type": "markdown",
   "metadata": {},
   "source": [
    "\n",
    " -  Проверим результаты"
   ]
  },
  {
   "cell_type": "code",
   "execution_count": 45,
   "metadata": {
    "scrolled": true
   },
   "outputs": [
    {
     "data": {
      "text/plain": [
       "total_images                0\n",
       "last_price                  0\n",
       "total_area                  0\n",
       "first_day_exposition        0\n",
       "rooms                       0\n",
       "ceiling_height              0\n",
       "floors_total               86\n",
       "living_area                 0\n",
       "floor                       0\n",
       "is_apartment                0\n",
       "studio                      0\n",
       "open_plan                   0\n",
       "kitchen_area             2084\n",
       "balcony                     0\n",
       "locality_name              23\n",
       "airports_nearest         5542\n",
       "cityCenters_nearest      2877\n",
       "parks_around3000         5518\n",
       "parks_nearest           15620\n",
       "ponds_around3000         5518\n",
       "ponds_nearest           14589\n",
       "days_exposition          3181\n",
       "dtype: int64"
      ]
     },
     "execution_count": 45,
     "metadata": {},
     "output_type": "execute_result"
    }
   ],
   "source": [
    "df.isna().sum()"
   ]
  },
  {
   "cell_type": "code",
   "execution_count": 46,
   "metadata": {},
   "outputs": [
    {
     "data": {
      "text/plain": [
       "total_images                     int64\n",
       "last_price                     float64\n",
       "total_area                     float64\n",
       "first_day_exposition    datetime64[ns]\n",
       "rooms                            int64\n",
       "ceiling_height                 float64\n",
       "floors_total                   float64\n",
       "living_area                    float64\n",
       "floor                            int64\n",
       "is_apartment                      bool\n",
       "studio                            bool\n",
       "open_plan                         bool\n",
       "kitchen_area                   float64\n",
       "balcony                          int32\n",
       "locality_name                   object\n",
       "airports_nearest               float64\n",
       "cityCenters_nearest            float64\n",
       "parks_around3000               float64\n",
       "parks_nearest                  float64\n",
       "ponds_around3000               float64\n",
       "ponds_nearest                  float64\n",
       "days_exposition                float64\n",
       "dtype: object"
      ]
     },
     "execution_count": 46,
     "metadata": {},
     "output_type": "execute_result"
    }
   ],
   "source": [
    "df.dtypes # посмотрели типы данных"
   ]
  },
  {
   "cell_type": "markdown",
   "metadata": {},
   "source": [
    "\n",
    "\n",
    "\n",
    " - Сделаем проверку на дубликаты"
   ]
  },
  {
   "cell_type": "code",
   "execution_count": 47,
   "metadata": {
    "scrolled": true
   },
   "outputs": [
    {
     "data": {
      "text/plain": [
       "0"
      ]
     },
     "execution_count": 47,
     "metadata": {},
     "output_type": "execute_result"
    }
   ],
   "source": [
    "df.duplicated().sum() #  проверили на дубликаты"
   ]
  },
  {
   "cell_type": "markdown",
   "metadata": {},
   "source": [
    "**Вывод**\n",
    "\n",
    "На этапе предобработки данных\n",
    " - Заполнили пропуски, где это было возможно. Некоторые столбцы с пропусками оставили без изменений, так как они не используются в дальнейшей работе.\n",
    " - Изменили типы данных.\n",
    " - Проверили дубликаты."
   ]
  },
  {
   "cell_type": "markdown",
   "metadata": {},
   "source": [
    "## Расчёты и добавление результатов в таблицу"
   ]
  },
  {
   "cell_type": "markdown",
   "metadata": {},
   "source": [
    " -  Для дальнейшего исследования создадим на основе исходной - таблицу с меньшим количеством колонок.\n",
    " \n",
    "\n",
    " -  Оставим колонки, которые необходимы для последующего анализа."
   ]
  },
  {
   "cell_type": "code",
   "execution_count": 48,
   "metadata": {},
   "outputs": [],
   "source": [
    "df_other = df.drop(columns=['ponds_nearest', 'ponds_around3000', 'parks_nearest', 'parks_around3000', 'airports_nearest', 'balcony', 'open_plan', 'studio', 'is_apartment', 'total_images'])\n",
    "# создали новый датафрейм"
   ]
  },
  {
   "cell_type": "code",
   "execution_count": 49,
   "metadata": {},
   "outputs": [
    {
     "name": "stdout",
     "output_type": "stream",
     "text": [
      "<class 'pandas.core.frame.DataFrame'>\n",
      "RangeIndex: 23699 entries, 0 to 23698\n",
      "Data columns (total 12 columns):\n",
      " #   Column                Non-Null Count  Dtype         \n",
      "---  ------                --------------  -----         \n",
      " 0   last_price            23699 non-null  float64       \n",
      " 1   total_area            23699 non-null  float64       \n",
      " 2   first_day_exposition  23699 non-null  datetime64[ns]\n",
      " 3   rooms                 23699 non-null  int64         \n",
      " 4   ceiling_height        23699 non-null  float64       \n",
      " 5   floors_total          23613 non-null  float64       \n",
      " 6   living_area           23699 non-null  float64       \n",
      " 7   floor                 23699 non-null  int64         \n",
      " 8   kitchen_area          21615 non-null  float64       \n",
      " 9   locality_name         23676 non-null  object        \n",
      " 10  cityCenters_nearest   20822 non-null  float64       \n",
      " 11  days_exposition       20518 non-null  float64       \n",
      "dtypes: datetime64[ns](1), float64(8), int64(2), object(1)\n",
      "memory usage: 2.2+ MB\n"
     ]
    }
   ],
   "source": [
    "df_other.info()  # изучили информацию"
   ]
  },
  {
   "cell_type": "code",
   "execution_count": 50,
   "metadata": {
    "scrolled": true
   },
   "outputs": [
    {
     "data": {
      "text/html": [
       "<div>\n",
       "<style scoped>\n",
       "    .dataframe tbody tr th:only-of-type {\n",
       "        vertical-align: middle;\n",
       "    }\n",
       "\n",
       "    .dataframe tbody tr th {\n",
       "        vertical-align: top;\n",
       "    }\n",
       "\n",
       "    .dataframe thead th {\n",
       "        text-align: right;\n",
       "    }\n",
       "</style>\n",
       "<table border=\"1\" class=\"dataframe\">\n",
       "  <thead>\n",
       "    <tr style=\"text-align: right;\">\n",
       "      <th></th>\n",
       "      <th>last_price</th>\n",
       "      <th>total_area</th>\n",
       "      <th>first_day_exposition</th>\n",
       "      <th>rooms</th>\n",
       "      <th>ceiling_height</th>\n",
       "      <th>floors_total</th>\n",
       "      <th>living_area</th>\n",
       "      <th>floor</th>\n",
       "      <th>kitchen_area</th>\n",
       "      <th>locality_name</th>\n",
       "      <th>cityCenters_nearest</th>\n",
       "      <th>days_exposition</th>\n",
       "    </tr>\n",
       "  </thead>\n",
       "  <tbody>\n",
       "    <tr>\n",
       "      <th>0</th>\n",
       "      <td>13000000.0</td>\n",
       "      <td>108.0</td>\n",
       "      <td>2019-03-07</td>\n",
       "      <td>3</td>\n",
       "      <td>2.700000</td>\n",
       "      <td>16.0</td>\n",
       "      <td>51.0</td>\n",
       "      <td>8</td>\n",
       "      <td>25.0</td>\n",
       "      <td>санкт-петербург</td>\n",
       "      <td>16028.0</td>\n",
       "      <td>NaN</td>\n",
       "    </tr>\n",
       "    <tr>\n",
       "      <th>1</th>\n",
       "      <td>3350000.0</td>\n",
       "      <td>40.4</td>\n",
       "      <td>2018-12-04</td>\n",
       "      <td>1</td>\n",
       "      <td>2.730129</td>\n",
       "      <td>11.0</td>\n",
       "      <td>18.6</td>\n",
       "      <td>1</td>\n",
       "      <td>11.0</td>\n",
       "      <td>поселок шушары</td>\n",
       "      <td>18603.0</td>\n",
       "      <td>81.0</td>\n",
       "    </tr>\n",
       "    <tr>\n",
       "      <th>2</th>\n",
       "      <td>5196000.0</td>\n",
       "      <td>56.0</td>\n",
       "      <td>2015-08-20</td>\n",
       "      <td>2</td>\n",
       "      <td>2.730129</td>\n",
       "      <td>5.0</td>\n",
       "      <td>34.3</td>\n",
       "      <td>4</td>\n",
       "      <td>8.3</td>\n",
       "      <td>санкт-петербург</td>\n",
       "      <td>13933.0</td>\n",
       "      <td>558.0</td>\n",
       "    </tr>\n",
       "    <tr>\n",
       "      <th>3</th>\n",
       "      <td>64900000.0</td>\n",
       "      <td>159.0</td>\n",
       "      <td>2015-07-24</td>\n",
       "      <td>3</td>\n",
       "      <td>2.730129</td>\n",
       "      <td>14.0</td>\n",
       "      <td>45.0</td>\n",
       "      <td>9</td>\n",
       "      <td>NaN</td>\n",
       "      <td>санкт-петербург</td>\n",
       "      <td>6800.0</td>\n",
       "      <td>424.0</td>\n",
       "    </tr>\n",
       "    <tr>\n",
       "      <th>4</th>\n",
       "      <td>10000000.0</td>\n",
       "      <td>100.0</td>\n",
       "      <td>2018-06-19</td>\n",
       "      <td>2</td>\n",
       "      <td>3.030000</td>\n",
       "      <td>14.0</td>\n",
       "      <td>32.0</td>\n",
       "      <td>13</td>\n",
       "      <td>41.0</td>\n",
       "      <td>санкт-петербург</td>\n",
       "      <td>8098.0</td>\n",
       "      <td>121.0</td>\n",
       "    </tr>\n",
       "  </tbody>\n",
       "</table>\n",
       "</div>"
      ],
      "text/plain": [
       "   last_price  total_area first_day_exposition  rooms  ceiling_height  \\\n",
       "0  13000000.0       108.0           2019-03-07      3        2.700000   \n",
       "1   3350000.0        40.4           2018-12-04      1        2.730129   \n",
       "2   5196000.0        56.0           2015-08-20      2        2.730129   \n",
       "3  64900000.0       159.0           2015-07-24      3        2.730129   \n",
       "4  10000000.0       100.0           2018-06-19      2        3.030000   \n",
       "\n",
       "   floors_total  living_area  floor  kitchen_area    locality_name  \\\n",
       "0          16.0         51.0      8          25.0  санкт-петербург   \n",
       "1          11.0         18.6      1          11.0   поселок шушары   \n",
       "2           5.0         34.3      4           8.3  санкт-петербург   \n",
       "3          14.0         45.0      9           NaN  санкт-петербург   \n",
       "4          14.0         32.0     13          41.0  санкт-петербург   \n",
       "\n",
       "   cityCenters_nearest  days_exposition  \n",
       "0              16028.0              NaN  \n",
       "1              18603.0             81.0  \n",
       "2              13933.0            558.0  \n",
       "3               6800.0            424.0  \n",
       "4               8098.0            121.0  "
      ]
     },
     "execution_count": 50,
     "metadata": {},
     "output_type": "execute_result"
    }
   ],
   "source": [
    "df_other.head()"
   ]
  },
  {
   "cell_type": "markdown",
   "metadata": {},
   "source": [
    " - А также рассчитаем и добавим в таблицу дополнительные столбцы\n",
    " \n",
    "\n",
    "    - цену кватратного метра\n",
    "    - день недели, месяц и год публикации объявления\n",
    "    - этаж квартиры, варианты - первый, последний, другой\n",
    "    - соотношение площади кухни к общей площади, а также соотношение жилой площади к общей"
   ]
  },
  {
   "cell_type": "code",
   "execution_count": 51,
   "metadata": {
    "scrolled": true
   },
   "outputs": [],
   "source": [
    "df_other['weekday_exposition'] = df_other['first_day_exposition'].dt.weekday #  добавили день, месяц и год публикации объявления\n",
    "df_other['month_exposition'] = df_other['first_day_exposition'].dt.month\n",
    "df_other['year_exposition'] = df_other['first_day_exposition'].dt.year"
   ]
  },
  {
   "cell_type": "code",
   "execution_count": 52,
   "metadata": {},
   "outputs": [
    {
     "data": {
      "text/html": [
       "<div>\n",
       "<style scoped>\n",
       "    .dataframe tbody tr th:only-of-type {\n",
       "        vertical-align: middle;\n",
       "    }\n",
       "\n",
       "    .dataframe tbody tr th {\n",
       "        vertical-align: top;\n",
       "    }\n",
       "\n",
       "    .dataframe thead th {\n",
       "        text-align: right;\n",
       "    }\n",
       "</style>\n",
       "<table border=\"1\" class=\"dataframe\">\n",
       "  <thead>\n",
       "    <tr style=\"text-align: right;\">\n",
       "      <th></th>\n",
       "      <th>last_price</th>\n",
       "      <th>total_area</th>\n",
       "      <th>first_day_exposition</th>\n",
       "      <th>rooms</th>\n",
       "      <th>ceiling_height</th>\n",
       "      <th>floors_total</th>\n",
       "      <th>living_area</th>\n",
       "      <th>floor</th>\n",
       "      <th>kitchen_area</th>\n",
       "      <th>locality_name</th>\n",
       "      <th>cityCenters_nearest</th>\n",
       "      <th>days_exposition</th>\n",
       "      <th>weekday_exposition</th>\n",
       "      <th>month_exposition</th>\n",
       "      <th>year_exposition</th>\n",
       "    </tr>\n",
       "  </thead>\n",
       "  <tbody>\n",
       "    <tr>\n",
       "      <th>0</th>\n",
       "      <td>13000000.0</td>\n",
       "      <td>108.0</td>\n",
       "      <td>2019-03-07</td>\n",
       "      <td>3</td>\n",
       "      <td>2.700000</td>\n",
       "      <td>16.0</td>\n",
       "      <td>51.0</td>\n",
       "      <td>8</td>\n",
       "      <td>25.0</td>\n",
       "      <td>санкт-петербург</td>\n",
       "      <td>16028.0</td>\n",
       "      <td>NaN</td>\n",
       "      <td>3</td>\n",
       "      <td>3</td>\n",
       "      <td>2019</td>\n",
       "    </tr>\n",
       "    <tr>\n",
       "      <th>1</th>\n",
       "      <td>3350000.0</td>\n",
       "      <td>40.4</td>\n",
       "      <td>2018-12-04</td>\n",
       "      <td>1</td>\n",
       "      <td>2.730129</td>\n",
       "      <td>11.0</td>\n",
       "      <td>18.6</td>\n",
       "      <td>1</td>\n",
       "      <td>11.0</td>\n",
       "      <td>поселок шушары</td>\n",
       "      <td>18603.0</td>\n",
       "      <td>81.0</td>\n",
       "      <td>1</td>\n",
       "      <td>12</td>\n",
       "      <td>2018</td>\n",
       "    </tr>\n",
       "    <tr>\n",
       "      <th>2</th>\n",
       "      <td>5196000.0</td>\n",
       "      <td>56.0</td>\n",
       "      <td>2015-08-20</td>\n",
       "      <td>2</td>\n",
       "      <td>2.730129</td>\n",
       "      <td>5.0</td>\n",
       "      <td>34.3</td>\n",
       "      <td>4</td>\n",
       "      <td>8.3</td>\n",
       "      <td>санкт-петербург</td>\n",
       "      <td>13933.0</td>\n",
       "      <td>558.0</td>\n",
       "      <td>3</td>\n",
       "      <td>8</td>\n",
       "      <td>2015</td>\n",
       "    </tr>\n",
       "    <tr>\n",
       "      <th>3</th>\n",
       "      <td>64900000.0</td>\n",
       "      <td>159.0</td>\n",
       "      <td>2015-07-24</td>\n",
       "      <td>3</td>\n",
       "      <td>2.730129</td>\n",
       "      <td>14.0</td>\n",
       "      <td>45.0</td>\n",
       "      <td>9</td>\n",
       "      <td>NaN</td>\n",
       "      <td>санкт-петербург</td>\n",
       "      <td>6800.0</td>\n",
       "      <td>424.0</td>\n",
       "      <td>4</td>\n",
       "      <td>7</td>\n",
       "      <td>2015</td>\n",
       "    </tr>\n",
       "    <tr>\n",
       "      <th>4</th>\n",
       "      <td>10000000.0</td>\n",
       "      <td>100.0</td>\n",
       "      <td>2018-06-19</td>\n",
       "      <td>2</td>\n",
       "      <td>3.030000</td>\n",
       "      <td>14.0</td>\n",
       "      <td>32.0</td>\n",
       "      <td>13</td>\n",
       "      <td>41.0</td>\n",
       "      <td>санкт-петербург</td>\n",
       "      <td>8098.0</td>\n",
       "      <td>121.0</td>\n",
       "      <td>1</td>\n",
       "      <td>6</td>\n",
       "      <td>2018</td>\n",
       "    </tr>\n",
       "  </tbody>\n",
       "</table>\n",
       "</div>"
      ],
      "text/plain": [
       "   last_price  total_area first_day_exposition  rooms  ceiling_height  \\\n",
       "0  13000000.0       108.0           2019-03-07      3        2.700000   \n",
       "1   3350000.0        40.4           2018-12-04      1        2.730129   \n",
       "2   5196000.0        56.0           2015-08-20      2        2.730129   \n",
       "3  64900000.0       159.0           2015-07-24      3        2.730129   \n",
       "4  10000000.0       100.0           2018-06-19      2        3.030000   \n",
       "\n",
       "   floors_total  living_area  floor  kitchen_area    locality_name  \\\n",
       "0          16.0         51.0      8          25.0  санкт-петербург   \n",
       "1          11.0         18.6      1          11.0   поселок шушары   \n",
       "2           5.0         34.3      4           8.3  санкт-петербург   \n",
       "3          14.0         45.0      9           NaN  санкт-петербург   \n",
       "4          14.0         32.0     13          41.0  санкт-петербург   \n",
       "\n",
       "   cityCenters_nearest  days_exposition  weekday_exposition  month_exposition  \\\n",
       "0              16028.0              NaN                   3                 3   \n",
       "1              18603.0             81.0                   1                12   \n",
       "2              13933.0            558.0                   3                 8   \n",
       "3               6800.0            424.0                   4                 7   \n",
       "4               8098.0            121.0                   1                 6   \n",
       "\n",
       "   year_exposition  \n",
       "0             2019  \n",
       "1             2018  \n",
       "2             2015  \n",
       "3             2015  \n",
       "4             2018  "
      ]
     },
     "execution_count": 52,
     "metadata": {},
     "output_type": "execute_result"
    }
   ],
   "source": [
    "df_other.head()"
   ]
  },
  {
   "cell_type": "code",
   "execution_count": 53,
   "metadata": {},
   "outputs": [],
   "source": [
    "df_other['mid_price_metr'] = df_other['last_price'] / df_other['total_area'] # рассчитали стоимость квадратного метра"
   ]
  },
  {
   "cell_type": "code",
   "execution_count": 54,
   "metadata": {},
   "outputs": [
    {
     "name": "stdout",
     "output_type": "stream",
     "text": [
      "другой\n"
     ]
    }
   ],
   "source": [
    "def position_floor_variant(row):                    # написали функцию для рассчета вариантов этажей\n",
    "    if row['floor'] == row['floors_total']:\n",
    "        return 'последний'\n",
    "    if row['floor'] == 1:\n",
    "        return 'первый'\n",
    "    return 'другой'\n",
    "\n",
    "row_values = [8, 16]\n",
    "             \n",
    "row_columns = ['floor', 'floors_total']\n",
    "row = pd.Series(data=row_values, index=row_columns)\n",
    "print(position_floor_variant(row))\n",
    "\n"
   ]
  },
  {
   "cell_type": "code",
   "execution_count": 55,
   "metadata": {},
   "outputs": [],
   "source": [
    "df_other['floor_variant'] = df_other.apply(position_floor_variant, axis=1)  # сформировали столбец на основе работы функции"
   ]
  },
  {
   "cell_type": "code",
   "execution_count": 56,
   "metadata": {},
   "outputs": [],
   "source": [
    "df_other['kitchen_total_area'] = round(df_other['kitchen_area'] / df_other['total_area'], 2) # соотношение площади кухни и общей"
   ]
  },
  {
   "cell_type": "code",
   "execution_count": 57,
   "metadata": {},
   "outputs": [],
   "source": [
    "df_other['living_total_area'] = round(df_other['living_area'] / df_other['total_area'], 2)  # соотношение площади жилой и общей"
   ]
  },
  {
   "cell_type": "code",
   "execution_count": 58,
   "metadata": {},
   "outputs": [
    {
     "data": {
      "text/html": [
       "<div>\n",
       "<style scoped>\n",
       "    .dataframe tbody tr th:only-of-type {\n",
       "        vertical-align: middle;\n",
       "    }\n",
       "\n",
       "    .dataframe tbody tr th {\n",
       "        vertical-align: top;\n",
       "    }\n",
       "\n",
       "    .dataframe thead th {\n",
       "        text-align: right;\n",
       "    }\n",
       "</style>\n",
       "<table border=\"1\" class=\"dataframe\">\n",
       "  <thead>\n",
       "    <tr style=\"text-align: right;\">\n",
       "      <th></th>\n",
       "      <th>last_price</th>\n",
       "      <th>total_area</th>\n",
       "      <th>first_day_exposition</th>\n",
       "      <th>rooms</th>\n",
       "      <th>ceiling_height</th>\n",
       "      <th>floors_total</th>\n",
       "      <th>living_area</th>\n",
       "      <th>floor</th>\n",
       "      <th>kitchen_area</th>\n",
       "      <th>locality_name</th>\n",
       "      <th>cityCenters_nearest</th>\n",
       "      <th>days_exposition</th>\n",
       "      <th>weekday_exposition</th>\n",
       "      <th>month_exposition</th>\n",
       "      <th>year_exposition</th>\n",
       "      <th>mid_price_metr</th>\n",
       "      <th>floor_variant</th>\n",
       "      <th>kitchen_total_area</th>\n",
       "      <th>living_total_area</th>\n",
       "    </tr>\n",
       "  </thead>\n",
       "  <tbody>\n",
       "    <tr>\n",
       "      <th>0</th>\n",
       "      <td>13000000.0</td>\n",
       "      <td>108.0</td>\n",
       "      <td>2019-03-07</td>\n",
       "      <td>3</td>\n",
       "      <td>2.700000</td>\n",
       "      <td>16.0</td>\n",
       "      <td>51.0</td>\n",
       "      <td>8</td>\n",
       "      <td>25.0</td>\n",
       "      <td>санкт-петербург</td>\n",
       "      <td>16028.0</td>\n",
       "      <td>NaN</td>\n",
       "      <td>3</td>\n",
       "      <td>3</td>\n",
       "      <td>2019</td>\n",
       "      <td>120370.370370</td>\n",
       "      <td>другой</td>\n",
       "      <td>0.23</td>\n",
       "      <td>0.47</td>\n",
       "    </tr>\n",
       "    <tr>\n",
       "      <th>1</th>\n",
       "      <td>3350000.0</td>\n",
       "      <td>40.4</td>\n",
       "      <td>2018-12-04</td>\n",
       "      <td>1</td>\n",
       "      <td>2.730129</td>\n",
       "      <td>11.0</td>\n",
       "      <td>18.6</td>\n",
       "      <td>1</td>\n",
       "      <td>11.0</td>\n",
       "      <td>поселок шушары</td>\n",
       "      <td>18603.0</td>\n",
       "      <td>81.0</td>\n",
       "      <td>1</td>\n",
       "      <td>12</td>\n",
       "      <td>2018</td>\n",
       "      <td>82920.792079</td>\n",
       "      <td>первый</td>\n",
       "      <td>0.27</td>\n",
       "      <td>0.46</td>\n",
       "    </tr>\n",
       "    <tr>\n",
       "      <th>2</th>\n",
       "      <td>5196000.0</td>\n",
       "      <td>56.0</td>\n",
       "      <td>2015-08-20</td>\n",
       "      <td>2</td>\n",
       "      <td>2.730129</td>\n",
       "      <td>5.0</td>\n",
       "      <td>34.3</td>\n",
       "      <td>4</td>\n",
       "      <td>8.3</td>\n",
       "      <td>санкт-петербург</td>\n",
       "      <td>13933.0</td>\n",
       "      <td>558.0</td>\n",
       "      <td>3</td>\n",
       "      <td>8</td>\n",
       "      <td>2015</td>\n",
       "      <td>92785.714286</td>\n",
       "      <td>другой</td>\n",
       "      <td>0.15</td>\n",
       "      <td>0.61</td>\n",
       "    </tr>\n",
       "    <tr>\n",
       "      <th>3</th>\n",
       "      <td>64900000.0</td>\n",
       "      <td>159.0</td>\n",
       "      <td>2015-07-24</td>\n",
       "      <td>3</td>\n",
       "      <td>2.730129</td>\n",
       "      <td>14.0</td>\n",
       "      <td>45.0</td>\n",
       "      <td>9</td>\n",
       "      <td>NaN</td>\n",
       "      <td>санкт-петербург</td>\n",
       "      <td>6800.0</td>\n",
       "      <td>424.0</td>\n",
       "      <td>4</td>\n",
       "      <td>7</td>\n",
       "      <td>2015</td>\n",
       "      <td>408176.100629</td>\n",
       "      <td>другой</td>\n",
       "      <td>NaN</td>\n",
       "      <td>0.28</td>\n",
       "    </tr>\n",
       "    <tr>\n",
       "      <th>4</th>\n",
       "      <td>10000000.0</td>\n",
       "      <td>100.0</td>\n",
       "      <td>2018-06-19</td>\n",
       "      <td>2</td>\n",
       "      <td>3.030000</td>\n",
       "      <td>14.0</td>\n",
       "      <td>32.0</td>\n",
       "      <td>13</td>\n",
       "      <td>41.0</td>\n",
       "      <td>санкт-петербург</td>\n",
       "      <td>8098.0</td>\n",
       "      <td>121.0</td>\n",
       "      <td>1</td>\n",
       "      <td>6</td>\n",
       "      <td>2018</td>\n",
       "      <td>100000.000000</td>\n",
       "      <td>другой</td>\n",
       "      <td>0.41</td>\n",
       "      <td>0.32</td>\n",
       "    </tr>\n",
       "  </tbody>\n",
       "</table>\n",
       "</div>"
      ],
      "text/plain": [
       "   last_price  total_area first_day_exposition  rooms  ceiling_height  \\\n",
       "0  13000000.0       108.0           2019-03-07      3        2.700000   \n",
       "1   3350000.0        40.4           2018-12-04      1        2.730129   \n",
       "2   5196000.0        56.0           2015-08-20      2        2.730129   \n",
       "3  64900000.0       159.0           2015-07-24      3        2.730129   \n",
       "4  10000000.0       100.0           2018-06-19      2        3.030000   \n",
       "\n",
       "   floors_total  living_area  floor  kitchen_area    locality_name  \\\n",
       "0          16.0         51.0      8          25.0  санкт-петербург   \n",
       "1          11.0         18.6      1          11.0   поселок шушары   \n",
       "2           5.0         34.3      4           8.3  санкт-петербург   \n",
       "3          14.0         45.0      9           NaN  санкт-петербург   \n",
       "4          14.0         32.0     13          41.0  санкт-петербург   \n",
       "\n",
       "   cityCenters_nearest  days_exposition  weekday_exposition  month_exposition  \\\n",
       "0              16028.0              NaN                   3                 3   \n",
       "1              18603.0             81.0                   1                12   \n",
       "2              13933.0            558.0                   3                 8   \n",
       "3               6800.0            424.0                   4                 7   \n",
       "4               8098.0            121.0                   1                 6   \n",
       "\n",
       "   year_exposition  mid_price_metr floor_variant  kitchen_total_area  \\\n",
       "0             2019   120370.370370        другой                0.23   \n",
       "1             2018    82920.792079        первый                0.27   \n",
       "2             2015    92785.714286        другой                0.15   \n",
       "3             2015   408176.100629        другой                 NaN   \n",
       "4             2018   100000.000000        другой                0.41   \n",
       "\n",
       "   living_total_area  \n",
       "0               0.47  \n",
       "1               0.46  \n",
       "2               0.61  \n",
       "3               0.28  \n",
       "4               0.32  "
      ]
     },
     "execution_count": 58,
     "metadata": {},
     "output_type": "execute_result"
    }
   ],
   "source": [
    "df_other.head() # проверили результат"
   ]
  },
  {
   "cell_type": "markdown",
   "metadata": {},
   "source": [
    "**Вывод**\n",
    "\n",
    "- Удрали столбцы, которые не используем в анализе\n",
    "- Добавили новые столбы с рассчетами:\n",
    "    - цена кватратного метра\n",
    "    - выделили день недели, месяц и год публикации объявления\n",
    "    - создали категоризацию этажей - первый, последний, другой\n",
    "    - посчитали соотношение площади кухни к общей площади, а также соотношение жилой площади к общей"
   ]
  },
  {
   "cell_type": "markdown",
   "metadata": {},
   "source": [
    "## Исследовательский анализ данных"
   ]
  },
  {
   "cell_type": "markdown",
   "metadata": {},
   "source": [
    "   - Изучим параметры: \n",
    "    \n",
    "     - площадь \n",
    "     - цена \n",
    "     - число комнат \n",
    "     - высота потолков\n",
    "   \n",
    "\n",
    "   - Построим гистограммы для каждого параметра\n",
    "\n",
    "Сначала получим числовое описание данных методом `describe()` для каждого параметра    <a id='area'></a>"
   ]
  },
  {
   "cell_type": "code",
   "execution_count": 59,
   "metadata": {
    "scrolled": true
   },
   "outputs": [
    {
     "data": {
      "text/plain": [
       "count    23699.000000\n",
       "mean        60.348651\n",
       "std         35.654083\n",
       "min         12.000000\n",
       "25%         40.000000\n",
       "50%         52.000000\n",
       "75%         69.900000\n",
       "max        900.000000\n",
       "Name: total_area, dtype: float64"
      ]
     },
     "execution_count": 59,
     "metadata": {},
     "output_type": "execute_result"
    }
   ],
   "source": [
    "df_other['total_area'].describe() # изучим площадь  "
   ]
  },
  {
   "cell_type": "markdown",
   "metadata": {},
   "source": [
    "Крайние значения в столбце сильно отличаются. Максимальное значение сильно контрастирует с остальными характеристиками.\n",
    "\n",
    "Средние значение немного больше медианного. Стандартное отклонение невысокое\n",
    "\n",
    "Можно сказать, что данные достаточно однородные, выбросы единичное явление.\n",
    "\n",
    "Зададим диапзон от 12 до 200, это вполне реалистичные цифры."
   ]
  },
  {
   "cell_type": "code",
   "execution_count": 60,
   "metadata": {},
   "outputs": [
    {
     "data": {
      "image/png": "[encoded data removed]",
      "text/plain": [
       "<Figure size 432x288 with 1 Axes>"
      ]
     },
     "metadata": {
      "needs_background": "light"
     },
     "output_type": "display_data"
    }
   ],
   "source": [
    "df_other.hist('total_area', bins=200, range=(12, 200));"
   ]
  },
  {
   "cell_type": "markdown",
   "metadata": {},
   "source": [
    "Вывод\n",
    "\n",
    "Квартир с площадью от 100 до 200 квадратных метров небольшое количество\n",
    "\n",
    "От 30 до 80 квадратных метров больше. Уменьшается площадь, увеличивается количество.\n",
    "\n",
    "Основная масса квартир на рынке площадью от 30 до 40 кватратных метров\n",
    "\n",
    "Чем меньше площадь, тем большее количество квартир на рынке продаж     \n",
    "\n"
   ]
  },
  {
   "cell_type": "code",
   "execution_count": 61,
   "metadata": {
    "scrolled": true
   },
   "outputs": [
    {
     "data": {
      "text/plain": [
       "count    2.369900e+04\n",
       "mean     6.541549e+06\n",
       "std      1.088701e+07\n",
       "min      1.219000e+04\n",
       "25%      3.400000e+06\n",
       "50%      4.650000e+06\n",
       "75%      6.800000e+06\n",
       "max      7.630000e+08\n",
       "Name: last_price, dtype: float64"
      ]
     },
     "execution_count": 61,
     "metadata": {},
     "output_type": "execute_result"
    }
   ],
   "source": [
    "df_other['last_price'].describe() # изучим параметр цена"
   ]
  },
  {
   "cell_type": "markdown",
   "metadata": {},
   "source": [
    "Показатель стоимости  демострирует сильный контраст в крайних значениях\n",
    "\n",
    "По величине стандартного отклонения можем сказать о сильных выбросах\n",
    "\n",
    "Выбросы повлияли на среднее значение. Среднее превышает медиану примерно на треть."
   ]
  },
  {
   "cell_type": "code",
   "execution_count": 62,
   "metadata": {
    "scrolled": true
   },
   "outputs": [
    {
     "data": {
      "image/png": "[encoded data removed]",
      "text/plain": [
       "<Figure size 432x288 with 1 Axes>"
      ]
     },
     "metadata": {
      "needs_background": "light"
     },
     "output_type": "display_data"
    }
   ],
   "source": [
    "df_other.hist('last_price', bins=200, range=(500000, 20000000));"
   ]
  },
  {
   "cell_type": "markdown",
   "metadata": {},
   "source": [
    "Вывод\n",
    "\n",
    "Квартиры по стоимости от 10 млн до 20 млн немногочислены, но  все же явно присутствуют. Отдельные всплески достигают по количеству квартиры со стоимостью до 500 тысяч.\n",
    "\n",
    "Активнее всего представлены квартиры стоимостью от 3 до 4 млн\n",
    "\n",
    "Ниже по частотности квартиры от 2,5 млн до 5 млн, следующая по убыванию группа от 1 млн до 7,5 млн\n",
    "\n",
    "На рынке чаще представлено среднее по стоимости жилье. Чем больше цена отличается от средней, тем реже предложения о продаже."
   ]
  },
  {
   "cell_type": "code",
   "execution_count": 63,
   "metadata": {
    "scrolled": true
   },
   "outputs": [
    {
     "data": {
      "text/plain": [
       "count    23699.000000\n",
       "mean         2.078948\n",
       "std          1.066196\n",
       "min          1.000000\n",
       "25%          1.000000\n",
       "50%          2.000000\n",
       "75%          3.000000\n",
       "max         19.000000\n",
       "Name: rooms, dtype: float64"
      ]
     },
     "execution_count": 63,
     "metadata": {},
     "output_type": "execute_result"
    }
   ],
   "source": [
    "df_other['rooms'].describe() # изучим параметр количество комнат"
   ]
  },
  {
   "cell_type": "markdown",
   "metadata": {},
   "source": [
    "В описательной характеристике столбца средние значение почти совпадает с медианным\n",
    "\n",
    "Стандартное отклонение указывает на присутствие выбросов.\n",
    "\n",
    "<a id='rooms'></a>"
   ]
  },
  {
   "cell_type": "code",
   "execution_count": 64,
   "metadata": {},
   "outputs": [
    {
     "data": {
      "image/png": "[encoded data removed]",
      "text/plain": [
       "<Figure size 432x288 with 1 Axes>"
      ]
     },
     "metadata": {
      "needs_background": "light"
     },
     "output_type": "display_data"
    }
   ],
   "source": [
    "df_other.hist('rooms', bins=50, range=(0, 10));"
   ]
  },
  {
   "cell_type": "markdown",
   "metadata": {},
   "source": [
    "Вывод\n",
    "\n",
    "По гистограмме сразу очевидно - больше всего и в равной степени предложений о продаже 1 и 2 комнатных квартир.\n",
    "\n",
    "Примерно, на 30 процентов меньше в продаже 3 комнатных квартир.\n",
    "Далее прослеживается закономерность, чем больше комнат, тем меньше предложений о продаже.\n",
    "\n",
    "Встречаются объявления с нулем жилых комнат, но в небольшом количестве.\n",
    "\n"
   ]
  },
  {
   "cell_type": "code",
   "execution_count": 65,
   "metadata": {
    "scrolled": false
   },
   "outputs": [
    {
     "data": {
      "text/plain": [
       "count    23699.000000\n",
       "mean         2.755448\n",
       "std          0.986729\n",
       "min          1.000000\n",
       "25%          2.600000\n",
       "50%          2.730129\n",
       "75%          2.730129\n",
       "max        100.000000\n",
       "Name: ceiling_height, dtype: float64"
      ]
     },
     "execution_count": 65,
     "metadata": {},
     "output_type": "execute_result"
    }
   ],
   "source": [
    "df_other['ceiling_height'].describe() # изучим параметр высота потолков"
   ]
  },
  {
   "cell_type": "markdown",
   "metadata": {},
   "source": [
    "Максимальная и минимальная высота сильно отличаются. Но такие значения единичны.\n",
    "\n",
    "Медиана равна среднему. Стандартное отклонение, примерно, 30 процентов от данных значений\n",
    "\n",
    "Изначально около трети значений было пропущено. Их заменили на медиану.\n",
    "\n",
    "Это объясняет однородность значений."
   ]
  },
  {
   "cell_type": "code",
   "execution_count": 66,
   "metadata": {},
   "outputs": [
    {
     "data": {
      "image/png": "[encoded data removed]",
      "text/plain": [
       "<Figure size 432x288 with 1 Axes>"
      ]
     },
     "metadata": {
      "needs_background": "light"
     },
     "output_type": "display_data"
    }
   ],
   "source": [
    "df_other.hist('ceiling_height', bins=100, range=(2, 10));"
   ]
  },
  {
   "cell_type": "markdown",
   "metadata": {},
   "source": [
    "Вывод\n",
    "\n",
    "Основная масса квартир  с высотой потолков 2,7 метра.\n",
    "\n",
    "Высота 2,5 метра также довольно типичное явление.\n",
    "\n",
    "А вот с высотой от 2.9 метра и более встречаемость заметно падает\n",
    "\n",
    "Квартир с высотой потолков 3 метра 4 метра очень мало на рынке.\n"
   ]
  },
  {
   "cell_type": "markdown",
   "metadata": {},
   "source": [
    "\n",
    "\n",
    " - **Изучим время продажи квартиры**"
   ]
  },
  {
   "cell_type": "code",
   "execution_count": 67,
   "metadata": {
    "scrolled": false
   },
   "outputs": [
    {
     "data": {
      "text/plain": [
       "count    20518.000000\n",
       "mean       180.888634\n",
       "std        219.727988\n",
       "min          1.000000\n",
       "25%         45.000000\n",
       "50%         95.000000\n",
       "75%        232.000000\n",
       "max       1580.000000\n",
       "Name: days_exposition, dtype: float64"
      ]
     },
     "execution_count": 67,
     "metadata": {},
     "output_type": "execute_result"
    }
   ],
   "source": [
    "df_other['days_exposition'].describe() # получим описание столбца"
   ]
  },
  {
   "cell_type": "markdown",
   "metadata": {},
   "source": [
    "Среднее значение в два раза превышает медиану. Стандартное отклонение очень большое.\n",
    "\n",
    "Это указывает, что выборка очень неоднородна. \n",
    "\n",
    "Можно отбросить значения за квартилями. \n",
    "\n",
    "Интересно узнать как часто встречаются крайние значения. Запросим и посчитаем строки."
   ]
  },
  {
   "cell_type": "code",
   "execution_count": 68,
   "metadata": {
    "scrolled": true
   },
   "outputs": [
    {
     "name": "stdout",
     "output_type": "stream",
     "text": [
      "1\n",
      "3\n",
      "0\n",
      "1471\n",
      "751\n"
     ]
    }
   ],
   "source": [
    "print(len(df_other.loc[df_other['days_exposition'] <= 1])) # 3181 значение было пропущено, заменили на 0\n",
    "print(len(df_other.loc[df_other['days_exposition'] == 2]))  # число объявлений со сроком публикации 2 дня\n",
    "print(len(df_other.loc[df_other['days_exposition'] == 3]))  #\n",
    "print(len(df_other.loc[df_other['days_exposition'] >= 550]))  #\n",
    "print(len(df_other.loc[df_other['days_exposition'] >= 730]))  #"
   ]
  },
  {
   "cell_type": "markdown",
   "metadata": {},
   "source": [
    "От трех дней количество объявлений начинает расти\n",
    "\n",
    "А по истечении 2 лет уменьшается\n",
    "\n",
    "Учитывая числовое описание столбца и результаты запроса строк зададим параметры для гистограмьы"
   ]
  },
  {
   "cell_type": "code",
   "execution_count": 69,
   "metadata": {
    "scrolled": true
   },
   "outputs": [
    {
     "data": {
      "image/png": "[encoded data removed]",
      "text/plain": [
       "<Figure size 432x288 with 1 Axes>"
      ]
     },
     "metadata": {
      "needs_background": "light"
     },
     "output_type": "display_data"
    }
   ],
   "source": [
    "df_other.hist('days_exposition', bins=80, range=(3, 730));"
   ]
  },
  {
   "cell_type": "markdown",
   "metadata": {},
   "source": [
    "Вывод\n",
    "\n",
    "Если считать, что объявление снимают, когда квартира продана, то обычно продажа состоится в течении двух месяцев\n",
    "\n",
    "Достаточно типичны продажи в течении недели\n",
    "\n",
    "В течении от года до полутора, квартира, как правило бывает продана.\n",
    "\n",
    "Затянутые сроки продаж менее частотно представлены в выборке.\n",
    "\n",
    "То есть, чем длительнее срок объявления, тем меньше количество таких объявлений.\n",
    "\n",
    "Если продажи прошли в течении недели, можно говорить о быстрой продаже. В числовой характеристике указано максимальное значение  1580 дней, четыре с лишним года, это очень длительная продажа. \n",
    "\n",
    "Пики, скорее всего, указывают на дни автоматического снятия объявления с публикации. В данной гистиограмме это неделя, месяц, 2 месяца."
   ]
  },
  {
   "cell_type": "markdown",
   "metadata": {},
   "source": [
    "\n",
    "\n",
    "  -  **Изучим факторы влияющие на стомость квартиры.**\n",
    "\n",
    "Рассмотрим соотношение\n",
    "\n",
    "  -  цены и площади\n",
    "  -  цены и числа комнат\n",
    "  -  цены и удаленности от центра\n",
    "  \n",
    "  Рассчитаем коэффициент корреляции и построим матрицу диаграмм рассеяния по этими величинами\n",
    "  \n",
    "  Отберем в отдельную таблицу столбцы с нужными данными."
   ]
  },
  {
   "cell_type": "code",
   "execution_count": 70,
   "metadata": {},
   "outputs": [
    {
     "data": {
      "text/html": [
       "<div>\n",
       "<style scoped>\n",
       "    .dataframe tbody tr th:only-of-type {\n",
       "        vertical-align: middle;\n",
       "    }\n",
       "\n",
       "    .dataframe tbody tr th {\n",
       "        vertical-align: top;\n",
       "    }\n",
       "\n",
       "    .dataframe thead th {\n",
       "        text-align: right;\n",
       "    }\n",
       "</style>\n",
       "<table border=\"1\" class=\"dataframe\">\n",
       "  <thead>\n",
       "    <tr style=\"text-align: right;\">\n",
       "      <th></th>\n",
       "      <th>total_area</th>\n",
       "      <th>rooms</th>\n",
       "      <th>cityCenters_nearest</th>\n",
       "      <th>last_price</th>\n",
       "    </tr>\n",
       "  </thead>\n",
       "  <tbody>\n",
       "    <tr>\n",
       "      <th>0</th>\n",
       "      <td>108.0</td>\n",
       "      <td>3</td>\n",
       "      <td>16028.0</td>\n",
       "      <td>13000000.0</td>\n",
       "    </tr>\n",
       "    <tr>\n",
       "      <th>1</th>\n",
       "      <td>40.4</td>\n",
       "      <td>1</td>\n",
       "      <td>18603.0</td>\n",
       "      <td>3350000.0</td>\n",
       "    </tr>\n",
       "    <tr>\n",
       "      <th>2</th>\n",
       "      <td>56.0</td>\n",
       "      <td>2</td>\n",
       "      <td>13933.0</td>\n",
       "      <td>5196000.0</td>\n",
       "    </tr>\n",
       "    <tr>\n",
       "      <th>3</th>\n",
       "      <td>159.0</td>\n",
       "      <td>3</td>\n",
       "      <td>6800.0</td>\n",
       "      <td>64900000.0</td>\n",
       "    </tr>\n",
       "    <tr>\n",
       "      <th>4</th>\n",
       "      <td>100.0</td>\n",
       "      <td>2</td>\n",
       "      <td>8098.0</td>\n",
       "      <td>10000000.0</td>\n",
       "    </tr>\n",
       "  </tbody>\n",
       "</table>\n",
       "</div>"
      ],
      "text/plain": [
       "   total_area  rooms  cityCenters_nearest  last_price\n",
       "0       108.0      3              16028.0  13000000.0\n",
       "1        40.4      1              18603.0   3350000.0\n",
       "2        56.0      2              13933.0   5196000.0\n",
       "3       159.0      3               6800.0  64900000.0\n",
       "4       100.0      2               8098.0  10000000.0"
      ]
     },
     "execution_count": 70,
     "metadata": {},
     "output_type": "execute_result"
    }
   ],
   "source": [
    "df_other_cor = df_other[['total_area', 'rooms', 'cityCenters_nearest', 'last_price']] \n",
    "df_other_cor.head()"
   ]
  },
  {
   "cell_type": "code",
   "execution_count": 71,
   "metadata": {},
   "outputs": [
    {
     "data": {
      "text/html": [
       "<div>\n",
       "<style scoped>\n",
       "    .dataframe tbody tr th:only-of-type {\n",
       "        vertical-align: middle;\n",
       "    }\n",
       "\n",
       "    .dataframe tbody tr th {\n",
       "        vertical-align: top;\n",
       "    }\n",
       "\n",
       "    .dataframe thead th {\n",
       "        text-align: right;\n",
       "    }\n",
       "</style>\n",
       "<table border=\"1\" class=\"dataframe\">\n",
       "  <thead>\n",
       "    <tr style=\"text-align: right;\">\n",
       "      <th></th>\n",
       "      <th>total_area</th>\n",
       "      <th>rooms</th>\n",
       "      <th>cityCenters_nearest</th>\n",
       "      <th>last_price</th>\n",
       "    </tr>\n",
       "  </thead>\n",
       "  <tbody>\n",
       "    <tr>\n",
       "      <th>total_area</th>\n",
       "      <td>1.000000</td>\n",
       "      <td>0.760233</td>\n",
       "      <td>-0.140832</td>\n",
       "      <td>0.653675</td>\n",
       "    </tr>\n",
       "    <tr>\n",
       "      <th>rooms</th>\n",
       "      <td>0.760233</td>\n",
       "      <td>1.000000</td>\n",
       "      <td>-0.091518</td>\n",
       "      <td>0.365209</td>\n",
       "    </tr>\n",
       "    <tr>\n",
       "      <th>cityCenters_nearest</th>\n",
       "      <td>-0.140832</td>\n",
       "      <td>-0.091518</td>\n",
       "      <td>1.000000</td>\n",
       "      <td>-0.156048</td>\n",
       "    </tr>\n",
       "    <tr>\n",
       "      <th>last_price</th>\n",
       "      <td>0.653675</td>\n",
       "      <td>0.365209</td>\n",
       "      <td>-0.156048</td>\n",
       "      <td>1.000000</td>\n",
       "    </tr>\n",
       "  </tbody>\n",
       "</table>\n",
       "</div>"
      ],
      "text/plain": [
       "                     total_area     rooms  cityCenters_nearest  last_price\n",
       "total_area             1.000000  0.760233            -0.140832    0.653675\n",
       "rooms                  0.760233  1.000000            -0.091518    0.365209\n",
       "cityCenters_nearest   -0.140832 -0.091518             1.000000   -0.156048\n",
       "last_price             0.653675  0.365209            -0.156048    1.000000"
      ]
     },
     "execution_count": 71,
     "metadata": {},
     "output_type": "execute_result"
    }
   ],
   "source": [
    "df_other_cor.corr()  # считаем коэффициент"
   ]
  },
  {
   "cell_type": "code",
   "execution_count": 72,
   "metadata": {},
   "outputs": [
    {
     "data": {
      "image/png": "[encoded data removed]",
      "text/plain": [
       "<Figure size 648x648 with 16 Axes>"
      ]
     },
     "metadata": {
      "needs_background": "light"
     },
     "output_type": "display_data"
    }
   ],
   "source": [
    "pd.plotting.scatter_matrix(df_other_cor, figsize=(9, 9));"
   ]
  },
  {
   "cell_type": "markdown",
   "metadata": {},
   "source": [
    "Вывод\n",
    "\n",
    "В соотношении цены и площади корреляция положительная, выше среднего. Чем больше площадь квартиры, тем выше цена. \n",
    "\n",
    "В соотношении количества комнат и цены корреляция положительная, но ниже среднего. 1 комнатная квартира может по площади не уступать и 3 комнатной\n",
    "\n",
    "Соотношение цены и удаленности от центра характеризуется отрицательной, слабой корреляцией. Чем дальше от центра, тем ниже цена. Но зависимость минимальная.\n",
    "\n",
    "<a id='correl'></a>"
   ]
  },
  {
   "cell_type": "markdown",
   "metadata": {},
   "source": [
    "\n",
    "\n",
    "   - **Изучим зависимость цены от того на каком этаже расположена квартира**\n",
    "\n",
    "Ранее мы создали столбец с категориями этажей\n",
    " - другой\n",
    " - первый\n",
    " - последний\n",
    " \n",
    "Построим график на основе рассчета сводной таблицы. Изучим зависимость цены от этажа квартиры"
   ]
  },
  {
   "cell_type": "code",
   "execution_count": 73,
   "metadata": {},
   "outputs": [
    {
     "data": {
      "image/png": "[encoded data removed]",
      "text/plain": [
       "<Figure size 720x360 with 1 Axes>"
      ]
     },
     "metadata": {
      "needs_background": "light"
     },
     "output_type": "display_data"
    }
   ],
   "source": [
    "df_other.pivot_table(index='floor_variant', values='last_price').sort_values(by='last_price')\\\n",
    ".plot(y='last_price', kind='bar', figsize=(10, 5), title='Зависимость цены от этажа квартиры', xlabel='Вариант этажа', ylabel='Стоимость');"
   ]
  },
  {
   "cell_type": "markdown",
   "metadata": {},
   "source": [
    "Вывод\n",
    "\n",
    "Наибольшей стоимостью обладают квартиры на последнем этаже.\n",
    "На первом этаже квартиры дешевле, чем на всех остальных.\n",
    "Видимо люди стремятся к уединенности"
   ]
  },
  {
   "cell_type": "markdown",
   "metadata": {},
   "source": [
    "\n",
    "\n",
    " - Изучим зависимость цены от даты размещения\n",
    "   - дня недели\n",
    "   - месяца\n",
    "   - года\n",
    "\n",
    "Построим график на основе сводной таблицы\n"
   ]
  },
  {
   "cell_type": "code",
   "execution_count": 74,
   "metadata": {
    "scrolled": false
   },
   "outputs": [
    {
     "data": {
      "image/png": "[encoded data removed]",
      "text/plain": [
       "<Figure size 720x360 with 1 Axes>"
      ]
     },
     "metadata": {
      "needs_background": "light"
     },
     "output_type": "display_data"
    }
   ],
   "source": [
    "df_other.pivot_table(index='weekday_exposition', values='last_price').sort_values(by='weekday_exposition')\\\n",
    ".plot(y='last_price', kind='bar', figsize=(10, 5), title='Зависимость цены от дня недели'\\\n",
    "      , xlabel='День недели', ylabel='Стоимость');"
   ]
  },
  {
   "cell_type": "markdown",
   "metadata": {},
   "source": [
    "Вывод\n",
    "\n",
    "Небольшая зависимость от дня недели прослеживаетя. В субботу стоимость продаж самая высокая, а вот в воскресенье наоборот самая низкая. В среду и четверг цены на недвижимость чуть повыше, чем в остальные дни. \n",
    "В целом день недели не сильно влияет на стоимость "
   ]
  },
  {
   "cell_type": "code",
   "execution_count": 75,
   "metadata": {
    "scrolled": true
   },
   "outputs": [
    {
     "data": {
      "image/png": "[encoded data removed]",
      "text/plain": [
       "<Figure size 720x360 with 1 Axes>"
      ]
     },
     "metadata": {
      "needs_background": "light"
     },
     "output_type": "display_data"
    }
   ],
   "source": [
    "df_other.pivot_table(index='month_exposition', values='last_price').sort_values(by='last_price')\\\n",
    ".plot(y='last_price', kind='bar', figsize=(10, 5), title='Зависимость цены от месяца'\\\n",
    "      , xlabel='Месяц', ylabel='Стоимость');"
   ]
  },
  {
   "cell_type": "markdown",
   "metadata": {},
   "source": [
    "Вывод\n",
    "\n",
    "Традиционно месяц декабрь самый активный по покупкам и продажам. \n",
    "Стоимость квартир отличается в большую сторону от других месяцев. В октябре почти во всех сферах услуг наблюдается спад.\n",
    "Цены на квартиры в октябре самые низкие. Летом в июне и августе люди больше сосредоточены на отдыхе. Цены на недвижимость в эти месяцы снижена\n",
    "И все же месяц, также как и день недели вносит небольшие коррективы в стоимость продаж. Более заметна разница лишь у крайних значений"
   ]
  },
  {
   "cell_type": "code",
   "execution_count": 76,
   "metadata": {},
   "outputs": [
    {
     "data": {
      "image/png": "[encoded data removed]",
      "text/plain": [
       "<Figure size 720x360 with 1 Axes>"
      ]
     },
     "metadata": {
      "needs_background": "light"
     },
     "output_type": "display_data"
    }
   ],
   "source": [
    "df_other.pivot_table(index='year_exposition', values='last_price').sort_values(by='year_exposition')\\\n",
    ".plot(y='last_price', kind='bar', figsize=(10, 5), title='Зависимость цены от года продажи'\\\n",
    "      , xlabel='Год', ylabel='Стоимость');"
   ]
  },
  {
   "cell_type": "markdown",
   "metadata": {},
   "source": [
    "Вывод\n",
    "\n",
    "В 2014 году стоимость жилья была существенно выше, чем в последующие годы. Возможно, ввод нового жилья привел к значительному удешевлению. В 2015 наблюдаем значительное снижение стоимости. И далее вплоть до 2018 года квартиры неуклонно дешевели. В 2019 недвижимость заметно подорожала по сравнению с предыдущим годом.\n",
    "Каждый год вносит свои коррективы в цены на недвижимость. Колебание цены в зависимости от года ярко выражено."
   ]
  },
  {
   "cell_type": "markdown",
   "metadata": {},
   "source": [
    "\n",
    "\n",
    "  -  **Выберем 10 населенных пунктов с наибольшим числом объявлений**"
   ]
  },
  {
   "cell_type": "code",
   "execution_count": 77,
   "metadata": {},
   "outputs": [
    {
     "data": {
      "text/plain": [
       "locality_name\n",
       "санкт-петербург      15747\n",
       "поселок мурино         556\n",
       "поселок шушары         440\n",
       "всеволожск             398\n",
       "пушкин                 369\n",
       "колпино                338\n",
       "поселок парголово      327\n",
       "гатчина                307\n",
       "деревня кудрово        299\n",
       "выборг                 237\n",
       "Name: locality_name, dtype: int64"
      ]
     },
     "execution_count": 77,
     "metadata": {},
     "output_type": "execute_result"
    }
   ],
   "source": [
    "df_other.groupby('locality_name')['locality_name'].count().sort_values(ascending=False).head(10) #отсортировали населенные пункты"
   ]
  },
  {
   "cell_type": "code",
   "execution_count": 78,
   "metadata": {},
   "outputs": [],
   "source": [
    "city_list = ['санкт-петербург', 'поселок мурино', 'поселок шушары', 'всеволожск', 'пушкин', 'колпино', 'поселок парголово', 'гатчина', 'деревня кудрово', 'выборг']\n",
    "  #  создали список       "
   ]
  },
  {
   "cell_type": "code",
   "execution_count": 79,
   "metadata": {
    "scrolled": true
   },
   "outputs": [
    {
     "data": {
      "text/html": [
       "<div>\n",
       "<style scoped>\n",
       "    .dataframe tbody tr th:only-of-type {\n",
       "        vertical-align: middle;\n",
       "    }\n",
       "\n",
       "    .dataframe tbody tr th {\n",
       "        vertical-align: top;\n",
       "    }\n",
       "\n",
       "    .dataframe thead th {\n",
       "        text-align: right;\n",
       "    }\n",
       "</style>\n",
       "<table border=\"1\" class=\"dataframe\">\n",
       "  <thead>\n",
       "    <tr style=\"text-align: right;\">\n",
       "      <th></th>\n",
       "      <th>last_price</th>\n",
       "      <th>total_area</th>\n",
       "      <th>first_day_exposition</th>\n",
       "      <th>rooms</th>\n",
       "      <th>ceiling_height</th>\n",
       "      <th>floors_total</th>\n",
       "      <th>living_area</th>\n",
       "      <th>floor</th>\n",
       "      <th>kitchen_area</th>\n",
       "      <th>locality_name</th>\n",
       "      <th>cityCenters_nearest</th>\n",
       "      <th>days_exposition</th>\n",
       "      <th>weekday_exposition</th>\n",
       "      <th>month_exposition</th>\n",
       "      <th>year_exposition</th>\n",
       "      <th>mid_price_metr</th>\n",
       "      <th>floor_variant</th>\n",
       "      <th>kitchen_total_area</th>\n",
       "      <th>living_total_area</th>\n",
       "    </tr>\n",
       "  </thead>\n",
       "  <tbody>\n",
       "    <tr>\n",
       "      <th>0</th>\n",
       "      <td>13000000.0</td>\n",
       "      <td>108.0</td>\n",
       "      <td>2019-03-07</td>\n",
       "      <td>3</td>\n",
       "      <td>2.700000</td>\n",
       "      <td>16.0</td>\n",
       "      <td>51.0</td>\n",
       "      <td>8</td>\n",
       "      <td>25.0</td>\n",
       "      <td>санкт-петербург</td>\n",
       "      <td>16028.0</td>\n",
       "      <td>NaN</td>\n",
       "      <td>3</td>\n",
       "      <td>3</td>\n",
       "      <td>2019</td>\n",
       "      <td>120370.370370</td>\n",
       "      <td>другой</td>\n",
       "      <td>0.23</td>\n",
       "      <td>0.47</td>\n",
       "    </tr>\n",
       "    <tr>\n",
       "      <th>1</th>\n",
       "      <td>3350000.0</td>\n",
       "      <td>40.4</td>\n",
       "      <td>2018-12-04</td>\n",
       "      <td>1</td>\n",
       "      <td>2.730129</td>\n",
       "      <td>11.0</td>\n",
       "      <td>18.6</td>\n",
       "      <td>1</td>\n",
       "      <td>11.0</td>\n",
       "      <td>поселок шушары</td>\n",
       "      <td>18603.0</td>\n",
       "      <td>81.0</td>\n",
       "      <td>1</td>\n",
       "      <td>12</td>\n",
       "      <td>2018</td>\n",
       "      <td>82920.792079</td>\n",
       "      <td>первый</td>\n",
       "      <td>0.27</td>\n",
       "      <td>0.46</td>\n",
       "    </tr>\n",
       "    <tr>\n",
       "      <th>2</th>\n",
       "      <td>5196000.0</td>\n",
       "      <td>56.0</td>\n",
       "      <td>2015-08-20</td>\n",
       "      <td>2</td>\n",
       "      <td>2.730129</td>\n",
       "      <td>5.0</td>\n",
       "      <td>34.3</td>\n",
       "      <td>4</td>\n",
       "      <td>8.3</td>\n",
       "      <td>санкт-петербург</td>\n",
       "      <td>13933.0</td>\n",
       "      <td>558.0</td>\n",
       "      <td>3</td>\n",
       "      <td>8</td>\n",
       "      <td>2015</td>\n",
       "      <td>92785.714286</td>\n",
       "      <td>другой</td>\n",
       "      <td>0.15</td>\n",
       "      <td>0.61</td>\n",
       "    </tr>\n",
       "    <tr>\n",
       "      <th>3</th>\n",
       "      <td>64900000.0</td>\n",
       "      <td>159.0</td>\n",
       "      <td>2015-07-24</td>\n",
       "      <td>3</td>\n",
       "      <td>2.730129</td>\n",
       "      <td>14.0</td>\n",
       "      <td>45.0</td>\n",
       "      <td>9</td>\n",
       "      <td>NaN</td>\n",
       "      <td>санкт-петербург</td>\n",
       "      <td>6800.0</td>\n",
       "      <td>424.0</td>\n",
       "      <td>4</td>\n",
       "      <td>7</td>\n",
       "      <td>2015</td>\n",
       "      <td>408176.100629</td>\n",
       "      <td>другой</td>\n",
       "      <td>NaN</td>\n",
       "      <td>0.28</td>\n",
       "    </tr>\n",
       "    <tr>\n",
       "      <th>4</th>\n",
       "      <td>10000000.0</td>\n",
       "      <td>100.0</td>\n",
       "      <td>2018-06-19</td>\n",
       "      <td>2</td>\n",
       "      <td>3.030000</td>\n",
       "      <td>14.0</td>\n",
       "      <td>32.0</td>\n",
       "      <td>13</td>\n",
       "      <td>41.0</td>\n",
       "      <td>санкт-петербург</td>\n",
       "      <td>8098.0</td>\n",
       "      <td>121.0</td>\n",
       "      <td>1</td>\n",
       "      <td>6</td>\n",
       "      <td>2018</td>\n",
       "      <td>100000.000000</td>\n",
       "      <td>другой</td>\n",
       "      <td>0.41</td>\n",
       "      <td>0.32</td>\n",
       "    </tr>\n",
       "  </tbody>\n",
       "</table>\n",
       "</div>"
      ],
      "text/plain": [
       "   last_price  total_area first_day_exposition  rooms  ceiling_height  \\\n",
       "0  13000000.0       108.0           2019-03-07      3        2.700000   \n",
       "1   3350000.0        40.4           2018-12-04      1        2.730129   \n",
       "2   5196000.0        56.0           2015-08-20      2        2.730129   \n",
       "3  64900000.0       159.0           2015-07-24      3        2.730129   \n",
       "4  10000000.0       100.0           2018-06-19      2        3.030000   \n",
       "\n",
       "   floors_total  living_area  floor  kitchen_area    locality_name  \\\n",
       "0          16.0         51.0      8          25.0  санкт-петербург   \n",
       "1          11.0         18.6      1          11.0   поселок шушары   \n",
       "2           5.0         34.3      4           8.3  санкт-петербург   \n",
       "3          14.0         45.0      9           NaN  санкт-петербург   \n",
       "4          14.0         32.0     13          41.0  санкт-петербург   \n",
       "\n",
       "   cityCenters_nearest  days_exposition  weekday_exposition  month_exposition  \\\n",
       "0              16028.0              NaN                   3                 3   \n",
       "1              18603.0             81.0                   1                12   \n",
       "2              13933.0            558.0                   3                 8   \n",
       "3               6800.0            424.0                   4                 7   \n",
       "4               8098.0            121.0                   1                 6   \n",
       "\n",
       "   year_exposition  mid_price_metr floor_variant  kitchen_total_area  \\\n",
       "0             2019   120370.370370        другой                0.23   \n",
       "1             2018    82920.792079        первый                0.27   \n",
       "2             2015    92785.714286        другой                0.15   \n",
       "3             2015   408176.100629        другой                 NaN   \n",
       "4             2018   100000.000000        другой                0.41   \n",
       "\n",
       "   living_total_area  \n",
       "0               0.47  \n",
       "1               0.46  \n",
       "2               0.61  \n",
       "3               0.28  \n",
       "4               0.32  "
      ]
     },
     "metadata": {},
     "output_type": "display_data"
    }
   ],
   "source": [
    "df_other_city_top = df_other.query('locality_name == @city_list') # сделали срез по населенным пунктам\n",
    "display(df_other_city_top.head())"
   ]
  },
  {
   "cell_type": "markdown",
   "metadata": {},
   "source": [
    "\n",
    "\n",
    "Сформируем сводную таблицу, рассчитаем среднюю стоимость квадратного метра по населенным пунктам"
   ]
  },
  {
   "cell_type": "code",
   "execution_count": 80,
   "metadata": {
    "scrolled": true
   },
   "outputs": [
    {
     "data": {
      "text/html": [
       "<div>\n",
       "<style scoped>\n",
       "    .dataframe tbody tr th:only-of-type {\n",
       "        vertical-align: middle;\n",
       "    }\n",
       "\n",
       "    .dataframe tbody tr th {\n",
       "        vertical-align: top;\n",
       "    }\n",
       "\n",
       "    .dataframe thead th {\n",
       "        text-align: right;\n",
       "    }\n",
       "</style>\n",
       "<table border=\"1\" class=\"dataframe\">\n",
       "  <thead>\n",
       "    <tr style=\"text-align: right;\">\n",
       "      <th></th>\n",
       "      <th>mid_price_metr</th>\n",
       "    </tr>\n",
       "    <tr>\n",
       "      <th>locality_name</th>\n",
       "      <th></th>\n",
       "    </tr>\n",
       "  </thead>\n",
       "  <tbody>\n",
       "    <tr>\n",
       "      <th>санкт-петербург</th>\n",
       "      <td>114839.0</td>\n",
       "    </tr>\n",
       "    <tr>\n",
       "      <th>пушкин</th>\n",
       "      <td>103126.0</td>\n",
       "    </tr>\n",
       "    <tr>\n",
       "      <th>деревня кудрово</th>\n",
       "      <td>92474.0</td>\n",
       "    </tr>\n",
       "    <tr>\n",
       "      <th>поселок парголово</th>\n",
       "      <td>90176.0</td>\n",
       "    </tr>\n",
       "    <tr>\n",
       "      <th>поселок мурино</th>\n",
       "      <td>85682.0</td>\n",
       "    </tr>\n",
       "    <tr>\n",
       "      <th>поселок шушары</th>\n",
       "      <td>78677.0</td>\n",
       "    </tr>\n",
       "    <tr>\n",
       "      <th>колпино</th>\n",
       "      <td>75425.0</td>\n",
       "    </tr>\n",
       "    <tr>\n",
       "      <th>гатчина</th>\n",
       "      <td>68746.0</td>\n",
       "    </tr>\n",
       "    <tr>\n",
       "      <th>всеволожск</th>\n",
       "      <td>68654.0</td>\n",
       "    </tr>\n",
       "    <tr>\n",
       "      <th>выборг</th>\n",
       "      <td>58142.0</td>\n",
       "    </tr>\n",
       "  </tbody>\n",
       "</table>\n",
       "</div>"
      ],
      "text/plain": [
       "                   mid_price_metr\n",
       "locality_name                    \n",
       "санкт-петербург          114839.0\n",
       "пушкин                   103126.0\n",
       "деревня кудрово           92474.0\n",
       "поселок парголово         90176.0\n",
       "поселок мурино            85682.0\n",
       "поселок шушары            78677.0\n",
       "колпино                   75425.0\n",
       "гатчина                   68746.0\n",
       "всеволожск                68654.0\n",
       "выборг                    58142.0"
      ]
     },
     "metadata": {},
     "output_type": "display_data"
    }
   ],
   "source": [
    "df_other_city_top_pivot = df_other_city_top.pivot_table(index='locality_name', values='mid_price_metr') # сводная таблица\n",
    "display(df_other_city_top_pivot.sort_values(by='mid_price_metr', ascending=False).round()) "
   ]
  },
  {
   "cell_type": "markdown",
   "metadata": {},
   "source": [
    "\n",
    "**Вывод**\n",
    "\n",
    "Самая высокая стоимость жилья в нашей выборке, в Санкт-Петербурге\n",
    "\n",
    "Самая низкая в Выборге"
   ]
  },
  {
   "cell_type": "markdown",
   "metadata": {},
   "source": [
    "\n",
    "\n",
    "**Определим границы центральной зоны**\n",
    "\n",
    "\n",
    "  - Создадим столбец с расстоянием до центра в километрах\n",
    "  \n",
    "  - Посчитаем среднюю цену для каждого километра\n",
    " \n",
    "  - Выделим квартиры в Санкт-Петербурге\n",
    " \n"
   ]
  },
  {
   "cell_type": "code",
   "execution_count": 81,
   "metadata": {},
   "outputs": [],
   "source": [
    "df_other['cityCenters_nearest_km'] = (df_other['cityCenters_nearest'] * 0.001).round() # создаем столбец"
   ]
  },
  {
   "cell_type": "code",
   "execution_count": 82,
   "metadata": {},
   "outputs": [
    {
     "data": {
      "text/html": [
       "<div>\n",
       "<style scoped>\n",
       "    .dataframe tbody tr th:only-of-type {\n",
       "        vertical-align: middle;\n",
       "    }\n",
       "\n",
       "    .dataframe tbody tr th {\n",
       "        vertical-align: top;\n",
       "    }\n",
       "\n",
       "    .dataframe thead th {\n",
       "        text-align: right;\n",
       "    }\n",
       "</style>\n",
       "<table border=\"1\" class=\"dataframe\">\n",
       "  <thead>\n",
       "    <tr style=\"text-align: right;\">\n",
       "      <th></th>\n",
       "      <th>last_price</th>\n",
       "      <th>total_area</th>\n",
       "      <th>first_day_exposition</th>\n",
       "      <th>rooms</th>\n",
       "      <th>ceiling_height</th>\n",
       "      <th>floors_total</th>\n",
       "      <th>living_area</th>\n",
       "      <th>floor</th>\n",
       "      <th>kitchen_area</th>\n",
       "      <th>locality_name</th>\n",
       "      <th>cityCenters_nearest</th>\n",
       "      <th>days_exposition</th>\n",
       "      <th>weekday_exposition</th>\n",
       "      <th>month_exposition</th>\n",
       "      <th>year_exposition</th>\n",
       "      <th>mid_price_metr</th>\n",
       "      <th>floor_variant</th>\n",
       "      <th>kitchen_total_area</th>\n",
       "      <th>living_total_area</th>\n",
       "      <th>cityCenters_nearest_km</th>\n",
       "    </tr>\n",
       "  </thead>\n",
       "  <tbody>\n",
       "    <tr>\n",
       "      <th>0</th>\n",
       "      <td>13000000.0</td>\n",
       "      <td>108.0</td>\n",
       "      <td>2019-03-07</td>\n",
       "      <td>3</td>\n",
       "      <td>2.700000</td>\n",
       "      <td>16.0</td>\n",
       "      <td>51.0</td>\n",
       "      <td>8</td>\n",
       "      <td>25.0</td>\n",
       "      <td>санкт-петербург</td>\n",
       "      <td>16028.0</td>\n",
       "      <td>NaN</td>\n",
       "      <td>3</td>\n",
       "      <td>3</td>\n",
       "      <td>2019</td>\n",
       "      <td>120370.370370</td>\n",
       "      <td>другой</td>\n",
       "      <td>0.23</td>\n",
       "      <td>0.47</td>\n",
       "      <td>16.0</td>\n",
       "    </tr>\n",
       "    <tr>\n",
       "      <th>2</th>\n",
       "      <td>5196000.0</td>\n",
       "      <td>56.0</td>\n",
       "      <td>2015-08-20</td>\n",
       "      <td>2</td>\n",
       "      <td>2.730129</td>\n",
       "      <td>5.0</td>\n",
       "      <td>34.3</td>\n",
       "      <td>4</td>\n",
       "      <td>8.3</td>\n",
       "      <td>санкт-петербург</td>\n",
       "      <td>13933.0</td>\n",
       "      <td>558.0</td>\n",
       "      <td>3</td>\n",
       "      <td>8</td>\n",
       "      <td>2015</td>\n",
       "      <td>92785.714286</td>\n",
       "      <td>другой</td>\n",
       "      <td>0.15</td>\n",
       "      <td>0.61</td>\n",
       "      <td>14.0</td>\n",
       "    </tr>\n",
       "    <tr>\n",
       "      <th>3</th>\n",
       "      <td>64900000.0</td>\n",
       "      <td>159.0</td>\n",
       "      <td>2015-07-24</td>\n",
       "      <td>3</td>\n",
       "      <td>2.730129</td>\n",
       "      <td>14.0</td>\n",
       "      <td>45.0</td>\n",
       "      <td>9</td>\n",
       "      <td>NaN</td>\n",
       "      <td>санкт-петербург</td>\n",
       "      <td>6800.0</td>\n",
       "      <td>424.0</td>\n",
       "      <td>4</td>\n",
       "      <td>7</td>\n",
       "      <td>2015</td>\n",
       "      <td>408176.100629</td>\n",
       "      <td>другой</td>\n",
       "      <td>NaN</td>\n",
       "      <td>0.28</td>\n",
       "      <td>7.0</td>\n",
       "    </tr>\n",
       "    <tr>\n",
       "      <th>4</th>\n",
       "      <td>10000000.0</td>\n",
       "      <td>100.0</td>\n",
       "      <td>2018-06-19</td>\n",
       "      <td>2</td>\n",
       "      <td>3.030000</td>\n",
       "      <td>14.0</td>\n",
       "      <td>32.0</td>\n",
       "      <td>13</td>\n",
       "      <td>41.0</td>\n",
       "      <td>санкт-петербург</td>\n",
       "      <td>8098.0</td>\n",
       "      <td>121.0</td>\n",
       "      <td>1</td>\n",
       "      <td>6</td>\n",
       "      <td>2018</td>\n",
       "      <td>100000.000000</td>\n",
       "      <td>другой</td>\n",
       "      <td>0.41</td>\n",
       "      <td>0.32</td>\n",
       "      <td>8.0</td>\n",
       "    </tr>\n",
       "    <tr>\n",
       "      <th>7</th>\n",
       "      <td>7915000.0</td>\n",
       "      <td>71.6</td>\n",
       "      <td>2019-04-18</td>\n",
       "      <td>2</td>\n",
       "      <td>2.730129</td>\n",
       "      <td>24.0</td>\n",
       "      <td>30.5</td>\n",
       "      <td>22</td>\n",
       "      <td>18.9</td>\n",
       "      <td>санкт-петербург</td>\n",
       "      <td>11634.0</td>\n",
       "      <td>NaN</td>\n",
       "      <td>3</td>\n",
       "      <td>4</td>\n",
       "      <td>2019</td>\n",
       "      <td>110544.692737</td>\n",
       "      <td>другой</td>\n",
       "      <td>0.26</td>\n",
       "      <td>0.43</td>\n",
       "      <td>12.0</td>\n",
       "    </tr>\n",
       "  </tbody>\n",
       "</table>\n",
       "</div>"
      ],
      "text/plain": [
       "   last_price  total_area first_day_exposition  rooms  ceiling_height  \\\n",
       "0  13000000.0       108.0           2019-03-07      3        2.700000   \n",
       "2   5196000.0        56.0           2015-08-20      2        2.730129   \n",
       "3  64900000.0       159.0           2015-07-24      3        2.730129   \n",
       "4  10000000.0       100.0           2018-06-19      2        3.030000   \n",
       "7   7915000.0        71.6           2019-04-18      2        2.730129   \n",
       "\n",
       "   floors_total  living_area  floor  kitchen_area    locality_name  \\\n",
       "0          16.0         51.0      8          25.0  санкт-петербург   \n",
       "2           5.0         34.3      4           8.3  санкт-петербург   \n",
       "3          14.0         45.0      9           NaN  санкт-петербург   \n",
       "4          14.0         32.0     13          41.0  санкт-петербург   \n",
       "7          24.0         30.5     22          18.9  санкт-петербург   \n",
       "\n",
       "   cityCenters_nearest  days_exposition  weekday_exposition  month_exposition  \\\n",
       "0              16028.0              NaN                   3                 3   \n",
       "2              13933.0            558.0                   3                 8   \n",
       "3               6800.0            424.0                   4                 7   \n",
       "4               8098.0            121.0                   1                 6   \n",
       "7              11634.0              NaN                   3                 4   \n",
       "\n",
       "   year_exposition  mid_price_metr floor_variant  kitchen_total_area  \\\n",
       "0             2019   120370.370370        другой                0.23   \n",
       "2             2015    92785.714286        другой                0.15   \n",
       "3             2015   408176.100629        другой                 NaN   \n",
       "4             2018   100000.000000        другой                0.41   \n",
       "7             2019   110544.692737        другой                0.26   \n",
       "\n",
       "   living_total_area  cityCenters_nearest_km  \n",
       "0               0.47                    16.0  \n",
       "2               0.61                    14.0  \n",
       "3               0.28                     7.0  \n",
       "4               0.32                     8.0  \n",
       "7               0.43                    12.0  "
      ]
     },
     "metadata": {},
     "output_type": "display_data"
    }
   ],
   "source": [
    "df_other_peter = df_other.loc[df_other['locality_name'] == 'санкт-петербург'] # выбрали строки с квартирами с Санкт-Петербурге\n",
    "display(df_other_peter.head()) #  проверили результат"
   ]
  },
  {
   "cell_type": "markdown",
   "metadata": {},
   "source": [
    "\n",
    "\n",
    "Посчитаем среднюю цену  квадратного метра для каждого километра"
   ]
  },
  {
   "cell_type": "code",
   "execution_count": 83,
   "metadata": {},
   "outputs": [
    {
     "data": {
      "text/html": [
       "<div>\n",
       "<style scoped>\n",
       "    .dataframe tbody tr th:only-of-type {\n",
       "        vertical-align: middle;\n",
       "    }\n",
       "\n",
       "    .dataframe tbody tr th {\n",
       "        vertical-align: top;\n",
       "    }\n",
       "\n",
       "    .dataframe thead th {\n",
       "        text-align: right;\n",
       "    }\n",
       "</style>\n",
       "<table border=\"1\" class=\"dataframe\">\n",
       "  <thead>\n",
       "    <tr style=\"text-align: right;\">\n",
       "      <th></th>\n",
       "      <th>mid_price_metr</th>\n",
       "    </tr>\n",
       "    <tr>\n",
       "      <th>cityCenters_nearest_km</th>\n",
       "      <th></th>\n",
       "    </tr>\n",
       "  </thead>\n",
       "  <tbody>\n",
       "    <tr>\n",
       "      <th>0.0</th>\n",
       "      <td>245834.0</td>\n",
       "    </tr>\n",
       "    <tr>\n",
       "      <th>1.0</th>\n",
       "      <td>176641.0</td>\n",
       "    </tr>\n",
       "    <tr>\n",
       "      <th>2.0</th>\n",
       "      <td>157944.0</td>\n",
       "    </tr>\n",
       "    <tr>\n",
       "      <th>3.0</th>\n",
       "      <td>121300.0</td>\n",
       "    </tr>\n",
       "    <tr>\n",
       "      <th>4.0</th>\n",
       "      <td>133036.0</td>\n",
       "    </tr>\n",
       "    <tr>\n",
       "      <th>5.0</th>\n",
       "      <td>140324.0</td>\n",
       "    </tr>\n",
       "    <tr>\n",
       "      <th>6.0</th>\n",
       "      <td>151012.0</td>\n",
       "    </tr>\n",
       "    <tr>\n",
       "      <th>7.0</th>\n",
       "      <td>156177.0</td>\n",
       "    </tr>\n",
       "    <tr>\n",
       "      <th>8.0</th>\n",
       "      <td>125520.0</td>\n",
       "    </tr>\n",
       "    <tr>\n",
       "      <th>9.0</th>\n",
       "      <td>113047.0</td>\n",
       "    </tr>\n",
       "    <tr>\n",
       "      <th>10.0</th>\n",
       "      <td>112783.0</td>\n",
       "    </tr>\n",
       "    <tr>\n",
       "      <th>11.0</th>\n",
       "      <td>108614.0</td>\n",
       "    </tr>\n",
       "    <tr>\n",
       "      <th>12.0</th>\n",
       "      <td>107489.0</td>\n",
       "    </tr>\n",
       "    <tr>\n",
       "      <th>13.0</th>\n",
       "      <td>108148.0</td>\n",
       "    </tr>\n",
       "    <tr>\n",
       "      <th>14.0</th>\n",
       "      <td>104252.0</td>\n",
       "    </tr>\n",
       "    <tr>\n",
       "      <th>15.0</th>\n",
       "      <td>104232.0</td>\n",
       "    </tr>\n",
       "    <tr>\n",
       "      <th>16.0</th>\n",
       "      <td>100543.0</td>\n",
       "    </tr>\n",
       "    <tr>\n",
       "      <th>17.0</th>\n",
       "      <td>96598.0</td>\n",
       "    </tr>\n",
       "    <tr>\n",
       "      <th>18.0</th>\n",
       "      <td>96362.0</td>\n",
       "    </tr>\n",
       "    <tr>\n",
       "      <th>19.0</th>\n",
       "      <td>98653.0</td>\n",
       "    </tr>\n",
       "    <tr>\n",
       "      <th>20.0</th>\n",
       "      <td>103045.0</td>\n",
       "    </tr>\n",
       "    <tr>\n",
       "      <th>21.0</th>\n",
       "      <td>94470.0</td>\n",
       "    </tr>\n",
       "    <tr>\n",
       "      <th>22.0</th>\n",
       "      <td>91330.0</td>\n",
       "    </tr>\n",
       "    <tr>\n",
       "      <th>23.0</th>\n",
       "      <td>91829.0</td>\n",
       "    </tr>\n",
       "    <tr>\n",
       "      <th>24.0</th>\n",
       "      <td>85737.0</td>\n",
       "    </tr>\n",
       "    <tr>\n",
       "      <th>25.0</th>\n",
       "      <td>91531.0</td>\n",
       "    </tr>\n",
       "    <tr>\n",
       "      <th>26.0</th>\n",
       "      <td>89286.0</td>\n",
       "    </tr>\n",
       "    <tr>\n",
       "      <th>27.0</th>\n",
       "      <td>132116.0</td>\n",
       "    </tr>\n",
       "    <tr>\n",
       "      <th>28.0</th>\n",
       "      <td>81162.0</td>\n",
       "    </tr>\n",
       "    <tr>\n",
       "      <th>29.0</th>\n",
       "      <td>72953.0</td>\n",
       "    </tr>\n",
       "  </tbody>\n",
       "</table>\n",
       "</div>"
      ],
      "text/plain": [
       "                        mid_price_metr\n",
       "cityCenters_nearest_km                \n",
       "0.0                           245834.0\n",
       "1.0                           176641.0\n",
       "2.0                           157944.0\n",
       "3.0                           121300.0\n",
       "4.0                           133036.0\n",
       "5.0                           140324.0\n",
       "6.0                           151012.0\n",
       "7.0                           156177.0\n",
       "8.0                           125520.0\n",
       "9.0                           113047.0\n",
       "10.0                          112783.0\n",
       "11.0                          108614.0\n",
       "12.0                          107489.0\n",
       "13.0                          108148.0\n",
       "14.0                          104252.0\n",
       "15.0                          104232.0\n",
       "16.0                          100543.0\n",
       "17.0                           96598.0\n",
       "18.0                           96362.0\n",
       "19.0                           98653.0\n",
       "20.0                          103045.0\n",
       "21.0                           94470.0\n",
       "22.0                           91330.0\n",
       "23.0                           91829.0\n",
       "24.0                           85737.0\n",
       "25.0                           91531.0\n",
       "26.0                           89286.0\n",
       "27.0                          132116.0\n",
       "28.0                           81162.0\n",
       "29.0                           72953.0"
      ]
     },
     "metadata": {},
     "output_type": "display_data"
    }
   ],
   "source": [
    "df_other_peter_price_km = df_other_peter.pivot_table(index='cityCenters_nearest_km', values='mid_price_metr')\n",
    "display(round(df_other_peter_price_km))  # создали сводную таблицу для рассчета"
   ]
  },
  {
   "cell_type": "markdown",
   "metadata": {},
   "source": [
    "\n",
    "\n",
    " - Построим график зависимости цены от удаленности от центра\n",
    "\n",
    " - По графику определим центральную зону"
   ]
  },
  {
   "cell_type": "code",
   "execution_count": 84,
   "metadata": {},
   "outputs": [
    {
     "data": {
      "image/png": "[encoded data removed]",
      "text/plain": [
       "<Figure size 864x432 with 1 Axes>"
      ]
     },
     "metadata": {
      "needs_background": "light"
     },
     "output_type": "display_data"
    }
   ],
   "source": [
    "df_other_peter.pivot_table(index='cityCenters_nearest_km', values='last_price').plot(grid=True, figsize=(12, 6)\\\n",
    "                     , title='Зависимость цены от удаленности от центра', xlabel='Километры', ylabel='Стоимость');"
   ]
  },
  {
   "cell_type": "markdown",
   "metadata": {
    "scrolled": true
   },
   "source": [
    "Вывод\n",
    "\n",
    "График начинает заметно идти вверх примерно в районе 8 км удаленности от центра.\n",
    "Обозначим это расстояние центральной зоной\n",
    "\n",
    "\n"
   ]
  },
  {
   "cell_type": "markdown",
   "metadata": {},
   "source": [
    "\n",
    "\n",
    "   **Выделим сегмент квартир в центре. Проанализируем эту территорию**\n",
    "\n",
    "Изучим параметры\n",
    "\n",
    "  - площадь\n",
    "  - цена\n",
    "  - число комнат\n",
    "  - высота потолков"
   ]
  },
  {
   "cell_type": "code",
   "execution_count": 85,
   "metadata": {},
   "outputs": [
    {
     "data": {
      "text/html": [
       "<div>\n",
       "<style scoped>\n",
       "    .dataframe tbody tr th:only-of-type {\n",
       "        vertical-align: middle;\n",
       "    }\n",
       "\n",
       "    .dataframe tbody tr th {\n",
       "        vertical-align: top;\n",
       "    }\n",
       "\n",
       "    .dataframe thead th {\n",
       "        text-align: right;\n",
       "    }\n",
       "</style>\n",
       "<table border=\"1\" class=\"dataframe\">\n",
       "  <thead>\n",
       "    <tr style=\"text-align: right;\">\n",
       "      <th></th>\n",
       "      <th>last_price</th>\n",
       "      <th>total_area</th>\n",
       "      <th>first_day_exposition</th>\n",
       "      <th>rooms</th>\n",
       "      <th>ceiling_height</th>\n",
       "      <th>floors_total</th>\n",
       "      <th>living_area</th>\n",
       "      <th>floor</th>\n",
       "      <th>kitchen_area</th>\n",
       "      <th>locality_name</th>\n",
       "      <th>cityCenters_nearest</th>\n",
       "      <th>days_exposition</th>\n",
       "      <th>weekday_exposition</th>\n",
       "      <th>month_exposition</th>\n",
       "      <th>year_exposition</th>\n",
       "      <th>mid_price_metr</th>\n",
       "      <th>floor_variant</th>\n",
       "      <th>kitchen_total_area</th>\n",
       "      <th>living_total_area</th>\n",
       "      <th>cityCenters_nearest_km</th>\n",
       "    </tr>\n",
       "  </thead>\n",
       "  <tbody>\n",
       "    <tr>\n",
       "      <th>3</th>\n",
       "      <td>64900000.0</td>\n",
       "      <td>159.0</td>\n",
       "      <td>2015-07-24</td>\n",
       "      <td>3</td>\n",
       "      <td>2.730129</td>\n",
       "      <td>14.0</td>\n",
       "      <td>45.0</td>\n",
       "      <td>9</td>\n",
       "      <td>NaN</td>\n",
       "      <td>санкт-петербург</td>\n",
       "      <td>6800.0</td>\n",
       "      <td>424.0</td>\n",
       "      <td>4</td>\n",
       "      <td>7</td>\n",
       "      <td>2015</td>\n",
       "      <td>408176.100629</td>\n",
       "      <td>другой</td>\n",
       "      <td>NaN</td>\n",
       "      <td>0.28</td>\n",
       "      <td>7.0</td>\n",
       "    </tr>\n",
       "    <tr>\n",
       "      <th>4</th>\n",
       "      <td>10000000.0</td>\n",
       "      <td>100.0</td>\n",
       "      <td>2018-06-19</td>\n",
       "      <td>2</td>\n",
       "      <td>3.030000</td>\n",
       "      <td>14.0</td>\n",
       "      <td>32.0</td>\n",
       "      <td>13</td>\n",
       "      <td>41.0</td>\n",
       "      <td>санкт-петербург</td>\n",
       "      <td>8098.0</td>\n",
       "      <td>121.0</td>\n",
       "      <td>1</td>\n",
       "      <td>6</td>\n",
       "      <td>2018</td>\n",
       "      <td>100000.000000</td>\n",
       "      <td>другой</td>\n",
       "      <td>0.41</td>\n",
       "      <td>0.32</td>\n",
       "      <td>8.0</td>\n",
       "    </tr>\n",
       "    <tr>\n",
       "      <th>24</th>\n",
       "      <td>6500000.0</td>\n",
       "      <td>97.2</td>\n",
       "      <td>2015-10-31</td>\n",
       "      <td>2</td>\n",
       "      <td>2.730129</td>\n",
       "      <td>3.0</td>\n",
       "      <td>46.5</td>\n",
       "      <td>1</td>\n",
       "      <td>19.6</td>\n",
       "      <td>санкт-петербург</td>\n",
       "      <td>2336.0</td>\n",
       "      <td>265.0</td>\n",
       "      <td>5</td>\n",
       "      <td>10</td>\n",
       "      <td>2015</td>\n",
       "      <td>66872.427984</td>\n",
       "      <td>первый</td>\n",
       "      <td>0.20</td>\n",
       "      <td>0.48</td>\n",
       "      <td>2.0</td>\n",
       "    </tr>\n",
       "    <tr>\n",
       "      <th>35</th>\n",
       "      <td>15500000.0</td>\n",
       "      <td>149.0</td>\n",
       "      <td>2017-06-26</td>\n",
       "      <td>5</td>\n",
       "      <td>2.730129</td>\n",
       "      <td>5.0</td>\n",
       "      <td>104.0</td>\n",
       "      <td>4</td>\n",
       "      <td>17.0</td>\n",
       "      <td>санкт-петербург</td>\n",
       "      <td>3502.0</td>\n",
       "      <td>644.0</td>\n",
       "      <td>0</td>\n",
       "      <td>6</td>\n",
       "      <td>2017</td>\n",
       "      <td>104026.845638</td>\n",
       "      <td>другой</td>\n",
       "      <td>0.11</td>\n",
       "      <td>0.70</td>\n",
       "      <td>4.0</td>\n",
       "    </tr>\n",
       "    <tr>\n",
       "      <th>51</th>\n",
       "      <td>45000000.0</td>\n",
       "      <td>161.0</td>\n",
       "      <td>2017-10-17</td>\n",
       "      <td>3</td>\n",
       "      <td>3.200000</td>\n",
       "      <td>8.0</td>\n",
       "      <td>38.0</td>\n",
       "      <td>4</td>\n",
       "      <td>50.0</td>\n",
       "      <td>санкт-петербург</td>\n",
       "      <td>6589.0</td>\n",
       "      <td>541.0</td>\n",
       "      <td>1</td>\n",
       "      <td>10</td>\n",
       "      <td>2017</td>\n",
       "      <td>279503.105590</td>\n",
       "      <td>другой</td>\n",
       "      <td>0.31</td>\n",
       "      <td>0.24</td>\n",
       "      <td>7.0</td>\n",
       "    </tr>\n",
       "  </tbody>\n",
       "</table>\n",
       "</div>"
      ],
      "text/plain": [
       "    last_price  total_area first_day_exposition  rooms  ceiling_height  \\\n",
       "3   64900000.0       159.0           2015-07-24      3        2.730129   \n",
       "4   10000000.0       100.0           2018-06-19      2        3.030000   \n",
       "24   6500000.0        97.2           2015-10-31      2        2.730129   \n",
       "35  15500000.0       149.0           2017-06-26      5        2.730129   \n",
       "51  45000000.0       161.0           2017-10-17      3        3.200000   \n",
       "\n",
       "    floors_total  living_area  floor  kitchen_area    locality_name  \\\n",
       "3           14.0         45.0      9           NaN  санкт-петербург   \n",
       "4           14.0         32.0     13          41.0  санкт-петербург   \n",
       "24           3.0         46.5      1          19.6  санкт-петербург   \n",
       "35           5.0        104.0      4          17.0  санкт-петербург   \n",
       "51           8.0         38.0      4          50.0  санкт-петербург   \n",
       "\n",
       "    cityCenters_nearest  days_exposition  weekday_exposition  \\\n",
       "3                6800.0            424.0                   4   \n",
       "4                8098.0            121.0                   1   \n",
       "24               2336.0            265.0                   5   \n",
       "35               3502.0            644.0                   0   \n",
       "51               6589.0            541.0                   1   \n",
       "\n",
       "    month_exposition  year_exposition  mid_price_metr floor_variant  \\\n",
       "3                  7             2015   408176.100629        другой   \n",
       "4                  6             2018   100000.000000        другой   \n",
       "24                10             2015    66872.427984        первый   \n",
       "35                 6             2017   104026.845638        другой   \n",
       "51                10             2017   279503.105590        другой   \n",
       "\n",
       "    kitchen_total_area  living_total_area  cityCenters_nearest_km  \n",
       "3                  NaN               0.28                     7.0  \n",
       "4                 0.41               0.32                     8.0  \n",
       "24                0.20               0.48                     2.0  \n",
       "35                0.11               0.70                     4.0  \n",
       "51                0.31               0.24                     7.0  "
      ]
     },
     "metadata": {},
     "output_type": "display_data"
    }
   ],
   "source": [
    "df_other_center = df_other.loc[df_other['cityCenters_nearest_km'] <= 8] # отфильтруем по расстоянию до центра\n",
    "display(df_other_center.head())"
   ]
  },
  {
   "cell_type": "code",
   "execution_count": 86,
   "metadata": {
    "scrolled": false
   },
   "outputs": [
    {
     "data": {
      "text/plain": [
       "count    4140.000000\n",
       "mean       90.282072\n",
       "std        58.791790\n",
       "min        12.000000\n",
       "25%        55.000000\n",
       "50%        76.000000\n",
       "75%       107.000000\n",
       "max       900.000000\n",
       "Name: total_area, dtype: float64"
      ]
     },
     "execution_count": 86,
     "metadata": {},
     "output_type": "execute_result"
    }
   ],
   "source": [
    "df_other_center['total_area'].describe()  # изучим площадь"
   ]
  },
  {
   "cell_type": "markdown",
   "metadata": {},
   "source": [
    "Крайние значения в столбце сильно отличаются. Максимальное значение сильно контрастирует с остальными характеристиками.\n",
    "\n",
    "Медиана и среднее значение в Питере выше, чем в общей базе. Цифры по квартилям тоже выше\n",
    "\n",
    "Можно сказать, что в центре представлены квартиры с большей полощадью\n",
    "\n",
    "Оставим прежний  диапзон от 12 до 200 для гистограммы. \n",
    "\n"
   ]
  },
  {
   "cell_type": "code",
   "execution_count": 87,
   "metadata": {},
   "outputs": [
    {
     "data": {
      "image/png": "[encoded data removed]",
      "text/plain": [
       "<Figure size 432x288 with 1 Axes>"
      ]
     },
     "metadata": {
      "needs_background": "light"
     },
     "output_type": "display_data"
    }
   ],
   "source": [
    "df_other_center.hist('total_area', bins=100, range=(12, 200)); "
   ]
  },
  {
   "cell_type": "markdown",
   "metadata": {},
   "source": [
    "Вывод\n",
    "\n",
    "Квартир с площадью от 100 до 200 квадратных метров в центре представлены в большем количестве\n",
    "\n",
    "От 30 до 80 квадратных метров - основная масса предложений.\n",
    "\n",
    "Много квартир с небольшой площадью от 30 до 40 кватратных метров\n",
    "\n",
    "Все же центр отличается более разнообразными предложениями в отношении площади. \n",
    "\n",
    "Квартиры с большой площадью представлены гораздо шире, чем в общей базе.\n",
    "\n",
    "\n",
    "<a id='areapet'></a>"
   ]
  },
  {
   "cell_type": "code",
   "execution_count": 88,
   "metadata": {
    "scrolled": true
   },
   "outputs": [
    {
     "data": {
      "text/plain": [
       "count    4.140000e+03\n",
       "mean     1.415791e+07\n",
       "std      2.353420e+07\n",
       "min      1.600000e+06\n",
       "25%      6.450000e+06\n",
       "50%      8.950000e+06\n",
       "75%      1.390000e+07\n",
       "max      7.630000e+08\n",
       "Name: last_price, dtype: float64"
      ]
     },
     "execution_count": 88,
     "metadata": {},
     "output_type": "execute_result"
    }
   ],
   "source": [
    "df_other_center['last_price'].describe() # изучим параметр цена"
   ]
  },
  {
   "cell_type": "markdown",
   "metadata": {},
   "source": [
    "Показатель стоимости  демострирует сильный контраст в крайних значениях\n",
    "\n",
    "По величине стандартного отклонения можем сказать о сильных выбросах\n",
    "\n",
    "По числовому описанию сразу заметно, квартиры в центре намного дороже. \n",
    "\n",
    "Среднее и медианное значения в два раза больше по сравнению с общей базой"
   ]
  },
  {
   "cell_type": "markdown",
   "metadata": {},
   "source": [
    "\n",
    "Построим гистограмму. Расширим границы диапазона."
   ]
  },
  {
   "cell_type": "code",
   "execution_count": 89,
   "metadata": {},
   "outputs": [
    {
     "data": {
      "image/png": "[encoded data removed]",
      "text/plain": [
       "<Figure size 432x288 with 1 Axes>"
      ]
     },
     "metadata": {
      "needs_background": "light"
     },
     "output_type": "display_data"
    }
   ],
   "source": [
    "df_other_center.hist('last_price', bins=200, range=(2000000, 40000000));"
   ]
  },
  {
   "cell_type": "markdown",
   "metadata": {},
   "source": [
    "Вывод\n",
    "\n",
    "Основная масса объявлений предлагает квартиры со стоимостью от 5 до 7 млн, в отличие от 3 - 4 млн по общей базе\n",
    "\n",
    "Ниже по частотности от 4 млн до 9 млн, по общей 2,5 - 5 млн\n",
    "\n",
    "Жилье со стоимостью 2 млн встречается реже, чем объявления ценой от 15 млн до 30 млн\n",
    "\n",
    "Квартир по стоимостью от 30 млн до 40 млн немногочислены, но  но также представлены, по общей это была цифра 10 - 20 млн\n",
    "\n"
   ]
  },
  {
   "cell_type": "code",
   "execution_count": 90,
   "metadata": {
    "scrolled": true
   },
   "outputs": [
    {
     "data": {
      "text/plain": [
       "count    4140.000000\n",
       "mean        2.763527\n",
       "std         1.415366\n",
       "min         1.000000\n",
       "25%         2.000000\n",
       "50%         3.000000\n",
       "75%         3.000000\n",
       "max        19.000000\n",
       "Name: rooms, dtype: float64"
      ]
     },
     "execution_count": 90,
     "metadata": {},
     "output_type": "execute_result"
    }
   ],
   "source": [
    "df_other_center['rooms'].describe()   # изучим параметр количество комнат"
   ]
  },
  {
   "cell_type": "markdown",
   "metadata": {},
   "source": [
    "В описательной характеристике столбца средние значение почти совпадает с медианным\n",
    "\n",
    "Стандартное отклонение указывает на присутствие выбросов.\n",
    "\n",
    "Среднее и медианное значение по колличеству комнат в центре больше, чем в общей базе\n",
    "\n",
    "\n",
    "<a id='roomspet'></a>"
   ]
  },
  {
   "cell_type": "code",
   "execution_count": 91,
   "metadata": {},
   "outputs": [
    {
     "data": {
      "image/png": "[encoded data removed]",
      "text/plain": [
       "<Figure size 432x288 with 1 Axes>"
      ]
     },
     "metadata": {
      "needs_background": "light"
     },
     "output_type": "display_data"
    }
   ],
   "source": [
    "df_other_center.hist('rooms', bins=50, range=(0, 10));"
   ]
  },
  {
   "cell_type": "markdown",
   "metadata": {},
   "source": [
    "**Вывод**\n",
    "\n",
    "Больше всего предложений о продаже 2 и 3 комнатных квартир. В общей базе активнее продавались 1 и 2 комнатные \n",
    "\n",
    "Предложений 3 и 4 комнатных квартир в центре больше, чем в общей базе\n",
    "\n",
    "Далее прослеживается закономерность, чем больше комнат, тем меньше предложений о продаже.\n",
    "\n",
    "\n"
   ]
  },
  {
   "cell_type": "code",
   "execution_count": 92,
   "metadata": {},
   "outputs": [
    {
     "data": {
      "text/plain": [
       "count    4140.000000\n",
       "mean        2.990871\n",
       "std         1.720179\n",
       "min         2.000000\n",
       "25%         2.730129\n",
       "50%         2.800000\n",
       "75%         3.100000\n",
       "max       100.000000\n",
       "Name: ceiling_height, dtype: float64"
      ]
     },
     "execution_count": 92,
     "metadata": {},
     "output_type": "execute_result"
    }
   ],
   "source": [
    "df_other_center['ceiling_height'].describe() # изучим параметр высота потолков"
   ]
  },
  {
   "cell_type": "markdown",
   "metadata": {},
   "source": [
    "Максимальная и минимальная высота сильно отличаются. Но такие значения единичны.\n",
    "\n",
    "Стандартное отклонение высокое из за крайних значений\n",
    "\n",
    "В целом все значения в числовом описании высоты потолков в центре, медиана, среднее квартили выше чем для общей базы"
   ]
  },
  {
   "cell_type": "code",
   "execution_count": 93,
   "metadata": {},
   "outputs": [
    {
     "data": {
      "image/png": "[encoded data removed]",
      "text/plain": [
       "<Figure size 432x288 with 1 Axes>"
      ]
     },
     "metadata": {
      "needs_background": "light"
     },
     "output_type": "display_data"
    }
   ],
   "source": [
    "df_other_center.hist('ceiling_height', bins=100, range=(2, 10));"
   ]
  },
  {
   "cell_type": "markdown",
   "metadata": {},
   "source": [
    "**Вывод**\n",
    "\n",
    "Основная масса квартир в центре с высотой потолков 2,7 метра, как и в общей базе\n",
    "\n",
    "Квартиры с более низкими потолками редкое явление, что отличается от общих значений.\n",
    "\n",
    "И наоборот, в центре квартиры с высотой потолков 3 - 3,5  метра более широко представлены в продажах\n"
   ]
  },
  {
   "cell_type": "markdown",
   "metadata": {},
   "source": [
    "\n",
    "\n",
    "\n",
    "-  **Изучим факторы влияющие на стоимость квартиры.**\n",
    "\n",
    "Рассмотрим соотношение\n",
    "\n",
    "  -  цены и числа комнат\n",
    "  \n",
    "  -  цены и удаленности от центра\n",
    "  \n",
    "  Рассчитаем коэффициент корреляции между этими величинами и построим матрицу диаграмм рассеяния\n",
    "  \n",
    "  \n",
    "  Отберем в отдельную таблицу столбцы с нужными данными.\n",
    "\n"
   ]
  },
  {
   "cell_type": "code",
   "execution_count": 94,
   "metadata": {},
   "outputs": [
    {
     "data": {
      "text/html": [
       "<div>\n",
       "<style scoped>\n",
       "    .dataframe tbody tr th:only-of-type {\n",
       "        vertical-align: middle;\n",
       "    }\n",
       "\n",
       "    .dataframe tbody tr th {\n",
       "        vertical-align: top;\n",
       "    }\n",
       "\n",
       "    .dataframe thead th {\n",
       "        text-align: right;\n",
       "    }\n",
       "</style>\n",
       "<table border=\"1\" class=\"dataframe\">\n",
       "  <thead>\n",
       "    <tr style=\"text-align: right;\">\n",
       "      <th></th>\n",
       "      <th>rooms</th>\n",
       "      <th>cityCenters_nearest</th>\n",
       "      <th>last_price</th>\n",
       "    </tr>\n",
       "  </thead>\n",
       "  <tbody>\n",
       "    <tr>\n",
       "      <th>0</th>\n",
       "      <td>3</td>\n",
       "      <td>16028.0</td>\n",
       "      <td>13000000.0</td>\n",
       "    </tr>\n",
       "    <tr>\n",
       "      <th>1</th>\n",
       "      <td>1</td>\n",
       "      <td>18603.0</td>\n",
       "      <td>3350000.0</td>\n",
       "    </tr>\n",
       "    <tr>\n",
       "      <th>2</th>\n",
       "      <td>2</td>\n",
       "      <td>13933.0</td>\n",
       "      <td>5196000.0</td>\n",
       "    </tr>\n",
       "    <tr>\n",
       "      <th>3</th>\n",
       "      <td>3</td>\n",
       "      <td>6800.0</td>\n",
       "      <td>64900000.0</td>\n",
       "    </tr>\n",
       "    <tr>\n",
       "      <th>4</th>\n",
       "      <td>2</td>\n",
       "      <td>8098.0</td>\n",
       "      <td>10000000.0</td>\n",
       "    </tr>\n",
       "  </tbody>\n",
       "</table>\n",
       "</div>"
      ],
      "text/plain": [
       "   rooms  cityCenters_nearest  last_price\n",
       "0      3              16028.0  13000000.0\n",
       "1      1              18603.0   3350000.0\n",
       "2      2              13933.0   5196000.0\n",
       "3      3               6800.0  64900000.0\n",
       "4      2               8098.0  10000000.0"
      ]
     },
     "execution_count": 94,
     "metadata": {},
     "output_type": "execute_result"
    }
   ],
   "source": [
    "df_other_center_cor = df_other[['rooms', 'cityCenters_nearest', 'last_price']] # создали отдельную таблицу\n",
    "df_other_center_cor.head()"
   ]
  },
  {
   "cell_type": "code",
   "execution_count": 95,
   "metadata": {},
   "outputs": [
    {
     "data": {
      "text/html": [
       "<div>\n",
       "<style scoped>\n",
       "    .dataframe tbody tr th:only-of-type {\n",
       "        vertical-align: middle;\n",
       "    }\n",
       "\n",
       "    .dataframe tbody tr th {\n",
       "        vertical-align: top;\n",
       "    }\n",
       "\n",
       "    .dataframe thead th {\n",
       "        text-align: right;\n",
       "    }\n",
       "</style>\n",
       "<table border=\"1\" class=\"dataframe\">\n",
       "  <thead>\n",
       "    <tr style=\"text-align: right;\">\n",
       "      <th></th>\n",
       "      <th>rooms</th>\n",
       "      <th>cityCenters_nearest</th>\n",
       "      <th>last_price</th>\n",
       "    </tr>\n",
       "  </thead>\n",
       "  <tbody>\n",
       "    <tr>\n",
       "      <th>rooms</th>\n",
       "      <td>1.000000</td>\n",
       "      <td>-0.091518</td>\n",
       "      <td>0.365209</td>\n",
       "    </tr>\n",
       "    <tr>\n",
       "      <th>cityCenters_nearest</th>\n",
       "      <td>-0.091518</td>\n",
       "      <td>1.000000</td>\n",
       "      <td>-0.156048</td>\n",
       "    </tr>\n",
       "    <tr>\n",
       "      <th>last_price</th>\n",
       "      <td>0.365209</td>\n",
       "      <td>-0.156048</td>\n",
       "      <td>1.000000</td>\n",
       "    </tr>\n",
       "  </tbody>\n",
       "</table>\n",
       "</div>"
      ],
      "text/plain": [
       "                        rooms  cityCenters_nearest  last_price\n",
       "rooms                1.000000            -0.091518    0.365209\n",
       "cityCenters_nearest -0.091518             1.000000   -0.156048\n",
       "last_price           0.365209            -0.156048    1.000000"
      ]
     },
     "execution_count": 95,
     "metadata": {},
     "output_type": "execute_result"
    }
   ],
   "source": [
    "df_other_center_cor.corr() # считаем коэффициент"
   ]
  },
  {
   "cell_type": "code",
   "execution_count": 96,
   "metadata": {},
   "outputs": [
    {
     "data": {
      "image/png": "[encoded data removed]",
      "text/plain": [
       "<Figure size 648x648 with 9 Axes>"
      ]
     },
     "metadata": {
      "needs_background": "light"
     },
     "output_type": "display_data"
    }
   ],
   "source": [
    "pd.plotting.scatter_matrix(df_other_center_cor, figsize=(9, 9));"
   ]
  },
  {
   "cell_type": "markdown",
   "metadata": {},
   "source": [
    "**Вывод**\n",
    "\n",
    "\n",
    "В соотношении количества комнат и цены корреляция положительная, но ниже среднего. \n",
    "\n",
    "Соотношение цены и удаленности от центра характеризуется отрицательной, очень слабой корреляцией. Чем дальше от центра, тем ниже цена. Но зависимость минимальная.\n",
    "\n",
    "Диаграмма рассеяния подтверждает цифры\n",
    "\n",
    "Соотнношения посчитались одинаковые и для центра и для общей базы   <a id='correlpeter'></a>"
   ]
  },
  {
   "cell_type": "markdown",
   "metadata": {},
   "source": [
    "\n",
    " - **Изучим зависимость цены от того на каком этаже расположена квартира**\n",
    "     - построим графики на основании расчета сводной таблицы.\n",
    "     - построим графики с наложением общей базы и центра"
   ]
  },
  {
   "cell_type": "code",
   "execution_count": 97,
   "metadata": {},
   "outputs": [],
   "source": [
    "df_other_pivot = df_other.pivot_table(index='floor_variant', values='last_price').sort_values(by='last_price')\n",
    "df_other_center_pivot = df_other_center.pivot_table(index='floor_variant', values='last_price').sort_values(by='last_price')"
   ]
  },
  {
   "cell_type": "code",
   "execution_count": 98,
   "metadata": {
    "scrolled": false
   },
   "outputs": [
    {
     "data": {
      "image/png": "[encoded data removed]",
      "text/plain": [
       "<Figure size 864x432 with 1 Axes>"
      ]
     },
     "metadata": {
      "needs_background": "light"
     },
     "output_type": "display_data"
    }
   ],
   "source": [
    "ax = df_other_pivot.plot(\n",
    "    y='last_price',\n",
    "    label='all',)\n",
    "df_other_center_pivot.plot(\n",
    "    y='last_price',\n",
    "    label='center',\n",
    "    ax=ax,\n",
    "    legend=True, figsize=(12, 6), title='Распределение цены по категориям этажей в разрезе общей базы и центра'\\\n",
    "      , xlabel='Этаж', ylabel='Стоимость'\n",
    "); "
   ]
  },
  {
   "cell_type": "code",
   "execution_count": 99,
   "metadata": {
    "scrolled": false
   },
   "outputs": [
    {
     "data": {
      "image/png": "[encoded data removed]",
      "text/plain": [
       "<Figure size 864x432 with 1 Axes>"
      ]
     },
     "metadata": {
      "needs_background": "light"
     },
     "output_type": "display_data"
    }
   ],
   "source": [
    "ax = df_other_pivot.plot(\n",
    "    kind='bar',\n",
    "    y='last_price',\n",
    "    alpha=0.7,\n",
    "    label='all',\n",
    ")\n",
    "df_other_center_pivot.plot(\n",
    "    kind='bar',\n",
    "    y='last_price',\n",
    "    alpha=0.3,\n",
    "    label='center',\n",
    "    ax=ax,\n",
    "    legend=True,  figsize=(12, 6), title='Распределение цены по категориям этажей в разрезе общей базы и центра'\\\n",
    "      , xlabel='Этаж', ylabel='Стоимость'\n",
    ");\n"
   ]
  },
  {
   "cell_type": "markdown",
   "metadata": {},
   "source": [
    "**Вывод**\n",
    "\n",
    "В центре последний этаж еще дороже по сравнению с остальными, чем в общей базе. \n",
    "Первый этаж также не пользуется популярностью.  Стоимость его в соотношении с другими двумя категориями еще более низкая.\n",
    "То есть характер распределения одинаковый, но стоимость в центре более, чем в 2 раза выше."
   ]
  },
  {
   "cell_type": "markdown",
   "metadata": {},
   "source": [
    "\n",
    "\n",
    " - Изучим зависимость цены от даты размещения\n",
    "\n",
    "   - дня недели\n",
    "   - месяца\n",
    "   - года\n",
    " \n",
    " Построим графики, чтобы охарактеризовать соотношения\n",
    "  \n",
    "  "
   ]
  },
  {
   "cell_type": "code",
   "execution_count": 100,
   "metadata": {},
   "outputs": [],
   "source": [
    "df_other_pivot = df_other.pivot_table(index='weekday_exposition', values='last_price').sort_values(by='weekday_exposition')\n",
    "df_other_center_pivot = df_other_center.pivot_table(index='weekday_exposition', values='last_price').sort_values(by='weekday_exposition')"
   ]
  },
  {
   "cell_type": "code",
   "execution_count": 101,
   "metadata": {
    "scrolled": false
   },
   "outputs": [
    {
     "data": {
      "image/png": "[encoded data removed]",
      "text/plain": [
       "<Figure size 864x432 with 1 Axes>"
      ]
     },
     "metadata": {
      "needs_background": "light"
     },
     "output_type": "display_data"
    }
   ],
   "source": [
    "ax = df_other_pivot.plot(\n",
    "    y='last_price',\n",
    "    label='all',)\n",
    "df_other_center_pivot.plot(\n",
    "    y='last_price',\n",
    "    label='center',\n",
    "    ax=ax,\n",
    "    legend=True,  figsize=(12, 6), title='Распределение цены по дням недели в разрезе общей базы и центра'\\\n",
    "      , xlabel='День недели', ylabel='Стоимость'\n",
    "); "
   ]
  },
  {
   "cell_type": "code",
   "execution_count": 102,
   "metadata": {},
   "outputs": [
    {
     "data": {
      "image/png": "[encoded data removed]",
      "text/plain": [
       "<Figure size 864x432 with 1 Axes>"
      ]
     },
     "metadata": {
      "needs_background": "light"
     },
     "output_type": "display_data"
    }
   ],
   "source": [
    "ax = df_other_pivot.plot(\n",
    "    kind='bar',\n",
    "    y='last_price',\n",
    "    alpha=0.7,\n",
    "    label='all',\n",
    ")\n",
    "df_other_center_pivot.plot(\n",
    "    kind='bar',\n",
    "    y='last_price',\n",
    "    alpha=0.3,\n",
    "    label='center',\n",
    "    ax=ax,\n",
    "    legend=True, figsize=(12, 6), title='Распределение цены по дням недели в разрезе общей базы и центра'\\\n",
    "      , xlabel='День недели', ylabel='Стоимость'\n",
    "); \n"
   ]
  },
  {
   "cell_type": "markdown",
   "metadata": {},
   "source": [
    "**Вывод**\n",
    "\n",
    "Для центра еще более характерно повышение цен на недвижимость именно в субботу. В воскресенье заметен спад, но все же это второй активный день по стоимости продаж, в отличие от общей базы, где это четверг.\n",
    "В отношении остальных дней недели зависимость стоимости от дня продажи не сильно заметна.\n",
    "\n",
    "В центре стоимость в 2 раза выше."
   ]
  },
  {
   "cell_type": "code",
   "execution_count": 103,
   "metadata": {},
   "outputs": [],
   "source": [
    "df_other_pivot = df_other.pivot_table(index='month_exposition', values='last_price').sort_values(by='month_exposition')\n",
    "df_other_center_pivot = df_other_center.pivot_table(index='month_exposition', values='last_price').sort_values(by='month_exposition')"
   ]
  },
  {
   "cell_type": "code",
   "execution_count": 104,
   "metadata": {},
   "outputs": [
    {
     "data": {
      "image/png": "[encoded data removed]",
      "text/plain": [
       "<Figure size 864x432 with 1 Axes>"
      ]
     },
     "metadata": {
      "needs_background": "light"
     },
     "output_type": "display_data"
    }
   ],
   "source": [
    "ax = df_other_pivot.plot(\n",
    "    y='last_price',\n",
    "    label='all',)\n",
    "df_other_center_pivot.plot(\n",
    "    y='last_price',\n",
    "    label='center',\n",
    "    ax=ax,\n",
    "    legend=True, figsize=(12, 6), title='Распределение цены по месяцам в разрезе общей базы и центра'\\\n",
    "      , xlabel='Месяц', ylabel='Стоимость'\n",
    ");"
   ]
  },
  {
   "cell_type": "code",
   "execution_count": 105,
   "metadata": {},
   "outputs": [],
   "source": [
    "df_other_pivot = df_other.pivot_table(index='month_exposition', values='last_price').sort_values(by='last_price')\n",
    "df_other_center_pivot = df_other_center.pivot_table(index='month_exposition', values='last_price').sort_values(by='last_price')"
   ]
  },
  {
   "cell_type": "code",
   "execution_count": 106,
   "metadata": {},
   "outputs": [
    {
     "data": {
      "image/png": "[encoded data removed]",
      "text/plain": [
       "<Figure size 864x432 with 1 Axes>"
      ]
     },
     "metadata": {
      "needs_background": "light"
     },
     "output_type": "display_data"
    }
   ],
   "source": [
    "ax = df_other_pivot.plot(\n",
    "    kind='bar',\n",
    "    y='last_price',\n",
    "    alpha=0.7,\n",
    "    label='all',\n",
    ")\n",
    "df_other_center_pivot.plot(\n",
    "    kind='bar',\n",
    "    y='last_price',\n",
    "    alpha=0.3,\n",
    "    label='center',\n",
    "    ax=ax,\n",
    "    legend=True, figsize=(12, 6), title='Распределение цены по месяцам в разрезе общей базы и центра'\\\n",
    "      , xlabel='Месяц', ylabel='Стоимость'\n",
    "); \n"
   ]
  },
  {
   "cell_type": "markdown",
   "metadata": {},
   "source": [
    "**Вывод**\n",
    "\n",
    "Зависимость стоимости от месяца продаж в центре и общей базе отмечается общими тенденциями. Подъем в декабре, спад в октябре. Сентябрь, апрель и декабрь, - самые дороги месяцы по продажам. Летом, - в августе и июне заметно снижение цены.\n",
    "Разница заметна в том, что значения более контрастны. В центре города сезонность заметнее влияет на стоимость, чем в выборке по общей базе"
   ]
  },
  {
   "cell_type": "code",
   "execution_count": 107,
   "metadata": {},
   "outputs": [],
   "source": [
    "df_other_pivot = df_other.pivot_table(index='year_exposition', values='last_price').sort_values(by='year_exposition')\n",
    "df_other_center_pivot = df_other_center.pivot_table(index='year_exposition', values='last_price').sort_values(by='year_exposition')"
   ]
  },
  {
   "cell_type": "code",
   "execution_count": 108,
   "metadata": {},
   "outputs": [
    {
     "data": {
      "image/png": "[encoded data removed]",
      "text/plain": [
       "<Figure size 864x432 with 1 Axes>"
      ]
     },
     "metadata": {
      "needs_background": "light"
     },
     "output_type": "display_data"
    }
   ],
   "source": [
    "ax = df_other_pivot.plot(\n",
    "    y='last_price',\n",
    "    label='all',)\n",
    "df_other_center_pivot.plot(\n",
    "    y='last_price',\n",
    "    label='center',\n",
    "    ax=ax,\n",
    "    legend=True, figsize=(12, 6), title='Распределение цены по годам в разрезе общей базы и центра'\\\n",
    "      , xlabel='Год', ylabel='Стоимость'\n",
    "); "
   ]
  },
  {
   "cell_type": "code",
   "execution_count": 109,
   "metadata": {},
   "outputs": [
    {
     "data": {
      "image/png": "[encoded data removed]",
      "text/plain": [
       "<Figure size 864x432 with 1 Axes>"
      ]
     },
     "metadata": {
      "needs_background": "light"
     },
     "output_type": "display_data"
    }
   ],
   "source": [
    "ax = df_other_pivot.plot(\n",
    "    kind='bar',\n",
    "    y='last_price',\n",
    "    alpha=0.7,\n",
    "    label='all',\n",
    ")\n",
    "df_other_center_pivot.plot(\n",
    "    kind='bar',\n",
    "    y='last_price',\n",
    "    alpha=0.3,\n",
    "    label='center',\n",
    "    ax=ax,\n",
    "    legend=True, figsize=(12, 6), title='Распределение цены по годам в разрезе общей базы и центра'\\\n",
    "      , xlabel='Год', ylabel='Стоимость'\n",
    "); "
   ]
  },
  {
   "cell_type": "markdown",
   "metadata": {},
   "source": [
    "**Вывод**\n",
    "\n",
    "Зависимость цены от года продаж в центре и в общей базе в целом такая же. Есть небольшие отличия. Стоимость жилья в центре с 2014 на 2015 снизилась сильнее. А с 2018 на 2019 год сильнее выросла.\n",
    "\n",
    "\n"
   ]
  },
  {
   "cell_type": "markdown",
   "metadata": {},
   "source": [
    "## Общий вывод"
   ]
  },
  {
   "cell_type": "markdown",
   "metadata": {},
   "source": [
    "Задача данного исследования состояла в том, чтобы проанализировать архив объявлений о продаже квартир в Санкт-Петербурге и\n",
    "\n",
    "соседних населенных пунктах за несколько лет. \n",
    "\n",
    "**На основании исследования установить параметры для определения рыночной цены недвижимости**\n",
    "\n",
    "**На начальном этапе ознакомились с данными и изучили.**\n",
    "\n",
    " - В исходной таблице 22 колонки. Только 8 колонок без пропусков\n",
    " \n",
    " - В колонках, где это уместно пропуски заполнили нулями\n",
    " \n",
    " - В колонках, где было возможно, постарались восстановить данные\n",
    " \n",
    "     - Высоту потолков заменили медианным значением \n",
    "     \n",
    "     - Расстояние до центра нашли в интернете, заменили пропуски\n",
    "   \n",
    " - В колонках, где не удалось найти корректную замену, пропуски оставили.\n",
    " \n",
    " - Изменили тип данных\n",
    " \n",
    " - Проверили таблицу на дубликаты.\n",
    "\n",
    "\n",
    "**На основе исходного датафрейма создали новую таблицу, оставили колонки необходимые для исследования**\n",
    "   \n",
    " \n",
    "  - **Рассчитали и добавили в таблицу новые колонки**\n",
    " \n",
    "       - цену квадратногог метра\n",
    "   \n",
    "       - день недели месяц и год публикации объявления\n",
    "   \n",
    "       - разделили этажи на категории первый, последний, другой\n",
    "   \n",
    "**В соответствии, с задачей исследования изучили и характеризовали параметры**\n",
    "\n",
    " - площадь\n",
    " - цена\n",
    " - число комнат \n",
    " - высота потолков\n",
    " - изучили время продажи квартиры\n",
    " \n",
    "**Далее изучили соотношения, как зависит цена от:**\n",
    "\n",
    " - площади \n",
    " - числа комнат\n",
    " - удаленности от центра \n",
    " - категории этажа\n",
    " - даты размещения объявления\n",
    " \n",
    "Для этого рассчитали коэффициент корреляции и построили матрицу диаграмм рассеяния. \n",
    "\n",
    "Построили графики, чтобы проанализировать нелинейную зависимость\n",
    "\n",
    "**Выделили центральную зону Санкт-Петербурга** \n",
    "\n",
    "**Изучили как данные параметры и соотношения характеризуются для центральной зоны**\n",
    "\n",
    "*В процессе исследования, получили дополнительную информацию*\n",
    "\n",
    " - Выбрали 10 населенных пунктов с наибольшим числом объявлений\n",
    " - Посчитали среднюю стоимость квадратного метра\n",
    " - Выделил пункты с самой высокой и низкой стоимостью жилья\n",
    "\n",
    "**По результатам работы можно охарактеризовать следующие параметры влияющие на стоимость жилья:**\n",
    "\n",
    " - Удаленность от центра. В центре Санкт-Петербурга стоимость практически в 2 раза выше.\n",
    "\n",
    " - Площадь квартиры. В центре она отличается более разнообразными предложениями. Квартиры с большой площадью представлены гораздо шире, чем в общей базе\n",
    " .\n",
    " - Количество комнат Больше всего предложений о продаже 2 и 3 комнатных квартир. В общей базе активнее продавались 1 и 2 комнатные Предложений 3 и 4 комнатных квартир в центре больше, чем в общей базе.\n",
    " \n",
    " - Высота потолков. Основная масса квартир в центре с высотой потолков 2,7 метра, как и в общей базе. В центре квартиры с высотой потолков 3 - 3,5  метра более широко представлены в продажах.\n",
    " \n",
    " - Этаж квартиры. Последний этаж дороже по сравнению с остальными Первый этаж не пользуется популярностью. Стоимость его в соотношении с другими двумя категориями более низкая. Это характерно и для общей базы и для центра.\n",
    " \n",
    " - День недели. В будни зависимость стоимости от дня продажи не сильно заметна. Для центра характерно большее повышение цен на недвижимость субботу. В воскресенье заметен спад, но все же это второй активный день по стоимости продаж, в отличие от общей базы, где это четверг.\n",
    " \n",
    " - Месяц продажи. Зависимость стоимости от месяца продаж в центре и общей базе отмечается общими тенденциями. Подъем в декабре, спад в октябре. Сентябрь, апрель и декабрь, - самые дорогие месяцы по продажам. Летом, - в августе и июне заметно снижение цены. В центре города сезонность заметнее влияет на стоимость, чем в выборке по общей базе.\n",
    " \n",
    " - Год продажи. Каждый год вносит свои коррективы в цены на недвижимость. Колебание цены в зависимости от года ярко выражено. В 2014 году стоимость жилья была существенно выше, чем в последующие годы. В 2015 наблюдаем значительное снижение стоимости. И далее вплоть до 2018 года квартиры неуклонно дешевели. В 2019 недвижимость заметно подорожала.\n"
   ]
  }
 ],
 "metadata": {
  "ExecuteTimeLog": [
   {
    "duration": 415,
    "start_time": "2022-03-18T18:29:50.462Z"
   },
   {
    "duration": 71,
    "start_time": "2022-03-18T18:29:51.685Z"
   },
   {
    "duration": 13,
    "start_time": "2022-03-18T18:29:53.379Z"
   },
   {
    "duration": 11,
    "start_time": "2022-03-18T18:31:54.581Z"
   },
   {
    "duration": 67,
    "start_time": "2022-03-18T18:34:51.085Z"
   },
   {
    "duration": 12,
    "start_time": "2022-03-18T18:34:52.632Z"
   },
   {
    "duration": 8,
    "start_time": "2022-03-18T18:34:54.153Z"
   },
   {
    "duration": 2,
    "start_time": "2022-03-18T18:35:15.459Z"
   },
   {
    "duration": 389,
    "start_time": "2022-03-18T18:35:16.146Z"
   },
   {
    "duration": 12,
    "start_time": "2022-03-18T18:35:16.720Z"
   },
   {
    "duration": 6,
    "start_time": "2022-03-18T18:35:20.282Z"
   },
   {
    "duration": 75,
    "start_time": "2022-03-18T18:35:47.290Z"
   },
   {
    "duration": 14,
    "start_time": "2022-03-18T18:35:51.994Z"
   },
   {
    "duration": 115,
    "start_time": "2022-03-18T18:39:53.465Z"
   },
   {
    "duration": 11,
    "start_time": "2022-03-18T18:39:55.716Z"
   },
   {
    "duration": 83,
    "start_time": "2022-03-18T18:45:49.276Z"
   },
   {
    "duration": 14,
    "start_time": "2022-03-18T18:45:50.708Z"
   },
   {
    "duration": 27,
    "start_time": "2022-03-18T18:45:57.686Z"
   },
   {
    "duration": 36,
    "start_time": "2022-03-18T18:48:42.002Z"
   },
   {
    "duration": 26,
    "start_time": "2022-03-18T18:49:15.417Z"
   },
   {
    "duration": 9,
    "start_time": "2022-03-18T18:58:20.093Z"
   },
   {
    "duration": 9,
    "start_time": "2022-03-18T19:05:07.497Z"
   },
   {
    "duration": 4,
    "start_time": "2022-03-18T19:09:46.765Z"
   },
   {
    "duration": 133,
    "start_time": "2022-03-18T19:35:13.681Z"
   },
   {
    "duration": 5,
    "start_time": "2022-03-18T19:35:44.948Z"
   },
   {
    "duration": 197,
    "start_time": "2022-03-18T19:39:16.233Z"
   },
   {
    "duration": 5,
    "start_time": "2022-03-18T19:39:34.456Z"
   },
   {
    "duration": 18,
    "start_time": "2022-03-18T19:41:05.514Z"
   },
   {
    "duration": 20,
    "start_time": "2022-03-18T19:46:02.855Z"
   },
   {
    "duration": 8,
    "start_time": "2022-03-18T19:57:00.745Z"
   },
   {
    "duration": 5,
    "start_time": "2022-03-18T19:58:02.441Z"
   },
   {
    "duration": 5,
    "start_time": "2022-03-18T19:58:30.297Z"
   },
   {
    "duration": 5,
    "start_time": "2022-03-18T20:00:43.469Z"
   },
   {
    "duration": 5,
    "start_time": "2022-03-18T20:01:09.647Z"
   },
   {
    "duration": 5,
    "start_time": "2022-03-18T20:01:17.255Z"
   },
   {
    "duration": 1352,
    "start_time": "2022-03-18T20:04:49.493Z"
   },
   {
    "duration": 2,
    "start_time": "2022-03-18T20:05:45.371Z"
   },
   {
    "duration": 184,
    "start_time": "2022-03-18T20:13:47.405Z"
   },
   {
    "duration": 27,
    "start_time": "2022-03-18T20:16:59.006Z"
   },
   {
    "duration": 22,
    "start_time": "2022-03-18T20:20:27.327Z"
   },
   {
    "duration": 3,
    "start_time": "2022-03-18T20:21:50.507Z"
   },
   {
    "duration": 7,
    "start_time": "2022-03-18T20:23:11.113Z"
   },
   {
    "duration": 8,
    "start_time": "2022-03-18T20:23:21.141Z"
   },
   {
    "duration": 7,
    "start_time": "2022-03-18T20:23:26.340Z"
   },
   {
    "duration": 418,
    "start_time": "2022-03-19T09:59:48.646Z"
   },
   {
    "duration": 94,
    "start_time": "2022-03-19T09:59:49.509Z"
   },
   {
    "duration": 17,
    "start_time": "2022-03-19T09:59:50.229Z"
   },
   {
    "duration": 38,
    "start_time": "2022-03-19T09:59:52.815Z"
   },
   {
    "duration": 9,
    "start_time": "2022-03-19T10:00:03.103Z"
   },
   {
    "duration": 12,
    "start_time": "2022-03-19T10:00:09.118Z"
   },
   {
    "duration": 9,
    "start_time": "2022-03-19T10:00:14.822Z"
   },
   {
    "duration": 34,
    "start_time": "2022-03-19T10:00:17.750Z"
   },
   {
    "duration": 15,
    "start_time": "2022-03-19T10:00:28.524Z"
   },
   {
    "duration": 70,
    "start_time": "2022-03-19T10:02:00.816Z"
   },
   {
    "duration": 9,
    "start_time": "2022-03-19T10:02:35.183Z"
   },
   {
    "duration": 7,
    "start_time": "2022-03-19T10:02:50.385Z"
   },
   {
    "duration": 4,
    "start_time": "2022-03-19T10:02:53.075Z"
   },
   {
    "duration": 16,
    "start_time": "2022-03-19T10:03:34.256Z"
   },
   {
    "duration": 4,
    "start_time": "2022-03-19T10:04:36.878Z"
   },
   {
    "duration": 11,
    "start_time": "2022-03-19T10:04:55.814Z"
   },
   {
    "duration": 6,
    "start_time": "2022-03-19T10:07:49.367Z"
   },
   {
    "duration": 41,
    "start_time": "2022-03-19T10:08:56.108Z"
   },
   {
    "duration": 7,
    "start_time": "2022-03-19T10:12:42.478Z"
   },
   {
    "duration": 24,
    "start_time": "2022-03-19T10:13:01.744Z"
   },
   {
    "duration": 5,
    "start_time": "2022-03-19T10:30:04.785Z"
   },
   {
    "duration": 2,
    "start_time": "2022-03-19T10:30:33.729Z"
   },
   {
    "duration": 98,
    "start_time": "2022-03-19T10:30:34.776Z"
   },
   {
    "duration": 15,
    "start_time": "2022-03-19T10:30:36.089Z"
   },
   {
    "duration": 31,
    "start_time": "2022-03-19T10:30:39.658Z"
   },
   {
    "duration": 14,
    "start_time": "2022-03-19T10:30:47.772Z"
   },
   {
    "duration": 11,
    "start_time": "2022-03-19T10:30:52.593Z"
   },
   {
    "duration": 6,
    "start_time": "2022-03-19T10:30:54.738Z"
   },
   {
    "duration": 23,
    "start_time": "2022-03-19T10:31:08.259Z"
   },
   {
    "duration": 6,
    "start_time": "2022-03-19T10:32:32.655Z"
   },
   {
    "duration": 24,
    "start_time": "2022-03-19T10:33:36.939Z"
   },
   {
    "duration": 7,
    "start_time": "2022-03-19T10:44:42.263Z"
   },
   {
    "duration": 7,
    "start_time": "2022-03-19T10:44:54.251Z"
   },
   {
    "duration": 6,
    "start_time": "2022-03-19T10:53:45.219Z"
   },
   {
    "duration": 6,
    "start_time": "2022-03-19T10:54:11.121Z"
   },
   {
    "duration": 7,
    "start_time": "2022-03-19T10:54:18.649Z"
   },
   {
    "duration": 5,
    "start_time": "2022-03-19T10:54:48.573Z"
   },
   {
    "duration": 5,
    "start_time": "2022-03-19T10:57:43.232Z"
   },
   {
    "duration": 7,
    "start_time": "2022-03-19T10:57:47.406Z"
   },
   {
    "duration": 9,
    "start_time": "2022-03-19T10:59:40.105Z"
   },
   {
    "duration": 7,
    "start_time": "2022-03-19T10:59:43.611Z"
   },
   {
    "duration": 7,
    "start_time": "2022-03-19T11:00:44.685Z"
   },
   {
    "duration": 6,
    "start_time": "2022-03-19T11:00:47.525Z"
   },
   {
    "duration": 10,
    "start_time": "2022-03-19T11:00:59.823Z"
   },
   {
    "duration": 7,
    "start_time": "2022-03-19T11:01:01.895Z"
   },
   {
    "duration": 10,
    "start_time": "2022-03-19T11:01:33.750Z"
   },
   {
    "duration": 6,
    "start_time": "2022-03-19T11:02:46.976Z"
   },
   {
    "duration": 6,
    "start_time": "2022-03-19T11:03:22.031Z"
   },
   {
    "duration": 6,
    "start_time": "2022-03-19T11:10:04.426Z"
   },
   {
    "duration": 7,
    "start_time": "2022-03-19T11:10:42.837Z"
   },
   {
    "duration": 5,
    "start_time": "2022-03-19T11:10:43.752Z"
   },
   {
    "duration": 8,
    "start_time": "2022-03-19T11:14:29.368Z"
   },
   {
    "duration": 12,
    "start_time": "2022-03-19T11:29:38.029Z"
   },
   {
    "duration": 9,
    "start_time": "2022-03-19T11:35:55.751Z"
   },
   {
    "duration": 4,
    "start_time": "2022-03-19T11:39:11.662Z"
   },
   {
    "duration": 8,
    "start_time": "2022-03-19T11:39:13.078Z"
   },
   {
    "duration": 8,
    "start_time": "2022-03-19T11:44:49.885Z"
   },
   {
    "duration": 8,
    "start_time": "2022-03-19T11:45:09.451Z"
   },
   {
    "duration": 6,
    "start_time": "2022-03-19T11:45:47.190Z"
   },
   {
    "duration": 7,
    "start_time": "2022-03-19T11:47:21.704Z"
   },
   {
    "duration": 175,
    "start_time": "2022-03-19T11:49:46.852Z"
   },
   {
    "duration": 8,
    "start_time": "2022-03-19T11:50:24.612Z"
   },
   {
    "duration": 8,
    "start_time": "2022-03-19T11:50:36.564Z"
   },
   {
    "duration": 6,
    "start_time": "2022-03-19T12:04:03.289Z"
   },
   {
    "duration": 6,
    "start_time": "2022-03-19T12:14:21.347Z"
   },
   {
    "duration": 12,
    "start_time": "2022-03-19T12:59:32.534Z"
   },
   {
    "duration": 3,
    "start_time": "2022-03-19T12:59:49.504Z"
   },
   {
    "duration": 6,
    "start_time": "2022-03-19T13:22:47.081Z"
   },
   {
    "duration": 6,
    "start_time": "2022-03-19T13:23:14.814Z"
   },
   {
    "duration": 179,
    "start_time": "2022-03-19T13:25:25.466Z"
   },
   {
    "duration": 14,
    "start_time": "2022-03-19T13:25:31.686Z"
   },
   {
    "duration": 12,
    "start_time": "2022-03-19T13:26:56.595Z"
   },
   {
    "duration": 15,
    "start_time": "2022-03-19T13:29:49.881Z"
   },
   {
    "duration": 3,
    "start_time": "2022-03-19T13:32:15.693Z"
   },
   {
    "duration": 6,
    "start_time": "2022-03-19T13:33:36.088Z"
   },
   {
    "duration": 3,
    "start_time": "2022-03-19T13:34:16.265Z"
   },
   {
    "duration": 6,
    "start_time": "2022-03-19T13:34:20.580Z"
   },
   {
    "duration": 7,
    "start_time": "2022-03-19T13:34:38.529Z"
   },
   {
    "duration": 8,
    "start_time": "2022-03-19T13:34:43.130Z"
   },
   {
    "duration": 2,
    "start_time": "2022-03-19T13:37:59.502Z"
   },
   {
    "duration": 3,
    "start_time": "2022-03-19T13:38:05.386Z"
   },
   {
    "duration": 5,
    "start_time": "2022-03-19T13:40:45.680Z"
   },
   {
    "duration": 3,
    "start_time": "2022-03-19T13:41:27.581Z"
   },
   {
    "duration": 7,
    "start_time": "2022-03-19T13:46:08.277Z"
   },
   {
    "duration": 7,
    "start_time": "2022-03-19T13:47:59.016Z"
   },
   {
    "duration": 5,
    "start_time": "2022-03-19T13:49:06.545Z"
   },
   {
    "duration": 3,
    "start_time": "2022-03-19T13:49:22.066Z"
   },
   {
    "duration": 6,
    "start_time": "2022-03-19T13:49:24.444Z"
   },
   {
    "duration": 6,
    "start_time": "2022-03-19T13:50:37.343Z"
   },
   {
    "duration": 4,
    "start_time": "2022-03-19T13:50:52.420Z"
   },
   {
    "duration": 7,
    "start_time": "2022-03-19T13:52:16.610Z"
   },
   {
    "duration": 5,
    "start_time": "2022-03-19T13:54:56.915Z"
   },
   {
    "duration": 8,
    "start_time": "2022-03-19T14:50:27.317Z"
   },
   {
    "duration": 193,
    "start_time": "2022-03-19T14:54:11.379Z"
   },
   {
    "duration": 8,
    "start_time": "2022-03-19T14:54:17.759Z"
   },
   {
    "duration": 8,
    "start_time": "2022-03-19T14:56:52.400Z"
   },
   {
    "duration": 8,
    "start_time": "2022-03-19T14:57:24.400Z"
   },
   {
    "duration": 16,
    "start_time": "2022-03-19T15:00:18.494Z"
   },
   {
    "duration": 10,
    "start_time": "2022-03-19T15:00:54.161Z"
   },
   {
    "duration": 11,
    "start_time": "2022-03-19T15:01:04.767Z"
   },
   {
    "duration": 10,
    "start_time": "2022-03-19T15:11:35.490Z"
   },
   {
    "duration": 51,
    "start_time": "2022-03-19T15:20:05.808Z"
   },
   {
    "duration": 8,
    "start_time": "2022-03-19T15:26:16.155Z"
   },
   {
    "duration": 6,
    "start_time": "2022-03-19T15:27:17.021Z"
   },
   {
    "duration": 47,
    "start_time": "2022-03-19T15:27:38.360Z"
   },
   {
    "duration": 11,
    "start_time": "2022-03-19T15:34:47.555Z"
   },
   {
    "duration": 6,
    "start_time": "2022-03-19T15:35:50.562Z"
   },
   {
    "duration": 4,
    "start_time": "2022-03-19T15:36:41.268Z"
   },
   {
    "duration": 6,
    "start_time": "2022-03-19T15:36:55.022Z"
   },
   {
    "duration": 5,
    "start_time": "2022-03-19T15:44:34.305Z"
   },
   {
    "duration": 10,
    "start_time": "2022-03-19T15:46:10.041Z"
   },
   {
    "duration": 9,
    "start_time": "2022-03-19T15:48:41.453Z"
   },
   {
    "duration": 8,
    "start_time": "2022-03-19T15:48:56.080Z"
   },
   {
    "duration": 6,
    "start_time": "2022-03-19T15:52:03.759Z"
   },
   {
    "duration": 5,
    "start_time": "2022-03-19T15:52:48.743Z"
   },
   {
    "duration": 2,
    "start_time": "2022-03-19T15:53:10.584Z"
   },
   {
    "duration": 4,
    "start_time": "2022-03-19T15:54:47.899Z"
   },
   {
    "duration": 4,
    "start_time": "2022-03-19T15:54:54.357Z"
   },
   {
    "duration": 4,
    "start_time": "2022-03-19T15:55:04.908Z"
   },
   {
    "duration": 6,
    "start_time": "2022-03-19T15:55:15.380Z"
   },
   {
    "duration": 6,
    "start_time": "2022-03-19T15:56:40.354Z"
   },
   {
    "duration": 3,
    "start_time": "2022-03-19T15:56:57.791Z"
   },
   {
    "duration": 6,
    "start_time": "2022-03-19T15:57:00.062Z"
   },
   {
    "duration": 5,
    "start_time": "2022-03-19T15:57:01.887Z"
   },
   {
    "duration": 3,
    "start_time": "2022-03-19T15:57:06.559Z"
   },
   {
    "duration": 6,
    "start_time": "2022-03-19T15:57:08.086Z"
   },
   {
    "duration": 4,
    "start_time": "2022-03-19T15:58:02.272Z"
   },
   {
    "duration": 5,
    "start_time": "2022-03-19T15:58:08.777Z"
   },
   {
    "duration": 5,
    "start_time": "2022-03-19T15:58:10.400Z"
   },
   {
    "duration": 4,
    "start_time": "2022-03-19T15:58:16.008Z"
   },
   {
    "duration": 6,
    "start_time": "2022-03-19T15:58:16.785Z"
   },
   {
    "duration": 4,
    "start_time": "2022-03-19T16:00:02.724Z"
   },
   {
    "duration": 4,
    "start_time": "2022-03-19T16:00:04.100Z"
   },
   {
    "duration": 6,
    "start_time": "2022-03-19T16:00:06.572Z"
   },
   {
    "duration": 3,
    "start_time": "2022-03-19T16:00:08.668Z"
   },
   {
    "duration": 6,
    "start_time": "2022-03-19T16:00:09.484Z"
   },
   {
    "duration": 6,
    "start_time": "2022-03-19T16:00:21.997Z"
   },
   {
    "duration": 6,
    "start_time": "2022-03-19T16:00:39.351Z"
   },
   {
    "duration": 125,
    "start_time": "2022-03-19T16:00:41.118Z"
   },
   {
    "duration": 19,
    "start_time": "2022-03-19T16:00:42.351Z"
   },
   {
    "duration": 11,
    "start_time": "2022-03-19T16:01:02.126Z"
   },
   {
    "duration": 6,
    "start_time": "2022-03-19T16:01:30.303Z"
   },
   {
    "duration": 4,
    "start_time": "2022-03-19T16:01:32.793Z"
   },
   {
    "duration": 5,
    "start_time": "2022-03-19T16:01:34.191Z"
   },
   {
    "duration": 3,
    "start_time": "2022-03-19T16:01:42.377Z"
   },
   {
    "duration": 6,
    "start_time": "2022-03-19T16:01:46.583Z"
   },
   {
    "duration": 5,
    "start_time": "2022-03-19T16:07:50.027Z"
   },
   {
    "duration": 6,
    "start_time": "2022-03-19T16:08:51.996Z"
   },
   {
    "duration": 6,
    "start_time": "2022-03-19T16:24:30.735Z"
   },
   {
    "duration": 3,
    "start_time": "2022-03-19T16:24:31.879Z"
   },
   {
    "duration": 5,
    "start_time": "2022-03-19T16:24:35.631Z"
   },
   {
    "duration": 5,
    "start_time": "2022-03-19T16:24:36.775Z"
   },
   {
    "duration": 2,
    "start_time": "2022-03-19T16:25:36.764Z"
   },
   {
    "duration": 80,
    "start_time": "2022-03-19T16:25:37.749Z"
   },
   {
    "duration": 7,
    "start_time": "2022-03-19T16:25:56.992Z"
   },
   {
    "duration": 7,
    "start_time": "2022-03-19T16:26:02.201Z"
   },
   {
    "duration": 5,
    "start_time": "2022-03-19T16:26:20.082Z"
   },
   {
    "duration": 4,
    "start_time": "2022-03-19T16:26:44.738Z"
   },
   {
    "duration": 7,
    "start_time": "2022-03-19T16:26:48.028Z"
   },
   {
    "duration": 5,
    "start_time": "2022-03-19T16:27:02.267Z"
   },
   {
    "duration": 9,
    "start_time": "2022-03-19T17:33:12.345Z"
   },
   {
    "duration": 5,
    "start_time": "2022-03-19T17:33:22.518Z"
   },
   {
    "duration": 11,
    "start_time": "2022-03-19T17:38:19.371Z"
   },
   {
    "duration": 5,
    "start_time": "2022-03-19T17:40:08.260Z"
   },
   {
    "duration": 3,
    "start_time": "2022-03-19T17:40:12.277Z"
   },
   {
    "duration": 6,
    "start_time": "2022-03-19T17:40:15.980Z"
   },
   {
    "duration": 5,
    "start_time": "2022-03-19T17:40:19.551Z"
   },
   {
    "duration": 5,
    "start_time": "2022-03-19T17:40:34.453Z"
   },
   {
    "duration": 5,
    "start_time": "2022-03-19T17:41:33.414Z"
   },
   {
    "duration": 3,
    "start_time": "2022-03-19T17:57:52.819Z"
   },
   {
    "duration": 5,
    "start_time": "2022-03-19T17:57:58.553Z"
   },
   {
    "duration": 4,
    "start_time": "2022-03-19T17:58:06.132Z"
   },
   {
    "duration": 6,
    "start_time": "2022-03-19T17:58:08.179Z"
   },
   {
    "duration": 5,
    "start_time": "2022-03-19T17:58:15.705Z"
   },
   {
    "duration": 6,
    "start_time": "2022-03-19T17:58:38.065Z"
   },
   {
    "duration": 6,
    "start_time": "2022-03-19T18:29:25.295Z"
   },
   {
    "duration": 6,
    "start_time": "2022-03-19T18:29:39.404Z"
   },
   {
    "duration": 5,
    "start_time": "2022-03-19T18:29:44.740Z"
   },
   {
    "duration": 6,
    "start_time": "2022-03-19T18:29:57.005Z"
   },
   {
    "duration": 6,
    "start_time": "2022-03-19T18:30:04.181Z"
   },
   {
    "duration": 6,
    "start_time": "2022-03-19T18:30:14.469Z"
   },
   {
    "duration": 6,
    "start_time": "2022-03-19T18:30:21.692Z"
   },
   {
    "duration": 4,
    "start_time": "2022-03-19T18:32:08.176Z"
   },
   {
    "duration": 4,
    "start_time": "2022-03-19T18:33:05.883Z"
   },
   {
    "duration": 5,
    "start_time": "2022-03-19T18:33:09.210Z"
   },
   {
    "duration": 4,
    "start_time": "2022-03-19T18:34:22.181Z"
   },
   {
    "duration": 506,
    "start_time": "2022-03-20T05:29:09.179Z"
   },
   {
    "duration": 111,
    "start_time": "2022-03-20T05:29:09.688Z"
   },
   {
    "duration": 21,
    "start_time": "2022-03-20T05:29:09.801Z"
   },
   {
    "duration": 75,
    "start_time": "2022-03-20T05:29:09.825Z"
   },
   {
    "duration": 12,
    "start_time": "2022-03-20T05:29:09.903Z"
   },
   {
    "duration": 12,
    "start_time": "2022-03-20T05:29:09.917Z"
   },
   {
    "duration": 45,
    "start_time": "2022-03-20T05:29:09.931Z"
   },
   {
    "duration": 40,
    "start_time": "2022-03-20T05:29:09.978Z"
   },
   {
    "duration": 10,
    "start_time": "2022-03-20T05:29:10.020Z"
   },
   {
    "duration": 40,
    "start_time": "2022-03-20T05:29:10.034Z"
   },
   {
    "duration": 5,
    "start_time": "2022-03-20T05:29:10.076Z"
   },
   {
    "duration": 8,
    "start_time": "2022-03-20T05:29:10.084Z"
   },
   {
    "duration": 7,
    "start_time": "2022-03-20T05:29:10.094Z"
   },
   {
    "duration": 7,
    "start_time": "2022-03-20T05:29:10.103Z"
   },
   {
    "duration": 8,
    "start_time": "2022-03-20T05:29:10.112Z"
   },
   {
    "duration": 52,
    "start_time": "2022-03-20T05:29:10.122Z"
   },
   {
    "duration": 7,
    "start_time": "2022-03-20T05:29:10.177Z"
   },
   {
    "duration": 8,
    "start_time": "2022-03-20T05:29:10.186Z"
   },
   {
    "duration": 8,
    "start_time": "2022-03-20T05:29:10.196Z"
   },
   {
    "duration": 7,
    "start_time": "2022-03-20T05:29:10.206Z"
   },
   {
    "duration": 10,
    "start_time": "2022-03-20T05:29:10.215Z"
   },
   {
    "duration": 87,
    "start_time": "2022-03-20T05:29:10.227Z"
   },
   {
    "duration": 10,
    "start_time": "2022-03-20T05:29:10.316Z"
   },
   {
    "duration": 8,
    "start_time": "2022-03-20T05:29:10.328Z"
   },
   {
    "duration": 37,
    "start_time": "2022-03-20T05:29:10.338Z"
   },
   {
    "duration": 6,
    "start_time": "2022-03-20T05:29:10.377Z"
   },
   {
    "duration": 10,
    "start_time": "2022-03-20T05:29:10.385Z"
   },
   {
    "duration": 11,
    "start_time": "2022-03-20T05:29:10.399Z"
   },
   {
    "duration": 10,
    "start_time": "2022-03-20T05:29:10.411Z"
   },
   {
    "duration": 5,
    "start_time": "2022-03-20T05:29:10.422Z"
   },
   {
    "duration": 46,
    "start_time": "2022-03-20T05:29:10.429Z"
   },
   {
    "duration": 8,
    "start_time": "2022-03-20T05:29:10.478Z"
   },
   {
    "duration": 116,
    "start_time": "2022-03-20T05:29:10.488Z"
   },
   {
    "duration": 0,
    "start_time": "2022-03-20T05:29:10.608Z"
   },
   {
    "duration": 0,
    "start_time": "2022-03-20T05:29:10.609Z"
   },
   {
    "duration": 0,
    "start_time": "2022-03-20T05:29:10.611Z"
   },
   {
    "duration": 0,
    "start_time": "2022-03-20T05:29:10.612Z"
   },
   {
    "duration": 3,
    "start_time": "2022-03-20T05:31:14.666Z"
   },
   {
    "duration": 4,
    "start_time": "2022-03-20T05:47:44.732Z"
   },
   {
    "duration": 6,
    "start_time": "2022-03-20T05:48:30.787Z"
   },
   {
    "duration": 8,
    "start_time": "2022-03-20T05:50:20.368Z"
   },
   {
    "duration": 6,
    "start_time": "2022-03-20T05:51:12.630Z"
   },
   {
    "duration": 9,
    "start_time": "2022-03-20T05:52:10.070Z"
   },
   {
    "duration": 7,
    "start_time": "2022-03-20T05:52:14.380Z"
   },
   {
    "duration": 6,
    "start_time": "2022-03-20T06:10:45.825Z"
   },
   {
    "duration": 91,
    "start_time": "2022-03-20T06:11:19.118Z"
   },
   {
    "duration": 5,
    "start_time": "2022-03-20T06:11:24.951Z"
   },
   {
    "duration": 5,
    "start_time": "2022-03-20T06:12:15.674Z"
   },
   {
    "duration": 6,
    "start_time": "2022-03-20T06:16:41.627Z"
   },
   {
    "duration": 11,
    "start_time": "2022-03-20T06:18:47.471Z"
   },
   {
    "duration": 4,
    "start_time": "2022-03-20T06:52:44.195Z"
   },
   {
    "duration": 24,
    "start_time": "2022-03-20T08:09:15.164Z"
   },
   {
    "duration": 10,
    "start_time": "2022-03-20T08:10:44.450Z"
   },
   {
    "duration": 24,
    "start_time": "2022-03-20T08:10:53.929Z"
   },
   {
    "duration": 25,
    "start_time": "2022-03-20T08:12:07.442Z"
   },
   {
    "duration": 6,
    "start_time": "2022-03-20T08:13:23.321Z"
   },
   {
    "duration": 9,
    "start_time": "2022-03-20T08:16:46.815Z"
   },
   {
    "duration": 25,
    "start_time": "2022-03-20T08:17:45.103Z"
   },
   {
    "duration": 60,
    "start_time": "2022-03-20T08:18:26.568Z"
   },
   {
    "duration": 61,
    "start_time": "2022-03-20T08:18:34.926Z"
   },
   {
    "duration": 41,
    "start_time": "2022-03-20T08:19:30.648Z"
   },
   {
    "duration": 25,
    "start_time": "2022-03-20T08:20:12.651Z"
   },
   {
    "duration": 11,
    "start_time": "2022-03-20T08:20:37.531Z"
   },
   {
    "duration": 24,
    "start_time": "2022-03-20T08:20:48.648Z"
   },
   {
    "duration": 25,
    "start_time": "2022-03-20T08:21:01.510Z"
   },
   {
    "duration": 25,
    "start_time": "2022-03-20T08:22:11.751Z"
   },
   {
    "duration": 92,
    "start_time": "2022-03-20T08:25:53.725Z"
   },
   {
    "duration": 86,
    "start_time": "2022-03-20T08:25:59.747Z"
   },
   {
    "duration": 36,
    "start_time": "2022-03-20T08:26:07.481Z"
   },
   {
    "duration": 8,
    "start_time": "2022-03-20T08:26:20.100Z"
   },
   {
    "duration": 35,
    "start_time": "2022-03-20T08:29:17.538Z"
   },
   {
    "duration": 43,
    "start_time": "2022-03-20T08:29:53.691Z"
   },
   {
    "duration": 43,
    "start_time": "2022-03-20T08:30:18.651Z"
   },
   {
    "duration": 11,
    "start_time": "2022-03-20T08:38:14.689Z"
   },
   {
    "duration": 11,
    "start_time": "2022-03-20T08:38:43.965Z"
   },
   {
    "duration": 12,
    "start_time": "2022-03-20T08:41:33.175Z"
   },
   {
    "duration": 66,
    "start_time": "2022-03-20T08:47:48.911Z"
   },
   {
    "duration": 61,
    "start_time": "2022-03-20T08:48:46.145Z"
   },
   {
    "duration": 3,
    "start_time": "2022-03-20T09:06:42.791Z"
   },
   {
    "duration": 3,
    "start_time": "2022-03-20T09:06:45.720Z"
   },
   {
    "duration": 15,
    "start_time": "2022-03-20T09:07:51.880Z"
   },
   {
    "duration": 9,
    "start_time": "2022-03-20T09:08:53.386Z"
   },
   {
    "duration": 1822,
    "start_time": "2022-03-20T09:09:40.082Z"
   },
   {
    "duration": 62,
    "start_time": "2022-03-20T09:10:52.485Z"
   },
   {
    "duration": 63,
    "start_time": "2022-03-20T09:11:27.807Z"
   },
   {
    "duration": 10,
    "start_time": "2022-03-20T09:12:01.256Z"
   },
   {
    "duration": 9,
    "start_time": "2022-03-20T11:45:18.242Z"
   },
   {
    "duration": 11,
    "start_time": "2022-03-20T11:46:08.509Z"
   },
   {
    "duration": 10,
    "start_time": "2022-03-20T11:48:05.823Z"
   },
   {
    "duration": 9,
    "start_time": "2022-03-20T11:48:27.110Z"
   },
   {
    "duration": 9,
    "start_time": "2022-03-20T11:50:03.874Z"
   },
   {
    "duration": 10,
    "start_time": "2022-03-20T11:50:36.349Z"
   },
   {
    "duration": 8,
    "start_time": "2022-03-20T11:51:20.211Z"
   },
   {
    "duration": 14,
    "start_time": "2022-03-20T11:51:30.603Z"
   },
   {
    "duration": 8,
    "start_time": "2022-03-20T11:52:41.231Z"
   },
   {
    "duration": 16,
    "start_time": "2022-03-20T11:53:16.495Z"
   },
   {
    "duration": 10,
    "start_time": "2022-03-20T11:54:22.330Z"
   },
   {
    "duration": 10,
    "start_time": "2022-03-20T11:54:31.458Z"
   },
   {
    "duration": 10,
    "start_time": "2022-03-20T11:55:32.745Z"
   },
   {
    "duration": 10,
    "start_time": "2022-03-20T11:55:40.834Z"
   },
   {
    "duration": 9,
    "start_time": "2022-03-20T11:57:09.738Z"
   },
   {
    "duration": 11,
    "start_time": "2022-03-20T11:57:12.355Z"
   },
   {
    "duration": 16,
    "start_time": "2022-03-20T12:00:33.659Z"
   },
   {
    "duration": 12,
    "start_time": "2022-03-20T12:01:17.955Z"
   },
   {
    "duration": 47,
    "start_time": "2022-03-20T12:02:08.292Z"
   },
   {
    "duration": 49,
    "start_time": "2022-03-20T12:02:46.229Z"
   },
   {
    "duration": 3,
    "start_time": "2022-03-20T12:04:58.254Z"
   },
   {
    "duration": 11,
    "start_time": "2022-03-20T12:09:10.029Z"
   },
   {
    "duration": 13,
    "start_time": "2022-03-20T12:10:12.969Z"
   },
   {
    "duration": 49,
    "start_time": "2022-03-20T12:13:00.358Z"
   },
   {
    "duration": 9,
    "start_time": "2022-03-20T12:13:55.891Z"
   },
   {
    "duration": 9,
    "start_time": "2022-03-20T12:14:06.671Z"
   },
   {
    "duration": 9,
    "start_time": "2022-03-20T12:14:26.680Z"
   },
   {
    "duration": 9,
    "start_time": "2022-03-20T12:16:16.469Z"
   },
   {
    "duration": 13,
    "start_time": "2022-03-20T12:16:29.491Z"
   },
   {
    "duration": 10,
    "start_time": "2022-03-20T12:21:14.767Z"
   },
   {
    "duration": 10,
    "start_time": "2022-03-20T12:21:25.885Z"
   },
   {
    "duration": 10,
    "start_time": "2022-03-20T12:21:42.395Z"
   },
   {
    "duration": 61,
    "start_time": "2022-03-20T12:22:08.404Z"
   },
   {
    "duration": 48,
    "start_time": "2022-03-20T12:23:01.271Z"
   },
   {
    "duration": 11,
    "start_time": "2022-03-20T12:23:21.527Z"
   },
   {
    "duration": 10,
    "start_time": "2022-03-20T12:23:45.024Z"
   },
   {
    "duration": 13,
    "start_time": "2022-03-20T12:34:05.879Z"
   },
   {
    "duration": 8,
    "start_time": "2022-03-20T12:34:45.199Z"
   },
   {
    "duration": 16,
    "start_time": "2022-03-20T12:35:14.411Z"
   },
   {
    "duration": 48,
    "start_time": "2022-03-20T12:36:14.467Z"
   },
   {
    "duration": 7,
    "start_time": "2022-03-20T12:45:30.143Z"
   },
   {
    "duration": 46,
    "start_time": "2022-03-20T12:45:55.370Z"
   },
   {
    "duration": 7,
    "start_time": "2022-03-20T12:50:14.674Z"
   },
   {
    "duration": 48,
    "start_time": "2022-03-20T12:50:22.411Z"
   },
   {
    "duration": 7,
    "start_time": "2022-03-20T12:55:54.484Z"
   },
   {
    "duration": 46,
    "start_time": "2022-03-20T12:56:00.924Z"
   },
   {
    "duration": 8,
    "start_time": "2022-03-20T12:56:30.859Z"
   },
   {
    "duration": 10,
    "start_time": "2022-03-20T12:56:33.236Z"
   },
   {
    "duration": 48,
    "start_time": "2022-03-20T12:56:44.640Z"
   },
   {
    "duration": 8,
    "start_time": "2022-03-20T12:59:20.362Z"
   },
   {
    "duration": 59,
    "start_time": "2022-03-20T12:59:25.807Z"
   },
   {
    "duration": 7,
    "start_time": "2022-03-20T13:00:31.337Z"
   },
   {
    "duration": 47,
    "start_time": "2022-03-20T13:00:36.613Z"
   },
   {
    "duration": 7,
    "start_time": "2022-03-20T13:03:45.959Z"
   },
   {
    "duration": 48,
    "start_time": "2022-03-20T13:03:57.529Z"
   },
   {
    "duration": 11,
    "start_time": "2022-03-20T13:04:58.602Z"
   },
   {
    "duration": 9,
    "start_time": "2022-03-20T13:05:02.241Z"
   },
   {
    "duration": 7,
    "start_time": "2022-03-20T13:05:06.081Z"
   },
   {
    "duration": 9,
    "start_time": "2022-03-20T13:05:06.752Z"
   },
   {
    "duration": 46,
    "start_time": "2022-03-20T13:05:13.254Z"
   },
   {
    "duration": 6,
    "start_time": "2022-03-20T13:10:20.257Z"
   },
   {
    "duration": 10,
    "start_time": "2022-03-20T13:10:38.401Z"
   },
   {
    "duration": 16,
    "start_time": "2022-03-20T13:10:40.162Z"
   },
   {
    "duration": 51,
    "start_time": "2022-03-20T13:10:55.012Z"
   },
   {
    "duration": 10,
    "start_time": "2022-03-20T13:11:29.719Z"
   },
   {
    "duration": 11,
    "start_time": "2022-03-20T13:11:57.027Z"
   },
   {
    "duration": 6,
    "start_time": "2022-03-20T13:12:50.350Z"
   },
   {
    "duration": 11,
    "start_time": "2022-03-20T13:12:53.909Z"
   },
   {
    "duration": 9,
    "start_time": "2022-03-20T13:14:04.958Z"
   },
   {
    "duration": 9,
    "start_time": "2022-03-20T13:14:28.858Z"
   },
   {
    "duration": 10,
    "start_time": "2022-03-20T13:14:51.787Z"
   },
   {
    "duration": 10,
    "start_time": "2022-03-20T13:15:07.600Z"
   },
   {
    "duration": 9,
    "start_time": "2022-03-20T13:16:42.084Z"
   },
   {
    "duration": 6,
    "start_time": "2022-03-20T13:18:30.911Z"
   },
   {
    "duration": 12,
    "start_time": "2022-03-20T13:18:32.143Z"
   },
   {
    "duration": 7,
    "start_time": "2022-03-20T13:38:18.582Z"
   },
   {
    "duration": 48,
    "start_time": "2022-03-20T13:38:24.165Z"
   },
   {
    "duration": 8,
    "start_time": "2022-03-20T13:43:56.542Z"
   },
   {
    "duration": 49,
    "start_time": "2022-03-20T13:43:59.425Z"
   },
   {
    "duration": 11,
    "start_time": "2022-03-20T13:48:02.493Z"
   },
   {
    "duration": 13,
    "start_time": "2022-03-20T13:49:01.872Z"
   },
   {
    "duration": 45,
    "start_time": "2022-03-20T13:50:05.775Z"
   },
   {
    "duration": 57,
    "start_time": "2022-03-20T13:50:46.380Z"
   },
   {
    "duration": 16,
    "start_time": "2022-03-20T13:59:35.416Z"
   },
   {
    "duration": 188,
    "start_time": "2022-03-20T14:00:14.588Z"
   },
   {
    "duration": 36,
    "start_time": "2022-03-20T14:00:26.690Z"
   },
   {
    "duration": 8,
    "start_time": "2022-03-20T14:00:50.349Z"
   },
   {
    "duration": 8,
    "start_time": "2022-03-20T14:01:04.577Z"
   },
   {
    "duration": 14,
    "start_time": "2022-03-20T14:05:25.488Z"
   },
   {
    "duration": 41,
    "start_time": "2022-03-20T14:07:07.139Z"
   },
   {
    "duration": 16,
    "start_time": "2022-03-20T14:10:52.019Z"
   },
   {
    "duration": 52,
    "start_time": "2022-03-20T14:11:18.794Z"
   },
   {
    "duration": 11,
    "start_time": "2022-03-20T14:13:53.854Z"
   },
   {
    "duration": 15,
    "start_time": "2022-03-20T14:14:35.719Z"
   },
   {
    "duration": 9,
    "start_time": "2022-03-20T14:15:17.453Z"
   },
   {
    "duration": 9,
    "start_time": "2022-03-20T14:15:41.242Z"
   },
   {
    "duration": 12,
    "start_time": "2022-03-20T14:15:52.474Z"
   },
   {
    "duration": 8,
    "start_time": "2022-03-20T14:20:07.327Z"
   },
   {
    "duration": 72,
    "start_time": "2022-03-20T14:20:12.697Z"
   },
   {
    "duration": 9,
    "start_time": "2022-03-20T14:23:11.231Z"
   },
   {
    "duration": 10,
    "start_time": "2022-03-20T14:23:36.907Z"
   },
   {
    "duration": 7,
    "start_time": "2022-03-20T14:26:57.786Z"
   },
   {
    "duration": 8,
    "start_time": "2022-03-20T14:27:03.061Z"
   },
   {
    "duration": 11,
    "start_time": "2022-03-20T14:27:49.636Z"
   },
   {
    "duration": 9,
    "start_time": "2022-03-20T14:27:57.574Z"
   },
   {
    "duration": 10,
    "start_time": "2022-03-20T14:27:58.887Z"
   },
   {
    "duration": 8,
    "start_time": "2022-03-20T14:27:59.999Z"
   },
   {
    "duration": 46,
    "start_time": "2022-03-20T14:28:09.356Z"
   },
   {
    "duration": 6,
    "start_time": "2022-03-20T14:28:33.597Z"
   },
   {
    "duration": 3,
    "start_time": "2022-03-20T14:30:56.779Z"
   },
   {
    "duration": 124,
    "start_time": "2022-03-20T14:30:59.258Z"
   },
   {
    "duration": 20,
    "start_time": "2022-03-20T14:31:04.115Z"
   },
   {
    "duration": 11,
    "start_time": "2022-03-20T14:31:17.549Z"
   },
   {
    "duration": 38,
    "start_time": "2022-03-20T14:34:18.535Z"
   },
   {
    "duration": 12,
    "start_time": "2022-03-20T14:40:50.783Z"
   },
   {
    "duration": 11,
    "start_time": "2022-03-20T14:42:47.371Z"
   },
   {
    "duration": 7,
    "start_time": "2022-03-20T14:42:51.364Z"
   },
   {
    "duration": 11,
    "start_time": "2022-03-20T14:42:52.436Z"
   },
   {
    "duration": 14,
    "start_time": "2022-03-20T14:43:47.965Z"
   },
   {
    "duration": 7,
    "start_time": "2022-03-20T14:44:05.086Z"
   },
   {
    "duration": 13,
    "start_time": "2022-03-20T14:44:05.966Z"
   },
   {
    "duration": 11,
    "start_time": "2022-03-20T14:45:00.431Z"
   },
   {
    "duration": 16,
    "start_time": "2022-03-20T14:45:09.273Z"
   },
   {
    "duration": 7,
    "start_time": "2022-03-20T14:45:11.016Z"
   },
   {
    "duration": 9,
    "start_time": "2022-03-20T14:45:12.443Z"
   },
   {
    "duration": 10,
    "start_time": "2022-03-20T14:45:16.919Z"
   },
   {
    "duration": 10,
    "start_time": "2022-03-20T14:45:17.703Z"
   },
   {
    "duration": 10,
    "start_time": "2022-03-20T14:45:18.389Z"
   },
   {
    "duration": 11,
    "start_time": "2022-03-20T14:46:41.083Z"
   },
   {
    "duration": 9,
    "start_time": "2022-03-20T14:46:42.027Z"
   },
   {
    "duration": 11,
    "start_time": "2022-03-20T14:46:42.810Z"
   },
   {
    "duration": 10,
    "start_time": "2022-03-20T14:47:37.163Z"
   },
   {
    "duration": 10,
    "start_time": "2022-03-20T14:47:38.444Z"
   },
   {
    "duration": 13,
    "start_time": "2022-03-20T14:47:39.204Z"
   },
   {
    "duration": 12,
    "start_time": "2022-03-20T14:48:27.213Z"
   },
   {
    "duration": 8,
    "start_time": "2022-03-20T14:48:28.144Z"
   },
   {
    "duration": 10,
    "start_time": "2022-03-20T14:48:28.885Z"
   },
   {
    "duration": 12,
    "start_time": "2022-03-20T14:48:51.495Z"
   },
   {
    "duration": 10,
    "start_time": "2022-03-20T14:48:53.853Z"
   },
   {
    "duration": 10,
    "start_time": "2022-03-20T14:49:03.408Z"
   },
   {
    "duration": 87,
    "start_time": "2022-03-20T14:49:20.457Z"
   },
   {
    "duration": 7,
    "start_time": "2022-03-20T14:52:15.325Z"
   },
   {
    "duration": 60,
    "start_time": "2022-03-20T14:52:21.283Z"
   },
   {
    "duration": 12,
    "start_time": "2022-03-20T14:53:06.787Z"
   },
   {
    "duration": 9,
    "start_time": "2022-03-20T14:53:39.030Z"
   },
   {
    "duration": 7,
    "start_time": "2022-03-20T14:58:15.204Z"
   },
   {
    "duration": 43,
    "start_time": "2022-03-20T14:58:23.877Z"
   },
   {
    "duration": 10,
    "start_time": "2022-03-20T14:59:20.741Z"
   },
   {
    "duration": 9,
    "start_time": "2022-03-20T14:59:28.286Z"
   },
   {
    "duration": 4,
    "start_time": "2022-03-20T14:59:46.439Z"
   },
   {
    "duration": 106,
    "start_time": "2022-03-20T14:59:48.479Z"
   },
   {
    "duration": 21,
    "start_time": "2022-03-20T14:59:50.523Z"
   },
   {
    "duration": 10,
    "start_time": "2022-03-20T15:00:01.199Z"
   },
   {
    "duration": 7,
    "start_time": "2022-03-20T15:00:04.167Z"
   },
   {
    "duration": 18,
    "start_time": "2022-03-20T15:00:41.673Z"
   },
   {
    "duration": 10,
    "start_time": "2022-03-20T15:00:47.049Z"
   },
   {
    "duration": 13,
    "start_time": "2022-03-20T15:00:47.817Z"
   },
   {
    "duration": 13,
    "start_time": "2022-03-20T15:01:33.800Z"
   },
   {
    "duration": 8,
    "start_time": "2022-03-20T15:01:34.641Z"
   },
   {
    "duration": 11,
    "start_time": "2022-03-20T15:01:35.396Z"
   },
   {
    "duration": 15,
    "start_time": "2022-03-20T15:03:04.515Z"
   },
   {
    "duration": 8,
    "start_time": "2022-03-20T15:03:05.402Z"
   },
   {
    "duration": 11,
    "start_time": "2022-03-20T15:03:06.090Z"
   },
   {
    "duration": 564,
    "start_time": "2022-03-20T15:08:09.372Z"
   },
   {
    "duration": 176,
    "start_time": "2022-03-20T15:08:09.940Z"
   },
   {
    "duration": 28,
    "start_time": "2022-03-20T15:08:10.119Z"
   },
   {
    "duration": 3,
    "start_time": "2022-03-20T15:08:10.173Z"
   },
   {
    "duration": 28,
    "start_time": "2022-03-20T15:08:10.179Z"
   },
   {
    "duration": 14,
    "start_time": "2022-03-20T15:08:10.210Z"
   },
   {
    "duration": 51,
    "start_time": "2022-03-20T15:08:10.226Z"
   },
   {
    "duration": 44,
    "start_time": "2022-03-20T15:08:10.279Z"
   },
   {
    "duration": 11,
    "start_time": "2022-03-20T15:08:10.326Z"
   },
   {
    "duration": 15,
    "start_time": "2022-03-20T15:08:10.376Z"
   },
   {
    "duration": 7,
    "start_time": "2022-03-20T15:08:10.399Z"
   },
   {
    "duration": 10,
    "start_time": "2022-03-20T15:08:10.409Z"
   },
   {
    "duration": 56,
    "start_time": "2022-03-20T15:08:10.422Z"
   },
   {
    "duration": 6,
    "start_time": "2022-03-20T15:08:10.481Z"
   },
   {
    "duration": 9,
    "start_time": "2022-03-20T15:08:10.489Z"
   },
   {
    "duration": 6,
    "start_time": "2022-03-20T15:08:10.501Z"
   },
   {
    "duration": 64,
    "start_time": "2022-03-20T15:08:10.510Z"
   },
   {
    "duration": 8,
    "start_time": "2022-03-20T15:08:10.577Z"
   },
   {
    "duration": 13,
    "start_time": "2022-03-20T15:08:10.587Z"
   },
   {
    "duration": 21,
    "start_time": "2022-03-20T15:08:10.604Z"
   },
   {
    "duration": 48,
    "start_time": "2022-03-20T15:08:10.627Z"
   },
   {
    "duration": 14,
    "start_time": "2022-03-20T15:08:10.678Z"
   },
   {
    "duration": 7,
    "start_time": "2022-03-20T15:08:10.696Z"
   },
   {
    "duration": 20,
    "start_time": "2022-03-20T15:08:10.707Z"
   },
   {
    "duration": 55,
    "start_time": "2022-03-20T15:08:10.731Z"
   },
   {
    "duration": 18,
    "start_time": "2022-03-20T15:08:10.788Z"
   },
   {
    "duration": 6,
    "start_time": "2022-03-20T15:08:10.810Z"
   },
   {
    "duration": 9,
    "start_time": "2022-03-20T15:08:10.825Z"
   },
   {
    "duration": 50,
    "start_time": "2022-03-20T15:08:10.836Z"
   },
   {
    "duration": 8,
    "start_time": "2022-03-20T15:08:10.891Z"
   },
   {
    "duration": 20,
    "start_time": "2022-03-20T15:08:10.903Z"
   },
   {
    "duration": 12,
    "start_time": "2022-03-20T15:08:10.927Z"
   },
   {
    "duration": 10,
    "start_time": "2022-03-20T15:08:10.974Z"
   },
   {
    "duration": 8,
    "start_time": "2022-03-20T15:08:10.987Z"
   },
   {
    "duration": 11,
    "start_time": "2022-03-20T15:08:10.998Z"
   },
   {
    "duration": 68,
    "start_time": "2022-03-20T15:08:11.013Z"
   },
   {
    "duration": 59,
    "start_time": "2022-03-20T15:08:11.084Z"
   },
   {
    "duration": 39,
    "start_time": "2022-03-20T15:08:11.146Z"
   },
   {
    "duration": 14,
    "start_time": "2022-03-20T15:08:11.189Z"
   },
   {
    "duration": 20,
    "start_time": "2022-03-20T15:08:11.206Z"
   },
   {
    "duration": 47,
    "start_time": "2022-03-20T15:08:11.229Z"
   },
   {
    "duration": 16,
    "start_time": "2022-03-20T15:08:11.278Z"
   },
   {
    "duration": 11,
    "start_time": "2022-03-20T15:08:11.297Z"
   },
   {
    "duration": 28,
    "start_time": "2022-03-20T15:08:11.311Z"
   },
   {
    "duration": 39,
    "start_time": "2022-03-20T15:08:11.343Z"
   },
   {
    "duration": 14,
    "start_time": "2022-03-20T15:08:11.386Z"
   },
   {
    "duration": 14,
    "start_time": "2022-03-20T15:08:11.404Z"
   },
   {
    "duration": 55,
    "start_time": "2022-03-20T15:08:11.421Z"
   },
   {
    "duration": 43,
    "start_time": "2022-03-20T15:08:11.479Z"
   },
   {
    "duration": 33,
    "start_time": "2022-03-20T15:08:11.525Z"
   },
   {
    "duration": 24,
    "start_time": "2022-03-20T15:08:11.560Z"
   },
   {
    "duration": 37,
    "start_time": "2022-03-20T15:08:11.588Z"
   },
   {
    "duration": 26,
    "start_time": "2022-03-20T15:08:11.628Z"
   },
   {
    "duration": 23,
    "start_time": "2022-03-20T15:08:11.657Z"
   },
   {
    "duration": 30,
    "start_time": "2022-03-20T15:08:11.683Z"
   },
   {
    "duration": 32,
    "start_time": "2022-03-20T15:08:11.717Z"
   },
   {
    "duration": 27,
    "start_time": "2022-03-20T15:08:11.752Z"
   },
   {
    "duration": 28,
    "start_time": "2022-03-20T15:08:11.781Z"
   },
   {
    "duration": 48,
    "start_time": "2022-03-20T15:21:48.153Z"
   },
   {
    "duration": 8,
    "start_time": "2022-03-20T15:38:22.052Z"
   },
   {
    "duration": 7,
    "start_time": "2022-03-20T15:38:26.605Z"
   },
   {
    "duration": 17,
    "start_time": "2022-03-20T15:38:47.204Z"
   },
   {
    "duration": 23,
    "start_time": "2022-03-20T15:41:44.785Z"
   },
   {
    "duration": 81,
    "start_time": "2022-03-20T15:50:42.145Z"
   },
   {
    "duration": 7,
    "start_time": "2022-03-20T15:50:59.634Z"
   },
   {
    "duration": 22,
    "start_time": "2022-03-20T15:51:22.424Z"
   },
   {
    "duration": 14,
    "start_time": "2022-03-20T15:58:54.812Z"
   },
   {
    "duration": 20,
    "start_time": "2022-03-20T15:58:56.292Z"
   },
   {
    "duration": 6,
    "start_time": "2022-03-20T15:59:45.907Z"
   },
   {
    "duration": 22,
    "start_time": "2022-03-20T15:59:47.055Z"
   },
   {
    "duration": 88,
    "start_time": "2022-03-20T16:02:10.874Z"
   },
   {
    "duration": 8,
    "start_time": "2022-03-20T16:02:33.569Z"
   },
   {
    "duration": 7,
    "start_time": "2022-03-20T16:05:16.409Z"
   },
   {
    "duration": 19,
    "start_time": "2022-03-20T16:05:20.433Z"
   },
   {
    "duration": 20,
    "start_time": "2022-03-20T16:05:21.266Z"
   },
   {
    "duration": 8,
    "start_time": "2022-03-20T16:05:22.212Z"
   },
   {
    "duration": 52,
    "start_time": "2022-03-20T16:08:13.058Z"
   },
   {
    "duration": 7,
    "start_time": "2022-03-20T16:08:59.557Z"
   },
   {
    "duration": 18,
    "start_time": "2022-03-20T16:09:00.284Z"
   },
   {
    "duration": 20,
    "start_time": "2022-03-20T16:09:01.052Z"
   },
   {
    "duration": 9,
    "start_time": "2022-03-20T16:09:03.961Z"
   },
   {
    "duration": 7,
    "start_time": "2022-03-20T16:09:39.196Z"
   },
   {
    "duration": 8,
    "start_time": "2022-03-20T16:10:08.261Z"
   },
   {
    "duration": 8,
    "start_time": "2022-03-20T16:12:54.010Z"
   },
   {
    "duration": 3,
    "start_time": "2022-03-20T16:15:09.646Z"
   },
   {
    "duration": 10,
    "start_time": "2022-03-20T16:15:49.191Z"
   },
   {
    "duration": 3,
    "start_time": "2022-03-20T16:16:16.961Z"
   },
   {
    "duration": 42,
    "start_time": "2022-03-20T16:17:25.667Z"
   },
   {
    "duration": 3,
    "start_time": "2022-03-20T16:18:00.963Z"
   },
   {
    "duration": 104,
    "start_time": "2022-03-20T16:18:01.761Z"
   },
   {
    "duration": 22,
    "start_time": "2022-03-20T16:18:02.507Z"
   },
   {
    "duration": 68,
    "start_time": "2022-03-20T16:18:06.171Z"
   },
   {
    "duration": 14,
    "start_time": "2022-03-20T16:22:29.930Z"
   },
   {
    "duration": 37,
    "start_time": "2022-03-20T16:22:49.931Z"
   },
   {
    "duration": 16,
    "start_time": "2022-03-20T16:26:27.405Z"
   },
   {
    "duration": 36,
    "start_time": "2022-03-20T16:26:29.152Z"
   },
   {
    "duration": 8,
    "start_time": "2022-03-20T16:28:04.401Z"
   },
   {
    "duration": 12,
    "start_time": "2022-03-20T16:28:18.803Z"
   },
   {
    "duration": 35,
    "start_time": "2022-03-20T16:28:27.102Z"
   },
   {
    "duration": 16,
    "start_time": "2022-03-20T16:29:15.351Z"
   },
   {
    "duration": 23,
    "start_time": "2022-03-20T16:29:17.958Z"
   },
   {
    "duration": 8,
    "start_time": "2022-03-20T16:30:06.141Z"
   },
   {
    "duration": 25,
    "start_time": "2022-03-20T16:30:07.031Z"
   },
   {
    "duration": 20,
    "start_time": "2022-03-20T16:30:11.780Z"
   },
   {
    "duration": 34,
    "start_time": "2022-03-20T16:30:13.002Z"
   },
   {
    "duration": 23,
    "start_time": "2022-03-20T16:30:22.313Z"
   },
   {
    "duration": 23,
    "start_time": "2022-03-20T16:32:30.018Z"
   },
   {
    "duration": 11,
    "start_time": "2022-03-20T16:34:06.332Z"
   },
   {
    "duration": 8,
    "start_time": "2022-03-20T16:34:17.171Z"
   },
   {
    "duration": 18,
    "start_time": "2022-03-20T16:34:19.092Z"
   },
   {
    "duration": 25,
    "start_time": "2022-03-20T16:34:21.476Z"
   },
   {
    "duration": 18,
    "start_time": "2022-03-20T16:34:28.788Z"
   },
   {
    "duration": 23,
    "start_time": "2022-03-20T16:34:36.885Z"
   },
   {
    "duration": 7,
    "start_time": "2022-03-20T16:46:25.391Z"
   },
   {
    "duration": 25,
    "start_time": "2022-03-20T16:46:51.847Z"
   },
   {
    "duration": 106,
    "start_time": "2022-03-20T17:00:30.902Z"
   },
   {
    "duration": 8,
    "start_time": "2022-03-20T17:01:07.240Z"
   },
   {
    "duration": 18,
    "start_time": "2022-03-20T17:01:11.478Z"
   },
   {
    "duration": 23,
    "start_time": "2022-03-20T17:01:35.552Z"
   },
   {
    "duration": 17,
    "start_time": "2022-03-20T17:01:38.135Z"
   },
   {
    "duration": 33,
    "start_time": "2022-03-20T17:01:40.391Z"
   },
   {
    "duration": 7,
    "start_time": "2022-03-20T17:01:43.558Z"
   },
   {
    "duration": 6,
    "start_time": "2022-03-20T17:02:13.736Z"
   },
   {
    "duration": 38,
    "start_time": "2022-03-20T17:02:15.512Z"
   },
   {
    "duration": 572,
    "start_time": "2022-03-20T17:25:18.586Z"
   },
   {
    "duration": 129,
    "start_time": "2022-03-20T17:25:19.161Z"
   },
   {
    "duration": 22,
    "start_time": "2022-03-20T17:25:19.293Z"
   },
   {
    "duration": 70,
    "start_time": "2022-03-20T17:25:19.317Z"
   },
   {
    "duration": 13,
    "start_time": "2022-03-20T17:25:19.392Z"
   },
   {
    "duration": 35,
    "start_time": "2022-03-20T17:25:19.407Z"
   },
   {
    "duration": 39,
    "start_time": "2022-03-20T17:25:19.444Z"
   },
   {
    "duration": 61,
    "start_time": "2022-03-20T17:25:19.486Z"
   },
   {
    "duration": 12,
    "start_time": "2022-03-20T17:25:19.550Z"
   },
   {
    "duration": 39,
    "start_time": "2022-03-20T17:25:19.564Z"
   },
   {
    "duration": 22,
    "start_time": "2022-03-20T17:25:19.605Z"
   },
   {
    "duration": 20,
    "start_time": "2022-03-20T17:25:19.630Z"
   },
   {
    "duration": 43,
    "start_time": "2022-03-20T17:25:19.653Z"
   },
   {
    "duration": 15,
    "start_time": "2022-03-20T17:25:19.700Z"
   },
   {
    "duration": 19,
    "start_time": "2022-03-20T17:25:19.717Z"
   },
   {
    "duration": 31,
    "start_time": "2022-03-20T17:25:19.738Z"
   },
   {
    "duration": 38,
    "start_time": "2022-03-20T17:25:19.771Z"
   },
   {
    "duration": 30,
    "start_time": "2022-03-20T17:25:19.811Z"
   },
   {
    "duration": 25,
    "start_time": "2022-03-20T17:25:19.843Z"
   },
   {
    "duration": 32,
    "start_time": "2022-03-20T17:25:19.870Z"
   },
   {
    "duration": 23,
    "start_time": "2022-03-20T17:25:19.904Z"
   },
   {
    "duration": 23,
    "start_time": "2022-03-20T17:25:19.930Z"
   },
   {
    "duration": 10,
    "start_time": "2022-03-20T17:25:19.955Z"
   },
   {
    "duration": 31,
    "start_time": "2022-03-20T17:25:19.967Z"
   },
   {
    "duration": 22,
    "start_time": "2022-03-20T17:25:20.000Z"
   },
   {
    "duration": 18,
    "start_time": "2022-03-20T17:25:20.024Z"
   },
   {
    "duration": 17,
    "start_time": "2022-03-20T17:25:20.044Z"
   },
   {
    "duration": 36,
    "start_time": "2022-03-20T17:25:20.063Z"
   },
   {
    "duration": 31,
    "start_time": "2022-03-20T17:25:20.101Z"
   },
   {
    "duration": 22,
    "start_time": "2022-03-20T17:25:20.134Z"
   },
   {
    "duration": 26,
    "start_time": "2022-03-20T17:25:20.158Z"
   },
   {
    "duration": 13,
    "start_time": "2022-03-20T17:25:20.186Z"
   },
   {
    "duration": 22,
    "start_time": "2022-03-20T17:25:20.202Z"
   },
   {
    "duration": 13,
    "start_time": "2022-03-20T17:25:20.227Z"
   },
   {
    "duration": 19,
    "start_time": "2022-03-20T17:25:20.242Z"
   },
   {
    "duration": 31,
    "start_time": "2022-03-20T17:25:20.263Z"
   },
   {
    "duration": 50,
    "start_time": "2022-03-20T17:25:20.296Z"
   },
   {
    "duration": 10,
    "start_time": "2022-03-20T17:25:20.349Z"
   },
   {
    "duration": 30,
    "start_time": "2022-03-20T17:25:20.361Z"
   },
   {
    "duration": 22,
    "start_time": "2022-03-20T17:25:20.393Z"
   },
   {
    "duration": 23,
    "start_time": "2022-03-20T17:25:20.421Z"
   },
   {
    "duration": 25,
    "start_time": "2022-03-20T17:25:20.446Z"
   },
   {
    "duration": 34,
    "start_time": "2022-03-20T17:25:20.473Z"
   },
   {
    "duration": 21,
    "start_time": "2022-03-20T17:25:20.509Z"
   },
   {
    "duration": 13,
    "start_time": "2022-03-20T17:25:20.532Z"
   },
   {
    "duration": 21,
    "start_time": "2022-03-20T17:25:20.547Z"
   },
   {
    "duration": 21,
    "start_time": "2022-03-20T17:25:20.571Z"
   },
   {
    "duration": 24,
    "start_time": "2022-03-20T17:25:20.594Z"
   },
   {
    "duration": 22,
    "start_time": "2022-03-20T17:25:20.620Z"
   },
   {
    "duration": 60,
    "start_time": "2022-03-20T17:25:20.645Z"
   },
   {
    "duration": 31,
    "start_time": "2022-03-20T17:25:20.707Z"
   },
   {
    "duration": 40,
    "start_time": "2022-03-20T17:25:20.741Z"
   },
   {
    "duration": 27,
    "start_time": "2022-03-20T17:25:20.782Z"
   },
   {
    "duration": 21,
    "start_time": "2022-03-20T17:25:20.812Z"
   },
   {
    "duration": 13,
    "start_time": "2022-03-20T17:25:20.835Z"
   },
   {
    "duration": 26,
    "start_time": "2022-03-20T17:25:20.850Z"
   },
   {
    "duration": 36,
    "start_time": "2022-03-20T17:25:20.878Z"
   },
   {
    "duration": 33,
    "start_time": "2022-03-20T17:25:20.917Z"
   },
   {
    "duration": 44,
    "start_time": "2022-03-20T17:25:20.952Z"
   },
   {
    "duration": 6,
    "start_time": "2022-03-20T17:25:20.999Z"
   },
   {
    "duration": 33,
    "start_time": "2022-03-20T17:25:21.008Z"
   },
   {
    "duration": 40,
    "start_time": "2022-03-20T17:25:21.043Z"
   },
   {
    "duration": 44,
    "start_time": "2022-03-20T17:25:21.087Z"
   },
   {
    "duration": 47,
    "start_time": "2022-03-20T17:25:21.133Z"
   },
   {
    "duration": 28,
    "start_time": "2022-03-20T17:25:21.184Z"
   },
   {
    "duration": 51,
    "start_time": "2022-03-20T17:25:21.214Z"
   },
   {
    "duration": 89,
    "start_time": "2022-03-20T17:25:21.267Z"
   },
   {
    "duration": 4,
    "start_time": "2022-03-20T17:33:14.078Z"
   },
   {
    "duration": 7,
    "start_time": "2022-03-20T18:15:11.316Z"
   },
   {
    "duration": 6,
    "start_time": "2022-03-20T18:16:01.339Z"
   },
   {
    "duration": 8,
    "start_time": "2022-03-20T18:16:33.708Z"
   },
   {
    "duration": 7,
    "start_time": "2022-03-20T18:19:45.913Z"
   },
   {
    "duration": 7,
    "start_time": "2022-03-20T18:23:16.506Z"
   },
   {
    "duration": 7,
    "start_time": "2022-03-20T18:23:57.350Z"
   },
   {
    "duration": 9,
    "start_time": "2022-03-20T18:24:07.975Z"
   },
   {
    "duration": 8,
    "start_time": "2022-03-20T18:24:48.994Z"
   },
   {
    "duration": 10,
    "start_time": "2022-03-20T18:25:17.323Z"
   },
   {
    "duration": 11,
    "start_time": "2022-03-20T18:25:50.471Z"
   },
   {
    "duration": 11,
    "start_time": "2022-03-20T18:26:27.812Z"
   },
   {
    "duration": 7,
    "start_time": "2022-03-20T18:26:47.188Z"
   },
   {
    "duration": 7,
    "start_time": "2022-03-20T18:27:03.508Z"
   },
   {
    "duration": 7,
    "start_time": "2022-03-20T18:33:32.351Z"
   },
   {
    "duration": 627,
    "start_time": "2022-03-20T18:35:51.810Z"
   },
   {
    "duration": 23,
    "start_time": "2022-03-20T18:36:06.834Z"
   },
   {
    "duration": 8,
    "start_time": "2022-03-20T18:41:59.644Z"
   },
   {
    "duration": 8,
    "start_time": "2022-03-20T18:42:38.483Z"
   },
   {
    "duration": 34,
    "start_time": "2022-03-20T18:50:34.025Z"
   },
   {
    "duration": 25,
    "start_time": "2022-03-20T18:51:07.402Z"
   },
   {
    "duration": 27,
    "start_time": "2022-03-20T18:52:01.819Z"
   },
   {
    "duration": 162,
    "start_time": "2022-03-20T18:52:35.177Z"
   },
   {
    "duration": 26,
    "start_time": "2022-03-20T18:52:51.342Z"
   },
   {
    "duration": 437,
    "start_time": "2022-03-21T11:33:18.573Z"
   },
   {
    "duration": 85,
    "start_time": "2022-03-21T11:33:19.012Z"
   },
   {
    "duration": 21,
    "start_time": "2022-03-21T11:33:19.098Z"
   },
   {
    "duration": 33,
    "start_time": "2022-03-21T11:33:19.122Z"
   },
   {
    "duration": 9,
    "start_time": "2022-03-21T11:33:19.157Z"
   },
   {
    "duration": 15,
    "start_time": "2022-03-21T11:33:19.167Z"
   },
   {
    "duration": 30,
    "start_time": "2022-03-21T11:33:19.184Z"
   },
   {
    "duration": 25,
    "start_time": "2022-03-21T11:33:19.215Z"
   },
   {
    "duration": 8,
    "start_time": "2022-03-21T11:33:19.241Z"
   },
   {
    "duration": 7,
    "start_time": "2022-03-21T11:33:19.252Z"
   },
   {
    "duration": 4,
    "start_time": "2022-03-21T11:33:19.260Z"
   },
   {
    "duration": 8,
    "start_time": "2022-03-21T11:33:19.265Z"
   },
   {
    "duration": 43,
    "start_time": "2022-03-21T11:33:19.275Z"
   },
   {
    "duration": 4,
    "start_time": "2022-03-21T11:33:19.320Z"
   },
   {
    "duration": 14,
    "start_time": "2022-03-21T11:33:19.325Z"
   },
   {
    "duration": 7,
    "start_time": "2022-03-21T11:33:19.340Z"
   },
   {
    "duration": 4,
    "start_time": "2022-03-21T11:33:19.348Z"
   },
   {
    "duration": 6,
    "start_time": "2022-03-21T11:33:19.354Z"
   },
   {
    "duration": 5,
    "start_time": "2022-03-21T11:33:19.361Z"
   },
   {
    "duration": 6,
    "start_time": "2022-03-21T11:33:19.368Z"
   },
   {
    "duration": 11,
    "start_time": "2022-03-21T11:33:19.375Z"
   },
   {
    "duration": 23,
    "start_time": "2022-03-21T11:33:19.387Z"
   },
   {
    "duration": 3,
    "start_time": "2022-03-21T11:33:19.412Z"
   },
   {
    "duration": 7,
    "start_time": "2022-03-21T11:33:19.417Z"
   },
   {
    "duration": 7,
    "start_time": "2022-03-21T11:33:19.426Z"
   },
   {
    "duration": 8,
    "start_time": "2022-03-21T11:33:19.435Z"
   },
   {
    "duration": 3,
    "start_time": "2022-03-21T11:33:19.444Z"
   },
   {
    "duration": 5,
    "start_time": "2022-03-21T11:33:19.451Z"
   },
   {
    "duration": 7,
    "start_time": "2022-03-21T11:33:19.457Z"
   },
   {
    "duration": 44,
    "start_time": "2022-03-21T11:33:19.465Z"
   },
   {
    "duration": 5,
    "start_time": "2022-03-21T11:33:19.511Z"
   },
   {
    "duration": 10,
    "start_time": "2022-03-21T11:33:19.518Z"
   },
   {
    "duration": 4,
    "start_time": "2022-03-21T11:33:19.529Z"
   },
   {
    "duration": 5,
    "start_time": "2022-03-21T11:33:19.535Z"
   },
   {
    "duration": 6,
    "start_time": "2022-03-21T11:33:19.541Z"
   },
   {
    "duration": 13,
    "start_time": "2022-03-21T11:33:19.548Z"
   },
   {
    "duration": 49,
    "start_time": "2022-03-21T11:33:19.562Z"
   },
   {
    "duration": 8,
    "start_time": "2022-03-21T11:33:19.613Z"
   },
   {
    "duration": 7,
    "start_time": "2022-03-21T11:33:19.622Z"
   },
   {
    "duration": 8,
    "start_time": "2022-03-21T11:33:19.631Z"
   },
   {
    "duration": 5,
    "start_time": "2022-03-21T11:33:19.641Z"
   },
   {
    "duration": 8,
    "start_time": "2022-03-21T11:33:19.648Z"
   },
   {
    "duration": 5,
    "start_time": "2022-03-21T11:33:19.657Z"
   },
   {
    "duration": 49,
    "start_time": "2022-03-21T11:33:19.663Z"
   },
   {
    "duration": 5,
    "start_time": "2022-03-21T11:33:19.714Z"
   },
   {
    "duration": 8,
    "start_time": "2022-03-21T11:33:19.721Z"
   },
   {
    "duration": 6,
    "start_time": "2022-03-21T11:33:19.730Z"
   },
   {
    "duration": 7,
    "start_time": "2022-03-21T11:33:19.737Z"
   },
   {
    "duration": 4,
    "start_time": "2022-03-21T11:33:19.746Z"
   },
   {
    "duration": 8,
    "start_time": "2022-03-21T11:33:19.752Z"
   },
   {
    "duration": 6,
    "start_time": "2022-03-21T11:33:19.761Z"
   },
   {
    "duration": 42,
    "start_time": "2022-03-21T11:33:19.769Z"
   },
   {
    "duration": 5,
    "start_time": "2022-03-21T11:33:19.813Z"
   },
   {
    "duration": 11,
    "start_time": "2022-03-21T11:33:19.819Z"
   },
   {
    "duration": 5,
    "start_time": "2022-03-21T11:33:19.831Z"
   },
   {
    "duration": 7,
    "start_time": "2022-03-21T11:33:19.838Z"
   },
   {
    "duration": 5,
    "start_time": "2022-03-21T11:33:19.846Z"
   },
   {
    "duration": 9,
    "start_time": "2022-03-21T11:33:19.852Z"
   },
   {
    "duration": 61,
    "start_time": "2022-03-21T11:33:19.863Z"
   },
   {
    "duration": 7,
    "start_time": "2022-03-21T11:33:19.926Z"
   },
   {
    "duration": 15,
    "start_time": "2022-03-21T11:33:19.934Z"
   },
   {
    "duration": 5,
    "start_time": "2022-03-21T11:33:19.950Z"
   },
   {
    "duration": 13,
    "start_time": "2022-03-21T11:33:19.957Z"
   },
   {
    "duration": 43,
    "start_time": "2022-03-21T11:33:19.972Z"
   },
   {
    "duration": 14,
    "start_time": "2022-03-21T11:33:20.017Z"
   },
   {
    "duration": 15,
    "start_time": "2022-03-21T11:33:20.032Z"
   },
   {
    "duration": 9,
    "start_time": "2022-03-21T11:33:20.049Z"
   },
   {
    "duration": 24,
    "start_time": "2022-03-21T11:33:20.060Z"
   },
   {
    "duration": 11,
    "start_time": "2022-03-21T11:33:20.086Z"
   },
   {
    "duration": 363,
    "start_time": "2022-03-21T11:33:20.109Z"
   },
   {
    "duration": 16,
    "start_time": "2022-03-21T11:33:20.474Z"
   },
   {
    "duration": 11,
    "start_time": "2022-03-21T11:39:20.570Z"
   },
   {
    "duration": 7,
    "start_time": "2022-03-21T11:40:13.035Z"
   },
   {
    "duration": 76,
    "start_time": "2022-03-21T11:41:32.669Z"
   },
   {
    "duration": 21,
    "start_time": "2022-03-21T11:42:15.445Z"
   },
   {
    "duration": 9,
    "start_time": "2022-03-21T11:42:18.725Z"
   },
   {
    "duration": 23,
    "start_time": "2022-03-21T11:43:24.848Z"
   },
   {
    "duration": 8,
    "start_time": "2022-03-21T11:43:29.384Z"
   },
   {
    "duration": 5,
    "start_time": "2022-03-21T11:43:41.824Z"
   },
   {
    "duration": 8,
    "start_time": "2022-03-21T11:43:42.686Z"
   },
   {
    "duration": 5,
    "start_time": "2022-03-21T11:43:43.406Z"
   },
   {
    "duration": 7,
    "start_time": "2022-03-21T11:43:44.143Z"
   },
   {
    "duration": 2,
    "start_time": "2022-03-21T11:43:58.004Z"
   },
   {
    "duration": 86,
    "start_time": "2022-03-21T11:43:59.820Z"
   },
   {
    "duration": 8,
    "start_time": "2022-03-21T11:44:09.567Z"
   },
   {
    "duration": 5,
    "start_time": "2022-03-21T11:44:10.471Z"
   },
   {
    "duration": 7,
    "start_time": "2022-03-21T11:44:11.193Z"
   },
   {
    "duration": 5,
    "start_time": "2022-03-21T11:44:12.587Z"
   },
   {
    "duration": 8,
    "start_time": "2022-03-21T11:44:13.439Z"
   },
   {
    "duration": 5,
    "start_time": "2022-03-21T11:44:15.881Z"
   },
   {
    "duration": 7,
    "start_time": "2022-03-21T11:44:16.759Z"
   },
   {
    "duration": 5,
    "start_time": "2022-03-21T11:44:20.777Z"
   },
   {
    "duration": 7,
    "start_time": "2022-03-21T11:44:21.984Z"
   },
   {
    "duration": 6,
    "start_time": "2022-03-21T11:44:23.456Z"
   },
   {
    "duration": 8,
    "start_time": "2022-03-21T11:44:24.174Z"
   },
   {
    "duration": 6,
    "start_time": "2022-03-21T11:44:25.600Z"
   },
   {
    "duration": 8,
    "start_time": "2022-03-21T11:44:26.319Z"
   },
   {
    "duration": 5,
    "start_time": "2022-03-21T11:44:27.632Z"
   },
   {
    "duration": 7,
    "start_time": "2022-03-21T11:44:28.344Z"
   },
   {
    "duration": 5,
    "start_time": "2022-03-21T11:44:31.721Z"
   },
   {
    "duration": 7,
    "start_time": "2022-03-21T11:44:32.801Z"
   },
   {
    "duration": 5,
    "start_time": "2022-03-21T11:44:34.034Z"
   },
   {
    "duration": 7,
    "start_time": "2022-03-21T11:44:35.176Z"
   },
   {
    "duration": 7,
    "start_time": "2022-03-21T11:46:00.147Z"
   },
   {
    "duration": 7,
    "start_time": "2022-03-21T11:46:35.426Z"
   },
   {
    "duration": 6,
    "start_time": "2022-03-21T11:46:52.731Z"
   },
   {
    "duration": 5,
    "start_time": "2022-03-21T11:47:37.965Z"
   },
   {
    "duration": 6,
    "start_time": "2022-03-21T11:47:40.884Z"
   },
   {
    "duration": 5,
    "start_time": "2022-03-21T11:47:44.244Z"
   },
   {
    "duration": 9,
    "start_time": "2022-03-21T11:47:48.023Z"
   },
   {
    "duration": 429,
    "start_time": "2022-03-21T11:48:09.915Z"
   },
   {
    "duration": 92,
    "start_time": "2022-03-21T11:48:10.346Z"
   },
   {
    "duration": 15,
    "start_time": "2022-03-21T11:48:10.440Z"
   },
   {
    "duration": 33,
    "start_time": "2022-03-21T11:48:10.457Z"
   },
   {
    "duration": 24,
    "start_time": "2022-03-21T11:48:10.492Z"
   },
   {
    "duration": 9,
    "start_time": "2022-03-21T11:48:10.517Z"
   },
   {
    "duration": 7,
    "start_time": "2022-03-21T11:48:10.528Z"
   },
   {
    "duration": 25,
    "start_time": "2022-03-21T11:48:10.537Z"
   },
   {
    "duration": 7,
    "start_time": "2022-03-21T11:48:10.564Z"
   },
   {
    "duration": 39,
    "start_time": "2022-03-21T11:48:10.574Z"
   },
   {
    "duration": 12,
    "start_time": "2022-03-21T11:48:10.614Z"
   },
   {
    "duration": 8,
    "start_time": "2022-03-21T11:48:10.628Z"
   },
   {
    "duration": 5,
    "start_time": "2022-03-21T11:48:10.638Z"
   },
   {
    "duration": 3,
    "start_time": "2022-03-21T11:48:10.645Z"
   },
   {
    "duration": 5,
    "start_time": "2022-03-21T11:48:10.650Z"
   },
   {
    "duration": 5,
    "start_time": "2022-03-21T11:48:10.657Z"
   },
   {
    "duration": 4,
    "start_time": "2022-03-21T11:48:10.663Z"
   },
   {
    "duration": 6,
    "start_time": "2022-03-21T11:48:10.668Z"
   },
   {
    "duration": 34,
    "start_time": "2022-03-21T11:48:10.676Z"
   },
   {
    "duration": 6,
    "start_time": "2022-03-21T11:48:10.712Z"
   },
   {
    "duration": 8,
    "start_time": "2022-03-21T11:48:10.720Z"
   },
   {
    "duration": 6,
    "start_time": "2022-03-21T11:48:10.730Z"
   },
   {
    "duration": 3,
    "start_time": "2022-03-21T11:48:10.738Z"
   },
   {
    "duration": 8,
    "start_time": "2022-03-21T11:48:10.742Z"
   },
   {
    "duration": 8,
    "start_time": "2022-03-21T11:48:10.751Z"
   },
   {
    "duration": 7,
    "start_time": "2022-03-21T11:48:10.760Z"
   },
   {
    "duration": 3,
    "start_time": "2022-03-21T11:48:10.769Z"
   },
   {
    "duration": 5,
    "start_time": "2022-03-21T11:48:10.811Z"
   },
   {
    "duration": 7,
    "start_time": "2022-03-21T11:48:10.818Z"
   },
   {
    "duration": 4,
    "start_time": "2022-03-21T11:48:10.827Z"
   },
   {
    "duration": 6,
    "start_time": "2022-03-21T11:48:10.833Z"
   },
   {
    "duration": 8,
    "start_time": "2022-03-21T11:48:10.840Z"
   },
   {
    "duration": 5,
    "start_time": "2022-03-21T11:48:10.850Z"
   },
   {
    "duration": 6,
    "start_time": "2022-03-21T11:48:10.856Z"
   },
   {
    "duration": 47,
    "start_time": "2022-03-21T11:48:10.863Z"
   },
   {
    "duration": 10,
    "start_time": "2022-03-21T11:48:10.912Z"
   },
   {
    "duration": 25,
    "start_time": "2022-03-21T11:48:10.924Z"
   },
   {
    "duration": 23,
    "start_time": "2022-03-21T11:48:10.950Z"
   },
   {
    "duration": 10,
    "start_time": "2022-03-21T11:48:10.975Z"
   },
   {
    "duration": 6,
    "start_time": "2022-03-21T11:48:11.009Z"
   },
   {
    "duration": 21,
    "start_time": "2022-03-21T11:48:11.016Z"
   },
   {
    "duration": 5,
    "start_time": "2022-03-21T11:48:11.039Z"
   },
   {
    "duration": 8,
    "start_time": "2022-03-21T11:48:11.046Z"
   },
   {
    "duration": 5,
    "start_time": "2022-03-21T11:48:11.056Z"
   },
   {
    "duration": 8,
    "start_time": "2022-03-21T11:48:11.062Z"
   },
   {
    "duration": 4,
    "start_time": "2022-03-21T11:48:11.072Z"
   },
   {
    "duration": 34,
    "start_time": "2022-03-21T11:48:11.078Z"
   },
   {
    "duration": 5,
    "start_time": "2022-03-21T11:48:11.114Z"
   },
   {
    "duration": 12,
    "start_time": "2022-03-21T11:48:11.121Z"
   },
   {
    "duration": 6,
    "start_time": "2022-03-21T11:48:11.135Z"
   },
   {
    "duration": 8,
    "start_time": "2022-03-21T11:48:11.142Z"
   },
   {
    "duration": 5,
    "start_time": "2022-03-21T11:48:11.151Z"
   },
   {
    "duration": 8,
    "start_time": "2022-03-21T11:48:11.157Z"
   },
   {
    "duration": 5,
    "start_time": "2022-03-21T11:48:11.166Z"
   },
   {
    "duration": 40,
    "start_time": "2022-03-21T11:48:11.172Z"
   },
   {
    "duration": 6,
    "start_time": "2022-03-21T11:48:11.214Z"
   },
   {
    "duration": 9,
    "start_time": "2022-03-21T11:48:11.222Z"
   },
   {
    "duration": 6,
    "start_time": "2022-03-21T11:48:11.233Z"
   },
   {
    "duration": 10,
    "start_time": "2022-03-21T11:48:11.241Z"
   },
   {
    "duration": 59,
    "start_time": "2022-03-21T11:48:11.253Z"
   },
   {
    "duration": 6,
    "start_time": "2022-03-21T11:48:11.313Z"
   },
   {
    "duration": 15,
    "start_time": "2022-03-21T11:48:11.321Z"
   },
   {
    "duration": 24,
    "start_time": "2022-03-21T11:48:11.337Z"
   },
   {
    "duration": 12,
    "start_time": "2022-03-21T11:48:11.363Z"
   },
   {
    "duration": 33,
    "start_time": "2022-03-21T11:48:11.377Z"
   },
   {
    "duration": 18,
    "start_time": "2022-03-21T11:48:11.412Z"
   },
   {
    "duration": 12,
    "start_time": "2022-03-21T11:48:11.432Z"
   },
   {
    "duration": 13,
    "start_time": "2022-03-21T11:48:11.446Z"
   },
   {
    "duration": 12,
    "start_time": "2022-03-21T11:48:11.461Z"
   },
   {
    "duration": 6,
    "start_time": "2022-03-21T11:48:11.475Z"
   },
   {
    "duration": 39,
    "start_time": "2022-03-21T11:48:11.482Z"
   },
   {
    "duration": 6,
    "start_time": "2022-03-21T11:48:11.523Z"
   },
   {
    "duration": 382,
    "start_time": "2022-03-21T11:48:11.531Z"
   },
   {
    "duration": 16,
    "start_time": "2022-03-21T11:48:11.915Z"
   },
   {
    "duration": 5,
    "start_time": "2022-03-21T11:54:10.560Z"
   },
   {
    "duration": 18,
    "start_time": "2022-03-21T11:54:15.963Z"
   },
   {
    "duration": 4,
    "start_time": "2022-03-21T12:06:19.440Z"
   },
   {
    "duration": 17,
    "start_time": "2022-03-21T12:06:21.099Z"
   },
   {
    "duration": 5,
    "start_time": "2022-03-21T12:06:51.390Z"
   },
   {
    "duration": 5,
    "start_time": "2022-03-21T12:06:57.459Z"
   },
   {
    "duration": 5,
    "start_time": "2022-03-21T12:07:05.219Z"
   },
   {
    "duration": 63,
    "start_time": "2022-03-21T12:24:32.158Z"
   },
   {
    "duration": 5,
    "start_time": "2022-03-21T12:24:48.844Z"
   },
   {
    "duration": 17,
    "start_time": "2022-03-21T12:25:00.798Z"
   },
   {
    "duration": 20,
    "start_time": "2022-03-21T12:25:22.181Z"
   },
   {
    "duration": 5,
    "start_time": "2022-03-21T12:32:25.544Z"
   },
   {
    "duration": 26,
    "start_time": "2022-03-21T12:32:37.808Z"
   },
   {
    "duration": 6,
    "start_time": "2022-03-21T12:33:14.553Z"
   },
   {
    "duration": 20,
    "start_time": "2022-03-21T12:33:16.553Z"
   },
   {
    "duration": 18,
    "start_time": "2022-03-21T12:43:00.569Z"
   },
   {
    "duration": 7,
    "start_time": "2022-03-21T13:08:34.374Z"
   },
   {
    "duration": 7,
    "start_time": "2022-03-21T13:08:40.200Z"
   },
   {
    "duration": 7,
    "start_time": "2022-03-21T13:09:38.631Z"
   },
   {
    "duration": 5,
    "start_time": "2022-03-21T13:09:42.512Z"
   },
   {
    "duration": 6,
    "start_time": "2022-03-21T13:09:47.368Z"
   },
   {
    "duration": 5,
    "start_time": "2022-03-21T13:11:12.051Z"
   },
   {
    "duration": 16,
    "start_time": "2022-03-21T13:12:37.641Z"
   },
   {
    "duration": 1124,
    "start_time": "2022-03-21T13:12:52.725Z"
   },
   {
    "duration": 4,
    "start_time": "2022-03-21T13:13:12.446Z"
   },
   {
    "duration": 8,
    "start_time": "2022-03-21T13:13:25.493Z"
   },
   {
    "duration": 1235,
    "start_time": "2022-03-21T13:14:40.729Z"
   },
   {
    "duration": 5,
    "start_time": "2022-03-21T13:15:57.501Z"
   },
   {
    "duration": 6,
    "start_time": "2022-03-21T13:16:15.898Z"
   },
   {
    "duration": 6,
    "start_time": "2022-03-21T13:17:34.237Z"
   },
   {
    "duration": 7,
    "start_time": "2022-03-21T13:21:12.026Z"
   },
   {
    "duration": 7,
    "start_time": "2022-03-21T13:22:44.677Z"
   },
   {
    "duration": 7,
    "start_time": "2022-03-21T13:23:13.517Z"
   },
   {
    "duration": 7,
    "start_time": "2022-03-21T13:44:31.920Z"
   },
   {
    "duration": 9,
    "start_time": "2022-03-21T14:15:30.067Z"
   },
   {
    "duration": 65,
    "start_time": "2022-03-21T14:20:46.052Z"
   },
   {
    "duration": 6,
    "start_time": "2022-03-21T14:23:36.852Z"
   },
   {
    "duration": 13,
    "start_time": "2022-03-21T14:23:37.565Z"
   },
   {
    "duration": 14,
    "start_time": "2022-03-21T14:23:38.436Z"
   },
   {
    "duration": 12,
    "start_time": "2022-03-21T14:23:42.406Z"
   },
   {
    "duration": 17,
    "start_time": "2022-03-21T14:23:48.431Z"
   },
   {
    "duration": 5,
    "start_time": "2022-03-21T14:23:50.174Z"
   },
   {
    "duration": 15,
    "start_time": "2022-03-21T14:23:53.020Z"
   },
   {
    "duration": 5,
    "start_time": "2022-03-21T14:23:54.020Z"
   },
   {
    "duration": 314,
    "start_time": "2022-03-21T14:23:54.957Z"
   },
   {
    "duration": 5,
    "start_time": "2022-03-21T14:23:55.747Z"
   },
   {
    "duration": 5,
    "start_time": "2022-03-21T14:23:56.275Z"
   },
   {
    "duration": 17,
    "start_time": "2022-03-21T14:23:57.396Z"
   },
   {
    "duration": 6,
    "start_time": "2022-03-21T14:23:59.912Z"
   },
   {
    "duration": 8,
    "start_time": "2022-03-21T14:24:07.197Z"
   },
   {
    "duration": 70,
    "start_time": "2022-03-21T14:24:08.344Z"
   },
   {
    "duration": 98,
    "start_time": "2022-03-21T14:25:02.529Z"
   },
   {
    "duration": 62,
    "start_time": "2022-03-21T14:26:29.316Z"
   },
   {
    "duration": 653,
    "start_time": "2022-03-21T14:26:46.955Z"
   },
   {
    "duration": 371,
    "start_time": "2022-03-21T14:27:45.429Z"
   },
   {
    "duration": 243,
    "start_time": "2022-03-21T14:28:15.493Z"
   },
   {
    "duration": 835,
    "start_time": "2022-03-21T14:28:32.014Z"
   },
   {
    "duration": 373,
    "start_time": "2022-03-21T14:28:48.911Z"
   },
   {
    "duration": 413,
    "start_time": "2022-03-21T14:29:25.232Z"
   },
   {
    "duration": 460,
    "start_time": "2022-03-21T14:31:05.707Z"
   },
   {
    "duration": 400,
    "start_time": "2022-03-21T14:31:27.915Z"
   },
   {
    "duration": 10,
    "start_time": "2022-03-21T14:35:10.874Z"
   },
   {
    "duration": 5,
    "start_time": "2022-03-21T14:36:44.457Z"
   },
   {
    "duration": 9,
    "start_time": "2022-03-21T14:36:46.483Z"
   },
   {
    "duration": 16,
    "start_time": "2022-03-21T14:39:37.933Z"
   },
   {
    "duration": 9,
    "start_time": "2022-03-21T14:40:15.342Z"
   },
   {
    "duration": 259,
    "start_time": "2022-03-21T14:46:34.841Z"
   },
   {
    "duration": 356,
    "start_time": "2022-03-21T14:50:48.470Z"
   },
   {
    "duration": 7,
    "start_time": "2022-03-21T15:01:47.190Z"
   },
   {
    "duration": 10,
    "start_time": "2022-03-21T15:04:01.489Z"
   },
   {
    "duration": 345,
    "start_time": "2022-03-21T15:06:45.653Z"
   },
   {
    "duration": 265,
    "start_time": "2022-03-21T15:07:09.214Z"
   },
   {
    "duration": 198,
    "start_time": "2022-03-21T15:07:25.646Z"
   },
   {
    "duration": 6,
    "start_time": "2022-03-21T15:10:17.857Z"
   },
   {
    "duration": 5,
    "start_time": "2022-03-21T15:10:43.300Z"
   },
   {
    "duration": 5,
    "start_time": "2022-03-21T15:10:51.466Z"
   },
   {
    "duration": 5,
    "start_time": "2022-03-21T15:10:58.459Z"
   },
   {
    "duration": 6,
    "start_time": "2022-03-21T15:11:05.891Z"
   },
   {
    "duration": 5,
    "start_time": "2022-03-21T15:11:27.719Z"
   },
   {
    "duration": 5,
    "start_time": "2022-03-21T15:11:37.955Z"
   },
   {
    "duration": 7,
    "start_time": "2022-03-21T15:11:50.083Z"
   },
   {
    "duration": 6,
    "start_time": "2022-03-21T15:12:27.780Z"
   },
   {
    "duration": 5,
    "start_time": "2022-03-21T15:12:36.205Z"
   },
   {
    "duration": 5,
    "start_time": "2022-03-21T15:12:47.733Z"
   },
   {
    "duration": 8,
    "start_time": "2022-03-21T15:12:55.134Z"
   },
   {
    "duration": 6,
    "start_time": "2022-03-21T15:13:01.317Z"
   },
   {
    "duration": 10,
    "start_time": "2022-03-21T15:13:09.532Z"
   },
   {
    "duration": 10,
    "start_time": "2022-03-21T15:13:21.157Z"
   },
   {
    "duration": 7,
    "start_time": "2022-03-21T15:13:26.448Z"
   },
   {
    "duration": 6,
    "start_time": "2022-03-21T15:14:03.727Z"
   },
   {
    "duration": 7,
    "start_time": "2022-03-21T15:14:35.719Z"
   },
   {
    "duration": 7,
    "start_time": "2022-03-21T15:14:41.561Z"
   },
   {
    "duration": 8,
    "start_time": "2022-03-21T15:15:34.041Z"
   },
   {
    "duration": 6,
    "start_time": "2022-03-21T15:15:57.403Z"
   },
   {
    "duration": 7,
    "start_time": "2022-03-21T15:16:06.446Z"
   },
   {
    "duration": 6,
    "start_time": "2022-03-21T15:16:14.044Z"
   },
   {
    "duration": 202,
    "start_time": "2022-03-21T15:16:37.115Z"
   },
   {
    "duration": 188,
    "start_time": "2022-03-21T15:16:53.258Z"
   },
   {
    "duration": 8,
    "start_time": "2022-03-21T15:18:40.506Z"
   },
   {
    "duration": 251,
    "start_time": "2022-03-21T15:19:52.354Z"
   },
   {
    "duration": 259,
    "start_time": "2022-03-21T15:20:06.976Z"
   },
   {
    "duration": 256,
    "start_time": "2022-03-21T15:20:54.586Z"
   },
   {
    "duration": 385,
    "start_time": "2022-03-21T15:21:04.986Z"
   },
   {
    "duration": 210,
    "start_time": "2022-03-21T15:21:23.553Z"
   },
   {
    "duration": 2,
    "start_time": "2022-03-21T15:53:48.500Z"
   },
   {
    "duration": 20,
    "start_time": "2022-03-21T16:35:14.456Z"
   },
   {
    "duration": 538,
    "start_time": "2022-03-21T16:35:28.813Z"
   },
   {
    "duration": 6,
    "start_time": "2022-03-21T18:07:29.050Z"
   },
   {
    "duration": 8,
    "start_time": "2022-03-21T18:07:45.381Z"
   },
   {
    "duration": 6,
    "start_time": "2022-03-21T18:08:07.906Z"
   },
   {
    "duration": 5,
    "start_time": "2022-03-21T18:08:47.773Z"
   },
   {
    "duration": 7,
    "start_time": "2022-03-21T18:09:04.741Z"
   },
   {
    "duration": 6,
    "start_time": "2022-03-21T18:09:37.502Z"
   },
   {
    "duration": 6,
    "start_time": "2022-03-21T18:10:02.533Z"
   },
   {
    "duration": 6,
    "start_time": "2022-03-21T18:10:16.263Z"
   },
   {
    "duration": 6,
    "start_time": "2022-03-21T18:36:59.712Z"
   },
   {
    "duration": 6,
    "start_time": "2022-03-21T18:53:34.438Z"
   },
   {
    "duration": 5,
    "start_time": "2022-03-21T18:54:32.461Z"
   },
   {
    "duration": 200,
    "start_time": "2022-03-21T18:57:44.665Z"
   },
   {
    "duration": 190,
    "start_time": "2022-03-21T18:58:07.265Z"
   },
   {
    "duration": 1767,
    "start_time": "2022-03-22T07:28:31.337Z"
   },
   {
    "duration": 180,
    "start_time": "2022-03-22T07:28:33.108Z"
   },
   {
    "duration": 24,
    "start_time": "2022-03-22T07:28:33.291Z"
   },
   {
    "duration": 72,
    "start_time": "2022-03-22T07:28:33.317Z"
   },
   {
    "duration": 13,
    "start_time": "2022-03-22T07:28:33.392Z"
   },
   {
    "duration": 13,
    "start_time": "2022-03-22T07:28:33.407Z"
   },
   {
    "duration": 11,
    "start_time": "2022-03-22T07:28:33.422Z"
   },
   {
    "duration": 82,
    "start_time": "2022-03-22T07:28:33.435Z"
   },
   {
    "duration": 18,
    "start_time": "2022-03-22T07:28:33.520Z"
   },
   {
    "duration": 26,
    "start_time": "2022-03-22T07:28:33.541Z"
   },
   {
    "duration": 16,
    "start_time": "2022-03-22T07:28:33.570Z"
   },
   {
    "duration": 13,
    "start_time": "2022-03-22T07:28:33.589Z"
   },
   {
    "duration": 20,
    "start_time": "2022-03-22T07:28:33.605Z"
   },
   {
    "duration": 22,
    "start_time": "2022-03-22T07:28:33.631Z"
   },
   {
    "duration": 18,
    "start_time": "2022-03-22T07:28:33.656Z"
   },
   {
    "duration": 16,
    "start_time": "2022-03-22T07:28:33.676Z"
   },
   {
    "duration": 7,
    "start_time": "2022-03-22T07:28:33.695Z"
   },
   {
    "duration": 11,
    "start_time": "2022-03-22T07:28:33.704Z"
   },
   {
    "duration": 9,
    "start_time": "2022-03-22T07:28:33.718Z"
   },
   {
    "duration": 56,
    "start_time": "2022-03-22T07:28:33.730Z"
   },
   {
    "duration": 17,
    "start_time": "2022-03-22T07:28:33.789Z"
   },
   {
    "duration": 13,
    "start_time": "2022-03-22T07:28:33.808Z"
   },
   {
    "duration": 8,
    "start_time": "2022-03-22T07:28:33.824Z"
   },
   {
    "duration": 18,
    "start_time": "2022-03-22T07:28:33.834Z"
   },
   {
    "duration": 32,
    "start_time": "2022-03-22T07:28:33.855Z"
   },
   {
    "duration": 12,
    "start_time": "2022-03-22T07:28:33.890Z"
   },
   {
    "duration": 8,
    "start_time": "2022-03-22T07:28:33.905Z"
   },
   {
    "duration": 15,
    "start_time": "2022-03-22T07:28:33.915Z"
   },
   {
    "duration": 57,
    "start_time": "2022-03-22T07:28:33.932Z"
   },
   {
    "duration": 9,
    "start_time": "2022-03-22T07:28:33.991Z"
   },
   {
    "duration": 11,
    "start_time": "2022-03-22T07:28:34.002Z"
   },
   {
    "duration": 18,
    "start_time": "2022-03-22T07:28:34.016Z"
   },
   {
    "duration": 20,
    "start_time": "2022-03-22T07:28:34.036Z"
   },
   {
    "duration": 12,
    "start_time": "2022-03-22T07:28:34.058Z"
   },
   {
    "duration": 19,
    "start_time": "2022-03-22T07:28:34.073Z"
   },
   {
    "duration": 19,
    "start_time": "2022-03-22T07:28:34.095Z"
   },
   {
    "duration": 40,
    "start_time": "2022-03-22T07:28:34.117Z"
   },
   {
    "duration": 51,
    "start_time": "2022-03-22T07:28:34.159Z"
   },
   {
    "duration": 14,
    "start_time": "2022-03-22T07:28:34.213Z"
   },
   {
    "duration": 10,
    "start_time": "2022-03-22T07:28:34.230Z"
   },
   {
    "duration": 37,
    "start_time": "2022-03-22T07:28:34.248Z"
   },
   {
    "duration": 9,
    "start_time": "2022-03-22T07:28:34.289Z"
   },
   {
    "duration": 30,
    "start_time": "2022-03-22T07:28:34.301Z"
   },
   {
    "duration": 18,
    "start_time": "2022-03-22T07:28:34.334Z"
   },
   {
    "duration": 30,
    "start_time": "2022-03-22T07:28:34.355Z"
   },
   {
    "duration": 10,
    "start_time": "2022-03-22T07:28:34.389Z"
   },
   {
    "duration": 18,
    "start_time": "2022-03-22T07:28:34.402Z"
   },
   {
    "duration": 7,
    "start_time": "2022-03-22T07:28:34.423Z"
   },
   {
    "duration": 16,
    "start_time": "2022-03-22T07:28:34.432Z"
   },
   {
    "duration": 34,
    "start_time": "2022-03-22T07:28:34.451Z"
   },
   {
    "duration": 10,
    "start_time": "2022-03-22T07:28:34.487Z"
   },
   {
    "duration": 15,
    "start_time": "2022-03-22T07:28:34.499Z"
   },
   {
    "duration": 19,
    "start_time": "2022-03-22T07:28:34.516Z"
   },
   {
    "duration": 30,
    "start_time": "2022-03-22T07:28:34.537Z"
   },
   {
    "duration": 18,
    "start_time": "2022-03-22T07:28:34.570Z"
   },
   {
    "duration": 18,
    "start_time": "2022-03-22T07:28:34.590Z"
   },
   {
    "duration": 13,
    "start_time": "2022-03-22T07:28:34.610Z"
   },
   {
    "duration": 11,
    "start_time": "2022-03-22T07:28:34.625Z"
   },
   {
    "duration": 35,
    "start_time": "2022-03-22T07:28:34.638Z"
   },
   {
    "duration": 40,
    "start_time": "2022-03-22T07:28:34.676Z"
   },
   {
    "duration": 11,
    "start_time": "2022-03-22T07:28:34.719Z"
   },
   {
    "duration": 13,
    "start_time": "2022-03-22T07:28:34.733Z"
   },
   {
    "duration": 41,
    "start_time": "2022-03-22T07:28:34.749Z"
   },
   {
    "duration": 25,
    "start_time": "2022-03-22T07:28:34.792Z"
   },
   {
    "duration": 6,
    "start_time": "2022-03-22T07:28:34.820Z"
   },
   {
    "duration": 56,
    "start_time": "2022-03-22T07:28:34.829Z"
   },
   {
    "duration": 20,
    "start_time": "2022-03-22T07:28:34.887Z"
   },
   {
    "duration": 19,
    "start_time": "2022-03-22T07:28:34.909Z"
   },
   {
    "duration": 53,
    "start_time": "2022-03-22T07:28:34.931Z"
   },
   {
    "duration": 6,
    "start_time": "2022-03-22T07:28:34.986Z"
   },
   {
    "duration": 26,
    "start_time": "2022-03-22T07:28:34.995Z"
   },
   {
    "duration": 13,
    "start_time": "2022-03-22T07:28:35.024Z"
   },
   {
    "duration": 562,
    "start_time": "2022-03-22T07:28:35.039Z"
   },
   {
    "duration": 5,
    "start_time": "2022-03-22T07:28:35.603Z"
   },
   {
    "duration": 127,
    "start_time": "2022-03-22T07:28:35.610Z"
   },
   {
    "duration": 59,
    "start_time": "2022-03-22T07:28:35.739Z"
   },
   {
    "duration": 13,
    "start_time": "2022-03-22T07:28:35.801Z"
   },
   {
    "duration": 28,
    "start_time": "2022-03-22T07:28:35.816Z"
   },
   {
    "duration": 716,
    "start_time": "2022-03-22T07:28:35.846Z"
   },
   {
    "duration": 21,
    "start_time": "2022-03-22T07:28:36.564Z"
   },
   {
    "duration": 624,
    "start_time": "2022-03-22T07:28:36.587Z"
   },
   {
    "duration": 7,
    "start_time": "2022-03-22T07:28:37.214Z"
   },
   {
    "duration": 15,
    "start_time": "2022-03-22T07:28:37.223Z"
   },
   {
    "duration": 343,
    "start_time": "2022-03-22T07:28:37.240Z"
   },
   {
    "duration": 12,
    "start_time": "2022-03-22T07:28:37.586Z"
   },
   {
    "duration": 343,
    "start_time": "2022-03-22T07:28:37.600Z"
   },
   {
    "duration": 413,
    "start_time": "2022-03-22T07:29:54.692Z"
   },
   {
    "duration": 11,
    "start_time": "2022-03-22T07:51:36.940Z"
   },
   {
    "duration": 8,
    "start_time": "2022-03-22T07:57:00.968Z"
   },
   {
    "duration": 8,
    "start_time": "2022-03-22T07:57:19.278Z"
   },
   {
    "duration": 7,
    "start_time": "2022-03-22T07:57:25.845Z"
   },
   {
    "duration": 7,
    "start_time": "2022-03-22T07:57:48.021Z"
   },
   {
    "duration": 7,
    "start_time": "2022-03-22T07:57:59.246Z"
   },
   {
    "duration": 9,
    "start_time": "2022-03-22T07:58:09.391Z"
   },
   {
    "duration": 8,
    "start_time": "2022-03-22T07:58:23.775Z"
   },
   {
    "duration": 11,
    "start_time": "2022-03-22T07:59:29.634Z"
   },
   {
    "duration": 12,
    "start_time": "2022-03-22T07:59:45.616Z"
   },
   {
    "duration": 11,
    "start_time": "2022-03-22T08:00:58.053Z"
   },
   {
    "duration": 10,
    "start_time": "2022-03-22T08:01:05.795Z"
   },
   {
    "duration": 9,
    "start_time": "2022-03-22T08:01:22.359Z"
   },
   {
    "duration": 9,
    "start_time": "2022-03-22T08:02:04.031Z"
   },
   {
    "duration": 8,
    "start_time": "2022-03-22T08:02:52.806Z"
   },
   {
    "duration": 9,
    "start_time": "2022-03-22T08:04:50.537Z"
   },
   {
    "duration": 510,
    "start_time": "2022-03-22T08:05:25.074Z"
   },
   {
    "duration": 625,
    "start_time": "2022-03-22T08:05:47.923Z"
   },
   {
    "duration": 516,
    "start_time": "2022-03-22T08:06:03.345Z"
   },
   {
    "duration": 512,
    "start_time": "2022-03-22T08:06:29.701Z"
   },
   {
    "duration": 712,
    "start_time": "2022-03-22T08:06:41.380Z"
   },
   {
    "duration": 12,
    "start_time": "2022-03-22T08:46:50.109Z"
   },
   {
    "duration": 11,
    "start_time": "2022-03-22T08:47:39.893Z"
   },
   {
    "duration": 11,
    "start_time": "2022-03-22T08:49:07.440Z"
   },
   {
    "duration": 13,
    "start_time": "2022-03-22T08:50:13.862Z"
   },
   {
    "duration": 18,
    "start_time": "2022-03-22T08:52:42.142Z"
   },
   {
    "duration": 51,
    "start_time": "2022-03-22T09:25:28.699Z"
   },
   {
    "duration": 8,
    "start_time": "2022-03-22T09:33:10.303Z"
   },
   {
    "duration": 8,
    "start_time": "2022-03-22T09:59:51.585Z"
   },
   {
    "duration": 15,
    "start_time": "2022-03-22T10:01:09.708Z"
   },
   {
    "duration": 37,
    "start_time": "2022-03-22T10:17:05.955Z"
   },
   {
    "duration": 14,
    "start_time": "2022-03-22T10:23:59.520Z"
   },
   {
    "duration": 13,
    "start_time": "2022-03-22T10:26:18.742Z"
   },
   {
    "duration": 51,
    "start_time": "2022-03-22T10:34:25.936Z"
   },
   {
    "duration": 14,
    "start_time": "2022-03-22T10:36:43.195Z"
   },
   {
    "duration": 32,
    "start_time": "2022-03-22T10:38:28.856Z"
   },
   {
    "duration": 41,
    "start_time": "2022-03-22T10:40:01.472Z"
   },
   {
    "duration": 3980,
    "start_time": "2022-03-22T10:48:28.327Z"
   },
   {
    "duration": 4081,
    "start_time": "2022-03-22T10:49:22.792Z"
   },
   {
    "duration": 61,
    "start_time": "2022-03-22T10:50:58.630Z"
   },
   {
    "duration": 4,
    "start_time": "2022-03-22T10:51:04.962Z"
   },
   {
    "duration": 4,
    "start_time": "2022-03-22T11:15:35.492Z"
   },
   {
    "duration": 49,
    "start_time": "2022-03-22T11:17:11.549Z"
   },
   {
    "duration": 10,
    "start_time": "2022-03-22T11:19:55.610Z"
   },
   {
    "duration": 36,
    "start_time": "2022-03-22T11:20:10.200Z"
   },
   {
    "duration": 7,
    "start_time": "2022-03-22T11:21:15.379Z"
   },
   {
    "duration": 148,
    "start_time": "2022-03-22T12:17:55.583Z"
   },
   {
    "duration": 35,
    "start_time": "2022-03-22T12:20:17.494Z"
   },
   {
    "duration": 12,
    "start_time": "2022-03-22T12:28:51.513Z"
   },
   {
    "duration": 15,
    "start_time": "2022-03-22T13:20:21.833Z"
   },
   {
    "duration": 16,
    "start_time": "2022-03-22T13:21:16.636Z"
   },
   {
    "duration": 39,
    "start_time": "2022-03-22T13:21:20.117Z"
   },
   {
    "duration": 16,
    "start_time": "2022-03-22T13:22:12.875Z"
   },
   {
    "duration": 32,
    "start_time": "2022-03-22T13:22:14.124Z"
   },
   {
    "duration": 26,
    "start_time": "2022-03-22T13:22:23.604Z"
   },
   {
    "duration": 15,
    "start_time": "2022-03-22T15:14:02.652Z"
   },
   {
    "duration": 8,
    "start_time": "2022-03-22T16:17:21.368Z"
   },
   {
    "duration": 8,
    "start_time": "2022-03-22T16:22:51.362Z"
   },
   {
    "duration": 9,
    "start_time": "2022-03-22T16:24:24.228Z"
   },
   {
    "duration": 10,
    "start_time": "2022-03-22T16:34:34.821Z"
   },
   {
    "duration": 137,
    "start_time": "2022-03-22T16:37:29.953Z"
   },
   {
    "duration": 34,
    "start_time": "2022-03-22T16:38:00.904Z"
   },
   {
    "duration": 9,
    "start_time": "2022-03-22T16:42:12.065Z"
   },
   {
    "duration": 107,
    "start_time": "2022-03-22T16:42:16.680Z"
   },
   {
    "duration": 113,
    "start_time": "2022-03-22T16:42:37.266Z"
   },
   {
    "duration": 132,
    "start_time": "2022-03-22T16:43:18.288Z"
   },
   {
    "duration": 10,
    "start_time": "2022-03-22T16:48:29.524Z"
   },
   {
    "duration": 6,
    "start_time": "2022-03-22T16:49:02.563Z"
   },
   {
    "duration": 7,
    "start_time": "2022-03-22T16:51:14.918Z"
   },
   {
    "duration": 28,
    "start_time": "2022-03-22T16:51:16.286Z"
   },
   {
    "duration": 30,
    "start_time": "2022-03-22T16:51:18.551Z"
   },
   {
    "duration": 7,
    "start_time": "2022-03-22T16:51:29.031Z"
   },
   {
    "duration": 534,
    "start_time": "2022-03-22T16:51:30.081Z"
   },
   {
    "duration": 5,
    "start_time": "2022-03-22T16:51:30.797Z"
   },
   {
    "duration": 6,
    "start_time": "2022-03-22T16:51:31.509Z"
   },
   {
    "duration": 25,
    "start_time": "2022-03-22T16:51:34.046Z"
   },
   {
    "duration": 5,
    "start_time": "2022-03-22T16:51:45.439Z"
   },
   {
    "duration": 12,
    "start_time": "2022-03-22T16:53:43.995Z"
   },
   {
    "duration": 4,
    "start_time": "2022-03-22T16:54:07.218Z"
   },
   {
    "duration": 6,
    "start_time": "2022-03-22T16:54:08.794Z"
   },
   {
    "duration": 18,
    "start_time": "2022-03-22T16:55:42.830Z"
   },
   {
    "duration": 48,
    "start_time": "2022-03-22T16:58:07.521Z"
   },
   {
    "duration": 32,
    "start_time": "2022-03-22T16:58:30.450Z"
   },
   {
    "duration": 32,
    "start_time": "2022-03-22T17:00:34.933Z"
   },
   {
    "duration": 6,
    "start_time": "2022-03-22T17:02:12.849Z"
   },
   {
    "duration": 1102,
    "start_time": "2022-03-22T17:02:30.385Z"
   },
   {
    "duration": 6,
    "start_time": "2022-03-22T17:03:14.419Z"
   },
   {
    "duration": 34,
    "start_time": "2022-03-22T17:05:36.115Z"
   },
   {
    "duration": 15,
    "start_time": "2022-03-22T17:05:51.287Z"
   },
   {
    "duration": 7,
    "start_time": "2022-03-22T17:06:49.281Z"
   },
   {
    "duration": 52,
    "start_time": "2022-03-22T17:07:38.545Z"
   },
   {
    "duration": 40,
    "start_time": "2022-03-22T17:11:25.857Z"
   },
   {
    "duration": 10,
    "start_time": "2022-03-22T17:12:17.256Z"
   },
   {
    "duration": 28,
    "start_time": "2022-03-22T17:34:08.572Z"
   },
   {
    "duration": 16,
    "start_time": "2022-03-22T17:35:25.445Z"
   },
   {
    "duration": 23,
    "start_time": "2022-03-22T17:36:08.886Z"
   },
   {
    "duration": 17,
    "start_time": "2022-03-22T17:37:56.961Z"
   },
   {
    "duration": 23,
    "start_time": "2022-03-22T17:40:27.085Z"
   },
   {
    "duration": 15,
    "start_time": "2022-03-22T17:40:30.212Z"
   },
   {
    "duration": 61,
    "start_time": "2022-03-22T18:08:41.685Z"
   },
   {
    "duration": 15,
    "start_time": "2022-03-22T18:17:18.114Z"
   },
   {
    "duration": 8,
    "start_time": "2022-03-22T18:18:01.000Z"
   },
   {
    "duration": 2147,
    "start_time": "2022-03-22T18:24:25.594Z"
   },
   {
    "duration": 12,
    "start_time": "2022-03-22T18:25:14.641Z"
   },
   {
    "duration": 15,
    "start_time": "2022-03-22T18:25:28.810Z"
   },
   {
    "duration": 12,
    "start_time": "2022-03-22T18:28:25.245Z"
   },
   {
    "duration": 384,
    "start_time": "2022-03-22T18:35:53.493Z"
   },
   {
    "duration": 267,
    "start_time": "2022-03-22T18:37:27.804Z"
   },
   {
    "duration": 274,
    "start_time": "2022-03-22T18:38:27.265Z"
   },
   {
    "duration": 356,
    "start_time": "2022-03-22T18:40:05.443Z"
   },
   {
    "duration": 391,
    "start_time": "2022-03-22T18:40:31.502Z"
   },
   {
    "duration": 348,
    "start_time": "2022-03-22T18:40:48.469Z"
   },
   {
    "duration": 272,
    "start_time": "2022-03-22T18:41:24.805Z"
   },
   {
    "duration": 158,
    "start_time": "2022-03-22T18:54:55.040Z"
   },
   {
    "duration": 14,
    "start_time": "2022-03-22T18:55:36.174Z"
   },
   {
    "duration": 14,
    "start_time": "2022-03-22T19:00:14.637Z"
   },
   {
    "duration": 21,
    "start_time": "2022-03-22T19:01:30.528Z"
   },
   {
    "duration": 3,
    "start_time": "2022-03-22T19:05:32.192Z"
   },
   {
    "duration": 1140,
    "start_time": "2022-03-23T08:59:05.066Z"
   },
   {
    "duration": 103,
    "start_time": "2022-03-23T08:59:06.209Z"
   },
   {
    "duration": 24,
    "start_time": "2022-03-23T08:59:06.314Z"
   },
   {
    "duration": 64,
    "start_time": "2022-03-23T08:59:06.342Z"
   },
   {
    "duration": 12,
    "start_time": "2022-03-23T08:59:06.408Z"
   },
   {
    "duration": 12,
    "start_time": "2022-03-23T08:59:06.422Z"
   },
   {
    "duration": 9,
    "start_time": "2022-03-23T08:59:06.467Z"
   },
   {
    "duration": 7,
    "start_time": "2022-03-23T08:59:06.478Z"
   },
   {
    "duration": 12,
    "start_time": "2022-03-23T08:59:06.487Z"
   },
   {
    "duration": 9,
    "start_time": "2022-03-23T08:59:06.503Z"
   },
   {
    "duration": 5,
    "start_time": "2022-03-23T08:59:06.514Z"
   },
   {
    "duration": 50,
    "start_time": "2022-03-23T08:59:06.522Z"
   },
   {
    "duration": 9,
    "start_time": "2022-03-23T08:59:06.575Z"
   },
   {
    "duration": 4,
    "start_time": "2022-03-23T08:59:06.587Z"
   },
   {
    "duration": 8,
    "start_time": "2022-03-23T08:59:06.593Z"
   },
   {
    "duration": 8,
    "start_time": "2022-03-23T08:59:06.604Z"
   },
   {
    "duration": 8,
    "start_time": "2022-03-23T08:59:06.614Z"
   },
   {
    "duration": 46,
    "start_time": "2022-03-23T08:59:06.625Z"
   },
   {
    "duration": 8,
    "start_time": "2022-03-23T08:59:06.674Z"
   },
   {
    "duration": 10,
    "start_time": "2022-03-23T08:59:06.684Z"
   },
   {
    "duration": 9,
    "start_time": "2022-03-23T08:59:06.696Z"
   },
   {
    "duration": 8,
    "start_time": "2022-03-23T08:59:06.707Z"
   },
   {
    "duration": 9,
    "start_time": "2022-03-23T08:59:06.717Z"
   },
   {
    "duration": 9,
    "start_time": "2022-03-23T08:59:06.768Z"
   },
   {
    "duration": 12,
    "start_time": "2022-03-23T08:59:06.779Z"
   },
   {
    "duration": 22,
    "start_time": "2022-03-23T08:59:06.793Z"
   },
   {
    "duration": 5,
    "start_time": "2022-03-23T08:59:06.817Z"
   },
   {
    "duration": 7,
    "start_time": "2022-03-23T08:59:06.828Z"
   },
   {
    "duration": 35,
    "start_time": "2022-03-23T08:59:06.838Z"
   },
   {
    "duration": 6,
    "start_time": "2022-03-23T08:59:06.875Z"
   },
   {
    "duration": 6,
    "start_time": "2022-03-23T08:59:06.884Z"
   },
   {
    "duration": 8,
    "start_time": "2022-03-23T08:59:06.892Z"
   },
   {
    "duration": 6,
    "start_time": "2022-03-23T08:59:06.902Z"
   },
   {
    "duration": 7,
    "start_time": "2022-03-23T08:59:06.910Z"
   },
   {
    "duration": 50,
    "start_time": "2022-03-23T08:59:06.919Z"
   },
   {
    "duration": 11,
    "start_time": "2022-03-23T08:59:06.972Z"
   },
   {
    "duration": 40,
    "start_time": "2022-03-23T08:59:06.985Z"
   },
   {
    "duration": 64,
    "start_time": "2022-03-23T08:59:07.028Z"
   },
   {
    "duration": 9,
    "start_time": "2022-03-23T08:59:07.095Z"
   },
   {
    "duration": 6,
    "start_time": "2022-03-23T08:59:07.107Z"
   },
   {
    "duration": 11,
    "start_time": "2022-03-23T08:59:07.116Z"
   },
   {
    "duration": 39,
    "start_time": "2022-03-23T08:59:07.129Z"
   },
   {
    "duration": 12,
    "start_time": "2022-03-23T08:59:07.171Z"
   },
   {
    "duration": 8,
    "start_time": "2022-03-23T08:59:07.186Z"
   },
   {
    "duration": 10,
    "start_time": "2022-03-23T08:59:07.196Z"
   },
   {
    "duration": 7,
    "start_time": "2022-03-23T08:59:07.209Z"
   },
   {
    "duration": 53,
    "start_time": "2022-03-23T08:59:07.219Z"
   },
   {
    "duration": 8,
    "start_time": "2022-03-23T08:59:07.276Z"
   },
   {
    "duration": 11,
    "start_time": "2022-03-23T08:59:07.287Z"
   },
   {
    "duration": 7,
    "start_time": "2022-03-23T08:59:07.301Z"
   },
   {
    "duration": 11,
    "start_time": "2022-03-23T08:59:07.311Z"
   },
   {
    "duration": 8,
    "start_time": "2022-03-23T08:59:07.367Z"
   },
   {
    "duration": 11,
    "start_time": "2022-03-23T08:59:07.377Z"
   },
   {
    "duration": 8,
    "start_time": "2022-03-23T08:59:07.390Z"
   },
   {
    "duration": 10,
    "start_time": "2022-03-23T08:59:07.400Z"
   },
   {
    "duration": 7,
    "start_time": "2022-03-23T08:59:07.413Z"
   },
   {
    "duration": 50,
    "start_time": "2022-03-23T08:59:07.422Z"
   },
   {
    "duration": 7,
    "start_time": "2022-03-23T08:59:07.475Z"
   },
   {
    "duration": 17,
    "start_time": "2022-03-23T08:59:07.485Z"
   },
   {
    "duration": 37,
    "start_time": "2022-03-23T08:59:07.504Z"
   },
   {
    "duration": 29,
    "start_time": "2022-03-23T08:59:07.543Z"
   },
   {
    "duration": 15,
    "start_time": "2022-03-23T08:59:07.574Z"
   },
   {
    "duration": 10,
    "start_time": "2022-03-23T08:59:07.591Z"
   },
   {
    "duration": 13,
    "start_time": "2022-03-23T08:59:07.603Z"
   },
   {
    "duration": 14,
    "start_time": "2022-03-23T08:59:07.618Z"
   },
   {
    "duration": 23,
    "start_time": "2022-03-23T08:59:07.667Z"
   },
   {
    "duration": 7,
    "start_time": "2022-03-23T08:59:07.693Z"
   },
   {
    "duration": 19,
    "start_time": "2022-03-23T08:59:07.703Z"
   },
   {
    "duration": 55,
    "start_time": "2022-03-23T08:59:07.724Z"
   },
   {
    "duration": 18,
    "start_time": "2022-03-23T08:59:07.782Z"
   },
   {
    "duration": 21,
    "start_time": "2022-03-23T08:59:07.802Z"
   },
   {
    "duration": 40,
    "start_time": "2022-03-23T08:59:07.826Z"
   },
   {
    "duration": 23,
    "start_time": "2022-03-23T08:59:07.869Z"
   },
   {
    "duration": 7,
    "start_time": "2022-03-23T08:59:07.894Z"
   },
   {
    "duration": 535,
    "start_time": "2022-03-23T08:59:07.904Z"
   },
   {
    "duration": 5,
    "start_time": "2022-03-23T08:59:08.441Z"
   },
   {
    "duration": 20,
    "start_time": "2022-03-23T08:59:08.448Z"
   },
   {
    "duration": 29,
    "start_time": "2022-03-23T08:59:08.469Z"
   },
   {
    "duration": 9,
    "start_time": "2022-03-23T08:59:08.500Z"
   },
   {
    "duration": 11,
    "start_time": "2022-03-23T08:59:08.511Z"
   },
   {
    "duration": 653,
    "start_time": "2022-03-23T08:59:08.524Z"
   },
   {
    "duration": 13,
    "start_time": "2022-03-23T08:59:09.185Z"
   },
   {
    "duration": 590,
    "start_time": "2022-03-23T08:59:09.200Z"
   },
   {
    "duration": 7,
    "start_time": "2022-03-23T08:59:09.792Z"
   },
   {
    "duration": 13,
    "start_time": "2022-03-23T08:59:09.802Z"
   },
   {
    "duration": 323,
    "start_time": "2022-03-23T08:59:09.817Z"
   },
   {
    "duration": 11,
    "start_time": "2022-03-23T08:59:10.143Z"
   },
   {
    "duration": 384,
    "start_time": "2022-03-23T08:59:10.168Z"
   },
   {
    "duration": 15,
    "start_time": "2022-03-23T08:59:10.554Z"
   },
   {
    "duration": 13,
    "start_time": "2022-03-23T08:59:10.572Z"
   },
   {
    "duration": 637,
    "start_time": "2022-03-23T08:59:10.588Z"
   },
   {
    "duration": 3,
    "start_time": "2022-03-23T08:59:11.228Z"
   },
   {
    "duration": 22,
    "start_time": "2022-03-23T08:59:11.233Z"
   },
   {
    "duration": 37,
    "start_time": "2022-03-23T08:59:11.258Z"
   },
   {
    "duration": 6,
    "start_time": "2022-03-23T08:59:11.297Z"
   },
   {
    "duration": 63,
    "start_time": "2022-03-23T08:59:11.306Z"
   },
   {
    "duration": 8,
    "start_time": "2022-03-23T08:59:11.372Z"
   },
   {
    "duration": 275,
    "start_time": "2022-03-23T08:59:11.383Z"
   },
   {
    "duration": 6,
    "start_time": "2022-03-23T08:59:11.661Z"
   },
   {
    "duration": 3,
    "start_time": "2022-03-23T08:59:11.670Z"
   },
   {
    "duration": 43,
    "start_time": "2022-03-23T08:59:11.675Z"
   },
   {
    "duration": 10,
    "start_time": "2022-03-23T08:59:11.720Z"
   },
   {
    "duration": 6,
    "start_time": "2022-03-23T09:15:58.926Z"
   },
   {
    "duration": 15,
    "start_time": "2022-03-23T09:16:33.676Z"
   },
   {
    "duration": 15,
    "start_time": "2022-03-23T09:17:13.378Z"
   },
   {
    "duration": 2623,
    "start_time": "2022-03-23T09:19:52.073Z"
   },
   {
    "duration": 13,
    "start_time": "2022-03-23T10:19:54.656Z"
   },
   {
    "duration": 9,
    "start_time": "2022-03-23T10:19:57.798Z"
   },
   {
    "duration": 11,
    "start_time": "2022-03-23T10:20:08.457Z"
   },
   {
    "duration": 31,
    "start_time": "2022-03-23T10:21:54.874Z"
   },
   {
    "duration": 840,
    "start_time": "2022-03-23T10:23:16.900Z"
   },
   {
    "duration": 101,
    "start_time": "2022-03-23T10:23:17.742Z"
   },
   {
    "duration": 30,
    "start_time": "2022-03-23T10:23:17.845Z"
   },
   {
    "duration": 51,
    "start_time": "2022-03-23T10:23:17.878Z"
   },
   {
    "duration": 38,
    "start_time": "2022-03-23T10:23:17.931Z"
   },
   {
    "duration": 13,
    "start_time": "2022-03-23T10:23:17.972Z"
   },
   {
    "duration": 10,
    "start_time": "2022-03-23T10:23:17.987Z"
   },
   {
    "duration": 7,
    "start_time": "2022-03-23T10:23:17.999Z"
   },
   {
    "duration": 11,
    "start_time": "2022-03-23T10:23:18.009Z"
   },
   {
    "duration": 9,
    "start_time": "2022-03-23T10:23:18.067Z"
   },
   {
    "duration": 5,
    "start_time": "2022-03-23T10:23:18.079Z"
   },
   {
    "duration": 7,
    "start_time": "2022-03-23T10:23:18.087Z"
   },
   {
    "duration": 4,
    "start_time": "2022-03-23T10:23:18.096Z"
   },
   {
    "duration": 6,
    "start_time": "2022-03-23T10:23:18.102Z"
   },
   {
    "duration": 5,
    "start_time": "2022-03-23T10:23:18.110Z"
   },
   {
    "duration": 53,
    "start_time": "2022-03-23T10:23:18.117Z"
   },
   {
    "duration": 9,
    "start_time": "2022-03-23T10:23:18.172Z"
   },
   {
    "duration": 4,
    "start_time": "2022-03-23T10:23:18.183Z"
   },
   {
    "duration": 11,
    "start_time": "2022-03-23T10:23:18.190Z"
   },
   {
    "duration": 9,
    "start_time": "2022-03-23T10:23:18.204Z"
   },
   {
    "duration": 4,
    "start_time": "2022-03-23T10:23:18.215Z"
   },
   {
    "duration": 46,
    "start_time": "2022-03-23T10:23:18.221Z"
   },
   {
    "duration": 7,
    "start_time": "2022-03-23T10:23:18.270Z"
   },
   {
    "duration": 12,
    "start_time": "2022-03-23T10:23:18.279Z"
   },
   {
    "duration": 8,
    "start_time": "2022-03-23T10:23:18.293Z"
   },
   {
    "duration": 6,
    "start_time": "2022-03-23T10:23:18.303Z"
   },
   {
    "duration": 9,
    "start_time": "2022-03-23T10:23:18.311Z"
   },
   {
    "duration": 51,
    "start_time": "2022-03-23T10:23:18.327Z"
   },
   {
    "duration": 37,
    "start_time": "2022-03-23T10:23:18.380Z"
   },
   {
    "duration": 60,
    "start_time": "2022-03-23T10:23:18.419Z"
   },
   {
    "duration": 13,
    "start_time": "2022-03-23T10:23:18.482Z"
   },
   {
    "duration": 9,
    "start_time": "2022-03-23T10:23:18.498Z"
   },
   {
    "duration": 11,
    "start_time": "2022-03-23T10:23:18.509Z"
   },
   {
    "duration": 7,
    "start_time": "2022-03-23T10:23:18.521Z"
   },
   {
    "duration": 9,
    "start_time": "2022-03-23T10:23:18.567Z"
   },
   {
    "duration": 8,
    "start_time": "2022-03-23T10:23:18.578Z"
   },
   {
    "duration": 11,
    "start_time": "2022-03-23T10:23:18.588Z"
   },
   {
    "duration": 9,
    "start_time": "2022-03-23T10:23:18.601Z"
   },
   {
    "duration": 10,
    "start_time": "2022-03-23T10:23:18.612Z"
   },
   {
    "duration": 43,
    "start_time": "2022-03-23T10:23:18.624Z"
   },
   {
    "duration": 10,
    "start_time": "2022-03-23T10:23:18.670Z"
   },
   {
    "duration": 9,
    "start_time": "2022-03-23T10:23:18.683Z"
   },
   {
    "duration": 12,
    "start_time": "2022-03-23T10:23:18.694Z"
   },
   {
    "duration": 10,
    "start_time": "2022-03-23T10:23:18.708Z"
   },
   {
    "duration": 51,
    "start_time": "2022-03-23T10:23:18.720Z"
   },
   {
    "duration": 6,
    "start_time": "2022-03-23T10:23:18.773Z"
   },
   {
    "duration": 10,
    "start_time": "2022-03-23T10:23:18.782Z"
   },
   {
    "duration": 6,
    "start_time": "2022-03-23T10:23:18.795Z"
   },
   {
    "duration": 10,
    "start_time": "2022-03-23T10:23:18.803Z"
   },
   {
    "duration": 7,
    "start_time": "2022-03-23T10:23:18.815Z"
   },
   {
    "duration": 13,
    "start_time": "2022-03-23T10:23:18.868Z"
   },
   {
    "duration": 8,
    "start_time": "2022-03-23T10:23:18.884Z"
   },
   {
    "duration": 10,
    "start_time": "2022-03-23T10:23:18.895Z"
   },
   {
    "duration": 62,
    "start_time": "2022-03-23T10:23:18.907Z"
   },
   {
    "duration": 6,
    "start_time": "2022-03-23T10:23:18.971Z"
   },
   {
    "duration": 21,
    "start_time": "2022-03-23T10:23:18.980Z"
   },
   {
    "duration": 18,
    "start_time": "2022-03-23T10:23:19.003Z"
   },
   {
    "duration": 48,
    "start_time": "2022-03-23T10:23:19.024Z"
   },
   {
    "duration": 21,
    "start_time": "2022-03-23T10:23:19.074Z"
   },
   {
    "duration": 5,
    "start_time": "2022-03-23T10:23:19.097Z"
   },
   {
    "duration": 23,
    "start_time": "2022-03-23T10:23:19.104Z"
   },
   {
    "duration": 38,
    "start_time": "2022-03-23T10:23:19.130Z"
   },
   {
    "duration": 531,
    "start_time": "2022-03-23T10:23:19.170Z"
   },
   {
    "duration": 6,
    "start_time": "2022-03-23T10:23:19.703Z"
   },
   {
    "duration": 7,
    "start_time": "2022-03-23T10:23:19.711Z"
   },
   {
    "duration": 49,
    "start_time": "2022-03-23T10:23:19.720Z"
   },
   {
    "duration": 7,
    "start_time": "2022-03-23T10:23:19.771Z"
   },
   {
    "duration": 12,
    "start_time": "2022-03-23T10:23:19.781Z"
   },
   {
    "duration": 659,
    "start_time": "2022-03-23T10:23:19.795Z"
   },
   {
    "duration": 19,
    "start_time": "2022-03-23T10:23:20.456Z"
   },
   {
    "duration": 583,
    "start_time": "2022-03-23T10:23:20.477Z"
   },
   {
    "duration": 8,
    "start_time": "2022-03-23T10:23:21.068Z"
   },
   {
    "duration": 15,
    "start_time": "2022-03-23T10:23:21.079Z"
   },
   {
    "duration": 318,
    "start_time": "2022-03-23T10:23:21.096Z"
   },
   {
    "duration": 13,
    "start_time": "2022-03-23T10:23:21.417Z"
   },
   {
    "duration": 419,
    "start_time": "2022-03-23T10:23:21.432Z"
   },
   {
    "duration": 21,
    "start_time": "2022-03-23T10:23:21.854Z"
   },
   {
    "duration": 15,
    "start_time": "2022-03-23T10:23:21.877Z"
   },
   {
    "duration": 678,
    "start_time": "2022-03-23T10:23:21.895Z"
   },
   {
    "duration": 3,
    "start_time": "2022-03-23T10:23:22.575Z"
   },
   {
    "duration": 17,
    "start_time": "2022-03-23T10:23:22.580Z"
   },
   {
    "duration": 30,
    "start_time": "2022-03-23T10:23:22.604Z"
   },
   {
    "duration": 7,
    "start_time": "2022-03-23T10:23:22.668Z"
   },
   {
    "duration": 34,
    "start_time": "2022-03-23T10:23:22.677Z"
   },
   {
    "duration": 14,
    "start_time": "2022-03-23T10:23:22.713Z"
   },
   {
    "duration": 46,
    "start_time": "2022-03-23T10:23:22.729Z"
   },
   {
    "duration": 2643,
    "start_time": "2022-03-23T10:23:22.777Z"
   },
   {
    "duration": 21,
    "start_time": "2022-03-23T10:23:25.422Z"
   },
   {
    "duration": 4,
    "start_time": "2022-03-23T10:23:25.445Z"
   },
   {
    "duration": 44,
    "start_time": "2022-03-23T10:23:25.451Z"
   },
   {
    "duration": 11,
    "start_time": "2022-03-23T10:23:25.497Z"
   },
   {
    "duration": 12,
    "start_time": "2022-03-23T10:24:32.767Z"
   },
   {
    "duration": 11,
    "start_time": "2022-03-23T10:27:26.992Z"
   },
   {
    "duration": 6,
    "start_time": "2022-03-23T10:27:32.740Z"
   },
   {
    "duration": 149,
    "start_time": "2022-03-23T10:30:09.739Z"
   },
   {
    "duration": 25,
    "start_time": "2022-03-23T11:03:56.030Z"
   },
   {
    "duration": 30,
    "start_time": "2022-03-23T11:04:29.246Z"
   },
   {
    "duration": 27,
    "start_time": "2022-03-23T11:04:43.081Z"
   },
   {
    "duration": 19,
    "start_time": "2022-03-23T11:41:13.329Z"
   },
   {
    "duration": 14,
    "start_time": "2022-03-23T11:41:34.008Z"
   },
   {
    "duration": 2709,
    "start_time": "2022-03-23T11:43:14.164Z"
   },
   {
    "duration": 43,
    "start_time": "2022-03-23T12:17:39.221Z"
   },
   {
    "duration": 20,
    "start_time": "2022-03-23T12:17:58.827Z"
   },
   {
    "duration": 19,
    "start_time": "2022-03-23T12:19:02.052Z"
   },
   {
    "duration": 10,
    "start_time": "2022-03-23T12:20:53.631Z"
   },
   {
    "duration": 25,
    "start_time": "2022-03-23T12:59:42.944Z"
   },
   {
    "duration": 5,
    "start_time": "2022-03-23T13:01:20.000Z"
   },
   {
    "duration": 12,
    "start_time": "2022-03-23T13:01:21.152Z"
   },
   {
    "duration": 14,
    "start_time": "2022-03-23T13:02:21.804Z"
   },
   {
    "duration": 8,
    "start_time": "2022-03-23T13:05:39.169Z"
   },
   {
    "duration": 13,
    "start_time": "2022-03-23T13:20:28.480Z"
   },
   {
    "duration": 14,
    "start_time": "2022-03-23T13:28:27.909Z"
   },
   {
    "duration": 10,
    "start_time": "2022-03-23T13:29:14.228Z"
   },
   {
    "duration": 9,
    "start_time": "2022-03-23T13:29:38.021Z"
   },
   {
    "duration": 10,
    "start_time": "2022-03-23T13:29:56.682Z"
   },
   {
    "duration": 10,
    "start_time": "2022-03-23T13:30:21.968Z"
   },
   {
    "duration": 9,
    "start_time": "2022-03-23T13:30:44.607Z"
   },
   {
    "duration": 4,
    "start_time": "2022-03-23T13:40:42.152Z"
   },
   {
    "duration": 38,
    "start_time": "2022-03-23T13:40:44.639Z"
   },
   {
    "duration": 33,
    "start_time": "2022-03-23T13:41:08.145Z"
   },
   {
    "duration": 10,
    "start_time": "2022-03-23T13:43:06.778Z"
   },
   {
    "duration": 11,
    "start_time": "2022-03-23T13:55:49.638Z"
   },
   {
    "duration": 14,
    "start_time": "2022-03-23T14:41:12.671Z"
   },
   {
    "duration": 11,
    "start_time": "2022-03-23T14:44:11.277Z"
   },
   {
    "duration": 11,
    "start_time": "2022-03-23T14:47:25.026Z"
   },
   {
    "duration": 16,
    "start_time": "2022-03-23T14:49:46.812Z"
   },
   {
    "duration": 23,
    "start_time": "2022-03-23T14:53:45.051Z"
   },
   {
    "duration": 21,
    "start_time": "2022-03-23T14:56:16.960Z"
   },
   {
    "duration": 23,
    "start_time": "2022-03-23T14:58:05.697Z"
   },
   {
    "duration": 23,
    "start_time": "2022-03-23T15:00:50.207Z"
   },
   {
    "duration": 23,
    "start_time": "2022-03-23T15:01:26.823Z"
   },
   {
    "duration": 4,
    "start_time": "2022-03-23T15:11:54.222Z"
   },
   {
    "duration": 31,
    "start_time": "2022-03-23T15:16:18.688Z"
   },
   {
    "duration": 6,
    "start_time": "2022-03-23T15:24:00.146Z"
   },
   {
    "duration": 6,
    "start_time": "2022-03-23T15:24:27.469Z"
   },
   {
    "duration": 48,
    "start_time": "2022-03-23T15:30:09.380Z"
   },
   {
    "duration": 145,
    "start_time": "2022-03-23T15:31:01.448Z"
   },
   {
    "duration": 33,
    "start_time": "2022-03-23T15:31:13.575Z"
   },
   {
    "duration": 7,
    "start_time": "2022-03-23T15:32:35.607Z"
   },
   {
    "duration": 42,
    "start_time": "2022-03-23T15:34:33.715Z"
   },
   {
    "duration": 7,
    "start_time": "2022-03-23T15:34:35.539Z"
   },
   {
    "duration": 33,
    "start_time": "2022-03-23T15:35:33.192Z"
   },
   {
    "duration": 3,
    "start_time": "2022-03-23T15:40:32.877Z"
   },
   {
    "duration": 4,
    "start_time": "2022-03-23T16:09:06.899Z"
   },
   {
    "duration": 5,
    "start_time": "2022-03-23T16:20:41.562Z"
   },
   {
    "duration": 14,
    "start_time": "2022-03-23T16:20:55.662Z"
   },
   {
    "duration": 156,
    "start_time": "2022-03-23T16:21:15.720Z"
   },
   {
    "duration": 19,
    "start_time": "2022-03-23T16:36:40.446Z"
   },
   {
    "duration": 4,
    "start_time": "2022-03-23T16:41:52.899Z"
   },
   {
    "duration": 5,
    "start_time": "2022-03-23T16:42:35.296Z"
   },
   {
    "duration": 3,
    "start_time": "2022-03-23T16:42:46.984Z"
   },
   {
    "duration": 904,
    "start_time": "2022-03-23T16:43:03.619Z"
   },
   {
    "duration": 102,
    "start_time": "2022-03-23T16:43:04.525Z"
   },
   {
    "duration": 21,
    "start_time": "2022-03-23T16:43:04.630Z"
   },
   {
    "duration": 49,
    "start_time": "2022-03-23T16:43:04.668Z"
   },
   {
    "duration": 13,
    "start_time": "2022-03-23T16:43:04.720Z"
   },
   {
    "duration": 36,
    "start_time": "2022-03-23T16:43:04.736Z"
   },
   {
    "duration": 12,
    "start_time": "2022-03-23T16:43:04.774Z"
   },
   {
    "duration": 14,
    "start_time": "2022-03-23T16:43:04.788Z"
   },
   {
    "duration": 17,
    "start_time": "2022-03-23T16:43:04.804Z"
   },
   {
    "duration": 12,
    "start_time": "2022-03-23T16:43:04.824Z"
   },
   {
    "duration": 32,
    "start_time": "2022-03-23T16:43:04.838Z"
   },
   {
    "duration": 18,
    "start_time": "2022-03-23T16:43:04.872Z"
   },
   {
    "duration": 25,
    "start_time": "2022-03-23T16:43:04.892Z"
   },
   {
    "duration": 14,
    "start_time": "2022-03-23T16:43:04.919Z"
   },
   {
    "duration": 21,
    "start_time": "2022-03-23T16:43:04.935Z"
   },
   {
    "duration": 46,
    "start_time": "2022-03-23T16:43:04.959Z"
   },
   {
    "duration": 39,
    "start_time": "2022-03-23T16:43:05.008Z"
   },
   {
    "duration": 6,
    "start_time": "2022-03-23T16:43:05.050Z"
   },
   {
    "duration": 40,
    "start_time": "2022-03-23T16:43:05.059Z"
   },
   {
    "duration": 37,
    "start_time": "2022-03-23T16:43:05.101Z"
   },
   {
    "duration": 12,
    "start_time": "2022-03-23T16:43:05.140Z"
   },
   {
    "duration": 18,
    "start_time": "2022-03-23T16:43:05.154Z"
   },
   {
    "duration": 23,
    "start_time": "2022-03-23T16:43:05.174Z"
   },
   {
    "duration": 22,
    "start_time": "2022-03-23T16:43:05.199Z"
   },
   {
    "duration": 18,
    "start_time": "2022-03-23T16:43:05.223Z"
   },
   {
    "duration": 17,
    "start_time": "2022-03-23T16:43:05.243Z"
   },
   {
    "duration": 40,
    "start_time": "2022-03-23T16:43:05.262Z"
   },
   {
    "duration": 29,
    "start_time": "2022-03-23T16:43:05.308Z"
   },
   {
    "duration": 31,
    "start_time": "2022-03-23T16:43:05.339Z"
   },
   {
    "duration": 7,
    "start_time": "2022-03-23T16:43:05.372Z"
   },
   {
    "duration": 14,
    "start_time": "2022-03-23T16:43:05.381Z"
   },
   {
    "duration": 14,
    "start_time": "2022-03-23T16:43:05.397Z"
   },
   {
    "duration": 19,
    "start_time": "2022-03-23T16:43:05.413Z"
   },
   {
    "duration": 31,
    "start_time": "2022-03-23T16:43:05.434Z"
   },
   {
    "duration": 15,
    "start_time": "2022-03-23T16:43:05.467Z"
   },
   {
    "duration": 7,
    "start_time": "2022-03-23T16:43:05.484Z"
   },
   {
    "duration": 17,
    "start_time": "2022-03-23T16:43:05.493Z"
   },
   {
    "duration": 7,
    "start_time": "2022-03-23T16:43:05.512Z"
   },
   {
    "duration": 11,
    "start_time": "2022-03-23T16:43:05.521Z"
   },
   {
    "duration": 39,
    "start_time": "2022-03-23T16:43:05.534Z"
   },
   {
    "duration": 10,
    "start_time": "2022-03-23T16:43:05.575Z"
   },
   {
    "duration": 7,
    "start_time": "2022-03-23T16:43:05.587Z"
   },
   {
    "duration": 10,
    "start_time": "2022-03-23T16:43:05.596Z"
   },
   {
    "duration": 8,
    "start_time": "2022-03-23T16:43:05.608Z"
   },
   {
    "duration": 11,
    "start_time": "2022-03-23T16:43:05.618Z"
   },
   {
    "duration": 8,
    "start_time": "2022-03-23T16:43:05.669Z"
   },
   {
    "duration": 12,
    "start_time": "2022-03-23T16:43:05.680Z"
   },
   {
    "duration": 9,
    "start_time": "2022-03-23T16:43:05.694Z"
   },
   {
    "duration": 12,
    "start_time": "2022-03-23T16:43:05.705Z"
   },
   {
    "duration": 49,
    "start_time": "2022-03-23T16:43:05.720Z"
   },
   {
    "duration": 8,
    "start_time": "2022-03-23T16:43:05.772Z"
   },
   {
    "duration": 11,
    "start_time": "2022-03-23T16:43:05.782Z"
   },
   {
    "duration": 8,
    "start_time": "2022-03-23T16:43:05.795Z"
   },
   {
    "duration": 74,
    "start_time": "2022-03-23T16:43:05.806Z"
   },
   {
    "duration": 6,
    "start_time": "2022-03-23T16:43:05.883Z"
   },
   {
    "duration": 25,
    "start_time": "2022-03-23T16:43:05.891Z"
   },
   {
    "duration": 19,
    "start_time": "2022-03-23T16:43:05.918Z"
   },
   {
    "duration": 38,
    "start_time": "2022-03-23T16:43:05.939Z"
   },
   {
    "duration": 20,
    "start_time": "2022-03-23T16:43:05.979Z"
   },
   {
    "duration": 7,
    "start_time": "2022-03-23T16:43:06.001Z"
   },
   {
    "duration": 6,
    "start_time": "2022-03-23T16:43:06.010Z"
   },
   {
    "duration": 544,
    "start_time": "2022-03-23T16:43:06.019Z"
   },
   {
    "duration": 5,
    "start_time": "2022-03-23T16:43:06.566Z"
   },
   {
    "duration": 10,
    "start_time": "2022-03-23T16:43:06.573Z"
   },
   {
    "duration": 24,
    "start_time": "2022-03-23T16:43:06.585Z"
   },
   {
    "duration": 13,
    "start_time": "2022-03-23T16:43:06.612Z"
   },
   {
    "duration": 650,
    "start_time": "2022-03-23T16:43:06.627Z"
   },
   {
    "duration": 12,
    "start_time": "2022-03-23T16:43:07.280Z"
   },
   {
    "duration": 594,
    "start_time": "2022-03-23T16:43:07.294Z"
   },
   {
    "duration": 12,
    "start_time": "2022-03-23T16:43:07.891Z"
   },
   {
    "duration": 321,
    "start_time": "2022-03-23T16:43:07.906Z"
   },
   {
    "duration": 12,
    "start_time": "2022-03-23T16:43:08.229Z"
   },
   {
    "duration": 406,
    "start_time": "2022-03-23T16:43:08.244Z"
   },
   {
    "duration": 16,
    "start_time": "2022-03-23T16:43:08.652Z"
   },
   {
    "duration": 14,
    "start_time": "2022-03-23T16:43:08.671Z"
   },
   {
    "duration": 641,
    "start_time": "2022-03-23T16:43:08.687Z"
   },
   {
    "duration": 14,
    "start_time": "2022-03-23T16:43:09.330Z"
   },
   {
    "duration": 29,
    "start_time": "2022-03-23T16:43:09.346Z"
   },
   {
    "duration": 2482,
    "start_time": "2022-03-23T16:43:09.378Z"
   },
   {
    "duration": 23,
    "start_time": "2022-03-23T16:43:11.863Z"
   },
   {
    "duration": 10,
    "start_time": "2022-03-23T16:43:11.888Z"
   },
   {
    "duration": 25,
    "start_time": "2022-03-23T16:43:11.906Z"
   },
   {
    "duration": 37,
    "start_time": "2022-03-23T16:43:11.933Z"
   },
   {
    "duration": 13,
    "start_time": "2022-03-23T16:43:11.972Z"
   },
   {
    "duration": 20,
    "start_time": "2022-03-23T16:43:11.987Z"
   },
   {
    "duration": 13,
    "start_time": "2022-03-23T16:43:12.009Z"
   },
   {
    "duration": 4,
    "start_time": "2022-03-23T16:43:12.024Z"
   },
   {
    "duration": 61,
    "start_time": "2022-03-23T16:43:12.030Z"
   },
   {
    "duration": 23,
    "start_time": "2022-03-23T16:43:12.093Z"
   },
   {
    "duration": 2,
    "start_time": "2022-03-23T16:43:12.119Z"
   },
   {
    "duration": 5,
    "start_time": "2022-03-23T16:43:12.124Z"
   },
   {
    "duration": 65,
    "start_time": "2022-03-23T16:43:12.132Z"
   },
   {
    "duration": 3,
    "start_time": "2022-03-23T16:43:12.199Z"
   },
   {
    "duration": 6,
    "start_time": "2022-03-23T16:43:12.204Z"
   },
   {
    "duration": 5,
    "start_time": "2022-03-23T16:43:12.213Z"
   },
   {
    "duration": 6,
    "start_time": "2022-03-23T16:43:12.220Z"
   },
   {
    "duration": 145,
    "start_time": "2022-03-23T16:43:12.228Z"
   },
   {
    "duration": 4,
    "start_time": "2022-03-23T16:43:12.375Z"
   },
   {
    "duration": 119,
    "start_time": "2022-03-23T16:45:45.410Z"
   },
   {
    "duration": 34,
    "start_time": "2022-03-23T16:45:58.675Z"
   },
   {
    "duration": 28,
    "start_time": "2022-03-23T16:51:31.311Z"
   },
   {
    "duration": 107,
    "start_time": "2022-03-23T16:54:24.730Z"
   },
   {
    "duration": 114,
    "start_time": "2022-03-23T16:54:41.906Z"
   },
   {
    "duration": 5,
    "start_time": "2022-03-23T16:55:13.569Z"
   },
   {
    "duration": 6,
    "start_time": "2022-03-23T16:55:14.304Z"
   },
   {
    "duration": 182,
    "start_time": "2022-03-23T16:55:15.168Z"
   },
   {
    "duration": 109,
    "start_time": "2022-03-23T16:56:26.020Z"
   },
   {
    "duration": 105,
    "start_time": "2022-03-23T16:56:37.676Z"
   },
   {
    "duration": 44,
    "start_time": "2022-03-23T16:57:14.836Z"
   },
   {
    "duration": 4,
    "start_time": "2022-03-23T17:00:48.777Z"
   },
   {
    "duration": 110,
    "start_time": "2022-03-23T17:00:49.745Z"
   },
   {
    "duration": 26,
    "start_time": "2022-03-23T17:00:51.234Z"
   },
   {
    "duration": 5,
    "start_time": "2022-03-23T17:02:06.492Z"
   },
   {
    "duration": 3,
    "start_time": "2022-03-23T17:03:15.368Z"
   },
   {
    "duration": 4,
    "start_time": "2022-03-23T17:12:39.253Z"
   },
   {
    "duration": 14,
    "start_time": "2022-03-23T17:13:13.448Z"
   },
   {
    "duration": 4,
    "start_time": "2022-03-23T17:14:58.401Z"
   },
   {
    "duration": 6,
    "start_time": "2022-03-23T17:15:00.177Z"
   },
   {
    "duration": 5,
    "start_time": "2022-03-23T17:15:21.728Z"
   },
   {
    "duration": 100,
    "start_time": "2022-03-23T17:15:26.073Z"
   },
   {
    "duration": 26,
    "start_time": "2022-03-23T17:15:28.163Z"
   },
   {
    "duration": 4,
    "start_time": "2022-03-23T17:21:10.341Z"
   },
   {
    "duration": 28,
    "start_time": "2022-03-23T17:21:53.069Z"
   },
   {
    "duration": 12,
    "start_time": "2022-03-23T17:22:52.671Z"
   },
   {
    "duration": 5,
    "start_time": "2022-03-23T17:23:04.184Z"
   },
   {
    "duration": 26,
    "start_time": "2022-03-23T17:23:07.842Z"
   },
   {
    "duration": 38,
    "start_time": "2022-03-23T17:26:44.213Z"
   },
   {
    "duration": 31,
    "start_time": "2022-03-23T17:38:28.828Z"
   },
   {
    "duration": 248,
    "start_time": "2022-03-23T17:42:38.285Z"
   },
   {
    "duration": 861,
    "start_time": "2022-03-24T08:08:39.810Z"
   },
   {
    "duration": 85,
    "start_time": "2022-03-24T08:08:40.673Z"
   },
   {
    "duration": 18,
    "start_time": "2022-03-24T08:08:40.759Z"
   },
   {
    "duration": 31,
    "start_time": "2022-03-24T08:08:40.779Z"
   },
   {
    "duration": 33,
    "start_time": "2022-03-24T08:08:40.811Z"
   },
   {
    "duration": 12,
    "start_time": "2022-03-24T08:08:40.846Z"
   },
   {
    "duration": 7,
    "start_time": "2022-03-24T08:08:40.859Z"
   },
   {
    "duration": 8,
    "start_time": "2022-03-24T08:08:40.867Z"
   },
   {
    "duration": 10,
    "start_time": "2022-03-24T08:08:40.877Z"
   },
   {
    "duration": 8,
    "start_time": "2022-03-24T08:08:40.889Z"
   },
   {
    "duration": 9,
    "start_time": "2022-03-24T08:08:40.899Z"
   },
   {
    "duration": 29,
    "start_time": "2022-03-24T08:08:40.910Z"
   },
   {
    "duration": 3,
    "start_time": "2022-03-24T08:08:40.941Z"
   },
   {
    "duration": 13,
    "start_time": "2022-03-24T08:08:40.946Z"
   },
   {
    "duration": 4,
    "start_time": "2022-03-24T08:08:40.960Z"
   },
   {
    "duration": 7,
    "start_time": "2022-03-24T08:08:40.966Z"
   },
   {
    "duration": 10,
    "start_time": "2022-03-24T08:08:40.975Z"
   },
   {
    "duration": 5,
    "start_time": "2022-03-24T08:08:40.987Z"
   },
   {
    "duration": 9,
    "start_time": "2022-03-24T08:08:40.993Z"
   },
   {
    "duration": 10,
    "start_time": "2022-03-24T08:08:41.003Z"
   },
   {
    "duration": 31,
    "start_time": "2022-03-24T08:08:41.014Z"
   },
   {
    "duration": 7,
    "start_time": "2022-03-24T08:08:41.047Z"
   },
   {
    "duration": 6,
    "start_time": "2022-03-24T08:08:41.056Z"
   },
   {
    "duration": 12,
    "start_time": "2022-03-24T08:08:41.063Z"
   },
   {
    "duration": 6,
    "start_time": "2022-03-24T08:08:41.077Z"
   },
   {
    "duration": 7,
    "start_time": "2022-03-24T08:08:41.084Z"
   },
   {
    "duration": 47,
    "start_time": "2022-03-24T08:08:41.093Z"
   },
   {
    "duration": 26,
    "start_time": "2022-03-24T08:08:41.145Z"
   },
   {
    "duration": 8,
    "start_time": "2022-03-24T08:08:41.172Z"
   },
   {
    "duration": 8,
    "start_time": "2022-03-24T08:08:41.182Z"
   },
   {
    "duration": 11,
    "start_time": "2022-03-24T08:08:41.192Z"
   },
   {
    "duration": 11,
    "start_time": "2022-03-24T08:08:41.205Z"
   },
   {
    "duration": 32,
    "start_time": "2022-03-24T08:08:41.218Z"
   },
   {
    "duration": 8,
    "start_time": "2022-03-24T08:08:41.252Z"
   },
   {
    "duration": 16,
    "start_time": "2022-03-24T08:08:41.262Z"
   },
   {
    "duration": 7,
    "start_time": "2022-03-24T08:08:41.280Z"
   },
   {
    "duration": 14,
    "start_time": "2022-03-24T08:08:41.288Z"
   },
   {
    "duration": 8,
    "start_time": "2022-03-24T08:08:41.304Z"
   },
   {
    "duration": 10,
    "start_time": "2022-03-24T08:08:41.313Z"
   },
   {
    "duration": 15,
    "start_time": "2022-03-24T08:08:41.325Z"
   },
   {
    "duration": 15,
    "start_time": "2022-03-24T08:08:41.346Z"
   },
   {
    "duration": 8,
    "start_time": "2022-03-24T08:08:41.363Z"
   },
   {
    "duration": 14,
    "start_time": "2022-03-24T08:08:41.373Z"
   },
   {
    "duration": 5,
    "start_time": "2022-03-24T08:08:41.389Z"
   },
   {
    "duration": 11,
    "start_time": "2022-03-24T08:08:41.395Z"
   },
   {
    "duration": 9,
    "start_time": "2022-03-24T08:08:41.408Z"
   },
   {
    "duration": 8,
    "start_time": "2022-03-24T08:08:41.419Z"
   },
   {
    "duration": 29,
    "start_time": "2022-03-24T08:08:41.428Z"
   },
   {
    "duration": 11,
    "start_time": "2022-03-24T08:08:41.459Z"
   },
   {
    "duration": 8,
    "start_time": "2022-03-24T08:08:41.472Z"
   },
   {
    "duration": 9,
    "start_time": "2022-03-24T08:08:41.482Z"
   },
   {
    "duration": 10,
    "start_time": "2022-03-24T08:08:41.492Z"
   },
   {
    "duration": 6,
    "start_time": "2022-03-24T08:08:41.503Z"
   },
   {
    "duration": 41,
    "start_time": "2022-03-24T08:08:41.511Z"
   },
   {
    "duration": 6,
    "start_time": "2022-03-24T08:08:41.554Z"
   },
   {
    "duration": 17,
    "start_time": "2022-03-24T08:08:41.562Z"
   },
   {
    "duration": 14,
    "start_time": "2022-03-24T08:08:41.581Z"
   },
   {
    "duration": 14,
    "start_time": "2022-03-24T08:08:41.597Z"
   },
   {
    "duration": 18,
    "start_time": "2022-03-24T08:08:41.637Z"
   },
   {
    "duration": 5,
    "start_time": "2022-03-24T08:08:41.657Z"
   },
   {
    "duration": 6,
    "start_time": "2022-03-24T08:08:41.663Z"
   },
   {
    "duration": 334,
    "start_time": "2022-03-24T08:08:41.671Z"
   },
   {
    "duration": 4,
    "start_time": "2022-03-24T08:08:42.007Z"
   },
   {
    "duration": 6,
    "start_time": "2022-03-24T08:08:42.012Z"
   },
   {
    "duration": 26,
    "start_time": "2022-03-24T08:08:42.020Z"
   },
   {
    "duration": 16,
    "start_time": "2022-03-24T08:08:42.048Z"
   },
   {
    "duration": 446,
    "start_time": "2022-03-24T08:08:42.066Z"
   },
   {
    "duration": 9,
    "start_time": "2022-03-24T08:08:42.515Z"
   },
   {
    "duration": 419,
    "start_time": "2022-03-24T08:08:42.525Z"
   },
   {
    "duration": 16,
    "start_time": "2022-03-24T08:08:42.945Z"
   },
   {
    "duration": 216,
    "start_time": "2022-03-24T08:08:42.964Z"
   },
   {
    "duration": 12,
    "start_time": "2022-03-24T08:08:43.183Z"
   },
   {
    "duration": 290,
    "start_time": "2022-03-24T08:08:43.197Z"
   },
   {
    "duration": 10,
    "start_time": "2022-03-24T08:08:43.489Z"
   },
   {
    "duration": 10,
    "start_time": "2022-03-24T08:08:43.501Z"
   },
   {
    "duration": 494,
    "start_time": "2022-03-24T08:08:43.514Z"
   },
   {
    "duration": 10,
    "start_time": "2022-03-24T08:08:44.010Z"
   },
   {
    "duration": 29,
    "start_time": "2022-03-24T08:08:44.022Z"
   },
   {
    "duration": 1761,
    "start_time": "2022-03-24T08:08:44.053Z"
   },
   {
    "duration": 15,
    "start_time": "2022-03-24T08:08:45.816Z"
   },
   {
    "duration": 9,
    "start_time": "2022-03-24T08:08:45.833Z"
   },
   {
    "duration": 26,
    "start_time": "2022-03-24T08:08:45.848Z"
   },
   {
    "duration": 6,
    "start_time": "2022-03-24T08:08:45.876Z"
   },
   {
    "duration": 13,
    "start_time": "2022-03-24T08:08:45.884Z"
   },
   {
    "duration": 13,
    "start_time": "2022-03-24T08:08:45.899Z"
   },
   {
    "duration": 10,
    "start_time": "2022-03-24T08:08:45.913Z"
   },
   {
    "duration": 3,
    "start_time": "2022-03-24T08:08:45.943Z"
   },
   {
    "duration": 33,
    "start_time": "2022-03-24T08:08:45.948Z"
   },
   {
    "duration": 19,
    "start_time": "2022-03-24T08:08:45.983Z"
   },
   {
    "duration": 4,
    "start_time": "2022-03-24T08:08:46.004Z"
   },
   {
    "duration": 41,
    "start_time": "2022-03-24T08:08:46.010Z"
   },
   {
    "duration": 30,
    "start_time": "2022-03-24T08:08:46.053Z"
   },
   {
    "duration": 180,
    "start_time": "2022-03-24T08:08:46.085Z"
   },
   {
    "duration": 138,
    "start_time": "2022-03-24T08:09:51.651Z"
   },
   {
    "duration": 303,
    "start_time": "2022-03-24T08:11:37.186Z"
   },
   {
    "duration": 172,
    "start_time": "2022-03-24T08:11:54.600Z"
   },
   {
    "duration": 165,
    "start_time": "2022-03-24T08:12:25.510Z"
   },
   {
    "duration": 2224,
    "start_time": "2022-03-24T08:34:28.034Z"
   },
   {
    "duration": 28,
    "start_time": "2022-03-24T08:34:56.522Z"
   },
   {
    "duration": 18,
    "start_time": "2022-03-24T08:35:17.026Z"
   },
   {
    "duration": 8,
    "start_time": "2022-03-24T08:40:26.682Z"
   },
   {
    "duration": 9,
    "start_time": "2022-03-24T08:40:37.955Z"
   },
   {
    "duration": 8,
    "start_time": "2022-03-24T08:41:21.309Z"
   },
   {
    "duration": 6,
    "start_time": "2022-03-24T08:53:35.256Z"
   },
   {
    "duration": 8,
    "start_time": "2022-03-24T08:58:07.449Z"
   },
   {
    "duration": 6,
    "start_time": "2022-03-24T08:58:09.334Z"
   },
   {
    "duration": 8,
    "start_time": "2022-03-24T08:58:10.070Z"
   },
   {
    "duration": 7,
    "start_time": "2022-03-24T08:58:13.279Z"
   },
   {
    "duration": 751,
    "start_time": "2022-03-24T08:58:44.016Z"
   },
   {
    "duration": 110,
    "start_time": "2022-03-24T08:58:44.769Z"
   },
   {
    "duration": 23,
    "start_time": "2022-03-24T08:58:44.881Z"
   },
   {
    "duration": 49,
    "start_time": "2022-03-24T08:58:44.906Z"
   },
   {
    "duration": 12,
    "start_time": "2022-03-24T08:58:44.957Z"
   },
   {
    "duration": 12,
    "start_time": "2022-03-24T08:58:44.970Z"
   },
   {
    "duration": 8,
    "start_time": "2022-03-24T08:58:44.984Z"
   },
   {
    "duration": 7,
    "start_time": "2022-03-24T08:58:44.994Z"
   },
   {
    "duration": 11,
    "start_time": "2022-03-24T08:58:45.039Z"
   },
   {
    "duration": 9,
    "start_time": "2022-03-24T08:58:45.055Z"
   },
   {
    "duration": 5,
    "start_time": "2022-03-24T08:58:45.067Z"
   },
   {
    "duration": 14,
    "start_time": "2022-03-24T08:58:45.074Z"
   },
   {
    "duration": 6,
    "start_time": "2022-03-24T08:58:45.090Z"
   },
   {
    "duration": 8,
    "start_time": "2022-03-24T08:58:45.098Z"
   },
   {
    "duration": 33,
    "start_time": "2022-03-24T08:58:45.107Z"
   },
   {
    "duration": 8,
    "start_time": "2022-03-24T08:58:45.142Z"
   },
   {
    "duration": 9,
    "start_time": "2022-03-24T08:58:45.152Z"
   },
   {
    "duration": 7,
    "start_time": "2022-03-24T08:58:45.163Z"
   },
   {
    "duration": 10,
    "start_time": "2022-03-24T08:58:45.172Z"
   },
   {
    "duration": 11,
    "start_time": "2022-03-24T08:58:45.184Z"
   },
   {
    "duration": 4,
    "start_time": "2022-03-24T08:58:45.196Z"
   },
   {
    "duration": 13,
    "start_time": "2022-03-24T08:58:45.201Z"
   },
   {
    "duration": 26,
    "start_time": "2022-03-24T08:58:45.216Z"
   },
   {
    "duration": 11,
    "start_time": "2022-03-24T08:58:45.243Z"
   },
   {
    "duration": 6,
    "start_time": "2022-03-24T08:58:45.256Z"
   },
   {
    "duration": 8,
    "start_time": "2022-03-24T08:58:45.263Z"
   },
   {
    "duration": 30,
    "start_time": "2022-03-24T08:58:45.273Z"
   },
   {
    "duration": 45,
    "start_time": "2022-03-24T08:58:45.308Z"
   },
   {
    "duration": 9,
    "start_time": "2022-03-24T08:58:45.355Z"
   },
   {
    "duration": 7,
    "start_time": "2022-03-24T08:58:45.367Z"
   },
   {
    "duration": 10,
    "start_time": "2022-03-24T08:58:45.376Z"
   },
   {
    "duration": 8,
    "start_time": "2022-03-24T08:58:45.387Z"
   },
   {
    "duration": 42,
    "start_time": "2022-03-24T08:58:45.396Z"
   },
   {
    "duration": 7,
    "start_time": "2022-03-24T08:58:45.439Z"
   },
   {
    "duration": 11,
    "start_time": "2022-03-24T08:58:45.448Z"
   },
   {
    "duration": 8,
    "start_time": "2022-03-24T08:58:45.460Z"
   },
   {
    "duration": 10,
    "start_time": "2022-03-24T08:58:45.469Z"
   },
   {
    "duration": 16,
    "start_time": "2022-03-24T08:58:45.480Z"
   },
   {
    "duration": 10,
    "start_time": "2022-03-24T08:58:45.498Z"
   },
   {
    "duration": 31,
    "start_time": "2022-03-24T08:58:45.509Z"
   },
   {
    "duration": 19,
    "start_time": "2022-03-24T08:58:45.542Z"
   },
   {
    "duration": 13,
    "start_time": "2022-03-24T08:58:45.563Z"
   },
   {
    "duration": 17,
    "start_time": "2022-03-24T08:58:45.578Z"
   },
   {
    "duration": 9,
    "start_time": "2022-03-24T08:58:45.597Z"
   },
   {
    "duration": 11,
    "start_time": "2022-03-24T08:58:45.608Z"
   },
   {
    "duration": 7,
    "start_time": "2022-03-24T08:58:45.621Z"
   },
   {
    "duration": 14,
    "start_time": "2022-03-24T08:58:45.630Z"
   },
   {
    "duration": 8,
    "start_time": "2022-03-24T08:58:45.646Z"
   },
   {
    "duration": 12,
    "start_time": "2022-03-24T08:58:45.656Z"
   },
   {
    "duration": 14,
    "start_time": "2022-03-24T08:58:45.670Z"
   },
   {
    "duration": 10,
    "start_time": "2022-03-24T08:58:45.685Z"
   },
   {
    "duration": 7,
    "start_time": "2022-03-24T08:58:45.696Z"
   },
   {
    "duration": 12,
    "start_time": "2022-03-24T08:58:45.705Z"
   },
   {
    "duration": 26,
    "start_time": "2022-03-24T08:58:45.718Z"
   },
   {
    "duration": 12,
    "start_time": "2022-03-24T08:58:45.746Z"
   },
   {
    "duration": 12,
    "start_time": "2022-03-24T08:58:45.760Z"
   },
   {
    "duration": 5,
    "start_time": "2022-03-24T08:58:45.774Z"
   },
   {
    "duration": 27,
    "start_time": "2022-03-24T08:58:45.781Z"
   },
   {
    "duration": 31,
    "start_time": "2022-03-24T08:58:45.809Z"
   },
   {
    "duration": 17,
    "start_time": "2022-03-24T08:58:45.841Z"
   },
   {
    "duration": 14,
    "start_time": "2022-03-24T08:58:45.860Z"
   },
   {
    "duration": 14,
    "start_time": "2022-03-24T08:58:45.875Z"
   },
   {
    "duration": 14,
    "start_time": "2022-03-24T08:58:45.891Z"
   },
   {
    "duration": 5,
    "start_time": "2022-03-24T08:58:45.938Z"
   },
   {
    "duration": 10,
    "start_time": "2022-03-24T08:58:45.944Z"
   },
   {
    "duration": 343,
    "start_time": "2022-03-24T08:58:45.956Z"
   },
   {
    "duration": 5,
    "start_time": "2022-03-24T08:58:46.301Z"
   },
   {
    "duration": 6,
    "start_time": "2022-03-24T08:58:46.308Z"
   },
   {
    "duration": 29,
    "start_time": "2022-03-24T08:58:46.316Z"
   },
   {
    "duration": 11,
    "start_time": "2022-03-24T08:58:46.348Z"
   },
   {
    "duration": 463,
    "start_time": "2022-03-24T08:58:46.361Z"
   },
   {
    "duration": 15,
    "start_time": "2022-03-24T08:58:46.827Z"
   },
   {
    "duration": 402,
    "start_time": "2022-03-24T08:58:46.844Z"
   },
   {
    "duration": 9,
    "start_time": "2022-03-24T08:58:47.248Z"
   },
   {
    "duration": 216,
    "start_time": "2022-03-24T08:58:47.259Z"
   },
   {
    "duration": 10,
    "start_time": "2022-03-24T08:58:47.477Z"
   },
   {
    "duration": 275,
    "start_time": "2022-03-24T08:58:47.488Z"
   },
   {
    "duration": 10,
    "start_time": "2022-03-24T08:58:47.765Z"
   },
   {
    "duration": 11,
    "start_time": "2022-03-24T08:58:47.777Z"
   },
   {
    "duration": 498,
    "start_time": "2022-03-24T08:58:47.790Z"
   },
   {
    "duration": 12,
    "start_time": "2022-03-24T08:58:48.290Z"
   },
   {
    "duration": 30,
    "start_time": "2022-03-24T08:58:48.309Z"
   },
   {
    "duration": 1729,
    "start_time": "2022-03-24T08:58:48.341Z"
   },
   {
    "duration": 17,
    "start_time": "2022-03-24T08:58:50.072Z"
   },
   {
    "duration": 9,
    "start_time": "2022-03-24T08:58:50.091Z"
   },
   {
    "duration": 32,
    "start_time": "2022-03-24T08:58:50.102Z"
   },
   {
    "duration": 7,
    "start_time": "2022-03-24T08:58:50.135Z"
   },
   {
    "duration": 16,
    "start_time": "2022-03-24T08:58:50.144Z"
   },
   {
    "duration": 17,
    "start_time": "2022-03-24T08:58:50.162Z"
   },
   {
    "duration": 13,
    "start_time": "2022-03-24T08:58:50.181Z"
   },
   {
    "duration": 3,
    "start_time": "2022-03-24T08:58:50.197Z"
   },
   {
    "duration": 43,
    "start_time": "2022-03-24T08:58:50.202Z"
   },
   {
    "duration": 20,
    "start_time": "2022-03-24T08:58:50.247Z"
   },
   {
    "duration": 5,
    "start_time": "2022-03-24T08:58:50.269Z"
   },
   {
    "duration": 36,
    "start_time": "2022-03-24T08:58:50.275Z"
   },
   {
    "duration": 192,
    "start_time": "2022-03-24T08:58:50.313Z"
   },
   {
    "duration": 32,
    "start_time": "2022-03-24T08:58:50.507Z"
   },
   {
    "duration": 15,
    "start_time": "2022-03-24T08:58:50.541Z"
   },
   {
    "duration": 48,
    "start_time": "2022-03-24T08:58:50.558Z"
   },
   {
    "duration": 3,
    "start_time": "2022-03-24T09:03:06.261Z"
   },
   {
    "duration": 10,
    "start_time": "2022-03-24T09:03:26.957Z"
   },
   {
    "duration": 349,
    "start_time": "2022-03-24T09:30:26.245Z"
   },
   {
    "duration": 385,
    "start_time": "2022-03-24T10:37:01.223Z"
   },
   {
    "duration": 368,
    "start_time": "2022-03-24T10:37:20.141Z"
   },
   {
    "duration": 254,
    "start_time": "2022-03-24T10:40:24.338Z"
   },
   {
    "duration": 10,
    "start_time": "2022-03-24T11:07:41.864Z"
   },
   {
    "duration": 11,
    "start_time": "2022-03-24T11:10:53.140Z"
   },
   {
    "duration": 355,
    "start_time": "2022-03-24T11:32:14.806Z"
   },
   {
    "duration": 521,
    "start_time": "2022-03-24T11:32:41.846Z"
   },
   {
    "duration": 243,
    "start_time": "2022-03-24T11:32:52.421Z"
   },
   {
    "duration": 245,
    "start_time": "2022-03-24T11:33:09.221Z"
   },
   {
    "duration": 288,
    "start_time": "2022-03-24T11:35:26.186Z"
   },
   {
    "duration": 358,
    "start_time": "2022-03-24T11:37:41.527Z"
   },
   {
    "duration": 543,
    "start_time": "2022-03-24T11:56:24.458Z"
   },
   {
    "duration": 236,
    "start_time": "2022-03-24T11:56:39.307Z"
   },
   {
    "duration": 244,
    "start_time": "2022-03-24T11:56:53.451Z"
   },
   {
    "duration": 242,
    "start_time": "2022-03-24T11:57:03.465Z"
   },
   {
    "duration": 355,
    "start_time": "2022-03-24T11:57:27.258Z"
   },
   {
    "duration": 253,
    "start_time": "2022-03-24T11:57:59.266Z"
   },
   {
    "duration": 459,
    "start_time": "2022-03-24T11:59:19.760Z"
   },
   {
    "duration": 354,
    "start_time": "2022-03-24T11:59:54.406Z"
   },
   {
    "duration": 349,
    "start_time": "2022-03-24T12:01:13.081Z"
   },
   {
    "duration": 346,
    "start_time": "2022-03-24T12:01:47.220Z"
   },
   {
    "duration": 369,
    "start_time": "2022-03-24T12:02:50.162Z"
   },
   {
    "duration": 10,
    "start_time": "2022-03-24T12:23:22.265Z"
   },
   {
    "duration": 10,
    "start_time": "2022-03-24T12:23:25.219Z"
   },
   {
    "duration": 214,
    "start_time": "2022-03-24T12:41:20.943Z"
   },
   {
    "duration": 9,
    "start_time": "2022-03-24T13:11:54.409Z"
   },
   {
    "duration": 10,
    "start_time": "2022-03-24T13:12:04.773Z"
   },
   {
    "duration": 70,
    "start_time": "2022-03-24T13:48:57.680Z"
   },
   {
    "duration": 196,
    "start_time": "2022-03-24T13:51:07.938Z"
   },
   {
    "duration": 472,
    "start_time": "2022-03-24T13:51:46.883Z"
   },
   {
    "duration": 244,
    "start_time": "2022-03-24T13:52:43.862Z"
   },
   {
    "duration": 209,
    "start_time": "2022-03-24T13:53:22.430Z"
   },
   {
    "duration": 259,
    "start_time": "2022-03-24T13:53:35.040Z"
   },
   {
    "duration": 13,
    "start_time": "2022-03-24T14:28:59.881Z"
   },
   {
    "duration": 11,
    "start_time": "2022-03-24T14:29:20.789Z"
   },
   {
    "duration": 965,
    "start_time": "2022-03-24T14:31:44.226Z"
   },
   {
    "duration": 10,
    "start_time": "2022-03-24T14:55:35.672Z"
   },
   {
    "duration": 25,
    "start_time": "2022-03-24T14:57:02.145Z"
   },
   {
    "duration": 9,
    "start_time": "2022-03-24T15:20:17.717Z"
   },
   {
    "duration": 11,
    "start_time": "2022-03-24T15:22:20.389Z"
   },
   {
    "duration": 16,
    "start_time": "2022-03-24T17:26:59.644Z"
   },
   {
    "duration": 8,
    "start_time": "2022-03-24T17:29:17.794Z"
   },
   {
    "duration": 16,
    "start_time": "2022-03-24T17:29:50.532Z"
   },
   {
    "duration": 6,
    "start_time": "2022-03-24T17:35:24.594Z"
   },
   {
    "duration": 168,
    "start_time": "2022-03-24T18:25:16.214Z"
   },
   {
    "duration": 162,
    "start_time": "2022-03-24T18:34:03.859Z"
   },
   {
    "duration": 17,
    "start_time": "2022-03-24T18:39:06.108Z"
   },
   {
    "duration": 155,
    "start_time": "2022-03-24T18:41:11.984Z"
   },
   {
    "duration": 1006,
    "start_time": "2022-03-25T06:10:14.497Z"
   },
   {
    "duration": 99,
    "start_time": "2022-03-25T06:10:15.506Z"
   },
   {
    "duration": 19,
    "start_time": "2022-03-25T06:10:15.607Z"
   },
   {
    "duration": 34,
    "start_time": "2022-03-25T06:10:15.628Z"
   },
   {
    "duration": 11,
    "start_time": "2022-03-25T06:10:15.664Z"
   },
   {
    "duration": 33,
    "start_time": "2022-03-25T06:10:15.676Z"
   },
   {
    "duration": 10,
    "start_time": "2022-03-25T06:10:15.711Z"
   },
   {
    "duration": 5,
    "start_time": "2022-03-25T06:10:15.723Z"
   },
   {
    "duration": 8,
    "start_time": "2022-03-25T06:10:15.730Z"
   },
   {
    "duration": 6,
    "start_time": "2022-03-25T06:10:15.741Z"
   },
   {
    "duration": 5,
    "start_time": "2022-03-25T06:10:15.749Z"
   },
   {
    "duration": 47,
    "start_time": "2022-03-25T06:10:15.756Z"
   },
   {
    "duration": 3,
    "start_time": "2022-03-25T06:10:15.805Z"
   },
   {
    "duration": 6,
    "start_time": "2022-03-25T06:10:15.810Z"
   },
   {
    "duration": 4,
    "start_time": "2022-03-25T06:10:15.818Z"
   },
   {
    "duration": 6,
    "start_time": "2022-03-25T06:10:15.824Z"
   },
   {
    "duration": 7,
    "start_time": "2022-03-25T06:10:15.832Z"
   },
   {
    "duration": 8,
    "start_time": "2022-03-25T06:10:15.842Z"
   },
   {
    "duration": 13,
    "start_time": "2022-03-25T06:10:15.852Z"
   },
   {
    "duration": 38,
    "start_time": "2022-03-25T06:10:15.867Z"
   },
   {
    "duration": 5,
    "start_time": "2022-03-25T06:10:15.907Z"
   },
   {
    "duration": 12,
    "start_time": "2022-03-25T06:10:15.914Z"
   },
   {
    "duration": 5,
    "start_time": "2022-03-25T06:10:15.928Z"
   },
   {
    "duration": 13,
    "start_time": "2022-03-25T06:10:15.935Z"
   },
   {
    "duration": 7,
    "start_time": "2022-03-25T06:10:15.949Z"
   },
   {
    "duration": 7,
    "start_time": "2022-03-25T06:10:15.958Z"
   },
   {
    "duration": 52,
    "start_time": "2022-03-25T06:10:15.966Z"
   },
   {
    "duration": 25,
    "start_time": "2022-03-25T06:10:16.024Z"
   },
   {
    "duration": 10,
    "start_time": "2022-03-25T06:10:16.051Z"
   },
   {
    "duration": 7,
    "start_time": "2022-03-25T06:10:16.063Z"
   },
   {
    "duration": 34,
    "start_time": "2022-03-25T06:10:16.071Z"
   },
   {
    "duration": 7,
    "start_time": "2022-03-25T06:10:16.107Z"
   },
   {
    "duration": 9,
    "start_time": "2022-03-25T06:10:16.116Z"
   },
   {
    "duration": 6,
    "start_time": "2022-03-25T06:10:16.127Z"
   },
   {
    "duration": 15,
    "start_time": "2022-03-25T06:10:16.135Z"
   },
   {
    "duration": 8,
    "start_time": "2022-03-25T06:10:16.152Z"
   },
   {
    "duration": 11,
    "start_time": "2022-03-25T06:10:16.162Z"
   },
   {
    "duration": 6,
    "start_time": "2022-03-25T06:10:16.202Z"
   },
   {
    "duration": 10,
    "start_time": "2022-03-25T06:10:16.211Z"
   },
   {
    "duration": 11,
    "start_time": "2022-03-25T06:10:16.223Z"
   },
   {
    "duration": 13,
    "start_time": "2022-03-25T06:10:16.235Z"
   },
   {
    "duration": 9,
    "start_time": "2022-03-25T06:10:16.250Z"
   },
   {
    "duration": 11,
    "start_time": "2022-03-25T06:10:16.261Z"
   },
   {
    "duration": 32,
    "start_time": "2022-03-25T06:10:16.274Z"
   },
   {
    "duration": 11,
    "start_time": "2022-03-25T06:10:16.308Z"
   },
   {
    "duration": 8,
    "start_time": "2022-03-25T06:10:16.321Z"
   },
   {
    "duration": 13,
    "start_time": "2022-03-25T06:10:16.331Z"
   },
   {
    "duration": 13,
    "start_time": "2022-03-25T06:10:16.346Z"
   },
   {
    "duration": 14,
    "start_time": "2022-03-25T06:10:16.361Z"
   },
   {
    "duration": 28,
    "start_time": "2022-03-25T06:10:16.377Z"
   },
   {
    "duration": 10,
    "start_time": "2022-03-25T06:10:16.407Z"
   },
   {
    "duration": 11,
    "start_time": "2022-03-25T06:10:16.419Z"
   },
   {
    "duration": 14,
    "start_time": "2022-03-25T06:10:16.432Z"
   },
   {
    "duration": 8,
    "start_time": "2022-03-25T06:10:16.448Z"
   },
   {
    "duration": 10,
    "start_time": "2022-03-25T06:10:16.458Z"
   },
   {
    "duration": 10,
    "start_time": "2022-03-25T06:10:16.501Z"
   },
   {
    "duration": 6,
    "start_time": "2022-03-25T06:10:16.513Z"
   },
   {
    "duration": 29,
    "start_time": "2022-03-25T06:10:16.520Z"
   },
   {
    "duration": 6,
    "start_time": "2022-03-25T06:10:16.551Z"
   },
   {
    "duration": 47,
    "start_time": "2022-03-25T06:10:16.558Z"
   },
   {
    "duration": 15,
    "start_time": "2022-03-25T06:10:16.607Z"
   },
   {
    "duration": 15,
    "start_time": "2022-03-25T06:10:16.623Z"
   },
   {
    "duration": 16,
    "start_time": "2022-03-25T06:10:16.640Z"
   },
   {
    "duration": 5,
    "start_time": "2022-03-25T06:10:16.658Z"
   },
   {
    "duration": 39,
    "start_time": "2022-03-25T06:10:16.665Z"
   },
   {
    "duration": 356,
    "start_time": "2022-03-25T06:10:16.706Z"
   },
   {
    "duration": 4,
    "start_time": "2022-03-25T06:10:17.064Z"
   },
   {
    "duration": 6,
    "start_time": "2022-03-25T06:10:17.070Z"
   },
   {
    "duration": 32,
    "start_time": "2022-03-25T06:10:17.078Z"
   },
   {
    "duration": 11,
    "start_time": "2022-03-25T06:10:17.112Z"
   },
   {
    "duration": 484,
    "start_time": "2022-03-25T06:10:17.125Z"
   },
   {
    "duration": 11,
    "start_time": "2022-03-25T06:10:17.610Z"
   },
   {
    "duration": 378,
    "start_time": "2022-03-25T06:10:17.623Z"
   },
   {
    "duration": 10,
    "start_time": "2022-03-25T06:10:18.003Z"
   },
   {
    "duration": 206,
    "start_time": "2022-03-25T06:10:18.014Z"
   },
   {
    "duration": 10,
    "start_time": "2022-03-25T06:10:18.222Z"
   },
   {
    "duration": 270,
    "start_time": "2022-03-25T06:10:18.233Z"
   },
   {
    "duration": 11,
    "start_time": "2022-03-25T06:10:18.506Z"
   },
   {
    "duration": 14,
    "start_time": "2022-03-25T06:10:18.519Z"
   },
   {
    "duration": 472,
    "start_time": "2022-03-25T06:10:18.536Z"
   },
   {
    "duration": 12,
    "start_time": "2022-03-25T06:10:19.010Z"
   },
   {
    "duration": 12,
    "start_time": "2022-03-25T06:10:19.030Z"
   },
   {
    "duration": 1745,
    "start_time": "2022-03-25T06:10:19.045Z"
   },
   {
    "duration": 18,
    "start_time": "2022-03-25T06:10:20.792Z"
   },
   {
    "duration": 9,
    "start_time": "2022-03-25T06:10:20.811Z"
   },
   {
    "duration": 5,
    "start_time": "2022-03-25T06:10:20.822Z"
   },
   {
    "duration": 11,
    "start_time": "2022-03-25T06:10:20.829Z"
   },
   {
    "duration": 12,
    "start_time": "2022-03-25T06:10:20.842Z"
   },
   {
    "duration": 11,
    "start_time": "2022-03-25T06:10:20.856Z"
   },
   {
    "duration": 2,
    "start_time": "2022-03-25T06:10:20.902Z"
   },
   {
    "duration": 26,
    "start_time": "2022-03-25T06:10:20.906Z"
   },
   {
    "duration": 19,
    "start_time": "2022-03-25T06:10:20.934Z"
   },
   {
    "duration": 4,
    "start_time": "2022-03-25T06:10:20.955Z"
   },
   {
    "duration": 55,
    "start_time": "2022-03-25T06:10:20.961Z"
   },
   {
    "duration": 16,
    "start_time": "2022-03-25T06:10:21.018Z"
   },
   {
    "duration": 188,
    "start_time": "2022-03-25T06:10:21.036Z"
   },
   {
    "duration": 20,
    "start_time": "2022-03-25T06:10:21.226Z"
   },
   {
    "duration": 9,
    "start_time": "2022-03-25T06:10:21.248Z"
   },
   {
    "duration": 259,
    "start_time": "2022-03-25T06:10:21.259Z"
   },
   {
    "duration": 10,
    "start_time": "2022-03-25T06:10:21.520Z"
   },
   {
    "duration": 480,
    "start_time": "2022-03-25T06:10:21.532Z"
   },
   {
    "duration": 9,
    "start_time": "2022-03-25T06:10:22.014Z"
   },
   {
    "duration": 197,
    "start_time": "2022-03-25T06:10:22.025Z"
   },
   {
    "duration": 9,
    "start_time": "2022-03-25T06:10:22.224Z"
   },
   {
    "duration": 279,
    "start_time": "2022-03-25T06:10:22.235Z"
   },
   {
    "duration": 10,
    "start_time": "2022-03-25T06:10:22.516Z"
   },
   {
    "duration": 10,
    "start_time": "2022-03-25T06:10:22.528Z"
   },
   {
    "duration": 1015,
    "start_time": "2022-03-25T06:10:22.540Z"
   },
   {
    "duration": 11,
    "start_time": "2022-03-25T06:10:23.557Z"
   },
   {
    "duration": 8,
    "start_time": "2022-03-25T06:10:23.570Z"
   },
   {
    "duration": 27,
    "start_time": "2022-03-25T06:10:23.580Z"
   },
   {
    "duration": 11,
    "start_time": "2022-03-25T06:10:23.609Z"
   },
   {
    "duration": 7,
    "start_time": "2022-03-25T06:38:45.440Z"
   },
   {
    "duration": 822,
    "start_time": "2022-03-25T07:04:29.782Z"
   },
   {
    "duration": 93,
    "start_time": "2022-03-25T07:04:30.606Z"
   },
   {
    "duration": 16,
    "start_time": "2022-03-25T07:04:30.701Z"
   },
   {
    "duration": 56,
    "start_time": "2022-03-25T07:04:30.719Z"
   },
   {
    "duration": 9,
    "start_time": "2022-03-25T07:04:30.777Z"
   },
   {
    "duration": 27,
    "start_time": "2022-03-25T07:04:30.788Z"
   },
   {
    "duration": 34,
    "start_time": "2022-03-25T07:04:30.817Z"
   },
   {
    "duration": 31,
    "start_time": "2022-03-25T07:04:30.853Z"
   },
   {
    "duration": 16,
    "start_time": "2022-03-25T07:04:30.886Z"
   },
   {
    "duration": 16,
    "start_time": "2022-03-25T07:04:30.905Z"
   },
   {
    "duration": 17,
    "start_time": "2022-03-25T07:04:30.923Z"
   },
   {
    "duration": 12,
    "start_time": "2022-03-25T07:04:30.942Z"
   },
   {
    "duration": 7,
    "start_time": "2022-03-25T07:04:30.956Z"
   },
   {
    "duration": 9,
    "start_time": "2022-03-25T07:04:30.965Z"
   },
   {
    "duration": 5,
    "start_time": "2022-03-25T07:04:30.976Z"
   },
   {
    "duration": 8,
    "start_time": "2022-03-25T07:04:30.983Z"
   },
   {
    "duration": 15,
    "start_time": "2022-03-25T07:04:30.993Z"
   },
   {
    "duration": 9,
    "start_time": "2022-03-25T07:04:31.010Z"
   },
   {
    "duration": 18,
    "start_time": "2022-03-25T07:04:31.021Z"
   },
   {
    "duration": 16,
    "start_time": "2022-03-25T07:04:31.041Z"
   },
   {
    "duration": 11,
    "start_time": "2022-03-25T07:04:31.059Z"
   },
   {
    "duration": 18,
    "start_time": "2022-03-25T07:04:31.072Z"
   },
   {
    "duration": 7,
    "start_time": "2022-03-25T07:04:31.092Z"
   },
   {
    "duration": 13,
    "start_time": "2022-03-25T07:04:31.101Z"
   },
   {
    "duration": 6,
    "start_time": "2022-03-25T07:04:31.116Z"
   },
   {
    "duration": 10,
    "start_time": "2022-03-25T07:04:31.124Z"
   },
   {
    "duration": 37,
    "start_time": "2022-03-25T07:04:31.136Z"
   },
   {
    "duration": 35,
    "start_time": "2022-03-25T07:04:31.178Z"
   },
   {
    "duration": 8,
    "start_time": "2022-03-25T07:04:31.216Z"
   },
   {
    "duration": 8,
    "start_time": "2022-03-25T07:04:31.226Z"
   },
   {
    "duration": 18,
    "start_time": "2022-03-25T07:04:31.236Z"
   },
   {
    "duration": 17,
    "start_time": "2022-03-25T07:04:31.256Z"
   },
   {
    "duration": 27,
    "start_time": "2022-03-25T07:04:31.275Z"
   },
   {
    "duration": 12,
    "start_time": "2022-03-25T07:04:31.304Z"
   },
   {
    "duration": 16,
    "start_time": "2022-03-25T07:04:31.318Z"
   },
   {
    "duration": 21,
    "start_time": "2022-03-25T07:04:31.336Z"
   },
   {
    "duration": 12,
    "start_time": "2022-03-25T07:04:31.359Z"
   },
   {
    "duration": 10,
    "start_time": "2022-03-25T07:04:31.373Z"
   },
   {
    "duration": 11,
    "start_time": "2022-03-25T07:04:31.385Z"
   },
   {
    "duration": 11,
    "start_time": "2022-03-25T07:04:31.398Z"
   },
   {
    "duration": 12,
    "start_time": "2022-03-25T07:04:31.410Z"
   },
   {
    "duration": 9,
    "start_time": "2022-03-25T07:04:31.423Z"
   },
   {
    "duration": 11,
    "start_time": "2022-03-25T07:04:31.434Z"
   },
   {
    "duration": 12,
    "start_time": "2022-03-25T07:04:31.447Z"
   },
   {
    "duration": 13,
    "start_time": "2022-03-25T07:04:31.461Z"
   },
   {
    "duration": 13,
    "start_time": "2022-03-25T07:04:31.475Z"
   },
   {
    "duration": 8,
    "start_time": "2022-03-25T07:04:31.501Z"
   },
   {
    "duration": 10,
    "start_time": "2022-03-25T07:04:31.511Z"
   },
   {
    "duration": 10,
    "start_time": "2022-03-25T07:04:31.523Z"
   },
   {
    "duration": 8,
    "start_time": "2022-03-25T07:04:31.535Z"
   },
   {
    "duration": 10,
    "start_time": "2022-03-25T07:04:31.545Z"
   },
   {
    "duration": 10,
    "start_time": "2022-03-25T07:04:31.557Z"
   },
   {
    "duration": 34,
    "start_time": "2022-03-25T07:04:31.569Z"
   },
   {
    "duration": 7,
    "start_time": "2022-03-25T07:04:31.605Z"
   },
   {
    "duration": 9,
    "start_time": "2022-03-25T07:04:31.614Z"
   },
   {
    "duration": 9,
    "start_time": "2022-03-25T07:04:31.625Z"
   },
   {
    "duration": 13,
    "start_time": "2022-03-25T07:04:31.636Z"
   },
   {
    "duration": 37,
    "start_time": "2022-03-25T07:04:31.651Z"
   },
   {
    "duration": 6,
    "start_time": "2022-03-25T07:04:31.702Z"
   },
   {
    "duration": 14,
    "start_time": "2022-03-25T07:04:31.711Z"
   },
   {
    "duration": 15,
    "start_time": "2022-03-25T07:04:31.727Z"
   },
   {
    "duration": 16,
    "start_time": "2022-03-25T07:04:31.744Z"
   },
   {
    "duration": 46,
    "start_time": "2022-03-25T07:04:31.762Z"
   },
   {
    "duration": 5,
    "start_time": "2022-03-25T07:04:31.809Z"
   },
   {
    "duration": 10,
    "start_time": "2022-03-25T07:04:31.815Z"
   },
   {
    "duration": 348,
    "start_time": "2022-03-25T07:04:31.826Z"
   },
   {
    "duration": 5,
    "start_time": "2022-03-25T07:04:32.176Z"
   },
   {
    "duration": 6,
    "start_time": "2022-03-25T07:04:32.182Z"
   },
   {
    "duration": 17,
    "start_time": "2022-03-25T07:04:32.202Z"
   },
   {
    "duration": 10,
    "start_time": "2022-03-25T07:04:32.221Z"
   },
   {
    "duration": 449,
    "start_time": "2022-03-25T07:04:32.232Z"
   },
   {
    "duration": 10,
    "start_time": "2022-03-25T07:04:32.683Z"
   },
   {
    "duration": 355,
    "start_time": "2022-03-25T07:04:32.701Z"
   },
   {
    "duration": 9,
    "start_time": "2022-03-25T07:04:33.058Z"
   },
   {
    "duration": 195,
    "start_time": "2022-03-25T07:04:33.069Z"
   },
   {
    "duration": 10,
    "start_time": "2022-03-25T07:04:33.267Z"
   },
   {
    "duration": 256,
    "start_time": "2022-03-25T07:04:33.279Z"
   },
   {
    "duration": 10,
    "start_time": "2022-03-25T07:04:33.537Z"
   },
   {
    "duration": 12,
    "start_time": "2022-03-25T07:04:33.549Z"
   },
   {
    "duration": 435,
    "start_time": "2022-03-25T07:04:33.563Z"
   },
   {
    "duration": 13,
    "start_time": "2022-03-25T07:04:34.000Z"
   },
   {
    "duration": 11,
    "start_time": "2022-03-25T07:04:34.020Z"
   },
   {
    "duration": 1758,
    "start_time": "2022-03-25T07:04:34.032Z"
   },
   {
    "duration": 19,
    "start_time": "2022-03-25T07:04:35.792Z"
   },
   {
    "duration": 13,
    "start_time": "2022-03-25T07:04:35.813Z"
   },
   {
    "duration": 5,
    "start_time": "2022-03-25T07:04:35.827Z"
   },
   {
    "duration": 31,
    "start_time": "2022-03-25T07:04:35.834Z"
   },
   {
    "duration": 30,
    "start_time": "2022-03-25T07:04:35.867Z"
   },
   {
    "duration": 11,
    "start_time": "2022-03-25T07:04:35.899Z"
   },
   {
    "duration": 10,
    "start_time": "2022-03-25T07:04:35.911Z"
   },
   {
    "duration": 25,
    "start_time": "2022-03-25T07:04:35.923Z"
   },
   {
    "duration": 19,
    "start_time": "2022-03-25T07:04:35.950Z"
   },
   {
    "duration": 7,
    "start_time": "2022-03-25T07:04:35.971Z"
   },
   {
    "duration": 43,
    "start_time": "2022-03-25T07:04:35.979Z"
   },
   {
    "duration": 28,
    "start_time": "2022-03-25T07:04:36.024Z"
   },
   {
    "duration": 192,
    "start_time": "2022-03-25T07:04:36.053Z"
   },
   {
    "duration": 20,
    "start_time": "2022-03-25T07:04:36.246Z"
   },
   {
    "duration": 13,
    "start_time": "2022-03-25T07:04:36.268Z"
   },
   {
    "duration": 272,
    "start_time": "2022-03-25T07:04:36.283Z"
   },
   {
    "duration": 9,
    "start_time": "2022-03-25T07:04:36.558Z"
   },
   {
    "duration": 469,
    "start_time": "2022-03-25T07:04:36.569Z"
   },
   {
    "duration": 9,
    "start_time": "2022-03-25T07:04:37.040Z"
   },
   {
    "duration": 202,
    "start_time": "2022-03-25T07:04:37.051Z"
   },
   {
    "duration": 8,
    "start_time": "2022-03-25T07:04:37.255Z"
   },
   {
    "duration": 265,
    "start_time": "2022-03-25T07:04:37.265Z"
   },
   {
    "duration": 10,
    "start_time": "2022-03-25T07:04:37.532Z"
   },
   {
    "duration": 28,
    "start_time": "2022-03-25T07:04:37.543Z"
   },
   {
    "duration": 988,
    "start_time": "2022-03-25T07:04:37.573Z"
   },
   {
    "duration": 13,
    "start_time": "2022-03-25T07:04:38.563Z"
   },
   {
    "duration": 26,
    "start_time": "2022-03-25T07:04:38.578Z"
   },
   {
    "duration": 10,
    "start_time": "2022-03-25T07:04:38.606Z"
   },
   {
    "duration": 11,
    "start_time": "2022-03-25T07:04:38.618Z"
   },
   {
    "duration": 46,
    "start_time": "2022-04-04T19:14:50.483Z"
   },
   {
    "duration": 613,
    "start_time": "2022-04-04T19:15:30.360Z"
   },
   {
    "duration": 87,
    "start_time": "2022-04-04T19:15:30.974Z"
   },
   {
    "duration": 16,
    "start_time": "2022-04-04T19:15:31.062Z"
   },
   {
    "duration": 49,
    "start_time": "2022-04-04T19:15:31.080Z"
   },
   {
    "duration": 8,
    "start_time": "2022-04-04T19:15:31.131Z"
   },
   {
    "duration": 12,
    "start_time": "2022-04-04T19:15:31.140Z"
   },
   {
    "duration": 9,
    "start_time": "2022-04-04T19:15:31.154Z"
   },
   {
    "duration": 10,
    "start_time": "2022-04-04T19:15:31.164Z"
   },
   {
    "duration": 37,
    "start_time": "2022-04-04T19:15:31.175Z"
   },
   {
    "duration": 7,
    "start_time": "2022-04-04T19:15:31.214Z"
   },
   {
    "duration": 5,
    "start_time": "2022-04-04T19:15:31.223Z"
   },
   {
    "duration": 18,
    "start_time": "2022-04-04T19:15:31.229Z"
   },
   {
    "duration": 8,
    "start_time": "2022-04-04T19:15:31.249Z"
   },
   {
    "duration": 7,
    "start_time": "2022-04-04T19:15:31.259Z"
   },
   {
    "duration": 14,
    "start_time": "2022-04-04T19:15:31.267Z"
   },
   {
    "duration": 10,
    "start_time": "2022-04-04T19:15:31.282Z"
   },
   {
    "duration": 16,
    "start_time": "2022-04-04T19:15:31.293Z"
   },
   {
    "duration": 4,
    "start_time": "2022-04-04T19:15:31.310Z"
   },
   {
    "duration": 10,
    "start_time": "2022-04-04T19:15:31.315Z"
   },
   {
    "duration": 18,
    "start_time": "2022-04-04T19:15:31.327Z"
   },
   {
    "duration": 7,
    "start_time": "2022-04-04T19:15:31.346Z"
   },
   {
    "duration": 14,
    "start_time": "2022-04-04T19:15:31.354Z"
   },
   {
    "duration": 4,
    "start_time": "2022-04-04T19:15:31.370Z"
   },
   {
    "duration": 10,
    "start_time": "2022-04-04T19:15:31.376Z"
   },
   {
    "duration": 12,
    "start_time": "2022-04-04T19:15:31.387Z"
   },
   {
    "duration": 10,
    "start_time": "2022-04-04T19:15:31.400Z"
   },
   {
    "duration": 36,
    "start_time": "2022-04-04T19:15:31.412Z"
   },
   {
    "duration": 21,
    "start_time": "2022-04-04T19:15:31.452Z"
   },
   {
    "duration": 7,
    "start_time": "2022-04-04T19:15:31.474Z"
   },
   {
    "duration": 5,
    "start_time": "2022-04-04T19:15:31.482Z"
   },
   {
    "duration": 22,
    "start_time": "2022-04-04T19:15:31.489Z"
   },
   {
    "duration": 5,
    "start_time": "2022-04-04T19:15:31.513Z"
   },
   {
    "duration": 12,
    "start_time": "2022-04-04T19:15:31.519Z"
   },
   {
    "duration": 8,
    "start_time": "2022-04-04T19:15:31.533Z"
   },
   {
    "duration": 11,
    "start_time": "2022-04-04T19:15:31.542Z"
   },
   {
    "duration": 8,
    "start_time": "2022-04-04T19:15:31.554Z"
   },
   {
    "duration": 25,
    "start_time": "2022-04-04T19:15:31.563Z"
   },
   {
    "duration": 10,
    "start_time": "2022-04-04T19:15:31.590Z"
   },
   {
    "duration": 14,
    "start_time": "2022-04-04T19:15:31.602Z"
   },
   {
    "duration": 5,
    "start_time": "2022-04-04T19:15:31.618Z"
   },
   {
    "duration": 19,
    "start_time": "2022-04-04T19:15:31.624Z"
   },
   {
    "duration": 8,
    "start_time": "2022-04-04T19:15:31.645Z"
   },
   {
    "duration": 12,
    "start_time": "2022-04-04T19:15:31.655Z"
   },
   {
    "duration": 19,
    "start_time": "2022-04-04T19:15:31.669Z"
   },
   {
    "duration": 11,
    "start_time": "2022-04-04T19:15:31.690Z"
   },
   {
    "duration": 4,
    "start_time": "2022-04-04T19:15:31.703Z"
   },
   {
    "duration": 16,
    "start_time": "2022-04-04T19:15:31.709Z"
   },
   {
    "duration": 6,
    "start_time": "2022-04-04T19:15:31.726Z"
   },
   {
    "duration": 9,
    "start_time": "2022-04-04T19:15:31.734Z"
   },
   {
    "duration": 4,
    "start_time": "2022-04-04T19:15:31.745Z"
   },
   {
    "duration": 12,
    "start_time": "2022-04-04T19:15:31.751Z"
   },
   {
    "duration": 5,
    "start_time": "2022-04-04T19:15:31.764Z"
   },
   {
    "duration": 9,
    "start_time": "2022-04-04T19:15:31.771Z"
   },
   {
    "duration": 28,
    "start_time": "2022-04-04T19:15:31.781Z"
   },
   {
    "duration": 7,
    "start_time": "2022-04-04T19:15:31.810Z"
   },
   {
    "duration": 11,
    "start_time": "2022-04-04T19:15:31.818Z"
   },
   {
    "duration": 7,
    "start_time": "2022-04-04T19:15:31.830Z"
   },
   {
    "duration": 26,
    "start_time": "2022-04-04T19:15:31.838Z"
   },
   {
    "duration": 4,
    "start_time": "2022-04-04T19:15:31.866Z"
   },
   {
    "duration": 20,
    "start_time": "2022-04-04T19:15:31.872Z"
   },
   {
    "duration": 26,
    "start_time": "2022-04-04T19:15:31.893Z"
   },
   {
    "duration": 14,
    "start_time": "2022-04-04T19:15:31.921Z"
   },
   {
    "duration": 24,
    "start_time": "2022-04-04T19:15:31.936Z"
   },
   {
    "duration": 8,
    "start_time": "2022-04-04T19:15:31.961Z"
   },
   {
    "duration": 8,
    "start_time": "2022-04-04T19:15:31.970Z"
   },
   {
    "duration": 323,
    "start_time": "2022-04-04T19:15:31.980Z"
   },
   {
    "duration": 6,
    "start_time": "2022-04-04T19:15:32.304Z"
   },
   {
    "duration": 6,
    "start_time": "2022-04-04T19:15:32.311Z"
   },
   {
    "duration": 23,
    "start_time": "2022-04-04T19:15:32.319Z"
   },
   {
    "duration": 9,
    "start_time": "2022-04-04T19:15:32.344Z"
   },
   {
    "duration": 426,
    "start_time": "2022-04-04T19:15:32.354Z"
   },
   {
    "duration": 10,
    "start_time": "2022-04-04T19:15:32.782Z"
   },
   {
    "duration": 394,
    "start_time": "2022-04-04T19:15:32.793Z"
   },
   {
    "duration": 9,
    "start_time": "2022-04-04T19:15:33.188Z"
   },
   {
    "duration": 206,
    "start_time": "2022-04-04T19:15:33.209Z"
   },
   {
    "duration": 9,
    "start_time": "2022-04-04T19:15:33.417Z"
   },
   {
    "duration": 263,
    "start_time": "2022-04-04T19:15:33.427Z"
   },
   {
    "duration": 8,
    "start_time": "2022-04-04T19:15:33.692Z"
   },
   {
    "duration": 11,
    "start_time": "2022-04-04T19:15:33.709Z"
   },
   {
    "duration": 444,
    "start_time": "2022-04-04T19:15:33.722Z"
   },
   {
    "duration": 10,
    "start_time": "2022-04-04T19:15:34.168Z"
   },
   {
    "duration": 27,
    "start_time": "2022-04-04T19:15:34.184Z"
   },
   {
    "duration": 1603,
    "start_time": "2022-04-04T19:15:34.213Z"
   },
   {
    "duration": 15,
    "start_time": "2022-04-04T19:15:35.818Z"
   },
   {
    "duration": 8,
    "start_time": "2022-04-04T19:15:35.834Z"
   },
   {
    "duration": 4,
    "start_time": "2022-04-04T19:15:35.843Z"
   },
   {
    "duration": 9,
    "start_time": "2022-04-04T19:15:35.849Z"
   },
   {
    "duration": 12,
    "start_time": "2022-04-04T19:15:35.859Z"
   },
   {
    "duration": 40,
    "start_time": "2022-04-04T19:15:35.873Z"
   },
   {
    "duration": 2,
    "start_time": "2022-04-04T19:15:35.915Z"
   },
   {
    "duration": 26,
    "start_time": "2022-04-04T19:15:35.919Z"
   },
   {
    "duration": 17,
    "start_time": "2022-04-04T19:15:35.947Z"
   },
   {
    "duration": 4,
    "start_time": "2022-04-04T19:15:35.966Z"
   },
   {
    "duration": 52,
    "start_time": "2022-04-04T19:15:35.971Z"
   },
   {
    "duration": 13,
    "start_time": "2022-04-04T19:15:36.025Z"
   },
   {
    "duration": 172,
    "start_time": "2022-04-04T19:15:36.040Z"
   },
   {
    "duration": 21,
    "start_time": "2022-04-04T19:15:36.214Z"
   },
   {
    "duration": 7,
    "start_time": "2022-04-04T19:15:36.237Z"
   },
   {
    "duration": 274,
    "start_time": "2022-04-04T19:15:36.246Z"
   },
   {
    "duration": 8,
    "start_time": "2022-04-04T19:15:36.522Z"
   },
   {
    "duration": 469,
    "start_time": "2022-04-04T19:15:36.532Z"
   },
   {
    "duration": 11,
    "start_time": "2022-04-04T19:15:37.003Z"
   },
   {
    "duration": 180,
    "start_time": "2022-04-04T19:15:37.015Z"
   },
   {
    "duration": 13,
    "start_time": "2022-04-04T19:15:37.196Z"
   },
   {
    "duration": 262,
    "start_time": "2022-04-04T19:15:37.211Z"
   },
   {
    "duration": 9,
    "start_time": "2022-04-04T19:15:37.475Z"
   },
   {
    "duration": 24,
    "start_time": "2022-04-04T19:15:37.485Z"
   },
   {
    "duration": 959,
    "start_time": "2022-04-04T19:15:37.510Z"
   },
   {
    "duration": 11,
    "start_time": "2022-04-04T19:15:38.471Z"
   },
   {
    "duration": 7,
    "start_time": "2022-04-04T19:15:38.483Z"
   },
   {
    "duration": 24,
    "start_time": "2022-04-04T19:15:38.491Z"
   },
   {
    "duration": 10,
    "start_time": "2022-04-04T19:15:38.517Z"
   },
   {
    "duration": 986,
    "start_time": "2022-04-05T09:55:48.197Z"
   },
   {
    "duration": 85,
    "start_time": "2022-04-05T09:55:49.186Z"
   },
   {
    "duration": 28,
    "start_time": "2022-04-05T09:55:49.273Z"
   },
   {
    "duration": 33,
    "start_time": "2022-04-05T09:55:49.303Z"
   },
   {
    "duration": 9,
    "start_time": "2022-04-05T09:55:49.339Z"
   },
   {
    "duration": 34,
    "start_time": "2022-04-05T09:55:49.350Z"
   },
   {
    "duration": 19,
    "start_time": "2022-04-05T09:55:49.385Z"
   },
   {
    "duration": 18,
    "start_time": "2022-04-05T09:55:49.406Z"
   },
   {
    "duration": 17,
    "start_time": "2022-04-05T09:55:49.426Z"
   },
   {
    "duration": 22,
    "start_time": "2022-04-05T09:55:49.445Z"
   },
   {
    "duration": 20,
    "start_time": "2022-04-05T09:55:49.468Z"
   },
   {
    "duration": 22,
    "start_time": "2022-04-05T09:55:49.490Z"
   },
   {
    "duration": 23,
    "start_time": "2022-04-05T09:55:49.514Z"
   },
   {
    "duration": 8,
    "start_time": "2022-04-05T09:55:49.541Z"
   },
   {
    "duration": 20,
    "start_time": "2022-04-05T09:55:49.551Z"
   },
   {
    "duration": 12,
    "start_time": "2022-04-05T09:55:49.573Z"
   },
   {
    "duration": 19,
    "start_time": "2022-04-05T09:55:49.587Z"
   },
   {
    "duration": 12,
    "start_time": "2022-04-05T09:55:49.608Z"
   },
   {
    "duration": 23,
    "start_time": "2022-04-05T09:55:49.622Z"
   },
   {
    "duration": 10,
    "start_time": "2022-04-05T09:55:49.647Z"
   },
   {
    "duration": 6,
    "start_time": "2022-04-05T09:55:49.659Z"
   },
   {
    "duration": 16,
    "start_time": "2022-04-05T09:55:49.667Z"
   },
   {
    "duration": 5,
    "start_time": "2022-04-05T09:55:49.686Z"
   },
   {
    "duration": 18,
    "start_time": "2022-04-05T09:55:49.693Z"
   },
   {
    "duration": 13,
    "start_time": "2022-04-05T09:55:49.713Z"
   },
   {
    "duration": 11,
    "start_time": "2022-04-05T09:55:49.728Z"
   },
   {
    "duration": 36,
    "start_time": "2022-04-05T09:55:49.741Z"
   },
   {
    "duration": 24,
    "start_time": "2022-04-05T09:55:49.779Z"
   },
   {
    "duration": 16,
    "start_time": "2022-04-05T09:55:49.806Z"
   },
   {
    "duration": 11,
    "start_time": "2022-04-05T09:55:49.824Z"
   },
   {
    "duration": 12,
    "start_time": "2022-04-05T09:55:49.837Z"
   },
   {
    "duration": 10,
    "start_time": "2022-04-05T09:55:49.851Z"
   },
   {
    "duration": 15,
    "start_time": "2022-04-05T09:55:49.863Z"
   },
   {
    "duration": 20,
    "start_time": "2022-04-05T09:55:49.880Z"
   },
   {
    "duration": 10,
    "start_time": "2022-04-05T09:55:49.903Z"
   },
   {
    "duration": 13,
    "start_time": "2022-04-05T09:55:49.914Z"
   },
   {
    "duration": 13,
    "start_time": "2022-04-05T09:55:49.929Z"
   },
   {
    "duration": 12,
    "start_time": "2022-04-05T09:55:49.945Z"
   },
   {
    "duration": 13,
    "start_time": "2022-04-05T09:55:49.959Z"
   },
   {
    "duration": 11,
    "start_time": "2022-04-05T09:55:49.974Z"
   },
   {
    "duration": 15,
    "start_time": "2022-04-05T09:55:49.992Z"
   },
   {
    "duration": 32,
    "start_time": "2022-04-05T09:55:50.008Z"
   },
   {
    "duration": 21,
    "start_time": "2022-04-05T09:55:50.042Z"
   },
   {
    "duration": 22,
    "start_time": "2022-04-05T09:55:50.065Z"
   },
   {
    "duration": 12,
    "start_time": "2022-04-05T09:55:50.089Z"
   },
   {
    "duration": 12,
    "start_time": "2022-04-05T09:55:50.102Z"
   },
   {
    "duration": 18,
    "start_time": "2022-04-05T09:55:50.116Z"
   },
   {
    "duration": 14,
    "start_time": "2022-04-05T09:55:50.136Z"
   },
   {
    "duration": 23,
    "start_time": "2022-04-05T09:55:50.152Z"
   },
   {
    "duration": 19,
    "start_time": "2022-04-05T09:55:50.177Z"
   },
   {
    "duration": 22,
    "start_time": "2022-04-05T09:55:50.198Z"
   },
   {
    "duration": 35,
    "start_time": "2022-04-05T09:55:50.222Z"
   },
   {
    "duration": 19,
    "start_time": "2022-04-05T09:55:50.259Z"
   },
   {
    "duration": 16,
    "start_time": "2022-04-05T09:55:50.280Z"
   },
   {
    "duration": 23,
    "start_time": "2022-04-05T09:55:50.298Z"
   },
   {
    "duration": 23,
    "start_time": "2022-04-05T09:55:50.323Z"
   },
   {
    "duration": 12,
    "start_time": "2022-04-05T09:55:50.347Z"
   },
   {
    "duration": 31,
    "start_time": "2022-04-05T09:55:50.361Z"
   },
   {
    "duration": 6,
    "start_time": "2022-04-05T09:55:50.394Z"
   },
   {
    "duration": 33,
    "start_time": "2022-04-05T09:55:50.403Z"
   },
   {
    "duration": 22,
    "start_time": "2022-04-05T09:55:50.438Z"
   },
   {
    "duration": 22,
    "start_time": "2022-04-05T09:55:50.462Z"
   },
   {
    "duration": 15,
    "start_time": "2022-04-05T09:55:50.485Z"
   },
   {
    "duration": 10,
    "start_time": "2022-04-05T09:55:50.502Z"
   },
   {
    "duration": 11,
    "start_time": "2022-04-05T09:55:50.514Z"
   },
   {
    "duration": 323,
    "start_time": "2022-04-05T09:55:50.527Z"
   },
   {
    "duration": 4,
    "start_time": "2022-04-05T09:55:50.852Z"
   },
   {
    "duration": 12,
    "start_time": "2022-04-05T09:55:50.858Z"
   },
   {
    "duration": 20,
    "start_time": "2022-04-05T09:55:50.872Z"
   },
   {
    "duration": 9,
    "start_time": "2022-04-05T09:55:50.902Z"
   },
   {
    "duration": 442,
    "start_time": "2022-04-05T09:55:50.912Z"
   },
   {
    "duration": 9,
    "start_time": "2022-04-05T09:55:51.356Z"
   },
   {
    "duration": 376,
    "start_time": "2022-04-05T09:55:51.367Z"
   },
   {
    "duration": 9,
    "start_time": "2022-04-05T09:55:51.745Z"
   },
   {
    "duration": 206,
    "start_time": "2022-04-05T09:55:51.756Z"
   },
   {
    "duration": 10,
    "start_time": "2022-04-05T09:55:51.964Z"
   },
   {
    "duration": 264,
    "start_time": "2022-04-05T09:55:51.975Z"
   },
   {
    "duration": 9,
    "start_time": "2022-04-05T09:55:52.241Z"
   },
   {
    "duration": 12,
    "start_time": "2022-04-05T09:55:52.252Z"
   },
   {
    "duration": 446,
    "start_time": "2022-04-05T09:55:52.266Z"
   },
   {
    "duration": 11,
    "start_time": "2022-04-05T09:55:52.714Z"
   },
   {
    "duration": 16,
    "start_time": "2022-04-05T09:55:52.726Z"
   },
   {
    "duration": 1674,
    "start_time": "2022-04-05T09:55:52.744Z"
   },
   {
    "duration": 16,
    "start_time": "2022-04-05T09:55:54.420Z"
   },
   {
    "duration": 12,
    "start_time": "2022-04-05T09:55:54.438Z"
   },
   {
    "duration": 5,
    "start_time": "2022-04-05T09:55:54.452Z"
   },
   {
    "duration": 21,
    "start_time": "2022-04-05T09:55:54.459Z"
   },
   {
    "duration": 14,
    "start_time": "2022-04-05T09:55:54.482Z"
   },
   {
    "duration": 12,
    "start_time": "2022-04-05T09:55:54.502Z"
   },
   {
    "duration": 4,
    "start_time": "2022-04-05T09:55:54.517Z"
   },
   {
    "duration": 26,
    "start_time": "2022-04-05T09:55:54.523Z"
   },
   {
    "duration": 54,
    "start_time": "2022-04-05T09:55:54.551Z"
   },
   {
    "duration": 4,
    "start_time": "2022-04-05T09:55:54.607Z"
   },
   {
    "duration": 34,
    "start_time": "2022-04-05T09:55:54.613Z"
   },
   {
    "duration": 16,
    "start_time": "2022-04-05T09:55:54.649Z"
   },
   {
    "duration": 199,
    "start_time": "2022-04-05T09:55:54.667Z"
   },
   {
    "duration": 22,
    "start_time": "2022-04-05T09:55:54.868Z"
   },
   {
    "duration": 17,
    "start_time": "2022-04-05T09:55:54.891Z"
   },
   {
    "duration": 256,
    "start_time": "2022-04-05T09:55:54.910Z"
   },
   {
    "duration": 8,
    "start_time": "2022-04-05T09:55:55.168Z"
   },
   {
    "duration": 442,
    "start_time": "2022-04-05T09:55:55.178Z"
   },
   {
    "duration": 9,
    "start_time": "2022-04-05T09:55:55.622Z"
   },
   {
    "duration": 190,
    "start_time": "2022-04-05T09:55:55.632Z"
   },
   {
    "duration": 9,
    "start_time": "2022-04-05T09:55:55.824Z"
   },
   {
    "duration": 258,
    "start_time": "2022-04-05T09:55:55.835Z"
   },
   {
    "duration": 15,
    "start_time": "2022-04-05T09:55:56.094Z"
   },
   {
    "duration": 18,
    "start_time": "2022-04-05T09:55:56.110Z"
   },
   {
    "duration": 1006,
    "start_time": "2022-04-05T09:55:56.130Z"
   },
   {
    "duration": 13,
    "start_time": "2022-04-05T09:55:57.138Z"
   },
   {
    "duration": 21,
    "start_time": "2022-04-05T09:55:57.153Z"
   },
   {
    "duration": 18,
    "start_time": "2022-04-05T09:55:57.176Z"
   },
   {
    "duration": 12,
    "start_time": "2022-04-05T09:55:57.200Z"
   },
   {
    "duration": 17,
    "start_time": "2022-04-05T10:11:43.773Z"
   },
   {
    "duration": 85,
    "start_time": "2022-04-05T10:12:17.565Z"
   },
   {
    "duration": 17,
    "start_time": "2022-04-05T10:12:20.390Z"
   },
   {
    "duration": 11,
    "start_time": "2022-04-05T10:12:39.133Z"
   },
   {
    "duration": 28,
    "start_time": "2022-04-05T10:14:18.000Z"
   },
   {
    "duration": 39,
    "start_time": "2022-04-05T10:15:22.931Z"
   },
   {
    "duration": 31,
    "start_time": "2022-04-05T10:38:45.191Z"
   },
   {
    "duration": 7,
    "start_time": "2022-04-05T10:39:32.071Z"
   },
   {
    "duration": 9,
    "start_time": "2022-04-05T10:39:39.976Z"
   },
   {
    "duration": 5,
    "start_time": "2022-04-05T11:16:33.193Z"
   },
   {
    "duration": 16,
    "start_time": "2022-04-05T11:27:45.908Z"
   },
   {
    "duration": 11,
    "start_time": "2022-04-05T11:28:00.243Z"
   },
   {
    "duration": 7,
    "start_time": "2022-04-05T11:28:01.044Z"
   },
   {
    "duration": 7,
    "start_time": "2022-04-05T11:28:01.939Z"
   },
   {
    "duration": 10,
    "start_time": "2022-04-05T11:28:04.368Z"
   },
   {
    "duration": 8,
    "start_time": "2022-04-05T11:28:10.235Z"
   },
   {
    "duration": 4,
    "start_time": "2022-04-05T11:28:11.176Z"
   },
   {
    "duration": 6,
    "start_time": "2022-04-05T11:28:54.821Z"
   },
   {
    "duration": 4,
    "start_time": "2022-04-05T11:29:02.133Z"
   },
   {
    "duration": 4,
    "start_time": "2022-04-05T11:29:03.213Z"
   },
   {
    "duration": 4,
    "start_time": "2022-04-05T11:29:08.262Z"
   },
   {
    "duration": 5,
    "start_time": "2022-04-05T11:29:08.925Z"
   },
   {
    "duration": 7,
    "start_time": "2022-04-05T11:29:12.632Z"
   },
   {
    "duration": 4,
    "start_time": "2022-04-05T11:33:33.197Z"
   },
   {
    "duration": 8,
    "start_time": "2022-04-05T11:33:38.573Z"
   },
   {
    "duration": 8,
    "start_time": "2022-04-05T11:33:49.294Z"
   },
   {
    "duration": 31,
    "start_time": "2022-04-05T11:33:50.285Z"
   },
   {
    "duration": 5,
    "start_time": "2022-04-05T11:33:58.981Z"
   },
   {
    "duration": 3,
    "start_time": "2022-04-05T11:34:02.670Z"
   },
   {
    "duration": 85,
    "start_time": "2022-04-05T11:34:03.325Z"
   },
   {
    "duration": 3,
    "start_time": "2022-04-05T11:34:22.766Z"
   },
   {
    "duration": 14,
    "start_time": "2022-04-05T11:34:28.536Z"
   },
   {
    "duration": 26,
    "start_time": "2022-04-05T11:36:59.523Z"
   },
   {
    "duration": 24,
    "start_time": "2022-04-05T11:37:04.371Z"
   },
   {
    "duration": 9,
    "start_time": "2022-04-05T11:37:05.946Z"
   },
   {
    "duration": 6,
    "start_time": "2022-04-05T11:37:06.754Z"
   },
   {
    "duration": 8,
    "start_time": "2022-04-05T11:37:07.354Z"
   },
   {
    "duration": 6,
    "start_time": "2022-04-05T11:37:07.946Z"
   },
   {
    "duration": 8,
    "start_time": "2022-04-05T11:37:10.834Z"
   },
   {
    "duration": 6,
    "start_time": "2022-04-05T11:37:11.436Z"
   },
   {
    "duration": 8,
    "start_time": "2022-04-05T11:37:12.013Z"
   },
   {
    "duration": 6,
    "start_time": "2022-04-05T11:37:12.569Z"
   },
   {
    "duration": 8,
    "start_time": "2022-04-05T11:37:13.178Z"
   },
   {
    "duration": 6,
    "start_time": "2022-04-05T11:37:15.258Z"
   },
   {
    "duration": 9,
    "start_time": "2022-04-05T11:37:15.873Z"
   },
   {
    "duration": 5,
    "start_time": "2022-04-05T11:37:16.485Z"
   },
   {
    "duration": 9,
    "start_time": "2022-04-05T11:37:17.130Z"
   },
   {
    "duration": 6,
    "start_time": "2022-04-05T11:37:18.986Z"
   },
   {
    "duration": 7,
    "start_time": "2022-04-05T11:37:19.684Z"
   },
   {
    "duration": 7,
    "start_time": "2022-04-05T11:37:20.329Z"
   },
   {
    "duration": 8,
    "start_time": "2022-04-05T11:37:20.938Z"
   },
   {
    "duration": 6,
    "start_time": "2022-04-05T11:37:23.586Z"
   },
   {
    "duration": 9,
    "start_time": "2022-04-05T11:37:24.209Z"
   },
   {
    "duration": 6,
    "start_time": "2022-04-05T11:37:24.985Z"
   },
   {
    "duration": 9,
    "start_time": "2022-04-05T11:37:25.706Z"
   },
   {
    "duration": 6,
    "start_time": "2022-04-05T11:37:26.338Z"
   },
   {
    "duration": 9,
    "start_time": "2022-04-05T11:37:27.186Z"
   },
   {
    "duration": 6,
    "start_time": "2022-04-05T11:37:27.906Z"
   },
   {
    "duration": 11,
    "start_time": "2022-04-05T11:40:34.688Z"
   },
   {
    "duration": 7,
    "start_time": "2022-04-05T11:40:35.393Z"
   },
   {
    "duration": 10,
    "start_time": "2022-04-05T11:40:36.215Z"
   },
   {
    "duration": 14,
    "start_time": "2022-04-05T11:40:41.499Z"
   },
   {
    "duration": 28,
    "start_time": "2022-04-05T11:40:51.610Z"
   },
   {
    "duration": 6,
    "start_time": "2022-04-05T11:48:35.982Z"
   },
   {
    "duration": 3,
    "start_time": "2022-04-05T11:49:29.157Z"
   },
   {
    "duration": 6,
    "start_time": "2022-04-05T11:49:32.567Z"
   },
   {
    "duration": 6,
    "start_time": "2022-04-05T11:49:39.495Z"
   },
   {
    "duration": 4,
    "start_time": "2022-04-05T11:53:44.646Z"
   },
   {
    "duration": 7,
    "start_time": "2022-04-05T11:54:00.117Z"
   },
   {
    "duration": 7,
    "start_time": "2022-04-05T11:59:55.335Z"
   },
   {
    "duration": 6,
    "start_time": "2022-04-05T12:01:15.073Z"
   },
   {
    "duration": 7,
    "start_time": "2022-04-05T12:01:16.512Z"
   },
   {
    "duration": 7,
    "start_time": "2022-04-05T12:03:48.005Z"
   },
   {
    "duration": 6,
    "start_time": "2022-04-05T12:05:40.991Z"
   },
   {
    "duration": 170,
    "start_time": "2022-04-05T12:30:11.521Z"
   },
   {
    "duration": 12,
    "start_time": "2022-04-05T12:30:31.432Z"
   },
   {
    "duration": 8,
    "start_time": "2022-04-05T12:32:17.020Z"
   },
   {
    "duration": 6,
    "start_time": "2022-04-05T12:32:51.204Z"
   },
   {
    "duration": 8,
    "start_time": "2022-04-05T12:33:05.255Z"
   },
   {
    "duration": 12,
    "start_time": "2022-04-05T12:44:02.174Z"
   },
   {
    "duration": 14,
    "start_time": "2022-04-05T12:46:09.244Z"
   },
   {
    "duration": 18,
    "start_time": "2022-04-05T12:51:52.588Z"
   },
   {
    "duration": 25,
    "start_time": "2022-04-05T12:55:58.850Z"
   },
   {
    "duration": 25,
    "start_time": "2022-04-05T12:56:46.458Z"
   },
   {
    "duration": 20,
    "start_time": "2022-04-05T12:59:05.497Z"
   },
   {
    "duration": 44,
    "start_time": "2022-04-05T13:07:23.561Z"
   },
   {
    "duration": 10,
    "start_time": "2022-04-05T13:09:14.446Z"
   },
   {
    "duration": 5,
    "start_time": "2022-04-05T13:12:31.925Z"
   },
   {
    "duration": 6,
    "start_time": "2022-04-05T13:12:44.492Z"
   },
   {
    "duration": 6,
    "start_time": "2022-04-05T13:12:46.898Z"
   },
   {
    "duration": 9,
    "start_time": "2022-04-05T13:13:52.962Z"
   },
   {
    "duration": 6,
    "start_time": "2022-04-05T13:13:54.382Z"
   },
   {
    "duration": 10,
    "start_time": "2022-04-05T14:20:46.884Z"
   },
   {
    "duration": 6,
    "start_time": "2022-04-05T14:20:49.194Z"
   },
   {
    "duration": 15,
    "start_time": "2022-04-05T14:26:42.604Z"
   },
   {
    "duration": 6,
    "start_time": "2022-04-05T14:26:44.720Z"
   },
   {
    "duration": 16,
    "start_time": "2022-04-05T14:28:35.375Z"
   },
   {
    "duration": 6,
    "start_time": "2022-04-05T14:28:37.387Z"
   },
   {
    "duration": 17,
    "start_time": "2022-04-05T14:31:06.341Z"
   },
   {
    "duration": 6,
    "start_time": "2022-04-05T14:31:10.679Z"
   },
   {
    "duration": 18,
    "start_time": "2022-04-05T14:32:25.931Z"
   },
   {
    "duration": 6,
    "start_time": "2022-04-05T14:32:27.243Z"
   },
   {
    "duration": 8,
    "start_time": "2022-04-05T14:33:18.500Z"
   },
   {
    "duration": 7,
    "start_time": "2022-04-05T14:33:44.965Z"
   },
   {
    "duration": 36,
    "start_time": "2022-04-05T14:42:14.395Z"
   },
   {
    "duration": 4,
    "start_time": "2022-04-05T14:46:46.477Z"
   },
   {
    "duration": 28,
    "start_time": "2022-04-05T14:47:12.107Z"
   },
   {
    "duration": 9,
    "start_time": "2022-04-05T14:47:46.110Z"
   },
   {
    "duration": 7,
    "start_time": "2022-04-05T14:50:12.558Z"
   },
   {
    "duration": 5,
    "start_time": "2022-04-05T14:50:16.535Z"
   },
   {
    "duration": 21,
    "start_time": "2022-04-05T14:50:31.511Z"
   },
   {
    "duration": 17,
    "start_time": "2022-04-05T14:50:34.255Z"
   },
   {
    "duration": 6,
    "start_time": "2022-04-05T14:50:35.806Z"
   },
   {
    "duration": 5,
    "start_time": "2022-04-05T14:52:05.298Z"
   },
   {
    "duration": 7,
    "start_time": "2022-04-05T14:52:06.129Z"
   },
   {
    "duration": 3,
    "start_time": "2022-04-05T15:06:47.465Z"
   },
   {
    "duration": 83,
    "start_time": "2022-04-05T15:06:50.986Z"
   },
   {
    "duration": 7,
    "start_time": "2022-04-05T15:07:12.931Z"
   },
   {
    "duration": 37,
    "start_time": "2022-04-05T15:07:44.681Z"
   },
   {
    "duration": 7,
    "start_time": "2022-04-05T15:13:14.878Z"
   },
   {
    "duration": 7,
    "start_time": "2022-04-05T15:13:26.196Z"
   },
   {
    "duration": 7,
    "start_time": "2022-04-05T15:15:51.153Z"
   },
   {
    "duration": 18,
    "start_time": "2022-04-05T15:36:42.042Z"
   },
   {
    "duration": 17,
    "start_time": "2022-04-05T15:36:44.809Z"
   },
   {
    "duration": 5,
    "start_time": "2022-04-05T15:36:48.297Z"
   },
   {
    "duration": 5,
    "start_time": "2022-04-05T15:57:10.701Z"
   },
   {
    "duration": 7,
    "start_time": "2022-04-05T15:57:34.759Z"
   },
   {
    "duration": 6,
    "start_time": "2022-04-05T15:57:36.562Z"
   },
   {
    "duration": 7,
    "start_time": "2022-04-05T16:06:14.937Z"
   },
   {
    "duration": 6,
    "start_time": "2022-04-05T16:07:09.841Z"
   },
   {
    "duration": 7,
    "start_time": "2022-04-05T16:15:30.904Z"
   },
   {
    "duration": 4,
    "start_time": "2022-04-05T16:35:18.838Z"
   },
   {
    "duration": 6,
    "start_time": "2022-04-05T16:35:29.022Z"
   },
   {
    "duration": 7,
    "start_time": "2022-04-05T16:36:03.511Z"
   },
   {
    "duration": 7,
    "start_time": "2022-04-05T16:36:57.583Z"
   },
   {
    "duration": 9,
    "start_time": "2022-04-05T16:38:12.854Z"
   },
   {
    "duration": 3,
    "start_time": "2022-04-05T16:39:00.852Z"
   },
   {
    "duration": 89,
    "start_time": "2022-04-05T16:39:08.084Z"
   },
   {
    "duration": 19,
    "start_time": "2022-04-05T16:39:24.965Z"
   },
   {
    "duration": 17,
    "start_time": "2022-04-05T16:39:27.733Z"
   },
   {
    "duration": 6,
    "start_time": "2022-04-05T16:39:29.110Z"
   },
   {
    "duration": 7,
    "start_time": "2022-04-05T16:39:33.293Z"
   },
   {
    "duration": 9,
    "start_time": "2022-04-05T16:39:37.479Z"
   },
   {
    "duration": 7,
    "start_time": "2022-04-05T16:42:47.333Z"
   },
   {
    "duration": 10,
    "start_time": "2022-04-05T16:43:47.139Z"
   },
   {
    "duration": 7,
    "start_time": "2022-04-05T16:45:09.439Z"
   },
   {
    "duration": 7,
    "start_time": "2022-04-05T16:49:40.782Z"
   },
   {
    "duration": 5,
    "start_time": "2022-04-05T16:49:42.607Z"
   },
   {
    "duration": 10,
    "start_time": "2022-04-05T16:49:52.493Z"
   },
   {
    "duration": 8,
    "start_time": "2022-04-05T16:49:57.765Z"
   },
   {
    "duration": 6,
    "start_time": "2022-04-05T16:51:06.985Z"
   },
   {
    "duration": 8,
    "start_time": "2022-04-05T16:53:26.292Z"
   },
   {
    "duration": 7,
    "start_time": "2022-04-05T16:55:01.750Z"
   },
   {
    "duration": 5,
    "start_time": "2022-04-05T16:55:19.793Z"
   },
   {
    "duration": 7,
    "start_time": "2022-04-05T16:55:25.615Z"
   },
   {
    "duration": 7,
    "start_time": "2022-04-05T16:56:09.466Z"
   },
   {
    "duration": 10,
    "start_time": "2022-04-05T16:59:34.592Z"
   },
   {
    "duration": 733,
    "start_time": "2022-04-05T17:02:39.200Z"
   },
   {
    "duration": 85,
    "start_time": "2022-04-05T17:02:39.936Z"
   },
   {
    "duration": 18,
    "start_time": "2022-04-05T17:02:40.023Z"
   },
   {
    "duration": 43,
    "start_time": "2022-04-05T17:02:40.043Z"
   },
   {
    "duration": 22,
    "start_time": "2022-04-05T17:02:40.087Z"
   },
   {
    "duration": 21,
    "start_time": "2022-04-05T17:02:40.111Z"
   },
   {
    "duration": 7,
    "start_time": "2022-04-05T17:02:40.134Z"
   },
   {
    "duration": 12,
    "start_time": "2022-04-05T17:02:40.142Z"
   },
   {
    "duration": 12,
    "start_time": "2022-04-05T17:02:40.156Z"
   },
   {
    "duration": 34,
    "start_time": "2022-04-05T17:02:40.171Z"
   },
   {
    "duration": 4,
    "start_time": "2022-04-05T17:02:40.207Z"
   },
   {
    "duration": 9,
    "start_time": "2022-04-05T17:02:40.213Z"
   },
   {
    "duration": 11,
    "start_time": "2022-04-05T17:02:40.224Z"
   },
   {
    "duration": 9,
    "start_time": "2022-04-05T17:02:40.236Z"
   },
   {
    "duration": 10,
    "start_time": "2022-04-05T17:02:40.246Z"
   },
   {
    "duration": 23,
    "start_time": "2022-04-05T17:02:40.258Z"
   },
   {
    "duration": 22,
    "start_time": "2022-04-05T17:02:40.283Z"
   },
   {
    "duration": 9,
    "start_time": "2022-04-05T17:02:40.308Z"
   },
   {
    "duration": 19,
    "start_time": "2022-04-05T17:02:40.319Z"
   },
   {
    "duration": 22,
    "start_time": "2022-04-05T17:02:40.340Z"
   },
   {
    "duration": 31,
    "start_time": "2022-04-05T17:02:40.364Z"
   },
   {
    "duration": 7,
    "start_time": "2022-04-05T17:02:40.397Z"
   },
   {
    "duration": 5,
    "start_time": "2022-04-05T17:02:40.405Z"
   },
   {
    "duration": 14,
    "start_time": "2022-04-05T17:02:40.412Z"
   },
   {
    "duration": 12,
    "start_time": "2022-04-05T17:02:40.428Z"
   },
   {
    "duration": 30,
    "start_time": "2022-04-05T17:02:40.442Z"
   },
   {
    "duration": 36,
    "start_time": "2022-04-05T17:02:40.474Z"
   },
   {
    "duration": 9,
    "start_time": "2022-04-05T17:02:40.516Z"
   },
   {
    "duration": 13,
    "start_time": "2022-04-05T17:02:40.528Z"
   },
   {
    "duration": 13,
    "start_time": "2022-04-05T17:02:40.543Z"
   },
   {
    "duration": 8,
    "start_time": "2022-04-05T17:02:40.558Z"
   },
   {
    "duration": 38,
    "start_time": "2022-04-05T17:02:40.568Z"
   },
   {
    "duration": 7,
    "start_time": "2022-04-05T17:02:40.608Z"
   },
   {
    "duration": 16,
    "start_time": "2022-04-05T17:02:40.617Z"
   },
   {
    "duration": 16,
    "start_time": "2022-04-05T17:02:40.635Z"
   },
   {
    "duration": 12,
    "start_time": "2022-04-05T17:02:40.653Z"
   },
   {
    "duration": 11,
    "start_time": "2022-04-05T17:02:40.667Z"
   },
   {
    "duration": 24,
    "start_time": "2022-04-05T17:02:40.680Z"
   },
   {
    "duration": 21,
    "start_time": "2022-04-05T17:02:40.706Z"
   },
   {
    "duration": 19,
    "start_time": "2022-04-05T17:02:40.730Z"
   },
   {
    "duration": 18,
    "start_time": "2022-04-05T17:02:40.751Z"
   },
   {
    "duration": 20,
    "start_time": "2022-04-05T17:02:40.771Z"
   },
   {
    "duration": 21,
    "start_time": "2022-04-05T17:02:40.793Z"
   },
   {
    "duration": 24,
    "start_time": "2022-04-05T17:02:40.816Z"
   },
   {
    "duration": 16,
    "start_time": "2022-04-05T17:02:40.842Z"
   },
   {
    "duration": 22,
    "start_time": "2022-04-05T17:02:40.860Z"
   },
   {
    "duration": 12,
    "start_time": "2022-04-05T17:02:40.884Z"
   },
   {
    "duration": 16,
    "start_time": "2022-04-05T17:02:40.898Z"
   },
   {
    "duration": 12,
    "start_time": "2022-04-05T17:02:40.916Z"
   },
   {
    "duration": 14,
    "start_time": "2022-04-05T17:02:40.929Z"
   },
   {
    "duration": 8,
    "start_time": "2022-04-05T17:02:40.945Z"
   },
   {
    "duration": 16,
    "start_time": "2022-04-05T17:02:40.955Z"
   },
   {
    "duration": 13,
    "start_time": "2022-04-05T17:02:40.972Z"
   },
   {
    "duration": 25,
    "start_time": "2022-04-05T17:02:40.986Z"
   },
   {
    "duration": 15,
    "start_time": "2022-04-05T17:02:41.013Z"
   },
   {
    "duration": 26,
    "start_time": "2022-04-05T17:02:41.030Z"
   },
   {
    "duration": 18,
    "start_time": "2022-04-05T17:02:41.058Z"
   },
   {
    "duration": 5,
    "start_time": "2022-04-05T17:02:41.078Z"
   },
   {
    "duration": 6,
    "start_time": "2022-04-05T17:02:41.101Z"
   },
   {
    "duration": 42,
    "start_time": "2022-04-05T17:02:41.109Z"
   },
   {
    "duration": 10,
    "start_time": "2022-04-05T17:02:41.153Z"
   },
   {
    "duration": 37,
    "start_time": "2022-04-05T17:02:41.168Z"
   },
   {
    "duration": 18,
    "start_time": "2022-04-05T17:02:41.207Z"
   },
   {
    "duration": 8,
    "start_time": "2022-04-05T17:02:41.227Z"
   },
   {
    "duration": 15,
    "start_time": "2022-04-05T17:02:41.237Z"
   },
   {
    "duration": 8,
    "start_time": "2022-04-05T17:02:41.253Z"
   },
   {
    "duration": 18,
    "start_time": "2022-04-05T17:02:41.263Z"
   },
   {
    "duration": 20,
    "start_time": "2022-04-05T17:02:41.283Z"
   },
   {
    "duration": 14,
    "start_time": "2022-04-05T17:02:41.305Z"
   },
   {
    "duration": 17,
    "start_time": "2022-04-05T17:02:41.321Z"
   },
   {
    "duration": 12,
    "start_time": "2022-04-05T17:02:41.340Z"
   },
   {
    "duration": 36,
    "start_time": "2022-04-05T17:02:41.354Z"
   },
   {
    "duration": 6,
    "start_time": "2022-04-05T17:02:41.401Z"
   },
   {
    "duration": 23,
    "start_time": "2022-04-05T17:02:41.409Z"
   },
   {
    "duration": 15,
    "start_time": "2022-04-05T17:02:41.434Z"
   },
   {
    "duration": 22,
    "start_time": "2022-04-05T17:02:41.451Z"
   },
   {
    "duration": 31,
    "start_time": "2022-04-05T17:02:41.475Z"
   },
   {
    "duration": 7,
    "start_time": "2022-04-05T17:02:41.507Z"
   },
   {
    "duration": 12,
    "start_time": "2022-04-05T17:02:41.516Z"
   },
   {
    "duration": 348,
    "start_time": "2022-04-05T17:02:41.529Z"
   },
   {
    "duration": 4,
    "start_time": "2022-04-05T17:02:41.879Z"
   },
   {
    "duration": 16,
    "start_time": "2022-04-05T17:02:41.885Z"
   },
   {
    "duration": 21,
    "start_time": "2022-04-05T17:02:41.903Z"
   },
   {
    "duration": 14,
    "start_time": "2022-04-05T17:02:41.927Z"
   },
   {
    "duration": 429,
    "start_time": "2022-04-05T17:02:41.943Z"
   },
   {
    "duration": 11,
    "start_time": "2022-04-05T17:02:42.374Z"
   },
   {
    "duration": 373,
    "start_time": "2022-04-05T17:02:42.387Z"
   },
   {
    "duration": 10,
    "start_time": "2022-04-05T17:02:42.762Z"
   },
   {
    "duration": 209,
    "start_time": "2022-04-05T17:02:42.774Z"
   },
   {
    "duration": 19,
    "start_time": "2022-04-05T17:02:42.985Z"
   },
   {
    "duration": 258,
    "start_time": "2022-04-05T17:02:43.006Z"
   },
   {
    "duration": 11,
    "start_time": "2022-04-05T17:02:43.267Z"
   },
   {
    "duration": 30,
    "start_time": "2022-04-05T17:02:43.280Z"
   },
   {
    "duration": 431,
    "start_time": "2022-04-05T17:02:43.312Z"
   },
   {
    "duration": 12,
    "start_time": "2022-04-05T17:02:43.745Z"
   },
   {
    "duration": 14,
    "start_time": "2022-04-05T17:02:43.759Z"
   },
   {
    "duration": 1704,
    "start_time": "2022-04-05T17:02:43.774Z"
   },
   {
    "duration": 15,
    "start_time": "2022-04-05T17:02:45.480Z"
   },
   {
    "duration": 15,
    "start_time": "2022-04-05T17:02:45.497Z"
   },
   {
    "duration": 9,
    "start_time": "2022-04-05T17:02:45.514Z"
   },
   {
    "duration": 17,
    "start_time": "2022-04-05T17:02:45.525Z"
   },
   {
    "duration": 19,
    "start_time": "2022-04-05T17:02:45.543Z"
   },
   {
    "duration": 23,
    "start_time": "2022-04-05T17:02:45.564Z"
   },
   {
    "duration": 13,
    "start_time": "2022-04-05T17:02:45.589Z"
   },
   {
    "duration": 33,
    "start_time": "2022-04-05T17:02:45.604Z"
   },
   {
    "duration": 20,
    "start_time": "2022-04-05T17:02:45.639Z"
   },
   {
    "duration": 4,
    "start_time": "2022-04-05T17:02:45.661Z"
   },
   {
    "duration": 46,
    "start_time": "2022-04-05T17:02:45.667Z"
   },
   {
    "duration": 16,
    "start_time": "2022-04-05T17:02:45.715Z"
   },
   {
    "duration": 175,
    "start_time": "2022-04-05T17:02:45.733Z"
   },
   {
    "duration": 21,
    "start_time": "2022-04-05T17:02:45.910Z"
   },
   {
    "duration": 8,
    "start_time": "2022-04-05T17:02:45.933Z"
   },
   {
    "duration": 264,
    "start_time": "2022-04-05T17:02:45.943Z"
   },
   {
    "duration": 8,
    "start_time": "2022-04-05T17:02:46.209Z"
   },
   {
    "duration": 452,
    "start_time": "2022-04-05T17:02:46.219Z"
   },
   {
    "duration": 9,
    "start_time": "2022-04-05T17:02:46.673Z"
   },
   {
    "duration": 191,
    "start_time": "2022-04-05T17:02:46.683Z"
   },
   {
    "duration": 9,
    "start_time": "2022-04-05T17:02:46.876Z"
   },
   {
    "duration": 275,
    "start_time": "2022-04-05T17:02:46.886Z"
   },
   {
    "duration": 11,
    "start_time": "2022-04-05T17:02:47.163Z"
   },
   {
    "duration": 28,
    "start_time": "2022-04-05T17:02:47.181Z"
   },
   {
    "duration": 974,
    "start_time": "2022-04-05T17:02:47.211Z"
   },
   {
    "duration": 20,
    "start_time": "2022-04-05T17:02:48.187Z"
   },
   {
    "duration": 11,
    "start_time": "2022-04-05T17:02:48.209Z"
   },
   {
    "duration": 9,
    "start_time": "2022-04-05T17:02:48.222Z"
   },
   {
    "duration": 11,
    "start_time": "2022-04-05T17:02:48.233Z"
   },
   {
    "duration": 17,
    "start_time": "2022-04-05T17:05:06.777Z"
   },
   {
    "duration": 17,
    "start_time": "2022-04-05T17:05:13.185Z"
   },
   {
    "duration": 17,
    "start_time": "2022-04-05T17:05:17.576Z"
   },
   {
    "duration": 33,
    "start_time": "2022-04-05T17:36:31.098Z"
   },
   {
    "duration": 27,
    "start_time": "2022-04-05T17:38:07.975Z"
   },
   {
    "duration": 3,
    "start_time": "2022-04-05T17:50:58.233Z"
   },
   {
    "duration": 12,
    "start_time": "2022-04-05T17:51:05.793Z"
   },
   {
    "duration": 152,
    "start_time": "2022-04-05T18:25:09.640Z"
   },
   {
    "duration": 16,
    "start_time": "2022-04-05T18:27:59.724Z"
   },
   {
    "duration": 156,
    "start_time": "2022-04-05T18:31:37.092Z"
   },
   {
    "duration": 272,
    "start_time": "2022-04-05T18:32:12.179Z"
   },
   {
    "duration": 148,
    "start_time": "2022-04-05T18:32:34.883Z"
   },
   {
    "duration": 3,
    "start_time": "2022-04-05T18:36:40.745Z"
   },
   {
    "duration": 141,
    "start_time": "2022-04-05T18:36:55.902Z"
   },
   {
    "duration": 145,
    "start_time": "2022-04-05T18:37:03.330Z"
   },
   {
    "duration": 2,
    "start_time": "2022-04-05T18:46:14.353Z"
   },
   {
    "duration": 3,
    "start_time": "2022-04-05T18:46:21.225Z"
   },
   {
    "duration": 3,
    "start_time": "2022-04-05T18:46:27.273Z"
   },
   {
    "duration": 133,
    "start_time": "2022-04-05T18:48:09.143Z"
   },
   {
    "duration": 142,
    "start_time": "2022-04-05T18:50:24.064Z"
   },
   {
    "duration": 5779,
    "start_time": "2022-04-05T18:50:36.264Z"
   },
   {
    "duration": 155,
    "start_time": "2022-04-05T18:51:46.548Z"
   },
   {
    "duration": 156,
    "start_time": "2022-04-05T18:52:02.187Z"
   },
   {
    "duration": 164,
    "start_time": "2022-04-05T18:52:10.202Z"
   },
   {
    "duration": 200,
    "start_time": "2022-04-05T18:53:03.107Z"
   },
   {
    "duration": 148,
    "start_time": "2022-04-05T18:57:48.927Z"
   },
   {
    "duration": 131,
    "start_time": "2022-04-05T19:02:13.419Z"
   },
   {
    "duration": 150,
    "start_time": "2022-04-05T19:07:15.236Z"
   },
   {
    "duration": 142,
    "start_time": "2022-04-05T19:07:25.835Z"
   },
   {
    "duration": 874,
    "start_time": "2022-04-06T05:41:05.030Z"
   },
   {
    "duration": 81,
    "start_time": "2022-04-06T05:41:05.906Z"
   },
   {
    "duration": 15,
    "start_time": "2022-04-06T05:41:05.988Z"
   },
   {
    "duration": 29,
    "start_time": "2022-04-06T05:41:06.005Z"
   },
   {
    "duration": 29,
    "start_time": "2022-04-06T05:41:06.035Z"
   },
   {
    "duration": 9,
    "start_time": "2022-04-06T05:41:06.066Z"
   },
   {
    "duration": 7,
    "start_time": "2022-04-06T05:41:06.076Z"
   },
   {
    "duration": 5,
    "start_time": "2022-04-06T05:41:06.084Z"
   },
   {
    "duration": 7,
    "start_time": "2022-04-06T05:41:06.091Z"
   },
   {
    "duration": 7,
    "start_time": "2022-04-06T05:41:06.101Z"
   },
   {
    "duration": 4,
    "start_time": "2022-04-06T05:41:06.109Z"
   },
   {
    "duration": 6,
    "start_time": "2022-04-06T05:41:06.114Z"
   },
   {
    "duration": 6,
    "start_time": "2022-04-06T05:41:06.121Z"
   },
   {
    "duration": 5,
    "start_time": "2022-04-06T05:41:06.163Z"
   },
   {
    "duration": 5,
    "start_time": "2022-04-06T05:41:06.169Z"
   },
   {
    "duration": 6,
    "start_time": "2022-04-06T05:41:06.176Z"
   },
   {
    "duration": 6,
    "start_time": "2022-04-06T05:41:06.183Z"
   },
   {
    "duration": 4,
    "start_time": "2022-04-06T05:41:06.190Z"
   },
   {
    "duration": 9,
    "start_time": "2022-04-06T05:41:06.195Z"
   },
   {
    "duration": 7,
    "start_time": "2022-04-06T05:41:06.205Z"
   },
   {
    "duration": 50,
    "start_time": "2022-04-06T05:41:06.214Z"
   },
   {
    "duration": 5,
    "start_time": "2022-04-06T05:41:06.265Z"
   },
   {
    "duration": 5,
    "start_time": "2022-04-06T05:41:06.271Z"
   },
   {
    "duration": 5,
    "start_time": "2022-04-06T05:41:06.277Z"
   },
   {
    "duration": 7,
    "start_time": "2022-04-06T05:41:06.283Z"
   },
   {
    "duration": 23,
    "start_time": "2022-04-06T05:41:06.291Z"
   },
   {
    "duration": 21,
    "start_time": "2022-04-06T05:41:06.315Z"
   },
   {
    "duration": 7,
    "start_time": "2022-04-06T05:41:06.362Z"
   },
   {
    "duration": 7,
    "start_time": "2022-04-06T05:41:06.370Z"
   },
   {
    "duration": 8,
    "start_time": "2022-04-06T05:41:06.378Z"
   },
   {
    "duration": 7,
    "start_time": "2022-04-06T05:41:06.387Z"
   },
   {
    "duration": 8,
    "start_time": "2022-04-06T05:41:06.395Z"
   },
   {
    "duration": 5,
    "start_time": "2022-04-06T05:41:06.404Z"
   },
   {
    "duration": 8,
    "start_time": "2022-04-06T05:41:06.410Z"
   },
   {
    "duration": 5,
    "start_time": "2022-04-06T05:41:06.420Z"
   },
   {
    "duration": 38,
    "start_time": "2022-04-06T05:41:06.426Z"
   },
   {
    "duration": 6,
    "start_time": "2022-04-06T05:41:06.465Z"
   },
   {
    "duration": 8,
    "start_time": "2022-04-06T05:41:06.472Z"
   },
   {
    "duration": 5,
    "start_time": "2022-04-06T05:41:06.481Z"
   },
   {
    "duration": 8,
    "start_time": "2022-04-06T05:41:06.487Z"
   },
   {
    "duration": 5,
    "start_time": "2022-04-06T05:41:06.496Z"
   },
   {
    "duration": 8,
    "start_time": "2022-04-06T05:41:06.502Z"
   },
   {
    "duration": 7,
    "start_time": "2022-04-06T05:41:06.511Z"
   },
   {
    "duration": 9,
    "start_time": "2022-04-06T05:41:06.519Z"
   },
   {
    "duration": 35,
    "start_time": "2022-04-06T05:41:06.529Z"
   },
   {
    "duration": 7,
    "start_time": "2022-04-06T05:41:06.566Z"
   },
   {
    "duration": 7,
    "start_time": "2022-04-06T05:41:06.574Z"
   },
   {
    "duration": 9,
    "start_time": "2022-04-06T05:41:06.583Z"
   },
   {
    "duration": 7,
    "start_time": "2022-04-06T05:41:06.593Z"
   },
   {
    "duration": 7,
    "start_time": "2022-04-06T05:41:06.601Z"
   },
   {
    "duration": 4,
    "start_time": "2022-04-06T05:41:06.610Z"
   },
   {
    "duration": 11,
    "start_time": "2022-04-06T05:41:06.616Z"
   },
   {
    "duration": 38,
    "start_time": "2022-04-06T05:41:06.628Z"
   },
   {
    "duration": 9,
    "start_time": "2022-04-06T05:41:06.668Z"
   },
   {
    "duration": 12,
    "start_time": "2022-04-06T05:41:06.678Z"
   },
   {
    "duration": 17,
    "start_time": "2022-04-06T05:41:06.691Z"
   },
   {
    "duration": 15,
    "start_time": "2022-04-06T05:41:06.709Z"
   },
   {
    "duration": 5,
    "start_time": "2022-04-06T05:41:06.725Z"
   },
   {
    "duration": 32,
    "start_time": "2022-04-06T05:41:06.731Z"
   },
   {
    "duration": 31,
    "start_time": "2022-04-06T05:41:06.764Z"
   },
   {
    "duration": 7,
    "start_time": "2022-04-06T05:41:06.797Z"
   },
   {
    "duration": 11,
    "start_time": "2022-04-06T05:41:06.806Z"
   },
   {
    "duration": 23,
    "start_time": "2022-04-06T05:41:06.818Z"
   },
   {
    "duration": 20,
    "start_time": "2022-04-06T05:41:06.843Z"
   },
   {
    "duration": 26,
    "start_time": "2022-04-06T05:41:06.864Z"
   },
   {
    "duration": 26,
    "start_time": "2022-04-06T05:41:06.892Z"
   },
   {
    "duration": 14,
    "start_time": "2022-04-06T05:41:06.919Z"
   },
   {
    "duration": 22,
    "start_time": "2022-04-06T05:41:06.935Z"
   },
   {
    "duration": 22,
    "start_time": "2022-04-06T05:41:06.959Z"
   },
   {
    "duration": 18,
    "start_time": "2022-04-06T05:41:06.982Z"
   },
   {
    "duration": 9,
    "start_time": "2022-04-06T05:41:07.002Z"
   },
   {
    "duration": 36,
    "start_time": "2022-04-06T05:41:07.012Z"
   },
   {
    "duration": 7,
    "start_time": "2022-04-06T05:41:07.049Z"
   },
   {
    "duration": 40,
    "start_time": "2022-04-06T05:41:07.057Z"
   },
   {
    "duration": 16,
    "start_time": "2022-04-06T05:41:07.099Z"
   },
   {
    "duration": 40,
    "start_time": "2022-04-06T05:41:07.117Z"
   },
   {
    "duration": 23,
    "start_time": "2022-04-06T05:41:07.158Z"
   },
   {
    "duration": 6,
    "start_time": "2022-04-06T05:41:07.182Z"
   },
   {
    "duration": 5,
    "start_time": "2022-04-06T05:41:07.189Z"
   },
   {
    "duration": 306,
    "start_time": "2022-04-06T05:41:07.195Z"
   },
   {
    "duration": 4,
    "start_time": "2022-04-06T05:41:07.503Z"
   },
   {
    "duration": 4,
    "start_time": "2022-04-06T05:41:07.513Z"
   },
   {
    "duration": 18,
    "start_time": "2022-04-06T05:41:07.518Z"
   },
   {
    "duration": 40,
    "start_time": "2022-04-06T05:41:07.537Z"
   },
   {
    "duration": 7,
    "start_time": "2022-04-06T05:41:07.579Z"
   },
   {
    "duration": 390,
    "start_time": "2022-04-06T05:41:07.588Z"
   },
   {
    "duration": 8,
    "start_time": "2022-04-06T05:41:07.980Z"
   },
   {
    "duration": 329,
    "start_time": "2022-04-06T05:41:07.989Z"
   },
   {
    "duration": 9,
    "start_time": "2022-04-06T05:41:08.319Z"
   },
   {
    "duration": 182,
    "start_time": "2022-04-06T05:41:08.329Z"
   },
   {
    "duration": 9,
    "start_time": "2022-04-06T05:41:08.512Z"
   },
   {
    "duration": 221,
    "start_time": "2022-04-06T05:41:08.523Z"
   },
   {
    "duration": 18,
    "start_time": "2022-04-06T05:41:08.745Z"
   },
   {
    "duration": 11,
    "start_time": "2022-04-06T05:41:08.764Z"
   },
   {
    "duration": 396,
    "start_time": "2022-04-06T05:41:08.777Z"
   },
   {
    "duration": 10,
    "start_time": "2022-04-06T05:41:09.175Z"
   },
   {
    "duration": 13,
    "start_time": "2022-04-06T05:41:09.187Z"
   },
   {
    "duration": 1522,
    "start_time": "2022-04-06T05:41:09.201Z"
   },
   {
    "duration": 3,
    "start_time": "2022-04-06T05:41:10.725Z"
   },
   {
    "duration": 9,
    "start_time": "2022-04-06T05:41:10.729Z"
   },
   {
    "duration": 125,
    "start_time": "2022-04-06T05:41:10.740Z"
   },
   {
    "duration": 131,
    "start_time": "2022-04-06T05:41:10.866Z"
   },
   {
    "duration": 2,
    "start_time": "2022-04-06T05:41:10.999Z"
   },
   {
    "duration": 5,
    "start_time": "2022-04-06T05:41:11.002Z"
   },
   {
    "duration": 7,
    "start_time": "2022-04-06T05:41:11.009Z"
   },
   {
    "duration": 146,
    "start_time": "2022-04-06T05:41:11.017Z"
   },
   {
    "duration": 158,
    "start_time": "2022-04-06T05:41:11.164Z"
   },
   {
    "duration": 241,
    "start_time": "2022-04-06T05:41:11.323Z"
   },
   {
    "duration": 10,
    "start_time": "2022-04-06T05:41:11.566Z"
   },
   {
    "duration": 3,
    "start_time": "2022-04-06T05:41:11.577Z"
   },
   {
    "duration": 25,
    "start_time": "2022-04-06T05:41:11.581Z"
   },
   {
    "duration": 17,
    "start_time": "2022-04-06T05:41:11.607Z"
   },
   {
    "duration": 4,
    "start_time": "2022-04-06T05:41:11.625Z"
   },
   {
    "duration": 50,
    "start_time": "2022-04-06T05:41:11.630Z"
   },
   {
    "duration": 14,
    "start_time": "2022-04-06T05:41:11.681Z"
   },
   {
    "duration": 157,
    "start_time": "2022-04-06T05:41:11.696Z"
   },
   {
    "duration": 19,
    "start_time": "2022-04-06T05:41:11.863Z"
   },
   {
    "duration": 8,
    "start_time": "2022-04-06T05:41:11.884Z"
   },
   {
    "duration": 235,
    "start_time": "2022-04-06T05:41:11.894Z"
   },
   {
    "duration": 9,
    "start_time": "2022-04-06T05:41:12.132Z"
   },
   {
    "duration": 323,
    "start_time": "2022-04-06T05:41:12.142Z"
   },
   {
    "duration": 9,
    "start_time": "2022-04-06T05:41:12.467Z"
   },
   {
    "duration": 169,
    "start_time": "2022-04-06T05:41:12.478Z"
   },
   {
    "duration": 17,
    "start_time": "2022-04-06T05:41:12.649Z"
   },
   {
    "duration": 225,
    "start_time": "2022-04-06T05:41:12.668Z"
   },
   {
    "duration": 8,
    "start_time": "2022-04-06T05:41:12.895Z"
   },
   {
    "duration": 11,
    "start_time": "2022-04-06T05:41:12.905Z"
   },
   {
    "duration": 991,
    "start_time": "2022-04-06T05:41:12.918Z"
   },
   {
    "duration": 11,
    "start_time": "2022-04-06T05:41:13.911Z"
   },
   {
    "duration": 17,
    "start_time": "2022-04-06T05:41:13.924Z"
   },
   {
    "duration": 22,
    "start_time": "2022-04-06T05:41:13.943Z"
   },
   {
    "duration": 15,
    "start_time": "2022-04-06T05:41:13.966Z"
   },
   {
    "duration": 2,
    "start_time": "2022-04-06T05:47:25.736Z"
   },
   {
    "duration": 3,
    "start_time": "2022-04-06T05:47:27.228Z"
   },
   {
    "duration": 69,
    "start_time": "2022-04-06T05:59:57.682Z"
   },
   {
    "duration": 9,
    "start_time": "2022-04-06T06:00:09.536Z"
   },
   {
    "duration": 9,
    "start_time": "2022-04-06T06:00:11.113Z"
   },
   {
    "duration": 143,
    "start_time": "2022-04-06T06:00:13.203Z"
   },
   {
    "duration": 126,
    "start_time": "2022-04-06T06:00:49.818Z"
   },
   {
    "duration": 144,
    "start_time": "2022-04-06T06:01:03.246Z"
   },
   {
    "duration": 132,
    "start_time": "2022-04-06T06:02:59.295Z"
   },
   {
    "duration": 132,
    "start_time": "2022-04-06T06:11:38.101Z"
   },
   {
    "duration": 144,
    "start_time": "2022-04-06T06:12:07.579Z"
   },
   {
    "duration": 135,
    "start_time": "2022-04-06T06:12:16.875Z"
   },
   {
    "duration": 157,
    "start_time": "2022-04-06T06:31:52.539Z"
   },
   {
    "duration": 143,
    "start_time": "2022-04-06T06:34:42.704Z"
   },
   {
    "duration": 131,
    "start_time": "2022-04-06T06:35:12.930Z"
   },
   {
    "duration": 123,
    "start_time": "2022-04-06T06:51:54.544Z"
   },
   {
    "duration": 131,
    "start_time": "2022-04-06T07:50:03.667Z"
   },
   {
    "duration": 2,
    "start_time": "2022-04-06T08:21:33.061Z"
   },
   {
    "duration": 2,
    "start_time": "2022-04-06T08:21:36.778Z"
   },
   {
    "duration": 10,
    "start_time": "2022-04-06T08:33:02.948Z"
   },
   {
    "duration": 9,
    "start_time": "2022-04-06T08:33:04.914Z"
   },
   {
    "duration": 151,
    "start_time": "2022-04-06T08:33:07.059Z"
   },
   {
    "duration": 8,
    "start_time": "2022-04-06T08:33:39.373Z"
   },
   {
    "duration": 10,
    "start_time": "2022-04-06T08:33:40.290Z"
   },
   {
    "duration": 134,
    "start_time": "2022-04-06T08:33:41.396Z"
   },
   {
    "duration": 151,
    "start_time": "2022-04-06T08:35:29.268Z"
   },
   {
    "duration": 8,
    "start_time": "2022-04-06T08:38:22.949Z"
   },
   {
    "duration": 9,
    "start_time": "2022-04-06T08:38:23.954Z"
   },
   {
    "duration": 143,
    "start_time": "2022-04-06T08:38:24.365Z"
   },
   {
    "duration": 150,
    "start_time": "2022-04-06T08:38:38.226Z"
   },
   {
    "duration": 9,
    "start_time": "2022-04-06T08:42:06.705Z"
   },
   {
    "duration": 8,
    "start_time": "2022-04-06T08:42:07.417Z"
   },
   {
    "duration": 149,
    "start_time": "2022-04-06T08:42:08.442Z"
   },
   {
    "duration": 9,
    "start_time": "2022-04-06T08:43:02.739Z"
   },
   {
    "duration": 8,
    "start_time": "2022-04-06T08:43:03.675Z"
   },
   {
    "duration": 133,
    "start_time": "2022-04-06T08:43:04.794Z"
   },
   {
    "duration": 13,
    "start_time": "2022-04-06T09:07:21.155Z"
   },
   {
    "duration": 299,
    "start_time": "2022-04-06T09:07:23.195Z"
   },
   {
    "duration": 15,
    "start_time": "2022-04-06T09:09:24.257Z"
   },
   {
    "duration": 149,
    "start_time": "2022-04-06T09:09:28.317Z"
   },
   {
    "duration": 13,
    "start_time": "2022-04-06T09:13:26.965Z"
   },
   {
    "duration": 17,
    "start_time": "2022-04-06T09:14:28.852Z"
   },
   {
    "duration": 137,
    "start_time": "2022-04-06T09:14:29.675Z"
   },
   {
    "duration": 14,
    "start_time": "2022-04-06T09:15:53.543Z"
   },
   {
    "duration": 184,
    "start_time": "2022-04-06T09:15:56.913Z"
   },
   {
    "duration": 12,
    "start_time": "2022-04-06T09:32:04.921Z"
   },
   {
    "duration": 132,
    "start_time": "2022-04-06T09:32:06.602Z"
   },
   {
    "duration": 14,
    "start_time": "2022-04-06T09:32:39.305Z"
   },
   {
    "duration": 132,
    "start_time": "2022-04-06T09:32:40.618Z"
   },
   {
    "duration": 219,
    "start_time": "2022-04-06T10:07:26.692Z"
   },
   {
    "duration": 24,
    "start_time": "2022-04-06T10:27:13.882Z"
   },
   {
    "duration": 194,
    "start_time": "2022-04-06T10:39:39.685Z"
   }
  ],
  "kernelspec": {
   "display_name": "Python 3 (ipykernel)",
   "language": "python",
   "name": "python3"
  },
  "language_info": {
   "codemirror_mode": {
    "name": "ipython",
    "version": 3
   },
   "file_extension": ".py",
   "mimetype": "text/x-python",
   "name": "python",
   "nbconvert_exporter": "python",
   "pygments_lexer": "ipython3",
   "version": "3.9.7"
  },
  "toc": {
   "base_numbering": 1,
   "nav_menu": {},
   "number_sections": true,
   "sideBar": true,
   "skip_h1_title": true,
   "title_cell": "Содержание",
   "title_sidebar": "Contents",
   "toc_cell": true,
   "toc_position": {},
   "toc_section_display": true,
   "toc_window_display": true
  }
 },
 "nbformat": 4,
 "nbformat_minor": 4
}
