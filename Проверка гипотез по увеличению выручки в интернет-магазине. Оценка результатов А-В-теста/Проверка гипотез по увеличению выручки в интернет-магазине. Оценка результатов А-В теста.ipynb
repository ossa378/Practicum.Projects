{
 "cells": [
  {
   "cell_type": "markdown",
   "metadata": {},
   "source": [
    "# Проверка гипотез по увеличению выручки в интернет-магазине. Oценка результатов А/В-теста"
   ]
  },
  {
   "cell_type": "markdown",
   "metadata": {},
   "source": [
    "Исследование для крупного интернет-магазина.\n",
    "\n",
    "Отдел аналитики вместе с отделом маркетинга подготовили список гипотез для увеличения выручки. Необходимо выбрать наиболее приоритетную.Информация находится в файле hypothesis.csv и  предоставлена для изучения.\n",
    "\n",
    "Был проведен А/В-тест и получены результаты, которые нужно проанализировать. Информация с данными находится в файлах orders.csv и visitors.csv  и также предоставлена для изучения.\n",
    "\n",
    "*Таким образом в данной работе постараемся выполнить две задачи:*\n",
    " \n",
    " первая - **приоритизация гипотез**\n",
    " \n",
    " вторая - **анализ результатов А/В-теста**\n",
    "\n",
    "\n",
    "Исследование пройдет по следующим этапам\n",
    "\n",
    " - изучение данных из файла, обзор данных, подготовка данных к анализу\n",
    " - исследовательский анализ данных\n",
    "   - 1 часть - приоритизация гипотез\n",
    "   - 2 часть - анализ А/В теста"
   ]
  },
  {
   "cell_type": "markdown",
   "metadata": {},
   "source": [
    "## Изучение общей информации\n",
    "\n",
    "- Загрузим необходимые библиотеки. Прочитаем файлы. Опишем данные."
   ]
  },
  {
   "cell_type": "code",
   "execution_count": 1,
   "metadata": {},
   "outputs": [],
   "source": [
    "import pandas as pd\n",
    "import scipy.stats as stats\n",
    "import datetime as dt\n",
    "import numpy as np\n",
    "import matplotlib.pyplot as plt\n",
    "from pandas.plotting import register_matplotlib_converters\n",
    "import warnings\n",
    "register_matplotlib_converters()"
   ]
  },
  {
   "cell_type": "code",
   "execution_count": 2,
   "metadata": {},
   "outputs": [
    {
     "data": {
      "text/html": [
       "<div>\n",
       "<style scoped>\n",
       "    .dataframe tbody tr th:only-of-type {\n",
       "        vertical-align: middle;\n",
       "    }\n",
       "\n",
       "    .dataframe tbody tr th {\n",
       "        vertical-align: top;\n",
       "    }\n",
       "\n",
       "    .dataframe thead th {\n",
       "        text-align: right;\n",
       "    }\n",
       "</style>\n",
       "<table border=\"1\" class=\"dataframe\">\n",
       "  <thead>\n",
       "    <tr style=\"text-align: right;\">\n",
       "      <th></th>\n",
       "      <th>Hypothesis</th>\n",
       "      <th>Reach</th>\n",
       "      <th>Impact</th>\n",
       "      <th>Confidence</th>\n",
       "      <th>Efforts</th>\n",
       "    </tr>\n",
       "  </thead>\n",
       "  <tbody>\n",
       "    <tr>\n",
       "      <th>0</th>\n",
       "      <td>Добавить два новых канала привлечения трафика,...</td>\n",
       "      <td>3</td>\n",
       "      <td>10</td>\n",
       "      <td>8</td>\n",
       "      <td>6</td>\n",
       "    </tr>\n",
       "    <tr>\n",
       "      <th>1</th>\n",
       "      <td>Запустить собственную службу доставки, что сок...</td>\n",
       "      <td>2</td>\n",
       "      <td>5</td>\n",
       "      <td>4</td>\n",
       "      <td>10</td>\n",
       "    </tr>\n",
       "    <tr>\n",
       "      <th>2</th>\n",
       "      <td>Добавить блоки рекомендаций товаров на сайт ин...</td>\n",
       "      <td>8</td>\n",
       "      <td>3</td>\n",
       "      <td>7</td>\n",
       "      <td>3</td>\n",
       "    </tr>\n",
       "    <tr>\n",
       "      <th>3</th>\n",
       "      <td>Изменить структура категорий, что увеличит кон...</td>\n",
       "      <td>8</td>\n",
       "      <td>3</td>\n",
       "      <td>3</td>\n",
       "      <td>8</td>\n",
       "    </tr>\n",
       "    <tr>\n",
       "      <th>4</th>\n",
       "      <td>Изменить цвет фона главной страницы, чтобы уве...</td>\n",
       "      <td>3</td>\n",
       "      <td>1</td>\n",
       "      <td>1</td>\n",
       "      <td>1</td>\n",
       "    </tr>\n",
       "    <tr>\n",
       "      <th>5</th>\n",
       "      <td>Добавить страницу отзывов клиентов о магазине,...</td>\n",
       "      <td>3</td>\n",
       "      <td>2</td>\n",
       "      <td>2</td>\n",
       "      <td>3</td>\n",
       "    </tr>\n",
       "    <tr>\n",
       "      <th>6</th>\n",
       "      <td>Показать на главной странице баннеры с актуаль...</td>\n",
       "      <td>5</td>\n",
       "      <td>3</td>\n",
       "      <td>8</td>\n",
       "      <td>3</td>\n",
       "    </tr>\n",
       "    <tr>\n",
       "      <th>7</th>\n",
       "      <td>Добавить форму подписки на все основные страни...</td>\n",
       "      <td>10</td>\n",
       "      <td>7</td>\n",
       "      <td>8</td>\n",
       "      <td>5</td>\n",
       "    </tr>\n",
       "    <tr>\n",
       "      <th>8</th>\n",
       "      <td>Запустить акцию, дающую скидку на товар в день...</td>\n",
       "      <td>1</td>\n",
       "      <td>9</td>\n",
       "      <td>9</td>\n",
       "      <td>5</td>\n",
       "    </tr>\n",
       "  </tbody>\n",
       "</table>\n",
       "</div>"
      ],
      "text/plain": [
       "                                          Hypothesis  Reach  Impact  \\\n",
       "0  Добавить два новых канала привлечения трафика,...      3      10   \n",
       "1  Запустить собственную службу доставки, что сок...      2       5   \n",
       "2  Добавить блоки рекомендаций товаров на сайт ин...      8       3   \n",
       "3  Изменить структура категорий, что увеличит кон...      8       3   \n",
       "4  Изменить цвет фона главной страницы, чтобы уве...      3       1   \n",
       "5  Добавить страницу отзывов клиентов о магазине,...      3       2   \n",
       "6  Показать на главной странице баннеры с актуаль...      5       3   \n",
       "7  Добавить форму подписки на все основные страни...     10       7   \n",
       "8  Запустить акцию, дающую скидку на товар в день...      1       9   \n",
       "\n",
       "   Confidence  Efforts  \n",
       "0           8        6  \n",
       "1           4       10  \n",
       "2           7        3  \n",
       "3           3        8  \n",
       "4           1        1  \n",
       "5           2        3  \n",
       "6           8        3  \n",
       "7           8        5  \n",
       "8           9        5  "
      ]
     },
     "execution_count": 2,
     "metadata": {},
     "output_type": "execute_result"
    }
   ],
   "source": [
    "hypothesis = pd.read_csv('/datasets/hypothesis.csv')\n",
    "hypothesis.head(10)"
   ]
  },
  {
   "cell_type": "code",
   "execution_count": 3,
   "metadata": {},
   "outputs": [
    {
     "name": "stdout",
     "output_type": "stream",
     "text": [
      "<class 'pandas.core.frame.DataFrame'>\n",
      "RangeIndex: 9 entries, 0 to 8\n",
      "Data columns (total 5 columns):\n",
      " #   Column      Non-Null Count  Dtype \n",
      "---  ------      --------------  ----- \n",
      " 0   Hypothesis  9 non-null      object\n",
      " 1   Reach       9 non-null      int64 \n",
      " 2   Impact      9 non-null      int64 \n",
      " 3   Confidence  9 non-null      int64 \n",
      " 4   Efforts     9 non-null      int64 \n",
      "dtypes: int64(4), object(1)\n",
      "memory usage: 488.0+ bytes\n"
     ]
    }
   ],
   "source": [
    "hypothesis.info()"
   ]
  },
  {
   "cell_type": "code",
   "execution_count": 4,
   "metadata": {},
   "outputs": [
    {
     "data": {
      "text/plain": [
       "Добавить два новых канала привлечения трафика, что позволит привлекать на 30% больше пользователей              1\n",
       "Запустить собственную службу доставки, что сократит срок доставки заказов                                       1\n",
       "Добавить блоки рекомендаций товаров на сайт интернет магазина, чтобы повысить конверсию и средний чек заказа    1\n",
       "Изменить структура категорий, что увеличит конверсию, т.к. пользователи быстрее найдут нужный товар             1\n",
       "Изменить цвет фона главной страницы, чтобы увеличить вовлеченность пользователей                                1\n",
       "Добавить страницу отзывов клиентов о магазине, что позволит увеличить количество заказов                        1\n",
       "Показать на главной странице баннеры с актуальными акциями и распродажами, чтобы увеличить конверсию            1\n",
       "Добавить форму подписки на все основные страницы, чтобы собрать базу клиентов для email-рассылок                1\n",
       "Запустить акцию, дающую скидку на товар в день рождения                                                         1\n",
       "Name: Hypothesis, dtype: int64"
      ]
     },
     "execution_count": 4,
     "metadata": {},
     "output_type": "execute_result"
    }
   ],
   "source": [
    "hypothesis['Hypothesis'].value_counts() # получили описание"
   ]
  },
  {
   "cell_type": "markdown",
   "metadata": {},
   "source": [
    " - В таблице 9 строк с информацией о 9 гипотезах. Все значения по колонке `Hypothesis` уникальные. Пропущенных значений в столбцах с оценками нет."
   ]
  },
  {
   "cell_type": "code",
   "execution_count": 5,
   "metadata": {},
   "outputs": [
    {
     "data": {
      "text/html": [
       "<div>\n",
       "<style scoped>\n",
       "    .dataframe tbody tr th:only-of-type {\n",
       "        vertical-align: middle;\n",
       "    }\n",
       "\n",
       "    .dataframe tbody tr th {\n",
       "        vertical-align: top;\n",
       "    }\n",
       "\n",
       "    .dataframe thead th {\n",
       "        text-align: right;\n",
       "    }\n",
       "</style>\n",
       "<table border=\"1\" class=\"dataframe\">\n",
       "  <thead>\n",
       "    <tr style=\"text-align: right;\">\n",
       "      <th></th>\n",
       "      <th>transactionId</th>\n",
       "      <th>visitorId</th>\n",
       "      <th>date</th>\n",
       "      <th>revenue</th>\n",
       "      <th>group</th>\n",
       "    </tr>\n",
       "  </thead>\n",
       "  <tbody>\n",
       "    <tr>\n",
       "      <th>0</th>\n",
       "      <td>3667963787</td>\n",
       "      <td>3312258926</td>\n",
       "      <td>2019-08-15</td>\n",
       "      <td>1650</td>\n",
       "      <td>B</td>\n",
       "    </tr>\n",
       "    <tr>\n",
       "      <th>1</th>\n",
       "      <td>2804400009</td>\n",
       "      <td>3642806036</td>\n",
       "      <td>2019-08-15</td>\n",
       "      <td>730</td>\n",
       "      <td>B</td>\n",
       "    </tr>\n",
       "    <tr>\n",
       "      <th>2</th>\n",
       "      <td>2961555356</td>\n",
       "      <td>4069496402</td>\n",
       "      <td>2019-08-15</td>\n",
       "      <td>400</td>\n",
       "      <td>A</td>\n",
       "    </tr>\n",
       "    <tr>\n",
       "      <th>3</th>\n",
       "      <td>3797467345</td>\n",
       "      <td>1196621759</td>\n",
       "      <td>2019-08-15</td>\n",
       "      <td>9759</td>\n",
       "      <td>B</td>\n",
       "    </tr>\n",
       "    <tr>\n",
       "      <th>4</th>\n",
       "      <td>2282983706</td>\n",
       "      <td>2322279887</td>\n",
       "      <td>2019-08-15</td>\n",
       "      <td>2308</td>\n",
       "      <td>B</td>\n",
       "    </tr>\n",
       "  </tbody>\n",
       "</table>\n",
       "</div>"
      ],
      "text/plain": [
       "   transactionId   visitorId        date  revenue group\n",
       "0     3667963787  3312258926  2019-08-15     1650     B\n",
       "1     2804400009  3642806036  2019-08-15      730     B\n",
       "2     2961555356  4069496402  2019-08-15      400     A\n",
       "3     3797467345  1196621759  2019-08-15     9759     B\n",
       "4     2282983706  2322279887  2019-08-15     2308     B"
      ]
     },
     "execution_count": 5,
     "metadata": {},
     "output_type": "execute_result"
    }
   ],
   "source": [
    "orders = pd.read_csv('/datasets/orders.csv')\n",
    "orders.head()"
   ]
  },
  {
   "cell_type": "code",
   "execution_count": 6,
   "metadata": {},
   "outputs": [
    {
     "name": "stdout",
     "output_type": "stream",
     "text": [
      "<class 'pandas.core.frame.DataFrame'>\n",
      "RangeIndex: 1197 entries, 0 to 1196\n",
      "Data columns (total 5 columns):\n",
      " #   Column         Non-Null Count  Dtype \n",
      "---  ------         --------------  ----- \n",
      " 0   transactionId  1197 non-null   int64 \n",
      " 1   visitorId      1197 non-null   int64 \n",
      " 2   date           1197 non-null   object\n",
      " 3   revenue        1197 non-null   int64 \n",
      " 4   group          1197 non-null   object\n",
      "dtypes: int64(3), object(2)\n",
      "memory usage: 46.9+ KB\n"
     ]
    }
   ],
   "source": [
    "orders.info()"
   ]
  },
  {
   "cell_type": "markdown",
   "metadata": {},
   "source": [
    " - В таблице `orders` пропущенных значений нет, количество строк во всех столбцах одинаковое. Преобразуем данные о времени. сделаем проверку на дубликаты"
   ]
  },
  {
   "cell_type": "code",
   "execution_count": 7,
   "metadata": {},
   "outputs": [
    {
     "name": "stdout",
     "output_type": "stream",
     "text": [
      "<class 'pandas.core.frame.DataFrame'>\n",
      "RangeIndex: 1197 entries, 0 to 1196\n",
      "Data columns (total 5 columns):\n",
      " #   Column         Non-Null Count  Dtype         \n",
      "---  ------         --------------  -----         \n",
      " 0   transactionId  1197 non-null   int64         \n",
      " 1   visitorId      1197 non-null   int64         \n",
      " 2   date           1197 non-null   datetime64[ns]\n",
      " 3   revenue        1197 non-null   int64         \n",
      " 4   group          1197 non-null   object        \n",
      "dtypes: datetime64[ns](1), int64(3), object(1)\n",
      "memory usage: 46.9+ KB\n"
     ]
    }
   ],
   "source": [
    "orders['date'] = pd.to_datetime(orders['date'])  # изменим тип данных\n",
    "orders.info()"
   ]
  },
  {
   "cell_type": "code",
   "execution_count": 8,
   "metadata": {},
   "outputs": [
    {
     "data": {
      "text/plain": [
       "0"
      ]
     },
     "execution_count": 8,
     "metadata": {},
     "output_type": "execute_result"
    }
   ],
   "source": [
    "orders.duplicated().sum()"
   ]
  },
  {
   "cell_type": "code",
   "execution_count": 9,
   "metadata": {
    "scrolled": true
   },
   "outputs": [
    {
     "data": {
      "text/html": [
       "<div>\n",
       "<style scoped>\n",
       "    .dataframe tbody tr th:only-of-type {\n",
       "        vertical-align: middle;\n",
       "    }\n",
       "\n",
       "    .dataframe tbody tr th {\n",
       "        vertical-align: top;\n",
       "    }\n",
       "\n",
       "    .dataframe thead th {\n",
       "        text-align: right;\n",
       "    }\n",
       "</style>\n",
       "<table border=\"1\" class=\"dataframe\">\n",
       "  <thead>\n",
       "    <tr style=\"text-align: right;\">\n",
       "      <th></th>\n",
       "      <th>date</th>\n",
       "      <th>group</th>\n",
       "      <th>visitors</th>\n",
       "    </tr>\n",
       "  </thead>\n",
       "  <tbody>\n",
       "    <tr>\n",
       "      <th>0</th>\n",
       "      <td>2019-08-01</td>\n",
       "      <td>A</td>\n",
       "      <td>719</td>\n",
       "    </tr>\n",
       "    <tr>\n",
       "      <th>1</th>\n",
       "      <td>2019-08-02</td>\n",
       "      <td>A</td>\n",
       "      <td>619</td>\n",
       "    </tr>\n",
       "    <tr>\n",
       "      <th>2</th>\n",
       "      <td>2019-08-03</td>\n",
       "      <td>A</td>\n",
       "      <td>507</td>\n",
       "    </tr>\n",
       "    <tr>\n",
       "      <th>3</th>\n",
       "      <td>2019-08-04</td>\n",
       "      <td>A</td>\n",
       "      <td>717</td>\n",
       "    </tr>\n",
       "    <tr>\n",
       "      <th>4</th>\n",
       "      <td>2019-08-05</td>\n",
       "      <td>A</td>\n",
       "      <td>756</td>\n",
       "    </tr>\n",
       "  </tbody>\n",
       "</table>\n",
       "</div>"
      ],
      "text/plain": [
       "         date group  visitors\n",
       "0  2019-08-01     A       719\n",
       "1  2019-08-02     A       619\n",
       "2  2019-08-03     A       507\n",
       "3  2019-08-04     A       717\n",
       "4  2019-08-05     A       756"
      ]
     },
     "execution_count": 9,
     "metadata": {},
     "output_type": "execute_result"
    }
   ],
   "source": [
    "visitors = pd.read_csv('/datasets/visitors.csv')\n",
    "visitors.head()"
   ]
  },
  {
   "cell_type": "code",
   "execution_count": 10,
   "metadata": {},
   "outputs": [
    {
     "name": "stdout",
     "output_type": "stream",
     "text": [
      "<class 'pandas.core.frame.DataFrame'>\n",
      "RangeIndex: 62 entries, 0 to 61\n",
      "Data columns (total 3 columns):\n",
      " #   Column    Non-Null Count  Dtype \n",
      "---  ------    --------------  ----- \n",
      " 0   date      62 non-null     object\n",
      " 1   group     62 non-null     object\n",
      " 2   visitors  62 non-null     int64 \n",
      "dtypes: int64(1), object(2)\n",
      "memory usage: 1.6+ KB\n"
     ]
    }
   ],
   "source": [
    "visitors.info()"
   ]
  },
  {
   "cell_type": "markdown",
   "metadata": {},
   "source": [
    " - Количество строк во всех колонках одинаковое, пропусков нет. Изменим формат даты. Сделаем проверку на дубликаты"
   ]
  },
  {
   "cell_type": "code",
   "execution_count": 11,
   "metadata": {},
   "outputs": [
    {
     "name": "stdout",
     "output_type": "stream",
     "text": [
      "<class 'pandas.core.frame.DataFrame'>\n",
      "RangeIndex: 62 entries, 0 to 61\n",
      "Data columns (total 3 columns):\n",
      " #   Column    Non-Null Count  Dtype         \n",
      "---  ------    --------------  -----         \n",
      " 0   date      62 non-null     datetime64[ns]\n",
      " 1   group     62 non-null     object        \n",
      " 2   visitors  62 non-null     int64         \n",
      "dtypes: datetime64[ns](1), int64(1), object(1)\n",
      "memory usage: 1.6+ KB\n"
     ]
    }
   ],
   "source": [
    "visitors['date'] = pd.to_datetime(visitors['date'])\n",
    "visitors.info()"
   ]
  },
  {
   "cell_type": "code",
   "execution_count": 12,
   "metadata": {},
   "outputs": [
    {
     "data": {
      "text/plain": [
       "0"
      ]
     },
     "execution_count": 12,
     "metadata": {},
     "output_type": "execute_result"
    }
   ],
   "source": [
    "visitors.duplicated().sum()"
   ]
  },
  {
   "cell_type": "markdown",
   "metadata": {},
   "source": [
    "### Вывод"
   ]
  },
  {
   "cell_type": "markdown",
   "metadata": {},
   "source": [
    "Мы изучили предоставленные таблицы:\n",
    " - информацио о гипотезах\n",
    " - информацию о заказах\n",
    " - информацию о визитах\n",
    " \n",
    "Во всех таблицах нет пропусков в данных \n",
    "\n",
    "В таблицах `orders` `visitors` преобразовали данные о времени для дальнейших расчетов\n",
    "\n",
    "Проверили описание данных методом `value_counts()` в колонке с названием гипотез. Аномалий в названиях не выявли.\n",
    "\n",
    "Дубликатов не обнаружили\n"
   ]
  },
  {
   "cell_type": "markdown",
   "metadata": {},
   "source": [
    "## Исследовательский анализ данных"
   ]
  },
  {
   "cell_type": "markdown",
   "metadata": {},
   "source": [
    "### Приоритизация гипотез"
   ]
  },
  {
   "cell_type": "markdown",
   "metadata": {},
   "source": [
    "Протестировать все гипотезы по улучшению бизнес-показателей сложно. Поэтому выбирают лучшую - приоритетную гипотезу. В данной работе используем наиболее популярные  способы приоритизации `ICE` и `RICE`\n",
    "\n"
   ]
  },
  {
   "cell_type": "code",
   "execution_count": 13,
   "metadata": {},
   "outputs": [
    {
     "data": {
      "text/html": [
       "<div>\n",
       "<style scoped>\n",
       "    .dataframe tbody tr th:only-of-type {\n",
       "        vertical-align: middle;\n",
       "    }\n",
       "\n",
       "    .dataframe tbody tr th {\n",
       "        vertical-align: top;\n",
       "    }\n",
       "\n",
       "    .dataframe thead th {\n",
       "        text-align: right;\n",
       "    }\n",
       "</style>\n",
       "<table border=\"1\" class=\"dataframe\">\n",
       "  <thead>\n",
       "    <tr style=\"text-align: right;\">\n",
       "      <th></th>\n",
       "      <th>Hypothesis</th>\n",
       "      <th>Reach</th>\n",
       "      <th>Impact</th>\n",
       "      <th>Confidence</th>\n",
       "      <th>Efforts</th>\n",
       "    </tr>\n",
       "  </thead>\n",
       "  <tbody>\n",
       "    <tr>\n",
       "      <th>0</th>\n",
       "      <td>Добавить два новых канала привлечения трафика, что позволит привлекать на 30% больше пользователей</td>\n",
       "      <td>3</td>\n",
       "      <td>10</td>\n",
       "      <td>8</td>\n",
       "      <td>6</td>\n",
       "    </tr>\n",
       "    <tr>\n",
       "      <th>1</th>\n",
       "      <td>Запустить собственную службу доставки, что сократит срок доставки заказов</td>\n",
       "      <td>2</td>\n",
       "      <td>5</td>\n",
       "      <td>4</td>\n",
       "      <td>10</td>\n",
       "    </tr>\n",
       "    <tr>\n",
       "      <th>2</th>\n",
       "      <td>Добавить блоки рекомендаций товаров на сайт интернет магазина, чтобы повысить конверсию и средний чек заказа</td>\n",
       "      <td>8</td>\n",
       "      <td>3</td>\n",
       "      <td>7</td>\n",
       "      <td>3</td>\n",
       "    </tr>\n",
       "    <tr>\n",
       "      <th>3</th>\n",
       "      <td>Изменить структура категорий, что увеличит конверсию, т.к. пользователи быстрее найдут нужный товар</td>\n",
       "      <td>8</td>\n",
       "      <td>3</td>\n",
       "      <td>3</td>\n",
       "      <td>8</td>\n",
       "    </tr>\n",
       "    <tr>\n",
       "      <th>4</th>\n",
       "      <td>Изменить цвет фона главной страницы, чтобы увеличить вовлеченность пользователей</td>\n",
       "      <td>3</td>\n",
       "      <td>1</td>\n",
       "      <td>1</td>\n",
       "      <td>1</td>\n",
       "    </tr>\n",
       "    <tr>\n",
       "      <th>5</th>\n",
       "      <td>Добавить страницу отзывов клиентов о магазине, что позволит увеличить количество заказов</td>\n",
       "      <td>3</td>\n",
       "      <td>2</td>\n",
       "      <td>2</td>\n",
       "      <td>3</td>\n",
       "    </tr>\n",
       "    <tr>\n",
       "      <th>6</th>\n",
       "      <td>Показать на главной странице баннеры с актуальными акциями и распродажами, чтобы увеличить конверсию</td>\n",
       "      <td>5</td>\n",
       "      <td>3</td>\n",
       "      <td>8</td>\n",
       "      <td>3</td>\n",
       "    </tr>\n",
       "    <tr>\n",
       "      <th>7</th>\n",
       "      <td>Добавить форму подписки на все основные страницы, чтобы собрать базу клиентов для email-рассылок</td>\n",
       "      <td>10</td>\n",
       "      <td>7</td>\n",
       "      <td>8</td>\n",
       "      <td>5</td>\n",
       "    </tr>\n",
       "    <tr>\n",
       "      <th>8</th>\n",
       "      <td>Запустить акцию, дающую скидку на товар в день рождения</td>\n",
       "      <td>1</td>\n",
       "      <td>9</td>\n",
       "      <td>9</td>\n",
       "      <td>5</td>\n",
       "    </tr>\n",
       "  </tbody>\n",
       "</table>\n",
       "</div>"
      ],
      "text/plain": [
       "                                                                                                     Hypothesis  \\\n",
       "0            Добавить два новых канала привлечения трафика, что позволит привлекать на 30% больше пользователей   \n",
       "1                                     Запустить собственную службу доставки, что сократит срок доставки заказов   \n",
       "2  Добавить блоки рекомендаций товаров на сайт интернет магазина, чтобы повысить конверсию и средний чек заказа   \n",
       "3           Изменить структура категорий, что увеличит конверсию, т.к. пользователи быстрее найдут нужный товар   \n",
       "4                              Изменить цвет фона главной страницы, чтобы увеличить вовлеченность пользователей   \n",
       "5                      Добавить страницу отзывов клиентов о магазине, что позволит увеличить количество заказов   \n",
       "6          Показать на главной странице баннеры с актуальными акциями и распродажами, чтобы увеличить конверсию   \n",
       "7              Добавить форму подписки на все основные страницы, чтобы собрать базу клиентов для email-рассылок   \n",
       "8                                                       Запустить акцию, дающую скидку на товар в день рождения   \n",
       "\n",
       "   Reach  Impact  Confidence  Efforts  \n",
       "0      3      10           8        6  \n",
       "1      2       5           4       10  \n",
       "2      8       3           7        3  \n",
       "3      8       3           3        8  \n",
       "4      3       1           1        1  \n",
       "5      3       2           2        3  \n",
       "6      5       3           8        3  \n",
       "7     10       7           8        5  \n",
       "8      1       9           9        5  "
      ]
     },
     "execution_count": 13,
     "metadata": {},
     "output_type": "execute_result"
    }
   ],
   "source": [
    "pd.options.display.max_colwidth = 120\n",
    "hypothesis.head(10)"
   ]
  },
  {
   "cell_type": "markdown",
   "metadata": {},
   "source": [
    " - Применим фреймворк `ICE` для приоритизации гипотез. Отсортируем по убыванию приоритета"
   ]
  },
  {
   "cell_type": "code",
   "execution_count": 14,
   "metadata": {
    "scrolled": true
   },
   "outputs": [
    {
     "data": {
      "text/html": [
       "<div>\n",
       "<style scoped>\n",
       "    .dataframe tbody tr th:only-of-type {\n",
       "        vertical-align: middle;\n",
       "    }\n",
       "\n",
       "    .dataframe tbody tr th {\n",
       "        vertical-align: top;\n",
       "    }\n",
       "\n",
       "    .dataframe thead th {\n",
       "        text-align: right;\n",
       "    }\n",
       "</style>\n",
       "<table border=\"1\" class=\"dataframe\">\n",
       "  <thead>\n",
       "    <tr style=\"text-align: right;\">\n",
       "      <th></th>\n",
       "      <th>Hypothesis</th>\n",
       "      <th>ICE</th>\n",
       "    </tr>\n",
       "  </thead>\n",
       "  <tbody>\n",
       "    <tr>\n",
       "      <th>8</th>\n",
       "      <td>Запустить акцию, дающую скидку на товар в день рождения</td>\n",
       "      <td>16.20</td>\n",
       "    </tr>\n",
       "    <tr>\n",
       "      <th>0</th>\n",
       "      <td>Добавить два новых канала привлечения трафика, что позволит привлекать на 30% больше пользователей</td>\n",
       "      <td>13.33</td>\n",
       "    </tr>\n",
       "    <tr>\n",
       "      <th>7</th>\n",
       "      <td>Добавить форму подписки на все основные страницы, чтобы собрать базу клиентов для email-рассылок</td>\n",
       "      <td>11.20</td>\n",
       "    </tr>\n",
       "    <tr>\n",
       "      <th>6</th>\n",
       "      <td>Показать на главной странице баннеры с актуальными акциями и распродажами, чтобы увеличить конверсию</td>\n",
       "      <td>8.00</td>\n",
       "    </tr>\n",
       "    <tr>\n",
       "      <th>2</th>\n",
       "      <td>Добавить блоки рекомендаций товаров на сайт интернет магазина, чтобы повысить конверсию и средний чек заказа</td>\n",
       "      <td>7.00</td>\n",
       "    </tr>\n",
       "    <tr>\n",
       "      <th>1</th>\n",
       "      <td>Запустить собственную службу доставки, что сократит срок доставки заказов</td>\n",
       "      <td>2.00</td>\n",
       "    </tr>\n",
       "    <tr>\n",
       "      <th>5</th>\n",
       "      <td>Добавить страницу отзывов клиентов о магазине, что позволит увеличить количество заказов</td>\n",
       "      <td>1.33</td>\n",
       "    </tr>\n",
       "    <tr>\n",
       "      <th>3</th>\n",
       "      <td>Изменить структура категорий, что увеличит конверсию, т.к. пользователи быстрее найдут нужный товар</td>\n",
       "      <td>1.12</td>\n",
       "    </tr>\n",
       "    <tr>\n",
       "      <th>4</th>\n",
       "      <td>Изменить цвет фона главной страницы, чтобы увеличить вовлеченность пользователей</td>\n",
       "      <td>1.00</td>\n",
       "    </tr>\n",
       "  </tbody>\n",
       "</table>\n",
       "</div>"
      ],
      "text/plain": [
       "                                                                                                     Hypothesis  \\\n",
       "8                                                       Запустить акцию, дающую скидку на товар в день рождения   \n",
       "0            Добавить два новых канала привлечения трафика, что позволит привлекать на 30% больше пользователей   \n",
       "7              Добавить форму подписки на все основные страницы, чтобы собрать базу клиентов для email-рассылок   \n",
       "6          Показать на главной странице баннеры с актуальными акциями и распродажами, чтобы увеличить конверсию   \n",
       "2  Добавить блоки рекомендаций товаров на сайт интернет магазина, чтобы повысить конверсию и средний чек заказа   \n",
       "1                                     Запустить собственную службу доставки, что сократит срок доставки заказов   \n",
       "5                      Добавить страницу отзывов клиентов о магазине, что позволит увеличить количество заказов   \n",
       "3           Изменить структура категорий, что увеличит конверсию, т.к. пользователи быстрее найдут нужный товар   \n",
       "4                              Изменить цвет фона главной страницы, чтобы увеличить вовлеченность пользователей   \n",
       "\n",
       "     ICE  \n",
       "8  16.20  \n",
       "0  13.33  \n",
       "7  11.20  \n",
       "6   8.00  \n",
       "2   7.00  \n",
       "1   2.00  \n",
       "5   1.33  \n",
       "3   1.12  \n",
       "4   1.00  "
      ]
     },
     "execution_count": 14,
     "metadata": {},
     "output_type": "execute_result"
    }
   ],
   "source": [
    "hypothesis['ICE'] = hypothesis['Impact'] * hypothesis['Confidence'] / hypothesis['Efforts'] \n",
    "hypothesis[['Hypothesis', 'ICE']].sort_values(by='ICE', ascending=False).round(2) "
   ]
  },
  {
   "cell_type": "markdown",
   "metadata": {},
   "source": [
    " - Применим фреймворк `RICE` для приоритизации гипотез. Отсортируем по убыванию приоритета"
   ]
  },
  {
   "cell_type": "code",
   "execution_count": 15,
   "metadata": {},
   "outputs": [
    {
     "data": {
      "text/html": [
       "<div>\n",
       "<style scoped>\n",
       "    .dataframe tbody tr th:only-of-type {\n",
       "        vertical-align: middle;\n",
       "    }\n",
       "\n",
       "    .dataframe tbody tr th {\n",
       "        vertical-align: top;\n",
       "    }\n",
       "\n",
       "    .dataframe thead th {\n",
       "        text-align: right;\n",
       "    }\n",
       "</style>\n",
       "<table border=\"1\" class=\"dataframe\">\n",
       "  <thead>\n",
       "    <tr style=\"text-align: right;\">\n",
       "      <th></th>\n",
       "      <th>Hypothesis</th>\n",
       "      <th>RICE</th>\n",
       "    </tr>\n",
       "  </thead>\n",
       "  <tbody>\n",
       "    <tr>\n",
       "      <th>7</th>\n",
       "      <td>Добавить форму подписки на все основные страницы, чтобы собрать базу клиентов для email-рассылок</td>\n",
       "      <td>112.0</td>\n",
       "    </tr>\n",
       "    <tr>\n",
       "      <th>2</th>\n",
       "      <td>Добавить блоки рекомендаций товаров на сайт интернет магазина, чтобы повысить конверсию и средний чек заказа</td>\n",
       "      <td>56.0</td>\n",
       "    </tr>\n",
       "    <tr>\n",
       "      <th>0</th>\n",
       "      <td>Добавить два новых канала привлечения трафика, что позволит привлекать на 30% больше пользователей</td>\n",
       "      <td>40.0</td>\n",
       "    </tr>\n",
       "    <tr>\n",
       "      <th>6</th>\n",
       "      <td>Показать на главной странице баннеры с актуальными акциями и распродажами, чтобы увеличить конверсию</td>\n",
       "      <td>40.0</td>\n",
       "    </tr>\n",
       "    <tr>\n",
       "      <th>8</th>\n",
       "      <td>Запустить акцию, дающую скидку на товар в день рождения</td>\n",
       "      <td>16.2</td>\n",
       "    </tr>\n",
       "    <tr>\n",
       "      <th>3</th>\n",
       "      <td>Изменить структура категорий, что увеличит конверсию, т.к. пользователи быстрее найдут нужный товар</td>\n",
       "      <td>9.0</td>\n",
       "    </tr>\n",
       "    <tr>\n",
       "      <th>1</th>\n",
       "      <td>Запустить собственную службу доставки, что сократит срок доставки заказов</td>\n",
       "      <td>4.0</td>\n",
       "    </tr>\n",
       "    <tr>\n",
       "      <th>5</th>\n",
       "      <td>Добавить страницу отзывов клиентов о магазине, что позволит увеличить количество заказов</td>\n",
       "      <td>4.0</td>\n",
       "    </tr>\n",
       "    <tr>\n",
       "      <th>4</th>\n",
       "      <td>Изменить цвет фона главной страницы, чтобы увеличить вовлеченность пользователей</td>\n",
       "      <td>3.0</td>\n",
       "    </tr>\n",
       "  </tbody>\n",
       "</table>\n",
       "</div>"
      ],
      "text/plain": [
       "                                                                                                     Hypothesis  \\\n",
       "7              Добавить форму подписки на все основные страницы, чтобы собрать базу клиентов для email-рассылок   \n",
       "2  Добавить блоки рекомендаций товаров на сайт интернет магазина, чтобы повысить конверсию и средний чек заказа   \n",
       "0            Добавить два новых канала привлечения трафика, что позволит привлекать на 30% больше пользователей   \n",
       "6          Показать на главной странице баннеры с актуальными акциями и распродажами, чтобы увеличить конверсию   \n",
       "8                                                       Запустить акцию, дающую скидку на товар в день рождения   \n",
       "3           Изменить структура категорий, что увеличит конверсию, т.к. пользователи быстрее найдут нужный товар   \n",
       "1                                     Запустить собственную службу доставки, что сократит срок доставки заказов   \n",
       "5                      Добавить страницу отзывов клиентов о магазине, что позволит увеличить количество заказов   \n",
       "4                              Изменить цвет фона главной страницы, чтобы увеличить вовлеченность пользователей   \n",
       "\n",
       "    RICE  \n",
       "7  112.0  \n",
       "2   56.0  \n",
       "0   40.0  \n",
       "6   40.0  \n",
       "8   16.2  \n",
       "3    9.0  \n",
       "1    4.0  \n",
       "5    4.0  \n",
       "4    3.0  "
      ]
     },
     "execution_count": 15,
     "metadata": {},
     "output_type": "execute_result"
    }
   ],
   "source": [
    "hypothesis['RICE'] = hypothesis['Impact'] * hypothesis['Confidence'] * hypothesis['Reach']/ hypothesis['Efforts'] \n",
    "hypothesis[['Hypothesis', 'RICE']].sort_values(by='RICE', ascending=False) "
   ]
  },
  {
   "cell_type": "markdown",
   "metadata": {},
   "source": [
    "*Вывод*\n",
    "\n",
    "По результатам применения способа `ICE` топ-3 занимают гипотезы в высоким `Impact` - оценка влияния изменнений на пользователя, его опыт и удовлетворение от продукта. Высоким показателем `Confidence` - наша уверенность, что изменения повлияют именно так. И относительно невысоком `Efforts` - сколько стоит протестировать гипотезу.\n",
    "\n",
    "Добавление в расчеты параметра `Reach`, охват пользователей, для расчета `RICE` полностью изменило расстановку приоритетов. Первые два места заняли гипотезы, у которых при высоких показателях `Impact` и `Confidence`, Reach также оказался самым высоким - для первого места 10 баллов для второго 8 баллов.\n",
    "\n",
    "Гипотеза \"Запустить акцию, дающую скидку на товар в день рождения\" с первого  места опустилась на пятое при использовании `RICE`, именно из-за низкой `Reach` - один балл. Гипотеза \"Добавить два новых канала привлечения трафика\" смогла остаться в топе-3, при невысокой `Reach` в 3 балла, потеряв одну позицию из-за максимальной `Impact`, высокой `Confidence`, и средних затратах `Efforts`."
   ]
  },
  {
   "cell_type": "markdown",
   "metadata": {},
   "source": [
    "### Анализ А/В-теста"
   ]
  },
  {
   "cell_type": "markdown",
   "metadata": {},
   "source": [
    "Перед тем, как приступать к анализу, изучим данные детальнее, а именно определим:\n",
    "    \n",
    "- сколько у нас групп в АВ-тесте;\n",
    "- даты начала и окончания теста;\n",
    "- сколько пользователей в каждой группе - по таблице с заказами;\n",
    "- не попадают ли какие-то пользователи в обе группы - по таблице с заказами.\n"
   ]
  },
  {
   "cell_type": "code",
   "execution_count": 16,
   "metadata": {},
   "outputs": [
    {
     "data": {
      "text/html": [
       "<div>\n",
       "<style scoped>\n",
       "    .dataframe tbody tr th:only-of-type {\n",
       "        vertical-align: middle;\n",
       "    }\n",
       "\n",
       "    .dataframe tbody tr th {\n",
       "        vertical-align: top;\n",
       "    }\n",
       "\n",
       "    .dataframe thead th {\n",
       "        text-align: right;\n",
       "    }\n",
       "</style>\n",
       "<table border=\"1\" class=\"dataframe\">\n",
       "  <thead>\n",
       "    <tr style=\"text-align: right;\">\n",
       "      <th></th>\n",
       "      <th>transactionId</th>\n",
       "      <th>visitorId</th>\n",
       "      <th>date</th>\n",
       "      <th>revenue</th>\n",
       "      <th>group</th>\n",
       "    </tr>\n",
       "  </thead>\n",
       "  <tbody>\n",
       "    <tr>\n",
       "      <th>0</th>\n",
       "      <td>3667963787</td>\n",
       "      <td>3312258926</td>\n",
       "      <td>2019-08-15</td>\n",
       "      <td>1650</td>\n",
       "      <td>B</td>\n",
       "    </tr>\n",
       "    <tr>\n",
       "      <th>1</th>\n",
       "      <td>2804400009</td>\n",
       "      <td>3642806036</td>\n",
       "      <td>2019-08-15</td>\n",
       "      <td>730</td>\n",
       "      <td>B</td>\n",
       "    </tr>\n",
       "    <tr>\n",
       "      <th>2</th>\n",
       "      <td>2961555356</td>\n",
       "      <td>4069496402</td>\n",
       "      <td>2019-08-15</td>\n",
       "      <td>400</td>\n",
       "      <td>A</td>\n",
       "    </tr>\n",
       "    <tr>\n",
       "      <th>3</th>\n",
       "      <td>3797467345</td>\n",
       "      <td>1196621759</td>\n",
       "      <td>2019-08-15</td>\n",
       "      <td>9759</td>\n",
       "      <td>B</td>\n",
       "    </tr>\n",
       "    <tr>\n",
       "      <th>4</th>\n",
       "      <td>2282983706</td>\n",
       "      <td>2322279887</td>\n",
       "      <td>2019-08-15</td>\n",
       "      <td>2308</td>\n",
       "      <td>B</td>\n",
       "    </tr>\n",
       "  </tbody>\n",
       "</table>\n",
       "</div>"
      ],
      "text/plain": [
       "   transactionId   visitorId       date  revenue group\n",
       "0     3667963787  3312258926 2019-08-15     1650     B\n",
       "1     2804400009  3642806036 2019-08-15      730     B\n",
       "2     2961555356  4069496402 2019-08-15      400     A\n",
       "3     3797467345  1196621759 2019-08-15     9759     B\n",
       "4     2282983706  2322279887 2019-08-15     2308     B"
      ]
     },
     "execution_count": 16,
     "metadata": {},
     "output_type": "execute_result"
    }
   ],
   "source": [
    "orders.head()"
   ]
  },
  {
   "cell_type": "code",
   "execution_count": 17,
   "metadata": {},
   "outputs": [
    {
     "data": {
      "text/plain": [
       "B    640\n",
       "A    557\n",
       "Name: group, dtype: int64"
      ]
     },
     "execution_count": 17,
     "metadata": {},
     "output_type": "execute_result"
    }
   ],
   "source": [
    "orders['group'].value_counts()"
   ]
  },
  {
   "cell_type": "code",
   "execution_count": 18,
   "metadata": {
    "scrolled": true
   },
   "outputs": [
    {
     "name": "stdout",
     "output_type": "stream",
     "text": [
      "Дата начала А/В-теста   2019-08-01 00:00:00\n",
      "Дата окончания А/В-тестa   2019-08-31 00:00:00\n"
     ]
    }
   ],
   "source": [
    "print('Дата начала А/В-теста  ', orders['date'].min())\n",
    "print('Дата окончания А/В-тестa  ', orders['date'].max())"
   ]
  },
  {
   "cell_type": "code",
   "execution_count": 19,
   "metadata": {},
   "outputs": [
    {
     "name": "stdout",
     "output_type": "stream",
     "text": [
      "B    548\n",
      "A    468\n",
      "Name: group, dtype: int64\n"
     ]
    }
   ],
   "source": [
    "double = orders.groupby('visitorId').agg({'group': 'nunique'}).query('group>1')\n",
    "orders = orders[~orders['visitorId'].isin(double.index)]\n",
    "print(orders['group'].value_counts())"
   ]
  },
  {
   "cell_type": "markdown",
   "metadata": {},
   "source": [
    "Комментарий\n",
    "\n",
    " - Две группы учавствуют в А/В-тесте.  \n",
    " - Тест длится в течении месяца с 1 по 31 августа 2019 года\n",
    " - Исключили пользователей, попадающих в обе группы"
   ]
  },
  {
   "cell_type": "markdown",
   "metadata": {},
   "source": [
    "*На основе датафреймов orders и visitors, полученных в рамках А/В-тестирования создадим таблицу с колонками для каждой группы на определенную дату*\n",
    "\n",
    " - количество заказов \n",
    " - сумма заказов\n",
    " - количество визитов\n",
    " - кумулятивное число заказов\n",
    " - кумулятивная сумма заказов\n",
    " - кумулятивное число визитов\n",
    " "
   ]
  },
  {
   "cell_type": "code",
   "execution_count": 20,
   "metadata": {},
   "outputs": [
    {
     "data": {
      "text/html": [
       "<div>\n",
       "<style scoped>\n",
       "    .dataframe tbody tr th:only-of-type {\n",
       "        vertical-align: middle;\n",
       "    }\n",
       "\n",
       "    .dataframe tbody tr th {\n",
       "        vertical-align: top;\n",
       "    }\n",
       "\n",
       "    .dataframe thead th {\n",
       "        text-align: right;\n",
       "    }\n",
       "</style>\n",
       "<table border=\"1\" class=\"dataframe\">\n",
       "  <thead>\n",
       "    <tr style=\"text-align: right;\">\n",
       "      <th></th>\n",
       "      <th>date</th>\n",
       "      <th>ordersPerDateA</th>\n",
       "      <th>revenuePerDateA</th>\n",
       "      <th>ordersPerDateB</th>\n",
       "      <th>revenuePerDateB</th>\n",
       "      <th>ordersCummulativeA</th>\n",
       "      <th>revenueCummulativeA</th>\n",
       "      <th>ordersCummulativeB</th>\n",
       "      <th>revenueCummulativeB</th>\n",
       "      <th>visitorsPerDateA</th>\n",
       "      <th>visitorsPerDateB</th>\n",
       "      <th>visitorsCummulativeA</th>\n",
       "      <th>visitorsCummulativeB</th>\n",
       "    </tr>\n",
       "  </thead>\n",
       "  <tbody>\n",
       "    <tr>\n",
       "      <th>0</th>\n",
       "      <td>2019-08-01</td>\n",
       "      <td>23</td>\n",
       "      <td>142779</td>\n",
       "      <td>17</td>\n",
       "      <td>59758</td>\n",
       "      <td>23</td>\n",
       "      <td>142779</td>\n",
       "      <td>17</td>\n",
       "      <td>59758</td>\n",
       "      <td>719</td>\n",
       "      <td>713</td>\n",
       "      <td>719</td>\n",
       "      <td>713</td>\n",
       "    </tr>\n",
       "    <tr>\n",
       "      <th>1</th>\n",
       "      <td>2019-08-02</td>\n",
       "      <td>19</td>\n",
       "      <td>91602</td>\n",
       "      <td>23</td>\n",
       "      <td>162043</td>\n",
       "      <td>42</td>\n",
       "      <td>234381</td>\n",
       "      <td>40</td>\n",
       "      <td>221801</td>\n",
       "      <td>619</td>\n",
       "      <td>581</td>\n",
       "      <td>1338</td>\n",
       "      <td>1294</td>\n",
       "    </tr>\n",
       "    <tr>\n",
       "      <th>2</th>\n",
       "      <td>2019-08-03</td>\n",
       "      <td>24</td>\n",
       "      <td>112473</td>\n",
       "      <td>14</td>\n",
       "      <td>67049</td>\n",
       "      <td>66</td>\n",
       "      <td>346854</td>\n",
       "      <td>54</td>\n",
       "      <td>288850</td>\n",
       "      <td>507</td>\n",
       "      <td>509</td>\n",
       "      <td>1845</td>\n",
       "      <td>1803</td>\n",
       "    </tr>\n",
       "    <tr>\n",
       "      <th>3</th>\n",
       "      <td>2019-08-04</td>\n",
       "      <td>11</td>\n",
       "      <td>41176</td>\n",
       "      <td>14</td>\n",
       "      <td>96890</td>\n",
       "      <td>77</td>\n",
       "      <td>388030</td>\n",
       "      <td>68</td>\n",
       "      <td>385740</td>\n",
       "      <td>717</td>\n",
       "      <td>770</td>\n",
       "      <td>2562</td>\n",
       "      <td>2573</td>\n",
       "    </tr>\n",
       "    <tr>\n",
       "      <th>4</th>\n",
       "      <td>2019-08-05</td>\n",
       "      <td>22</td>\n",
       "      <td>86383</td>\n",
       "      <td>21</td>\n",
       "      <td>89908</td>\n",
       "      <td>99</td>\n",
       "      <td>474413</td>\n",
       "      <td>89</td>\n",
       "      <td>475648</td>\n",
       "      <td>756</td>\n",
       "      <td>707</td>\n",
       "      <td>3318</td>\n",
       "      <td>3280</td>\n",
       "    </tr>\n",
       "  </tbody>\n",
       "</table>\n",
       "</div>"
      ],
      "text/plain": [
       "        date  ordersPerDateA  revenuePerDateA  ordersPerDateB  \\\n",
       "0 2019-08-01              23           142779              17   \n",
       "1 2019-08-02              19            91602              23   \n",
       "2 2019-08-03              24           112473              14   \n",
       "3 2019-08-04              11            41176              14   \n",
       "4 2019-08-05              22            86383              21   \n",
       "\n",
       "   revenuePerDateB  ordersCummulativeA  revenueCummulativeA  \\\n",
       "0            59758                  23               142779   \n",
       "1           162043                  42               234381   \n",
       "2            67049                  66               346854   \n",
       "3            96890                  77               388030   \n",
       "4            89908                  99               474413   \n",
       "\n",
       "   ordersCummulativeB  revenueCummulativeB  visitorsPerDateA  \\\n",
       "0                  17                59758               719   \n",
       "1                  40               221801               619   \n",
       "2                  54               288850               507   \n",
       "3                  68               385740               717   \n",
       "4                  89               475648               756   \n",
       "\n",
       "   visitorsPerDateB  visitorsCummulativeA  visitorsCummulativeB  \n",
       "0               713                   719                   713  \n",
       "1               581                  1338                  1294  \n",
       "2               509                  1845                  1803  \n",
       "3               770                  2562                  2573  \n",
       "4               707                  3318                  3280  "
      ]
     },
     "execution_count": 20,
     "metadata": {},
     "output_type": "execute_result"
    }
   ],
   "source": [
    "# по таблице visitors  выберем строки для группы А, перименуем колонки, определим количество визитов на определенную дату\n",
    "\n",
    "visitorsADaily = visitors[visitors['group'] == 'A'][['date', 'visitors']]\n",
    "visitorsADaily.columns = ['date', 'visitorsPerDateA']\n",
    "\n",
    " # нашли кумулятивное число визитов на определенную дату\n",
    "visitorsACummulative = visitorsADaily.apply(\n",
    "    lambda x: visitorsADaily[visitorsADaily['date'] <= x['date']].agg(\n",
    "        {'date': 'max', 'visitorsPerDateA': 'sum'}\n",
    "    ),\n",
    "    axis=1,\n",
    ")\n",
    "visitorsACummulative.columns = ['date', 'visitorsCummulativeA']\n",
    "\n",
    "# по таблице visitors  выберем строки для группы В, перименуем колонки, определим количество визитов на определенную дату\n",
    "\n",
    "visitorsBDaily = visitors[visitors['group'] == 'B'][['date', 'visitors']]\n",
    "visitorsBDaily.columns = ['date', 'visitorsPerDateB']\n",
    "\n",
    "visitorsBCummulative = visitorsBDaily.apply(\n",
    "    lambda x: visitorsBDaily[visitorsBDaily['date'] <= x['date']].agg(\n",
    "        {'date': 'max', 'visitorsPerDateB': 'sum'}\n",
    "    ),\n",
    "    axis=1,\n",
    ")\n",
    "visitorsBCummulative.columns = ['date', 'visitorsCummulativeB']\n",
    "\n",
    "# по таблице orders выбрали строки для группы А \n",
    "ordersADaily = (\n",
    "    orders[orders['group'] == 'A'][['date', 'transactionId', 'visitorId', 'revenue']]\n",
    "    .groupby('date', as_index=False)  # сгруппировали по дате\n",
    "    .agg({'transactionId': pd.Series.nunique, 'revenue': 'sum'})  # посчитали число заказов и выручку\n",
    ")\n",
    "ordersADaily.columns = ['date', 'ordersPerDateA', 'revenuePerDateA']\n",
    "\n",
    "# посчитали кумулятивное число заказов и кумулятивную выручку\n",
    "ordersACummulative = ordersADaily.apply(\n",
    "    lambda x: ordersADaily[ordersADaily['date'] <= x['date']].agg(\n",
    "        {'date': 'max', 'ordersPerDateA': 'sum', 'revenuePerDateA': 'sum'}\n",
    "    ),\n",
    "    axis=1,\n",
    ").sort_values(by=['date'])\n",
    "ordersACummulative.columns = [\n",
    "    'date',\n",
    "    'ordersCummulativeA',\n",
    "    'revenueCummulativeA',\n",
    "]\n",
    "# по таблице orders выбрали строки для группы В\n",
    "ordersBDaily = (\n",
    "    orders[orders['group'] == 'B'][['date', 'transactionId', 'visitorId', 'revenue']]\n",
    "    .groupby('date', as_index=False) # сгруппировали по дате\n",
    "    .agg({'transactionId': pd.Series.nunique, 'revenue': 'sum'})  # посчитали число заказов и выручку\n",
    ")\n",
    "ordersBDaily.columns = ['date', 'ordersPerDateB', 'revenuePerDateB']\n",
    "\n",
    "# посчитали кумулятивное число заказов и кумулятивную выручку\n",
    "ordersBCummulative = ordersBDaily.apply(\n",
    "    lambda x: ordersBDaily[ordersBDaily['date'] <= x['date']].agg(\n",
    "        {'date': 'max', 'ordersPerDateB': 'sum', 'revenuePerDateB': 'sum'}\n",
    "    ),\n",
    "    axis=1,\n",
    ").sort_values(by=['date'])\n",
    "ordersBCummulative.columns = [\n",
    "    'date',\n",
    "    'ordersCummulativeB',\n",
    "    'revenueCummulativeB',\n",
    "]\n",
    "\n",
    "# объединили получившиеся таблицы в одну по полю date\n",
    "data = (\n",
    "    ordersADaily.merge(\n",
    "        ordersBDaily, left_on='date', right_on='date', how='left'\n",
    "    )\n",
    "    .merge(ordersACummulative, left_on='date', right_on='date', how='left')\n",
    "    .merge(ordersBCummulative, left_on='date', right_on='date', how='left')\n",
    "    .merge(visitorsADaily, left_on='date', right_on='date', how='left')\n",
    "    .merge(visitorsBDaily, left_on='date', right_on='date', how='left')\n",
    "    .merge(visitorsACummulative, left_on='date', right_on='date', how='left')\n",
    "    .merge(visitorsBCummulative, left_on='date', right_on='date', how='left')\n",
    ")\n",
    "data.head()"
   ]
  },
  {
   "cell_type": "markdown",
   "metadata": {},
   "source": [
    "Чтобы исключить проблему подсматривания, анализируют графики метрик. Для изучения кумулятивных данных, построим графики\n",
    "\n",
    " - кумулятивной выручки по группам\n",
    " \n",
    " - кумулятивного среднего чека по группам\n",
    " - относительного изменения кумулятивного средненго чека группы В к группе А\n",
    " - кумулятивной конверсии по группам\n",
    " - относительного изменения кумулятивной конверсии группы В к группе А"
   ]
  },
  {
   "cell_type": "code",
   "execution_count": 21,
   "metadata": {
    "scrolled": false
   },
   "outputs": [
    {
     "data": {
      "image/png": "[encoded data removed]",
      "text/plain": [
       "<Figure size 720x360 with 1 Axes>"
      ]
     },
     "metadata": {
      "needs_background": "light"
     },
     "output_type": "display_data"
    }
   ],
   "source": [
    "# построим график кумулятивной выручки по группам\n",
    "plt.figure(figsize=(10,5))  \n",
    "plt.plot(data['date'], data['revenueCummulativeA'], label = 'A')\n",
    "plt.plot(data['date'], data['revenueCummulativeB'], label = 'B')\n",
    "plt.legend()\n",
    "plt.title('График кумулятивной выручки по группам')\n",
    "plt.ylabel('Сумма выручки')\n",
    "plt.xlabel('Период тестирования');"
   ]
  },
  {
   "cell_type": "markdown",
   "metadata": {},
   "source": [
    "Комментарий\n",
    "\n",
    " - Выручка равномерно увеличивается в обеих группах, примерно, до середины теста. Далее в группе В произошел резкий скачок вверх. Возможно, влияние заказов с большой стоимостью или числом заказов у одного пользователя."
   ]
  },
  {
   "cell_type": "code",
   "execution_count": 22,
   "metadata": {
    "scrolled": false
   },
   "outputs": [
    {
     "data": {
      "image/png": "[encoded data removed]",
      "text/plain": [
       "<Figure size 720x360 with 1 Axes>"
      ]
     },
     "metadata": {
      "needs_background": "light"
     },
     "output_type": "display_data"
    }
   ],
   "source": [
    "# построим график кумулятивного среднего чека по группам\n",
    "plt.figure(figsize=(10,5))\n",
    "plt.plot(data['date'], data['revenueCummulativeA'] / data['ordersCummulativeA'], label ='A')\n",
    "plt.plot(data['date'], data['revenueCummulativeB'] / data['ordersCummulativeB'], label ='B')\n",
    "plt.legend()\n",
    "plt.title('График кумулятивного среднего чека по группам')\n",
    "plt.ylabel('Сумма среднего чека')\n",
    "plt.xlabel('Период тестирования');"
   ]
  },
  {
   "cell_type": "markdown",
   "metadata": {},
   "source": [
    "Комментарий\n",
    "\n",
    " - Для группы А значение среднего чека росло, потом зафиксировалось. Средний чек для группв В сначала теста был выше. Потом резкий ввзлет в значениях, влияние выбросов, и небольшое снижение. К окончанию теста показатель среднего чека для обеих групп выровнялся и зафиксировался небольшим снижением. Необходим дополнительный анализ выбросов для данной метрики."
   ]
  },
  {
   "cell_type": "code",
   "execution_count": 23,
   "metadata": {},
   "outputs": [
    {
     "data": {
      "image/png": "[encoded data removed]",
      "text/plain": [
       "<Figure size 720x360 with 1 Axes>"
      ]
     },
     "metadata": {
      "needs_background": "light"
     },
     "output_type": "display_data"
    }
   ],
   "source": [
    "# построим график относительного изменения среднего чека группы В к группе А\n",
    "plt.figure(figsize=(10,5))\n",
    "plt.plot(data['date'], (data['revenueCummulativeB'] / data['ordersCummulativeB']) / \n",
    "         (data['revenueCummulativeA'] / data['ordersCummulativeA']) - 1)\n",
    "\n",
    "plt.title('График относительного изменения кумулятивного среднего чека группы В к группе А')\n",
    "plt.axhline(y=0, color='black', linestyle='--', label='нулевой уровень')\n",
    "plt.axis(['2019-08-01', '2019-08-31', -0.5, 0.7])\n",
    "plt.legend()\n",
    "plt.ylabel('Процент изменения')\n",
    "plt.xlabel('Период тестирования');"
   ]
  },
  {
   "cell_type": "markdown",
   "metadata": {},
   "source": [
    "Комментарий\n",
    "\n",
    " - На динамику средненго чека в группе В сильно влияют крупные заказы. После резкого первого подъема зафиксировано снижение. Но после второго скачка вверх снижение уже не такое сильное, как в первый раз. Оно останавливается и выравнивается к финалу теста"
   ]
  },
  {
   "cell_type": "code",
   "execution_count": 24,
   "metadata": {},
   "outputs": [
    {
     "name": "stdout",
     "output_type": "stream",
     "text": [
      "2019-08-01 00:00:00\n",
      "2019-08-31 00:00:00\n"
     ]
    }
   ],
   "source": [
    "print(data['date'].min())   # рассчитали значение для оси Х\n",
    "print(data['date'].max())"
   ]
  },
  {
   "cell_type": "code",
   "execution_count": 25,
   "metadata": {},
   "outputs": [
    {
     "data": {
      "text/plain": [
       "0.03577235772357724"
      ]
     },
     "execution_count": 25,
     "metadata": {},
     "output_type": "execute_result"
    }
   ],
   "source": [
    "(data['ordersCummulativeA'] / data['visitorsCummulativeA']).max() # рассчитали значение для максимального параметра для оси Y"
   ]
  },
  {
   "cell_type": "code",
   "execution_count": 26,
   "metadata": {
    "scrolled": false
   },
   "outputs": [
    {
     "data": {
      "image/png": "[encoded data removed]",
      "text/plain": [
       "<Figure size 720x360 with 1 Axes>"
      ]
     },
     "metadata": {
      "needs_background": "light"
     },
     "output_type": "display_data"
    }
   ],
   "source": [
    "# построим график кумулятивной конверсии по группам\n",
    "plt.figure(figsize=(10,5))\n",
    "plt.plot(data['date'], data['ordersCummulativeA'] / data['visitorsCummulativeA'], label = 'A')\n",
    "plt.plot(data['date'], data['ordersCummulativeB'] / data['visitorsCummulativeB'], label = 'B')\n",
    "plt.title('График кумулятивной конверсии по группам')\n",
    "plt.legend()\n",
    "plt.axis([dt.datetime(2019, 8, 1), dt.datetime(2019, 8, 31), 0, 0.05])  # задали масштаб осей\n",
    "plt.ylabel('Показатель конверсии')\n",
    "plt.xlabel('Период тестирования');   "
   ]
  },
  {
   "cell_type": "markdown",
   "metadata": {},
   "source": [
    "Комментарий\n",
    "\n",
    "Конверсия для группы В стабильно выше, практически на протяжении всего теста. Небольшое преимущество есть у группы А в самом начале. Потом  конверсия группы В выравнивается и фиксируется в постоянном значении - большем, чем у группы А"
   ]
  },
  {
   "cell_type": "code",
   "execution_count": 27,
   "metadata": {},
   "outputs": [
    {
     "data": {
      "image/png": "[encoded data removed]",
      "text/plain": [
       "<Figure size 720x360 with 1 Axes>"
      ]
     },
     "metadata": {
      "needs_background": "light"
     },
     "output_type": "display_data"
    }
   ],
   "source": [
    "# построим график относительного изменения конверсии группы В к группе А\n",
    "plt.figure(figsize=(10,5))\n",
    "plt.plot(data['date'], (data['ordersCummulativeB'] / data['visitorsCummulativeB']) /\n",
    "        (data['ordersCummulativeA'] / data['visitorsCummulativeA']) - 1)\n",
    "\n",
    "plt.title('График относительного изменения кумулятивной конверсии группы В к группе А')\n",
    "plt.axhline(y=0, color='black', linestyle='--', label='нулевой уровень')\n",
    "plt.axhline(y=0.2, color='grey', linestyle='--', label='уровень 20%')\n",
    "plt.axhline(y=0.1, color='green', linestyle='--', label='уровень 10%')\n",
    "plt.axis(['2019-08-01', '2019-08-31', -0.6, 0.6])\n",
    "plt.legend()\n",
    "plt.ylabel('Процент изменения')\n",
    "plt.xlabel('Период тестирования');"
   ]
  },
  {
   "cell_type": "markdown",
   "metadata": {},
   "source": [
    "Комментарий\n",
    "\n",
    " - Почти с самого начала теста группа В лидирует по конверсии. В отдельные периоды показатель в группе В был лучше на 20 %, чем в группе А. Отметка   показателя лучшей конверсии  в 10% для группы В продержалась, практически, на протяжении всего теста"
   ]
  },
  {
   "cell_type": "markdown",
   "metadata": {},
   "source": [
    "\n",
    "Для верной оценки итогов А/В -теста необходимо исключить аномалии, редкие выбивающиеся значения, которые могут исказить результат. В данной работе мы исключим заказы с наибольшими суммами и пользователей с редким большим числом заказов.\n",
    " \n",
    "Чтобы исключить такие значения посчиатем 95 и 99 перцентили количества заказов на пользователя и стоимости заказов.\n",
    "\n",
    "Построим точечный график количества заказов на пользователя и точечный график стоимостей заказов\n",
    " "
   ]
  },
  {
   "cell_type": "code",
   "execution_count": 28,
   "metadata": {},
   "outputs": [
    {
     "data": {
      "text/html": [
       "<div>\n",
       "<style scoped>\n",
       "    .dataframe tbody tr th:only-of-type {\n",
       "        vertical-align: middle;\n",
       "    }\n",
       "\n",
       "    .dataframe tbody tr th {\n",
       "        vertical-align: top;\n",
       "    }\n",
       "\n",
       "    .dataframe thead th {\n",
       "        text-align: right;\n",
       "    }\n",
       "</style>\n",
       "<table border=\"1\" class=\"dataframe\">\n",
       "  <thead>\n",
       "    <tr style=\"text-align: right;\">\n",
       "      <th></th>\n",
       "      <th>visitorId</th>\n",
       "      <th>orders</th>\n",
       "    </tr>\n",
       "  </thead>\n",
       "  <tbody>\n",
       "    <tr>\n",
       "      <th>908</th>\n",
       "      <td>3967698036</td>\n",
       "      <td>3</td>\n",
       "    </tr>\n",
       "    <tr>\n",
       "      <th>55</th>\n",
       "      <td>249864742</td>\n",
       "      <td>3</td>\n",
       "    </tr>\n",
       "    <tr>\n",
       "      <th>478</th>\n",
       "      <td>2108163459</td>\n",
       "      <td>3</td>\n",
       "    </tr>\n",
       "    <tr>\n",
       "      <th>687</th>\n",
       "      <td>2988190573</td>\n",
       "      <td>3</td>\n",
       "    </tr>\n",
       "    <tr>\n",
       "      <th>890</th>\n",
       "      <td>3908431265</td>\n",
       "      <td>3</td>\n",
       "    </tr>\n",
       "  </tbody>\n",
       "</table>\n",
       "</div>"
      ],
      "text/plain": [
       "      visitorId  orders\n",
       "908  3967698036       3\n",
       "55    249864742       3\n",
       "478  2108163459       3\n",
       "687  2988190573       3\n",
       "890  3908431265       3"
      ]
     },
     "execution_count": 28,
     "metadata": {},
     "output_type": "execute_result"
    }
   ],
   "source": [
    "#сгруппируем по пользователю и посчитаем количество заказов\n",
    "\n",
    "ordersByUsers = orders.drop(['group', 'revenue', 'date'], axis=1).groupby('visitorId', as_index=False)\\\n",
    ".agg({'transactionId' : 'nunique',})\n",
    "\n",
    "ordersByUsers.columns = ['visitorId', 'orders']   # переименуем колонки\n",
    "ordersByUsers.sort_values(by='orders', ascending=False).head()"
   ]
  },
  {
   "cell_type": "code",
   "execution_count": 29,
   "metadata": {},
   "outputs": [
    {
     "data": {
      "image/png": "[encoded data removed]",
      "text/plain": [
       "<Figure size 576x432 with 1 Axes>"
      ]
     },
     "metadata": {
      "needs_background": "light"
     },
     "output_type": "display_data"
    }
   ],
   "source": [
    "# построим график количества заказов по пользователям\n",
    "plt.figure(figsize=(8, 6))\n",
    "x_values = pd.Series(range(0, len(ordersByUsers)))\n",
    "plt.scatter(x_values, ordersByUsers['orders'])\n",
    "plt.ylabel('Число заказов для 1 пользователя')\n",
    "plt.xlabel('Покупатели')\n",
    "plt.title('График количества заказов по пользователям');"
   ]
  },
  {
   "cell_type": "code",
   "execution_count": 30,
   "metadata": {},
   "outputs": [
    {
     "data": {
      "text/plain": [
       "array([1., 2.])"
      ]
     },
     "execution_count": 30,
     "metadata": {},
     "output_type": "execute_result"
    }
   ],
   "source": [
    "np.percentile(ordersByUsers['orders'], [95, 99])   # считаем перцентили"
   ]
  },
  {
   "cell_type": "markdown",
   "metadata": {},
   "source": [
    "Комментарий\n",
    " - Не более 5% пользователей сделали больше 1 заказов, не более 1% больше 2. Офильтруем по 95 перцентилю"
   ]
  },
  {
   "cell_type": "code",
   "execution_count": 31,
   "metadata": {},
   "outputs": [
    {
     "data": {
      "text/plain": [
       "count    1.016000e+03\n",
       "mean     8.300815e+03\n",
       "std      4.212199e+04\n",
       "min      5.000000e+01\n",
       "25%      1.190000e+03\n",
       "50%      2.955000e+03\n",
       "75%      8.134250e+03\n",
       "max      1.294500e+06\n",
       "Name: revenue, dtype: float64"
      ]
     },
     "execution_count": 31,
     "metadata": {},
     "output_type": "execute_result"
    }
   ],
   "source": [
    "orders['revenue'].describe()"
   ]
  },
  {
   "cell_type": "code",
   "execution_count": 32,
   "metadata": {
    "scrolled": false
   },
   "outputs": [
    {
     "data": {
      "image/png": "[encoded data removed]",
      "text/plain": [
       "<Figure size 576x432 with 1 Axes>"
      ]
     },
     "metadata": {
      "needs_background": "light"
     },
     "output_type": "display_data"
    }
   ],
   "source": [
    "#  построим график растределения стоимостей заказов\n",
    "plt.figure(figsize=(8, 6))\n",
    "x_values = pd.Series(range(0, len(orders['revenue'])))\n",
    "plt.title('График стоимостей заказов')\n",
    "plt.xlabel('Покупатели')\n",
    "plt.ylabel('Стоимость заказа')\n",
    "plt.scatter(x_values, orders['revenue']);"
   ]
  },
  {
   "cell_type": "code",
   "execution_count": 33,
   "metadata": {},
   "outputs": [
    {
     "data": {
      "text/plain": [
       "1294500"
      ]
     },
     "execution_count": 33,
     "metadata": {},
     "output_type": "execute_result"
    }
   ],
   "source": [
    "orders['revenue'].max() # нашли максимальное значение для выручки"
   ]
  },
  {
   "cell_type": "code",
   "execution_count": 34,
   "metadata": {},
   "outputs": [
    {
     "data": {
      "text/plain": [
       "202740"
      ]
     },
     "execution_count": 34,
     "metadata": {},
     "output_type": "execute_result"
    }
   ],
   "source": [
    "m = orders['revenue'].max()\n",
    "order_mid = orders.query('revenue < @m') # сделали срез\n",
    "order_mid['revenue'].max()"
   ]
  },
  {
   "cell_type": "code",
   "execution_count": 35,
   "metadata": {},
   "outputs": [
    {
     "data": {
      "image/png": "[encoded data removed]",
      "text/plain": [
       "<Figure size 576x432 with 1 Axes>"
      ]
     },
     "metadata": {
      "needs_background": "light"
     },
     "output_type": "display_data"
    }
   ],
   "source": [
    "#  построим график растределения стоимостей заказов\n",
    "plt.figure(figsize=(8, 6))\n",
    "x_values = pd.Series(range(0, len(order_mid['revenue'])))\n",
    "plt.title('График стоимостей заказов')\n",
    "plt.ylabel('Стоимость заказа')\n",
    "plt.scatter(x_values, order_mid['revenue']);"
   ]
  },
  {
   "cell_type": "code",
   "execution_count": 36,
   "metadata": {},
   "outputs": [
    {
     "data": {
      "text/plain": [
       "array([26785., 53904.])"
      ]
     },
     "execution_count": 36,
     "metadata": {},
     "output_type": "execute_result"
    }
   ],
   "source": [
    "np.percentile(orders['revenue'], [95, 99]) # считаем перцентили по стоимости"
   ]
  },
  {
   "cell_type": "markdown",
   "metadata": {},
   "source": [
    "Комментарий\n",
    " - Не более чем у 5% заказов чек дороже 26785 рублей, и не более чем у 1% дороже - 53904 рублей. Офильтруем по 95 перцентилю.\n",
    " "
   ]
  },
  {
   "cell_type": "markdown",
   "metadata": {},
   "source": [
    " -  *Отфильтруем данные и посчитаем*\n",
    "  \n",
    "    -  статистическую значимость различий в конверсии между группами по \"сырым данным\"\n",
    "    \n",
    "    -  статистическую значимость различий в в среднем чеке заказа между группами по \"сырым данным\"\n",
    "    \n",
    "    -  статистическую значимость различий в конверсии между группами по \"очищенным данным\"\n",
    "    \n",
    "    -  статистическую значимость различий в в среднем чеке заказа между группами по \"очищенным данным\""
   ]
  },
  {
   "cell_type": "code",
   "execution_count": 37,
   "metadata": {},
   "outputs": [],
   "source": [
    " # создадим переменные ordersByUsersA и ordersByUsersB со столбцами ['visitorId', 'orders'], \n",
    " # в них для пользователей, которые заказывали хотя бы 1 раз, укажем число совершённых заказов.\n",
    "\n",
    "ordersByUsersA = (\n",
    "    orders[orders['group'] == 'A']\n",
    "    .groupby('visitorId', as_index=False)\n",
    "    .agg({'transactionId': pd.Series.nunique})\n",
    ")\n",
    "ordersByUsersA.columns = ['visitorId', 'orders']\n",
    "\n",
    "ordersByUsersB = (\n",
    "    orders[orders['group'] == 'B']\n",
    "    .groupby('visitorId', as_index=False)\n",
    "    .agg({'transactionId': pd.Series.nunique})\n",
    ")\n",
    "ordersByUsersB.columns = ['visitorId', 'orders'] "
   ]
  },
  {
   "cell_type": "code",
   "execution_count": 38,
   "metadata": {},
   "outputs": [],
   "source": [
    "# подготовим выборки к проверке критерием Манна-Уитни\n",
    "# объявим переменные sampleA и sampleB, в которых пользователям из разных групп будет соответствовать количество заказов.\n",
    "# тем, кто ничего не заказывал, будут соответствовать нули\n",
    "\n",
    "sampleA = pd.concat([ordersByUsersA['orders'], pd.Series(0, index = np.arange(data['visitorsPerDateA'].sum()\\\n",
    "                                                                - len(ordersByUsersA['orders'])), name = 'orders')], axis = 0)\n",
    "\n",
    "sampleB = pd.concat([ordersByUsersB['orders'], pd.Series(0, index = np.arange(data['visitorsPerDateB'].sum()\\\n",
    "                                                                - len(ordersByUsersB['orders'])), name = 'orders')], axis = 0)\n"
   ]
  },
  {
   "cell_type": "markdown",
   "metadata": {},
   "source": [
    " - Проверим статистическую значимость различия конверсии между группами \n",
    " \n",
    " Нулевая гипотеза: различий в конверсии между группами нет\n",
    " \n",
    " Альтернативная гипотеза: различия в конверсии между группами есть\n",
    " \n",
    " Зададим число `alpha` равное `0.05`\n",
    " \n",
    " Применим тест `Манна-Уитни`\n",
    " \n",
    " \n",
    " - Дополнительно посчитаем относительное различие в конверсии между группами"
   ]
  },
  {
   "cell_type": "code",
   "execution_count": 39,
   "metadata": {},
   "outputs": [
    {
     "name": "stdout",
     "output_type": "stream",
     "text": [
      "Число pvalue  0.011\n",
      "Относительное различие в конверсии  0.160\n"
     ]
    }
   ],
   "source": [
    "print('Число pvalue  {0:.3f}'.format(stats.mannwhitneyu(sampleA, sampleB)[1]))\n",
    "\n",
    "print('Относительное различие в конверсии  {0:.3f}'.format(sampleB.mean() / sampleA.mean() - 1))"
   ]
  },
  {
   "cell_type": "markdown",
   "metadata": {},
   "source": [
    "Комментарий\n",
    "\n",
    "- Число pvalue меньше числа alpha, значит отвергаем гипотезу о равенстве. По сырым данным между совокупностями есть статистически значимая разница. Группа В, выигрывает в относительной конверсии у группы А 16%\n",
    "\n",
    "\n",
    "\n",
    "\n",
    "*Теперь проверим статистическую разницу в среднем чеке между сегментами \"по сырым данным\"*\n",
    "\n",
    "Нулевая гипотеза: различий по среднему чеку между группами нет\n",
    "\n",
    "Альтернативная гипотеза: различия в среднем чеке между группами есть.\n",
    "\n",
    "Число `alpha` равно `0.05`, применим тест `Манна-Уитни`\n",
    "\n",
    "- *Дополнительно рассчитаем относительный прирост среднего чека группы В*"
   ]
  },
  {
   "cell_type": "code",
   "execution_count": 40,
   "metadata": {},
   "outputs": [
    {
     "name": "stdout",
     "output_type": "stream",
     "text": [
      "Число pvalue  0.829\n",
      "Относительное различие по среднему чеку  0.287\n"
     ]
    }
   ],
   "source": [
    "print('Число pvalue  {0:.3f}'.format(stats.mannwhitneyu(orders[orders['group'] == 'A']['revenue']\\\n",
    "                                                        , orders[orders['group'] == 'B']['revenue'])[1]))\n",
    "\n",
    "print('Относительное различие по среднему чеку  {0:.3f}'.format(orders[orders['group'] == 'B']['revenue'].mean()\n",
    "                                                                / orders[orders['group'] == 'A']['revenue'].mean() - 1))"
   ]
  },
  {
   "cell_type": "markdown",
   "metadata": {},
   "source": [
    "Комментарий\n",
    "\n",
    "- Рvalue больше 0,05 - статистически значимых отличий между выборками нет. Однако, средний чек в группе В почти на 29% выше, чем в средний чек в группе А. Скорее всего, на показатель влияниет попадание в выборку  заказов с высокой стоимостью.\n",
    "\n"
   ]
  },
  {
   "cell_type": "markdown",
   "metadata": {},
   "source": [
    " - *Следующим шагом рассчитаем метрики по \"очищенным данным\"*"
   ]
  },
  {
   "cell_type": "code",
   "execution_count": 41,
   "metadata": {},
   "outputs": [
    {
     "data": {
      "text/plain": [
       "568     113298937\n",
       "1099    148427295\n",
       "928     204675465\n",
       "33      249864742\n",
       "684     358944393\n",
       "Name: visitorId, dtype: int64"
      ]
     },
     "execution_count": 41,
     "metadata": {},
     "output_type": "execute_result"
    }
   ],
   "source": [
    "# отфильтруем заказы со стоимостью болшьше 28000 рублей и пользователей сделавших более 2 заказов\n",
    "\n",
    "usersWithManyOrders = pd.concat([ordersByUsersA[ordersByUsersA['orders'] > np.percentile(ordersByUsers['orders'], 95)]\\\n",
    "                                 \n",
    " ['visitorId'], ordersByUsersB[ordersByUsersB['orders'] > np.percentile(ordersByUsers['orders'], 95)]['visitorId']], axis = 0)\n",
    "\n",
    "\n",
    "usersWithExpensiveOrders = orders[orders['revenue'] > np.percentile(orders['revenue'], 95)]['visitorId'] \n",
    "\n",
    "\n",
    "abnormalUsers = (pd.concat([usersWithManyOrders, usersWithExpensiveOrders], axis=0).drop_duplicates() # объединим таблицы\n",
    "                .sort_values())\n",
    "\n",
    "abnormalUsers.head()"
   ]
  },
  {
   "cell_type": "code",
   "execution_count": 42,
   "metadata": {},
   "outputs": [],
   "source": [
    "#  подготовим выборки количества заказов по пользователям по группам теста\n",
    "\n",
    "sampleAFiltered = pd.concat([ordersByUsersA[np.logical_not(ordersByUsersA['visitorId'].isin(abnormalUsers))]['orders'],\n",
    "                             \n",
    "                             pd.Series(0, index = np.arange(data['visitorsPerDateA'].sum() - len(ordersByUsersA['orders'])),\n",
    "                                       \n",
    "                                       name = 'orders')], axis=0)\n",
    "\n",
    "sampleBFiltered = pd.concat([ordersByUsersB[np.logical_not(ordersByUsersB['visitorId']\\\n",
    "                                                           \n",
    "                            .isin(abnormalUsers))]['orders'], pd.Series(0, index = np.arange(data['visitorsPerDateB']\\\n",
    "                                                                                             \n",
    "                                     .sum() - len(ordersByUsersB['orders'])), name = 'orders')], axis=0)\n"
   ]
  },
  {
   "cell_type": "code",
   "execution_count": 43,
   "metadata": {},
   "outputs": [
    {
     "name": "stdout",
     "output_type": "stream",
     "text": [
      "Число pvalue  0.016\n",
      "Относительное различие в конверсии  0.174\n"
     ]
    }
   ],
   "source": [
    "print('Число pvalue  {0:.3f}'.format(stats.mannwhitneyu(sampleAFiltered, sampleBFiltered)[1]))\n",
    "print('Относительное различие в конверсии  {0:.3f}'.format(sampleBFiltered.mean() / sampleAFiltered.mean() - 1))"
   ]
  },
  {
   "cell_type": "markdown",
   "metadata": {},
   "source": [
    "Комментарий\n",
    "\n",
    "- `pvalue` меньше `alpha` - статистическая значимость достигнута и для очищенных данных. Относительная конверсия сегмента В лучше конверсии сегмента А на 17%. Этот показатель стал больше на 1 процентный пункт в сравнении с конверсией по сырым данным\n",
    "\n"
   ]
  },
  {
   "cell_type": "markdown",
   "metadata": {},
   "source": [
    "*Изучим результаты по среднему чеку*"
   ]
  },
  {
   "cell_type": "code",
   "execution_count": 44,
   "metadata": {},
   "outputs": [
    {
     "name": "stdout",
     "output_type": "stream",
     "text": [
      "Число pvalue 0.727\n",
      "Относительное различие по среднему чеку -0.034\n"
     ]
    }
   ],
   "source": [
    "print('Число pvalue {0:.3f}'.format(stats.mannwhitneyu(orders[np.logical_and(orders['group'] == 'A',\n",
    "                                                \n",
    "         np.logical_not(orders['visitorId'].isin(abnormalUsers)))]['revenue'], orders[np.logical_and(orders['group'] == 'B',\n",
    "                                                                \n",
    "             np.logical_not(orders['visitorId'].isin(abnormalUsers)))]['revenue'])[1]))\n",
    "\n",
    "print('Относительное различие по среднему чеку {0:.3f}'.format(orders[np.logical_and(orders['group'] == 'B',\n",
    "                                \n",
    "                                            np.logical_not(orders['visitorId'].isin(abnormalUsers)))]['revenue'].mean()\n",
    "                       \n",
    "                      / orders[np.logical_and(orders['group'] == 'A',\n",
    "                                              \n",
    "                       np.logical_not(orders['visitorId'].isin(abnormalUsers)))]['revenue'].mean() - 1))\n"
   ]
  },
  {
   "cell_type": "markdown",
   "metadata": {},
   "source": [
    "Комментарий\n",
    "\n",
    " - Не удалось зафиксировать статистическую разницу по очищенным данным. Изменилось относительное различие по среднему чеку. Теперь группа В проигрывает группе А  3 процента, а до очистки данных была лучше на 29%, хотя тест и не фиксировал статистически значимую разницу. Такое смещение показывает, как сильно аномалии влияют на результат. \n",
    "\n",
    "\n",
    "\n",
    "**Необходимо принять решение по результатам А/В-теста**\n",
    "\n",
    "Факты следующие:\n",
    "\n",
    " - достигнута статистическая значимость в конверсии и для \"сырых данных\" и для отфильтрованных Группа В - постоянный лидер.\n",
    " \n",
    " - для среднего чека статистически значимая разница не была достигнута ни по сырым данным ни по очищщеным. На средний чек выбросы оказали сильное влияние. На относительном различии среднего чека между группами, мы это увидели\n",
    " \n",
    " - по графику относительного изменения среднего чека видим, после второго выброса снижение, гораздо более плавное, чем после первого и в финале линия выравнивается\n",
    " \n",
    " - график относительного изменения кумулятивной конверсии после некоторых колебаний начинает плавно расти. \n",
    "\n",
    "**Исходя из фактов, тест можно остановить и признать лидером группу В** \n",
    "\n",
    "Конверсия в группе В стабилизировалась на отметке более высокой, чем в группе А. По среднему чеку статистически значимых различий между группами не выявили. Но средний чек для сегмента В не хуже, чем для сегмента А. С ростом конверсии  будет расти и выручка (при том же среднем чеке)\n",
    "\n"
   ]
  },
  {
   "cell_type": "markdown",
   "metadata": {},
   "source": [
    "## Вывод"
   ]
  },
  {
   "cell_type": "markdown",
   "metadata": {},
   "source": [
    "Для данного иследования были предложены две задачи \n",
    "\n",
    " - приоритизировать гипотезы\n",
    " - проанализировать результаты А/В-теста\n",
    " \n",
    "Информация для исследования была представлена в таблицах \n",
    " - со списком гипотез и оценками для первой задачи \n",
    " - заказов и визитов по результатам А/В-теста для второй задачи\n",
    " \n",
    "Пропусков, дубликатов, аномалий в данных не обнаружили. Для дальнейших расчетов преобразовали формат даты.\n",
    "\n",
    "\n",
    "Гипотезы приоритизировали применяя фреймворки `ICE` и `RICE` Приоритизация рассчитывается с учетом параметров \n",
    " - `Impact` - влияние изменений в продукте на пользователя\n",
    " - `Confidence` - наша уверенность, что изменения повлияют именно так\n",
    " - `Reach` - показывает скольких пользователей затронет изменение продукта\n",
    " - `Efforts` - показывает насколько сложно проверить гипотезу, сколько ресурсов потребуется\n",
    "\n",
    "Компоненты оцениваются по шкале от 1 до 10 баллов. Соответственно, чем выше по оценкам первые три параметра и ниже четвертый, тем приоритетнее гипотеза.\n",
    "\n",
    "Чтобы проанализировать результаты А/В-теста и принять решение остановить тест, зафиксировать результат или продолжить, выполнили следующие шаги\n",
    "\n",
    " - изучили данные по А/В-тесту. Отсеяли пользователей, попадающих в обе группы\n",
    " \n",
    " - рассчитали и построили графики кумулятивных метрик выручки, конверсии и среднего чека, а также график изменения кумулятивного среднего чека и график изменения кумулятивной конверсии. По графикам определили:\n",
    " \n",
    "    - конверсия для группы В лидирует\n",
    "    - в данных есть сильные выбросы - заказы на большую сумму или большое число заказов на одного пользователя\n",
    "    \n",
    " - для наглядного изучения выбросов построили точечный график количества заказов по пользователям  и точечный график стоимостей\n",
    " \n",
    " - для того чтобы определить границу для аномальных пользователей и заказов, изучили 95 и 99 перцентили. Так мы решили отсеять 5 процентов пользователей и заказов.\n",
    " \n",
    " - посчитали статистическую значимость в конверсиях между группами и статистическую значимость различий в среднем чеке\n",
    " \n",
    "    - по сырым даннам\n",
    "    - по очищенным данным\n",
    "    \n",
    "Для расчета статистической значимости использовали непараметрический тест Манна-Уитни. Основное отличие непраметрических методов в том, что они работают с рангами, - номерами значений в упорядоченном ряду, - никак не учитывая сами значения. Поэтому к ним прибегают тогда, когда работа с самими значениями невозможна из-за выбросов, сильно сдвигающих параметрические результаты.\n",
    "\n",
    "По итогу анализа получили результаты\n",
    "\n",
    " - в конверсиии для сырых данных и для отфильтрованных есть статистически значимомго различие. Группа В лучше группы А на 16% по сырым данным, и на 17 % по отфильтрованным\n",
    " \n",
    " - по среднему чеку для каждой из групп тест не показал статистическую разницу как в варианте с сырыми данными, так и в варианте с очищенными данными, несмотря на то, что относительная разница в куммулятивном среднем чеке между группами была существенной. Для сырых данных средний чек для в группе В был лучше на 29%, чем в группе А. После удаления выбросов средний чек в группе В стал ниже на 3% среднего чека группы А. Заказы с высокой стоимостью в группе В оказали влияние на относительную разницу средних чеков по группам.\n",
    " \n",
    "Учитывая статистически зафиксированную, положительную разницу в конверсии и отсутствие явных отрицательных отличий по среднему чеку, приняли решение остановить тест и зафиксировать победу группы В"
   ]
  }
 ],
 "metadata": {
  "ExecuteTimeLog": [
   {
    "duration": 1479,
    "start_time": "2022-05-27T12:26:58.679Z"
   },
   {
    "duration": 9,
    "start_time": "2022-05-27T12:27:40.737Z"
   },
   {
    "duration": 63,
    "start_time": "2022-05-27T12:34:02.698Z"
   },
   {
    "duration": 94,
    "start_time": "2022-05-27T12:34:04.866Z"
   },
   {
    "duration": 65,
    "start_time": "2022-05-27T12:34:06.554Z"
   },
   {
    "duration": 10,
    "start_time": "2022-05-27T12:34:32.760Z"
   },
   {
    "duration": 12,
    "start_time": "2022-05-27T12:35:00.611Z"
   },
   {
    "duration": 9,
    "start_time": "2022-05-27T12:35:35.356Z"
   },
   {
    "duration": 13,
    "start_time": "2022-05-27T12:35:53.622Z"
   },
   {
    "duration": 7,
    "start_time": "2022-05-27T12:37:04.615Z"
   },
   {
    "duration": 11,
    "start_time": "2022-05-27T12:37:29.721Z"
   },
   {
    "duration": 1308,
    "start_time": "2022-05-30T13:09:22.584Z"
   },
   {
    "duration": 74,
    "start_time": "2022-05-30T13:09:25.147Z"
   },
   {
    "duration": 62,
    "start_time": "2022-05-30T13:09:30.740Z"
   },
   {
    "duration": 12,
    "start_time": "2022-05-30T13:09:33.282Z"
   },
   {
    "duration": 6,
    "start_time": "2022-05-30T13:09:34.674Z"
   },
   {
    "duration": 78,
    "start_time": "2022-05-30T13:09:38.107Z"
   },
   {
    "duration": 1112,
    "start_time": "2022-05-30T13:12:31.077Z"
   },
   {
    "duration": 34,
    "start_time": "2022-05-30T13:12:32.192Z"
   },
   {
    "duration": 14,
    "start_time": "2022-05-30T13:12:32.228Z"
   },
   {
    "duration": 11,
    "start_time": "2022-05-30T13:12:32.244Z"
   },
   {
    "duration": 8,
    "start_time": "2022-05-30T13:12:32.256Z"
   },
   {
    "duration": 40,
    "start_time": "2022-05-30T13:12:32.265Z"
   },
   {
    "duration": 10,
    "start_time": "2022-05-30T13:12:32.306Z"
   },
   {
    "duration": 13,
    "start_time": "2022-05-30T13:12:32.317Z"
   },
   {
    "duration": 5,
    "start_time": "2022-05-30T13:12:32.332Z"
   },
   {
    "duration": 120,
    "start_time": "2022-05-30T13:12:32.340Z"
   },
   {
    "duration": 0,
    "start_time": "2022-05-30T13:12:32.462Z"
   },
   {
    "duration": 0,
    "start_time": "2022-05-30T13:12:32.464Z"
   },
   {
    "duration": 0,
    "start_time": "2022-05-30T13:12:32.465Z"
   },
   {
    "duration": 1,
    "start_time": "2022-05-30T13:12:32.465Z"
   },
   {
    "duration": 0,
    "start_time": "2022-05-30T13:12:32.466Z"
   },
   {
    "duration": 0,
    "start_time": "2022-05-30T13:12:32.467Z"
   },
   {
    "duration": 0,
    "start_time": "2022-05-30T13:12:32.468Z"
   },
   {
    "duration": 0,
    "start_time": "2022-05-30T13:12:32.469Z"
   },
   {
    "duration": 0,
    "start_time": "2022-05-30T13:12:32.470Z"
   },
   {
    "duration": 0,
    "start_time": "2022-05-30T13:12:32.471Z"
   },
   {
    "duration": 0,
    "start_time": "2022-05-30T13:12:32.472Z"
   },
   {
    "duration": 0,
    "start_time": "2022-05-30T13:12:32.473Z"
   },
   {
    "duration": 0,
    "start_time": "2022-05-30T13:12:32.495Z"
   },
   {
    "duration": 0,
    "start_time": "2022-05-30T13:12:32.496Z"
   },
   {
    "duration": 0,
    "start_time": "2022-05-30T13:12:32.497Z"
   },
   {
    "duration": 0,
    "start_time": "2022-05-30T13:12:32.498Z"
   },
   {
    "duration": 0,
    "start_time": "2022-05-30T13:12:32.499Z"
   },
   {
    "duration": 0,
    "start_time": "2022-05-30T13:12:32.500Z"
   },
   {
    "duration": 0,
    "start_time": "2022-05-30T13:12:32.501Z"
   },
   {
    "duration": 0,
    "start_time": "2022-05-30T13:12:32.503Z"
   },
   {
    "duration": 0,
    "start_time": "2022-05-30T13:12:32.504Z"
   },
   {
    "duration": 0,
    "start_time": "2022-05-30T13:12:32.505Z"
   },
   {
    "duration": 0,
    "start_time": "2022-05-30T13:12:32.506Z"
   },
   {
    "duration": 0,
    "start_time": "2022-05-30T13:12:32.507Z"
   },
   {
    "duration": 0,
    "start_time": "2022-05-30T13:12:32.508Z"
   },
   {
    "duration": 0,
    "start_time": "2022-05-30T13:12:32.509Z"
   },
   {
    "duration": 0,
    "start_time": "2022-05-30T13:12:32.510Z"
   },
   {
    "duration": 0,
    "start_time": "2022-05-30T13:12:32.511Z"
   },
   {
    "duration": 29,
    "start_time": "2022-05-30T13:14:06.984Z"
   },
   {
    "duration": 1035,
    "start_time": "2022-05-30T13:14:31.345Z"
   },
   {
    "duration": 33,
    "start_time": "2022-05-30T13:14:32.381Z"
   },
   {
    "duration": 14,
    "start_time": "2022-05-30T13:14:32.416Z"
   },
   {
    "duration": 10,
    "start_time": "2022-05-30T13:14:32.432Z"
   },
   {
    "duration": 7,
    "start_time": "2022-05-30T13:14:32.444Z"
   },
   {
    "duration": 40,
    "start_time": "2022-05-30T13:14:32.453Z"
   },
   {
    "duration": 10,
    "start_time": "2022-05-30T13:14:32.495Z"
   },
   {
    "duration": 14,
    "start_time": "2022-05-30T13:14:32.506Z"
   },
   {
    "duration": 8,
    "start_time": "2022-05-30T13:14:32.521Z"
   },
   {
    "duration": 9,
    "start_time": "2022-05-30T13:14:32.532Z"
   },
   {
    "duration": 17,
    "start_time": "2022-05-30T13:14:32.543Z"
   },
   {
    "duration": 36,
    "start_time": "2022-05-30T13:14:32.561Z"
   },
   {
    "duration": 7,
    "start_time": "2022-05-30T13:14:32.599Z"
   },
   {
    "duration": 12,
    "start_time": "2022-05-30T13:14:32.607Z"
   },
   {
    "duration": 12,
    "start_time": "2022-05-30T13:14:32.621Z"
   },
   {
    "duration": 10,
    "start_time": "2022-05-30T13:14:32.634Z"
   },
   {
    "duration": 239,
    "start_time": "2022-05-30T13:14:32.646Z"
   },
   {
    "duration": 308,
    "start_time": "2022-05-30T13:14:32.887Z"
   },
   {
    "duration": 260,
    "start_time": "2022-05-30T13:14:33.197Z"
   },
   {
    "duration": 324,
    "start_time": "2022-05-30T13:14:33.459Z"
   },
   {
    "duration": 4,
    "start_time": "2022-05-30T13:14:33.784Z"
   },
   {
    "duration": 4,
    "start_time": "2022-05-30T13:14:33.794Z"
   },
   {
    "duration": 177,
    "start_time": "2022-05-30T13:14:33.800Z"
   },
   {
    "duration": 299,
    "start_time": "2022-05-30T13:14:33.979Z"
   },
   {
    "duration": 21,
    "start_time": "2022-05-30T13:14:34.280Z"
   },
   {
    "duration": 150,
    "start_time": "2022-05-30T13:14:34.304Z"
   },
   {
    "duration": 6,
    "start_time": "2022-05-30T13:14:34.456Z"
   },
   {
    "duration": 9,
    "start_time": "2022-05-30T13:14:34.465Z"
   },
   {
    "duration": 191,
    "start_time": "2022-05-30T13:14:34.475Z"
   },
   {
    "duration": 5,
    "start_time": "2022-05-30T13:14:34.668Z"
   },
   {
    "duration": 137,
    "start_time": "2022-05-30T13:14:34.674Z"
   },
   {
    "duration": 6,
    "start_time": "2022-05-30T13:14:34.812Z"
   },
   {
    "duration": 30,
    "start_time": "2022-05-30T13:14:34.820Z"
   },
   {
    "duration": 10,
    "start_time": "2022-05-30T13:14:34.851Z"
   },
   {
    "duration": 10,
    "start_time": "2022-05-30T13:14:34.862Z"
   },
   {
    "duration": 26,
    "start_time": "2022-05-30T13:14:34.873Z"
   },
   {
    "duration": 26,
    "start_time": "2022-05-30T13:14:34.901Z"
   },
   {
    "duration": 12,
    "start_time": "2022-05-30T13:14:34.929Z"
   },
   {
    "duration": 1153,
    "start_time": "2022-05-31T07:25:29.105Z"
   },
   {
    "duration": 62,
    "start_time": "2022-05-31T07:25:30.259Z"
   },
   {
    "duration": 60,
    "start_time": "2022-05-31T07:25:30.323Z"
   },
   {
    "duration": 13,
    "start_time": "2022-05-31T07:25:30.386Z"
   },
   {
    "duration": 13,
    "start_time": "2022-05-31T07:25:30.401Z"
   },
   {
    "duration": 132,
    "start_time": "2022-05-31T07:25:30.415Z"
   },
   {
    "duration": 10,
    "start_time": "2022-05-31T07:25:30.549Z"
   },
   {
    "duration": 15,
    "start_time": "2022-05-31T07:25:30.561Z"
   },
   {
    "duration": 33,
    "start_time": "2022-05-31T07:25:30.577Z"
   },
   {
    "duration": 27,
    "start_time": "2022-05-31T07:25:30.612Z"
   },
   {
    "duration": 40,
    "start_time": "2022-05-31T07:25:30.654Z"
   },
   {
    "duration": 30,
    "start_time": "2022-05-31T07:25:30.696Z"
   },
   {
    "duration": 43,
    "start_time": "2022-05-31T07:25:30.727Z"
   },
   {
    "duration": 18,
    "start_time": "2022-05-31T07:25:30.772Z"
   },
   {
    "duration": 44,
    "start_time": "2022-05-31T07:25:30.792Z"
   },
   {
    "duration": 22,
    "start_time": "2022-05-31T07:25:30.844Z"
   },
   {
    "duration": 244,
    "start_time": "2022-05-31T07:25:30.867Z"
   },
   {
    "duration": 363,
    "start_time": "2022-05-31T07:25:31.113Z"
   },
   {
    "duration": 306,
    "start_time": "2022-05-31T07:25:31.478Z"
   },
   {
    "duration": 317,
    "start_time": "2022-05-31T07:25:31.786Z"
   },
   {
    "duration": 5,
    "start_time": "2022-05-31T07:25:32.105Z"
   },
   {
    "duration": 42,
    "start_time": "2022-05-31T07:25:32.129Z"
   },
   {
    "duration": 233,
    "start_time": "2022-05-31T07:25:32.173Z"
   },
   {
    "duration": 355,
    "start_time": "2022-05-31T07:25:32.407Z"
   },
   {
    "duration": 15,
    "start_time": "2022-05-31T07:25:32.764Z"
   },
   {
    "duration": 199,
    "start_time": "2022-05-31T07:25:32.781Z"
   },
   {
    "duration": 6,
    "start_time": "2022-05-31T07:25:32.982Z"
   },
   {
    "duration": 18,
    "start_time": "2022-05-31T07:25:32.992Z"
   },
   {
    "duration": 194,
    "start_time": "2022-05-31T07:25:33.012Z"
   },
   {
    "duration": 5,
    "start_time": "2022-05-31T07:25:33.208Z"
   },
   {
    "duration": 194,
    "start_time": "2022-05-31T07:25:33.214Z"
   },
   {
    "duration": 6,
    "start_time": "2022-05-31T07:25:33.410Z"
   },
   {
    "duration": 69,
    "start_time": "2022-05-31T07:25:33.418Z"
   },
   {
    "duration": 23,
    "start_time": "2022-05-31T07:25:33.489Z"
   },
   {
    "duration": 28,
    "start_time": "2022-05-31T07:25:33.514Z"
   },
   {
    "duration": 42,
    "start_time": "2022-05-31T07:25:33.544Z"
   },
   {
    "duration": 46,
    "start_time": "2022-05-31T07:25:33.588Z"
   },
   {
    "duration": 20,
    "start_time": "2022-05-31T07:25:33.637Z"
   },
   {
    "duration": 1589,
    "start_time": "2022-05-31T16:02:05.543Z"
   },
   {
    "duration": 69,
    "start_time": "2022-05-31T16:02:11.485Z"
   },
   {
    "duration": 63,
    "start_time": "2022-05-31T16:02:15.195Z"
   },
   {
    "duration": 11,
    "start_time": "2022-05-31T16:02:15.796Z"
   },
   {
    "duration": 5,
    "start_time": "2022-05-31T16:02:18.710Z"
   },
   {
    "duration": 99,
    "start_time": "2022-05-31T16:02:20.143Z"
   },
   {
    "duration": 14,
    "start_time": "2022-05-31T16:02:25.484Z"
   },
   {
    "duration": 13,
    "start_time": "2022-05-31T16:02:28.307Z"
   },
   {
    "duration": 7,
    "start_time": "2022-05-31T16:02:30.668Z"
   },
   {
    "duration": 29,
    "start_time": "2022-05-31T16:02:31.461Z"
   },
   {
    "duration": 10,
    "start_time": "2022-05-31T16:02:34.556Z"
   },
   {
    "duration": 12,
    "start_time": "2022-05-31T16:02:35.789Z"
   },
   {
    "duration": 5,
    "start_time": "2022-05-31T16:02:41.540Z"
   },
   {
    "duration": 11,
    "start_time": "2022-05-31T16:03:56.632Z"
   },
   {
    "duration": 122,
    "start_time": "2022-05-31T16:04:02.046Z"
   },
   {
    "duration": 11,
    "start_time": "2022-05-31T16:04:18.954Z"
   },
   {
    "duration": 114,
    "start_time": "2022-05-31T16:06:01.399Z"
   },
   {
    "duration": 12,
    "start_time": "2022-05-31T16:14:12.224Z"
   },
   {
    "duration": 11,
    "start_time": "2022-05-31T16:14:24.607Z"
   },
   {
    "duration": 206,
    "start_time": "2022-05-31T16:35:41.041Z"
   },
   {
    "duration": 572,
    "start_time": "2022-05-31T16:36:06.789Z"
   },
   {
    "duration": 235,
    "start_time": "2022-05-31T16:41:00.200Z"
   },
   {
    "duration": 169,
    "start_time": "2022-05-31T16:42:25.505Z"
   },
   {
    "duration": 119,
    "start_time": "2022-05-31T16:51:24.379Z"
   },
   {
    "duration": 118,
    "start_time": "2022-05-31T16:52:24.123Z"
   },
   {
    "duration": 121,
    "start_time": "2022-05-31T16:53:04.574Z"
   },
   {
    "duration": 146,
    "start_time": "2022-05-31T16:55:07.133Z"
   },
   {
    "duration": 119,
    "start_time": "2022-05-31T16:56:04.932Z"
   },
   {
    "duration": 5,
    "start_time": "2022-05-31T17:00:00.360Z"
   },
   {
    "duration": 11,
    "start_time": "2022-05-31T17:06:19.547Z"
   },
   {
    "duration": 6,
    "start_time": "2022-05-31T17:07:12.261Z"
   },
   {
    "duration": 133,
    "start_time": "2022-05-31T17:07:59.302Z"
   },
   {
    "duration": 17,
    "start_time": "2022-05-31T17:40:19.615Z"
   },
   {
    "duration": 16,
    "start_time": "2022-05-31T17:40:33.408Z"
   },
   {
    "duration": 115,
    "start_time": "2022-05-31T17:40:34.836Z"
   },
   {
    "duration": 6,
    "start_time": "2022-05-31T17:40:39.314Z"
   },
   {
    "duration": 297,
    "start_time": "2022-05-31T17:46:11.293Z"
   },
   {
    "duration": 254,
    "start_time": "2022-05-31T17:55:38.312Z"
   },
   {
    "duration": 269,
    "start_time": "2022-05-31T17:56:17.077Z"
   },
   {
    "duration": 225,
    "start_time": "2022-05-31T18:01:01.328Z"
   },
   {
    "duration": 238,
    "start_time": "2022-05-31T18:26:27.648Z"
   },
   {
    "duration": 178,
    "start_time": "2022-05-31T18:28:29.782Z"
   },
   {
    "duration": 5,
    "start_time": "2022-05-31T18:29:01.357Z"
   },
   {
    "duration": 124,
    "start_time": "2022-05-31T18:58:14.234Z"
   },
   {
    "duration": 10,
    "start_time": "2022-05-31T18:58:26.383Z"
   },
   {
    "duration": 4,
    "start_time": "2022-05-31T18:59:43.915Z"
   },
   {
    "duration": 7,
    "start_time": "2022-05-31T18:59:44.762Z"
   },
   {
    "duration": 149,
    "start_time": "2022-05-31T18:59:45.836Z"
   },
   {
    "duration": 6,
    "start_time": "2022-05-31T19:10:20.139Z"
   },
   {
    "duration": 6,
    "start_time": "2022-05-31T19:10:28.331Z"
   },
   {
    "duration": 15,
    "start_time": "2022-05-31T19:10:30.530Z"
   },
   {
    "duration": 131,
    "start_time": "2022-05-31T19:10:56.486Z"
   },
   {
    "duration": 6,
    "start_time": "2022-05-31T19:10:57.790Z"
   },
   {
    "duration": 10,
    "start_time": "2022-05-31T19:11:05.545Z"
   },
   {
    "duration": 15,
    "start_time": "2022-05-31T19:11:09.207Z"
   },
   {
    "duration": 10,
    "start_time": "2022-05-31T19:13:21.917Z"
   },
   {
    "duration": 6,
    "start_time": "2022-05-31T19:17:46.750Z"
   },
   {
    "duration": 5,
    "start_time": "2022-05-31T19:17:59.679Z"
   },
   {
    "duration": 6,
    "start_time": "2022-05-31T19:18:32.854Z"
   },
   {
    "duration": 13,
    "start_time": "2022-05-31T19:19:23.620Z"
   },
   {
    "duration": 10,
    "start_time": "2022-05-31T19:21:14.541Z"
   },
   {
    "duration": 8,
    "start_time": "2022-05-31T19:22:14.638Z"
   },
   {
    "duration": 36,
    "start_time": "2022-05-31T19:22:15.661Z"
   },
   {
    "duration": 16,
    "start_time": "2022-05-31T19:29:42.548Z"
   },
   {
    "duration": 17,
    "start_time": "2022-05-31T19:34:01.103Z"
   },
   {
    "duration": 338,
    "start_time": "2022-05-31T19:38:06.103Z"
   },
   {
    "duration": 270,
    "start_time": "2022-05-31T19:44:41.111Z"
   },
   {
    "duration": 270,
    "start_time": "2022-05-31T19:47:21.725Z"
   },
   {
    "duration": 259,
    "start_time": "2022-05-31T20:07:44.818Z"
   },
   {
    "duration": 256,
    "start_time": "2022-05-31T20:08:43.010Z"
   },
   {
    "duration": 360,
    "start_time": "2022-05-31T20:09:06.248Z"
   },
   {
    "duration": 7,
    "start_time": "2022-05-31T20:22:13.227Z"
   },
   {
    "duration": 6,
    "start_time": "2022-05-31T20:23:01.654Z"
   },
   {
    "duration": 3,
    "start_time": "2022-05-31T20:24:34.681Z"
   },
   {
    "duration": 12,
    "start_time": "2022-05-31T20:25:05.414Z"
   },
   {
    "duration": 4,
    "start_time": "2022-05-31T20:25:15.520Z"
   },
   {
    "duration": 9,
    "start_time": "2022-05-31T20:29:14.861Z"
   },
   {
    "duration": 9,
    "start_time": "2022-05-31T20:29:18.656Z"
   },
   {
    "duration": 5,
    "start_time": "2022-05-31T20:35:34.143Z"
   },
   {
    "duration": 5,
    "start_time": "2022-05-31T20:36:28.700Z"
   },
   {
    "duration": 24,
    "start_time": "2022-05-31T20:43:59.066Z"
   },
   {
    "duration": 8,
    "start_time": "2022-05-31T20:45:43.551Z"
   },
   {
    "duration": 9,
    "start_time": "2022-05-31T20:46:03.342Z"
   },
   {
    "duration": 12,
    "start_time": "2022-05-31T20:47:39.790Z"
   },
   {
    "duration": 4,
    "start_time": "2022-05-31T20:47:49.347Z"
   },
   {
    "duration": 4,
    "start_time": "2022-05-31T20:48:27.953Z"
   },
   {
    "duration": 4,
    "start_time": "2022-05-31T20:50:35.068Z"
   },
   {
    "duration": 8,
    "start_time": "2022-05-31T21:14:54.155Z"
   },
   {
    "duration": 10,
    "start_time": "2022-05-31T21:15:34.505Z"
   },
   {
    "duration": 27,
    "start_time": "2022-05-31T21:15:51.396Z"
   },
   {
    "duration": 4,
    "start_time": "2022-05-31T21:15:57.030Z"
   },
   {
    "duration": 5,
    "start_time": "2022-05-31T21:17:10.090Z"
   },
   {
    "duration": 11,
    "start_time": "2022-05-31T21:20:04.814Z"
   },
   {
    "duration": 4,
    "start_time": "2022-05-31T21:20:18.045Z"
   },
   {
    "duration": 1154,
    "start_time": "2022-06-01T04:36:59.271Z"
   },
   {
    "duration": 80,
    "start_time": "2022-06-01T04:37:03.933Z"
   },
   {
    "duration": 63,
    "start_time": "2022-06-01T04:37:06.891Z"
   },
   {
    "duration": 13,
    "start_time": "2022-06-01T04:37:07.446Z"
   },
   {
    "duration": 7,
    "start_time": "2022-06-01T04:37:08.027Z"
   },
   {
    "duration": 94,
    "start_time": "2022-06-01T04:37:11.347Z"
   },
   {
    "duration": 11,
    "start_time": "2022-06-01T04:37:12.434Z"
   },
   {
    "duration": 14,
    "start_time": "2022-06-01T04:37:15.002Z"
   },
   {
    "duration": 6,
    "start_time": "2022-06-01T04:37:15.547Z"
   },
   {
    "duration": 30,
    "start_time": "2022-06-01T04:37:18.109Z"
   },
   {
    "duration": 9,
    "start_time": "2022-06-01T04:37:21.323Z"
   },
   {
    "duration": 11,
    "start_time": "2022-06-01T04:37:23.596Z"
   },
   {
    "duration": 5,
    "start_time": "2022-06-01T04:37:25.211Z"
   },
   {
    "duration": 8,
    "start_time": "2022-06-01T04:37:39.525Z"
   },
   {
    "duration": 5,
    "start_time": "2022-06-01T04:37:40.511Z"
   },
   {
    "duration": 4,
    "start_time": "2022-06-01T04:37:41.101Z"
   },
   {
    "duration": 10,
    "start_time": "2022-06-01T04:37:44.525Z"
   },
   {
    "duration": 101,
    "start_time": "2022-06-01T04:37:49.227Z"
   },
   {
    "duration": 9,
    "start_time": "2022-06-01T04:38:14.285Z"
   },
   {
    "duration": 5,
    "start_time": "2022-06-01T04:38:17.225Z"
   },
   {
    "duration": 5,
    "start_time": "2022-06-01T04:38:18.181Z"
   },
   {
    "duration": 8,
    "start_time": "2022-06-01T04:42:14.238Z"
   },
   {
    "duration": 53,
    "start_time": "2022-06-01T04:42:23.476Z"
   },
   {
    "duration": 5,
    "start_time": "2022-06-01T04:44:08.939Z"
   },
   {
    "duration": 5,
    "start_time": "2022-06-01T04:45:16.714Z"
   },
   {
    "duration": 5,
    "start_time": "2022-06-01T04:51:55.699Z"
   },
   {
    "duration": 77,
    "start_time": "2022-06-01T04:52:16.308Z"
   },
   {
    "duration": 4,
    "start_time": "2022-06-01T04:52:32.380Z"
   },
   {
    "duration": 4,
    "start_time": "2022-06-01T04:52:38.133Z"
   },
   {
    "duration": 6,
    "start_time": "2022-06-01T04:55:16.857Z"
   },
   {
    "duration": 5,
    "start_time": "2022-06-01T04:55:58.118Z"
   },
   {
    "duration": 1252,
    "start_time": "2022-06-02T09:40:37.413Z"
   },
   {
    "duration": 73,
    "start_time": "2022-06-02T09:40:41.734Z"
   },
   {
    "duration": 72,
    "start_time": "2022-06-02T09:40:46.013Z"
   },
   {
    "duration": 12,
    "start_time": "2022-06-02T09:40:46.652Z"
   },
   {
    "duration": 6,
    "start_time": "2022-06-02T09:40:50.421Z"
   },
   {
    "duration": 96,
    "start_time": "2022-06-02T09:40:53.509Z"
   },
   {
    "duration": 17,
    "start_time": "2022-06-02T09:40:57.313Z"
   },
   {
    "duration": 13,
    "start_time": "2022-06-02T09:41:00.785Z"
   },
   {
    "duration": 8,
    "start_time": "2022-06-02T09:41:02.979Z"
   },
   {
    "duration": 30,
    "start_time": "2022-06-02T09:41:03.775Z"
   },
   {
    "duration": 10,
    "start_time": "2022-06-02T09:41:07.339Z"
   },
   {
    "duration": 13,
    "start_time": "2022-06-02T09:41:10.430Z"
   },
   {
    "duration": 6,
    "start_time": "2022-06-02T09:41:13.005Z"
   },
   {
    "duration": 8,
    "start_time": "2022-06-02T09:41:19.262Z"
   },
   {
    "duration": 18,
    "start_time": "2022-06-02T09:41:22.370Z"
   },
   {
    "duration": 12,
    "start_time": "2022-06-02T09:41:24.879Z"
   },
   {
    "duration": 9,
    "start_time": "2022-06-02T09:41:35.247Z"
   },
   {
    "duration": 6,
    "start_time": "2022-06-02T09:41:37.891Z"
   },
   {
    "duration": 6,
    "start_time": "2022-06-02T09:41:39.824Z"
   },
   {
    "duration": 8,
    "start_time": "2022-06-02T09:42:06.506Z"
   },
   {
    "duration": 12,
    "start_time": "2022-06-02T09:42:07.417Z"
   },
   {
    "duration": 5,
    "start_time": "2022-06-02T09:43:20.307Z"
   },
   {
    "duration": 5,
    "start_time": "2022-06-02T09:43:22.306Z"
   },
   {
    "duration": 109,
    "start_time": "2022-06-02T09:46:34.976Z"
   },
   {
    "duration": 5,
    "start_time": "2022-06-02T09:48:52.049Z"
   },
   {
    "duration": 8,
    "start_time": "2022-06-02T09:50:15.216Z"
   },
   {
    "duration": 56,
    "start_time": "2022-06-02T10:33:27.604Z"
   },
   {
    "duration": 27,
    "start_time": "2022-06-02T10:40:43.920Z"
   },
   {
    "duration": 15,
    "start_time": "2022-06-02T10:40:46.627Z"
   },
   {
    "duration": 60,
    "start_time": "2022-06-02T10:43:29.900Z"
   },
   {
    "duration": 4,
    "start_time": "2022-06-02T10:43:47.285Z"
   },
   {
    "duration": 40,
    "start_time": "2022-06-02T10:46:45.361Z"
   },
   {
    "duration": 76,
    "start_time": "2022-06-02T10:48:36.881Z"
   },
   {
    "duration": 33,
    "start_time": "2022-06-02T10:49:05.678Z"
   },
   {
    "duration": 5,
    "start_time": "2022-06-02T10:49:34.102Z"
   },
   {
    "duration": 4,
    "start_time": "2022-06-02T10:49:45.080Z"
   },
   {
    "duration": 37,
    "start_time": "2022-06-02T10:50:06.276Z"
   },
   {
    "duration": 35,
    "start_time": "2022-06-02T10:53:11.250Z"
   },
   {
    "duration": 75,
    "start_time": "2022-06-02T10:55:16.898Z"
   },
   {
    "duration": 3,
    "start_time": "2022-06-02T11:11:16.243Z"
   },
   {
    "duration": 76,
    "start_time": "2022-06-02T11:13:33.542Z"
   },
   {
    "duration": 37,
    "start_time": "2022-06-02T11:13:45.653Z"
   },
   {
    "duration": 22,
    "start_time": "2022-06-02T11:14:37.682Z"
   },
   {
    "duration": 4,
    "start_time": "2022-06-02T11:14:43.274Z"
   },
   {
    "duration": 24,
    "start_time": "2022-06-02T11:15:43.843Z"
   },
   {
    "duration": 91,
    "start_time": "2022-06-02T11:16:03.174Z"
   },
   {
    "duration": 20,
    "start_time": "2022-06-02T11:16:14.370Z"
   },
   {
    "duration": 5,
    "start_time": "2022-06-02T11:16:35.513Z"
   },
   {
    "duration": 7,
    "start_time": "2022-06-02T11:16:39.000Z"
   },
   {
    "duration": 5,
    "start_time": "2022-06-02T11:16:42.690Z"
   },
   {
    "duration": 21,
    "start_time": "2022-06-02T11:16:45.121Z"
   },
   {
    "duration": 5,
    "start_time": "2022-06-02T11:17:11.753Z"
   },
   {
    "duration": 18,
    "start_time": "2022-06-02T11:17:12.788Z"
   },
   {
    "duration": 122,
    "start_time": "2022-06-02T11:17:54.004Z"
   },
   {
    "duration": 3,
    "start_time": "2022-06-02T11:18:03.399Z"
   },
   {
    "duration": 3,
    "start_time": "2022-06-02T11:20:34.793Z"
   },
   {
    "duration": 19,
    "start_time": "2022-06-02T11:20:36.921Z"
   },
   {
    "duration": 72,
    "start_time": "2022-06-02T11:22:05.286Z"
   },
   {
    "duration": 3,
    "start_time": "2022-06-02T11:22:34.559Z"
   },
   {
    "duration": 3,
    "start_time": "2022-06-02T11:23:28.575Z"
   },
   {
    "duration": 14,
    "start_time": "2022-06-02T11:23:29.466Z"
   },
   {
    "duration": 33,
    "start_time": "2022-06-02T11:32:08.485Z"
   }
  ],
  "kernelspec": {
   "display_name": "Python 3 (ipykernel)",
   "language": "python",
   "name": "python3"
  },
  "language_info": {
   "codemirror_mode": {
    "name": "ipython",
    "version": 3
   },
   "file_extension": ".py",
   "mimetype": "text/x-python",
   "name": "python",
   "nbconvert_exporter": "python",
   "pygments_lexer": "ipython3",
   "version": "3.9.7"
  },
  "toc": {
   "base_numbering": 1,
   "nav_menu": {
    "height": "190px",
    "width": "310px"
   },
   "number_sections": false,
   "sideBar": true,
   "skip_h1_title": false,
   "title_cell": "Содержание",
   "title_sidebar": "Contents",
   "toc_cell": true,
   "toc_position": {},
   "toc_section_display": true,
   "toc_window_display": true
  }
 },
 "nbformat": 4,
 "nbformat_minor": 2
}
