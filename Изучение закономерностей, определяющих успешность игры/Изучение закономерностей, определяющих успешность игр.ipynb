{
 "cells": [
  {
   "cell_type": "markdown",
   "id": "ef3646a6",
   "metadata": {
    "toc": true
   },
   "source": [
    "<h1>Содержание<span class=\"tocSkip\"></span></h1>\n",
    "<div class=\"toc\"><ul class=\"toc-item\"><li><span><a href=\"#Изучение-общей-информации\" data-toc-modified-id=\"Изучение-общей-информации-1\"><span class=\"toc-item-num\">1&nbsp;&nbsp;</span>Изучение общей информации</a></span></li><li><span><a href=\"#Подготовка-данных-к-анализу\" data-toc-modified-id=\"Подготовка-данных-к-анализу-2\"><span class=\"toc-item-num\">2&nbsp;&nbsp;</span>Подготовка данных к анализу</a></span><ul class=\"toc-item\"><li><span><a href=\"#Вывод\" data-toc-modified-id=\"Вывод-2.1\"><span class=\"toc-item-num\">2.1&nbsp;&nbsp;</span>Вывод</a></span></li></ul></li><li><span><a href=\"#Анализ-данных\" data-toc-modified-id=\"Анализ-данных-3\"><span class=\"toc-item-num\">3&nbsp;&nbsp;</span>Анализ данных</a></span><ul class=\"toc-item\"><li><span><a href=\"#Игровой-портрет-пользователя-каждого-региона\" data-toc-modified-id=\"Игровой-портрет-пользователя-каждого-региона-3.1\"><span class=\"toc-item-num\">3.1&nbsp;&nbsp;</span>Игровой портрет пользователя каждого региона</a></span></li></ul></li><li><span><a href=\"#Проверка-гипотез\" data-toc-modified-id=\"Проверка-гипотез-4\"><span class=\"toc-item-num\">4&nbsp;&nbsp;</span>Проверка гипотез</a></span></li><li><span><a href=\"#Вывод\" data-toc-modified-id=\"Вывод-5\"><span class=\"toc-item-num\">5&nbsp;&nbsp;</span>Вывод</a></span></li></ul></div>"
   ]
  },
  {
   "cell_type": "markdown",
   "id": "5aac628e",
   "metadata": {},
   "source": [
    "# Изучение закономерностей, определяющих успешность игр"
   ]
  },
  {
   "cell_type": "markdown",
   "id": "1508ab33",
   "metadata": {},
   "source": [
    "Интернет-магазин, продающий компьютерные игры по всему миру, хочет выявить потенциально популярный продукт, чтобы \n",
    "спланировавать рекламные кампании.\n",
    "\n",
    "\n",
    "Для анализа предоставлена таблица с информацией из открытых источников. \n",
    "\n",
    "В таблице содержаться данные о продажах игр, оценки пользователей и экспертов, жанры и платформы игр - периода с 1980 по 2016 года.\n",
    "\n",
    "Необходимо выявить правила и особенности по которым развивается рынок игровой индустрии.\n",
    "\n",
    "**Цель данной работы:**  определить закономерности, влияющие на успешность игры.\n",
    "\n",
    "**Исследование пройдет по следующим этапам**\n",
    "  \n",
    "   - Обзор данных\n",
    "   - Изучение данных и обработка\n",
    "   - Анализ данных\n",
    "   - Проверка гипотез\n",
    "  "
   ]
  },
  {
   "cell_type": "markdown",
   "id": "5cdd8070",
   "metadata": {},
   "source": [
    "## Изучение общей информации"
   ]
  },
  {
   "cell_type": "code",
   "execution_count": 1,
   "id": "b9046b2d",
   "metadata": {},
   "outputs": [],
   "source": [
    "import pandas as pd # импортируем библиотеки\n",
    "import numpy as np\n",
    "import matplotlib.pyplot as plt\n",
    "from scipy import stats as st"
   ]
  },
  {
   "cell_type": "code",
   "execution_count": 2,
   "id": "3cc5152b",
   "metadata": {},
   "outputs": [],
   "source": [
    "df = pd.read_csv('/datasets/games.csv') "
   ]
  },
  {
   "cell_type": "code",
   "execution_count": 3,
   "id": "ed8aeff5",
   "metadata": {},
   "outputs": [
    {
     "data": {
      "text/html": [
       "<div>\n",
       "<style scoped>\n",
       "    .dataframe tbody tr th:only-of-type {\n",
       "        vertical-align: middle;\n",
       "    }\n",
       "\n",
       "    .dataframe tbody tr th {\n",
       "        vertical-align: top;\n",
       "    }\n",
       "\n",
       "    .dataframe thead th {\n",
       "        text-align: right;\n",
       "    }\n",
       "</style>\n",
       "<table border=\"1\" class=\"dataframe\">\n",
       "  <thead>\n",
       "    <tr style=\"text-align: right;\">\n",
       "      <th></th>\n",
       "      <th>Name</th>\n",
       "      <th>Platform</th>\n",
       "      <th>Year_of_Release</th>\n",
       "      <th>Genre</th>\n",
       "      <th>NA_sales</th>\n",
       "      <th>EU_sales</th>\n",
       "      <th>JP_sales</th>\n",
       "      <th>Other_sales</th>\n",
       "      <th>Critic_Score</th>\n",
       "      <th>User_Score</th>\n",
       "      <th>Rating</th>\n",
       "    </tr>\n",
       "  </thead>\n",
       "  <tbody>\n",
       "    <tr>\n",
       "      <th>0</th>\n",
       "      <td>Wii Sports</td>\n",
       "      <td>Wii</td>\n",
       "      <td>2006.0</td>\n",
       "      <td>Sports</td>\n",
       "      <td>41.36</td>\n",
       "      <td>28.96</td>\n",
       "      <td>3.77</td>\n",
       "      <td>8.45</td>\n",
       "      <td>76.0</td>\n",
       "      <td>8</td>\n",
       "      <td>E</td>\n",
       "    </tr>\n",
       "    <tr>\n",
       "      <th>1</th>\n",
       "      <td>Super Mario Bros.</td>\n",
       "      <td>NES</td>\n",
       "      <td>1985.0</td>\n",
       "      <td>Platform</td>\n",
       "      <td>29.08</td>\n",
       "      <td>3.58</td>\n",
       "      <td>6.81</td>\n",
       "      <td>0.77</td>\n",
       "      <td>NaN</td>\n",
       "      <td>NaN</td>\n",
       "      <td>NaN</td>\n",
       "    </tr>\n",
       "    <tr>\n",
       "      <th>2</th>\n",
       "      <td>Mario Kart Wii</td>\n",
       "      <td>Wii</td>\n",
       "      <td>2008.0</td>\n",
       "      <td>Racing</td>\n",
       "      <td>15.68</td>\n",
       "      <td>12.76</td>\n",
       "      <td>3.79</td>\n",
       "      <td>3.29</td>\n",
       "      <td>82.0</td>\n",
       "      <td>8.3</td>\n",
       "      <td>E</td>\n",
       "    </tr>\n",
       "    <tr>\n",
       "      <th>3</th>\n",
       "      <td>Wii Sports Resort</td>\n",
       "      <td>Wii</td>\n",
       "      <td>2009.0</td>\n",
       "      <td>Sports</td>\n",
       "      <td>15.61</td>\n",
       "      <td>10.93</td>\n",
       "      <td>3.28</td>\n",
       "      <td>2.95</td>\n",
       "      <td>80.0</td>\n",
       "      <td>8</td>\n",
       "      <td>E</td>\n",
       "    </tr>\n",
       "    <tr>\n",
       "      <th>4</th>\n",
       "      <td>Pokemon Red/Pokemon Blue</td>\n",
       "      <td>GB</td>\n",
       "      <td>1996.0</td>\n",
       "      <td>Role-Playing</td>\n",
       "      <td>11.27</td>\n",
       "      <td>8.89</td>\n",
       "      <td>10.22</td>\n",
       "      <td>1.00</td>\n",
       "      <td>NaN</td>\n",
       "      <td>NaN</td>\n",
       "      <td>NaN</td>\n",
       "    </tr>\n",
       "  </tbody>\n",
       "</table>\n",
       "</div>"
      ],
      "text/plain": [
       "                       Name Platform  Year_of_Release         Genre  NA_sales  \\\n",
       "0                Wii Sports      Wii           2006.0        Sports     41.36   \n",
       "1         Super Mario Bros.      NES           1985.0      Platform     29.08   \n",
       "2            Mario Kart Wii      Wii           2008.0        Racing     15.68   \n",
       "3         Wii Sports Resort      Wii           2009.0        Sports     15.61   \n",
       "4  Pokemon Red/Pokemon Blue       GB           1996.0  Role-Playing     11.27   \n",
       "\n",
       "   EU_sales  JP_sales  Other_sales  Critic_Score User_Score Rating  \n",
       "0     28.96      3.77         8.45          76.0          8      E  \n",
       "1      3.58      6.81         0.77           NaN        NaN    NaN  \n",
       "2     12.76      3.79         3.29          82.0        8.3      E  \n",
       "3     10.93      3.28         2.95          80.0          8      E  \n",
       "4      8.89     10.22         1.00           NaN        NaN    NaN  "
      ]
     },
     "execution_count": 3,
     "metadata": {},
     "output_type": "execute_result"
    }
   ],
   "source": [
    "df.head() "
   ]
  },
  {
   "cell_type": "code",
   "execution_count": 4,
   "id": "cf68bc6d",
   "metadata": {
    "scrolled": true
   },
   "outputs": [
    {
     "name": "stdout",
     "output_type": "stream",
     "text": [
      "<class 'pandas.core.frame.DataFrame'>\n",
      "RangeIndex: 16715 entries, 0 to 16714\n",
      "Data columns (total 11 columns):\n",
      " #   Column           Non-Null Count  Dtype  \n",
      "---  ------           --------------  -----  \n",
      " 0   Name             16713 non-null  object \n",
      " 1   Platform         16715 non-null  object \n",
      " 2   Year_of_Release  16446 non-null  float64\n",
      " 3   Genre            16713 non-null  object \n",
      " 4   NA_sales         16715 non-null  float64\n",
      " 5   EU_sales         16715 non-null  float64\n",
      " 6   JP_sales         16715 non-null  float64\n",
      " 7   Other_sales      16715 non-null  float64\n",
      " 8   Critic_Score     8137 non-null   float64\n",
      " 9   User_Score       10014 non-null  object \n",
      " 10  Rating           9949 non-null   object \n",
      "dtypes: float64(6), object(5)\n",
      "memory usage: 1.4+ MB\n"
     ]
    }
   ],
   "source": [
    "df.info()   #  получение общей информации"
   ]
  },
  {
   "cell_type": "markdown",
   "id": "20a3a68b",
   "metadata": {},
   "source": [
    "Вывод\n",
    "\n",
    "Названия колонок записаны с нарушением стиля \"snake_case\" \n",
    "\n",
    "Количество значений в столбцах различается, значит есть пропущенные значения\n",
    "\n",
    "В некоторых колонках необходимо изменить тип данных"
   ]
  },
  {
   "cell_type": "markdown",
   "id": "5fe011b5",
   "metadata": {},
   "source": [
    "## Подготовка данных к анализу"
   ]
  },
  {
   "cell_type": "markdown",
   "id": "e2132a3a",
   "metadata": {},
   "source": [
    " - Приведем названия столбцов к нижнему регистру"
   ]
  },
  {
   "cell_type": "code",
   "execution_count": 5,
   "id": "6877a9e6",
   "metadata": {},
   "outputs": [],
   "source": [
    "df.columns = df.columns.str.lower()"
   ]
  },
  {
   "cell_type": "code",
   "execution_count": 6,
   "id": "17836d70",
   "metadata": {
    "scrolled": true
   },
   "outputs": [
    {
     "name": "stdout",
     "output_type": "stream",
     "text": [
      "<class 'pandas.core.frame.DataFrame'>\n",
      "RangeIndex: 16715 entries, 0 to 16714\n",
      "Data columns (total 11 columns):\n",
      " #   Column           Non-Null Count  Dtype  \n",
      "---  ------           --------------  -----  \n",
      " 0   name             16713 non-null  object \n",
      " 1   platform         16715 non-null  object \n",
      " 2   year_of_release  16446 non-null  float64\n",
      " 3   genre            16713 non-null  object \n",
      " 4   na_sales         16715 non-null  float64\n",
      " 5   eu_sales         16715 non-null  float64\n",
      " 6   jp_sales         16715 non-null  float64\n",
      " 7   other_sales      16715 non-null  float64\n",
      " 8   critic_score     8137 non-null   float64\n",
      " 9   user_score       10014 non-null  object \n",
      " 10  rating           9949 non-null   object \n",
      "dtypes: float64(6), object(5)\n",
      "memory usage: 1.4+ MB\n"
     ]
    }
   ],
   "source": [
    "df.info()"
   ]
  },
  {
   "cell_type": "markdown",
   "id": "fa0089c7",
   "metadata": {},
   "source": [
    " - Изучим столбцы"
   ]
  },
  {
   "cell_type": "markdown",
   "id": "4aa712b2",
   "metadata": {},
   "source": [
    "В столбцах `name`  `genre` по два пропущенных значения. Это одни и те же строки. Можно заменить пропуски на 'unknown'. Данные, которые без пропусков можем использовать при анализе платформ и продаж в разных регионах"
   ]
  },
  {
   "cell_type": "code",
   "execution_count": 7,
   "id": "f79ffeb6",
   "metadata": {
    "scrolled": false
   },
   "outputs": [
    {
     "data": {
      "text/html": [
       "<div>\n",
       "<style scoped>\n",
       "    .dataframe tbody tr th:only-of-type {\n",
       "        vertical-align: middle;\n",
       "    }\n",
       "\n",
       "    .dataframe tbody tr th {\n",
       "        vertical-align: top;\n",
       "    }\n",
       "\n",
       "    .dataframe thead th {\n",
       "        text-align: right;\n",
       "    }\n",
       "</style>\n",
       "<table border=\"1\" class=\"dataframe\">\n",
       "  <thead>\n",
       "    <tr style=\"text-align: right;\">\n",
       "      <th></th>\n",
       "      <th>name</th>\n",
       "      <th>platform</th>\n",
       "      <th>year_of_release</th>\n",
       "      <th>genre</th>\n",
       "      <th>na_sales</th>\n",
       "      <th>eu_sales</th>\n",
       "      <th>jp_sales</th>\n",
       "      <th>other_sales</th>\n",
       "      <th>critic_score</th>\n",
       "      <th>user_score</th>\n",
       "      <th>rating</th>\n",
       "    </tr>\n",
       "  </thead>\n",
       "  <tbody>\n",
       "    <tr>\n",
       "      <th>659</th>\n",
       "      <td>NaN</td>\n",
       "      <td>GEN</td>\n",
       "      <td>1993.0</td>\n",
       "      <td>NaN</td>\n",
       "      <td>1.78</td>\n",
       "      <td>0.53</td>\n",
       "      <td>0.00</td>\n",
       "      <td>0.08</td>\n",
       "      <td>NaN</td>\n",
       "      <td>NaN</td>\n",
       "      <td>NaN</td>\n",
       "    </tr>\n",
       "    <tr>\n",
       "      <th>14244</th>\n",
       "      <td>NaN</td>\n",
       "      <td>GEN</td>\n",
       "      <td>1993.0</td>\n",
       "      <td>NaN</td>\n",
       "      <td>0.00</td>\n",
       "      <td>0.00</td>\n",
       "      <td>0.03</td>\n",
       "      <td>0.00</td>\n",
       "      <td>NaN</td>\n",
       "      <td>NaN</td>\n",
       "      <td>NaN</td>\n",
       "    </tr>\n",
       "  </tbody>\n",
       "</table>\n",
       "</div>"
      ],
      "text/plain": [
       "      name platform  year_of_release genre  na_sales  eu_sales  jp_sales  \\\n",
       "659    NaN      GEN           1993.0   NaN      1.78      0.53      0.00   \n",
       "14244  NaN      GEN           1993.0   NaN      0.00      0.00      0.03   \n",
       "\n",
       "       other_sales  critic_score user_score rating  \n",
       "659           0.08           NaN        NaN    NaN  \n",
       "14244         0.00           NaN        NaN    NaN  "
      ]
     },
     "execution_count": 7,
     "metadata": {},
     "output_type": "execute_result"
    }
   ],
   "source": [
    "df[df['name'].isna()].head()"
   ]
  },
  {
   "cell_type": "code",
   "execution_count": 8,
   "id": "7fa0574d",
   "metadata": {
    "scrolled": false
   },
   "outputs": [
    {
     "data": {
      "text/html": [
       "<div>\n",
       "<style scoped>\n",
       "    .dataframe tbody tr th:only-of-type {\n",
       "        vertical-align: middle;\n",
       "    }\n",
       "\n",
       "    .dataframe tbody tr th {\n",
       "        vertical-align: top;\n",
       "    }\n",
       "\n",
       "    .dataframe thead th {\n",
       "        text-align: right;\n",
       "    }\n",
       "</style>\n",
       "<table border=\"1\" class=\"dataframe\">\n",
       "  <thead>\n",
       "    <tr style=\"text-align: right;\">\n",
       "      <th></th>\n",
       "      <th>name</th>\n",
       "      <th>platform</th>\n",
       "      <th>year_of_release</th>\n",
       "      <th>genre</th>\n",
       "      <th>na_sales</th>\n",
       "      <th>eu_sales</th>\n",
       "      <th>jp_sales</th>\n",
       "      <th>other_sales</th>\n",
       "      <th>critic_score</th>\n",
       "      <th>user_score</th>\n",
       "      <th>rating</th>\n",
       "    </tr>\n",
       "  </thead>\n",
       "  <tbody>\n",
       "    <tr>\n",
       "      <th>659</th>\n",
       "      <td>NaN</td>\n",
       "      <td>GEN</td>\n",
       "      <td>1993.0</td>\n",
       "      <td>NaN</td>\n",
       "      <td>1.78</td>\n",
       "      <td>0.53</td>\n",
       "      <td>0.00</td>\n",
       "      <td>0.08</td>\n",
       "      <td>NaN</td>\n",
       "      <td>NaN</td>\n",
       "      <td>NaN</td>\n",
       "    </tr>\n",
       "    <tr>\n",
       "      <th>14244</th>\n",
       "      <td>NaN</td>\n",
       "      <td>GEN</td>\n",
       "      <td>1993.0</td>\n",
       "      <td>NaN</td>\n",
       "      <td>0.00</td>\n",
       "      <td>0.00</td>\n",
       "      <td>0.03</td>\n",
       "      <td>0.00</td>\n",
       "      <td>NaN</td>\n",
       "      <td>NaN</td>\n",
       "      <td>NaN</td>\n",
       "    </tr>\n",
       "  </tbody>\n",
       "</table>\n",
       "</div>"
      ],
      "text/plain": [
       "      name platform  year_of_release genre  na_sales  eu_sales  jp_sales  \\\n",
       "659    NaN      GEN           1993.0   NaN      1.78      0.53      0.00   \n",
       "14244  NaN      GEN           1993.0   NaN      0.00      0.00      0.03   \n",
       "\n",
       "       other_sales  critic_score user_score rating  \n",
       "659           0.08           NaN        NaN    NaN  \n",
       "14244         0.00           NaN        NaN    NaN  "
      ]
     },
     "execution_count": 8,
     "metadata": {},
     "output_type": "execute_result"
    }
   ],
   "source": [
    "df[df['genre'].isna()].head()"
   ]
  },
  {
   "cell_type": "code",
   "execution_count": 9,
   "id": "5db405d8",
   "metadata": {
    "scrolled": true
   },
   "outputs": [
    {
     "name": "stdout",
     "output_type": "stream",
     "text": [
      "0\n",
      "0\n"
     ]
    }
   ],
   "source": [
    "df['name'] = df['name'].fillna('unknown')\n",
    "df['genre'] = df['genre'].fillna('unknown')\n",
    "print(df['name'].isna().sum())\n",
    "print(df['genre'].isna().sum())"
   ]
  },
  {
   "cell_type": "markdown",
   "id": "3ceca6bb",
   "metadata": {},
   "source": [
    "В столбце `year_of_release` есть пропуски. Изучив столбец с названиями игр, можно заметить указание года, вместе с названием. Конечно, это не всегда точно, обычно указывают год, следующий за годом выпуска. Но все же недалеко от настоящего года выпуска.\n",
    "Заполним пропуски, где это возможно"
   ]
  },
  {
   "cell_type": "code",
   "execution_count": 10,
   "id": "3c0a3115",
   "metadata": {
    "scrolled": true
   },
   "outputs": [
    {
     "name": "stdout",
     "output_type": "stream",
     "text": [
      "['AKB1/48: Idol to Guam de Koishitara...' 'Action Man-Operation Extreme'\n",
      " 'Advance Wars: Days of Ruin' 'Adventure' 'Agarest Senki: Re-appearance'\n",
      " 'Air-Sea Battle' 'Alex Rider: Stormbreaker' 'All-Star Baseball 2005'\n",
      " 'Alone in the Dark: The New Nightmare' 'Aquaman: Battle for Atlantis'\n",
      " 'Atsumare! Power Pro Kun no DS Koushien' 'B.L.U.E.: Legend of Water'\n",
      " 'Backbreaker' 'Battle vs. Chess' 'Bejeweled 3' 'Beyond the Labyrinth'\n",
      " 'Big Beach Sports 2' 'Bikkuriman Daijiten' 'BioShock 2' 'Breakaway IV'\n",
      " 'Brothers in Arms: Furious 4' 'Build-A-Bear Workshop: Friendship Valley'\n",
      " \"Cabela's Alaskan Adventure\" 'Call of Duty 3' 'Call of Duty: Black Ops'\n",
      " 'Captain America: Super Soldier' 'Charm Girls Club: My Fashion Mall'\n",
      " 'Charm Girls Club: My Fashion Show' 'Chou Soujuu Mecha MG' 'Circus Atari'\n",
      " 'Clockwork Empires' 'College Hoops 2K6' 'Combat'\n",
      " 'Combat Elite: WWII Paratroopers'\n",
      " 'Combat Wings: The Great Battles of WWII'\n",
      " \"Cubix Robots for Everyone: Clash 'n' Bash\" 'Custom Robo'\n",
      " \"Dance! It's Your Stage\" 'DanceDanceRevolution II'\n",
      " 'Danganronpa: Trigger Happy Havoc' 'Dead Island: Riptide' 'Dead Space 3'\n",
      " 'Def Jam: Fight for NY' 'Demon Chaos' 'Dinotopia: The Sunstone Odyssey'\n",
      " 'Disgaea 3: Absence of Detention'\n",
      " \"Disney's Chicken Little: Ace In Action\"\n",
      " \"Disney's Cinderella: Magical Dreams\" 'Donkey Kong Land III'\n",
      " 'Dragon Ball Z: Budokai Tenkaichi 2 (JP sales)' 'Dragster'\n",
      " 'Drake of the 99 Dragons' 'Dream Dancer' 'Dream Trigger 3D' 'Drill Dozer'\n",
      " 'Egg Monster Hero' 'FIFA Soccer 2004' 'Face Racers: Photo Finish'\n",
      " 'Famista 64' 'Ferrari: The Race Experience' 'Final Fantasy XI'\n",
      " 'Fishing Derby' 'Flag Capture' \"Flip's Twisted World\"\n",
      " 'Football Manager 2007' 'Freaky Flyers'\n",
      " \"Frogger's Adventures: Temple of the Frog\"\n",
      " 'Fullmetal Alchemist: Brotherhood' 'GRID' 'Get Fit with Mel B'\n",
      " 'Ghostbusters II' 'GiFTPiA' 'Godzilla: Destroy All Monsters Melee' 'Gun'\n",
      " 'Hakuouki: Shinsengumi Kitan' 'Half-Minute Hero 2' 'Hangman'\n",
      " 'Happy Feet Two' 'Harvest Moon: Save the Homeland'\n",
      " 'Harvest Moon: The Tale of Two Towns' 'Haven: Call of the King'\n",
      " 'Hitman 2: Silent Assassin' 'Home Run' 'Homeworld Remastered Collection'\n",
      " 'Housekeeping' 'Indy 500' 'Inversion' \"James Cameron's Dark Angel\"\n",
      " 'Jet Impulse' 'Jet X20' 'Jewel Link Chronicles: Mountains of Madness'\n",
      " 'Jonah Lomu Rugby Challenge' 'Jurassic Park: The Game' 'Karate'\n",
      " 'LEGO Batman: The Videogame' 'LEGO Harry Potter: Years 5-7'\n",
      " 'LEGO Indiana Jones: The Original Adventures'\n",
      " 'Legacy of Kain: Soul Reaver' 'Legacy of Ys: Books I & II'\n",
      " 'Luminous Arc 2 (JP sales)' \"Luxor: Pharaoh's Challenge\"\n",
      " 'MLB SlugFest 20-03' 'Madden NFL 06' 'Madden NFL 07' 'Madden NFL 11'\n",
      " 'Madden NFL 2002' 'Madden NFL 2004' 'Majesty 2: The Fantasy Kingdom Sim'\n",
      " 'Major League Baseball 2K6' 'Major League Baseball 2K8' 'Mario Tennis'\n",
      " \"Maze Craze: A Game of Cops 'n Robbers\" \"McFarlane's Evil Prophecy\"\n",
      " 'Mega Man Battle Network: Operation Shooting Star'\n",
      " 'Mega Man X Collection' 'Metal Gear Solid 2: Substance'\n",
      " 'Mobile Ops: The One Year War' 'Monster Hunter 2'\n",
      " 'Monster Hunter Frontier Online' 'Mountain Bike Adrenaline'\n",
      " 'Move Fitness' 'My Healthy Cooking Coach' 'NASCAR Thunder 2003'\n",
      " 'NASCAR: Dirt to Daytona' 'NBA Live 2003' 'NBA Starting Five'\n",
      " 'NBA Street Vol. 2' 'NFL GameDay 2003' 'NHL Hitz Pro' 'NHL Slapshot'\n",
      " 'Namco Museum' 'National Geographic Challenge!'\n",
      " 'Nicktoons: Battle for Volcano Island' 'Nintendo Puzzle Collection'\n",
      " 'Otomedius Excellent' 'Our House Party!'\n",
      " 'PDC World Championship Darts 2008' 'PES 2009: Pro Evolution Soccer'\n",
      " 'Pac-Man Fever' 'Payout Poker & Casino' 'Pet Zombies' 'Port Royale 3'\n",
      " 'Prinny: Can I Really Be The Hero? (US sales)' 'Rayman Arena'\n",
      " 'Reader Rabbit 2nd Grade' 'Record of Agarest War Zero' 'Rhythm Heaven'\n",
      " \"Robert Ludlum's The Bourne Conspiracy\" 'Robotech: Battlecry' 'Rock Band'\n",
      " 'Rock Revolution' 'Rocksmith' 'RollerCoaster Tycoon'\n",
      " 'Runaway: A Twist of Fate' 'Sabre Wulf' 'Saint'\n",
      " 'Samurai Shodown Anthology' 'Samurai Spirits: Tenkaichi Kenkakuden'\n",
      " 'Saru! Get You! Million Monkeys' 'Sega Rally 2006'\n",
      " 'Shaun White Snowboarding' \"Shonen Jump's Yu-Gi-Oh! GX Card Almanac\"\n",
      " 'Shorts' 'Shrek the Third' 'Silent Hill: Homecoming' 'Singularity'\n",
      " 'Slot Machine' 'Smashing Drive' 'Sonic the Hedgehog' 'Space Invaders'\n",
      " 'Splatterhouse' 'Star Trek: Conquest' 'Star Trek: Legacy'\n",
      " 'Star Wars Jedi Knight II: Jedi Outcast' 'Steal Princess'\n",
      " 'Street Fighter IV' 'Street Hoops' 'Suikoden III' 'Super Breakout'\n",
      " 'Super Duper Sumos' 'Super Puzzle Fighter II'\n",
      " 'Super Robot Wars OG Saga: Masou Kishin II - Revelation of Evil God'\n",
      " 'Sword of the Samurai' 'Swords' 'TERA' 'Teen Titans'\n",
      " 'Test Drive Unlimited 2'\n",
      " 'The Chronicles of Narnia: The Lion, The Witch and The Wardrobe'\n",
      " 'The Chronicles of Riddick: Escape from Butcher Bay'\n",
      " 'The Daring Game for Girls' 'The Dukes of Hazzard II: Daisy Dukes It Out'\n",
      " 'The Golden Compass' 'The Hidden'\n",
      " 'The History Channel: Great Battles - Medieval'\n",
      " 'The King of Fighters: Maximum Impact - Maniax'\n",
      " 'The Legend of Zelda: The Minish Cap(weekly JP sales)'\n",
      " 'The Lord of the Rings: War in the North' 'Tiger Woods PGA Tour 07'\n",
      " \"Tom Clancy's Rainbow Six: Critical Hour\"\n",
      " 'Tom and Jerry in War of the Whiskers' 'Tomb Raider (2013)'\n",
      " \"Tony Hawk's Downhill Jam\" 'Tornado' 'Tour de France 2011'\n",
      " 'Transworld Surf' 'Trauma Team' 'Tribes: Aerial Assault' 'Triple Play 99'\n",
      " 'Tropico 4' 'Tube Slider' 'Twisted Metal: Small Brawl'\n",
      " 'Umineko no Naku Koro ni San: Shinjitsu to Gensou no Yasoukyoku'\n",
      " 'Unreal Championship 2: The Liandri Conflict'\n",
      " 'Valkyria Chronicles III: Unrecorded Chronicles' 'Vegas Party'\n",
      " 'Virtua Quest' 'WCW Backstage Assault'\n",
      " 'WRC: FIA World Rally Championship' 'WarioWare: Twisted!' 'Wet'\n",
      " 'Wheel of Fortune' 'Wii de Asobu: Metroid Prime' 'Without Warning'\n",
      " 'World of Tanks' 'Writing and Speaking Beautiful Japanese DS' 'Yakuza 4'\n",
      " 'Yoostar on MTV' 'Yu Yu Hakusho: Dark Tournament'\n",
      " \"Yu-Gi-Oh! 5D's Wheelie Breakers (JP sales)\" 'Zero: Tsukihami no Kamen'\n",
      " 'eJay Clubworld' 'wwe Smackdown vs. Raw 2006']\n"
     ]
    }
   ],
   "source": [
    "df_year = df[df['year_of_release'].isna()] # выбрали строки с пропусками\n",
    "print(df_year['name'].sort_values().unique()) # изучили названия игр"
   ]
  },
  {
   "cell_type": "markdown",
   "id": "24870669",
   "metadata": {},
   "source": [
    "- Использовали функцию для замены пропусков"
   ]
  },
  {
   "cell_type": "code",
   "execution_count": 11,
   "id": "3b10f255",
   "metadata": {},
   "outputs": [
    {
     "data": {
      "text/plain": [
       "269"
      ]
     },
     "execution_count": 11,
     "metadata": {},
     "output_type": "execute_result"
    }
   ],
   "source": [
    "df['year_of_release'].isna().sum()"
   ]
  },
  {
   "cell_type": "code",
   "execution_count": 12,
   "id": "ec98d0b1",
   "metadata": {},
   "outputs": [],
   "source": [
    "def year_lost(row):\n",
    "    name = row['name']\n",
    "    year = row['year_of_release']\n",
    "    if pd.isna(year) and not pd.isna(name):\n",
    "        separated = name.split(' ')\n",
    "        for word in separated:\n",
    "            if word.isdigit() and len(word)==4:\n",
    "                return int(word)\n",
    "    return year\n",
    "\n",
    "df['year_of_release']= df.apply(year_lost, axis=1)"
   ]
  },
  {
   "cell_type": "code",
   "execution_count": 13,
   "id": "bf83e161",
   "metadata": {},
   "outputs": [
    {
     "data": {
      "text/plain": [
       "254"
      ]
     },
     "execution_count": 13,
     "metadata": {},
     "output_type": "execute_result"
    }
   ],
   "source": [
    "df['year_of_release'].isna().sum()"
   ]
  },
  {
   "cell_type": "markdown",
   "id": "cbcfe956",
   "metadata": {},
   "source": [
    "Изучим столбец `user_score`. В нем отражена оценка пользователей в числах, а тип записан, как строковый. Также встречается некорректное значение 'tbd'\n",
    "\n",
    "Изменим тип данных на вещественный"
   ]
  },
  {
   "cell_type": "code",
   "execution_count": 14,
   "id": "8b79b607",
   "metadata": {},
   "outputs": [
    {
     "data": {
      "text/plain": [
       "tbd    2424\n",
       "7.8     324\n",
       "8       290\n",
       "8.2     282\n",
       "8.3     254\n",
       "       ... \n",
       "1.1       2\n",
       "1.9       2\n",
       "9.6       2\n",
       "0         1\n",
       "9.7       1\n",
       "Name: user_score, Length: 96, dtype: int64"
      ]
     },
     "execution_count": 14,
     "metadata": {},
     "output_type": "execute_result"
    }
   ],
   "source": [
    "df['user_score'].value_counts()  # изучили характеристику столбца"
   ]
  },
  {
   "cell_type": "code",
   "execution_count": 15,
   "id": "c4cdca70",
   "metadata": {},
   "outputs": [],
   "source": [
    "df['user_score'] = pd.to_numeric(df['user_score'], errors='coerce')"
   ]
  },
  {
   "cell_type": "markdown",
   "id": "dc6523da",
   "metadata": {},
   "source": [
    "Если использовать параметр coerce, некорректные значения принудительно заменяются на NaN,  с NaN можно проводить вычисления."
   ]
  },
  {
   "cell_type": "code",
   "execution_count": 16,
   "id": "362d8571",
   "metadata": {},
   "outputs": [
    {
     "data": {
      "text/plain": [
       "7.8    324\n",
       "8.0    290\n",
       "8.2    282\n",
       "8.3    254\n",
       "8.5    253\n",
       "      ... \n",
       "1.5      2\n",
       "0.3      2\n",
       "1.1      2\n",
       "0.0      1\n",
       "9.7      1\n",
       "Name: user_score, Length: 95, dtype: int64"
      ]
     },
     "execution_count": 16,
     "metadata": {},
     "output_type": "execute_result"
    }
   ],
   "source": [
    "df['user_score'].value_counts()"
   ]
  },
  {
   "cell_type": "markdown",
   "id": "6ae50a7e",
   "metadata": {},
   "source": [
    "Получим информацию о столбце  `rating`"
   ]
  },
  {
   "cell_type": "code",
   "execution_count": 17,
   "id": "e68a14ea",
   "metadata": {},
   "outputs": [
    {
     "data": {
      "text/plain": [
       "E       3990\n",
       "T       2961\n",
       "M       1563\n",
       "E10+    1420\n",
       "EC         8\n",
       "K-A        3\n",
       "RP         3\n",
       "AO         1\n",
       "Name: rating, dtype: int64"
      ]
     },
     "execution_count": 17,
     "metadata": {},
     "output_type": "execute_result"
    }
   ],
   "source": [
    "df['rating'].value_counts()"
   ]
  },
  {
   "cell_type": "markdown",
   "id": "de429b20",
   "metadata": {},
   "source": [
    "Получим описание столбца `critic_score`"
   ]
  },
  {
   "cell_type": "code",
   "execution_count": 18,
   "id": "3af05354",
   "metadata": {},
   "outputs": [
    {
     "data": {
      "text/plain": [
       "count    8137.000000\n",
       "mean       68.967679\n",
       "std        13.938165\n",
       "min        13.000000\n",
       "25%        60.000000\n",
       "50%        71.000000\n",
       "75%        79.000000\n",
       "max        98.000000\n",
       "Name: critic_score, dtype: float64"
      ]
     },
     "execution_count": 18,
     "metadata": {},
     "output_type": "execute_result"
    }
   ],
   "source": [
    "df['critic_score'].describe()"
   ]
  },
  {
   "cell_type": "markdown",
   "id": "a762d0e2",
   "metadata": {},
   "source": [
    "Изучим информацию о столбце `genre`"
   ]
  },
  {
   "cell_type": "code",
   "execution_count": 19,
   "id": "30669226",
   "metadata": {
    "scrolled": false
   },
   "outputs": [
    {
     "data": {
      "text/plain": [
       "Action          3369\n",
       "Sports          2348\n",
       "Misc            1750\n",
       "Role-Playing    1498\n",
       "Shooter         1323\n",
       "Adventure       1303\n",
       "Racing          1249\n",
       "Platform         888\n",
       "Simulation       873\n",
       "Fighting         849\n",
       "Strategy         683\n",
       "Puzzle           580\n",
       "unknown            2\n",
       "Name: genre, dtype: int64"
      ]
     },
     "execution_count": 19,
     "metadata": {},
     "output_type": "execute_result"
    }
   ],
   "source": [
    "df['genre'].value_counts()"
   ]
  },
  {
   "cell_type": "markdown",
   "id": "cf87c71e",
   "metadata": {},
   "source": [
    "Получим общую информацию о столбце `platform`"
   ]
  },
  {
   "cell_type": "code",
   "execution_count": 20,
   "id": "3651ff27",
   "metadata": {},
   "outputs": [
    {
     "data": {
      "text/plain": [
       "PS2     2161\n",
       "DS      2151\n",
       "PS3     1331\n",
       "Wii     1320\n",
       "X360    1262\n",
       "PSP     1209\n",
       "PS      1197\n",
       "PC       974\n",
       "XB       824\n",
       "GBA      822\n",
       "GC       556\n",
       "3DS      520\n",
       "PSV      430\n",
       "PS4      392\n",
       "N64      319\n",
       "XOne     247\n",
       "SNES     239\n",
       "SAT      173\n",
       "WiiU     147\n",
       "2600     133\n",
       "NES       98\n",
       "GB        98\n",
       "DC        52\n",
       "GEN       29\n",
       "NG        12\n",
       "SCD        6\n",
       "WS         6\n",
       "3DO        3\n",
       "TG16       2\n",
       "GG         1\n",
       "PCFX       1\n",
       "Name: platform, dtype: int64"
      ]
     },
     "execution_count": 20,
     "metadata": {},
     "output_type": "execute_result"
    }
   ],
   "source": [
    "df['platform'].value_counts()"
   ]
  },
  {
   "cell_type": "markdown",
   "id": "5c13c587",
   "metadata": {},
   "source": [
    "Сделаем проверку таблицы на дубликаты"
   ]
  },
  {
   "cell_type": "code",
   "execution_count": 21,
   "id": "033cf605",
   "metadata": {},
   "outputs": [
    {
     "data": {
      "text/plain": [
       "0"
      ]
     },
     "execution_count": 21,
     "metadata": {},
     "output_type": "execute_result"
    }
   ],
   "source": [
    "df.duplicated().sum()"
   ]
  },
  {
   "cell_type": "markdown",
   "id": "e1d191b6",
   "metadata": {},
   "source": [
    "Посчитаем пропуски\n",
    "\n",
    "\n",
    "Пропуски в столбцах с оценками пользователей и экспертов в основном это одни и те же строки. То есть, если нет оценки пользователей, нет и оценки экспертов, и пропущено значение в столбце рейтинг от организации  ESRB"
   ]
  },
  {
   "cell_type": "code",
   "execution_count": 22,
   "id": "fd09ef61",
   "metadata": {
    "scrolled": false
   },
   "outputs": [
    {
     "data": {
      "text/plain": [
       "name                  0\n",
       "platform              0\n",
       "year_of_release     254\n",
       "genre                 0\n",
       "na_sales              0\n",
       "eu_sales              0\n",
       "jp_sales              0\n",
       "other_sales           0\n",
       "critic_score       8578\n",
       "user_score         9125\n",
       "rating             6766\n",
       "dtype: int64"
      ]
     },
     "execution_count": 22,
     "metadata": {},
     "output_type": "execute_result"
    }
   ],
   "source": [
    "df.isna().sum()"
   ]
  },
  {
   "cell_type": "markdown",
   "id": "f9293fa2",
   "metadata": {},
   "source": [
    "Исследуем соотношение пропусков в оценках с жанром и платформой игр"
   ]
  },
  {
   "cell_type": "code",
   "execution_count": 23,
   "id": "0b01877d",
   "metadata": {},
   "outputs": [
    {
     "data": {
      "text/html": [
       "<div>\n",
       "<style scoped>\n",
       "    .dataframe tbody tr th:only-of-type {\n",
       "        vertical-align: middle;\n",
       "    }\n",
       "\n",
       "    .dataframe tbody tr th {\n",
       "        vertical-align: top;\n",
       "    }\n",
       "\n",
       "    .dataframe thead th {\n",
       "        text-align: right;\n",
       "    }\n",
       "</style>\n",
       "<table border=\"1\" class=\"dataframe\">\n",
       "  <thead>\n",
       "    <tr style=\"text-align: right;\">\n",
       "      <th></th>\n",
       "      <th>Жанр</th>\n",
       "      <th>Пропусков</th>\n",
       "    </tr>\n",
       "  </thead>\n",
       "  <tbody>\n",
       "    <tr>\n",
       "      <th>8</th>\n",
       "      <td>Action</td>\n",
       "      <td>1326</td>\n",
       "    </tr>\n",
       "    <tr>\n",
       "      <th>5</th>\n",
       "      <td>Misc</td>\n",
       "      <td>1184</td>\n",
       "    </tr>\n",
       "    <tr>\n",
       "      <th>0</th>\n",
       "      <td>Sports</td>\n",
       "      <td>1024</td>\n",
       "    </tr>\n",
       "    <tr>\n",
       "      <th>10</th>\n",
       "      <td>Adventure</td>\n",
       "      <td>945</td>\n",
       "    </tr>\n",
       "    <tr>\n",
       "      <th>3</th>\n",
       "      <td>Role-Playing</td>\n",
       "      <td>739</td>\n",
       "    </tr>\n",
       "    <tr>\n",
       "      <th>7</th>\n",
       "      <td>Simulation</td>\n",
       "      <td>483</td>\n",
       "    </tr>\n",
       "    <tr>\n",
       "      <th>2</th>\n",
       "      <td>Racing</td>\n",
       "      <td>464</td>\n",
       "    </tr>\n",
       "    <tr>\n",
       "      <th>9</th>\n",
       "      <td>Fighting</td>\n",
       "      <td>424</td>\n",
       "    </tr>\n",
       "    <tr>\n",
       "      <th>1</th>\n",
       "      <td>Platform</td>\n",
       "      <td>370</td>\n",
       "    </tr>\n",
       "    <tr>\n",
       "      <th>11</th>\n",
       "      <td>Strategy</td>\n",
       "      <td>354</td>\n",
       "    </tr>\n",
       "    <tr>\n",
       "      <th>4</th>\n",
       "      <td>Puzzle</td>\n",
       "      <td>349</td>\n",
       "    </tr>\n",
       "    <tr>\n",
       "      <th>6</th>\n",
       "      <td>Shooter</td>\n",
       "      <td>341</td>\n",
       "    </tr>\n",
       "    <tr>\n",
       "      <th>12</th>\n",
       "      <td>unknown</td>\n",
       "      <td>2</td>\n",
       "    </tr>\n",
       "  </tbody>\n",
       "</table>\n",
       "</div>"
      ],
      "text/plain": [
       "            Жанр  Пропусков\n",
       "8         Action       1326\n",
       "5           Misc       1184\n",
       "0         Sports       1024\n",
       "10     Adventure        945\n",
       "3   Role-Playing        739\n",
       "7     Simulation        483\n",
       "2         Racing        464\n",
       "9       Fighting        424\n",
       "1       Platform        370\n",
       "11      Strategy        354\n",
       "4         Puzzle        349\n",
       "6        Shooter        341\n",
       "12       unknown          2"
      ]
     },
     "execution_count": 23,
     "metadata": {},
     "output_type": "execute_result"
    }
   ],
   "source": [
    "table = []\n",
    "for genre in df.genre.unique():\n",
    "    val = df.loc[df['critic_score'].isna() & df['user_score'].isna() & (df['genre'] == genre)].shape[0]\n",
    "    table.append([genre, val])\n",
    "table = pd.DataFrame(table, columns=['Жанр', 'Пропусков']).sort_values(by='Пропусков', ascending=False)\n",
    "table"
   ]
  },
  {
   "cell_type": "code",
   "execution_count": 24,
   "id": "496368a9",
   "metadata": {},
   "outputs": [
    {
     "data": {
      "text/html": [
       "<div>\n",
       "<style scoped>\n",
       "    .dataframe tbody tr th:only-of-type {\n",
       "        vertical-align: middle;\n",
       "    }\n",
       "\n",
       "    .dataframe tbody tr th {\n",
       "        vertical-align: top;\n",
       "    }\n",
       "\n",
       "    .dataframe thead th {\n",
       "        text-align: right;\n",
       "    }\n",
       "</style>\n",
       "<table border=\"1\" class=\"dataframe\">\n",
       "  <thead>\n",
       "    <tr style=\"text-align: right;\">\n",
       "      <th></th>\n",
       "      <th>Платформа</th>\n",
       "      <th>Пропусков</th>\n",
       "    </tr>\n",
       "  </thead>\n",
       "  <tbody>\n",
       "    <tr>\n",
       "      <th>3</th>\n",
       "      <td>DS</td>\n",
       "      <td>1387</td>\n",
       "    </tr>\n",
       "    <tr>\n",
       "      <th>12</th>\n",
       "      <td>PS</td>\n",
       "      <td>991</td>\n",
       "    </tr>\n",
       "    <tr>\n",
       "      <th>6</th>\n",
       "      <td>PS2</td>\n",
       "      <td>783</td>\n",
       "    </tr>\n",
       "    <tr>\n",
       "      <th>16</th>\n",
       "      <td>PSP</td>\n",
       "      <td>719</td>\n",
       "    </tr>\n",
       "    <tr>\n",
       "      <th>0</th>\n",
       "      <td>Wii</td>\n",
       "      <td>667</td>\n",
       "    </tr>\n",
       "    <tr>\n",
       "      <th>5</th>\n",
       "      <td>PS3</td>\n",
       "      <td>424</td>\n",
       "    </tr>\n",
       "    <tr>\n",
       "      <th>8</th>\n",
       "      <td>GBA</td>\n",
       "      <td>370</td>\n",
       "    </tr>\n",
       "    <tr>\n",
       "      <th>10</th>\n",
       "      <td>3DS</td>\n",
       "      <td>336</td>\n",
       "    </tr>\n",
       "    <tr>\n",
       "      <th>11</th>\n",
       "      <td>N64</td>\n",
       "      <td>319</td>\n",
       "    </tr>\n",
       "    <tr>\n",
       "      <th>22</th>\n",
       "      <td>PSV</td>\n",
       "      <td>286</td>\n",
       "    </tr>\n",
       "    <tr>\n",
       "      <th>4</th>\n",
       "      <td>X360</td>\n",
       "      <td>261</td>\n",
       "    </tr>\n",
       "    <tr>\n",
       "      <th>7</th>\n",
       "      <td>SNES</td>\n",
       "      <td>239</td>\n",
       "    </tr>\n",
       "    <tr>\n",
       "      <th>14</th>\n",
       "      <td>PC</td>\n",
       "      <td>192</td>\n",
       "    </tr>\n",
       "    <tr>\n",
       "      <th>23</th>\n",
       "      <td>SAT</td>\n",
       "      <td>173</td>\n",
       "    </tr>\n",
       "    <tr>\n",
       "      <th>15</th>\n",
       "      <td>2600</td>\n",
       "      <td>133</td>\n",
       "    </tr>\n",
       "    <tr>\n",
       "      <th>9</th>\n",
       "      <td>PS4</td>\n",
       "      <td>132</td>\n",
       "    </tr>\n",
       "    <tr>\n",
       "      <th>1</th>\n",
       "      <td>NES</td>\n",
       "      <td>98</td>\n",
       "    </tr>\n",
       "    <tr>\n",
       "      <th>19</th>\n",
       "      <td>GC</td>\n",
       "      <td>98</td>\n",
       "    </tr>\n",
       "    <tr>\n",
       "      <th>2</th>\n",
       "      <td>GB</td>\n",
       "      <td>98</td>\n",
       "    </tr>\n",
       "    <tr>\n",
       "      <th>13</th>\n",
       "      <td>XB</td>\n",
       "      <td>94</td>\n",
       "    </tr>\n",
       "    <tr>\n",
       "      <th>17</th>\n",
       "      <td>XOne</td>\n",
       "      <td>61</td>\n",
       "    </tr>\n",
       "    <tr>\n",
       "      <th>18</th>\n",
       "      <td>WiiU</td>\n",
       "      <td>46</td>\n",
       "    </tr>\n",
       "    <tr>\n",
       "      <th>21</th>\n",
       "      <td>DC</td>\n",
       "      <td>38</td>\n",
       "    </tr>\n",
       "    <tr>\n",
       "      <th>20</th>\n",
       "      <td>GEN</td>\n",
       "      <td>29</td>\n",
       "    </tr>\n",
       "    <tr>\n",
       "      <th>26</th>\n",
       "      <td>NG</td>\n",
       "      <td>12</td>\n",
       "    </tr>\n",
       "    <tr>\n",
       "      <th>24</th>\n",
       "      <td>SCD</td>\n",
       "      <td>6</td>\n",
       "    </tr>\n",
       "    <tr>\n",
       "      <th>25</th>\n",
       "      <td>WS</td>\n",
       "      <td>6</td>\n",
       "    </tr>\n",
       "    <tr>\n",
       "      <th>28</th>\n",
       "      <td>3DO</td>\n",
       "      <td>3</td>\n",
       "    </tr>\n",
       "    <tr>\n",
       "      <th>27</th>\n",
       "      <td>TG16</td>\n",
       "      <td>2</td>\n",
       "    </tr>\n",
       "    <tr>\n",
       "      <th>29</th>\n",
       "      <td>GG</td>\n",
       "      <td>1</td>\n",
       "    </tr>\n",
       "    <tr>\n",
       "      <th>30</th>\n",
       "      <td>PCFX</td>\n",
       "      <td>1</td>\n",
       "    </tr>\n",
       "  </tbody>\n",
       "</table>\n",
       "</div>"
      ],
      "text/plain": [
       "   Платформа  Пропусков\n",
       "3         DS       1387\n",
       "12        PS        991\n",
       "6        PS2        783\n",
       "16       PSP        719\n",
       "0        Wii        667\n",
       "5        PS3        424\n",
       "8        GBA        370\n",
       "10       3DS        336\n",
       "11       N64        319\n",
       "22       PSV        286\n",
       "4       X360        261\n",
       "7       SNES        239\n",
       "14        PC        192\n",
       "23       SAT        173\n",
       "15      2600        133\n",
       "9        PS4        132\n",
       "1        NES         98\n",
       "19        GC         98\n",
       "2         GB         98\n",
       "13        XB         94\n",
       "17      XOne         61\n",
       "18      WiiU         46\n",
       "21        DC         38\n",
       "20       GEN         29\n",
       "26        NG         12\n",
       "24       SCD          6\n",
       "25        WS          6\n",
       "28       3DO          3\n",
       "27      TG16          2\n",
       "29        GG          1\n",
       "30      PCFX          1"
      ]
     },
     "execution_count": 24,
     "metadata": {},
     "output_type": "execute_result"
    }
   ],
   "source": [
    "table = []\n",
    "for platform in df.platform.unique():\n",
    "    val = df[df.critic_score.isna() & df.user_score.isna() & (df.platform == platform)].shape[0]\n",
    "    table.append([platform, val])\n",
    "table = pd.DataFrame(table, columns=['Платформа', 'Пропусков']).sort_values(by='Пропусков', ascending=False)\n",
    "table "
   ]
  },
  {
   "cell_type": "markdown",
   "id": "293491f3",
   "metadata": {},
   "source": [
    "Явной взаимосвязи между количеством пропусков по столбцам с оценками и жанром игры не обнаружилось.\n",
    "Заметно только то, что чем популярнее жанр, тем больше пропусков, и наоборот, чем менее популярен, тем меньше\n",
    "\n",
    "Такая же взимосвязь прослеживается и по платформам. Однако для мало популярных платформ оценки критиков и пользователей вообще отсутствуют. Видимо, наличие оценок, рейтингов и продвижение платформы вещи взаимосвязанные.\n"
   ]
  },
  {
   "cell_type": "markdown",
   "id": "abbcb24f",
   "metadata": {},
   "source": [
    "### Вывод"
   ]
  },
  {
   "cell_type": "markdown",
   "id": "b5a03c57",
   "metadata": {},
   "source": [
    " - Пропуски в столбце `year_of_release` частично заполнили.\n",
    " - Заменили два значения в столбцах `name` и `genre`\n",
    " - Изменили тип данных в столбце `user_score`\n",
    " - Пропуски в столбцах с оценками пользователей и критиков, а также рейтингом оставили без изменений. В данном случае сложно  подобрать корректное значение для замены\n",
    "\n",
    " "
   ]
  },
  {
   "cell_type": "markdown",
   "id": "a5443352",
   "metadata": {},
   "source": [
    "## Анализ данных"
   ]
  },
  {
   "cell_type": "markdown",
   "id": "bea9f0f8",
   "metadata": {},
   "source": [
    " - Посчитаем суммарные продажи по всем регионам в отдельный столбец"
   ]
  },
  {
   "cell_type": "code",
   "execution_count": 25,
   "id": "1a0c82cf",
   "metadata": {},
   "outputs": [
    {
     "data": {
      "text/html": [
       "<div>\n",
       "<style scoped>\n",
       "    .dataframe tbody tr th:only-of-type {\n",
       "        vertical-align: middle;\n",
       "    }\n",
       "\n",
       "    .dataframe tbody tr th {\n",
       "        vertical-align: top;\n",
       "    }\n",
       "\n",
       "    .dataframe thead th {\n",
       "        text-align: right;\n",
       "    }\n",
       "</style>\n",
       "<table border=\"1\" class=\"dataframe\">\n",
       "  <thead>\n",
       "    <tr style=\"text-align: right;\">\n",
       "      <th></th>\n",
       "      <th>name</th>\n",
       "      <th>platform</th>\n",
       "      <th>year_of_release</th>\n",
       "      <th>genre</th>\n",
       "      <th>na_sales</th>\n",
       "      <th>eu_sales</th>\n",
       "      <th>jp_sales</th>\n",
       "      <th>other_sales</th>\n",
       "      <th>critic_score</th>\n",
       "      <th>user_score</th>\n",
       "      <th>rating</th>\n",
       "      <th>all_sales</th>\n",
       "    </tr>\n",
       "  </thead>\n",
       "  <tbody>\n",
       "    <tr>\n",
       "      <th>0</th>\n",
       "      <td>Wii Sports</td>\n",
       "      <td>Wii</td>\n",
       "      <td>2006.0</td>\n",
       "      <td>Sports</td>\n",
       "      <td>41.36</td>\n",
       "      <td>28.96</td>\n",
       "      <td>3.77</td>\n",
       "      <td>8.45</td>\n",
       "      <td>76.0</td>\n",
       "      <td>8.0</td>\n",
       "      <td>E</td>\n",
       "      <td>82.54</td>\n",
       "    </tr>\n",
       "    <tr>\n",
       "      <th>1</th>\n",
       "      <td>Super Mario Bros.</td>\n",
       "      <td>NES</td>\n",
       "      <td>1985.0</td>\n",
       "      <td>Platform</td>\n",
       "      <td>29.08</td>\n",
       "      <td>3.58</td>\n",
       "      <td>6.81</td>\n",
       "      <td>0.77</td>\n",
       "      <td>NaN</td>\n",
       "      <td>NaN</td>\n",
       "      <td>NaN</td>\n",
       "      <td>40.24</td>\n",
       "    </tr>\n",
       "    <tr>\n",
       "      <th>2</th>\n",
       "      <td>Mario Kart Wii</td>\n",
       "      <td>Wii</td>\n",
       "      <td>2008.0</td>\n",
       "      <td>Racing</td>\n",
       "      <td>15.68</td>\n",
       "      <td>12.76</td>\n",
       "      <td>3.79</td>\n",
       "      <td>3.29</td>\n",
       "      <td>82.0</td>\n",
       "      <td>8.3</td>\n",
       "      <td>E</td>\n",
       "      <td>35.52</td>\n",
       "    </tr>\n",
       "    <tr>\n",
       "      <th>3</th>\n",
       "      <td>Wii Sports Resort</td>\n",
       "      <td>Wii</td>\n",
       "      <td>2009.0</td>\n",
       "      <td>Sports</td>\n",
       "      <td>15.61</td>\n",
       "      <td>10.93</td>\n",
       "      <td>3.28</td>\n",
       "      <td>2.95</td>\n",
       "      <td>80.0</td>\n",
       "      <td>8.0</td>\n",
       "      <td>E</td>\n",
       "      <td>32.77</td>\n",
       "    </tr>\n",
       "    <tr>\n",
       "      <th>4</th>\n",
       "      <td>Pokemon Red/Pokemon Blue</td>\n",
       "      <td>GB</td>\n",
       "      <td>1996.0</td>\n",
       "      <td>Role-Playing</td>\n",
       "      <td>11.27</td>\n",
       "      <td>8.89</td>\n",
       "      <td>10.22</td>\n",
       "      <td>1.00</td>\n",
       "      <td>NaN</td>\n",
       "      <td>NaN</td>\n",
       "      <td>NaN</td>\n",
       "      <td>31.38</td>\n",
       "    </tr>\n",
       "  </tbody>\n",
       "</table>\n",
       "</div>"
      ],
      "text/plain": [
       "                       name platform  year_of_release         genre  na_sales  \\\n",
       "0                Wii Sports      Wii           2006.0        Sports     41.36   \n",
       "1         Super Mario Bros.      NES           1985.0      Platform     29.08   \n",
       "2            Mario Kart Wii      Wii           2008.0        Racing     15.68   \n",
       "3         Wii Sports Resort      Wii           2009.0        Sports     15.61   \n",
       "4  Pokemon Red/Pokemon Blue       GB           1996.0  Role-Playing     11.27   \n",
       "\n",
       "   eu_sales  jp_sales  other_sales  critic_score  user_score rating  all_sales  \n",
       "0     28.96      3.77         8.45          76.0         8.0      E      82.54  \n",
       "1      3.58      6.81         0.77           NaN         NaN    NaN      40.24  \n",
       "2     12.76      3.79         3.29          82.0         8.3      E      35.52  \n",
       "3     10.93      3.28         2.95          80.0         8.0      E      32.77  \n",
       "4      8.89     10.22         1.00           NaN         NaN    NaN      31.38  "
      ]
     },
     "execution_count": 25,
     "metadata": {},
     "output_type": "execute_result"
    }
   ],
   "source": [
    "df['all_sales'] = df['na_sales'] + df['eu_sales'] + df['jp_sales'] + df['other_sales']\n",
    "df.head()"
   ]
  },
  {
   "cell_type": "markdown",
   "id": "5ddb5701",
   "metadata": {},
   "source": [
    " - Посчитаем сколько игр выпускалось в разные годы, построим график распределения продаж по годам"
   ]
  },
  {
   "cell_type": "code",
   "execution_count": 26,
   "id": "8610bca3",
   "metadata": {
    "scrolled": true
   },
   "outputs": [
    {
     "data": {
      "image/png": "[encoded data removed]",
      "text/plain": [
       "<Figure size 864x360 with 1 Axes>"
      ]
     },
     "metadata": {
      "needs_background": "light"
     },
     "output_type": "display_data"
    }
   ],
   "source": [
    "df_year_games = df.pivot_table(index='year_of_release', values='name', aggfunc='count')\\\n",
    ".sort_values(by='year_of_release').plot(grid=True, figsize=(12, 5))\n",
    "plt.title('Количество выпущенных игр по годам')\n",
    "plt.legend()\n",
    "plt.xlabel('Год продажи')\n",
    "plt.ylabel('Количество')\n",
    "plt.show();"
   ]
  },
  {
   "cell_type": "markdown",
   "id": "89ccfec3",
   "metadata": {},
   "source": [
    "*Вывод*\n",
    "\n",
    "После девяностого года начинается неуклонный рост продаж видеоигр. Так продолжается до 2008 - 2009 годов. Далее вплоть до 2016 года интерес к видеоиграм с каждым годом снижается. Соответственно снижаются продажи"
   ]
  },
  {
   "cell_type": "markdown",
   "id": "38faf151",
   "metadata": {},
   "source": [
    " - Выберем платформы с наибольшими суммарными продажами"
   ]
  },
  {
   "cell_type": "code",
   "execution_count": 27,
   "id": "151d1add",
   "metadata": {
    "scrolled": false
   },
   "outputs": [
    {
     "data": {
      "image/png": "[encoded data removed]",
      "text/plain": [
       "<Figure size 864x360 with 1 Axes>"
      ]
     },
     "metadata": {
      "needs_background": "light"
     },
     "output_type": "display_data"
    }
   ],
   "source": [
    "df_platform = df.pivot_table(index='platform', values='all_sales', aggfunc='sum')\\\n",
    ".sort_values(by='all_sales').plot(kind='bar', figsize=(12, 5))\n",
    "plt.title('Суммарные продажи по платформам')\n",
    "plt.legend()\n",
    "plt.xlabel('Платформа')\n",
    "plt.ylabel('Суммарные продажи')\n",
    "plt.show();"
   ]
  },
  {
   "cell_type": "markdown",
   "id": "7ef5136f",
   "metadata": {},
   "source": [
    " - Выберем платформы с наибольшими суммарными продажами и построим распределение по годам. По графику определим за какой характерный срок появляются новые и исчезают старые платформы"
   ]
  },
  {
   "cell_type": "code",
   "execution_count": 28,
   "id": "617df795",
   "metadata": {},
   "outputs": [],
   "source": [
    "big_platform = [\"PS2\", \"X360\", \"PS3\", \"Wii\", \"DS\", \"PS\", \"GBA\", \"PS4\", \"PSP\", \"PC\", \"3DS\", \"XB\",\"GB\",\\\n",
    "\"NES\", \"N64\", \"SNES\", \"GC\", \"XOne\"]\n",
    "df_big_platform = df.query('platform == @big_platform')"
   ]
  },
  {
   "cell_type": "code",
   "execution_count": 29,
   "id": "68f3ee18",
   "metadata": {
    "scrolled": true
   },
   "outputs": [
    {
     "data": {
      "text/html": [
       "<div>\n",
       "<style scoped>\n",
       "    .dataframe tbody tr th:only-of-type {\n",
       "        vertical-align: middle;\n",
       "    }\n",
       "\n",
       "    .dataframe tbody tr th {\n",
       "        vertical-align: top;\n",
       "    }\n",
       "\n",
       "    .dataframe thead th {\n",
       "        text-align: right;\n",
       "    }\n",
       "</style>\n",
       "<table border=\"1\" class=\"dataframe\">\n",
       "  <thead>\n",
       "    <tr style=\"text-align: right;\">\n",
       "      <th></th>\n",
       "      <th>name</th>\n",
       "      <th>platform</th>\n",
       "      <th>year_of_release</th>\n",
       "      <th>genre</th>\n",
       "      <th>na_sales</th>\n",
       "      <th>eu_sales</th>\n",
       "      <th>jp_sales</th>\n",
       "      <th>other_sales</th>\n",
       "      <th>critic_score</th>\n",
       "      <th>user_score</th>\n",
       "      <th>rating</th>\n",
       "      <th>all_sales</th>\n",
       "    </tr>\n",
       "  </thead>\n",
       "  <tbody>\n",
       "    <tr>\n",
       "      <th>0</th>\n",
       "      <td>Wii Sports</td>\n",
       "      <td>Wii</td>\n",
       "      <td>2006.0</td>\n",
       "      <td>Sports</td>\n",
       "      <td>41.36</td>\n",
       "      <td>28.96</td>\n",
       "      <td>3.77</td>\n",
       "      <td>8.45</td>\n",
       "      <td>76.0</td>\n",
       "      <td>8.0</td>\n",
       "      <td>E</td>\n",
       "      <td>82.54</td>\n",
       "    </tr>\n",
       "    <tr>\n",
       "      <th>1</th>\n",
       "      <td>Super Mario Bros.</td>\n",
       "      <td>NES</td>\n",
       "      <td>1985.0</td>\n",
       "      <td>Platform</td>\n",
       "      <td>29.08</td>\n",
       "      <td>3.58</td>\n",
       "      <td>6.81</td>\n",
       "      <td>0.77</td>\n",
       "      <td>NaN</td>\n",
       "      <td>NaN</td>\n",
       "      <td>NaN</td>\n",
       "      <td>40.24</td>\n",
       "    </tr>\n",
       "    <tr>\n",
       "      <th>2</th>\n",
       "      <td>Mario Kart Wii</td>\n",
       "      <td>Wii</td>\n",
       "      <td>2008.0</td>\n",
       "      <td>Racing</td>\n",
       "      <td>15.68</td>\n",
       "      <td>12.76</td>\n",
       "      <td>3.79</td>\n",
       "      <td>3.29</td>\n",
       "      <td>82.0</td>\n",
       "      <td>8.3</td>\n",
       "      <td>E</td>\n",
       "      <td>35.52</td>\n",
       "    </tr>\n",
       "    <tr>\n",
       "      <th>3</th>\n",
       "      <td>Wii Sports Resort</td>\n",
       "      <td>Wii</td>\n",
       "      <td>2009.0</td>\n",
       "      <td>Sports</td>\n",
       "      <td>15.61</td>\n",
       "      <td>10.93</td>\n",
       "      <td>3.28</td>\n",
       "      <td>2.95</td>\n",
       "      <td>80.0</td>\n",
       "      <td>8.0</td>\n",
       "      <td>E</td>\n",
       "      <td>32.77</td>\n",
       "    </tr>\n",
       "    <tr>\n",
       "      <th>4</th>\n",
       "      <td>Pokemon Red/Pokemon Blue</td>\n",
       "      <td>GB</td>\n",
       "      <td>1996.0</td>\n",
       "      <td>Role-Playing</td>\n",
       "      <td>11.27</td>\n",
       "      <td>8.89</td>\n",
       "      <td>10.22</td>\n",
       "      <td>1.00</td>\n",
       "      <td>NaN</td>\n",
       "      <td>NaN</td>\n",
       "      <td>NaN</td>\n",
       "      <td>31.38</td>\n",
       "    </tr>\n",
       "  </tbody>\n",
       "</table>\n",
       "</div>"
      ],
      "text/plain": [
       "                       name platform  year_of_release         genre  na_sales  \\\n",
       "0                Wii Sports      Wii           2006.0        Sports     41.36   \n",
       "1         Super Mario Bros.      NES           1985.0      Platform     29.08   \n",
       "2            Mario Kart Wii      Wii           2008.0        Racing     15.68   \n",
       "3         Wii Sports Resort      Wii           2009.0        Sports     15.61   \n",
       "4  Pokemon Red/Pokemon Blue       GB           1996.0  Role-Playing     11.27   \n",
       "\n",
       "   eu_sales  jp_sales  other_sales  critic_score  user_score rating  all_sales  \n",
       "0     28.96      3.77         8.45          76.0         8.0      E      82.54  \n",
       "1      3.58      6.81         0.77           NaN         NaN    NaN      40.24  \n",
       "2     12.76      3.79         3.29          82.0         8.3      E      35.52  \n",
       "3     10.93      3.28         2.95          80.0         8.0      E      32.77  \n",
       "4      8.89     10.22         1.00           NaN         NaN    NaN      31.38  "
      ]
     },
     "execution_count": 29,
     "metadata": {},
     "output_type": "execute_result"
    }
   ],
   "source": [
    "df_big_platform.head()"
   ]
  },
  {
   "cell_type": "code",
   "execution_count": 30,
   "id": "5570f368",
   "metadata": {},
   "outputs": [
    {
     "data": {
      "image/png": "[encoded data removed]",
      "text/plain": [
       "<Figure size 1152x576 with 1 Axes>"
      ]
     },
     "metadata": {
      "needs_background": "light"
     },
     "output_type": "display_data"
    }
   ],
   "source": [
    "df_big_platform_pivot = df_big_platform.pivot_table(index='year_of_release', columns='platform', values='all_sales'\\\n",
    "                                                    , aggfunc='sum').plot(kind='area', stacked=False, figsize=(16, 8))\n",
    "plt.title('Суммарные продажи по платформам')\n",
    "plt.legend()\n",
    "plt.xlabel('Платформа')\n",
    "plt.ylabel('Суммарные продажи')\n",
    "plt.show();"
   ]
  },
  {
   "cell_type": "markdown",
   "id": "7cc6ac84",
   "metadata": {},
   "source": [
    " *Вывод*\n",
    " \n",
    " У гигантов продаж, таких как PS2, X360, PS3, Wii, DS, PS - среднее время существования на рынке около 10 лет. Данные платформы появились в период подъема рынка рынка, возможно их технические решения и задали этот подъем.\n",
    "Снижение продаж для большей части платформ Wii, PS3, X360, DS совпадает с общим падение продаж видеоигр. \n",
    "Платформы с меньшим объемом продаж, в два три раза, в отличие от гигантов, существуют примерно 5-7 лет "
   ]
  },
  {
   "cell_type": "markdown",
   "id": "26f0af29",
   "metadata": {},
   "source": [
    " - **Актуальный период** для исследования выбрали с 2014 по 2016. Это период спада продаж на рынке видеоигр.  В этот период платформы гиганты продаж исчезают с прежними названиями. Заходят на рынок с новыми именами, предлагая свежие технические решения.  Они не достигают рекордов прежних продаж, но все же с 2014 на 2015 показывают небольшой рост. "
   ]
  },
  {
   "cell_type": "code",
   "execution_count": 31,
   "id": "591962db",
   "metadata": {},
   "outputs": [],
   "source": [
    "df_new = df.query('year_of_release >= 2014')"
   ]
  },
  {
   "cell_type": "code",
   "execution_count": 32,
   "id": "3c442d20",
   "metadata": {},
   "outputs": [],
   "source": [
    "df_new = df_new.loc[:, 'name':'all_sales']"
   ]
  },
  {
   "cell_type": "code",
   "execution_count": 33,
   "id": "41382d68",
   "metadata": {},
   "outputs": [],
   "source": [
    "df_new_pivot = df_new.pivot_table(index='year_of_release', columns='platform', values='all_sales'\\\n",
    "                                                    , aggfunc='sum')"
   ]
  },
  {
   "cell_type": "code",
   "execution_count": 34,
   "id": "e3184c58",
   "metadata": {},
   "outputs": [],
   "source": [
    "df_new['year_of_release'] = df_new['year_of_release'].astype(int)"
   ]
  },
  {
   "cell_type": "code",
   "execution_count": 35,
   "id": "4a038a91",
   "metadata": {},
   "outputs": [
    {
     "data": {
      "image/png": "[encoded data removed]",
      "text/plain": [
       "<Figure size 1152x576 with 1 Axes>"
      ]
     },
     "metadata": {
      "needs_background": "light"
     },
     "output_type": "display_data"
    }
   ],
   "source": [
    "colors = ['green', 'pink', 'red', 'blue', 'black','yellow', 'orange', 'purple', 'brown', 'gray', 'blue']\n",
    "df_new_pivot.plot(kind='bar', stacked=True, figsize=(16, 8), color= colors)\n",
    "plt.title('Суммарные продажи по платформам для актуального периода')\n",
    "plt.legend()\n",
    "plt.xlabel('Год')\n",
    "plt.ylabel('Суммарные продажи')\n",
    "plt.xticks(rotation=360)\n",
    "plt.show();"
   ]
  },
  {
   "cell_type": "markdown",
   "id": "a8069800",
   "metadata": {},
   "source": [
    "\n",
    " - Изучим платформы, которые появились на рынке в период общего спада и остаются в продажах на 2016 год PS4, XOne, 3DS, PC\n",
    " \n",
    " - Построим график \"ящик с усами\" по продажам в разбивке по платформам"
   ]
  },
  {
   "cell_type": "code",
   "execution_count": 36,
   "id": "9b43a78c",
   "metadata": {
    "scrolled": true
   },
   "outputs": [
    {
     "data": {
      "text/html": [
       "<div>\n",
       "<style scoped>\n",
       "    .dataframe tbody tr th:only-of-type {\n",
       "        vertical-align: middle;\n",
       "    }\n",
       "\n",
       "    .dataframe tbody tr th {\n",
       "        vertical-align: top;\n",
       "    }\n",
       "\n",
       "    .dataframe thead th {\n",
       "        text-align: right;\n",
       "    }\n",
       "</style>\n",
       "<table border=\"1\" class=\"dataframe\">\n",
       "  <thead>\n",
       "    <tr style=\"text-align: right;\">\n",
       "      <th></th>\n",
       "      <th>name</th>\n",
       "      <th>platform</th>\n",
       "      <th>year_of_release</th>\n",
       "      <th>genre</th>\n",
       "      <th>na_sales</th>\n",
       "      <th>eu_sales</th>\n",
       "      <th>jp_sales</th>\n",
       "      <th>other_sales</th>\n",
       "      <th>critic_score</th>\n",
       "      <th>user_score</th>\n",
       "      <th>rating</th>\n",
       "      <th>all_sales</th>\n",
       "    </tr>\n",
       "  </thead>\n",
       "  <tbody>\n",
       "    <tr>\n",
       "      <th>31</th>\n",
       "      <td>Call of Duty: Black Ops 3</td>\n",
       "      <td>PS4</td>\n",
       "      <td>2015.0</td>\n",
       "      <td>Shooter</td>\n",
       "      <td>6.03</td>\n",
       "      <td>5.86</td>\n",
       "      <td>0.36</td>\n",
       "      <td>2.38</td>\n",
       "      <td>NaN</td>\n",
       "      <td>NaN</td>\n",
       "      <td>NaN</td>\n",
       "      <td>14.63</td>\n",
       "    </tr>\n",
       "    <tr>\n",
       "      <th>33</th>\n",
       "      <td>Pokemon X/Pokemon Y</td>\n",
       "      <td>3DS</td>\n",
       "      <td>2013.0</td>\n",
       "      <td>Role-Playing</td>\n",
       "      <td>5.28</td>\n",
       "      <td>4.19</td>\n",
       "      <td>4.35</td>\n",
       "      <td>0.78</td>\n",
       "      <td>NaN</td>\n",
       "      <td>NaN</td>\n",
       "      <td>NaN</td>\n",
       "      <td>14.60</td>\n",
       "    </tr>\n",
       "    <tr>\n",
       "      <th>40</th>\n",
       "      <td>Mario Kart 7</td>\n",
       "      <td>3DS</td>\n",
       "      <td>2011.0</td>\n",
       "      <td>Racing</td>\n",
       "      <td>5.03</td>\n",
       "      <td>4.02</td>\n",
       "      <td>2.69</td>\n",
       "      <td>0.91</td>\n",
       "      <td>85.0</td>\n",
       "      <td>8.2</td>\n",
       "      <td>E</td>\n",
       "      <td>12.65</td>\n",
       "    </tr>\n",
       "    <tr>\n",
       "      <th>42</th>\n",
       "      <td>Grand Theft Auto V</td>\n",
       "      <td>PS4</td>\n",
       "      <td>2014.0</td>\n",
       "      <td>Action</td>\n",
       "      <td>3.96</td>\n",
       "      <td>6.31</td>\n",
       "      <td>0.38</td>\n",
       "      <td>1.97</td>\n",
       "      <td>97.0</td>\n",
       "      <td>8.3</td>\n",
       "      <td>M</td>\n",
       "      <td>12.62</td>\n",
       "    </tr>\n",
       "    <tr>\n",
       "      <th>47</th>\n",
       "      <td>Pokemon Omega Ruby/Pokemon Alpha Sapphire</td>\n",
       "      <td>3DS</td>\n",
       "      <td>2014.0</td>\n",
       "      <td>Role-Playing</td>\n",
       "      <td>4.35</td>\n",
       "      <td>3.49</td>\n",
       "      <td>3.10</td>\n",
       "      <td>0.74</td>\n",
       "      <td>NaN</td>\n",
       "      <td>NaN</td>\n",
       "      <td>NaN</td>\n",
       "      <td>11.68</td>\n",
       "    </tr>\n",
       "  </tbody>\n",
       "</table>\n",
       "</div>"
      ],
      "text/plain": [
       "                                         name platform  year_of_release  \\\n",
       "31                  Call of Duty: Black Ops 3      PS4           2015.0   \n",
       "33                        Pokemon X/Pokemon Y      3DS           2013.0   \n",
       "40                               Mario Kart 7      3DS           2011.0   \n",
       "42                         Grand Theft Auto V      PS4           2014.0   \n",
       "47  Pokemon Omega Ruby/Pokemon Alpha Sapphire      3DS           2014.0   \n",
       "\n",
       "           genre  na_sales  eu_sales  jp_sales  other_sales  critic_score  \\\n",
       "31       Shooter      6.03      5.86      0.36         2.38           NaN   \n",
       "33  Role-Playing      5.28      4.19      4.35         0.78           NaN   \n",
       "40        Racing      5.03      4.02      2.69         0.91          85.0   \n",
       "42        Action      3.96      6.31      0.38         1.97          97.0   \n",
       "47  Role-Playing      4.35      3.49      3.10         0.74           NaN   \n",
       "\n",
       "    user_score rating  all_sales  \n",
       "31         NaN    NaN      14.63  \n",
       "33         NaN    NaN      14.60  \n",
       "40         8.2      E      12.65  \n",
       "42         8.3      M      12.62  \n",
       "47         NaN    NaN      11.68  "
      ]
     },
     "execution_count": 36,
     "metadata": {},
     "output_type": "execute_result"
    }
   ],
   "source": [
    "new_platform = [\"PS4\", \"XOne\", \"3DS\", \"PC\"]  # выберем платформы, которые показывают рост продаж\n",
    "df_new_platform = df.query('platform == @new_platform')\n",
    "df_new_platform.head()"
   ]
  },
  {
   "cell_type": "code",
   "execution_count": 37,
   "id": "14a55cc7",
   "metadata": {
    "scrolled": true
   },
   "outputs": [
    {
     "data": {
      "text/plain": [
       "count    2133.000000\n",
       "mean        0.465063\n",
       "std         1.161237\n",
       "min         0.010000\n",
       "25%         0.030000\n",
       "50%         0.090000\n",
       "75%         0.360000\n",
       "max        14.630000\n",
       "Name: all_sales, dtype: float64"
      ]
     },
     "execution_count": 37,
     "metadata": {},
     "output_type": "execute_result"
    }
   ],
   "source": [
    "df_new_platform['all_sales'].describe()"
   ]
  },
  {
   "cell_type": "code",
   "execution_count": 38,
   "id": "b896023d",
   "metadata": {},
   "outputs": [
    {
     "data": {
      "image/png": "[encoded data removed]",
      "text/plain": [
       "<Figure size 720x720 with 1 Axes>"
      ]
     },
     "metadata": {
      "needs_background": "light"
     },
     "output_type": "display_data"
    }
   ],
   "source": [
    "df_new_platform.boxplot(by='platform', column='all_sales', figsize=(10, 10))\n",
    "plt.ylim(0.01, 15.0)\n",
    "plt.title('Продажи по платформам для актуального периода')\n",
    "plt.xlabel('Платформа')\n",
    "plt.ylabel('Продажи')\n",
    "plt.show()    # boxplot без ограничений"
   ]
  },
  {
   "cell_type": "code",
   "execution_count": 39,
   "id": "c3d59df3",
   "metadata": {},
   "outputs": [
    {
     "data": {
      "image/png": "[encoded data removed]",
      "text/plain": [
       "<Figure size 720x720 with 1 Axes>"
      ]
     },
     "metadata": {
      "needs_background": "light"
     },
     "output_type": "display_data"
    }
   ],
   "source": [
    "df_new_platform.boxplot(by='platform', column='all_sales', figsize=(10, 10))\n",
    "plt.ylim(0.01, 6)\n",
    "plt.title('Продажи по платформам для актуального периода')\n",
    "plt.xlabel('Платформа')\n",
    "plt.ylabel('Продажи')\n",
    "plt.show()   # boxplot с ограничением"
   ]
  },
  {
   "cell_type": "markdown",
   "id": "da895a95",
   "metadata": {},
   "source": [
    "*Вывод*\n",
    "\n",
    "По боксплоту построенному без ограничений можно сказать, что хиты продаж больше характерны для 3DS и PS4, а также РС. Хотя среднее значение по продажам для РС ниже, чем у остальных платформ. Платформа РС остается актуальной уже длительное время, возможно за счет рекламных компаний, стимулирующих скачки продаж.\n",
    "\n",
    "Платформа XOne, меньше, чем остальные демострирует всплески, но дает стабильные продажи выше среднего. Расстояние между 2м и 3м квартилем значительно больше, чем между первым и вторым.\n",
    "\n",
    "Самыми перспективными в плане продаж по боксплоту выглядят платформы PS4 и XOne. Средние продажи у них примерно на одном уровне и выше, чем у двух других платформ.\n",
    "\n"
   ]
  },
  {
   "cell_type": "markdown",
   "id": "11d47b6a",
   "metadata": {},
   "source": [
    " - Исследуем влияние отзывов пользователей и критиков на продажи по платформе PC, как одной из самых долго существующих, платформ. Появилась в 1985 и присутствует на рынке и в 2016\n",
    " - Построим диаграмму рассеяния, посчитаем корреляцию между оценками и продажами"
   ]
  },
  {
   "cell_type": "code",
   "execution_count": 40,
   "id": "ff78bcaf",
   "metadata": {
    "scrolled": true
   },
   "outputs": [
    {
     "data": {
      "text/html": [
       "<div>\n",
       "<style scoped>\n",
       "    .dataframe tbody tr th:only-of-type {\n",
       "        vertical-align: middle;\n",
       "    }\n",
       "\n",
       "    .dataframe tbody tr th {\n",
       "        vertical-align: top;\n",
       "    }\n",
       "\n",
       "    .dataframe thead th {\n",
       "        text-align: right;\n",
       "    }\n",
       "</style>\n",
       "<table border=\"1\" class=\"dataframe\">\n",
       "  <thead>\n",
       "    <tr style=\"text-align: right;\">\n",
       "      <th></th>\n",
       "      <th>name</th>\n",
       "      <th>platform</th>\n",
       "      <th>year_of_release</th>\n",
       "      <th>genre</th>\n",
       "      <th>na_sales</th>\n",
       "      <th>eu_sales</th>\n",
       "      <th>jp_sales</th>\n",
       "      <th>other_sales</th>\n",
       "      <th>critic_score</th>\n",
       "      <th>user_score</th>\n",
       "      <th>rating</th>\n",
       "      <th>all_sales</th>\n",
       "    </tr>\n",
       "  </thead>\n",
       "  <tbody>\n",
       "    <tr>\n",
       "      <th>85</th>\n",
       "      <td>The Sims 3</td>\n",
       "      <td>PC</td>\n",
       "      <td>2009.0</td>\n",
       "      <td>Simulation</td>\n",
       "      <td>0.99</td>\n",
       "      <td>6.42</td>\n",
       "      <td>0.0</td>\n",
       "      <td>0.60</td>\n",
       "      <td>86.0</td>\n",
       "      <td>7.6</td>\n",
       "      <td>T</td>\n",
       "      <td>8.01</td>\n",
       "    </tr>\n",
       "    <tr>\n",
       "      <th>138</th>\n",
       "      <td>World of Warcraft</td>\n",
       "      <td>PC</td>\n",
       "      <td>2004.0</td>\n",
       "      <td>Role-Playing</td>\n",
       "      <td>0.08</td>\n",
       "      <td>6.21</td>\n",
       "      <td>0.0</td>\n",
       "      <td>0.00</td>\n",
       "      <td>93.0</td>\n",
       "      <td>7.3</td>\n",
       "      <td>T</td>\n",
       "      <td>6.29</td>\n",
       "    </tr>\n",
       "    <tr>\n",
       "      <th>192</th>\n",
       "      <td>Diablo III</td>\n",
       "      <td>PC</td>\n",
       "      <td>2012.0</td>\n",
       "      <td>Role-Playing</td>\n",
       "      <td>2.44</td>\n",
       "      <td>2.16</td>\n",
       "      <td>0.0</td>\n",
       "      <td>0.54</td>\n",
       "      <td>88.0</td>\n",
       "      <td>4.0</td>\n",
       "      <td>M</td>\n",
       "      <td>5.14</td>\n",
       "    </tr>\n",
       "    <tr>\n",
       "      <th>195</th>\n",
       "      <td>Microsoft Flight Simulator</td>\n",
       "      <td>PC</td>\n",
       "      <td>1996.0</td>\n",
       "      <td>Simulation</td>\n",
       "      <td>3.22</td>\n",
       "      <td>1.69</td>\n",
       "      <td>0.0</td>\n",
       "      <td>0.20</td>\n",
       "      <td>NaN</td>\n",
       "      <td>NaN</td>\n",
       "      <td>NaN</td>\n",
       "      <td>5.11</td>\n",
       "    </tr>\n",
       "    <tr>\n",
       "      <th>218</th>\n",
       "      <td>StarCraft II: Wings of Liberty</td>\n",
       "      <td>PC</td>\n",
       "      <td>2010.0</td>\n",
       "      <td>Strategy</td>\n",
       "      <td>2.57</td>\n",
       "      <td>1.68</td>\n",
       "      <td>0.0</td>\n",
       "      <td>0.58</td>\n",
       "      <td>93.0</td>\n",
       "      <td>8.2</td>\n",
       "      <td>T</td>\n",
       "      <td>4.83</td>\n",
       "    </tr>\n",
       "  </tbody>\n",
       "</table>\n",
       "</div>"
      ],
      "text/plain": [
       "                               name platform  year_of_release         genre  \\\n",
       "85                       The Sims 3       PC           2009.0    Simulation   \n",
       "138               World of Warcraft       PC           2004.0  Role-Playing   \n",
       "192                      Diablo III       PC           2012.0  Role-Playing   \n",
       "195      Microsoft Flight Simulator       PC           1996.0    Simulation   \n",
       "218  StarCraft II: Wings of Liberty       PC           2010.0      Strategy   \n",
       "\n",
       "     na_sales  eu_sales  jp_sales  other_sales  critic_score  user_score  \\\n",
       "85       0.99      6.42       0.0         0.60          86.0         7.6   \n",
       "138      0.08      6.21       0.0         0.00          93.0         7.3   \n",
       "192      2.44      2.16       0.0         0.54          88.0         4.0   \n",
       "195      3.22      1.69       0.0         0.20           NaN         NaN   \n",
       "218      2.57      1.68       0.0         0.58          93.0         8.2   \n",
       "\n",
       "    rating  all_sales  \n",
       "85       T       8.01  \n",
       "138      T       6.29  \n",
       "192      M       5.14  \n",
       "195    NaN       5.11  \n",
       "218      T       4.83  "
      ]
     },
     "execution_count": 40,
     "metadata": {},
     "output_type": "execute_result"
    }
   ],
   "source": [
    "df_pc = df.query('platform == \"PC\"')\n",
    "df_pc.head()"
   ]
  },
  {
   "cell_type": "code",
   "execution_count": 41,
   "id": "0ac539fc",
   "metadata": {},
   "outputs": [
    {
     "data": {
      "image/png": "[encoded data removed]",
      "text/plain": [
       "<Figure size 432x288 with 1 Axes>"
      ]
     },
     "metadata": {
      "needs_background": "light"
     },
     "output_type": "display_data"
    }
   ],
   "source": [
    "df_pc.plot(x='critic_score', y='all_sales', kind='scatter', title='Влияние оценок критиков на продажи для платформы РС');"
   ]
  },
  {
   "cell_type": "code",
   "execution_count": 42,
   "id": "1cc8492c",
   "metadata": {},
   "outputs": [
    {
     "data": {
      "image/png": "[encoded data removed]",
      "text/plain": [
       "<Figure size 432x288 with 1 Axes>"
      ]
     },
     "metadata": {
      "needs_background": "light"
     },
     "output_type": "display_data"
    }
   ],
   "source": [
    "df_pc.plot(x='user_score', y='all_sales', kind='scatter', title='Влияние оценок пользователей на продажи для платформы РС');"
   ]
  },
  {
   "cell_type": "code",
   "execution_count": 43,
   "id": "612c8e7a",
   "metadata": {
    "scrolled": true
   },
   "outputs": [
    {
     "name": "stdout",
     "output_type": "stream",
     "text": [
      "0.256886737894821\n",
      "0.010475684621486438\n"
     ]
    }
   ],
   "source": [
    "print(df_pc['all_sales'].corr(df_pc['critic_score']))\n",
    "print(df_pc['all_sales'].corr(df_pc['user_score']))"
   ]
  },
  {
   "cell_type": "markdown",
   "id": "4e074b6f",
   "metadata": {},
   "source": [
    "*Вывод*\n",
    "\n",
    "Диаграммы рассеяния и коэффициент корреляции указывает на слабую взаимосвязь между оценками критиков и пользователей и количеством продаж. Влияние оценки критиков, более выражено, чем оценки пользователей.\n",
    "\n",
    "Причинно-следственную связь - оценки пользователей влияют на продажи или продажи на оценки пользователей - мы здесь установить не можем. Коэффициент корреляции проверяет только линейную взаимосвязь. Оценки пользователей и продажи не связаны линейно."
   ]
  },
  {
   "cell_type": "code",
   "execution_count": 44,
   "id": "f7b82891",
   "metadata": {},
   "outputs": [
    {
     "data": {
      "text/plain": [
       "array([[1.        , 0.14730438],\n",
       "       [0.14730438, 1.        ]])"
      ]
     },
     "execution_count": 44,
     "metadata": {},
     "output_type": "execute_result"
    }
   ],
   "source": [
    "# Создадим две случайные выборки из 100 чисел и посчитаю коэффициент корреляции\n",
    "import numpy as np\n",
    "np.random.seed(38)\n",
    "a = np.random.random(100)\n",
    "b = np.random.random(100)\n",
    "np.corrcoef(a, b)"
   ]
  },
  {
   "cell_type": "code",
   "execution_count": 45,
   "id": "5eb92443",
   "metadata": {},
   "outputs": [
    {
     "data": {
      "text/plain": [
       "(array([ 14.,  73., 139., 195., 250., 188.,  84.,  47.,   8.,   2.]),\n",
       " array([-0.25713728, -0.19747387, -0.13781046, -0.07814705, -0.01848364,\n",
       "         0.04117977,  0.10084318,  0.16050659,  0.22017   ,  0.2798334 ,\n",
       "         0.33949681]),\n",
       " <BarContainer object of 10 artists>)"
      ]
     },
     "execution_count": 45,
     "metadata": {},
     "output_type": "execute_result"
    },
    {
     "data": {
      "image/png": "[encoded data removed]",
      "text/plain": [
       "<Figure size 432x288 with 1 Axes>"
      ]
     },
     "metadata": {
      "needs_background": "light"
     },
     "output_type": "display_data"
    }
   ],
   "source": [
    "# Сгенерируем этот эксперимент 1000 раз и построю гистограмму коэффициентов корреляции\n",
    "N = 1000\n",
    "L = 100\n",
    "result = []\n",
    "for i in range(N):\n",
    "    a = np.random.random(L)\n",
    "    b = np.random.random(L)\n",
    "    coef = np.corrcoef(a, b)[0, 1]\n",
    "    result.append(coef)\n",
    "plt.hist(result)"
   ]
  },
  {
   "cell_type": "markdown",
   "id": "c1943c29",
   "metadata": {},
   "source": [
    "Значения коэффициента корреляции от - 0.2 до 0.2 могут быть получены на абсолютно случайных наборах данных размером в 100 "
   ]
  },
  {
   "cell_type": "markdown",
   "id": "d9392535",
   "metadata": {},
   "source": [
    " - Изучим влияние оценки пользователей и критиков на продажи для платформ PS4, XOne, 3DS, PC за актуальны период."
   ]
  },
  {
   "cell_type": "code",
   "execution_count": 46,
   "id": "39eb4e02",
   "metadata": {
    "scrolled": false
   },
   "outputs": [
    {
     "name": "stdout",
     "output_type": "stream",
     "text": [
      "Влияние оценки экспертов PS4: 0.41\n",
      "Влияние оценки пользователей PS4: -0.03\n",
      "\n",
      "Влияние оценки экспертов XOne: 0.42\n",
      "Влияние оценки пользователей XOne: -0.07\n",
      "\n",
      "Влияние оценки экспертов 3DS: 0.35\n",
      "Влияние оценки пользователей 3DS: 0.22\n",
      "\n",
      "Влияние оценки экспертов PC: 0.26\n",
      "Влияние оценки пользователей PC: 0.01\n",
      "\n"
     ]
    },
    {
     "data": {
      "image/png": "[encoded data removed]",
      "text/plain": [
       "<Figure size 432x288 with 1 Axes>"
      ]
     },
     "metadata": {
      "needs_background": "light"
     },
     "output_type": "display_data"
    },
    {
     "data": {
      "image/png": "[encoded data removed]",
      "text/plain": [
       "<Figure size 432x288 with 1 Axes>"
      ]
     },
     "metadata": {
      "needs_background": "light"
     },
     "output_type": "display_data"
    },
    {
     "data": {
      "image/png": "[encoded data removed]",
      "text/plain": [
       "<Figure size 432x288 with 1 Axes>"
      ]
     },
     "metadata": {
      "needs_background": "light"
     },
     "output_type": "display_data"
    },
    {
     "data": {
      "image/png": "[encoded data removed]",
      "text/plain": [
       "<Figure size 432x288 with 1 Axes>"
      ]
     },
     "metadata": {
      "needs_background": "light"
     },
     "output_type": "display_data"
    },
    {
     "data": {
      "image/png": "[encoded data removed]",
      "text/plain": [
       "<Figure size 432x288 with 1 Axes>"
      ]
     },
     "metadata": {
      "needs_background": "light"
     },
     "output_type": "display_data"
    },
    {
     "data": {
      "image/png": "[encoded data removed]",
      "text/plain": [
       "<Figure size 432x288 with 1 Axes>"
      ]
     },
     "metadata": {
      "needs_background": "light"
     },
     "output_type": "display_data"
    },
    {
     "data": {
      "image/png": "[encoded data removed]",
      "text/plain": [
       "<Figure size 432x288 with 1 Axes>"
      ]
     },
     "metadata": {
      "needs_background": "light"
     },
     "output_type": "display_data"
    },
    {
     "data": {
      "image/png": "[encoded data removed]",
      "text/plain": [
       "<Figure size 432x288 with 1 Axes>"
      ]
     },
     "metadata": {
      "needs_background": "light"
     },
     "output_type": "display_data"
    }
   ],
   "source": [
    "new_platform = [\"PS4\", \"XOne\", \"3DS\", \"PC\"]\n",
    "for i in new_platform:\n",
    "    df_new_platform_cor = df.query('platform == @i')\n",
    "    df_new_platform_cor_cr = df_new_platform_cor['all_sales'].corr(df_new_platform_cor['critic_score'])\n",
    "    df_new_platform_cor_us = df_new_platform_cor['all_sales'].corr(df_new_platform_cor['user_score'])\n",
    "    print(f'Влияние оценки экспертов {i}: {df_new_platform_cor_cr:.2f}')\n",
    "    df_new_platform_cor.plot(x='critic_score', y='all_sales', kind='scatter', title=i)\n",
    "    print(f'Влияние оценки пользователей {i}: {df_new_platform_cor_us:.2f}')\n",
    "    print()\n",
    "    df_new_platform_cor.plot(x='user_score', y='all_sales', kind='scatter', title=i)\n",
    "    \n",
    "    "
   ]
  },
  {
   "cell_type": "markdown",
   "id": "9fc2cfbd",
   "metadata": {},
   "source": [
    "*Вывод*\n",
    "\n",
    "Для платформ актуального периода влияние оценки критиков на продажи менее среднего. Коэффициент корреляции от 0,26 до 0,42, слабый. Но все же он более значим для продаж, чем оценка пользователей.\n",
    "\n",
    "Влияние оценок пользователей минимально. Можно также предположить отсутствие линейной зависимости между оценками пользователей и продажами."
   ]
  },
  {
   "cell_type": "markdown",
   "id": "df585eff",
   "metadata": {},
   "source": [
    " - Изучим распределение игр по жанрам. Влияет ли жанр игры на величину продаж. Для изучения возьмем данные за актуальный период. Построим boxplot и круговую диаграмму.\n",
    " "
   ]
  },
  {
   "cell_type": "code",
   "execution_count": 47,
   "id": "24cef420",
   "metadata": {},
   "outputs": [
    {
     "data": {
      "text/plain": [
       "Action          3369\n",
       "Sports          2348\n",
       "Misc            1750\n",
       "Role-Playing    1498\n",
       "Shooter         1323\n",
       "Adventure       1303\n",
       "Racing          1249\n",
       "Platform         888\n",
       "Simulation       873\n",
       "Fighting         849\n",
       "Strategy         683\n",
       "Puzzle           580\n",
       "unknown            2\n",
       "Name: genre, dtype: int64"
      ]
     },
     "execution_count": 47,
     "metadata": {},
     "output_type": "execute_result"
    }
   ],
   "source": [
    "df['genre'].value_counts()"
   ]
  },
  {
   "cell_type": "code",
   "execution_count": 48,
   "id": "04aff1b3",
   "metadata": {},
   "outputs": [
    {
     "data": {
      "image/png": "[encoded data removed]",
      "text/plain": [
       "<Figure size 1152x720 with 1 Axes>"
      ]
     },
     "metadata": {
      "needs_background": "light"
     },
     "output_type": "display_data"
    }
   ],
   "source": [
    "df_new.boxplot(by='genre', column='all_sales', figsize=(16,10))\n",
    "plt.ylim(0.01, 15.0)\n",
    "plt.title('Продажи по жанрам для актуального периода')\n",
    "plt.xlabel('Жанр')\n",
    "plt.ylabel('Продажи')\n",
    "plt.show()  "
   ]
  },
  {
   "cell_type": "code",
   "execution_count": 49,
   "id": "cd9b1185",
   "metadata": {},
   "outputs": [
    {
     "data": {
      "image/png": "[encoded data removed]",
      "text/plain": [
       "<Figure size 864x720 with 1 Axes>"
      ]
     },
     "metadata": {},
     "output_type": "display_data"
    }
   ],
   "source": [
    "df_new_genre = df_new.pivot_table(index='genre', values='all_sales', aggfunc='mean')\n",
    "df_new_genre.plot(y='all_sales', kind='pie', figsize=(12, 10))\n",
    "plt.title('Продажи игр по жанрам для актуального периода')\n",
    "plt.legend('')\n",
    "plt.ylabel(' ')\n",
    "plt.show()"
   ]
  },
  {
   "cell_type": "markdown",
   "id": "6f5669d3",
   "metadata": {},
   "source": [
    "*Вывод*\n",
    "\n",
    "За исследуемый период самыми популярными, и соответственно, самыми продаваемыми жанрами были \n",
    " - Shooter\n",
    " - Sports\n",
    " - Platform\n",
    " - Role-Playing\n",
    " - Fighting\n",
    "\n",
    "Популярны жанры, создающие имитацию активности. В виртуальном мире игрок быстро бегает, высоко прыгает, у него серьезное вооружение. \n",
    "Эти жанры требуют хороший глазомер и моторику. Первые два места поделили спортивные игры и игры стрелялки.\n",
    "\n",
    "На третьем месте по продажам простые и незамысловатые игры платформеры, где можно управлять мультяшными героями. Жанр не боится экспериментов, становясь привлекательным для разных аудиторий, решая в мультимире непростые жизненные ситуации.\n",
    "\n",
    "Последние два места практически поровну делят ролевые игры и файтинги. Легкость этих жанров, понятный геймплей и яркиие персонажи обеспечивают им бесконечную популярность.\n",
    "\n",
    "\n",
    "Меньше всего было продано игр в жанрах, требующих решения логических задач, преодоления препятствий.\n",
    "\n",
    "    - Puzzle\n",
    "    - Strategy\n",
    "    - Adventure\n",
    "    \n",
    "    "
   ]
  },
  {
   "cell_type": "markdown",
   "id": "d419a673",
   "metadata": {},
   "source": [
    "### Игровой портрет пользователя каждого региона"
   ]
  },
  {
   "cell_type": "markdown",
   "id": "ea9bbf48",
   "metadata": {},
   "source": [
    "\n",
    "\n",
    "  - Определим в актуальном периоде для пользователя каждого региона (NA, EU, JP)\n",
    "   \n",
    "    - Самые популярные платформы (топ-5)\n",
    "    - Самые популярные жанры (топ-5)\n",
    "    - Влияние рейтинга ESRB на продажи в отдельном регионе\n",
    "  "
   ]
  },
  {
   "cell_type": "code",
   "execution_count": 50,
   "id": "013b93c1",
   "metadata": {},
   "outputs": [
    {
     "data": {
      "text/html": [
       "<div>\n",
       "<style scoped>\n",
       "    .dataframe tbody tr th:only-of-type {\n",
       "        vertical-align: middle;\n",
       "    }\n",
       "\n",
       "    .dataframe tbody tr th {\n",
       "        vertical-align: top;\n",
       "    }\n",
       "\n",
       "    .dataframe thead th {\n",
       "        text-align: right;\n",
       "    }\n",
       "</style>\n",
       "<table border=\"1\" class=\"dataframe\">\n",
       "  <thead>\n",
       "    <tr style=\"text-align: right;\">\n",
       "      <th></th>\n",
       "      <th>eu_sales</th>\n",
       "      <th>jp_sales</th>\n",
       "      <th>na_sales</th>\n",
       "    </tr>\n",
       "    <tr>\n",
       "      <th>platform</th>\n",
       "      <th></th>\n",
       "      <th></th>\n",
       "      <th></th>\n",
       "    </tr>\n",
       "  </thead>\n",
       "  <tbody>\n",
       "    <tr>\n",
       "      <th>3DS</th>\n",
       "      <td>16.12</td>\n",
       "      <td>44.24</td>\n",
       "      <td>22.64</td>\n",
       "    </tr>\n",
       "    <tr>\n",
       "      <th>PC</th>\n",
       "      <td>17.97</td>\n",
       "      <td>0.00</td>\n",
       "      <td>7.23</td>\n",
       "    </tr>\n",
       "    <tr>\n",
       "      <th>PS3</th>\n",
       "      <td>25.54</td>\n",
       "      <td>11.22</td>\n",
       "      <td>22.05</td>\n",
       "    </tr>\n",
       "    <tr>\n",
       "      <th>PS4</th>\n",
       "      <td>130.04</td>\n",
       "      <td>15.02</td>\n",
       "      <td>98.61</td>\n",
       "    </tr>\n",
       "    <tr>\n",
       "      <th>PSP</th>\n",
       "      <td>0.00</td>\n",
       "      <td>0.36</td>\n",
       "      <td>0.00</td>\n",
       "    </tr>\n",
       "    <tr>\n",
       "      <th>PSV</th>\n",
       "      <td>3.53</td>\n",
       "      <td>14.54</td>\n",
       "      <td>2.52</td>\n",
       "    </tr>\n",
       "    <tr>\n",
       "      <th>Wii</th>\n",
       "      <td>2.59</td>\n",
       "      <td>0.00</td>\n",
       "      <td>2.08</td>\n",
       "    </tr>\n",
       "    <tr>\n",
       "      <th>WiiU</th>\n",
       "      <td>13.15</td>\n",
       "      <td>7.31</td>\n",
       "      <td>19.36</td>\n",
       "    </tr>\n",
       "    <tr>\n",
       "      <th>X360</th>\n",
       "      <td>15.49</td>\n",
       "      <td>0.08</td>\n",
       "      <td>28.30</td>\n",
       "    </tr>\n",
       "    <tr>\n",
       "      <th>XOne</th>\n",
       "      <td>46.25</td>\n",
       "      <td>0.32</td>\n",
       "      <td>81.27</td>\n",
       "    </tr>\n",
       "  </tbody>\n",
       "</table>\n",
       "</div>"
      ],
      "text/plain": [
       "          eu_sales  jp_sales  na_sales\n",
       "platform                              \n",
       "3DS          16.12     44.24     22.64\n",
       "PC           17.97      0.00      7.23\n",
       "PS3          25.54     11.22     22.05\n",
       "PS4         130.04     15.02     98.61\n",
       "PSP           0.00      0.36      0.00\n",
       "PSV           3.53     14.54      2.52\n",
       "Wii           2.59      0.00      2.08\n",
       "WiiU         13.15      7.31     19.36\n",
       "X360         15.49      0.08     28.30\n",
       "XOne         46.25      0.32     81.27"
      ]
     },
     "execution_count": 50,
     "metadata": {},
     "output_type": "execute_result"
    }
   ],
   "source": [
    "df_new_country_plat = df_new.pivot_table(index='platform', values=['na_sales', 'eu_sales', 'jp_sales'], aggfunc='sum')\n",
    "df_new_country_plat # посчитаем продажи по платформам для каждого региона"
   ]
  },
  {
   "cell_type": "code",
   "execution_count": 51,
   "id": "78d4a7ee",
   "metadata": {},
   "outputs": [
    {
     "data": {
      "image/png": "[encoded data removed]",
      "text/plain": [
       "<Figure size 1152x576 with 1 Axes>"
      ]
     },
     "metadata": {
      "needs_background": "light"
     },
     "output_type": "display_data"
    }
   ],
   "source": [
    "colores = ['green', 'pink', 'red', 'blue', 'black','yellow', 'orange', 'purple', 'brown', 'gray', 'blue', 'orange']\n",
    "df_new_country_plat.T.plot(kind='bar', stacked=True, figsize=(16, 8), color= colores)\n",
    "plt.title('Продажи по регионам в разрезе платформ')\n",
    "plt.legend()\n",
    "plt.xlabel('Регион')\n",
    "plt.ylabel('Продажи')\n",
    "plt.xticks(rotation=360)\n",
    "plt.show();"
   ]
  },
  {
   "cell_type": "markdown",
   "id": "5b460e9b",
   "metadata": {},
   "source": [
    "*Вывод*\n",
    "\n",
    "Топ-5 платформ для Европы  и Северной америки, примерно одинаковый. Для Америки это PS4, XOne, X360, PS3, 3DS  \n",
    "\n",
    "Для Европы PS4, XOne, PS3, PC, 3DS\n",
    "\n",
    "И этот топ-5 существенно отличается от топ-5 для Японии 3DS, PSV, PS4, PS3, Wi. \n",
    "\n",
    "Видимо,  Япония предпочитает использовать собственного производства технические решения для игр. "
   ]
  },
  {
   "cell_type": "code",
   "execution_count": 52,
   "id": "e2d12f76",
   "metadata": {},
   "outputs": [
    {
     "data": {
      "text/html": [
       "<div>\n",
       "<style scoped>\n",
       "    .dataframe tbody tr th:only-of-type {\n",
       "        vertical-align: middle;\n",
       "    }\n",
       "\n",
       "    .dataframe tbody tr th {\n",
       "        vertical-align: top;\n",
       "    }\n",
       "\n",
       "    .dataframe thead th {\n",
       "        text-align: right;\n",
       "    }\n",
       "</style>\n",
       "<table border=\"1\" class=\"dataframe\">\n",
       "  <thead>\n",
       "    <tr style=\"text-align: right;\">\n",
       "      <th></th>\n",
       "      <th>eu_sales</th>\n",
       "      <th>jp_sales</th>\n",
       "      <th>na_sales</th>\n",
       "    </tr>\n",
       "    <tr>\n",
       "      <th>genre</th>\n",
       "      <th></th>\n",
       "      <th></th>\n",
       "      <th></th>\n",
       "    </tr>\n",
       "  </thead>\n",
       "  <tbody>\n",
       "    <tr>\n",
       "      <th>Action</th>\n",
       "      <td>74.68</td>\n",
       "      <td>29.58</td>\n",
       "      <td>72.53</td>\n",
       "    </tr>\n",
       "    <tr>\n",
       "      <th>Adventure</th>\n",
       "      <td>6.49</td>\n",
       "      <td>3.60</td>\n",
       "      <td>5.64</td>\n",
       "    </tr>\n",
       "    <tr>\n",
       "      <th>Fighting</th>\n",
       "      <td>6.69</td>\n",
       "      <td>6.37</td>\n",
       "      <td>12.43</td>\n",
       "    </tr>\n",
       "    <tr>\n",
       "      <th>Misc</th>\n",
       "      <td>12.86</td>\n",
       "      <td>5.61</td>\n",
       "      <td>15.05</td>\n",
       "    </tr>\n",
       "    <tr>\n",
       "      <th>Platform</th>\n",
       "      <td>6.80</td>\n",
       "      <td>2.69</td>\n",
       "      <td>6.79</td>\n",
       "    </tr>\n",
       "    <tr>\n",
       "      <th>Puzzle</th>\n",
       "      <td>0.52</td>\n",
       "      <td>0.93</td>\n",
       "      <td>0.65</td>\n",
       "    </tr>\n",
       "    <tr>\n",
       "      <th>Racing</th>\n",
       "      <td>14.13</td>\n",
       "      <td>1.76</td>\n",
       "      <td>8.74</td>\n",
       "    </tr>\n",
       "    <tr>\n",
       "      <th>Role-Playing</th>\n",
       "      <td>28.17</td>\n",
       "      <td>31.16</td>\n",
       "      <td>33.47</td>\n",
       "    </tr>\n",
       "    <tr>\n",
       "      <th>Shooter</th>\n",
       "      <td>65.52</td>\n",
       "      <td>4.87</td>\n",
       "      <td>79.02</td>\n",
       "    </tr>\n",
       "    <tr>\n",
       "      <th>Simulation</th>\n",
       "      <td>7.30</td>\n",
       "      <td>2.31</td>\n",
       "      <td>2.63</td>\n",
       "    </tr>\n",
       "    <tr>\n",
       "      <th>Sports</th>\n",
       "      <td>45.73</td>\n",
       "      <td>3.26</td>\n",
       "      <td>46.13</td>\n",
       "    </tr>\n",
       "    <tr>\n",
       "      <th>Strategy</th>\n",
       "      <td>1.79</td>\n",
       "      <td>0.95</td>\n",
       "      <td>0.98</td>\n",
       "    </tr>\n",
       "  </tbody>\n",
       "</table>\n",
       "</div>"
      ],
      "text/plain": [
       "              eu_sales  jp_sales  na_sales\n",
       "genre                                     \n",
       "Action           74.68     29.58     72.53\n",
       "Adventure         6.49      3.60      5.64\n",
       "Fighting          6.69      6.37     12.43\n",
       "Misc             12.86      5.61     15.05\n",
       "Platform          6.80      2.69      6.79\n",
       "Puzzle            0.52      0.93      0.65\n",
       "Racing           14.13      1.76      8.74\n",
       "Role-Playing     28.17     31.16     33.47\n",
       "Shooter          65.52      4.87     79.02\n",
       "Simulation        7.30      2.31      2.63\n",
       "Sports           45.73      3.26     46.13\n",
       "Strategy          1.79      0.95      0.98"
      ]
     },
     "execution_count": 52,
     "metadata": {},
     "output_type": "execute_result"
    }
   ],
   "source": [
    "df_new_country_genre = df_new.pivot_table(index='genre', values=['na_sales', 'eu_sales', 'jp_sales'], aggfunc='sum')\n",
    "df_new_country_genre  # посчитаем продажи по жанрам каждого региона"
   ]
  },
  {
   "cell_type": "code",
   "execution_count": 53,
   "id": "f8fb2fc6",
   "metadata": {},
   "outputs": [
    {
     "data": {
      "image/png": "[encoded data removed]",
      "text/plain": [
       "<Figure size 1152x576 with 1 Axes>"
      ]
     },
     "metadata": {
      "needs_background": "light"
     },
     "output_type": "display_data"
    }
   ],
   "source": [
    "colore = ['blue', 'yellow','green']\n",
    "df_new_country_genre.plot(kind='bar', stacked=True, figsize=(16, 8), color= colore)\n",
    "plt.title('Продажи по жанрам в разрезе регионов')\n",
    "plt.legend()\n",
    "plt.xlabel('Жанр')\n",
    "plt.ylabel('Продажи')\n",
    "plt.xticks(rotation=360)\n",
    "plt.show();"
   ]
  },
  {
   "cell_type": "markdown",
   "id": "01250b3d",
   "metadata": {},
   "source": [
    "*Вывод*\n",
    "\n",
    "Топ-5 для Северной Америки\n",
    " - Shooter\n",
    " - Action\n",
    " - Sports\n",
    " - Role-Playng\n",
    " - Misc\n",
    " \n",
    "Топ-5 для Европы\n",
    " - Action\n",
    " - Shooter\n",
    " - Sports\n",
    " - Racing\n",
    " - Misc\n",
    " \n",
    "Топ-5 для Японии\n",
    " - Role-Playing\n",
    " - Action\n",
    " - Fighting\n",
    " - Misc\n",
    " - Sports\n",
    " \n",
    "В распределениее игровых жанров в топ-5 Северная Америка и Европа совпадают с единственным отличием: 5-е место для американского континента это ролевые игры, для европейского гонки.\n",
    "\n",
    "Топ-5 для Японии занимают жанры Action, Role-Playing и Fighting\n",
    "Но 1 место топ-5 в Японии занимают ролевые игры, предполагающие создание собственного героя, развитие его способностей и  оружейных доспехов. С начала 2000-х годов события в ролевых играх разворачиваются в открытых мирах. Они детально проработаны и создают иллюзию живой вселенной.\n",
    "В японский топ-5 попал жанр Fighting,  возможно, это влияние духа культуры единоборств, присущей Японии."
   ]
  },
  {
   "cell_type": "markdown",
   "id": "d9a9083b",
   "metadata": {},
   "source": [
    " - Поделим таблицу на строки,  где есть рейтинг ESRB и где значение пропущено. Посчитаем продажи, построим график."
   ]
  },
  {
   "cell_type": "code",
   "execution_count": 54,
   "id": "4c0e8ef2",
   "metadata": {
    "scrolled": true
   },
   "outputs": [],
   "source": [
    "df_new_less_esrb = df_new.loc[df_new['rating'].isna()]"
   ]
  },
  {
   "cell_type": "code",
   "execution_count": 55,
   "id": "f4b07a93",
   "metadata": {
    "scrolled": true
   },
   "outputs": [
    {
     "name": "stdout",
     "output_type": "stream",
     "text": [
      "Продажи без рейтинга:  na_sales 65\n",
      "Продажи без рейтинга:  eu_sales 59\n",
      "Продажи без рейтинга:  jp_sales 57\n"
     ]
    }
   ],
   "source": [
    "region = ['na_sales', 'eu_sales', 'jp_sales']\n",
    "for value in region:\n",
    "    print('Продажи без рейтинга: ', value, round(df_new_less_esrb[value].sum()))"
   ]
  },
  {
   "cell_type": "code",
   "execution_count": 56,
   "id": "27afd137",
   "metadata": {},
   "outputs": [],
   "source": [
    "df_new_esrb = df_new.loc[~df_new['rating'].isna()]"
   ]
  },
  {
   "cell_type": "code",
   "execution_count": 57,
   "id": "40e77a74",
   "metadata": {
    "scrolled": true
   },
   "outputs": [
    {
     "name": "stdout",
     "output_type": "stream",
     "text": [
      "Продажи с рейтингом:  na_sales 219\n",
      "Продажи с рейтингом:  eu_sales 212\n",
      "Продажи с рейтингом:  jp_sales 36\n"
     ]
    }
   ],
   "source": [
    "region = ['na_sales', 'eu_sales', 'jp_sales']\n",
    "for value in region:\n",
    "    print('Продажи с рейтингом: ', value, round(df_new_esrb[value].sum()))"
   ]
  },
  {
   "cell_type": "code",
   "execution_count": 58,
   "id": "fc51628a",
   "metadata": {},
   "outputs": [
    {
     "data": {
      "image/png": "[encoded data removed]",
      "text/plain": [
       "<Figure size 432x288 with 1 Axes>"
      ]
     },
     "metadata": {
      "needs_background": "light"
     },
     "output_type": "display_data"
    }
   ],
   "source": [
    "labels = ['NA', 'EU', 'IP']\n",
    "sales_no_esrb = [65, 59, 57]\n",
    "sales_esrb = [219, 212, 36]\n",
    "\n",
    "width = 0.45      \n",
    "\n",
    "fig, ax = plt.subplots()\n",
    "\n",
    "ax.bar(labels, sales_no_esrb, width, label='no ESRB')\n",
    "ax.bar(labels, sales_esrb, width, bottom=sales_no_esrb,\n",
    "       label='ESRB')\n",
    "\n",
    "ax.set_ylabel('Sales')\n",
    "ax.set_xlabel('Regions')\n",
    "ax.set_title('Effect rating ESRB for sales')\n",
    "plt.legend()\n",
    "plt.show();"
   ]
  },
  {
   "cell_type": "markdown",
   "id": "1c18000b",
   "metadata": {},
   "source": [
    "*Вывод*\n",
    "\n",
    "Только для Японии продажи с рейтингом ESRB и без него одинаковые. \n",
    "\n",
    "Рейтинг ESRB появился в Северной Америке в 1994 году. ESRB не имеет юридической силы. Вместо этого он саморегулируется, всем производителям консолей требуется, чтобы игры имели рейтинг ESRB, чтобы отображаться в их системах.\n",
    "В Европе в 2003 году была запущен свой стандарт рейтинга видеоигр PEGI. Он практически повторяет настройку ESRB с небольшими отличиями.\n",
    "В Японии есть CERO (организация, компьютерных рейтингов развлечений), которая присваивает играм рейтинги букв.\n",
    "\n",
    "Игре обязательно должен быть присвоен рейтинг, чтобы было понятно для какого возраста она предназначена. Учитывая, что исследуемый период 2008-2016 гг, продажи без рейтинга, скорее,  укзывают на то, что значение пропущено, а не факт продаж без присвоения рейтинга."
   ]
  },
  {
   "cell_type": "markdown",
   "id": "5b1414b7",
   "metadata": {},
   "source": [
    " - Посчитаем продажи игр с разными рейтингами ESRB по регионам"
   ]
  },
  {
   "cell_type": "code",
   "execution_count": 59,
   "id": "5bedb0ed",
   "metadata": {
    "scrolled": true
   },
   "outputs": [
    {
     "data": {
      "text/html": [
       "<div>\n",
       "<style scoped>\n",
       "    .dataframe tbody tr th:only-of-type {\n",
       "        vertical-align: middle;\n",
       "    }\n",
       "\n",
       "    .dataframe tbody tr th {\n",
       "        vertical-align: top;\n",
       "    }\n",
       "\n",
       "    .dataframe thead th {\n",
       "        text-align: right;\n",
       "    }\n",
       "</style>\n",
       "<table border=\"1\" class=\"dataframe\">\n",
       "  <thead>\n",
       "    <tr style=\"text-align: right;\">\n",
       "      <th></th>\n",
       "      <th>eu_sales</th>\n",
       "      <th>jp_sales</th>\n",
       "      <th>na_sales</th>\n",
       "    </tr>\n",
       "    <tr>\n",
       "      <th>rating</th>\n",
       "      <th></th>\n",
       "      <th></th>\n",
       "      <th></th>\n",
       "    </tr>\n",
       "  </thead>\n",
       "  <tbody>\n",
       "    <tr>\n",
       "      <th>E</th>\n",
       "      <td>58.06</td>\n",
       "      <td>8.94</td>\n",
       "      <td>50.74</td>\n",
       "    </tr>\n",
       "    <tr>\n",
       "      <th>E10+</th>\n",
       "      <td>26.16</td>\n",
       "      <td>4.46</td>\n",
       "      <td>33.23</td>\n",
       "    </tr>\n",
       "    <tr>\n",
       "      <th>M</th>\n",
       "      <td>93.44</td>\n",
       "      <td>8.01</td>\n",
       "      <td>96.42</td>\n",
       "    </tr>\n",
       "    <tr>\n",
       "      <th>T</th>\n",
       "      <td>34.07</td>\n",
       "      <td>14.78</td>\n",
       "      <td>38.95</td>\n",
       "    </tr>\n",
       "  </tbody>\n",
       "</table>\n",
       "</div>"
      ],
      "text/plain": [
       "        eu_sales  jp_sales  na_sales\n",
       "rating                              \n",
       "E          58.06      8.94     50.74\n",
       "E10+       26.16      4.46     33.23\n",
       "M          93.44      8.01     96.42\n",
       "T          34.07     14.78     38.95"
      ]
     },
     "execution_count": 59,
     "metadata": {},
     "output_type": "execute_result"
    }
   ],
   "source": [
    "df_new_esrb_piv = df_new_esrb.pivot_table(index='rating', values=['na_sales', 'eu_sales', 'jp_sales'], aggfunc='sum')\n",
    "df_new_esrb_piv"
   ]
  },
  {
   "cell_type": "code",
   "execution_count": 60,
   "id": "45fd2788",
   "metadata": {},
   "outputs": [
    {
     "data": {
      "image/png": "[encoded data removed]",
      "text/plain": [
       "<Figure size 1152x576 with 1 Axes>"
      ]
     },
     "metadata": {
      "needs_background": "light"
     },
     "output_type": "display_data"
    }
   ],
   "source": [
    "coloresr = ['green', 'pink', 'red', 'blue', 'yellow', 'purple']\n",
    "df_new_esrb_piv.T.plot(kind='bar', stacked=True, figsize=(16, 8), color= coloresr)\n",
    "plt.title('Продажи игр с разным рейтингом в разрезе по регионам')\n",
    "plt.legend()\n",
    "plt.xlabel('Регион')\n",
    "plt.ylabel('Продажи')\n",
    "plt.xticks(rotation=360)\n",
    "plt.show();"
   ]
  },
  {
   "cell_type": "markdown",
   "id": "273418d1",
   "metadata": {},
   "source": [
    "*Вывод*\n",
    "\n",
    "Больше всего видеоигр продается с рейтингом \n",
    "- М  - игры с этим рейтингом предназначены для тех, кто старше 17 лет\n",
    "- Е - это базовый рейтинг, игра предназначена для всех возрастов\n",
    "- Т  - этот рейтинг для игроков 13 лет и старше\n",
    "- Е10+ - этим рейтингом отмечены игры для детей 10 лет и старше\n",
    "\n",
    "Распределение в пропорциях для Европы и Северной Америки, одинаковое. Для Японнии больше продается игр с рейтингом Т для игроков 13 лет и старше. Более молодое поколение подвержено увлечению играми.\n",
    "\n",
    "Европе и Америке это рейтинг М для игроков 17 лет и старше. \n",
    "\n",
    "\n",
    "На графике не отразились:\n",
    "- *Рейтинг RP*, означает, - присвоение рейтинга ожидается. Игра еще не была оценена.\n",
    "- *Рейтинг АО* - только для взрослых. Ни один из крупных производителей консолей на разрешает игры АО на своих системах. Издатели будут вносить изменения в свои игры, чтобы избежать этого рейтинга."
   ]
  },
  {
   "cell_type": "markdown",
   "id": "73e4a984",
   "metadata": {},
   "source": [
    "## Проверка гипотез"
   ]
  },
  {
   "cell_type": "markdown",
   "id": "e6d714cb",
   "metadata": {},
   "source": [
    " - Средние пользовательские рейтинги платформ XOne и PC одинаковые\n",
    " - Средние пользовательские рейтинги жанров Action и Spots разные\n",
    " \n",
    "Для проверки первой гипотезы сделаем срез для нужных платформ"
   ]
  },
  {
   "cell_type": "code",
   "execution_count": 61,
   "id": "09130c62",
   "metadata": {},
   "outputs": [
    {
     "data": {
      "text/html": [
       "<div>\n",
       "<style scoped>\n",
       "    .dataframe tbody tr th:only-of-type {\n",
       "        vertical-align: middle;\n",
       "    }\n",
       "\n",
       "    .dataframe tbody tr th {\n",
       "        vertical-align: top;\n",
       "    }\n",
       "\n",
       "    .dataframe thead th {\n",
       "        text-align: right;\n",
       "    }\n",
       "</style>\n",
       "<table border=\"1\" class=\"dataframe\">\n",
       "  <thead>\n",
       "    <tr style=\"text-align: right;\">\n",
       "      <th></th>\n",
       "      <th>platform</th>\n",
       "      <th>user_score</th>\n",
       "    </tr>\n",
       "  </thead>\n",
       "  <tbody>\n",
       "    <tr>\n",
       "      <th>99</th>\n",
       "      <td>XOne</td>\n",
       "      <td>NaN</td>\n",
       "    </tr>\n",
       "    <tr>\n",
       "      <th>165</th>\n",
       "      <td>XOne</td>\n",
       "      <td>7.9</td>\n",
       "    </tr>\n",
       "    <tr>\n",
       "      <th>179</th>\n",
       "      <td>XOne</td>\n",
       "      <td>5.4</td>\n",
       "    </tr>\n",
       "    <tr>\n",
       "      <th>242</th>\n",
       "      <td>XOne</td>\n",
       "      <td>6.4</td>\n",
       "    </tr>\n",
       "    <tr>\n",
       "      <th>270</th>\n",
       "      <td>XOne</td>\n",
       "      <td>6.2</td>\n",
       "    </tr>\n",
       "  </tbody>\n",
       "</table>\n",
       "</div>"
      ],
      "text/plain": [
       "    platform  user_score\n",
       "99      XOne         NaN\n",
       "165     XOne         7.9\n",
       "179     XOne         5.4\n",
       "242     XOne         6.4\n",
       "270     XOne         6.2"
      ]
     },
     "execution_count": 61,
     "metadata": {},
     "output_type": "execute_result"
    }
   ],
   "source": [
    "df_new_x_one = df_new[df_new['platform'] == 'XOne']\n",
    "df_new_x_one = df_new_x_one.loc[:, ['platform', 'user_score']]\n",
    "df_new_x_one.head()"
   ]
  },
  {
   "cell_type": "code",
   "execution_count": 62,
   "id": "f71e7ec7",
   "metadata": {},
   "outputs": [
    {
     "data": {
      "text/html": [
       "<div>\n",
       "<style scoped>\n",
       "    .dataframe tbody tr th:only-of-type {\n",
       "        vertical-align: middle;\n",
       "    }\n",
       "\n",
       "    .dataframe tbody tr th {\n",
       "        vertical-align: top;\n",
       "    }\n",
       "\n",
       "    .dataframe thead th {\n",
       "        text-align: right;\n",
       "    }\n",
       "</style>\n",
       "<table border=\"1\" class=\"dataframe\">\n",
       "  <thead>\n",
       "    <tr style=\"text-align: right;\">\n",
       "      <th></th>\n",
       "      <th>platform</th>\n",
       "      <th>user_score</th>\n",
       "    </tr>\n",
       "  </thead>\n",
       "  <tbody>\n",
       "    <tr>\n",
       "      <th>458</th>\n",
       "      <td>PC</td>\n",
       "      <td>3.9</td>\n",
       "    </tr>\n",
       "    <tr>\n",
       "      <th>1530</th>\n",
       "      <td>PC</td>\n",
       "      <td>5.4</td>\n",
       "    </tr>\n",
       "    <tr>\n",
       "      <th>1677</th>\n",
       "      <td>PC</td>\n",
       "      <td>NaN</td>\n",
       "    </tr>\n",
       "    <tr>\n",
       "      <th>1730</th>\n",
       "      <td>PC</td>\n",
       "      <td>7.9</td>\n",
       "    </tr>\n",
       "    <tr>\n",
       "      <th>2303</th>\n",
       "      <td>PC</td>\n",
       "      <td>5.7</td>\n",
       "    </tr>\n",
       "  </tbody>\n",
       "</table>\n",
       "</div>"
      ],
      "text/plain": [
       "     platform  user_score\n",
       "458        PC         3.9\n",
       "1530       PC         5.4\n",
       "1677       PC         NaN\n",
       "1730       PC         7.9\n",
       "2303       PC         5.7"
      ]
     },
     "execution_count": 62,
     "metadata": {},
     "output_type": "execute_result"
    }
   ],
   "source": [
    "df_new_pc = df_new[df_new['platform'] == 'PC']\n",
    "df_new_pc = df_new_pc.loc[:, ['platform', 'user_score']]\n",
    "df_new_pc.head()"
   ]
  },
  {
   "cell_type": "markdown",
   "id": "a774c283",
   "metadata": {},
   "source": [
    "Используем гипотезу о равенстве средних двух совокупностей\n",
    "\n",
    "Сформулируем гипотезы\n",
    "\n",
    " - Нулевая гипотеза - средние пользовательские рейтинги для платформ XOne и PC - равны\n",
    " - Альтернативная гипотеза -  рейтинги  - отличаются\n",
    " \n",
    "В оценках пользователей есть пропуски. При проведение статистического теста для первой и второй гипотез установим параметр nan_policy='omit', чтобы наличие NaN не влияло на вычисление значений отличных от NaN"
   ]
  },
  {
   "cell_type": "code",
   "execution_count": 63,
   "id": "2311772f",
   "metadata": {
    "scrolled": true
   },
   "outputs": [
    {
     "name": "stdout",
     "output_type": "stream",
     "text": [
      "Количество пропусков в df_new_x_one: 63\n",
      "Количество пропусков в df_new_pc: 29\n"
     ]
    }
   ],
   "source": [
    "print('Количество пропусков в df_new_x_one:', df_new_x_one['user_score'].isna().sum())\n",
    "print('Количество пропусков в df_new_pc:', df_new_pc['user_score'].isna().sum())"
   ]
  },
  {
   "cell_type": "markdown",
   "id": "44135db2",
   "metadata": {},
   "source": [
    "Запросим размер таблиц. Посчитаем дисперсию для каждой таблицы и сравним.\n",
    "\n",
    "Данная информация нужна, чтобы определить, использовать параметр equal_var=False или нет"
   ]
  },
  {
   "cell_type": "code",
   "execution_count": 64,
   "id": "0e778844",
   "metadata": {
    "scrolled": true
   },
   "outputs": [
    {
     "name": "stdout",
     "output_type": "stream",
     "text": [
      "(228, 2)\n",
      "(151, 2)\n"
     ]
    }
   ],
   "source": [
    "print(df_new_x_one.shape)\n",
    "print(df_new_pc.shape)"
   ]
  },
  {
   "cell_type": "code",
   "execution_count": 65,
   "id": "b51dbb1d",
   "metadata": {},
   "outputs": [
    {
     "name": "stdout",
     "output_type": "stream",
     "text": [
      "1.87954600550964\n",
      "2.877374361730719\n"
     ]
    }
   ],
   "source": [
    "print(np.var(df_new_x_one['user_score']))\n",
    "print(np.var(df_new_pc['user_score']))"
   ]
  },
  {
   "cell_type": "markdown",
   "id": "03703e8b",
   "metadata": {},
   "source": [
    "Таблицы, в которых мы сравниваем значения сильно отличаются по размеру. Разница между дисперсиями значительная.\n",
    "Испрользуем параметр equal_var=False, тест посчитает дисперию отдельно по каждой таблице"
   ]
  },
  {
   "cell_type": "code",
   "execution_count": 66,
   "id": "3fae7913",
   "metadata": {},
   "outputs": [
    {
     "name": "stdout",
     "output_type": "stream",
     "text": [
      "р - значение:  0.11601398086668985\n",
      "Не получилось отвергнуть нулевую гипотезу\n"
     ]
    }
   ],
   "source": [
    "alpha = .01 # задали критический уровень статистической значимости\n",
    "\n",
    "results = st.ttest_ind(df_new_x_one['user_score'], df_new_pc['user_score'], equal_var=False, nan_policy='omit')\n",
    "print('р - значение: ', results.pvalue)\n",
    "\n",
    "if results.pvalue < alpha:\n",
    "    print('Отвергаем нулевую гипотезу')\n",
    "else:\n",
    "    print('Не получилось отвергнуть нулевую гипотезу')"
   ]
  },
  {
   "cell_type": "code",
   "execution_count": 67,
   "id": "a7e03128",
   "metadata": {},
   "outputs": [
    {
     "name": "stdout",
     "output_type": "stream",
     "text": [
      "Средняя оценка пользователей для платформы XOne: 6.595\n",
      "Средняя оценка пользователей для платформы PC: 6.298\n"
     ]
    }
   ],
   "source": [
    "print('Средняя оценка пользователей для платформы XOne: {:.4}'.format(df_new_x_one['user_score'].mean()))\n",
    "print('Средняя оценка пользователей для платформы PC: {:.4}'.format(df_new_pc['user_score'].mean()))"
   ]
  },
  {
   "cell_type": "markdown",
   "id": "c1eb9b07",
   "metadata": {},
   "source": [
    "*Вывод*\n",
    "\n",
    "Средние оценки пользователей для платформ XOne и PC отличаются.\n",
    "\n",
    "Полученное значение pvalue говорит о том, что вероятность получить такое значение случайно, примерно 12 процентов, хотя средние оценки неодинаковые. Это слишком большая вероятность, чтобы делать вывод о значимом различии между средними оценками.\n"
   ]
  },
  {
   "cell_type": "markdown",
   "id": "af2a79e7",
   "metadata": {},
   "source": [
    "- Для проверки второй гипотезы выберем строки по условию, сделаем срез."
   ]
  },
  {
   "cell_type": "code",
   "execution_count": 68,
   "id": "94f765bf",
   "metadata": {
    "scrolled": true
   },
   "outputs": [
    {
     "data": {
      "text/html": [
       "<div>\n",
       "<style scoped>\n",
       "    .dataframe tbody tr th:only-of-type {\n",
       "        vertical-align: middle;\n",
       "    }\n",
       "\n",
       "    .dataframe tbody tr th {\n",
       "        vertical-align: top;\n",
       "    }\n",
       "\n",
       "    .dataframe thead th {\n",
       "        text-align: right;\n",
       "    }\n",
       "</style>\n",
       "<table border=\"1\" class=\"dataframe\">\n",
       "  <thead>\n",
       "    <tr style=\"text-align: right;\">\n",
       "      <th></th>\n",
       "      <th>genre</th>\n",
       "      <th>user_score</th>\n",
       "    </tr>\n",
       "  </thead>\n",
       "  <tbody>\n",
       "    <tr>\n",
       "      <th>42</th>\n",
       "      <td>Action</td>\n",
       "      <td>8.3</td>\n",
       "    </tr>\n",
       "    <tr>\n",
       "      <th>165</th>\n",
       "      <td>Action</td>\n",
       "      <td>7.9</td>\n",
       "    </tr>\n",
       "    <tr>\n",
       "      <th>225</th>\n",
       "      <td>Action</td>\n",
       "      <td>NaN</td>\n",
       "    </tr>\n",
       "    <tr>\n",
       "      <th>231</th>\n",
       "      <td>Action</td>\n",
       "      <td>8.1</td>\n",
       "    </tr>\n",
       "    <tr>\n",
       "      <th>295</th>\n",
       "      <td>Action</td>\n",
       "      <td>6.3</td>\n",
       "    </tr>\n",
       "  </tbody>\n",
       "</table>\n",
       "</div>"
      ],
      "text/plain": [
       "      genre  user_score\n",
       "42   Action         8.3\n",
       "165  Action         7.9\n",
       "225  Action         NaN\n",
       "231  Action         8.1\n",
       "295  Action         6.3"
      ]
     },
     "execution_count": 68,
     "metadata": {},
     "output_type": "execute_result"
    }
   ],
   "source": [
    "df_new_action = df_new[df_new['genre'] == 'Action']\n",
    "df_new_action = df_new_action.loc[:, ['genre', 'user_score']]\n",
    "df_new_action.head()"
   ]
  },
  {
   "cell_type": "code",
   "execution_count": 69,
   "id": "84d2065b",
   "metadata": {},
   "outputs": [
    {
     "data": {
      "text/html": [
       "<div>\n",
       "<style scoped>\n",
       "    .dataframe tbody tr th:only-of-type {\n",
       "        vertical-align: middle;\n",
       "    }\n",
       "\n",
       "    .dataframe tbody tr th {\n",
       "        vertical-align: top;\n",
       "    }\n",
       "\n",
       "    .dataframe thead th {\n",
       "        text-align: right;\n",
       "    }\n",
       "</style>\n",
       "<table border=\"1\" class=\"dataframe\">\n",
       "  <thead>\n",
       "    <tr style=\"text-align: right;\">\n",
       "      <th></th>\n",
       "      <th>genre</th>\n",
       "      <th>user_score</th>\n",
       "    </tr>\n",
       "  </thead>\n",
       "  <tbody>\n",
       "    <tr>\n",
       "      <th>77</th>\n",
       "      <td>Sports</td>\n",
       "      <td>4.3</td>\n",
       "    </tr>\n",
       "    <tr>\n",
       "      <th>94</th>\n",
       "      <td>Sports</td>\n",
       "      <td>5.0</td>\n",
       "    </tr>\n",
       "    <tr>\n",
       "      <th>143</th>\n",
       "      <td>Sports</td>\n",
       "      <td>5.7</td>\n",
       "    </tr>\n",
       "    <tr>\n",
       "      <th>264</th>\n",
       "      <td>Sports</td>\n",
       "      <td>4.5</td>\n",
       "    </tr>\n",
       "    <tr>\n",
       "      <th>314</th>\n",
       "      <td>Sports</td>\n",
       "      <td>6.7</td>\n",
       "    </tr>\n",
       "  </tbody>\n",
       "</table>\n",
       "</div>"
      ],
      "text/plain": [
       "      genre  user_score\n",
       "77   Sports         4.3\n",
       "94   Sports         5.0\n",
       "143  Sports         5.7\n",
       "264  Sports         4.5\n",
       "314  Sports         6.7"
      ]
     },
     "execution_count": 69,
     "metadata": {},
     "output_type": "execute_result"
    }
   ],
   "source": [
    "df_new_sports = df_new[df_new['genre'] == 'Sports']\n",
    "df_new_sports = df_new_sports.loc[:, ['genre', 'user_score']]\n",
    "df_new_sports.head()"
   ]
  },
  {
   "cell_type": "code",
   "execution_count": 70,
   "id": "bca93f28",
   "metadata": {},
   "outputs": [
    {
     "name": "stdout",
     "output_type": "stream",
     "text": [
      "Количество пропусков для жанра Action: 322\n",
      "Количество пропусков для жанра Sports: 34\n"
     ]
    }
   ],
   "source": [
    "print('Количество пропусков для жанра Action:', df_new_action['user_score'].isna().sum()) \n",
    "print('Количество пропусков для жанра Sports:', df_new_sports['user_score'].isna().sum())"
   ]
  },
  {
   "cell_type": "code",
   "execution_count": 71,
   "id": "6958cf6f",
   "metadata": {
    "scrolled": false
   },
   "outputs": [
    {
     "name": "stdout",
     "output_type": "stream",
     "text": [
      "(619, 2)\n",
      "(161, 2)\n"
     ]
    }
   ],
   "source": [
    "print(df_new_action.shape) # изучим размер таблиц\n",
    "print(df_new_sports.shape)"
   ]
  },
  {
   "cell_type": "code",
   "execution_count": 72,
   "id": "cea9530a",
   "metadata": {},
   "outputs": [
    {
     "name": "stdout",
     "output_type": "stream",
     "text": [
      "1.8920844811753907\n",
      "3.419837559675118\n"
     ]
    }
   ],
   "source": [
    "print(np.var(df_new_action['user_score']))  # посчитаем дисперсии\n",
    "print(np.var(df_new_sports['user_score']))"
   ]
  },
  {
   "cell_type": "markdown",
   "id": "ae94590c",
   "metadata": {},
   "source": [
    " - Для проведения второго теста применим параметр equal_var=False, так как размер выборок неодинаковый, и разница между дисперсиями значительная.  Применим параметр nan_policy='omit', чтобы пропуски не помешали вычислению\n",
    "\n",
    "\n",
    " - Для проверки второй гипотезы, также используем гипотезу о равенстве средних двух совокупностей\n",
    "\n",
    "Сформулируем гипотезы\n",
    " \n",
    " - Нулевая гипотеза - средние оценки пользователей для жанра Action и жанра Sports - равны\n",
    " - Альтернативная гипотеза - средние оценки пользователей данных жанров отличаются\n"
   ]
  },
  {
   "cell_type": "code",
   "execution_count": 73,
   "id": "9ebc5506",
   "metadata": {},
   "outputs": [
    {
     "name": "stdout",
     "output_type": "stream",
     "text": [
      "р - значение:  1.1825550382644845e-14\n",
      "Отвергаем нулевую гипотезу\n"
     ]
    }
   ],
   "source": [
    "alpha = .01  # задали критический уровень статистической значимости\n",
    "\n",
    "results = st.ttest_ind(df_new_action['user_score'], df_new_sports['user_score'], equal_var=False, nan_policy='omit')\n",
    "print('р - значение: ', results.pvalue)\n",
    "\n",
    "if results.pvalue < alpha:\n",
    "    print('Отвергаем нулевую гипотезу')\n",
    "else:\n",
    "    print('Не получилось отвергнуть нулевую гипотезу')"
   ]
  },
  {
   "cell_type": "code",
   "execution_count": 74,
   "id": "5b9248a5",
   "metadata": {
    "scrolled": true
   },
   "outputs": [
    {
     "name": "stdout",
     "output_type": "stream",
     "text": [
      "Средняя оценка пользователей для жанкра Action: 6.761\n",
      "Средняя оценка пользователей для жанра Sports: 5.225\n"
     ]
    }
   ],
   "source": [
    "print('Средняя оценка пользователей для жанкра Action: {:.4}'.format(df_new_action['user_score'].mean()))\n",
    "print('Средняя оценка пользователей для жанра Sports: {:.4}'.format(df_new_sports['user_score'].mean()))"
   ]
  },
  {
   "cell_type": "markdown",
   "id": "676595c6",
   "metadata": {},
   "source": [
    "*Вывод*\n",
    "\n",
    "Средние пользовательские рейтинги  жанров Action и Spots не равны. \n",
    "\n",
    "Значение pvalue меньше уровня alpha, - тест подверждает, что разница статистически значима."
   ]
  },
  {
   "cell_type": "markdown",
   "id": "dba56f52",
   "metadata": {},
   "source": [
    "## Вывод"
   ]
  },
  {
   "cell_type": "markdown",
   "id": "18fc5384",
   "metadata": {},
   "source": [
    "Задача данного исследования состояла в том, чтобы выявить и исследовать, определяющие успешность игры закономерности.\n",
    "Целью являлось отработка принципов работы с данными.\n",
    "\n",
    "Для анализа была предоставлена таблица с информацией по продажам видеоигр в трех регионах, с 1983 по 2016 годов.\n",
    "\n",
    "*Работа состояла из следующих этапов*\n",
    "\n",
    " - **Изучение данных из файла**\n",
    " \n",
    " - **Обработка данных**\n",
    "   - Привели названия столбцов к нижнему регистру.\n",
    "   - Изменили тип данных: в столбце с оценками пользователей строковый изменили на вещественный.\n",
    "   - Заполнили пропуски, где было возможно.\n",
    "   \n",
    "   \n",
    " - **На этапе исследования данных**  посчитали суммарные продажи во всех регионах и записали их в отдельный столбец\n",
    " \n",
    "     - Посчитали сколько игр выпускалось в разные годы. Построили график. На графике отразился неуклонный рост продаж с 90-х в до 2008-2009 гг. Далее вплоть до 2016 следует спад. Несмотря на общее снижение активности рынка видеоигр появляются новые платформы PS4, XOne, 3DS, показывающие рост продаж. Эти платформы мы изучили более детально.\n",
    "     \n",
    "     - Посчитали продажи по платформам, построили график с распределением продаж видеоигр по годам для каждой платформы. Среднее время существования для платформы зависит от количества продаж. Если продажи огромные, время существования на рынке около 10 лет. В среднем платформа существует около 5 лет.\n",
    "     \n",
    "     - Определили актуальный период для изучения. Им стал период с 2014 по 2016 гг. Данные за ближайший период наиболее актуальны для прогноза на быстро меняющемся рынке компьютерных игр.\n",
    "    \n",
    "**Выделили несколько потенциально прибыльных платформ**\n",
    "   \n",
    "  - Для каждой платформы построили график \"ящик с усами\"  по глобальным продажам игр. Изучив боксплот, определили самыми перспективными в плане продаж  выглядят платформы PS4 и XOne. Средние продажи у них примерно на одном уровне и выше, чем у двух других платформ.\n",
    "  \n",
    "  \n",
    "  - Изучили влияние оценок пользователей и критиков на продажи. Построили диаграммы рассеяния, посчитали корреляцию по платформам  Определили, что влияние оценок критиков не оказывает заметного влияния на продажи. Коэффициент корреляции  пользовательской оценки и продаж оказался минимальным. Скорее можно сказать об отсутствии линейной зависимости рейтинга пользователей и успеха продаж.\n",
    "  \n",
    "\n",
    " - *Изучили общее распределение игр по жанрам. Определили наиболее прибыльные жанры* Наиболее успешны оказались продажи игр в жанрах Shooter и Sports. Жанр Plaform занял третье место. Наименьшей популярностью на рынке пользуются Puzzle, Strategy\n",
    "\n",
    "**В предоставленной таблице были отражены продажи по трем регионам:**  Северная Америка, Европа, Япония\n",
    " \n",
    "**Составили портрет пользователя каждого региона**\n",
    "\n",
    " - *опредили топ-5 самых популярных платформ для каждого региона*  Для северо-американского и европейского регионов топ-5 платформ практически одинаков, лидируют PS4 и  XOne,  японский регион отличается, там лидер 3DS. \n",
    " - *определили топ-5 самых популярных жанров видеоигр по регионам* В Северной Америке и Европе, примерно, одинаковые популярные жанры это Shooter и Sports, в Японии лидируют  Role-Playng и Fighting.\n",
    " - *изучили влияние рейтинга ESRB на продажи* В каждом из изучаемых регионов создана своя собственная система рейтингов видеоигр. Преобладают в продаже игры с рейтингом  M - от 17 и старше и Е - для всех возрастовв Европе и Северной Америке, с рейтингом Т - от 13 лет и старше в Японии.\n",
    " \n",
    "**Проверили гипотезы, используя критерий Стьюдента для независимых выборок** \n",
    "\n",
    " - средние пользовательские рейтинги для платформ  XOne и PC одинаковые\n",
    " - средние пользовательские рейтинги жанров Action и Sports разные\n",
    " \n",
    "*Определили*\n",
    "\n",
    " - статтест не выявил статистически значимой разницы в оценках пользователей платформ  XOne и PC.\n",
    " - средние пользовательские рейтинги жанров Action и Sports отличаются и разница статистически значима.\n",
    "    "
   ]
  }
 ],
 "metadata": {
  "ExecuteTimeLog": [
   {
    "duration": 1241,
    "start_time": "2022-04-20T12:13:15.452Z"
   },
   {
    "duration": 35,
    "start_time": "2022-04-20T12:13:17.524Z"
   },
   {
    "duration": 24,
    "start_time": "2022-04-20T12:13:20.616Z"
   },
   {
    "duration": 1076,
    "start_time": "2022-04-20T12:15:43.649Z"
   },
   {
    "duration": 37,
    "start_time": "2022-04-20T12:15:44.728Z"
   },
   {
    "duration": 14,
    "start_time": "2022-04-20T12:15:44.767Z"
   },
   {
    "duration": 12,
    "start_time": "2022-04-20T12:15:44.783Z"
   },
   {
    "duration": 4,
    "start_time": "2022-04-20T12:15:44.797Z"
   },
   {
    "duration": 21,
    "start_time": "2022-04-20T12:15:44.803Z"
   },
   {
    "duration": 17,
    "start_time": "2022-04-20T12:15:44.826Z"
   },
   {
    "duration": 13,
    "start_time": "2022-04-20T12:15:44.844Z"
   },
   {
    "duration": 12,
    "start_time": "2022-04-20T12:15:44.859Z"
   },
   {
    "duration": 9,
    "start_time": "2022-04-20T12:15:44.873Z"
   },
   {
    "duration": 48,
    "start_time": "2022-04-20T12:15:44.883Z"
   },
   {
    "duration": 8,
    "start_time": "2022-04-20T12:15:44.933Z"
   },
   {
    "duration": 16,
    "start_time": "2022-04-20T12:15:44.942Z"
   },
   {
    "duration": 16,
    "start_time": "2022-04-20T12:15:44.960Z"
   },
   {
    "duration": 11,
    "start_time": "2022-04-20T12:15:44.977Z"
   },
   {
    "duration": 16,
    "start_time": "2022-04-20T12:15:44.989Z"
   },
   {
    "duration": 23,
    "start_time": "2022-04-20T12:15:45.023Z"
   },
   {
    "duration": 27,
    "start_time": "2022-04-20T12:15:45.048Z"
   },
   {
    "duration": 11,
    "start_time": "2022-04-20T12:15:45.076Z"
   },
   {
    "duration": 14,
    "start_time": "2022-04-20T12:15:45.089Z"
   },
   {
    "duration": 33,
    "start_time": "2022-04-20T12:15:45.104Z"
   },
   {
    "duration": 17,
    "start_time": "2022-04-20T12:15:45.138Z"
   },
   {
    "duration": 12,
    "start_time": "2022-04-20T12:15:45.157Z"
   },
   {
    "duration": 17,
    "start_time": "2022-04-20T12:15:45.170Z"
   },
   {
    "duration": 13,
    "start_time": "2022-04-20T12:15:45.188Z"
   },
   {
    "duration": 18,
    "start_time": "2022-04-20T12:15:45.225Z"
   },
   {
    "duration": 21,
    "start_time": "2022-04-20T12:15:45.244Z"
   },
   {
    "duration": 16,
    "start_time": "2022-04-20T12:15:45.270Z"
   },
   {
    "duration": 19,
    "start_time": "2022-04-20T12:15:45.288Z"
   },
   {
    "duration": 30,
    "start_time": "2022-04-20T12:15:45.308Z"
   },
   {
    "duration": 11,
    "start_time": "2022-04-20T12:15:45.341Z"
   },
   {
    "duration": 16,
    "start_time": "2022-04-20T12:15:45.353Z"
   },
   {
    "duration": 10,
    "start_time": "2022-04-20T12:15:45.371Z"
   },
   {
    "duration": 14,
    "start_time": "2022-04-20T12:15:45.383Z"
   },
   {
    "duration": 31,
    "start_time": "2022-04-20T12:15:45.398Z"
   },
   {
    "duration": 14,
    "start_time": "2022-04-20T12:15:45.431Z"
   },
   {
    "duration": 6,
    "start_time": "2022-04-20T12:15:45.447Z"
   },
   {
    "duration": 5,
    "start_time": "2022-04-20T12:15:45.455Z"
   },
   {
    "duration": 8,
    "start_time": "2022-04-20T12:15:45.462Z"
   },
   {
    "duration": 6,
    "start_time": "2022-04-20T12:15:45.471Z"
   },
   {
    "duration": 7,
    "start_time": "2022-04-20T12:15:45.478Z"
   },
   {
    "duration": 49,
    "start_time": "2022-04-20T12:15:45.487Z"
   },
   {
    "duration": 11,
    "start_time": "2022-04-20T12:15:45.537Z"
   },
   {
    "duration": 10,
    "start_time": "2022-04-20T12:15:45.550Z"
   },
   {
    "duration": 6,
    "start_time": "2022-04-20T12:15:45.562Z"
   },
   {
    "duration": 8,
    "start_time": "2022-04-20T12:15:45.569Z"
   },
   {
    "duration": 8,
    "start_time": "2022-04-20T12:15:45.578Z"
   },
   {
    "duration": 11,
    "start_time": "2022-04-20T12:15:45.587Z"
   },
   {
    "duration": 28,
    "start_time": "2022-04-20T12:15:45.625Z"
   },
   {
    "duration": 19,
    "start_time": "2022-04-20T12:15:45.655Z"
   },
   {
    "duration": 198,
    "start_time": "2022-04-20T12:15:45.676Z"
   },
   {
    "duration": 249,
    "start_time": "2022-04-20T12:15:45.876Z"
   },
   {
    "duration": 11,
    "start_time": "2022-04-20T12:15:46.128Z"
   },
   {
    "duration": 19,
    "start_time": "2022-04-20T12:15:46.141Z"
   },
   {
    "duration": 410,
    "start_time": "2022-04-20T12:15:46.162Z"
   },
   {
    "duration": 6,
    "start_time": "2022-04-20T12:15:46.574Z"
   },
   {
    "duration": 14,
    "start_time": "2022-04-20T12:15:46.581Z"
   },
   {
    "duration": 347,
    "start_time": "2022-04-20T12:15:46.597Z"
   },
   {
    "duration": 18,
    "start_time": "2022-04-20T12:15:46.947Z"
   },
   {
    "duration": 7,
    "start_time": "2022-04-20T12:15:46.967Z"
   },
   {
    "duration": 232,
    "start_time": "2022-04-20T12:15:46.976Z"
   },
   {
    "duration": 32,
    "start_time": "2022-04-20T12:15:47.212Z"
   },
   {
    "duration": 10,
    "start_time": "2022-04-20T12:15:47.247Z"
   },
   {
    "duration": 180,
    "start_time": "2022-04-20T12:15:47.259Z"
   },
   {
    "duration": 16,
    "start_time": "2022-04-20T12:15:47.441Z"
   },
   {
    "duration": 6,
    "start_time": "2022-04-20T12:15:47.458Z"
   },
   {
    "duration": 211,
    "start_time": "2022-04-20T12:15:47.465Z"
   },
   {
    "duration": 131,
    "start_time": "2022-04-20T12:15:47.678Z"
   },
   {
    "duration": 31,
    "start_time": "2022-04-20T12:15:47.811Z"
   },
   {
    "duration": 1517,
    "start_time": "2022-04-20T12:15:47.844Z"
   },
   {
    "duration": 1125,
    "start_time": "2022-04-20T12:15:49.362Z"
   },
   {
    "duration": 12,
    "start_time": "2022-04-20T12:15:50.489Z"
   },
   {
    "duration": 27,
    "start_time": "2022-04-20T12:15:50.503Z"
   },
   {
    "duration": 26,
    "start_time": "2022-04-20T12:15:50.532Z"
   },
   {
    "duration": 583,
    "start_time": "2022-04-20T12:15:50.560Z"
   },
   {
    "duration": 20,
    "start_time": "2022-04-20T12:15:51.145Z"
   },
   {
    "duration": 22,
    "start_time": "2022-04-20T12:15:51.167Z"
   },
   {
    "duration": 298,
    "start_time": "2022-04-20T12:15:51.191Z"
   },
   {
    "duration": 17,
    "start_time": "2022-04-20T12:15:51.491Z"
   },
   {
    "duration": 274,
    "start_time": "2022-04-20T12:15:51.510Z"
   },
   {
    "duration": 16,
    "start_time": "2022-04-20T12:15:51.786Z"
   },
   {
    "duration": 15,
    "start_time": "2022-04-20T12:15:51.808Z"
   },
   {
    "duration": 7,
    "start_time": "2022-04-20T12:15:51.825Z"
   },
   {
    "duration": 30,
    "start_time": "2022-04-20T12:15:51.835Z"
   },
   {
    "duration": 8,
    "start_time": "2022-04-20T12:15:51.867Z"
   },
   {
    "duration": 206,
    "start_time": "2022-04-20T12:15:51.876Z"
   },
   {
    "duration": 20,
    "start_time": "2022-04-20T12:15:52.085Z"
   },
   {
    "duration": 319,
    "start_time": "2022-04-20T12:15:52.107Z"
   },
   {
    "duration": 14,
    "start_time": "2022-04-20T12:15:52.429Z"
   },
   {
    "duration": 11,
    "start_time": "2022-04-20T12:15:52.445Z"
   },
   {
    "duration": 9,
    "start_time": "2022-04-20T12:15:52.457Z"
   },
   {
    "duration": 5,
    "start_time": "2022-04-20T12:15:52.468Z"
   },
   {
    "duration": 7,
    "start_time": "2022-04-20T12:15:52.475Z"
   },
   {
    "duration": 17,
    "start_time": "2022-04-20T12:15:52.484Z"
   },
   {
    "duration": 5,
    "start_time": "2022-04-20T12:15:52.503Z"
   },
   {
    "duration": 5,
    "start_time": "2022-04-20T12:15:52.527Z"
   },
   {
    "duration": 13,
    "start_time": "2022-04-20T12:15:52.535Z"
   },
   {
    "duration": 10,
    "start_time": "2022-04-20T12:15:52.549Z"
   },
   {
    "duration": 12,
    "start_time": "2022-04-20T12:15:52.560Z"
   },
   {
    "duration": 11,
    "start_time": "2022-04-20T12:15:52.574Z"
   },
   {
    "duration": 16,
    "start_time": "2022-04-20T12:15:52.587Z"
   },
   {
    "duration": 23,
    "start_time": "2022-04-20T12:15:52.604Z"
   },
   {
    "duration": 5,
    "start_time": "2022-04-20T12:15:52.629Z"
   },
   {
    "duration": 9,
    "start_time": "2022-04-20T12:15:52.636Z"
   },
   {
    "duration": 13,
    "start_time": "2022-04-20T12:15:52.647Z"
   },
   {
    "duration": 6,
    "start_time": "2022-04-20T12:15:52.662Z"
   },
   {
    "duration": 15,
    "start_time": "2022-04-20T12:15:52.670Z"
   },
   {
    "duration": 2435,
    "start_time": "2022-04-28T10:32:09.971Z"
   },
   {
    "duration": 74,
    "start_time": "2022-04-28T10:32:12.410Z"
   },
   {
    "duration": 37,
    "start_time": "2022-04-28T10:32:12.487Z"
   },
   {
    "duration": 54,
    "start_time": "2022-04-28T10:32:12.528Z"
   },
   {
    "duration": 8,
    "start_time": "2022-04-28T10:32:12.585Z"
   },
   {
    "duration": 31,
    "start_time": "2022-04-28T10:32:12.596Z"
   },
   {
    "duration": 52,
    "start_time": "2022-04-28T10:32:12.630Z"
   },
   {
    "duration": 32,
    "start_time": "2022-04-28T10:32:12.685Z"
   },
   {
    "duration": 34,
    "start_time": "2022-04-28T10:32:12.720Z"
   },
   {
    "duration": 33,
    "start_time": "2022-04-28T10:32:12.758Z"
   },
   {
    "duration": 21,
    "start_time": "2022-04-28T10:32:12.794Z"
   },
   {
    "duration": 11,
    "start_time": "2022-04-28T10:32:12.818Z"
   },
   {
    "duration": 70,
    "start_time": "2022-04-28T10:32:12.832Z"
   },
   {
    "duration": 27,
    "start_time": "2022-04-28T10:32:12.905Z"
   },
   {
    "duration": 22,
    "start_time": "2022-04-28T10:32:12.934Z"
   },
   {
    "duration": 24,
    "start_time": "2022-04-28T10:32:12.983Z"
   },
   {
    "duration": 22,
    "start_time": "2022-04-28T10:32:13.009Z"
   },
   {
    "duration": 63,
    "start_time": "2022-04-28T10:32:13.034Z"
   },
   {
    "duration": 21,
    "start_time": "2022-04-28T10:32:13.099Z"
   },
   {
    "duration": 30,
    "start_time": "2022-04-28T10:32:13.122Z"
   },
   {
    "duration": 47,
    "start_time": "2022-04-28T10:32:13.154Z"
   },
   {
    "duration": 50,
    "start_time": "2022-04-28T10:32:13.204Z"
   },
   {
    "duration": 31,
    "start_time": "2022-04-28T10:32:13.257Z"
   },
   {
    "duration": 26,
    "start_time": "2022-04-28T10:32:13.291Z"
   },
   {
    "duration": 21,
    "start_time": "2022-04-28T10:32:13.319Z"
   },
   {
    "duration": 56,
    "start_time": "2022-04-28T10:32:13.342Z"
   },
   {
    "duration": 27,
    "start_time": "2022-04-28T10:32:13.401Z"
   },
   {
    "duration": 28,
    "start_time": "2022-04-28T10:32:13.435Z"
   },
   {
    "duration": 20,
    "start_time": "2022-04-28T10:32:13.481Z"
   },
   {
    "duration": 24,
    "start_time": "2022-04-28T10:32:13.503Z"
   },
   {
    "duration": 19,
    "start_time": "2022-04-28T10:32:13.530Z"
   },
   {
    "duration": 22,
    "start_time": "2022-04-28T10:32:13.581Z"
   },
   {
    "duration": 23,
    "start_time": "2022-04-28T10:32:13.605Z"
   },
   {
    "duration": 52,
    "start_time": "2022-04-28T10:32:13.630Z"
   },
   {
    "duration": 10,
    "start_time": "2022-04-28T10:32:13.684Z"
   },
   {
    "duration": 14,
    "start_time": "2022-04-28T10:32:13.696Z"
   },
   {
    "duration": 11,
    "start_time": "2022-04-28T10:32:13.713Z"
   },
   {
    "duration": 9,
    "start_time": "2022-04-28T10:32:13.726Z"
   },
   {
    "duration": 50,
    "start_time": "2022-04-28T10:32:13.737Z"
   },
   {
    "duration": 9,
    "start_time": "2022-04-28T10:32:13.790Z"
   },
   {
    "duration": 12,
    "start_time": "2022-04-28T10:32:13.802Z"
   },
   {
    "duration": 25,
    "start_time": "2022-04-28T10:32:13.817Z"
   },
   {
    "duration": 14,
    "start_time": "2022-04-28T10:32:13.882Z"
   },
   {
    "duration": 13,
    "start_time": "2022-04-28T10:32:13.899Z"
   },
   {
    "duration": 12,
    "start_time": "2022-04-28T10:32:13.915Z"
   },
   {
    "duration": 55,
    "start_time": "2022-04-28T10:32:13.930Z"
   },
   {
    "duration": 10,
    "start_time": "2022-04-28T10:32:13.987Z"
   },
   {
    "duration": 21,
    "start_time": "2022-04-28T10:32:14.000Z"
   },
   {
    "duration": 65,
    "start_time": "2022-04-28T10:32:14.023Z"
   },
   {
    "duration": 30,
    "start_time": "2022-04-28T10:32:14.092Z"
   },
   {
    "duration": 332,
    "start_time": "2022-04-28T10:32:14.124Z"
   },
   {
    "duration": 695,
    "start_time": "2022-04-28T10:32:14.458Z"
   },
   {
    "duration": 11,
    "start_time": "2022-04-28T10:32:15.156Z"
   },
   {
    "duration": 32,
    "start_time": "2022-04-28T10:32:15.169Z"
   },
   {
    "duration": 656,
    "start_time": "2022-04-28T10:32:15.203Z"
   },
   {
    "duration": 11,
    "start_time": "2022-04-28T10:32:15.862Z"
   },
   {
    "duration": 23,
    "start_time": "2022-04-28T10:32:15.875Z"
   },
   {
    "duration": 666,
    "start_time": "2022-04-28T10:32:15.901Z"
   },
   {
    "duration": 37,
    "start_time": "2022-04-28T10:32:16.569Z"
   },
   {
    "duration": 11,
    "start_time": "2022-04-28T10:32:16.609Z"
   },
   {
    "duration": 408,
    "start_time": "2022-04-28T10:32:16.622Z"
   },
   {
    "duration": 29,
    "start_time": "2022-04-28T10:32:17.032Z"
   },
   {
    "duration": 27,
    "start_time": "2022-04-28T10:32:17.063Z"
   },
   {
    "duration": 316,
    "start_time": "2022-04-28T10:32:17.092Z"
   },
   {
    "duration": 28,
    "start_time": "2022-04-28T10:32:17.411Z"
   },
   {
    "duration": 9,
    "start_time": "2022-04-28T10:32:17.441Z"
   },
   {
    "duration": 342,
    "start_time": "2022-04-28T10:32:17.452Z"
   },
   {
    "duration": 241,
    "start_time": "2022-04-28T10:32:17.797Z"
   },
   {
    "duration": 7,
    "start_time": "2022-04-28T10:32:18.041Z"
   },
   {
    "duration": 2472,
    "start_time": "2022-04-28T10:32:18.050Z"
   },
   {
    "duration": 1867,
    "start_time": "2022-04-28T10:32:20.524Z"
   },
   {
    "duration": 23,
    "start_time": "2022-04-28T10:32:22.393Z"
   },
   {
    "duration": 16,
    "start_time": "2022-04-28T10:32:22.418Z"
   },
   {
    "duration": 21,
    "start_time": "2022-04-28T10:32:22.436Z"
   },
   {
    "duration": 632,
    "start_time": "2022-04-28T10:32:22.459Z"
   },
   {
    "duration": 23,
    "start_time": "2022-04-28T10:32:23.093Z"
   },
   {
    "duration": 65,
    "start_time": "2022-04-28T10:32:23.119Z"
   },
   {
    "duration": 737,
    "start_time": "2022-04-28T10:32:23.186Z"
   },
   {
    "duration": 78,
    "start_time": "2022-04-28T10:32:23.925Z"
   },
   {
    "duration": 577,
    "start_time": "2022-04-28T10:32:24.005Z"
   },
   {
    "duration": 23,
    "start_time": "2022-04-28T10:32:24.584Z"
   },
   {
    "duration": 6,
    "start_time": "2022-04-28T10:32:24.621Z"
   },
   {
    "duration": 11,
    "start_time": "2022-04-28T10:32:24.629Z"
   },
   {
    "duration": 68,
    "start_time": "2022-04-28T10:32:24.643Z"
   },
   {
    "duration": 9,
    "start_time": "2022-04-28T10:32:24.714Z"
   },
   {
    "duration": 224,
    "start_time": "2022-04-28T10:32:24.725Z"
   },
   {
    "duration": 38,
    "start_time": "2022-04-28T10:32:24.952Z"
   },
   {
    "duration": 388,
    "start_time": "2022-04-28T10:32:24.993Z"
   },
   {
    "duration": 15,
    "start_time": "2022-04-28T10:32:25.383Z"
   },
   {
    "duration": 18,
    "start_time": "2022-04-28T10:32:25.400Z"
   },
   {
    "duration": 8,
    "start_time": "2022-04-28T10:32:25.420Z"
   },
   {
    "duration": 13,
    "start_time": "2022-04-28T10:32:25.431Z"
   },
   {
    "duration": 40,
    "start_time": "2022-04-28T10:32:25.447Z"
   },
   {
    "duration": 11,
    "start_time": "2022-04-28T10:32:25.489Z"
   },
   {
    "duration": 17,
    "start_time": "2022-04-28T10:32:25.502Z"
   },
   {
    "duration": 19,
    "start_time": "2022-04-28T10:32:25.521Z"
   },
   {
    "duration": 8,
    "start_time": "2022-04-28T10:32:25.542Z"
   },
   {
    "duration": 7,
    "start_time": "2022-04-28T10:32:25.552Z"
   },
   {
    "duration": 17,
    "start_time": "2022-04-28T10:32:25.582Z"
   },
   {
    "duration": 19,
    "start_time": "2022-04-28T10:32:25.602Z"
   },
   {
    "duration": 10,
    "start_time": "2022-04-28T10:32:25.624Z"
   },
   {
    "duration": 8,
    "start_time": "2022-04-28T10:32:25.636Z"
   },
   {
    "duration": 5,
    "start_time": "2022-04-28T10:32:25.683Z"
   },
   {
    "duration": 8,
    "start_time": "2022-04-28T10:32:25.690Z"
   },
   {
    "duration": 13,
    "start_time": "2022-04-28T10:32:25.701Z"
   },
   {
    "duration": 10,
    "start_time": "2022-04-28T10:32:25.717Z"
   },
   {
    "duration": 15,
    "start_time": "2022-04-28T10:32:25.729Z"
   },
   {
    "duration": 6,
    "start_time": "2022-04-28T10:33:52.010Z"
   },
   {
    "duration": 148,
    "start_time": "2022-04-28T10:33:55.914Z"
   },
   {
    "duration": 14,
    "start_time": "2022-04-28T10:34:00.799Z"
   },
   {
    "duration": 9,
    "start_time": "2022-04-28T10:34:09.292Z"
   },
   {
    "duration": 7,
    "start_time": "2022-04-28T10:35:27.389Z"
   },
   {
    "duration": 7,
    "start_time": "2022-04-28T10:35:32.254Z"
   },
   {
    "duration": 6,
    "start_time": "2022-04-28T10:40:19.151Z"
   },
   {
    "duration": 5,
    "start_time": "2022-04-28T10:40:23.294Z"
   },
   {
    "duration": 6,
    "start_time": "2022-04-28T10:41:10.752Z"
   },
   {
    "duration": 8,
    "start_time": "2022-04-28T10:41:14.343Z"
   },
   {
    "duration": 6,
    "start_time": "2022-04-28T10:41:57.992Z"
   },
   {
    "duration": 7,
    "start_time": "2022-04-28T10:48:59.777Z"
   },
   {
    "duration": 4,
    "start_time": "2022-04-28T10:49:05.355Z"
   },
   {
    "duration": 77,
    "start_time": "2022-04-28T10:49:05.362Z"
   },
   {
    "duration": 44,
    "start_time": "2022-04-28T10:49:05.443Z"
   },
   {
    "duration": 22,
    "start_time": "2022-04-28T10:49:05.490Z"
   },
   {
    "duration": 6,
    "start_time": "2022-04-28T10:49:05.515Z"
   },
   {
    "duration": 20,
    "start_time": "2022-04-28T10:49:05.524Z"
   },
   {
    "duration": 20,
    "start_time": "2022-04-28T10:49:05.583Z"
   },
   {
    "duration": 22,
    "start_time": "2022-04-28T10:49:05.605Z"
   },
   {
    "duration": 23,
    "start_time": "2022-04-28T10:49:05.629Z"
   },
   {
    "duration": 14,
    "start_time": "2022-04-28T10:49:05.682Z"
   },
   {
    "duration": 25,
    "start_time": "2022-04-28T10:49:05.700Z"
   },
   {
    "duration": 9,
    "start_time": "2022-04-28T10:49:05.727Z"
   },
   {
    "duration": 54,
    "start_time": "2022-04-28T10:49:05.739Z"
   },
   {
    "duration": 28,
    "start_time": "2022-04-28T10:49:05.795Z"
   },
   {
    "duration": 19,
    "start_time": "2022-04-28T10:49:05.826Z"
   },
   {
    "duration": 52,
    "start_time": "2022-04-28T10:49:05.848Z"
   },
   {
    "duration": 23,
    "start_time": "2022-04-28T10:49:05.902Z"
   },
   {
    "duration": 30,
    "start_time": "2022-04-28T10:49:05.927Z"
   },
   {
    "duration": 29,
    "start_time": "2022-04-28T10:49:05.981Z"
   },
   {
    "duration": 27,
    "start_time": "2022-04-28T10:49:06.013Z"
   },
   {
    "duration": 51,
    "start_time": "2022-04-28T10:49:06.043Z"
   },
   {
    "duration": 34,
    "start_time": "2022-04-28T10:49:06.096Z"
   },
   {
    "duration": 22,
    "start_time": "2022-04-28T10:49:06.133Z"
   },
   {
    "duration": 27,
    "start_time": "2022-04-28T10:49:06.181Z"
   },
   {
    "duration": 27,
    "start_time": "2022-04-28T10:49:06.210Z"
   },
   {
    "duration": 50,
    "start_time": "2022-04-28T10:49:06.240Z"
   },
   {
    "duration": 22,
    "start_time": "2022-04-28T10:49:06.292Z"
   },
   {
    "duration": 42,
    "start_time": "2022-04-28T10:49:06.316Z"
   },
   {
    "duration": 28,
    "start_time": "2022-04-28T10:49:06.363Z"
   },
   {
    "duration": 29,
    "start_time": "2022-04-28T10:49:06.393Z"
   },
   {
    "duration": 20,
    "start_time": "2022-04-28T10:49:06.424Z"
   },
   {
    "duration": 52,
    "start_time": "2022-04-28T10:49:06.447Z"
   },
   {
    "duration": 21,
    "start_time": "2022-04-28T10:49:06.502Z"
   },
   {
    "duration": 24,
    "start_time": "2022-04-28T10:49:06.526Z"
   },
   {
    "duration": 12,
    "start_time": "2022-04-28T10:49:06.583Z"
   },
   {
    "duration": 17,
    "start_time": "2022-04-28T10:49:06.598Z"
   },
   {
    "duration": 16,
    "start_time": "2022-04-28T10:49:06.617Z"
   },
   {
    "duration": 7,
    "start_time": "2022-04-28T10:49:09.406Z"
   },
   {
    "duration": 190,
    "start_time": "2022-04-28T10:49:40.830Z"
   },
   {
    "duration": 4,
    "start_time": "2022-04-28T10:49:47.358Z"
   },
   {
    "duration": 49,
    "start_time": "2022-04-28T10:49:47.367Z"
   },
   {
    "duration": 20,
    "start_time": "2022-04-28T10:49:47.419Z"
   },
   {
    "duration": 46,
    "start_time": "2022-04-28T10:49:47.441Z"
   },
   {
    "duration": 5,
    "start_time": "2022-04-28T10:49:47.490Z"
   },
   {
    "duration": 23,
    "start_time": "2022-04-28T10:49:47.497Z"
   },
   {
    "duration": 20,
    "start_time": "2022-04-28T10:49:47.522Z"
   },
   {
    "duration": 20,
    "start_time": "2022-04-28T10:49:47.582Z"
   },
   {
    "duration": 22,
    "start_time": "2022-04-28T10:49:47.605Z"
   },
   {
    "duration": 23,
    "start_time": "2022-04-28T10:49:47.630Z"
   },
   {
    "duration": 32,
    "start_time": "2022-04-28T10:49:47.686Z"
   },
   {
    "duration": 13,
    "start_time": "2022-04-28T10:49:47.721Z"
   },
   {
    "duration": 56,
    "start_time": "2022-04-28T10:49:47.737Z"
   },
   {
    "duration": 27,
    "start_time": "2022-04-28T10:49:47.796Z"
   },
   {
    "duration": 21,
    "start_time": "2022-04-28T10:49:47.825Z"
   },
   {
    "duration": 64,
    "start_time": "2022-04-28T10:49:47.848Z"
   },
   {
    "duration": 31,
    "start_time": "2022-04-28T10:49:47.915Z"
   },
   {
    "duration": 47,
    "start_time": "2022-04-28T10:49:47.948Z"
   },
   {
    "duration": 19,
    "start_time": "2022-04-28T10:49:47.997Z"
   },
   {
    "duration": 26,
    "start_time": "2022-04-28T10:49:48.018Z"
   },
   {
    "duration": 52,
    "start_time": "2022-04-28T10:49:48.046Z"
   },
   {
    "duration": 26,
    "start_time": "2022-04-28T10:49:48.101Z"
   },
   {
    "duration": 22,
    "start_time": "2022-04-28T10:49:48.129Z"
   },
   {
    "duration": 51,
    "start_time": "2022-04-28T10:49:48.153Z"
   },
   {
    "duration": 21,
    "start_time": "2022-04-28T10:49:48.207Z"
   },
   {
    "duration": 57,
    "start_time": "2022-04-28T10:49:48.230Z"
   },
   {
    "duration": 24,
    "start_time": "2022-04-28T10:49:48.290Z"
   },
   {
    "duration": 30,
    "start_time": "2022-04-28T10:49:48.316Z"
   },
   {
    "duration": 40,
    "start_time": "2022-04-28T10:49:48.351Z"
   },
   {
    "duration": 24,
    "start_time": "2022-04-28T10:49:48.393Z"
   },
   {
    "duration": 19,
    "start_time": "2022-04-28T10:49:48.420Z"
   },
   {
    "duration": 58,
    "start_time": "2022-04-28T10:49:48.441Z"
   },
   {
    "duration": 21,
    "start_time": "2022-04-28T10:49:48.502Z"
   },
   {
    "duration": 24,
    "start_time": "2022-04-28T10:49:48.525Z"
   },
   {
    "duration": 10,
    "start_time": "2022-04-28T10:49:49.715Z"
   },
   {
    "duration": 1614,
    "start_time": "2022-04-28T10:49:53.750Z"
   },
   {
    "duration": 38,
    "start_time": "2022-04-28T10:50:38.186Z"
   },
   {
    "duration": 12,
    "start_time": "2022-04-28T10:52:00.561Z"
   },
   {
    "duration": 474,
    "start_time": "2022-04-28T10:52:09.341Z"
   },
   {
    "duration": 9,
    "start_time": "2022-04-28T10:52:41.233Z"
   },
   {
    "duration": 8,
    "start_time": "2022-04-28T10:52:44.430Z"
   },
   {
    "duration": 12,
    "start_time": "2022-04-28T10:52:50.678Z"
   },
   {
    "duration": 9,
    "start_time": "2022-04-28T10:52:51.852Z"
   },
   {
    "duration": 8,
    "start_time": "2022-04-28T10:52:56.206Z"
   },
   {
    "duration": 4,
    "start_time": "2022-04-28T10:53:04.457Z"
   },
   {
    "duration": 49,
    "start_time": "2022-04-28T10:53:04.464Z"
   },
   {
    "duration": 20,
    "start_time": "2022-04-28T10:53:04.515Z"
   },
   {
    "duration": 51,
    "start_time": "2022-04-28T10:53:04.537Z"
   },
   {
    "duration": 7,
    "start_time": "2022-04-28T10:53:04.590Z"
   },
   {
    "duration": 24,
    "start_time": "2022-04-28T10:53:04.599Z"
   },
   {
    "duration": 56,
    "start_time": "2022-04-28T10:53:04.625Z"
   },
   {
    "duration": 19,
    "start_time": "2022-04-28T10:53:04.684Z"
   },
   {
    "duration": 21,
    "start_time": "2022-04-28T10:53:04.707Z"
   },
   {
    "duration": 16,
    "start_time": "2022-04-28T10:53:04.730Z"
   },
   {
    "duration": 22,
    "start_time": "2022-04-28T10:53:04.786Z"
   },
   {
    "duration": 11,
    "start_time": "2022-04-28T10:53:04.810Z"
   },
   {
    "duration": 64,
    "start_time": "2022-04-28T10:53:04.824Z"
   },
   {
    "duration": 35,
    "start_time": "2022-04-28T10:53:04.890Z"
   },
   {
    "duration": 29,
    "start_time": "2022-04-28T10:53:04.927Z"
   },
   {
    "duration": 46,
    "start_time": "2022-04-28T10:53:04.959Z"
   },
   {
    "duration": 21,
    "start_time": "2022-04-28T10:53:05.008Z"
   },
   {
    "duration": 54,
    "start_time": "2022-04-28T10:53:05.031Z"
   },
   {
    "duration": 20,
    "start_time": "2022-04-28T10:53:05.087Z"
   },
   {
    "duration": 25,
    "start_time": "2022-04-28T10:53:05.109Z"
   },
   {
    "duration": 51,
    "start_time": "2022-04-28T10:53:05.137Z"
   },
   {
    "duration": 28,
    "start_time": "2022-04-28T10:53:05.191Z"
   },
   {
    "duration": 23,
    "start_time": "2022-04-28T10:53:05.221Z"
   },
   {
    "duration": 56,
    "start_time": "2022-04-28T10:53:05.246Z"
   },
   {
    "duration": 24,
    "start_time": "2022-04-28T10:53:05.304Z"
   },
   {
    "duration": 26,
    "start_time": "2022-04-28T10:53:05.330Z"
   },
   {
    "duration": 23,
    "start_time": "2022-04-28T10:53:05.382Z"
   },
   {
    "duration": 51,
    "start_time": "2022-04-28T10:53:05.408Z"
   },
   {
    "duration": 22,
    "start_time": "2022-04-28T10:53:05.464Z"
   },
   {
    "duration": 27,
    "start_time": "2022-04-28T10:53:05.489Z"
   },
   {
    "duration": 19,
    "start_time": "2022-04-28T10:53:05.519Z"
   },
   {
    "duration": 49,
    "start_time": "2022-04-28T10:53:05.541Z"
   },
   {
    "duration": 19,
    "start_time": "2022-04-28T10:53:05.592Z"
   },
   {
    "duration": 23,
    "start_time": "2022-04-28T10:53:05.613Z"
   },
   {
    "duration": 44,
    "start_time": "2022-04-28T10:53:05.638Z"
   },
   {
    "duration": 7,
    "start_time": "2022-04-28T10:53:19.416Z"
   },
   {
    "duration": 8,
    "start_time": "2022-04-28T10:53:23.935Z"
   },
   {
    "duration": 5,
    "start_time": "2022-04-28T10:53:30.434Z"
   },
   {
    "duration": 163,
    "start_time": "2022-04-28T10:59:59.702Z"
   },
   {
    "duration": 189,
    "start_time": "2022-04-28T11:01:22.176Z"
   },
   {
    "duration": 120,
    "start_time": "2022-04-28T11:01:30.919Z"
   },
   {
    "duration": 7,
    "start_time": "2022-04-28T11:23:31.267Z"
   },
   {
    "duration": 331,
    "start_time": "2022-04-28T11:23:47.341Z"
   },
   {
    "duration": 423,
    "start_time": "2022-04-28T11:24:14.288Z"
   },
   {
    "duration": 432,
    "start_time": "2022-04-28T11:25:43.243Z"
   },
   {
    "duration": 539,
    "start_time": "2022-04-28T11:25:46.823Z"
   },
   {
    "duration": 1441,
    "start_time": "2022-04-28T11:46:45.588Z"
   },
   {
    "duration": 53,
    "start_time": "2022-04-28T11:46:47.032Z"
   },
   {
    "duration": 28,
    "start_time": "2022-04-28T11:46:47.087Z"
   },
   {
    "duration": 22,
    "start_time": "2022-04-28T11:46:47.119Z"
   },
   {
    "duration": 39,
    "start_time": "2022-04-28T11:46:47.143Z"
   },
   {
    "duration": 28,
    "start_time": "2022-04-28T11:46:47.185Z"
   },
   {
    "duration": 21,
    "start_time": "2022-04-28T11:46:47.216Z"
   },
   {
    "duration": 50,
    "start_time": "2022-04-28T11:46:47.240Z"
   },
   {
    "duration": 50,
    "start_time": "2022-04-28T11:46:47.293Z"
   },
   {
    "duration": 16,
    "start_time": "2022-04-28T11:46:47.347Z"
   },
   {
    "duration": 22,
    "start_time": "2022-04-28T11:46:47.365Z"
   },
   {
    "duration": 9,
    "start_time": "2022-04-28T11:46:47.389Z"
   },
   {
    "duration": 22,
    "start_time": "2022-04-28T11:46:47.400Z"
   },
   {
    "duration": 22,
    "start_time": "2022-04-28T11:46:47.424Z"
   },
   {
    "duration": 23,
    "start_time": "2022-04-28T11:46:47.482Z"
   },
   {
    "duration": 25,
    "start_time": "2022-04-28T11:46:47.508Z"
   },
   {
    "duration": 47,
    "start_time": "2022-04-28T11:46:47.536Z"
   },
   {
    "duration": 25,
    "start_time": "2022-04-28T11:46:47.585Z"
   },
   {
    "duration": 22,
    "start_time": "2022-04-28T11:46:47.612Z"
   },
   {
    "duration": 53,
    "start_time": "2022-04-28T11:46:47.636Z"
   },
   {
    "duration": 22,
    "start_time": "2022-04-28T11:46:47.691Z"
   },
   {
    "duration": 28,
    "start_time": "2022-04-28T11:46:47.715Z"
   },
   {
    "duration": 47,
    "start_time": "2022-04-28T11:46:47.746Z"
   },
   {
    "duration": 27,
    "start_time": "2022-04-28T11:46:47.795Z"
   },
   {
    "duration": 21,
    "start_time": "2022-04-28T11:46:47.824Z"
   },
   {
    "duration": 55,
    "start_time": "2022-04-28T11:46:47.847Z"
   },
   {
    "duration": 21,
    "start_time": "2022-04-28T11:46:47.904Z"
   },
   {
    "duration": 25,
    "start_time": "2022-04-28T11:46:47.932Z"
   },
   {
    "duration": 20,
    "start_time": "2022-04-28T11:46:47.982Z"
   },
   {
    "duration": 29,
    "start_time": "2022-04-28T11:46:48.004Z"
   },
   {
    "duration": 19,
    "start_time": "2022-04-28T11:46:48.035Z"
   },
   {
    "duration": 46,
    "start_time": "2022-04-28T11:46:48.056Z"
   },
   {
    "duration": 19,
    "start_time": "2022-04-28T11:46:48.104Z"
   },
   {
    "duration": 23,
    "start_time": "2022-04-28T11:46:48.126Z"
   },
   {
    "duration": 38,
    "start_time": "2022-04-28T11:46:48.151Z"
   },
   {
    "duration": 12,
    "start_time": "2022-04-28T11:46:48.192Z"
   },
   {
    "duration": 11,
    "start_time": "2022-04-28T11:46:48.206Z"
   },
   {
    "duration": 9,
    "start_time": "2022-04-28T11:46:48.219Z"
   },
   {
    "duration": 13,
    "start_time": "2022-04-28T11:46:48.230Z"
   },
   {
    "duration": 10,
    "start_time": "2022-04-28T11:46:48.281Z"
   },
   {
    "duration": 10,
    "start_time": "2022-04-28T11:46:48.293Z"
   },
   {
    "duration": 23,
    "start_time": "2022-04-28T11:46:48.305Z"
   },
   {
    "duration": 12,
    "start_time": "2022-04-28T11:46:48.330Z"
   },
   {
    "duration": 45,
    "start_time": "2022-04-28T11:46:48.344Z"
   },
   {
    "duration": 9,
    "start_time": "2022-04-28T11:46:48.391Z"
   },
   {
    "duration": 9,
    "start_time": "2022-04-28T11:46:48.402Z"
   },
   {
    "duration": 9,
    "start_time": "2022-04-28T11:46:48.413Z"
   },
   {
    "duration": 62,
    "start_time": "2022-04-28T11:46:48.424Z"
   },
   {
    "duration": 29,
    "start_time": "2022-04-28T11:46:48.488Z"
   },
   {
    "duration": 27,
    "start_time": "2022-04-28T11:46:48.519Z"
   },
   {
    "duration": 337,
    "start_time": "2022-04-28T11:46:48.548Z"
   },
   {
    "duration": 565,
    "start_time": "2022-04-28T11:46:48.888Z"
   },
   {
    "duration": 12,
    "start_time": "2022-04-28T11:46:49.456Z"
   },
   {
    "duration": 23,
    "start_time": "2022-04-28T11:46:49.482Z"
   },
   {
    "duration": 671,
    "start_time": "2022-04-28T11:46:49.507Z"
   },
   {
    "duration": 8,
    "start_time": "2022-04-28T11:46:50.181Z"
   },
   {
    "duration": 19,
    "start_time": "2022-04-28T11:46:50.191Z"
   },
   {
    "duration": 685,
    "start_time": "2022-04-28T11:46:50.212Z"
   },
   {
    "duration": 27,
    "start_time": "2022-04-28T11:46:50.899Z"
   },
   {
    "duration": 13,
    "start_time": "2022-04-28T11:46:50.929Z"
   },
   {
    "duration": 432,
    "start_time": "2022-04-28T11:46:50.945Z"
   },
   {
    "duration": 29,
    "start_time": "2022-04-28T11:46:51.381Z"
   },
   {
    "duration": 11,
    "start_time": "2022-04-28T11:46:51.412Z"
   },
   {
    "duration": 344,
    "start_time": "2022-04-28T11:46:51.425Z"
   },
   {
    "duration": 34,
    "start_time": "2022-04-28T11:46:51.772Z"
   },
   {
    "duration": 8,
    "start_time": "2022-04-28T11:46:51.809Z"
   },
   {
    "duration": 314,
    "start_time": "2022-04-28T11:46:51.819Z"
   },
   {
    "duration": 248,
    "start_time": "2022-04-28T11:46:52.136Z"
   },
   {
    "duration": 8,
    "start_time": "2022-04-28T11:46:52.386Z"
   },
   {
    "duration": 10,
    "start_time": "2022-04-28T11:46:52.396Z"
   },
   {
    "duration": 360,
    "start_time": "2022-04-28T11:46:52.408Z"
   },
   {
    "duration": 2426,
    "start_time": "2022-04-28T11:46:52.771Z"
   },
   {
    "duration": 1981,
    "start_time": "2022-04-28T11:46:55.200Z"
   },
   {
    "duration": 24,
    "start_time": "2022-04-28T11:46:57.184Z"
   },
   {
    "duration": 12,
    "start_time": "2022-04-28T11:46:57.211Z"
   },
   {
    "duration": 28,
    "start_time": "2022-04-28T11:46:57.226Z"
   },
   {
    "duration": 536,
    "start_time": "2022-04-28T11:46:57.281Z"
   },
   {
    "duration": 23,
    "start_time": "2022-04-28T11:46:57.819Z"
   },
   {
    "duration": 41,
    "start_time": "2022-04-28T11:46:57.844Z"
   },
   {
    "duration": 474,
    "start_time": "2022-04-28T11:46:57.888Z"
   },
   {
    "duration": 38,
    "start_time": "2022-04-28T11:46:58.365Z"
   },
   {
    "duration": 483,
    "start_time": "2022-04-28T11:46:58.413Z"
   },
   {
    "duration": 24,
    "start_time": "2022-04-28T11:46:58.899Z"
   },
   {
    "duration": 6,
    "start_time": "2022-04-28T11:46:58.926Z"
   },
   {
    "duration": 20,
    "start_time": "2022-04-28T11:46:58.934Z"
   },
   {
    "duration": 47,
    "start_time": "2022-04-28T11:46:58.956Z"
   },
   {
    "duration": 9,
    "start_time": "2022-04-28T11:46:59.005Z"
   },
   {
    "duration": 323,
    "start_time": "2022-04-28T11:46:59.016Z"
   },
   {
    "duration": 22,
    "start_time": "2022-04-28T11:46:59.341Z"
   },
   {
    "duration": 399,
    "start_time": "2022-04-28T11:46:59.365Z"
   },
   {
    "duration": 26,
    "start_time": "2022-04-28T11:46:59.766Z"
   },
   {
    "duration": 17,
    "start_time": "2022-04-28T11:46:59.794Z"
   },
   {
    "duration": 16,
    "start_time": "2022-04-28T11:46:59.813Z"
   },
   {
    "duration": 6,
    "start_time": "2022-04-28T11:46:59.832Z"
   },
   {
    "duration": 8,
    "start_time": "2022-04-28T11:46:59.840Z"
   },
   {
    "duration": 33,
    "start_time": "2022-04-28T11:46:59.850Z"
   },
   {
    "duration": 5,
    "start_time": "2022-04-28T11:46:59.885Z"
   },
   {
    "duration": 17,
    "start_time": "2022-04-28T11:46:59.893Z"
   },
   {
    "duration": 7,
    "start_time": "2022-04-28T11:46:59.912Z"
   },
   {
    "duration": 7,
    "start_time": "2022-04-28T11:46:59.922Z"
   },
   {
    "duration": 16,
    "start_time": "2022-04-28T11:46:59.930Z"
   },
   {
    "duration": 48,
    "start_time": "2022-04-28T11:46:59.948Z"
   },
   {
    "duration": 9,
    "start_time": "2022-04-28T11:46:59.998Z"
   },
   {
    "duration": 10,
    "start_time": "2022-04-28T11:47:00.009Z"
   },
   {
    "duration": 29,
    "start_time": "2022-04-28T11:47:00.022Z"
   },
   {
    "duration": 25,
    "start_time": "2022-04-28T11:47:00.053Z"
   },
   {
    "duration": 18,
    "start_time": "2022-04-28T11:47:00.080Z"
   },
   {
    "duration": 19,
    "start_time": "2022-04-28T11:47:00.100Z"
   },
   {
    "duration": 24,
    "start_time": "2022-04-28T11:47:00.122Z"
   },
   {
    "duration": 189,
    "start_time": "2022-04-28T16:19:03.319Z"
   },
   {
    "duration": 1422,
    "start_time": "2022-04-28T16:23:52.214Z"
   },
   {
    "duration": 45,
    "start_time": "2022-04-28T16:23:54.322Z"
   },
   {
    "duration": 20,
    "start_time": "2022-04-28T16:23:55.420Z"
   },
   {
    "duration": 17,
    "start_time": "2022-04-28T16:23:56.818Z"
   },
   {
    "duration": 3,
    "start_time": "2022-04-28T16:27:20.971Z"
   },
   {
    "duration": 14,
    "start_time": "2022-04-28T16:27:29.267Z"
   },
   {
    "duration": 3,
    "start_time": "2022-04-28T16:40:24.500Z"
   },
   {
    "duration": 15,
    "start_time": "2022-04-28T16:55:00.455Z"
   },
   {
    "duration": 15,
    "start_time": "2022-04-28T16:55:04.538Z"
   },
   {
    "duration": 15,
    "start_time": "2022-04-28T16:55:05.945Z"
   },
   {
    "duration": 14,
    "start_time": "2022-04-28T16:55:09.498Z"
   },
   {
    "duration": 127,
    "start_time": "2022-04-28T16:55:38.365Z"
   },
   {
    "duration": 16,
    "start_time": "2022-04-28T16:58:14.510Z"
   },
   {
    "duration": 181,
    "start_time": "2022-04-28T17:04:53.766Z"
   },
   {
    "duration": 23,
    "start_time": "2022-04-28T17:05:51.421Z"
   },
   {
    "duration": 187,
    "start_time": "2022-04-28T17:06:35.388Z"
   },
   {
    "duration": 173,
    "start_time": "2022-04-28T17:07:16.214Z"
   },
   {
    "duration": 49,
    "start_time": "2022-04-28T17:09:13.928Z"
   },
   {
    "duration": 3,
    "start_time": "2022-04-28T17:09:25.084Z"
   },
   {
    "duration": 15,
    "start_time": "2022-04-28T17:09:28.485Z"
   },
   {
    "duration": 15,
    "start_time": "2022-04-28T17:09:34.129Z"
   },
   {
    "duration": 15,
    "start_time": "2022-04-28T17:09:35.008Z"
   },
   {
    "duration": 10,
    "start_time": "2022-04-28T17:09:43.912Z"
   },
   {
    "duration": 5,
    "start_time": "2022-04-28T17:09:50.736Z"
   },
   {
    "duration": 94,
    "start_time": "2022-04-28T17:35:50.315Z"
   },
   {
    "duration": 52,
    "start_time": "2022-04-28T18:02:37.823Z"
   },
   {
    "duration": 1222,
    "start_time": "2022-04-29T06:04:43.240Z"
   },
   {
    "duration": 34,
    "start_time": "2022-04-29T06:04:44.464Z"
   },
   {
    "duration": 17,
    "start_time": "2022-04-29T06:04:44.739Z"
   },
   {
    "duration": 3,
    "start_time": "2022-04-29T06:04:50.155Z"
   },
   {
    "duration": 15,
    "start_time": "2022-04-29T06:04:53.155Z"
   },
   {
    "duration": 14,
    "start_time": "2022-04-29T06:04:58.187Z"
   },
   {
    "duration": 14,
    "start_time": "2022-04-29T06:04:58.926Z"
   },
   {
    "duration": 14,
    "start_time": "2022-04-29T06:05:04.318Z"
   },
   {
    "duration": 4,
    "start_time": "2022-04-29T06:05:08.060Z"
   },
   {
    "duration": 149,
    "start_time": "2022-04-29T06:05:09.756Z"
   },
   {
    "duration": 7,
    "start_time": "2022-04-29T06:05:14.907Z"
   },
   {
    "duration": 7,
    "start_time": "2022-04-29T06:05:15.572Z"
   },
   {
    "duration": 6,
    "start_time": "2022-04-29T06:05:23.668Z"
   },
   {
    "duration": 58,
    "start_time": "2022-04-29T06:05:39.276Z"
   },
   {
    "duration": 131,
    "start_time": "2022-04-29T06:05:49.564Z"
   },
   {
    "duration": 143,
    "start_time": "2022-04-29T06:06:22.217Z"
   },
   {
    "duration": 177,
    "start_time": "2022-04-29T06:07:24.712Z"
   },
   {
    "duration": 132,
    "start_time": "2022-04-29T06:11:06.232Z"
   },
   {
    "duration": 45,
    "start_time": "2022-04-29T06:13:13.562Z"
   },
   {
    "duration": 33,
    "start_time": "2022-04-29T06:14:33.139Z"
   },
   {
    "duration": 11,
    "start_time": "2022-04-29T06:46:10.336Z"
   },
   {
    "duration": 11,
    "start_time": "2022-04-29T06:46:13.846Z"
   },
   {
    "duration": 4,
    "start_time": "2022-04-29T06:46:36.008Z"
   },
   {
    "duration": 3,
    "start_time": "2022-04-29T06:55:41.688Z"
   },
   {
    "duration": 9,
    "start_time": "2022-04-29T06:55:42.966Z"
   },
   {
    "duration": 3,
    "start_time": "2022-04-29T06:55:49.982Z"
   },
   {
    "duration": 4,
    "start_time": "2022-04-29T06:56:41.189Z"
   },
   {
    "duration": 10,
    "start_time": "2022-04-29T06:58:24.074Z"
   },
   {
    "duration": 11,
    "start_time": "2022-04-29T06:58:28.297Z"
   },
   {
    "duration": 5,
    "start_time": "2022-04-29T06:58:32.050Z"
   },
   {
    "duration": 5,
    "start_time": "2022-04-29T06:58:40.074Z"
   },
   {
    "duration": 3,
    "start_time": "2022-04-29T06:59:06.139Z"
   },
   {
    "duration": 4,
    "start_time": "2022-04-29T06:59:08.010Z"
   },
   {
    "duration": 5,
    "start_time": "2022-04-29T06:59:12.233Z"
   },
   {
    "duration": 6,
    "start_time": "2022-04-29T07:01:25.007Z"
   },
   {
    "duration": 3,
    "start_time": "2022-04-29T07:01:28.390Z"
   },
   {
    "duration": 5,
    "start_time": "2022-04-29T07:03:59.842Z"
   },
   {
    "duration": 5,
    "start_time": "2022-04-29T07:04:40.059Z"
   },
   {
    "duration": 6,
    "start_time": "2022-04-29T07:06:12.630Z"
   },
   {
    "duration": 5,
    "start_time": "2022-04-29T07:08:43.617Z"
   },
   {
    "duration": 3,
    "start_time": "2022-04-29T07:10:14.366Z"
   },
   {
    "duration": 6,
    "start_time": "2022-04-29T07:10:17.523Z"
   },
   {
    "duration": 3,
    "start_time": "2022-04-29T07:10:23.412Z"
   },
   {
    "duration": 6,
    "start_time": "2022-04-29T07:14:57.692Z"
   },
   {
    "duration": 4,
    "start_time": "2022-04-29T07:15:00.781Z"
   },
   {
    "duration": 5,
    "start_time": "2022-04-29T07:15:16.073Z"
   },
   {
    "duration": 5,
    "start_time": "2022-04-29T08:27:07.274Z"
   },
   {
    "duration": 3,
    "start_time": "2022-04-29T08:33:41.052Z"
   },
   {
    "duration": 5,
    "start_time": "2022-04-29T08:33:42.658Z"
   },
   {
    "duration": 4,
    "start_time": "2022-04-29T08:33:45.426Z"
   },
   {
    "duration": 3,
    "start_time": "2022-04-29T08:33:59.378Z"
   },
   {
    "duration": 6,
    "start_time": "2022-04-29T08:34:00.202Z"
   },
   {
    "duration": 4,
    "start_time": "2022-04-29T08:34:01.737Z"
   },
   {
    "duration": 5,
    "start_time": "2022-04-29T08:34:02.841Z"
   },
   {
    "duration": 53,
    "start_time": "2022-04-29T08:48:15.699Z"
   },
   {
    "duration": 172,
    "start_time": "2022-04-29T08:48:23.520Z"
   },
   {
    "duration": 253,
    "start_time": "2022-04-29T08:48:28.217Z"
   },
   {
    "duration": 8,
    "start_time": "2022-04-29T08:48:34.686Z"
   },
   {
    "duration": 14,
    "start_time": "2022-04-29T08:48:36.171Z"
   },
   {
    "duration": 392,
    "start_time": "2022-04-29T08:48:38.608Z"
   },
   {
    "duration": 8,
    "start_time": "2022-04-29T08:53:33.726Z"
   },
   {
    "duration": 18,
    "start_time": "2022-04-29T08:53:36.897Z"
   },
   {
    "duration": 96,
    "start_time": "2022-04-29T08:53:39.609Z"
   },
   {
    "duration": 254,
    "start_time": "2022-04-29T08:54:33.444Z"
   },
   {
    "duration": 140,
    "start_time": "2022-04-29T08:59:14.755Z"
   },
   {
    "duration": 242,
    "start_time": "2022-04-29T08:59:25.085Z"
   },
   {
    "duration": 270,
    "start_time": "2022-04-29T09:00:16.012Z"
   },
   {
    "duration": 81,
    "start_time": "2022-04-29T09:03:39.892Z"
   },
   {
    "duration": 19,
    "start_time": "2022-04-29T09:04:10.229Z"
   },
   {
    "duration": 6,
    "start_time": "2022-04-29T09:04:58.811Z"
   },
   {
    "duration": 13,
    "start_time": "2022-04-29T09:05:03.412Z"
   },
   {
    "duration": 318,
    "start_time": "2022-04-29T09:05:06.237Z"
   },
   {
    "duration": 7,
    "start_time": "2022-04-29T09:31:14.551Z"
   },
   {
    "duration": 14,
    "start_time": "2022-04-29T09:31:16.798Z"
   },
   {
    "duration": 254,
    "start_time": "2022-04-29T09:31:21.747Z"
   },
   {
    "duration": 16,
    "start_time": "2022-04-29T09:33:08.483Z"
   },
   {
    "duration": 11,
    "start_time": "2022-04-29T09:33:13.224Z"
   },
   {
    "duration": 206,
    "start_time": "2022-04-29T09:35:22.766Z"
   },
   {
    "duration": 193,
    "start_time": "2022-04-29T09:36:22.287Z"
   },
   {
    "duration": 8,
    "start_time": "2022-04-29T10:23:03.042Z"
   },
   {
    "duration": 292,
    "start_time": "2022-04-29T10:23:05.481Z"
   },
   {
    "duration": 21,
    "start_time": "2022-04-29T10:35:57.337Z"
   },
   {
    "duration": 2112,
    "start_time": "2022-04-29T10:37:21.343Z"
   },
   {
    "duration": 24,
    "start_time": "2022-04-29T10:37:51.833Z"
   },
   {
    "duration": 2448,
    "start_time": "2022-04-29T10:37:59.832Z"
   },
   {
    "duration": 14,
    "start_time": "2022-04-29T10:39:06.489Z"
   },
   {
    "duration": 2469,
    "start_time": "2022-04-29T10:39:11.828Z"
   },
   {
    "duration": 13,
    "start_time": "2022-04-29T10:39:41.946Z"
   },
   {
    "duration": 2229,
    "start_time": "2022-04-29T10:39:47.385Z"
   },
   {
    "duration": 308,
    "start_time": "2022-04-29T10:40:16.939Z"
   },
   {
    "duration": 18,
    "start_time": "2022-04-29T10:40:59.509Z"
   },
   {
    "duration": 299,
    "start_time": "2022-04-29T10:41:03.284Z"
   },
   {
    "duration": 12,
    "start_time": "2022-04-29T10:47:26.576Z"
   },
   {
    "duration": 322,
    "start_time": "2022-04-29T10:47:30.806Z"
   },
   {
    "duration": 1102,
    "start_time": "2022-04-29T12:06:51.976Z"
   },
   {
    "duration": 1138,
    "start_time": "2022-04-29T12:29:20.417Z"
   },
   {
    "duration": 34,
    "start_time": "2022-04-29T12:29:21.557Z"
   },
   {
    "duration": 17,
    "start_time": "2022-04-29T12:29:21.592Z"
   },
   {
    "duration": 24,
    "start_time": "2022-04-29T12:29:21.611Z"
   },
   {
    "duration": 3,
    "start_time": "2022-04-29T12:29:21.637Z"
   },
   {
    "duration": 17,
    "start_time": "2022-04-29T12:29:21.641Z"
   },
   {
    "duration": 12,
    "start_time": "2022-04-29T12:29:21.659Z"
   },
   {
    "duration": 17,
    "start_time": "2022-04-29T12:29:21.673Z"
   },
   {
    "duration": 33,
    "start_time": "2022-04-29T12:29:21.691Z"
   },
   {
    "duration": 7,
    "start_time": "2022-04-29T12:29:21.727Z"
   },
   {
    "duration": 15,
    "start_time": "2022-04-29T12:29:21.736Z"
   },
   {
    "duration": 5,
    "start_time": "2022-04-29T12:29:21.752Z"
   },
   {
    "duration": 8,
    "start_time": "2022-04-29T12:29:21.759Z"
   },
   {
    "duration": 173,
    "start_time": "2022-04-29T12:29:21.768Z"
   },
   {
    "duration": 7,
    "start_time": "2022-04-29T12:29:21.943Z"
   },
   {
    "duration": 9,
    "start_time": "2022-04-29T12:29:21.951Z"
   },
   {
    "duration": 14,
    "start_time": "2022-04-29T12:29:21.962Z"
   },
   {
    "duration": 6,
    "start_time": "2022-04-29T12:29:21.977Z"
   },
   {
    "duration": 9,
    "start_time": "2022-04-29T12:29:21.985Z"
   },
   {
    "duration": 6,
    "start_time": "2022-04-29T12:29:21.996Z"
   },
   {
    "duration": 25,
    "start_time": "2022-04-29T12:29:22.003Z"
   },
   {
    "duration": 19,
    "start_time": "2022-04-29T12:29:22.030Z"
   },
   {
    "duration": 8,
    "start_time": "2022-04-29T12:29:22.050Z"
   },
   {
    "duration": 8,
    "start_time": "2022-04-29T12:29:22.059Z"
   },
   {
    "duration": 8,
    "start_time": "2022-04-29T12:29:22.069Z"
   },
   {
    "duration": 11,
    "start_time": "2022-04-29T12:29:22.079Z"
   },
   {
    "duration": 37,
    "start_time": "2022-04-29T12:29:22.092Z"
   },
   {
    "duration": 13,
    "start_time": "2022-04-29T12:29:22.135Z"
   },
   {
    "duration": 21,
    "start_time": "2022-04-29T12:29:22.150Z"
   },
   {
    "duration": 65,
    "start_time": "2022-04-29T12:29:22.173Z"
   },
   {
    "duration": 58,
    "start_time": "2022-04-29T12:29:22.240Z"
   },
   {
    "duration": 34,
    "start_time": "2022-04-29T12:29:22.300Z"
   },
   {
    "duration": 177,
    "start_time": "2022-04-29T12:29:22.336Z"
   },
   {
    "duration": 260,
    "start_time": "2022-04-29T12:29:22.523Z"
   },
   {
    "duration": 7,
    "start_time": "2022-04-29T12:29:22.785Z"
   },
   {
    "duration": 14,
    "start_time": "2022-04-29T12:29:22.794Z"
   },
   {
    "duration": 372,
    "start_time": "2022-04-29T12:29:22.824Z"
   },
   {
    "duration": 6,
    "start_time": "2022-04-29T12:29:23.198Z"
   },
   {
    "duration": 14,
    "start_time": "2022-04-29T12:29:23.205Z"
   },
   {
    "duration": 244,
    "start_time": "2022-04-29T12:29:23.221Z"
   },
   {
    "duration": 16,
    "start_time": "2022-04-29T12:29:23.467Z"
   },
   {
    "duration": 7,
    "start_time": "2022-04-29T12:29:23.485Z"
   },
   {
    "duration": 190,
    "start_time": "2022-04-29T12:29:23.493Z"
   },
   {
    "duration": 167,
    "start_time": "2022-04-29T12:29:23.685Z"
   },
   {
    "duration": 17,
    "start_time": "2022-04-29T12:29:23.853Z"
   },
   {
    "duration": 3,
    "start_time": "2022-04-29T12:29:23.872Z"
   },
   {
    "duration": 140,
    "start_time": "2022-04-29T12:29:23.877Z"
   },
   {
    "duration": 194,
    "start_time": "2022-04-29T12:29:24.023Z"
   },
   {
    "duration": 9,
    "start_time": "2022-04-29T12:29:24.218Z"
   },
   {
    "duration": 6,
    "start_time": "2022-04-29T12:29:24.229Z"
   },
   {
    "duration": 203,
    "start_time": "2022-04-29T12:29:24.237Z"
   },
   {
    "duration": 1006,
    "start_time": "2022-04-29T12:29:24.441Z"
   },
   {
    "duration": 14,
    "start_time": "2022-04-29T12:29:25.449Z"
   },
   {
    "duration": 9,
    "start_time": "2022-04-29T12:29:25.465Z"
   },
   {
    "duration": 13,
    "start_time": "2022-04-29T12:29:25.476Z"
   },
   {
    "duration": 338,
    "start_time": "2022-04-29T12:29:25.491Z"
   },
   {
    "duration": 15,
    "start_time": "2022-04-29T12:29:25.831Z"
   },
   {
    "duration": 18,
    "start_time": "2022-04-29T12:29:25.847Z"
   },
   {
    "duration": 257,
    "start_time": "2022-04-29T12:29:25.867Z"
   },
   {
    "duration": 15,
    "start_time": "2022-04-29T12:29:26.126Z"
   },
   {
    "duration": 255,
    "start_time": "2022-04-29T12:29:26.143Z"
   },
   {
    "duration": 25,
    "start_time": "2022-04-29T12:29:26.400Z"
   },
   {
    "duration": 5,
    "start_time": "2022-04-29T12:29:26.427Z"
   },
   {
    "duration": 7,
    "start_time": "2022-04-29T12:29:26.433Z"
   },
   {
    "duration": 18,
    "start_time": "2022-04-29T12:29:26.441Z"
   },
   {
    "duration": 6,
    "start_time": "2022-04-29T12:29:26.460Z"
   },
   {
    "duration": 146,
    "start_time": "2022-04-29T12:29:26.467Z"
   },
   {
    "duration": 21,
    "start_time": "2022-04-29T12:29:26.615Z"
   },
   {
    "duration": 180,
    "start_time": "2022-04-29T12:29:26.638Z"
   },
   {
    "duration": 11,
    "start_time": "2022-04-29T12:29:26.823Z"
   },
   {
    "duration": 12,
    "start_time": "2022-04-29T12:29:26.836Z"
   },
   {
    "duration": 5,
    "start_time": "2022-04-29T12:29:26.850Z"
   },
   {
    "duration": 7,
    "start_time": "2022-04-29T12:29:26.857Z"
   },
   {
    "duration": 7,
    "start_time": "2022-04-29T12:29:26.866Z"
   },
   {
    "duration": 6,
    "start_time": "2022-04-29T12:29:26.874Z"
   },
   {
    "duration": 3,
    "start_time": "2022-04-29T12:29:26.882Z"
   },
   {
    "duration": 40,
    "start_time": "2022-04-29T12:29:26.887Z"
   },
   {
    "duration": 5,
    "start_time": "2022-04-29T12:29:26.928Z"
   },
   {
    "duration": 7,
    "start_time": "2022-04-29T12:29:26.934Z"
   },
   {
    "duration": 121,
    "start_time": "2022-04-29T12:29:26.943Z"
   },
   {
    "duration": 12,
    "start_time": "2022-04-29T12:29:27.066Z"
   },
   {
    "duration": 5,
    "start_time": "2022-04-29T12:29:27.083Z"
   },
   {
    "duration": 6,
    "start_time": "2022-04-29T12:29:27.089Z"
   },
   {
    "duration": 29,
    "start_time": "2022-04-29T12:29:27.097Z"
   },
   {
    "duration": 6,
    "start_time": "2022-04-29T12:29:27.127Z"
   },
   {
    "duration": 4,
    "start_time": "2022-04-29T12:29:27.135Z"
   },
   {
    "duration": 8,
    "start_time": "2022-04-29T12:29:27.141Z"
   },
   {
    "duration": 6,
    "start_time": "2022-04-29T12:29:27.150Z"
   },
   {
    "duration": 12,
    "start_time": "2022-04-29T12:29:27.158Z"
   },
   {
    "duration": 118,
    "start_time": "2022-04-29T13:40:08.728Z"
   },
   {
    "duration": 13,
    "start_time": "2022-04-29T14:43:08.016Z"
   },
   {
    "duration": 163,
    "start_time": "2022-04-29T14:43:11.712Z"
   },
   {
    "duration": 15,
    "start_time": "2022-04-29T14:43:27.032Z"
   },
   {
    "duration": 171,
    "start_time": "2022-04-29T14:43:28.591Z"
   },
   {
    "duration": 1184,
    "start_time": "2022-04-29T14:49:41.784Z"
   },
   {
    "duration": 36,
    "start_time": "2022-04-29T14:49:42.970Z"
   },
   {
    "duration": 23,
    "start_time": "2022-04-29T14:49:43.007Z"
   },
   {
    "duration": 14,
    "start_time": "2022-04-29T14:49:43.032Z"
   },
   {
    "duration": 8,
    "start_time": "2022-04-29T14:49:43.048Z"
   },
   {
    "duration": 15,
    "start_time": "2022-04-29T14:49:43.057Z"
   },
   {
    "duration": 13,
    "start_time": "2022-04-29T14:49:43.073Z"
   },
   {
    "duration": 36,
    "start_time": "2022-04-29T14:49:43.087Z"
   },
   {
    "duration": 13,
    "start_time": "2022-04-29T14:49:43.125Z"
   },
   {
    "duration": 15,
    "start_time": "2022-04-29T14:49:43.140Z"
   },
   {
    "duration": 21,
    "start_time": "2022-04-29T14:49:43.156Z"
   },
   {
    "duration": 5,
    "start_time": "2022-04-29T14:49:43.179Z"
   },
   {
    "duration": 6,
    "start_time": "2022-04-29T14:49:43.186Z"
   },
   {
    "duration": 179,
    "start_time": "2022-04-29T14:49:43.193Z"
   },
   {
    "duration": 7,
    "start_time": "2022-04-29T14:49:43.374Z"
   },
   {
    "duration": 18,
    "start_time": "2022-04-29T14:49:43.382Z"
   },
   {
    "duration": 11,
    "start_time": "2022-04-29T14:49:43.401Z"
   },
   {
    "duration": 16,
    "start_time": "2022-04-29T14:49:43.414Z"
   },
   {
    "duration": 10,
    "start_time": "2022-04-29T14:49:43.432Z"
   },
   {
    "duration": 7,
    "start_time": "2022-04-29T14:49:43.444Z"
   },
   {
    "duration": 10,
    "start_time": "2022-04-29T14:49:43.453Z"
   },
   {
    "duration": 17,
    "start_time": "2022-04-29T14:49:43.464Z"
   },
   {
    "duration": 41,
    "start_time": "2022-04-29T14:49:43.483Z"
   },
   {
    "duration": 7,
    "start_time": "2022-04-29T14:49:43.527Z"
   },
   {
    "duration": 11,
    "start_time": "2022-04-29T14:49:43.536Z"
   },
   {
    "duration": 7,
    "start_time": "2022-04-29T14:49:43.549Z"
   },
   {
    "duration": 7,
    "start_time": "2022-04-29T14:49:43.558Z"
   },
   {
    "duration": 11,
    "start_time": "2022-04-29T14:49:43.570Z"
   },
   {
    "duration": 57,
    "start_time": "2022-04-29T14:49:43.584Z"
   },
   {
    "duration": 32,
    "start_time": "2022-04-29T14:49:43.643Z"
   },
   {
    "duration": 84,
    "start_time": "2022-04-29T14:49:43.677Z"
   },
   {
    "duration": 19,
    "start_time": "2022-04-29T14:49:43.764Z"
   },
   {
    "duration": 190,
    "start_time": "2022-04-29T14:49:43.785Z"
   },
   {
    "duration": 269,
    "start_time": "2022-04-29T14:49:43.976Z"
   },
   {
    "duration": 8,
    "start_time": "2022-04-29T14:49:44.247Z"
   },
   {
    "duration": 13,
    "start_time": "2022-04-29T14:49:44.256Z"
   },
   {
    "duration": 397,
    "start_time": "2022-04-29T14:49:44.271Z"
   },
   {
    "duration": 7,
    "start_time": "2022-04-29T14:49:44.671Z"
   },
   {
    "duration": 12,
    "start_time": "2022-04-29T14:49:44.680Z"
   },
   {
    "duration": 254,
    "start_time": "2022-04-29T14:49:44.694Z"
   },
   {
    "duration": 19,
    "start_time": "2022-04-29T14:49:44.950Z"
   },
   {
    "duration": 10,
    "start_time": "2022-04-29T14:49:44.971Z"
   },
   {
    "duration": 185,
    "start_time": "2022-04-29T14:49:44.983Z"
   },
   {
    "duration": 169,
    "start_time": "2022-04-29T14:49:45.171Z"
   },
   {
    "duration": 16,
    "start_time": "2022-04-29T14:49:45.342Z"
   },
   {
    "duration": 5,
    "start_time": "2022-04-29T14:49:45.360Z"
   },
   {
    "duration": 143,
    "start_time": "2022-04-29T14:49:45.366Z"
   },
   {
    "duration": 196,
    "start_time": "2022-04-29T14:49:45.511Z"
   },
   {
    "duration": 4,
    "start_time": "2022-04-29T14:49:45.709Z"
   },
   {
    "duration": 5,
    "start_time": "2022-04-29T14:49:45.724Z"
   },
   {
    "duration": 202,
    "start_time": "2022-04-29T14:49:45.730Z"
   },
   {
    "duration": 1005,
    "start_time": "2022-04-29T14:49:45.933Z"
   },
   {
    "duration": 13,
    "start_time": "2022-04-29T14:49:46.940Z"
   },
   {
    "duration": 8,
    "start_time": "2022-04-29T14:49:46.955Z"
   },
   {
    "duration": 13,
    "start_time": "2022-04-29T14:49:46.964Z"
   },
   {
    "duration": 324,
    "start_time": "2022-04-29T14:49:46.978Z"
   },
   {
    "duration": 21,
    "start_time": "2022-04-29T14:49:47.304Z"
   },
   {
    "duration": 17,
    "start_time": "2022-04-29T14:49:47.326Z"
   },
   {
    "duration": 241,
    "start_time": "2022-04-29T14:49:47.344Z"
   },
   {
    "duration": 16,
    "start_time": "2022-04-29T14:49:47.587Z"
   },
   {
    "duration": 249,
    "start_time": "2022-04-29T14:49:47.604Z"
   },
   {
    "duration": 14,
    "start_time": "2022-04-29T14:49:47.855Z"
   },
   {
    "duration": 6,
    "start_time": "2022-04-29T14:49:47.870Z"
   },
   {
    "duration": 7,
    "start_time": "2022-04-29T14:49:47.877Z"
   },
   {
    "duration": 39,
    "start_time": "2022-04-29T14:49:47.886Z"
   },
   {
    "duration": 6,
    "start_time": "2022-04-29T14:49:47.927Z"
   },
   {
    "duration": 124,
    "start_time": "2022-04-29T14:49:47.936Z"
   },
   {
    "duration": 16,
    "start_time": "2022-04-29T14:49:48.062Z"
   },
   {
    "duration": 187,
    "start_time": "2022-04-29T14:49:48.080Z"
   },
   {
    "duration": 11,
    "start_time": "2022-04-29T14:49:48.269Z"
   },
   {
    "duration": 13,
    "start_time": "2022-04-29T14:49:48.281Z"
   },
   {
    "duration": 4,
    "start_time": "2022-04-29T14:49:48.296Z"
   },
   {
    "duration": 24,
    "start_time": "2022-04-29T14:49:48.302Z"
   },
   {
    "duration": 8,
    "start_time": "2022-04-29T14:49:48.328Z"
   },
   {
    "duration": 10,
    "start_time": "2022-04-29T14:49:48.338Z"
   },
   {
    "duration": 7,
    "start_time": "2022-04-29T14:49:48.350Z"
   },
   {
    "duration": 9,
    "start_time": "2022-04-29T14:49:48.358Z"
   },
   {
    "duration": 5,
    "start_time": "2022-04-29T14:49:48.368Z"
   },
   {
    "duration": 7,
    "start_time": "2022-04-29T14:49:48.374Z"
   },
   {
    "duration": 115,
    "start_time": "2022-04-29T14:49:48.383Z"
   },
   {
    "duration": 11,
    "start_time": "2022-04-29T14:49:48.499Z"
   },
   {
    "duration": 5,
    "start_time": "2022-04-29T14:49:48.523Z"
   },
   {
    "duration": 5,
    "start_time": "2022-04-29T14:49:48.529Z"
   },
   {
    "duration": 6,
    "start_time": "2022-04-29T14:49:48.536Z"
   },
   {
    "duration": 6,
    "start_time": "2022-04-29T14:49:48.543Z"
   },
   {
    "duration": 3,
    "start_time": "2022-04-29T14:49:48.551Z"
   },
   {
    "duration": 7,
    "start_time": "2022-04-29T14:49:48.555Z"
   },
   {
    "duration": 4,
    "start_time": "2022-04-29T14:49:48.564Z"
   },
   {
    "duration": 6,
    "start_time": "2022-04-29T14:49:48.570Z"
   },
   {
    "duration": 1304,
    "start_time": "2022-04-30T10:08:07.234Z"
   },
   {
    "duration": 41,
    "start_time": "2022-04-30T10:08:08.540Z"
   },
   {
    "duration": 19,
    "start_time": "2022-04-30T10:08:08.582Z"
   },
   {
    "duration": 14,
    "start_time": "2022-04-30T10:08:08.603Z"
   },
   {
    "duration": 3,
    "start_time": "2022-04-30T10:08:08.619Z"
   },
   {
    "duration": 17,
    "start_time": "2022-04-30T10:08:08.624Z"
   },
   {
    "duration": 32,
    "start_time": "2022-04-30T10:08:08.643Z"
   },
   {
    "duration": 13,
    "start_time": "2022-04-30T10:08:08.677Z"
   },
   {
    "duration": 16,
    "start_time": "2022-04-30T10:08:08.692Z"
   },
   {
    "duration": 10,
    "start_time": "2022-04-30T10:08:08.711Z"
   },
   {
    "duration": 17,
    "start_time": "2022-04-30T10:08:08.723Z"
   },
   {
    "duration": 34,
    "start_time": "2022-04-30T10:08:08.742Z"
   },
   {
    "duration": 6,
    "start_time": "2022-04-30T10:08:08.778Z"
   },
   {
    "duration": 170,
    "start_time": "2022-04-30T10:08:08.786Z"
   },
   {
    "duration": 7,
    "start_time": "2022-04-30T10:08:08.958Z"
   },
   {
    "duration": 7,
    "start_time": "2022-04-30T10:08:08.974Z"
   },
   {
    "duration": 9,
    "start_time": "2022-04-30T10:08:08.983Z"
   },
   {
    "duration": 11,
    "start_time": "2022-04-30T10:08:08.994Z"
   },
   {
    "duration": 11,
    "start_time": "2022-04-30T10:08:09.007Z"
   },
   {
    "duration": 7,
    "start_time": "2022-04-30T10:08:09.019Z"
   },
   {
    "duration": 8,
    "start_time": "2022-04-30T10:08:09.028Z"
   },
   {
    "duration": 50,
    "start_time": "2022-04-30T10:08:09.037Z"
   },
   {
    "duration": 9,
    "start_time": "2022-04-30T10:08:09.088Z"
   },
   {
    "duration": 7,
    "start_time": "2022-04-30T10:08:09.099Z"
   },
   {
    "duration": 7,
    "start_time": "2022-04-30T10:08:09.107Z"
   },
   {
    "duration": 6,
    "start_time": "2022-04-30T10:08:09.116Z"
   },
   {
    "duration": 9,
    "start_time": "2022-04-30T10:08:09.124Z"
   },
   {
    "duration": 33,
    "start_time": "2022-04-30T10:08:09.173Z"
   },
   {
    "duration": 73,
    "start_time": "2022-04-30T10:08:09.208Z"
   },
   {
    "duration": 18,
    "start_time": "2022-04-30T10:08:09.283Z"
   },
   {
    "duration": 198,
    "start_time": "2022-04-30T10:08:09.302Z"
   },
   {
    "duration": 276,
    "start_time": "2022-04-30T10:08:09.502Z"
   },
   {
    "duration": 8,
    "start_time": "2022-04-30T10:08:09.779Z"
   },
   {
    "duration": 15,
    "start_time": "2022-04-30T10:08:09.789Z"
   },
   {
    "duration": 418,
    "start_time": "2022-04-30T10:08:09.805Z"
   },
   {
    "duration": 7,
    "start_time": "2022-04-30T10:08:10.224Z"
   },
   {
    "duration": 17,
    "start_time": "2022-04-30T10:08:10.233Z"
   },
   {
    "duration": 259,
    "start_time": "2022-04-30T10:08:10.252Z"
   },
   {
    "duration": 19,
    "start_time": "2022-04-30T10:08:10.513Z"
   },
   {
    "duration": 13,
    "start_time": "2022-04-30T10:08:10.533Z"
   },
   {
    "duration": 195,
    "start_time": "2022-04-30T10:08:10.547Z"
   },
   {
    "duration": 178,
    "start_time": "2022-04-30T10:08:10.743Z"
   },
   {
    "duration": 18,
    "start_time": "2022-04-30T10:08:10.923Z"
   },
   {
    "duration": 4,
    "start_time": "2022-04-30T10:08:10.942Z"
   },
   {
    "duration": 272,
    "start_time": "2022-04-30T10:08:10.948Z"
   },
   {
    "duration": 158,
    "start_time": "2022-04-30T10:08:11.222Z"
   },
   {
    "duration": 6,
    "start_time": "2022-04-30T10:08:11.382Z"
   },
   {
    "duration": 6,
    "start_time": "2022-04-30T10:08:11.390Z"
   },
   {
    "duration": 212,
    "start_time": "2022-04-30T10:08:11.398Z"
   },
   {
    "duration": 1071,
    "start_time": "2022-04-30T10:08:11.612Z"
   },
   {
    "duration": 14,
    "start_time": "2022-04-30T10:08:12.685Z"
   },
   {
    "duration": 30,
    "start_time": "2022-04-30T10:08:12.701Z"
   },
   {
    "duration": 18,
    "start_time": "2022-04-30T10:08:12.733Z"
   },
   {
    "duration": 320,
    "start_time": "2022-04-30T10:08:12.753Z"
   },
   {
    "duration": 15,
    "start_time": "2022-04-30T10:08:13.075Z"
   },
   {
    "duration": 17,
    "start_time": "2022-04-30T10:08:13.091Z"
   },
   {
    "duration": 266,
    "start_time": "2022-04-30T10:08:13.110Z"
   },
   {
    "duration": 19,
    "start_time": "2022-04-30T10:08:13.377Z"
   },
   {
    "duration": 267,
    "start_time": "2022-04-30T10:08:13.398Z"
   },
   {
    "duration": 19,
    "start_time": "2022-04-30T10:08:13.667Z"
   },
   {
    "duration": 6,
    "start_time": "2022-04-30T10:08:13.688Z"
   },
   {
    "duration": 7,
    "start_time": "2022-04-30T10:08:13.695Z"
   },
   {
    "duration": 19,
    "start_time": "2022-04-30T10:08:13.703Z"
   },
   {
    "duration": 9,
    "start_time": "2022-04-30T10:08:13.724Z"
   },
   {
    "duration": 141,
    "start_time": "2022-04-30T10:08:13.734Z"
   },
   {
    "duration": 15,
    "start_time": "2022-04-30T10:08:13.876Z"
   },
   {
    "duration": 289,
    "start_time": "2022-04-30T10:08:13.893Z"
   },
   {
    "duration": 12,
    "start_time": "2022-04-30T10:08:14.183Z"
   },
   {
    "duration": 11,
    "start_time": "2022-04-30T10:08:14.196Z"
   },
   {
    "duration": 4,
    "start_time": "2022-04-30T10:08:14.209Z"
   },
   {
    "duration": 6,
    "start_time": "2022-04-30T10:08:14.214Z"
   },
   {
    "duration": 8,
    "start_time": "2022-04-30T10:08:14.221Z"
   },
   {
    "duration": 7,
    "start_time": "2022-04-30T10:08:14.230Z"
   },
   {
    "duration": 36,
    "start_time": "2022-04-30T10:08:14.238Z"
   },
   {
    "duration": 7,
    "start_time": "2022-04-30T10:08:14.276Z"
   },
   {
    "duration": 4,
    "start_time": "2022-04-30T10:08:14.285Z"
   },
   {
    "duration": 7,
    "start_time": "2022-04-30T10:08:14.291Z"
   },
   {
    "duration": 13,
    "start_time": "2022-04-30T10:08:14.300Z"
   },
   {
    "duration": 17,
    "start_time": "2022-04-30T10:08:14.314Z"
   },
   {
    "duration": 6,
    "start_time": "2022-04-30T10:08:14.333Z"
   },
   {
    "duration": 8,
    "start_time": "2022-04-30T10:08:14.340Z"
   },
   {
    "duration": 5,
    "start_time": "2022-04-30T10:08:14.374Z"
   },
   {
    "duration": 6,
    "start_time": "2022-04-30T10:08:14.381Z"
   },
   {
    "duration": 8,
    "start_time": "2022-04-30T10:08:14.389Z"
   },
   {
    "duration": 15,
    "start_time": "2022-04-30T10:08:14.398Z"
   },
   {
    "duration": 10,
    "start_time": "2022-04-30T10:08:14.415Z"
   },
   {
    "duration": 12,
    "start_time": "2022-04-30T10:08:14.426Z"
   },
   {
    "duration": 23,
    "start_time": "2022-04-30T10:18:59.531Z"
   },
   {
    "duration": 1114,
    "start_time": "2022-04-30T10:37:37.828Z"
   },
   {
    "duration": 48,
    "start_time": "2022-04-30T10:37:38.943Z"
   },
   {
    "duration": 18,
    "start_time": "2022-04-30T10:37:38.993Z"
   },
   {
    "duration": 14,
    "start_time": "2022-04-30T10:37:39.013Z"
   },
   {
    "duration": 2,
    "start_time": "2022-04-30T10:37:39.029Z"
   },
   {
    "duration": 21,
    "start_time": "2022-04-30T10:37:39.032Z"
   },
   {
    "duration": 39,
    "start_time": "2022-04-30T10:37:39.055Z"
   },
   {
    "duration": 18,
    "start_time": "2022-04-30T10:37:39.095Z"
   },
   {
    "duration": 15,
    "start_time": "2022-04-30T10:37:39.114Z"
   },
   {
    "duration": 12,
    "start_time": "2022-04-30T10:37:39.132Z"
   },
   {
    "duration": 34,
    "start_time": "2022-04-30T10:37:39.146Z"
   },
   {
    "duration": 8,
    "start_time": "2022-04-30T10:37:39.183Z"
   },
   {
    "duration": 8,
    "start_time": "2022-04-30T10:37:39.192Z"
   },
   {
    "duration": 171,
    "start_time": "2022-04-30T10:37:39.201Z"
   },
   {
    "duration": 8,
    "start_time": "2022-04-30T10:37:39.374Z"
   },
   {
    "duration": 10,
    "start_time": "2022-04-30T10:37:39.384Z"
   },
   {
    "duration": 12,
    "start_time": "2022-04-30T10:37:39.396Z"
   },
   {
    "duration": 6,
    "start_time": "2022-04-30T10:37:39.410Z"
   },
   {
    "duration": 15,
    "start_time": "2022-04-30T10:37:39.419Z"
   },
   {
    "duration": 6,
    "start_time": "2022-04-30T10:37:39.436Z"
   },
   {
    "duration": 33,
    "start_time": "2022-04-30T10:37:39.444Z"
   },
   {
    "duration": 26,
    "start_time": "2022-04-30T10:37:39.479Z"
   },
   {
    "duration": 23,
    "start_time": "2022-04-30T10:37:39.507Z"
   },
   {
    "duration": 10,
    "start_time": "2022-04-30T10:37:39.532Z"
   },
   {
    "duration": 8,
    "start_time": "2022-04-30T10:37:39.544Z"
   },
   {
    "duration": 21,
    "start_time": "2022-04-30T10:37:39.554Z"
   },
   {
    "duration": 7,
    "start_time": "2022-04-30T10:37:39.577Z"
   },
   {
    "duration": 41,
    "start_time": "2022-04-30T10:37:39.595Z"
   },
   {
    "duration": 77,
    "start_time": "2022-04-30T10:37:39.638Z"
   },
   {
    "duration": 16,
    "start_time": "2022-04-30T10:37:39.716Z"
   },
   {
    "duration": 204,
    "start_time": "2022-04-30T10:37:39.734Z"
   },
   {
    "duration": 293,
    "start_time": "2022-04-30T10:37:39.940Z"
   },
   {
    "duration": 8,
    "start_time": "2022-04-30T10:37:40.235Z"
   },
   {
    "duration": 29,
    "start_time": "2022-04-30T10:37:40.244Z"
   },
   {
    "duration": 433,
    "start_time": "2022-04-30T10:37:40.276Z"
   },
   {
    "duration": 6,
    "start_time": "2022-04-30T10:37:40.711Z"
   },
   {
    "duration": 15,
    "start_time": "2022-04-30T10:37:40.718Z"
   },
   {
    "duration": 277,
    "start_time": "2022-04-30T10:37:40.735Z"
   },
   {
    "duration": 21,
    "start_time": "2022-04-30T10:37:41.013Z"
   },
   {
    "duration": 7,
    "start_time": "2022-04-30T10:37:41.036Z"
   },
   {
    "duration": 196,
    "start_time": "2022-04-30T10:37:41.045Z"
   },
   {
    "duration": 184,
    "start_time": "2022-04-30T10:37:41.242Z"
   },
   {
    "duration": 20,
    "start_time": "2022-04-30T10:37:41.428Z"
   },
   {
    "duration": 2,
    "start_time": "2022-04-30T10:37:41.450Z"
   },
   {
    "duration": 176,
    "start_time": "2022-04-30T10:37:41.454Z"
   },
   {
    "duration": 234,
    "start_time": "2022-04-30T10:37:41.632Z"
   },
   {
    "duration": 7,
    "start_time": "2022-04-30T10:37:41.872Z"
   },
   {
    "duration": 23,
    "start_time": "2022-04-30T10:37:41.881Z"
   },
   {
    "duration": 233,
    "start_time": "2022-04-30T10:37:41.906Z"
   },
   {
    "duration": 1117,
    "start_time": "2022-04-30T10:37:42.140Z"
   },
   {
    "duration": 24,
    "start_time": "2022-04-30T10:37:43.259Z"
   },
   {
    "duration": 27,
    "start_time": "2022-04-30T10:37:43.285Z"
   },
   {
    "duration": 16,
    "start_time": "2022-04-30T10:37:43.313Z"
   },
   {
    "duration": 333,
    "start_time": "2022-04-30T10:37:43.330Z"
   },
   {
    "duration": 22,
    "start_time": "2022-04-30T10:37:43.673Z"
   },
   {
    "duration": 16,
    "start_time": "2022-04-30T10:37:43.697Z"
   },
   {
    "duration": 284,
    "start_time": "2022-04-30T10:37:43.715Z"
   },
   {
    "duration": 19,
    "start_time": "2022-04-30T10:37:44.001Z"
   },
   {
    "duration": 302,
    "start_time": "2022-04-30T10:37:44.022Z"
   },
   {
    "duration": 17,
    "start_time": "2022-04-30T10:37:44.326Z"
   },
   {
    "duration": 7,
    "start_time": "2022-04-30T10:37:44.344Z"
   },
   {
    "duration": 24,
    "start_time": "2022-04-30T10:37:44.352Z"
   },
   {
    "duration": 30,
    "start_time": "2022-04-30T10:37:44.379Z"
   },
   {
    "duration": 11,
    "start_time": "2022-04-30T10:37:44.411Z"
   },
   {
    "duration": 126,
    "start_time": "2022-04-30T10:37:44.424Z"
   },
   {
    "duration": 22,
    "start_time": "2022-04-30T10:37:44.552Z"
   },
   {
    "duration": 191,
    "start_time": "2022-04-30T10:37:44.577Z"
   },
   {
    "duration": 17,
    "start_time": "2022-04-30T10:37:44.773Z"
   },
   {
    "duration": 12,
    "start_time": "2022-04-30T10:37:44.791Z"
   },
   {
    "duration": 5,
    "start_time": "2022-04-30T10:37:44.805Z"
   },
   {
    "duration": 4,
    "start_time": "2022-04-30T10:37:44.812Z"
   },
   {
    "duration": 11,
    "start_time": "2022-04-30T10:37:44.818Z"
   },
   {
    "duration": 7,
    "start_time": "2022-04-30T10:37:44.831Z"
   },
   {
    "duration": 5,
    "start_time": "2022-04-30T10:37:44.840Z"
   },
   {
    "duration": 28,
    "start_time": "2022-04-30T10:37:44.847Z"
   },
   {
    "duration": 10,
    "start_time": "2022-04-30T10:37:44.877Z"
   },
   {
    "duration": 19,
    "start_time": "2022-04-30T10:37:44.888Z"
   },
   {
    "duration": 132,
    "start_time": "2022-04-30T10:37:44.909Z"
   },
   {
    "duration": 12,
    "start_time": "2022-04-30T10:37:45.043Z"
   },
   {
    "duration": 22,
    "start_time": "2022-04-30T10:37:45.057Z"
   },
   {
    "duration": 10,
    "start_time": "2022-04-30T10:37:45.081Z"
   },
   {
    "duration": 15,
    "start_time": "2022-04-30T10:37:45.098Z"
   },
   {
    "duration": 8,
    "start_time": "2022-04-30T10:37:45.114Z"
   },
   {
    "duration": 5,
    "start_time": "2022-04-30T10:37:45.123Z"
   },
   {
    "duration": 12,
    "start_time": "2022-04-30T10:37:45.130Z"
   },
   {
    "duration": 5,
    "start_time": "2022-04-30T10:37:45.144Z"
   },
   {
    "duration": 26,
    "start_time": "2022-04-30T10:37:45.151Z"
   },
   {
    "duration": 1734,
    "start_time": "2022-05-15T12:24:03.912Z"
   },
   {
    "duration": 58,
    "start_time": "2022-05-15T12:24:05.648Z"
   },
   {
    "duration": 24,
    "start_time": "2022-05-15T12:24:05.739Z"
   },
   {
    "duration": 4,
    "start_time": "2022-05-15T12:24:14.963Z"
   },
   {
    "duration": 19,
    "start_time": "2022-05-15T12:24:24.035Z"
   },
   {
    "duration": 12,
    "start_time": "2022-05-15T12:24:24.878Z"
   },
   {
    "duration": 9,
    "start_time": "2022-05-15T12:24:25.673Z"
   },
   {
    "duration": 14,
    "start_time": "2022-05-15T12:24:30.004Z"
   },
   {
    "duration": 7,
    "start_time": "2022-05-15T12:24:30.834Z"
   },
   {
    "duration": 5,
    "start_time": "2022-05-15T12:24:37.826Z"
   },
   {
    "duration": 147,
    "start_time": "2022-05-15T12:24:39.170Z"
   },
   {
    "duration": 8,
    "start_time": "2022-05-15T12:24:45.786Z"
   },
   {
    "duration": 7,
    "start_time": "2022-05-15T12:24:47.426Z"
   },
   {
    "duration": 8,
    "start_time": "2022-05-15T12:24:53.050Z"
   },
   {
    "duration": 7,
    "start_time": "2022-05-15T12:24:57.171Z"
   },
   {
    "duration": 19,
    "start_time": "2022-05-15T12:25:23.511Z"
   },
   {
    "duration": 291,
    "start_time": "2022-05-15T12:26:22.454Z"
   },
   {
    "duration": 7,
    "start_time": "2022-05-15T12:26:27.812Z"
   },
   {
    "duration": 13,
    "start_time": "2022-05-15T12:26:28.310Z"
   },
   {
    "duration": 362,
    "start_time": "2022-05-15T12:26:29.311Z"
   },
   {
    "duration": 5,
    "start_time": "2022-05-15T12:26:36.743Z"
   },
   {
    "duration": 11,
    "start_time": "2022-05-15T12:26:38.762Z"
   },
   {
    "duration": 243,
    "start_time": "2022-05-15T12:26:39.838Z"
   },
   {
    "duration": 10,
    "start_time": "2022-05-15T12:31:07.575Z"
   },
   {
    "duration": 9,
    "start_time": "2022-05-15T12:32:16.670Z"
   },
   {
    "duration": 4,
    "start_time": "2022-05-15T12:34:05.171Z"
   },
   {
    "duration": 3,
    "start_time": "2022-05-15T12:34:32.951Z"
   },
   {
    "duration": 4,
    "start_time": "2022-05-15T12:35:04.095Z"
   },
   {
    "duration": 5,
    "start_time": "2022-05-15T12:35:38.140Z"
   },
   {
    "duration": 3,
    "start_time": "2022-05-15T12:38:38.326Z"
   },
   {
    "duration": 5,
    "start_time": "2022-05-15T12:38:41.560Z"
   },
   {
    "duration": 3,
    "start_time": "2022-05-15T12:38:44.883Z"
   },
   {
    "duration": 6,
    "start_time": "2022-05-15T12:38:47.896Z"
   },
   {
    "duration": 15,
    "start_time": "2022-05-15T12:43:48.116Z"
   },
   {
    "duration": 11,
    "start_time": "2022-05-15T12:44:30.616Z"
   },
   {
    "duration": 4,
    "start_time": "2022-05-15T12:44:48.323Z"
   },
   {
    "duration": 3,
    "start_time": "2022-05-15T12:46:06.338Z"
   },
   {
    "duration": 5,
    "start_time": "2022-05-15T12:46:26.178Z"
   },
   {
    "duration": 2,
    "start_time": "2022-05-15T12:48:42.430Z"
   },
   {
    "duration": 6,
    "start_time": "2022-05-15T12:48:43.438Z"
   },
   {
    "duration": 3,
    "start_time": "2022-05-15T12:48:46.765Z"
   },
   {
    "duration": 4,
    "start_time": "2022-05-15T12:49:00.033Z"
   },
   {
    "duration": 6,
    "start_time": "2022-05-15T13:46:20.224Z"
   },
   {
    "duration": 14,
    "start_time": "2022-05-15T13:46:40.956Z"
   },
   {
    "duration": 4,
    "start_time": "2022-05-15T13:47:18.650Z"
   },
   {
    "duration": 95,
    "start_time": "2022-05-15T13:50:21.222Z"
   },
   {
    "duration": 14,
    "start_time": "2022-05-15T13:51:14.352Z"
   },
   {
    "duration": 292,
    "start_time": "2022-05-15T13:51:25.312Z"
   },
   {
    "duration": 175,
    "start_time": "2022-05-15T14:05:52.028Z"
   },
   {
    "duration": 163,
    "start_time": "2022-05-15T14:15:06.615Z"
   }
  ],
  "kernelspec": {
   "display_name": "Python 3 (ipykernel)",
   "language": "python",
   "name": "python3"
  },
  "language_info": {
   "codemirror_mode": {
    "name": "ipython",
    "version": 3
   },
   "file_extension": ".py",
   "mimetype": "text/x-python",
   "name": "python",
   "nbconvert_exporter": "python",
   "pygments_lexer": "ipython3",
   "version": "3.9.7"
  },
  "toc": {
   "base_numbering": 1,
   "nav_menu": {},
   "number_sections": true,
   "sideBar": true,
   "skip_h1_title": true,
   "title_cell": "Содержание",
   "title_sidebar": "Contents",
   "toc_cell": true,
   "toc_position": {},
   "toc_section_display": true,
   "toc_window_display": true
  }
 },
 "nbformat": 4,
 "nbformat_minor": 5
}
