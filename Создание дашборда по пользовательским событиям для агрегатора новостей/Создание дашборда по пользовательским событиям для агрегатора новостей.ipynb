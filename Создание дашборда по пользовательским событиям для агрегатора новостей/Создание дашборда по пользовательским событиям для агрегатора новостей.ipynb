{
 "cells": [
  {
   "cell_type": "markdown",
   "id": "b5778905",
   "metadata": {
    "toc": true
   },
   "source": [
    "<h1>Содержание<span class=\"tocSkip\"></span></h1>\n",
    "<div class=\"toc\"><ul class=\"toc-item\"><li><span><a href=\"#Запрос\" data-toc-modified-id=\"Запрос-1\"><span class=\"toc-item-num\">1&nbsp;&nbsp;</span>Запрос</a></span></li><li><span><a href=\"#Вывод\" data-toc-modified-id=\"Вывод-2\"><span class=\"toc-item-num\">2&nbsp;&nbsp;</span>Вывод</a></span></li></ul></div>"
   ]
  },
  {
   "cell_type": "markdown",
   "id": "08f057c6",
   "metadata": {},
   "source": [
    "# Создание дашборда по пользовательским событиям для агрегатора новостей"
   ]
  },
  {
   "cell_type": "markdown",
   "id": "e4226766",
   "metadata": {},
   "source": [
    "Менеджерам по анализу контента Яндекс. Дзен еженедельно необходима свежая информация о взаимодействии пользователей с карточками статей.\n",
    "\n",
    "Каждую карточку в системе определяет ее тема и источник (у него тоже есть тема). Пользователи распределяются по возрастным категориям.\n",
    "\n",
    "Для автоматизации процесса создадим дашборд.\n",
    "Дашборд будет основываться на пайплайне, который будет брать данные из таблиц, хранящих сырые данные, трансформировать данные и укладывать их в агрегирующюю таблицу.\n",
    "\n",
    "**Задачи данной работы:**\n",
    "\n",
    " - выгрузить информацию из базы данных в файл `csv`\n",
    " \n",
    " - используя файл сформировать дашборд в программе Tableau Public\n",
    " \n",
    " - ответить на вопросы менеджеров:\n",
    " \n",
    "\n",
    "**Таким образом работа пройдет по следующим этапам:**\n",
    "\n",
    " - создадим коннекцию к базе\n",
    " - напишем код для выгрузки данных из таблицы `dash_visits` в файл `dash_visits.csv`\n",
    " - проверим данные\n",
    "\n",
    " - построим дашборд и постараемся ответить на вопросы менеджеров:\n",
    "\n",
    "   - Cколько взаимодействий пользователей с карточками происходит в системе с разбивкой по темам карточек? Исследуем абсолютные и относительные величины (% событий).\n",
    "   - Как много карточек генерируют источники с разными темами? Исследуем относительные величины (% событий)\n",
    "   - Как соотносятся темы карточек и темы источников?\n",
    "\n",
    "**Подготовим презентацию с отчетом - ответы на вопросы и графики.**"
   ]
  },
  {
   "cell_type": "markdown",
   "id": "10519421",
   "metadata": {},
   "source": [
    "## Запрос"
   ]
  },
  {
   "cell_type": "markdown",
   "id": "6562558b",
   "metadata": {},
   "source": [
    " - Создадим запрос к базе данных и сохраним информацию в csv-файл"
   ]
  },
  {
   "cell_type": "code",
   "execution_count": 1,
   "id": "6d2877fa",
   "metadata": {},
   "outputs": [],
   "source": [
    "#!/usr/bin/python\n",
    "# -*- coding: utf-8 -*-\n",
    "\n",
    "import pandas as pd\n",
    "from sqlalchemy import create_engine  # импортируем библиотеки\n",
    "\n",
    "#!pip3 install psycopg2"
   ]
  },
  {
   "cell_type": "code",
   "execution_count": 2,
   "id": "cf1e905b",
   "metadata": {},
   "outputs": [],
   "source": [
    "# создадим коннекцию к базе\n",
    "\n",
    "db_config = {'user': 'praktikum_student', # имя пользователя\n",
    "            'pwd': 'Sdf4$2;d-d30pp', # пароль\n",
    "            'host': 'rc1b-wcoijxj3yxfsf3fs.mdb.yandexcloud.net',\n",
    "            'port': 6432, # порт подключения\n",
    "            'db': 'data-analyst-zen-project-db'} # название базы данных\n",
    "\n",
    "connection_string = 'postgresql://{}:{}@{}:{}/{}'.format(db_config['user'],\n",
    "                                                db_config['pwd'],\n",
    "                                                db_config['host'],\n",
    "                                                db_config['port'],\n",
    "                                                db_config['db'])\n",
    "\n",
    "engine = create_engine(connection_string)"
   ]
  },
  {
   "cell_type": "code",
   "execution_count": 3,
   "id": "589b5b66",
   "metadata": {},
   "outputs": [],
   "source": [
    "query = '''                  \n",
    "           SELECT *\n",
    "           FROM dash_visits\n",
    "        '''\n",
    "\n",
    "log_raw = pd.io.sql.read_sql(query, con = engine)  # напишем sql-запрос"
   ]
  },
  {
   "cell_type": "code",
   "execution_count": 4,
   "id": "4f0cab11",
   "metadata": {},
   "outputs": [
    {
     "data": {
      "text/html": [
       "<div>\n",
       "<style scoped>\n",
       "    .dataframe tbody tr th:only-of-type {\n",
       "        vertical-align: middle;\n",
       "    }\n",
       "\n",
       "    .dataframe tbody tr th {\n",
       "        vertical-align: top;\n",
       "    }\n",
       "\n",
       "    .dataframe thead th {\n",
       "        text-align: right;\n",
       "    }\n",
       "</style>\n",
       "<table border=\"1\" class=\"dataframe\">\n",
       "  <thead>\n",
       "    <tr style=\"text-align: right;\">\n",
       "      <th></th>\n",
       "      <th>record_id</th>\n",
       "      <th>item_topic</th>\n",
       "      <th>source_topic</th>\n",
       "      <th>age_segment</th>\n",
       "      <th>dt</th>\n",
       "      <th>visits</th>\n",
       "    </tr>\n",
       "  </thead>\n",
       "  <tbody>\n",
       "    <tr>\n",
       "      <th>0</th>\n",
       "      <td>1040597</td>\n",
       "      <td>Деньги</td>\n",
       "      <td>Авто</td>\n",
       "      <td>18-25</td>\n",
       "      <td>2019-09-24 18:32:00</td>\n",
       "      <td>3</td>\n",
       "    </tr>\n",
       "    <tr>\n",
       "      <th>1</th>\n",
       "      <td>1040598</td>\n",
       "      <td>Деньги</td>\n",
       "      <td>Авто</td>\n",
       "      <td>18-25</td>\n",
       "      <td>2019-09-24 18:35:00</td>\n",
       "      <td>1</td>\n",
       "    </tr>\n",
       "    <tr>\n",
       "      <th>2</th>\n",
       "      <td>1040599</td>\n",
       "      <td>Деньги</td>\n",
       "      <td>Авто</td>\n",
       "      <td>18-25</td>\n",
       "      <td>2019-09-24 18:54:00</td>\n",
       "      <td>4</td>\n",
       "    </tr>\n",
       "    <tr>\n",
       "      <th>3</th>\n",
       "      <td>1040600</td>\n",
       "      <td>Деньги</td>\n",
       "      <td>Авто</td>\n",
       "      <td>18-25</td>\n",
       "      <td>2019-09-24 18:55:00</td>\n",
       "      <td>17</td>\n",
       "    </tr>\n",
       "    <tr>\n",
       "      <th>4</th>\n",
       "      <td>1040601</td>\n",
       "      <td>Деньги</td>\n",
       "      <td>Авто</td>\n",
       "      <td>18-25</td>\n",
       "      <td>2019-09-24 18:56:00</td>\n",
       "      <td>27</td>\n",
       "    </tr>\n",
       "  </tbody>\n",
       "</table>\n",
       "</div>"
      ],
      "text/plain": [
       "   record_id item_topic source_topic age_segment                  dt  visits\n",
       "0    1040597     Деньги         Авто       18-25 2019-09-24 18:32:00       3\n",
       "1    1040598     Деньги         Авто       18-25 2019-09-24 18:35:00       1\n",
       "2    1040599     Деньги         Авто       18-25 2019-09-24 18:54:00       4\n",
       "3    1040600     Деньги         Авто       18-25 2019-09-24 18:55:00      17\n",
       "4    1040601     Деньги         Авто       18-25 2019-09-24 18:56:00      27"
      ]
     },
     "execution_count": 4,
     "metadata": {},
     "output_type": "execute_result"
    }
   ],
   "source": [
    "log_raw.to_csv('dash_visits.csv', index = False)\n",
    "df = log_raw\n",
    "df.head(5) "
   ]
  },
  {
   "cell_type": "markdown",
   "id": "ad434474",
   "metadata": {},
   "source": [
    " - Изучим данные\n",
    " - Проверим столбцы"
   ]
  },
  {
   "cell_type": "code",
   "execution_count": 5,
   "id": "6fe541cc",
   "metadata": {
    "scrolled": true
   },
   "outputs": [
    {
     "name": "stdout",
     "output_type": "stream",
     "text": [
      "<class 'pandas.core.frame.DataFrame'>\n",
      "RangeIndex: 30745 entries, 0 to 30744\n",
      "Data columns (total 6 columns):\n",
      " #   Column        Non-Null Count  Dtype         \n",
      "---  ------        --------------  -----         \n",
      " 0   record_id     30745 non-null  int64         \n",
      " 1   item_topic    30745 non-null  object        \n",
      " 2   source_topic  30745 non-null  object        \n",
      " 3   age_segment   30745 non-null  object        \n",
      " 4   dt            30745 non-null  datetime64[ns]\n",
      " 5   visits        30745 non-null  int64         \n",
      "dtypes: datetime64[ns](1), int64(2), object(3)\n",
      "memory usage: 1.4+ MB\n"
     ]
    }
   ],
   "source": [
    "df.info() "
   ]
  },
  {
   "cell_type": "code",
   "execution_count": 6,
   "id": "6b97d4d7",
   "metadata": {},
   "outputs": [
    {
     "name": "stdout",
     "output_type": "stream",
     "text": [
      "Всего явных дубликатов:  0\n"
     ]
    }
   ],
   "source": [
    "print('Всего явных дубликатов: ', df.duplicated().sum())"
   ]
  },
  {
   "cell_type": "code",
   "execution_count": 7,
   "id": "d457bcd7",
   "metadata": {},
   "outputs": [
    {
     "name": "stdout",
     "output_type": "stream",
     "text": [
      "Всего уникальных идентификаторов:  30745\n"
     ]
    }
   ],
   "source": [
    "print('Всего уникальных идентификаторов: ', df['record_id'].nunique())"
   ]
  },
  {
   "cell_type": "code",
   "execution_count": 8,
   "id": "51178441",
   "metadata": {
    "scrolled": false
   },
   "outputs": [
    {
     "name": "stdout",
     "output_type": "stream",
     "text": [
      "Отношения             1536\n",
      "Интересные факты      1535\n",
      "Наука                 1505\n",
      "Подборки              1456\n",
      "Полезные советы       1424\n",
      "Общество              1422\n",
      "Россия                1385\n",
      "История               1363\n",
      "Семья                 1287\n",
      "Путешествия           1247\n",
      "Деньги                1234\n",
      "Женщины               1230\n",
      "Дети                  1229\n",
      "Туризм                1206\n",
      "Здоровье              1203\n",
      "Красота               1193\n",
      "Культура              1160\n",
      "Юмор                  1129\n",
      "Искусство             1119\n",
      "Рассказы              1109\n",
      "Психология            1056\n",
      "Скандалы              1023\n",
      "Знаменитости           976\n",
      "Женская психология     914\n",
      "Шоу                    804\n",
      "Name: item_topic, dtype: int64\n",
      "Семейные отношения    1822\n",
      "Россия                1687\n",
      "Знаменитости          1650\n",
      "Полезные советы       1578\n",
      "Путешествия           1563\n",
      "Кино                  1505\n",
      "Дети                  1459\n",
      "История               1437\n",
      "Семья                 1405\n",
      "Одежда                1379\n",
      "Здоровье              1243\n",
      "Искусство             1228\n",
      "Авто                  1077\n",
      "Психология            1055\n",
      "Сад и дача            1036\n",
      "Политика              1024\n",
      "Спорт                 1007\n",
      "Сделай сам             995\n",
      "Ремонт                 985\n",
      "Деньги                 973\n",
      "Еда                    912\n",
      "Интерьеры              809\n",
      "Строительство          758\n",
      "Музыка                 750\n",
      "Технологии             741\n",
      "Финансы                667\n",
      "Name: source_topic, dtype: int64\n",
      "18-25    7056\n",
      "26-30    5875\n",
      "31-35    5552\n",
      "36-40    5105\n",
      "41-45    3903\n",
      "45+      3254\n",
      "Name: age_segment, dtype: int64\n"
     ]
    }
   ],
   "source": [
    "for column in ['item_topic','source_topic','age_segment']: # проверим строковые столбцы\n",
    "    print(df[column].value_counts())"
   ]
  },
  {
   "cell_type": "code",
   "execution_count": 9,
   "id": "3e632782",
   "metadata": {},
   "outputs": [
    {
     "name": "stdout",
     "output_type": "stream",
     "text": [
      "Максимальная дата: 2019-09-24 19:00:00\n",
      "\n",
      "Минимальная дата: 2019-09-24 18:28:00\n",
      "\n",
      "Период для данных: 0 days 00:32:00\n"
     ]
    }
   ],
   "source": [
    "print('Максимальная дата: {}'.format( df['dt'].max()))  # изучим столбец с датами\n",
    "print('')\n",
    "print('Минимальная дата: {}'.format(df['dt'].min()))\n",
    "print('')\n",
    "print('Период для данных: {}'.format(df['dt'].max() - df['dt'].min()))"
   ]
  },
  {
   "cell_type": "code",
   "execution_count": 10,
   "id": "31d70f94",
   "metadata": {},
   "outputs": [
    {
     "data": {
      "text/plain": [
       "array(['2019-09-24T18:28:00.000000000', '2019-09-24T18:29:00.000000000',\n",
       "       '2019-09-24T18:30:00.000000000', '2019-09-24T18:31:00.000000000',\n",
       "       '2019-09-24T18:32:00.000000000', '2019-09-24T18:33:00.000000000',\n",
       "       '2019-09-24T18:34:00.000000000', '2019-09-24T18:35:00.000000000',\n",
       "       '2019-09-24T18:52:00.000000000', '2019-09-24T18:53:00.000000000',\n",
       "       '2019-09-24T18:54:00.000000000', '2019-09-24T18:55:00.000000000',\n",
       "       '2019-09-24T18:56:00.000000000', '2019-09-24T18:57:00.000000000',\n",
       "       '2019-09-24T18:58:00.000000000', '2019-09-24T18:59:00.000000000',\n",
       "       '2019-09-24T19:00:00.000000000'], dtype='datetime64[ns]')"
      ]
     },
     "execution_count": 10,
     "metadata": {},
     "output_type": "execute_result"
    }
   ],
   "source": [
    "df['dt'].sort_values().unique()"
   ]
  },
  {
   "cell_type": "markdown",
   "id": "43f9e7fb",
   "metadata": {},
   "source": [
    "*Комментарий* \n",
    "\n",
    "Анализируем небольшой временной период в 30 минут, 17 уникальных значений временных отметок"
   ]
  },
  {
   "cell_type": "code",
   "execution_count": 11,
   "id": "bb1e8e99",
   "metadata": {},
   "outputs": [
    {
     "data": {
      "text/plain": [
       "count    30745.000000\n",
       "mean        10.089673\n",
       "std         19.727601\n",
       "min          1.000000\n",
       "25%          1.000000\n",
       "50%          3.000000\n",
       "75%         10.000000\n",
       "max        371.000000\n",
       "Name: visits, dtype: float64"
      ]
     },
     "execution_count": 11,
     "metadata": {},
     "output_type": "execute_result"
    }
   ],
   "source": [
    "df['visits'].describe()   # изучим как распределяются визиты"
   ]
  },
  {
   "cell_type": "code",
   "execution_count": 12,
   "id": "2ff89a81",
   "metadata": {},
   "outputs": [
    {
     "data": {
      "image/png": "[encoded data removed]",
      "text/plain": [
       "<Figure size 864x288 with 1 Axes>"
      ]
     },
     "metadata": {
      "needs_background": "light"
     },
     "output_type": "display_data"
    }
   ],
   "source": [
    "df.hist('visits', bins=50, figsize=(12,4));"
   ]
  },
  {
   "cell_type": "code",
   "execution_count": 13,
   "id": "2376f232",
   "metadata": {},
   "outputs": [
    {
     "data": {
      "image/png": "[encoded data removed]",
      "text/plain": [
       "<Figure size 864x288 with 1 Axes>"
      ]
     },
     "metadata": {
      "needs_background": "light"
     },
     "output_type": "display_data"
    }
   ],
   "source": [
    "df.hist('visits', bins=50, figsize=(12,4), range=(120,372));"
   ]
  },
  {
   "cell_type": "markdown",
   "id": "d33b2d4c",
   "metadata": {},
   "source": [
    "*Комментарий*\n",
    "\n",
    " - В столбце `visits` есть выбросы до 371. Подавляющее большинство значений расположено от 1 до 25."
   ]
  },
  {
   "cell_type": "markdown",
   "id": "64cbda6e",
   "metadata": {},
   "source": [
    "## Вывод\n",
    "\n",
    " - В таблице 6 столбцов. Количество строк во всех столбцах одинаковое, значит пропусков нет.\n",
    " - Тип данных для всех столбцов соответствующий.\n",
    " - Все идентификаторы уникальны. Число идентификаторов равно числу строк в таблице\n",
    " - Дубликатов не выявили.\n",
    " - В описании строковых столбцов аномалий не выявили\n",
    "  \n",
    "**Все табличные данные в порядке. Изменнений и корректировок не вносим. Используем выгруженый файл  `dash_visits.csv` для создания дашборда в Tableau Public**"
   ]
  },
  {
   "cell_type": "markdown",
   "id": "fe317c6e",
   "metadata": {},
   "source": [
    "[Ссылка на публикацию дашборда в Tableau Public](https://public.tableau.com/views/VisitsDashboard_16574803945030/sheet4?:language=en-US&publish=yes&:display_count=n&:origin=viz_share_link)"
   ]
  }
 ],
 "metadata": {
  "ExecuteTimeLog": [
   {
    "duration": 788,
    "start_time": "2022-04-06T19:08:52.963Z"
   },
   {
    "duration": 465,
    "start_time": "2022-04-06T19:09:21.132Z"
   },
   {
    "duration": 18,
    "start_time": "2022-04-06T19:12:13.551Z"
   },
   {
    "duration": 13,
    "start_time": "2022-04-06T19:12:17.154Z"
   },
   {
    "duration": 107,
    "start_time": "2022-04-06T19:39:03.001Z"
   },
   {
    "duration": 9,
    "start_time": "2022-04-06T19:39:14.858Z"
   },
   {
    "duration": 8,
    "start_time": "2022-04-06T19:39:49.945Z"
   },
   {
    "duration": 483,
    "start_time": "2022-07-13T15:20:26.790Z"
   },
   {
    "duration": 12202,
    "start_time": "2022-07-13T15:20:27.275Z"
   },
   {
    "duration": 190,
    "start_time": "2022-07-13T15:20:39.478Z"
   },
   {
    "duration": 229,
    "start_time": "2022-07-13T15:20:39.670Z"
   },
   {
    "duration": 14,
    "start_time": "2022-07-13T15:20:39.901Z"
   },
   {
    "duration": 19,
    "start_time": "2022-07-13T15:20:39.917Z"
   },
   {
    "duration": 4,
    "start_time": "2022-07-13T15:20:39.937Z"
   },
   {
    "duration": 18,
    "start_time": "2022-07-13T15:20:39.943Z"
   },
   {
    "duration": 8,
    "start_time": "2022-07-13T15:20:39.963Z"
   },
   {
    "duration": 6,
    "start_time": "2022-07-13T15:20:39.973Z"
   },
   {
    "duration": 8,
    "start_time": "2022-07-13T15:20:39.981Z"
   },
   {
    "duration": 574,
    "start_time": "2022-07-13T15:20:39.990Z"
   },
   {
    "duration": 201,
    "start_time": "2022-07-13T15:20:40.566Z"
   }
  ],
  "kernelspec": {
   "display_name": "Python 3 (ipykernel)",
   "language": "python",
   "name": "python3"
  },
  "language_info": {
   "codemirror_mode": {
    "name": "ipython",
    "version": 3
   },
   "file_extension": ".py",
   "mimetype": "text/x-python",
   "name": "python",
   "nbconvert_exporter": "python",
   "pygments_lexer": "ipython3",
   "version": "3.9.7"
  },
  "toc": {
   "base_numbering": 1,
   "nav_menu": {
    "height": "118px",
    "width": "238px"
   },
   "number_sections": true,
   "sideBar": true,
   "skip_h1_title": true,
   "title_cell": "Содержание",
   "title_sidebar": "Contents",
   "toc_cell": true,
   "toc_position": {},
   "toc_section_display": true,
   "toc_window_display": true
  }
 },
 "nbformat": 4,
 "nbformat_minor": 5
}
