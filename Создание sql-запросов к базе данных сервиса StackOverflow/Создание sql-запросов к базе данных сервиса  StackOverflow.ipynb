{
 "cells": [
  {
   "cell_type": "markdown",
   "id": "08f057c6",
   "metadata": {},
   "source": [
    "# Создание sql-запросов к базе данных сервиса StackOverflow"
   ]
  },
  {
   "cell_type": "markdown",
   "id": "e4226766",
   "metadata": {},
   "source": [
    "В проекте мы напишем sql-запросы для решения задач самостоятельного проекта в допкурсе Продвинутый SQL. Результаты запросов проверены тренажером Яндекс.Практикума\n",
    "\n",
    "Проект выполним, используя базу данных StackOverflow — сервиса вопросов и ответов о программировании. \n",
    "\n",
    "StackOverflow похож на социальную сеть — пользователи сервиса задают вопросы, отвечают на посты, оставляют комментарии и ставят оценки другим ответам.\n",
    "Мы будем работать с версией базы, где хранятся данные о постах за 2008 год, но в таблицах можно найти информацию и о более поздних оценках, которые эти посты получили.\n",
    "\n",
    "Данные в базе находятся в таблицах\n",
    "\n",
    " - badges\n",
    " - post_types\n",
    " - posts\n",
    " - users\n",
    " - vote_types\n",
    " - votes\n",
    "\n",
    "\n",
    "**Задачи данной работы:**\n",
    "\n",
    " - выгрузить информацию из базы данных в файлы `csv`\n",
    " \n",
    " - исследовать таблицы\n",
    " \n",
    " - написать SQL-запросы\n",
    " \n",
    "\n",
    "**Таким образом работа пройдет по следующим этапам:**\n",
    "\n",
    " - создадим коннекцию к базе\n",
    " - напишем код для выгрузки данных \n",
    " - напишем SQL-запросы\n",
    "  "
   ]
  },
  {
   "cell_type": "markdown",
   "id": "10519421",
   "metadata": {},
   "source": [
    "## Запрос к базе данных"
   ]
  },
  {
   "cell_type": "markdown",
   "id": "6562558b",
   "metadata": {},
   "source": [
    " - Создадим запрос к базе данных и сохраним информацию в csv-файл"
   ]
  },
  {
   "cell_type": "code",
   "execution_count": 1,
   "id": "6d2877fa",
   "metadata": {},
   "outputs": [],
   "source": [
    "#!pip install ipython-sql               # импортируем библиотеки\n",
    "#!pip3 install psycopg2\n",
    "\n",
    "import pandas as pd\n",
    "from sqlalchemy import create_engine  "
   ]
  },
  {
   "cell_type": "code",
   "execution_count": 2,
   "id": "c795a443",
   "metadata": {},
   "outputs": [],
   "source": [
    "# устанавливаем параметры\n",
    "db_config = {'user': 'praktikum_student', # имя пользователя\n",
    "             'pwd': 'Sdf4$2;d-d30pp', # пароль\n",
    "             'host': 'rc1b-wcoijxj3yxfsf3fs.mdb.yandexcloud.net',\n",
    "             'port': 6432, # порт подключения\n",
    "             'db': 'data-analyst-advanced-sql'} # название базы данных\n",
    "connection_string = 'postgresql://{}:{}@{}:{}/{}'.format(db_config['user'],\n",
    "                                                        db_config['pwd'],\n",
    "                                                        db_config['host'],\n",
    "                                                        db_config['port'],\n",
    "                                                        db_config['db'])\n",
    "# сохраняем коннектор\n",
    "engine = create_engine(connection_string, connect_args={'sslmode':'require'})\n",
    "                                               "
   ]
  },
  {
   "cell_type": "code",
   "execution_count": 3,
   "id": "4e354fed",
   "metadata": {},
   "outputs": [
    {
     "data": {
      "text/html": [
       "<div>\n",
       "<style scoped>\n",
       "    .dataframe tbody tr th:only-of-type {\n",
       "        vertical-align: middle;\n",
       "    }\n",
       "\n",
       "    .dataframe tbody tr th {\n",
       "        vertical-align: top;\n",
       "    }\n",
       "\n",
       "    .dataframe thead th {\n",
       "        text-align: right;\n",
       "    }\n",
       "</style>\n",
       "<table border=\"1\" class=\"dataframe\">\n",
       "  <thead>\n",
       "    <tr style=\"text-align: right;\">\n",
       "      <th></th>\n",
       "      <th>id</th>\n",
       "      <th>name</th>\n",
       "      <th>user_id</th>\n",
       "      <th>creation_date</th>\n",
       "    </tr>\n",
       "  </thead>\n",
       "  <tbody>\n",
       "    <tr>\n",
       "      <th>0</th>\n",
       "      <td>82947</td>\n",
       "      <td>Teacher</td>\n",
       "      <td>994</td>\n",
       "      <td>2008-09-15 08:55:04</td>\n",
       "    </tr>\n",
       "    <tr>\n",
       "      <th>1</th>\n",
       "      <td>82949</td>\n",
       "      <td>Teacher</td>\n",
       "      <td>3893</td>\n",
       "      <td>2008-09-15 08:55:04</td>\n",
       "    </tr>\n",
       "    <tr>\n",
       "      <th>2</th>\n",
       "      <td>82950</td>\n",
       "      <td>Teacher</td>\n",
       "      <td>4591</td>\n",
       "      <td>2008-09-15 08:55:04</td>\n",
       "    </tr>\n",
       "    <tr>\n",
       "      <th>3</th>\n",
       "      <td>82951</td>\n",
       "      <td>Teacher</td>\n",
       "      <td>5196</td>\n",
       "      <td>2008-09-15 08:55:04</td>\n",
       "    </tr>\n",
       "    <tr>\n",
       "      <th>4</th>\n",
       "      <td>82952</td>\n",
       "      <td>Teacher</td>\n",
       "      <td>2635</td>\n",
       "      <td>2008-09-15 08:55:04</td>\n",
       "    </tr>\n",
       "  </tbody>\n",
       "</table>\n",
       "</div>"
      ],
      "text/plain": [
       "      id     name  user_id       creation_date\n",
       "0  82947  Teacher      994 2008-09-15 08:55:04\n",
       "1  82949  Teacher     3893 2008-09-15 08:55:04\n",
       "2  82950  Teacher     4591 2008-09-15 08:55:04\n",
       "3  82951  Teacher     5196 2008-09-15 08:55:04\n",
       "4  82952  Teacher     2635 2008-09-15 08:55:04"
      ]
     },
     "execution_count": 3,
     "metadata": {},
     "output_type": "execute_result"
    }
   ],
   "source": [
    "query = '''                  \n",
    "           SELECT *\n",
    "           FROM stackoverflow.badges\n",
    "        '''\n",
    "badges_raw = pd.io.sql.read_sql(query, con = engine)\n",
    "badges_raw.to_csv('badges.csv', index = False)\n",
    "badges = badges_raw\n",
    "badges.head()"
   ]
  },
  {
   "cell_type": "code",
   "execution_count": 4,
   "id": "26d02d9a",
   "metadata": {},
   "outputs": [
    {
     "name": "stdout",
     "output_type": "stream",
     "text": [
      "<class 'pandas.core.frame.DataFrame'>\n",
      "RangeIndex: 330130 entries, 0 to 330129\n",
      "Data columns (total 4 columns):\n",
      " #   Column         Non-Null Count   Dtype         \n",
      "---  ------         --------------   -----         \n",
      " 0   id             330130 non-null  int64         \n",
      " 1   name           330128 non-null  object        \n",
      " 2   user_id        330130 non-null  int64         \n",
      " 3   creation_date  330130 non-null  datetime64[ns]\n",
      "dtypes: datetime64[ns](1), int64(2), object(1)\n",
      "memory usage: 10.1+ MB\n"
     ]
    }
   ],
   "source": [
    "badges.info()"
   ]
  },
  {
   "cell_type": "markdown",
   "id": "8a51b24b",
   "metadata": {},
   "source": [
    "Поля таблицы\n",
    " - идентификатор значка, первичный ключ таблицы\n",
    " - название значка\n",
    " - идентификатор пользователя, которому присвоили значок, внешний ключ, отсылающий к таблице users\n",
    " - дата присвоения значка"
   ]
  },
  {
   "cell_type": "code",
   "execution_count": 5,
   "id": "d6e2c2d6",
   "metadata": {},
   "outputs": [
    {
     "data": {
      "text/html": [
       "<div>\n",
       "<style scoped>\n",
       "    .dataframe tbody tr th:only-of-type {\n",
       "        vertical-align: middle;\n",
       "    }\n",
       "\n",
       "    .dataframe tbody tr th {\n",
       "        vertical-align: top;\n",
       "    }\n",
       "\n",
       "    .dataframe thead th {\n",
       "        text-align: right;\n",
       "    }\n",
       "</style>\n",
       "<table border=\"1\" class=\"dataframe\">\n",
       "  <thead>\n",
       "    <tr style=\"text-align: right;\">\n",
       "      <th></th>\n",
       "      <th>id</th>\n",
       "      <th>type</th>\n",
       "    </tr>\n",
       "  </thead>\n",
       "  <tbody>\n",
       "    <tr>\n",
       "      <th>0</th>\n",
       "      <td>1</td>\n",
       "      <td>Question</td>\n",
       "    </tr>\n",
       "    <tr>\n",
       "      <th>1</th>\n",
       "      <td>2</td>\n",
       "      <td>Answer</td>\n",
       "    </tr>\n",
       "  </tbody>\n",
       "</table>\n",
       "</div>"
      ],
      "text/plain": [
       "   id      type\n",
       "0   1  Question\n",
       "1   2    Answer"
      ]
     },
     "execution_count": 5,
     "metadata": {},
     "output_type": "execute_result"
    }
   ],
   "source": [
    "query = '''                  \n",
    "           SELECT *\n",
    "           FROM stackoverflow.post_types\n",
    "        '''\n",
    "post_types_raw = pd.io.sql.read_sql(query, con = engine)\n",
    "post_types_raw.to_csv('post_types.csv', index = False)\n",
    "post_types = post_types_raw\n",
    "post_types.head()"
   ]
  },
  {
   "cell_type": "code",
   "execution_count": 6,
   "id": "dddf7148",
   "metadata": {},
   "outputs": [
    {
     "name": "stdout",
     "output_type": "stream",
     "text": [
      "<class 'pandas.core.frame.DataFrame'>\n",
      "RangeIndex: 2 entries, 0 to 1\n",
      "Data columns (total 2 columns):\n",
      " #   Column  Non-Null Count  Dtype \n",
      "---  ------  --------------  ----- \n",
      " 0   id      2 non-null      int64 \n",
      " 1   type    2 non-null      object\n",
      "dtypes: int64(1), object(1)\n",
      "memory usage: 160.0+ bytes\n"
     ]
    }
   ],
   "source": [
    "post_types.info()"
   ]
  },
  {
   "cell_type": "markdown",
   "id": "63a2d158",
   "metadata": {},
   "source": [
    "Поля таблицы\n",
    "- идентификатор поста, первичный ключ таблицы\n",
    "- тип поста"
   ]
  },
  {
   "cell_type": "code",
   "execution_count": 7,
   "id": "60b68484",
   "metadata": {},
   "outputs": [
    {
     "data": {
      "text/html": [
       "<div>\n",
       "<style scoped>\n",
       "    .dataframe tbody tr th:only-of-type {\n",
       "        vertical-align: middle;\n",
       "    }\n",
       "\n",
       "    .dataframe tbody tr th {\n",
       "        vertical-align: top;\n",
       "    }\n",
       "\n",
       "    .dataframe thead th {\n",
       "        text-align: right;\n",
       "    }\n",
       "</style>\n",
       "<table border=\"1\" class=\"dataframe\">\n",
       "  <thead>\n",
       "    <tr style=\"text-align: right;\">\n",
       "      <th></th>\n",
       "      <th>id</th>\n",
       "      <th>title</th>\n",
       "      <th>creation_date</th>\n",
       "      <th>favorites_count</th>\n",
       "      <th>last_activity_date</th>\n",
       "      <th>last_edit_date</th>\n",
       "      <th>user_id</th>\n",
       "      <th>parent_id</th>\n",
       "      <th>post_type_id</th>\n",
       "      <th>score</th>\n",
       "      <th>views_count</th>\n",
       "    </tr>\n",
       "  </thead>\n",
       "  <tbody>\n",
       "    <tr>\n",
       "      <th>0</th>\n",
       "      <td>4</td>\n",
       "      <td>Convert Decimal to Double?</td>\n",
       "      <td>2008-07-31 21:42:53</td>\n",
       "      <td>41</td>\n",
       "      <td>2018-07-02 17:55:27.247</td>\n",
       "      <td>2018-07-02 17:55:27</td>\n",
       "      <td>8</td>\n",
       "      <td>0</td>\n",
       "      <td>1</td>\n",
       "      <td>573</td>\n",
       "      <td>37080</td>\n",
       "    </tr>\n",
       "    <tr>\n",
       "      <th>1</th>\n",
       "      <td>6</td>\n",
       "      <td>Percentage width child element in absolutely p...</td>\n",
       "      <td>2008-07-31 22:08:09</td>\n",
       "      <td>10</td>\n",
       "      <td>2016-03-19 06:10:52.170</td>\n",
       "      <td>2016-03-19 06:05:48</td>\n",
       "      <td>9</td>\n",
       "      <td>0</td>\n",
       "      <td>1</td>\n",
       "      <td>256</td>\n",
       "      <td>16306</td>\n",
       "    </tr>\n",
       "    <tr>\n",
       "      <th>2</th>\n",
       "      <td>7</td>\n",
       "      <td>None</td>\n",
       "      <td>2008-07-31 22:17:58</td>\n",
       "      <td>0</td>\n",
       "      <td>2017-12-16 05:06:57.613</td>\n",
       "      <td>2017-12-16 05:06:58</td>\n",
       "      <td>9</td>\n",
       "      <td>4</td>\n",
       "      <td>2</td>\n",
       "      <td>401</td>\n",
       "      <td>0</td>\n",
       "    </tr>\n",
       "    <tr>\n",
       "      <th>3</th>\n",
       "      <td>9</td>\n",
       "      <td>How do I calculate someone's age in C#?</td>\n",
       "      <td>2008-07-31 23:41:00</td>\n",
       "      <td>399</td>\n",
       "      <td>2018-07-25 11:57:14.110</td>\n",
       "      <td>2018-04-21 17:48:14</td>\n",
       "      <td>1</td>\n",
       "      <td>0</td>\n",
       "      <td>1</td>\n",
       "      <td>1743</td>\n",
       "      <td>480476</td>\n",
       "    </tr>\n",
       "    <tr>\n",
       "      <th>4</th>\n",
       "      <td>11</td>\n",
       "      <td>Calculate relative time in C#</td>\n",
       "      <td>2008-07-31 23:55:38</td>\n",
       "      <td>529</td>\n",
       "      <td>2018-07-05 04:00:56.633</td>\n",
       "      <td>2017-06-04 15:51:20</td>\n",
       "      <td>1</td>\n",
       "      <td>0</td>\n",
       "      <td>1</td>\n",
       "      <td>1348</td>\n",
       "      <td>136033</td>\n",
       "    </tr>\n",
       "  </tbody>\n",
       "</table>\n",
       "</div>"
      ],
      "text/plain": [
       "   id                                              title       creation_date  \\\n",
       "0   4                         Convert Decimal to Double? 2008-07-31 21:42:53   \n",
       "1   6  Percentage width child element in absolutely p... 2008-07-31 22:08:09   \n",
       "2   7                                               None 2008-07-31 22:17:58   \n",
       "3   9            How do I calculate someone's age in C#? 2008-07-31 23:41:00   \n",
       "4  11                      Calculate relative time in C# 2008-07-31 23:55:38   \n",
       "\n",
       "   favorites_count       last_activity_date      last_edit_date  user_id  \\\n",
       "0               41  2018-07-02 17:55:27.247 2018-07-02 17:55:27        8   \n",
       "1               10  2016-03-19 06:10:52.170 2016-03-19 06:05:48        9   \n",
       "2                0  2017-12-16 05:06:57.613 2017-12-16 05:06:58        9   \n",
       "3              399  2018-07-25 11:57:14.110 2018-04-21 17:48:14        1   \n",
       "4              529  2018-07-05 04:00:56.633 2017-06-04 15:51:20        1   \n",
       "\n",
       "   parent_id  post_type_id  score  views_count  \n",
       "0          0             1    573        37080  \n",
       "1          0             1    256        16306  \n",
       "2          4             2    401            0  \n",
       "3          0             1   1743       480476  \n",
       "4          0             1   1348       136033  "
      ]
     },
     "execution_count": 7,
     "metadata": {},
     "output_type": "execute_result"
    }
   ],
   "source": [
    "query = '''                  \n",
    "           SELECT *\n",
    "           FROM stackoverflow.posts\n",
    "        '''\n",
    "posts_raw = pd.io.sql.read_sql(query, con = engine)\n",
    "posts_raw.to_csv('posts', index = False)\n",
    "posts = posts_raw\n",
    "posts.head()"
   ]
  },
  {
   "cell_type": "code",
   "execution_count": 8,
   "id": "45318492",
   "metadata": {},
   "outputs": [
    {
     "name": "stdout",
     "output_type": "stream",
     "text": [
      "<class 'pandas.core.frame.DataFrame'>\n",
      "RangeIndex: 243796 entries, 0 to 243795\n",
      "Data columns (total 11 columns):\n",
      " #   Column              Non-Null Count   Dtype         \n",
      "---  ------              --------------   -----         \n",
      " 0   id                  243796 non-null  int64         \n",
      " 1   title               52345 non-null   object        \n",
      " 2   creation_date       243796 non-null  datetime64[ns]\n",
      " 3   favorites_count     243796 non-null  int64         \n",
      " 4   last_activity_date  243796 non-null  object        \n",
      " 5   last_edit_date      87139 non-null   datetime64[ns]\n",
      " 6   user_id             243796 non-null  int64         \n",
      " 7   parent_id           243796 non-null  int64         \n",
      " 8   post_type_id        243796 non-null  int64         \n",
      " 9   score               243796 non-null  int64         \n",
      " 10  views_count         243796 non-null  int64         \n",
      "dtypes: datetime64[ns](2), int64(7), object(2)\n",
      "memory usage: 20.5+ MB\n"
     ]
    }
   ],
   "source": [
    "posts.info()"
   ]
  },
  {
   "cell_type": "markdown",
   "id": "1bdc1f66",
   "metadata": {},
   "source": [
    "Поля таблицы\n",
    " - идентификатор поста, первичный ключ таблицы\n",
    " - заголовок поста\n",
    " - дата создания поста\n",
    " - число, которое показывает, сколько раз пост добавили в «Закладки»\n",
    " - дата последнего действия в посте, например комментария\n",
    " - дата последнего изменения поста\n",
    " - идентификатор пользователя, который создал пост, внешний ключ к таблице users\n",
    " - если пост написали в ответ на другую публикацию, в это поле попадёт идентификатор поста с вопросом\n",
    " - идентификатор типа поста, внешний ключ к таблице post_types\n",
    " - количество очков, которое набрал пост\n",
    " - количество просмотров"
   ]
  },
  {
   "cell_type": "code",
   "execution_count": 9,
   "id": "3b69d4b7",
   "metadata": {},
   "outputs": [
    {
     "data": {
      "text/html": [
       "<div>\n",
       "<style scoped>\n",
       "    .dataframe tbody tr th:only-of-type {\n",
       "        vertical-align: middle;\n",
       "    }\n",
       "\n",
       "    .dataframe tbody tr th {\n",
       "        vertical-align: top;\n",
       "    }\n",
       "\n",
       "    .dataframe thead th {\n",
       "        text-align: right;\n",
       "    }\n",
       "</style>\n",
       "<table border=\"1\" class=\"dataframe\">\n",
       "  <thead>\n",
       "    <tr style=\"text-align: right;\">\n",
       "      <th></th>\n",
       "      <th>id</th>\n",
       "      <th>creation_date</th>\n",
       "      <th>display_name</th>\n",
       "      <th>last_access_date</th>\n",
       "      <th>location</th>\n",
       "      <th>reputation</th>\n",
       "      <th>views</th>\n",
       "    </tr>\n",
       "  </thead>\n",
       "  <tbody>\n",
       "    <tr>\n",
       "      <th>0</th>\n",
       "      <td>1</td>\n",
       "      <td>2008-07-31 14:22:31</td>\n",
       "      <td>Jeff Atwood</td>\n",
       "      <td>2018-08-29 02:34:23</td>\n",
       "      <td>El Cerrito, CA</td>\n",
       "      <td>44300</td>\n",
       "      <td>408587</td>\n",
       "    </tr>\n",
       "    <tr>\n",
       "      <th>1</th>\n",
       "      <td>2</td>\n",
       "      <td>2008-07-31 14:22:31</td>\n",
       "      <td>Geoff Dalgas</td>\n",
       "      <td>2018-08-23 17:31:56</td>\n",
       "      <td>Corvallis, OR</td>\n",
       "      <td>3491</td>\n",
       "      <td>23966</td>\n",
       "    </tr>\n",
       "    <tr>\n",
       "      <th>2</th>\n",
       "      <td>3</td>\n",
       "      <td>2008-07-31 14:22:31</td>\n",
       "      <td>Jarrod Dixon</td>\n",
       "      <td>2018-08-30 20:56:24</td>\n",
       "      <td>Raleigh, NC, United States</td>\n",
       "      <td>13418</td>\n",
       "      <td>24396</td>\n",
       "    </tr>\n",
       "    <tr>\n",
       "      <th>3</th>\n",
       "      <td>4</td>\n",
       "      <td>2008-07-31 14:22:31</td>\n",
       "      <td>Joel Spolsky</td>\n",
       "      <td>2018-08-14 22:18:15</td>\n",
       "      <td>New York, NY</td>\n",
       "      <td>28768</td>\n",
       "      <td>73755</td>\n",
       "    </tr>\n",
       "    <tr>\n",
       "      <th>4</th>\n",
       "      <td>5</td>\n",
       "      <td>2008-07-31 14:22:31</td>\n",
       "      <td>Jon Galloway</td>\n",
       "      <td>2018-08-29 16:48:36</td>\n",
       "      <td>San Diego, CA</td>\n",
       "      <td>39172</td>\n",
       "      <td>11700</td>\n",
       "    </tr>\n",
       "  </tbody>\n",
       "</table>\n",
       "</div>"
      ],
      "text/plain": [
       "   id       creation_date  display_name    last_access_date  \\\n",
       "0   1 2008-07-31 14:22:31   Jeff Atwood 2018-08-29 02:34:23   \n",
       "1   2 2008-07-31 14:22:31  Geoff Dalgas 2018-08-23 17:31:56   \n",
       "2   3 2008-07-31 14:22:31  Jarrod Dixon 2018-08-30 20:56:24   \n",
       "3   4 2008-07-31 14:22:31  Joel Spolsky 2018-08-14 22:18:15   \n",
       "4   5 2008-07-31 14:22:31  Jon Galloway 2018-08-29 16:48:36   \n",
       "\n",
       "                     location  reputation   views  \n",
       "0              El Cerrito, CA       44300  408587  \n",
       "1               Corvallis, OR        3491   23966  \n",
       "2  Raleigh, NC, United States       13418   24396  \n",
       "3                New York, NY       28768   73755  \n",
       "4               San Diego, CA       39172   11700  "
      ]
     },
     "execution_count": 9,
     "metadata": {},
     "output_type": "execute_result"
    }
   ],
   "source": [
    "query = '''                  \n",
    "           SELECT *\n",
    "           FROM stackoverflow.users\n",
    "        '''\n",
    "users_raw = pd.io.sql.read_sql(query, con = engine)\n",
    "users_raw.to_csv('users', index = False)\n",
    "users = users_raw\n",
    "users.head()"
   ]
  },
  {
   "cell_type": "code",
   "execution_count": 10,
   "id": "64c18954",
   "metadata": {},
   "outputs": [
    {
     "name": "stdout",
     "output_type": "stream",
     "text": [
      "<class 'pandas.core.frame.DataFrame'>\n",
      "RangeIndex: 24044 entries, 0 to 24043\n",
      "Data columns (total 7 columns):\n",
      " #   Column            Non-Null Count  Dtype         \n",
      "---  ------            --------------  -----         \n",
      " 0   id                24044 non-null  int64         \n",
      " 1   creation_date     24044 non-null  datetime64[ns]\n",
      " 2   display_name      24042 non-null  object        \n",
      " 3   last_access_date  24044 non-null  datetime64[ns]\n",
      " 4   location          15599 non-null  object        \n",
      " 5   reputation        24044 non-null  int64         \n",
      " 6   views             24044 non-null  int64         \n",
      "dtypes: datetime64[ns](2), int64(3), object(2)\n",
      "memory usage: 1.3+ MB\n"
     ]
    }
   ],
   "source": [
    "users.info()"
   ]
  },
  {
   "cell_type": "markdown",
   "id": "39ef3646",
   "metadata": {},
   "source": [
    "Поля таблицы\n",
    " - идентификатор пользователя, первичный ключ таблицы\n",
    " - дата регистрации пользователя\n",
    " - имя пользователя\n",
    " - дата последнего входа\n",
    " - местоположение\n",
    " - очки репутации, которые получают за хорошие вопросы и полезные ответы\n",
    " - число просмотров профиля пользователя"
   ]
  },
  {
   "cell_type": "code",
   "execution_count": 11,
   "id": "b865d8be",
   "metadata": {},
   "outputs": [
    {
     "data": {
      "text/html": [
       "<div>\n",
       "<style scoped>\n",
       "    .dataframe tbody tr th:only-of-type {\n",
       "        vertical-align: middle;\n",
       "    }\n",
       "\n",
       "    .dataframe tbody tr th {\n",
       "        vertical-align: top;\n",
       "    }\n",
       "\n",
       "    .dataframe thead th {\n",
       "        text-align: right;\n",
       "    }\n",
       "</style>\n",
       "<table border=\"1\" class=\"dataframe\">\n",
       "  <thead>\n",
       "    <tr style=\"text-align: right;\">\n",
       "      <th></th>\n",
       "      <th>id</th>\n",
       "      <th>name</th>\n",
       "    </tr>\n",
       "  </thead>\n",
       "  <tbody>\n",
       "    <tr>\n",
       "      <th>0</th>\n",
       "      <td>1</td>\n",
       "      <td>AcceptedByOriginator</td>\n",
       "    </tr>\n",
       "    <tr>\n",
       "      <th>1</th>\n",
       "      <td>2</td>\n",
       "      <td>UpMod</td>\n",
       "    </tr>\n",
       "    <tr>\n",
       "      <th>2</th>\n",
       "      <td>3</td>\n",
       "      <td>DownMod</td>\n",
       "    </tr>\n",
       "    <tr>\n",
       "      <th>3</th>\n",
       "      <td>4</td>\n",
       "      <td>Offensive</td>\n",
       "    </tr>\n",
       "    <tr>\n",
       "      <th>4</th>\n",
       "      <td>5</td>\n",
       "      <td>Favorite</td>\n",
       "    </tr>\n",
       "  </tbody>\n",
       "</table>\n",
       "</div>"
      ],
      "text/plain": [
       "   id                  name\n",
       "0   1  AcceptedByOriginator\n",
       "1   2                 UpMod\n",
       "2   3               DownMod\n",
       "3   4             Offensive\n",
       "4   5              Favorite"
      ]
     },
     "execution_count": 11,
     "metadata": {},
     "output_type": "execute_result"
    }
   ],
   "source": [
    "query = '''                  \n",
    "           SELECT *\n",
    "           FROM stackoverflow.vote_types\n",
    "        '''\n",
    "vote_types_raw = pd.io.sql.read_sql(query, con = engine)\n",
    "vote_types_raw.to_csv('vote_types', index = False)\n",
    "vote_types = vote_types_raw\n",
    "vote_types.head()"
   ]
  },
  {
   "cell_type": "code",
   "execution_count": 12,
   "id": "34bfd17e",
   "metadata": {},
   "outputs": [
    {
     "name": "stdout",
     "output_type": "stream",
     "text": [
      "<class 'pandas.core.frame.DataFrame'>\n",
      "RangeIndex: 15 entries, 0 to 14\n",
      "Data columns (total 2 columns):\n",
      " #   Column  Non-Null Count  Dtype \n",
      "---  ------  --------------  ----- \n",
      " 0   id      15 non-null     int64 \n",
      " 1   name    15 non-null     object\n",
      "dtypes: int64(1), object(1)\n",
      "memory usage: 368.0+ bytes\n"
     ]
    }
   ],
   "source": [
    "vote_types.info()"
   ]
  },
  {
   "cell_type": "markdown",
   "id": "2a3f2c22",
   "metadata": {},
   "source": [
    " - идентификатор типа голоса, первичный ключ\n",
    " - название метки"
   ]
  },
  {
   "cell_type": "code",
   "execution_count": 13,
   "id": "1c4a360e",
   "metadata": {},
   "outputs": [
    {
     "data": {
      "text/html": [
       "<div>\n",
       "<style scoped>\n",
       "    .dataframe tbody tr th:only-of-type {\n",
       "        vertical-align: middle;\n",
       "    }\n",
       "\n",
       "    .dataframe tbody tr th {\n",
       "        vertical-align: top;\n",
       "    }\n",
       "\n",
       "    .dataframe thead th {\n",
       "        text-align: right;\n",
       "    }\n",
       "</style>\n",
       "<table border=\"1\" class=\"dataframe\">\n",
       "  <thead>\n",
       "    <tr style=\"text-align: right;\">\n",
       "      <th></th>\n",
       "      <th>id</th>\n",
       "      <th>post_id</th>\n",
       "      <th>user_id</th>\n",
       "      <th>bounty_amount</th>\n",
       "      <th>vote_type_id</th>\n",
       "      <th>creation_date</th>\n",
       "    </tr>\n",
       "  </thead>\n",
       "  <tbody>\n",
       "    <tr>\n",
       "      <th>0</th>\n",
       "      <td>434364</td>\n",
       "      <td>146794</td>\n",
       "      <td>4918</td>\n",
       "      <td>NaN</td>\n",
       "      <td>5</td>\n",
       "      <td>2008-10-03</td>\n",
       "    </tr>\n",
       "    <tr>\n",
       "      <th>1</th>\n",
       "      <td>434366</td>\n",
       "      <td>135535</td>\n",
       "      <td>16511</td>\n",
       "      <td>NaN</td>\n",
       "      <td>3</td>\n",
       "      <td>2008-10-03</td>\n",
       "    </tr>\n",
       "    <tr>\n",
       "      <th>2</th>\n",
       "      <td>434372</td>\n",
       "      <td>162181</td>\n",
       "      <td>12818</td>\n",
       "      <td>NaN</td>\n",
       "      <td>1</td>\n",
       "      <td>2008-10-03</td>\n",
       "    </tr>\n",
       "    <tr>\n",
       "      <th>3</th>\n",
       "      <td>434380</td>\n",
       "      <td>21965</td>\n",
       "      <td>4002</td>\n",
       "      <td>NaN</td>\n",
       "      <td>1</td>\n",
       "      <td>2008-10-03</td>\n",
       "    </tr>\n",
       "    <tr>\n",
       "      <th>4</th>\n",
       "      <td>434401</td>\n",
       "      <td>165975</td>\n",
       "      <td>8161</td>\n",
       "      <td>NaN</td>\n",
       "      <td>2</td>\n",
       "      <td>2008-10-03</td>\n",
       "    </tr>\n",
       "  </tbody>\n",
       "</table>\n",
       "</div>"
      ],
      "text/plain": [
       "       id  post_id  user_id  bounty_amount  vote_type_id creation_date\n",
       "0  434364   146794     4918            NaN             5    2008-10-03\n",
       "1  434366   135535    16511            NaN             3    2008-10-03\n",
       "2  434372   162181    12818            NaN             1    2008-10-03\n",
       "3  434380    21965     4002            NaN             1    2008-10-03\n",
       "4  434401   165975     8161            NaN             2    2008-10-03"
      ]
     },
     "execution_count": 13,
     "metadata": {},
     "output_type": "execute_result"
    }
   ],
   "source": [
    "query = '''                  \n",
    "           SELECT *\n",
    "           FROM stackoverflow.votes\n",
    "        '''\n",
    "votes_raw = pd.io.sql.read_sql(query, con = engine)\n",
    "votes_raw.to_csv('votes', index = False)\n",
    "votes = votes_raw\n",
    "votes.head()"
   ]
  },
  {
   "cell_type": "code",
   "execution_count": 14,
   "id": "dfff05d0",
   "metadata": {},
   "outputs": [
    {
     "name": "stdout",
     "output_type": "stream",
     "text": [
      "<class 'pandas.core.frame.DataFrame'>\n",
      "RangeIndex: 58790 entries, 0 to 58789\n",
      "Data columns (total 6 columns):\n",
      " #   Column         Non-Null Count  Dtype  \n",
      "---  ------         --------------  -----  \n",
      " 0   id             58790 non-null  int64  \n",
      " 1   post_id        58790 non-null  int64  \n",
      " 2   user_id        58790 non-null  int64  \n",
      " 3   bounty_amount  220 non-null    float64\n",
      " 4   vote_type_id   58790 non-null  int64  \n",
      " 5   creation_date  58790 non-null  object \n",
      "dtypes: float64(1), int64(4), object(1)\n",
      "memory usage: 2.7+ MB\n"
     ]
    }
   ],
   "source": [
    "votes.info()"
   ]
  },
  {
   "cell_type": "markdown",
   "id": "7498da00",
   "metadata": {},
   "source": [
    "Поля таблицы\n",
    " - идентификатор голоса, первичный ключ\n",
    " - идентификатор поста, внешний ключ к таблице posts\n",
    " - идентификатор пользователя, который поставил посту голос, внешний ключ к таблице users\n",
    " - сумма вознаграждения, которое назначают, чтобы привлечь внимание к посту\n",
    " - идентификатор типа голоса, внешний ключ к таблице vote_types\n",
    " - дата назначения голоса\n"
   ]
  },
  {
   "cell_type": "code",
   "execution_count": 15,
   "id": "1330ec35",
   "metadata": {},
   "outputs": [
    {
     "name": "stdout",
     "output_type": "stream",
     "text": [
      "0\n",
      "0\n",
      "0\n",
      "0\n",
      "0\n",
      "0\n"
     ]
    }
   ],
   "source": [
    "tables = [badges, post_types, posts, users, vote_types, votes]\n",
    "for i in tables:\n",
    "    print(i.duplicated().sum())"
   ]
  },
  {
   "cell_type": "markdown",
   "id": "ee045407",
   "metadata": {},
   "source": [
    "**Вывод**\n",
    "\n",
    " - типы данных представлены в корректном виде\n",
    " - дубликатов нет\n",
    " - есть пропуски в таблицах \n",
    "    - posts в столбцах title, last_edit_day Возможно у поста нет названия и на момент выгрузки данных отсутствует дата последнего изменения. Оставим пропуски без изменения\n",
    "    - users в столбце location Пропущена информация о местоположении пользователя. Наверно, данные пользователи хотели быть законсперированы.  Оставим пропуски без изменения\n",
    "    - votes в столбце bounty_amount. Вознаграждение, которое назначают для привлечения внимания к посту. Очень редко пользователи сервиса используют этот метод. Практически все значения пропущены. Данные пропуски также оставим без изменения"
   ]
  },
  {
   "cell_type": "markdown",
   "id": "919297ec",
   "metadata": {},
   "source": [
    "## SQL-запросы"
   ]
  },
  {
   "cell_type": "markdown",
   "id": "a6373f30",
   "metadata": {},
   "source": [
    "**Первая часть**\n",
    "\n",
    "Задача 1\n",
    "\n",
    "Найдите количество вопросов, которые набрали больше 300 очков или как минимум 100 раз были добавлены в «Закладки»."
   ]
  },
  {
   "cell_type": "code",
   "execution_count": 16,
   "id": "00bbb5e7",
   "metadata": {},
   "outputs": [
    {
     "name": "stdout",
     "output_type": "stream",
     "text": [
      "   count\n",
      "0   1355\n"
     ]
    }
   ],
   "source": [
    "query_1 = ''' SELECT COUNT(p.id)\n",
    "              FROM stackoverflow.posts p\n",
    "              WHERE p.post_type_id = 1 AND p.score > 300 OR p.favorites_count >= 100\n",
    "'''\n",
    "result_1 = pd.read_sql(query_1, con = engine)\n",
    "print(result_1)"
   ]
  },
  {
   "cell_type": "markdown",
   "id": "675447fa",
   "metadata": {},
   "source": [
    "Задача 2 \n",
    "\n",
    "Сколько в среднем в день задавали вопросов с 1 по 18 ноября 2008 включительно? Результат округлите до целого числа."
   ]
  },
  {
   "cell_type": "code",
   "execution_count": 17,
   "id": "3fcc5973",
   "metadata": {},
   "outputs": [
    {
     "name": "stdout",
     "output_type": "stream",
     "text": [
      "   round\n",
      "0    383\n"
     ]
    }
   ],
   "source": [
    "query_2 = ''' SELECT ROUND(AVG(c.cnt))::integer\n",
    "              FROM\n",
    "              (SELECT COUNT(p.id) AS cnt,\n",
    "              EXTRACT(DAY FROM p.dt) AS days\n",
    "             FROM      \n",
    "            (SELECT id,\n",
    "             CAST(creation_date AS date) AS dt\n",
    "            FROM stackoverflow.posts \n",
    "            WHERE post_type_id = 1 AND (creation_date::date BETWEEN '2008-11-01' AND '2008-11-18')) AS p\n",
    "            GROUP BY days) AS c\n",
    "'''\n",
    "result_2 = pd.read_sql(query_2, con = engine)\n",
    "print(result_2)"
   ]
  },
  {
   "cell_type": "markdown",
   "id": "f1e052be",
   "metadata": {},
   "source": [
    "Задача 3\n",
    "\n",
    "\n",
    "Сколько пользователей получили значки сразу в день регистрации? Выведите количество уникальных пользователей."
   ]
  },
  {
   "cell_type": "code",
   "execution_count": 18,
   "id": "1e8a7c10",
   "metadata": {},
   "outputs": [
    {
     "name": "stdout",
     "output_type": "stream",
     "text": [
      "   count\n",
      "0   7047\n"
     ]
    }
   ],
   "source": [
    "query_3 = ''' SELECT COUNT(DISTINCT u.id)\n",
    "              FROM stackoverflow.users u\n",
    "              JOIN stackoverflow.badges b ON u.id = b.user_id\n",
    "              WHERE u.creation_date::date = b.creation_date::date\n",
    "'''\n",
    "result_3 = pd.read_sql(query_3, con = engine)\n",
    "print(result_3)"
   ]
  },
  {
   "cell_type": "markdown",
   "id": "0563c48d",
   "metadata": {},
   "source": [
    "Задача 4\n",
    "\n",
    "\n",
    "Сколько уникальных постов пользователя с именем Joel Coehoorn получили хотя бы один голос?"
   ]
  },
  {
   "cell_type": "code",
   "execution_count": 19,
   "id": "9f711b2a",
   "metadata": {},
   "outputs": [
    {
     "name": "stdout",
     "output_type": "stream",
     "text": [
      "   count\n",
      "0     12\n"
     ]
    }
   ],
   "source": [
    "query_4 = '''SELECT COUNT(DISTINCT p.id)\n",
    "            FROM stackoverflow.votes v\n",
    "            JOIN stackoverflow.posts p ON v.post_id = p.id\n",
    "            JOIN stackoverflow.users u ON p.user_id = u.id\n",
    "            WHERE u.display_name = 'Joel Coehoorn'\n",
    "'''\n",
    "result_4 = pd.read_sql(query_4, con = engine)\n",
    "print(result_4)"
   ]
  },
  {
   "cell_type": "markdown",
   "id": "dd6bb91f",
   "metadata": {},
   "source": [
    "Задача 5\n",
    "\n",
    "Выгрузите все поля таблицы vote_types. Добавьте к таблице поле rank, в которое войдут номера записей в обратном порядке. Таблица должна быть отсортирована по полю id."
   ]
  },
  {
   "cell_type": "code",
   "execution_count": 20,
   "id": "2150c593",
   "metadata": {},
   "outputs": [
    {
     "name": "stdout",
     "output_type": "stream",
     "text": [
      "    id                   name  rank\n",
      "0    1   AcceptedByOriginator    15\n",
      "1    2                  UpMod    14\n",
      "2    3                DownMod    13\n",
      "3    4              Offensive    12\n",
      "4    5               Favorite    11\n",
      "5    6                  Close    10\n",
      "6    7                 Reopen     9\n",
      "7    8            BountyStart     8\n",
      "8    9            BountyClose     7\n",
      "9   10               Deletion     6\n",
      "10  11             Undeletion     5\n",
      "11  12                   Spam     4\n",
      "12  13        InformModerator     3\n",
      "13  14        ModeratorReview     2\n",
      "14  15  ApproveEditSuggestion     1\n"
     ]
    }
   ],
   "source": [
    "query_5 = '''SELECT *,\n",
    "             ROW_NUMBER() OVER (ORDER BY id DESC) AS rank\n",
    "             FROM stackoverflow.vote_types\n",
    "             ORDER BY id\n",
    "'''\n",
    "result_5 = pd.read_sql(query_5, con = engine)\n",
    "print(result_5)"
   ]
  },
  {
   "cell_type": "markdown",
   "id": "3c2085c1",
   "metadata": {},
   "source": [
    "Задача 6\n",
    "\n",
    "Отберите 10 пользователей, которые поставили больше всего голосов типа Close. Отобразите таблицу из двух полей: идентификатором пользователя и количеством голосов. Отсортируйте данные сначала по убыванию количества голосов, потом по убыванию значения идентификатора пользователя."
   ]
  },
  {
   "cell_type": "code",
   "execution_count": 21,
   "id": "81fb82a6",
   "metadata": {},
   "outputs": [
    {
     "name": "stdout",
     "output_type": "stream",
     "text": [
      "      us  cl\n",
      "0  20646  36\n",
      "1  14728  36\n",
      "2  27163  29\n",
      "3  41158  24\n",
      "4  24820  23\n",
      "5   9345  23\n",
      "6   3241  23\n",
      "7  44330  20\n",
      "8  38426  19\n",
      "9  19074  19\n"
     ]
    }
   ],
   "source": [
    "query_6 = '''SELECT u.id AS us,\n",
    "             COUNT(vt.id) AS cl\n",
    "             FROM stackoverflow.users u\n",
    "             JOIN stackoverflow.votes v ON u.id = v.user_id\n",
    "             JOIN stackoverflow.vote_types vt ON v.vote_type_id = vt.id\n",
    "             WHERE vt.name = 'Close'\n",
    "             GROUP BY 1\n",
    "             ORDER BY cl DESC, us DESC\n",
    "             LIMIT 10\n",
    "'''\n",
    "result_6 = pd.read_sql(query_6, con = engine)\n",
    "print(result_6)"
   ]
  },
  {
   "cell_type": "markdown",
   "id": "9aacabe5",
   "metadata": {},
   "source": [
    "Задача 7\n",
    "\n",
    "Отберите 10 пользователей по количеству значков, полученных в период с 15 ноября по 15 декабря 2008 года включительно. Отобразите несколько полей:\n",
    " - идентификатор пользователя;\n",
    " - число значков;\n",
    " - место в рейтинге — чем больше значков, тем выше рейтинг.\n",
    "Пользователям, которые набрали одинаковое количество значков, присвойте одно и то же место в рейтинге.\n",
    "Отсортируйте записи по количеству значков по убыванию, а затем по возрастанию значения идентификатора пользователя."
   ]
  },
  {
   "cell_type": "code",
   "execution_count": 22,
   "id": "8cd4ce6b",
   "metadata": {},
   "outputs": [
    {
     "name": "stdout",
     "output_type": "stream",
     "text": [
      "   user_id  bad  dense_rank\n",
      "0    22656  149           1\n",
      "1    34509   45           2\n",
      "2     1288   40           3\n",
      "3     5190   31           4\n",
      "4    13913   30           5\n",
      "5      893   28           6\n",
      "6    10661   28           6\n",
      "7    33213   25           7\n",
      "8    12950   23           8\n",
      "9    25222   20           9\n"
     ]
    }
   ],
   "source": [
    "query_7 = '''WITH r AS (SELECT user_id,\n",
    "            COUNT(name)  AS bad\n",
    "             FROM stackoverflow.badges\n",
    "             WHERE creation_date::date BETWEEN '2008-11-15' AND '2008-12-15'\n",
    "             GROUP BY 1)\n",
    "            SELECT  r.user_id,\n",
    "           r.bad,\n",
    "            DENSE_RANK()OVER(ORDER BY r.bad DESC)\n",
    "            FROM r\n",
    "           ORDER BY 2 DESC, 1\n",
    "            LiMIT 10\n",
    "'''\n",
    "result_7 = pd.read_sql(query_7, con = engine)\n",
    "print(result_7)"
   ]
  },
  {
   "cell_type": "markdown",
   "id": "0f1bfb18",
   "metadata": {},
   "source": [
    "Задача 8\n",
    "\n",
    "\n",
    "Сколько в среднем очков получает пост каждого пользователя?\n",
    "Сформируйте таблицу из следующих полей:\n",
    " - заголовок поста;\n",
    " - идентификатор пользователя;\n",
    " - число очков поста;\n",
    " - среднее число очков пользователя за пост, округлённое до целого числа.\n",
    "Не учитывайте посты без заголовка, а также те, что набрали ноль очков."
   ]
  },
  {
   "cell_type": "code",
   "execution_count": 23,
   "id": "04b6fa25",
   "metadata": {},
   "outputs": [
    {
     "name": "stdout",
     "output_type": "stream",
     "text": [
      "                                               title  user_id  score  avg_sc\n",
      "0            Diagnosing Deadlocks in SQL Server 2005        1     82   573.0\n",
      "1            How do I calculate someone's age in C#?        1   1743   573.0\n",
      "2  Why doesn't IE7 copy <pre><code> blocks to the...        1     37   573.0\n",
      "3                      Calculate relative time in C#        1   1348   573.0\n",
      "4  Wrapping StopWatch timing with a delegate or l...        1     92   573.0\n"
     ]
    }
   ],
   "source": [
    "query_8 = '''SELECT title,\n",
    "             user_id,\n",
    "             score,\n",
    "             ROUND(AVG(score) OVER(PARTITION BY user_id)) AS avg_sc\n",
    "             FROM stackoverflow.posts\n",
    "             WHERE score != 0 AND title IS NOT NULL\n",
    "             LIMIT 5\n",
    "'''\n",
    "result_8 = pd.read_sql(query_8, con = engine)\n",
    "print(result_8)"
   ]
  },
  {
   "cell_type": "markdown",
   "id": "849bbb0e",
   "metadata": {},
   "source": [
    "Задача 9\n",
    "\n",
    "Отобразите заголовки постов, которые были написаны пользователями, получившими более 1000 значков. Посты без заголовков не должны попасть в список."
   ]
  },
  {
   "cell_type": "code",
   "execution_count": 24,
   "id": "4476e273",
   "metadata": {},
   "outputs": [
    {
     "name": "stdout",
     "output_type": "stream",
     "text": [
      "                                               title\n",
      "0  What's the strangest corner case you've seen i...\n",
      "1  What's the hardest or most misunderstood aspec...\n",
      "2       What are the correct version numbers for C#?\n",
      "3               Project management to go with GitHub\n"
     ]
    }
   ],
   "source": [
    "query_9 = '''SELECT title\n",
    "             FROM stackoverflow.posts\n",
    "             WHERE user_id IN\n",
    "             (SELECT cnt.user_id\n",
    "             FROM\n",
    "             (SELECT  user_id,\n",
    "                      COUNT(id)  AS badg\n",
    "              FROM stackoverflow.badges\n",
    "              GROUP BY 1) AS cnt\n",
    "             WHERE cnt.badg > 1000) AND title IS NOT NULL\n",
    "'''\n",
    "result_9 = pd.read_sql(query_9, con = engine)\n",
    "print(result_9)"
   ]
  },
  {
   "cell_type": "markdown",
   "id": "fcb36705",
   "metadata": {},
   "source": [
    "Задача 10\n",
    "\n",
    "Напишите запрос, который выгрузит данные о пользователях из США (англ. United States). Разделите пользователей на три группы в  зависимости от количества просмотров их профилей:\n",
    " - пользователям с числом просмотров больше либо равным 350 присвойте группу 1;\n",
    " - пользователям с числом просмотров меньше 350, но больше либо равно 100 — группу 2;\n",
    " - пользователям с числом просмотров меньше 100 — группу 3.\n",
    "Отобразите в итоговой таблице идентификатор пользователя, количество просмотров профиля и группу. Пользователи с нулевым количеством просмотров не должны войти в итоговую таблицу."
   ]
  },
  {
   "cell_type": "code",
   "execution_count": 25,
   "id": "c705b2eb",
   "metadata": {},
   "outputs": [
    {
     "name": "stdout",
     "output_type": "stream",
     "text": [
      "         id  views  case\n",
      "0     26540     65     3\n",
      "1     20710     66     3\n",
      "2     28987     97     3\n",
      "3     32893     14     3\n",
      "4     15559     51     3\n",
      "...     ...    ...   ...\n",
      "1475   3746     75     3\n",
      "1476    958    165     2\n",
      "1477  18356    341     2\n",
      "1478  10591    296     2\n",
      "1479  37810     20     3\n",
      "\n",
      "[1480 rows x 3 columns]\n"
     ]
    }
   ],
   "source": [
    "query_10 = '''\n",
    "SELECT id,\n",
    "        views,\n",
    "        CASE\n",
    "            WHEN views >= 350 THEN 1\n",
    "            WHEN views < 350 AND views >= 100 THEN 2\n",
    "            ELSE 3\n",
    "         END   \n",
    "FROM stackoverflow.users\n",
    "WHERE views != 0 AND location LIKE 'United States'\n",
    "GROUP BY 1, 2\n",
    "'''\n",
    "result_10 = pd.read_sql(query_10, con = engine)\n",
    "print(result_10)"
   ]
  },
  {
   "cell_type": "markdown",
   "id": "2fe296d5",
   "metadata": {},
   "source": [
    "Задача 11\n",
    "\n",
    "Дополните предыдущий запрос. Отобразите лидеров каждой группы — пользователей, которые набрали максимальное число просмотров в своей группе. Выведите поля с идентификатором пользователя, группой и количеством просмотров. Отсортируйте таблицу по убыванию просмотров, а затем по возрастанию значения идентификатора."
   ]
  },
  {
   "cell_type": "code",
   "execution_count": 26,
   "id": "af5a25ea",
   "metadata": {},
   "outputs": [
    {
     "name": "stdout",
     "output_type": "stream",
     "text": [
      "      id  case  views\n",
      "0   1228     1  58635\n",
      "1   9585     2    349\n",
      "2  15079     2    349\n",
      "3  33437     2    349\n",
      "4   3469     3     99\n",
      "5   4829     3     99\n",
      "6  22732     3     99\n"
     ]
    }
   ],
   "source": [
    "query_11 = '''WITH r AS (SELECT prev.id,\n",
    "              prev.case,\n",
    "              prev.views,    \n",
    "              DENSE_RANK() OVER(PARTITION BY prev.case ORDER BY prev.views DESC) AS rang\n",
    "              FROM     \n",
    "              (SELECT id,\n",
    "                     views,\n",
    "                   CASE\n",
    "                     WHEN views >= 350 THEN 1\n",
    "                     WHEN views < 350 AND views >= 100 THEN 2\n",
    "                     ELSE 3\n",
    "                   END   \n",
    "            FROM stackoverflow.users\n",
    "           WHERE location LIKE 'United States' AND views != 0\n",
    "           GROUP BY 1, 2) AS prev)\n",
    "           SELECT r.id,\n",
    "                  r.case,\n",
    "                  r.views\n",
    "           FROM r\n",
    "           WHERE r.rang =1\n",
    "           GROUP BY 1,2,3\n",
    "           ORDER BY 3 DESC, 1\n",
    "'''\n",
    "result_11 = pd.read_sql(query_11, con = engine)\n",
    "print(result_11)"
   ]
  },
  {
   "cell_type": "markdown",
   "id": "8d6d8c0c",
   "metadata": {},
   "source": [
    "Задача 12\n",
    "\n",
    "\n",
    "Посчитайте ежедневный прирост новых пользователей в ноябре 2008 года. Сформируйте таблицу с полями:\n",
    " - номер дня;\n",
    " - число пользователей, зарегистрированных в этот день;\n",
    " - сумму пользователей с накоплением."
   ]
  },
  {
   "cell_type": "code",
   "execution_count": 27,
   "id": "e01708a9",
   "metadata": {},
   "outputs": [
    {
     "name": "stdout",
     "output_type": "stream",
     "text": [
      "    days  cnt  cumm\n",
      "0      1   34    34\n",
      "1      2   48    82\n",
      "2      3   75   157\n",
      "3      4  192   349\n",
      "4      5  122   471\n",
      "5      6  132   603\n",
      "6      7  104   707\n",
      "7      8   42   749\n",
      "8      9   45   794\n",
      "9     10   93   887\n",
      "10    11  113  1000\n",
      "11    12  113  1113\n",
      "12    13   96  1209\n",
      "13    14   89  1298\n",
      "14    15   42  1340\n",
      "15    16   32  1372\n",
      "16    17   84  1456\n",
      "17    18   89  1545\n",
      "18    19  107  1652\n",
      "19    20   95  1747\n",
      "20    21   81  1828\n",
      "21    22   40  1868\n",
      "22    23   50  1918\n",
      "23    24   84  2002\n",
      "24    25  104  2106\n",
      "25    26   98  2204\n",
      "26    27   71  2275\n",
      "27    28   56  2331\n",
      "28    29   44  2375\n",
      "29    30   33  2408\n"
     ]
    }
   ],
   "source": [
    "query_12 = '''\n",
    "           WITH s AS (SELECT EXTRACT(DAY FROM CAST(creation_date AS date)) AS days,\n",
    "                     COUNT(id) OVER(PARTITION BY creation_date::date) AS cnt,\n",
    "                     COUNT(id) OVER(ORDER BY creation_date::date) AS cumm       \n",
    "                     FROM stackoverflow.users\n",
    "                     WHERE CAST(creation_date AS date) BETWEEN '2008-11-01' AND '2008-11-30')\n",
    "                    SELECT s.days::integer,\n",
    "                            s.cnt,\n",
    "                           s.cumm\n",
    "                           FROM s\n",
    "                          GROUP BY 1,2,3\n",
    "                          ORDER BY 1\n",
    "'''\n",
    "result_12 = pd.read_sql(query_12, con = engine)\n",
    "print(result_12)"
   ]
  },
  {
   "cell_type": "markdown",
   "id": "4790e2fc",
   "metadata": {},
   "source": [
    "Задача 13\n",
    "\n",
    "\n",
    "Для каждого пользователя, который написал хотя бы один пост, найдите интервал между регистрацией и временем создания первого поста. Отобразите:\n",
    " - идентификатор пользователя;\n",
    " - разницу во времени между регистрацией и первым постом."
   ]
  },
  {
   "cell_type": "code",
   "execution_count": 28,
   "id": "95d5d411",
   "metadata": {},
   "outputs": [
    {
     "name": "stdout",
     "output_type": "stream",
     "text": [
      "       user_id             diff\n",
      "0            1  0 days 09:18:29\n",
      "1            2  0 days 14:37:03\n",
      "2            3  3 days 16:17:09\n",
      "3            4 15 days 05:44:22\n",
      "4            5  1 days 14:57:51\n",
      "...        ...              ...\n",
      "18844  3644960  0 days 00:00:00\n",
      "18845  3742716 66 days 21:15:48\n",
      "18846  3930756  8 days 02:11:55\n",
      "18847  4020932 47 days 18:30:34\n",
      "18848  5696608  0 days 00:24:59\n",
      "\n",
      "[18849 rows x 2 columns]\n"
     ]
    }
   ],
   "source": [
    "query_12 = '''\n",
    "           WITH s AS (SELECT user_id,\n",
    "       MIN(creation_date) OVER(PARTITION BY user_id) AS md\n",
    "FROM stackoverflow.posts)    \n",
    "SELECT s.user_id,\n",
    "       (s.md - u.creation_date) AS diff\n",
    "FROM s\n",
    "LEFT JOIN stackoverflow.users u ON s.user_id = u.id\n",
    "GROUP BY 1,2\n",
    "'''\n",
    "result_12 = pd.read_sql(query_12, con = engine)\n",
    "print(result_12)"
   ]
  },
  {
   "cell_type": "markdown",
   "id": "53beca11",
   "metadata": {},
   "source": [
    "**Вторая часть**\n",
    "\n",
    "Задача 14\n",
    "\n",
    "Выведите общую сумму просмотров постов за каждый месяц 2008 года. Если данных за какой-либо месяц в базе нет, такой месяц можно пропустить. Результат отсортируйте по убыванию общего количества просмотров."
   ]
  },
  {
   "cell_type": "code",
   "execution_count": 29,
   "id": "9ba8ed03",
   "metadata": {
    "scrolled": true
   },
   "outputs": [
    {
     "name": "stdout",
     "output_type": "stream",
     "text": [
      "        summ         mon\n",
      "0  452928568  2008-09-01\n",
      "1  365400138  2008-10-01\n",
      "2  221759651  2008-11-01\n",
      "3  197792841  2008-12-01\n",
      "4  131367083  2008-08-01\n",
      "5     669895  2008-07-01\n"
     ]
    }
   ],
   "source": [
    "query_14 = '''\n",
    "SELECT SUM(views_count) AS summ,\n",
    "       CAST(DATE_TRUNC('month', creation_date)AS date) AS mon\n",
    "FROM stackoverflow.posts\n",
    "GROUP BY 2\n",
    "ORDER BY 1 DESC\n",
    "'''\n",
    "result_14 = pd.read_sql(query_14, con = engine)\n",
    "print(result_14)"
   ]
  },
  {
   "cell_type": "markdown",
   "id": "80108928",
   "metadata": {},
   "source": [
    "Комментарий\n",
    "\n",
    "- Возможно, за июль неполные данные"
   ]
  },
  {
   "cell_type": "markdown",
   "id": "aa875fd6",
   "metadata": {},
   "source": [
    "Задача 15\n",
    "\n",
    "\n",
    "Выведите имена самых активных пользователей, которые в первый месяц после регистрации (включая день регистрации) дали больше 100 ответов. Вопросы, которые задавали пользователи, не учитывайте. Для каждого имени пользователя выведите количество уникальных значений user_id. Отсортируйте результат по полю с именами в лексикографическом порядке."
   ]
  },
  {
   "cell_type": "code",
   "execution_count": 30,
   "id": "146b06e0",
   "metadata": {
    "scrolled": true
   },
   "outputs": [
    {
     "name": "stdout",
     "output_type": "stream",
     "text": [
      "       display_name  count\n",
      "0  1800 INFORMATION      1\n",
      "1     Adam Bellaire      1\n",
      "2        Adam Davis      1\n",
      "3         Adam Liss      1\n",
      "4              Alan      8\n",
      "5             Amy B      1\n",
      "6     Ben Hoffstein      1\n",
      "7             Brian     15\n",
      "8         Cade Roux      1\n",
      "9            CesarB      1\n"
     ]
    }
   ],
   "source": [
    "query_15 = '''\n",
    "SELECT u.display_name,\n",
    "       COUNT(DISTINCT p.user_id)\n",
    "FROM stackoverflow.posts p\n",
    "JOIN stackoverflow.post_types pt ON p.post_type_id = pt.id\n",
    "JOIN stackoverflow.users u ON p.user_id = u.id\n",
    "WHERE pt.type = 'Answer'\n",
    "       AND p.creation_date::date <= u.creation_date::date + INTERVAL '1 month'\n",
    "GROUP BY 1\n",
    "HAVING COUNT(p.id) > 100\n",
    "ORDER BY 1\n",
    "LIMIT 10\n",
    "'''\n",
    "result_15 = pd.read_sql(query_15, con = engine)\n",
    "print(result_15)"
   ]
  },
  {
   "cell_type": "markdown",
   "id": "d4e80291",
   "metadata": {},
   "source": [
    "Комментарий\n",
    "\n",
    "- Как правило, популярному имени соответствует несколько уникальных идентификаторов"
   ]
  },
  {
   "cell_type": "markdown",
   "id": "d5a8d9b7",
   "metadata": {},
   "source": [
    "Задача 16\n",
    "\n",
    "\n",
    "Выведите количество постов за 2008 год по месяцам. Отберите посты от пользователей, которые зарегистрировались в сентябре 2008 года и сделали хотя бы один пост в декабре того же года. Отсортируйте таблицу по значению месяца по убыванию."
   ]
  },
  {
   "cell_type": "code",
   "execution_count": 31,
   "id": "98ec343c",
   "metadata": {
    "scrolled": true
   },
   "outputs": [
    {
     "name": "stdout",
     "output_type": "stream",
     "text": [
      "     cnt         mon\n",
      "0  17641  2008-12-01\n",
      "1  18294  2008-11-01\n",
      "2  27171  2008-10-01\n",
      "3  24870  2008-09-01\n",
      "4     32  2008-08-01\n"
     ]
    }
   ],
   "source": [
    "query_16 = '''\n",
    "SELECT COUNT(id) AS cnt,\n",
    "       CAST(DATE_TRUNC('month', creation_date)AS date) AS mon\n",
    "FROM stackoverflow.posts\n",
    "WHERE user_id IN\n",
    "(SELECT u.id\n",
    "FROM stackoverflow.users u\n",
    "JOIN stackoverflow.posts p ON u.id = p.user_id\n",
    "WHERE CAST(u.creation_date AS date) BETWEEN '2008-09-01' AND '2008-09-30'\n",
    "      AND CAST(p.creation_date AS date) BETWEEN '2008-12-01' AND '2008-12-31')\n",
    "GROUP BY 2\n",
    "ORDER BY 2 DESC\n",
    "'''\n",
    "result_16 = pd.read_sql(query_16, con = engine)\n",
    "print(result_16)"
   ]
  },
  {
   "cell_type": "markdown",
   "id": "be6cacab",
   "metadata": {},
   "source": [
    "Комментарий\n",
    "\n",
    "- Пользователи, зарегистрированные в сентябре, были активны и в августе. Возможно это ошибка в данных"
   ]
  },
  {
   "cell_type": "markdown",
   "id": "c6e136cd",
   "metadata": {},
   "source": [
    "Задача 17\n",
    "\n",
    "Используя данные о постах, выведите несколько полей:\n",
    " - идентификатор пользователя, который написал пост;\n",
    " - дата создания поста;\n",
    " - количество просмотров у текущего поста;\n",
    " - сумму просмотров постов автора с накоплением.\n",
    "Данные в таблице должны быть отсортированы по возрастанию идентификаторов пользователей, а данные об одном и том же пользователе — по возрастанию даты создания поста."
   ]
  },
  {
   "cell_type": "code",
   "execution_count": 32,
   "id": "4974febb",
   "metadata": {
    "scrolled": true
   },
   "outputs": [
    {
     "name": "stdout",
     "output_type": "stream",
     "text": [
      "        user_id       creation_date  views_count    summ\n",
      "0             1 2008-07-31 23:41:00       480476  480476\n",
      "1             1 2008-07-31 23:55:38       136033  616509\n",
      "2             1 2008-07-31 23:56:41            0  616509\n",
      "3             1 2008-08-04 02:45:08            0  616509\n",
      "4             1 2008-08-04 04:31:03            0  616509\n",
      "...         ...                 ...          ...     ...\n",
      "243791  5696608 2008-12-23 16:00:37            0    2804\n",
      "243792  5696608 2008-12-23 17:35:09            0    2804\n",
      "243793  5696608 2008-12-24 01:02:48            0    2804\n",
      "243794  5696608 2008-12-30 14:34:45            0    2804\n",
      "243795  5696608 2008-12-30 16:32:12            0    2804\n",
      "\n",
      "[243796 rows x 4 columns]\n"
     ]
    }
   ],
   "source": [
    "query_17 = '''\n",
    "SELECT user_id,\n",
    "       creation_date,\n",
    "       views_count,\n",
    "       SUM(views_count) OVER(PARTITION BY user_id ORDER BY creation_date) AS summ\n",
    "FROM stackoverflow.posts\n",
    "ORDER BY 1\n",
    "'''\n",
    "result_17 = pd.read_sql(query_17, con = engine)\n",
    "print(result_17)"
   ]
  },
  {
   "cell_type": "markdown",
   "id": "b6fc0be1",
   "metadata": {},
   "source": [
    "Комментарий\n",
    "\n",
    "- "
   ]
  },
  {
   "cell_type": "markdown",
   "id": "c806e174",
   "metadata": {},
   "source": [
    "Задача 18\n",
    "\n",
    "Сколько в среднем дней в период с 1 по 7 декабря 2008 года включительно пользователи взаимодействовали с платформой? Для каждого пользователя отберите дни, в которые он или она опубликовали хотя бы один пост. Нужно получить одно целое число — не забудьте округлить результат."
   ]
  },
  {
   "cell_type": "code",
   "execution_count": 33,
   "id": "d0bc89f0",
   "metadata": {
    "scrolled": true
   },
   "outputs": [
    {
     "name": "stdout",
     "output_type": "stream",
     "text": [
      "   round\n",
      "0      2\n"
     ]
    }
   ],
   "source": [
    "query_18 = '''\n",
    "WITH r AS (SELECT COUNT(begi.data) AS days,\n",
    "       begi.user_id\n",
    "FROM \n",
    "(SELECT COUNT(CAST(DATE_TRUNC('day', creation_date) AS date)) AS cnt,\n",
    "       user_id,\n",
    "       CAST(creation_date AS date) AS data\n",
    "FROM stackoverflow.posts\n",
    "WHERE CAST(creation_date AS date) BETWEEN '2008-12-01' AND '2008-12-07'\n",
    "GROUP BY 2,3) AS begi\n",
    "GROUP BY 2)\n",
    "\n",
    "SELECT ROUND(AVG(r.days))::integer\n",
    "FROM r\n",
    "'''\n",
    "result_18 = pd.read_sql(query_18, con = engine)\n",
    "print(result_18)"
   ]
  },
  {
   "cell_type": "code",
   "execution_count": 34,
   "id": "9e6a61f4",
   "metadata": {},
   "outputs": [
    {
     "name": "stdout",
     "output_type": "stream",
     "text": [
      "   round\n",
      "0      2\n"
     ]
    }
   ],
   "source": [
    "query_18 = '''\n",
    "WITH r AS (SELECT COUNT(begi.data) AS days,\n",
    "       begi.user_id\n",
    "FROM \n",
    "(SELECT COUNT(CAST(DATE_TRUNC('day', creation_date) AS date)) AS cnt,\n",
    "       user_id,\n",
    "       CAST(creation_date AS date) AS data\n",
    "FROM stackoverflow.posts\n",
    "WHERE CAST(creation_date AS date) BETWEEN '2008-10-01' AND '2008-10-07'\n",
    "GROUP BY 2,3) AS begi\n",
    "GROUP BY 2)\n",
    "\n",
    "SELECT ROUND(AVG(r.days))::integer\n",
    "FROM r\n",
    "'''\n",
    "result_18 = pd.read_sql(query_18, con = engine)\n",
    "print(result_18)"
   ]
  },
  {
   "cell_type": "markdown",
   "id": "69ac9da8",
   "metadata": {},
   "source": [
    "Комментарий\n",
    "\n",
    "- В среднем 2 дня. Много это или мало можно определить только после сравнения. Сопоставили с аналогичным периодом в сентябре и в октябре. Результаты совпадают. На каникулах программисты не отдыхают!"
   ]
  },
  {
   "cell_type": "markdown",
   "id": "276022ba",
   "metadata": {},
   "source": [
    "Задача 19\n",
    "\n",
    "\n",
    "На сколько процентов менялось количество постов ежемесячно с 1 сентября по 31 декабря 2008 года? Отобразите таблицу со следующими полями:\n",
    " - номер месяца;\n",
    " - количество постов за месяц;\n",
    " - процент, который показывает, насколько изменилось количество постов в текущем месяце по сравнению с предыдущим.\n",
    "Если постов стало меньше, значение процента должно быть отрицательным, если больше — положительным. Округлите значение процента до двух знаков после запятой.\n",
    "Напомним, что при делении одного целого числа на другое в PostgreSQL в результате получится целое число, округлённое до ближайшего целого вниз. Чтобы этого избежать, переведите делимое в тип numeric."
   ]
  },
  {
   "cell_type": "code",
   "execution_count": 35,
   "id": "153a5f42",
   "metadata": {
    "scrolled": true
   },
   "outputs": [
    {
     "name": "stdout",
     "output_type": "stream",
     "text": [
      "    mon    cnt    per\n",
      "0   9.0  70371    NaN\n",
      "1  10.0  63102 -10.33\n",
      "2  11.0  46975 -25.56\n",
      "3  12.0  44592  -5.07\n"
     ]
    }
   ],
   "source": [
    "query_19 = '''\n",
    "WITH s AS (SELECT EXTRACT(MONTH FROM CAST(creation_date AS date)) AS mon,\n",
    "        COUNT(DISTINCT id) AS cnt\n",
    "FROM stackoverflow.posts\n",
    "WHERE CAST(creation_date AS date) BETWEEN '2008-09-01' AND '2008-12-31'           \n",
    "GROUP BY 1)\n",
    "SELECT *,\n",
    "     ROUND(((s.cnt::numeric / LAG(s.cnt) OVER(ORDER BY s.mon)) -1) *100, 2) AS per\n",
    "FROM s\n",
    "'''\n",
    "result_19 = pd.read_sql(query_19, con = engine)\n",
    "print(result_19)"
   ]
  },
  {
   "cell_type": "markdown",
   "id": "48d1d70d",
   "metadata": {},
   "source": [
    "Комментарий\n",
    "\n"
   ]
  },
  {
   "cell_type": "markdown",
   "id": "4689bbcf",
   "metadata": {},
   "source": [
    "Задача 20\n",
    "\n",
    "Выгрузите данные активности пользователя, который опубликовал больше всего постов за всё время. Выведите данные за октябрь 2008 года в таком виде:\n",
    " - номер недели;\n",
    " - дата и время последнего поста, опубликованного на этой неделе."
   ]
  },
  {
   "cell_type": "code",
   "execution_count": 36,
   "id": "c5651430",
   "metadata": {},
   "outputs": [
    {
     "name": "stdout",
     "output_type": "stream",
     "text": [
      "   weeks                 max\n",
      "0   40.0 2008-10-05 09:00:58\n",
      "1   41.0 2008-10-12 21:22:23\n",
      "2   42.0 2008-10-19 06:49:30\n",
      "3   44.0 2008-10-31 22:16:01\n",
      "4   43.0 2008-10-26 21:44:36\n"
     ]
    }
   ],
   "source": [
    "query_20 = '''\n",
    "WITH r AS (SELECT creation_date,\n",
    "       EXTRACT(WEEK FROM CAST(creation_date AS date)) AS weeks\n",
    "FROM stackoverflow.posts sp\n",
    "JOIN\n",
    "(SELECT COUNT(id),\n",
    "       user_id\n",
    "FROM stackoverflow.posts\n",
    "GROUP BY 2\n",
    "ORDER BY 1 DESC\n",
    "LIMIT 1) AS u ON sp.user_id = u.user_id\n",
    "GROUP BY 1,2)\n",
    "SELECT r.weeks,\n",
    "       MAX(r.creation_date)\n",
    "FROM r\n",
    "WHERE CAST(r.creation_date AS date) BETWEEN '2008-10-01' AND '2008-10-31'\n",
    "GROUP BY 1\n",
    "'''\n",
    "result_20 = pd.read_sql(query_20, con = engine)\n",
    "print(result_20)"
   ]
  },
  {
   "cell_type": "markdown",
   "id": "702099e6",
   "metadata": {},
   "source": [
    "Комментарий\n"
   ]
  },
  {
   "cell_type": "markdown",
   "id": "64cbda6e",
   "metadata": {},
   "source": [
    "## Вывод\n"
   ]
  },
  {
   "cell_type": "markdown",
   "id": "5dcd651c",
   "metadata": {},
   "source": [
    "Мы создали коннекцию к база данных и выгрузили таблицы:\n",
    "\n",
    " - badges\n",
    " - post_types\n",
    " - posts\n",
    " - users\n",
    " - vote_types\n",
    " - votes\n",
    " \n",
    "Изучили данные, проверили на дубликаты. Типы данных представлены в корректном виде. Пропуски оставили без изменений.\n",
    " \n",
    "Написали SQL- запросы для ответов на вопросы задания. Результаты запросов прошли проверку тренажера.\n"
   ]
  }
 ],
 "metadata": {
  "ExecuteTimeLog": [
   {
    "duration": 788,
    "start_time": "2022-04-06T19:08:52.963Z"
   },
   {
    "duration": 465,
    "start_time": "2022-04-06T19:09:21.132Z"
   },
   {
    "duration": 18,
    "start_time": "2022-04-06T19:12:13.551Z"
   },
   {
    "duration": 13,
    "start_time": "2022-04-06T19:12:17.154Z"
   },
   {
    "duration": 107,
    "start_time": "2022-04-06T19:39:03.001Z"
   },
   {
    "duration": 9,
    "start_time": "2022-04-06T19:39:14.858Z"
   },
   {
    "duration": 8,
    "start_time": "2022-04-06T19:39:49.945Z"
   },
   {
    "duration": 483,
    "start_time": "2022-07-13T15:20:26.790Z"
   },
   {
    "duration": 12202,
    "start_time": "2022-07-13T15:20:27.275Z"
   },
   {
    "duration": 190,
    "start_time": "2022-07-13T15:20:39.478Z"
   },
   {
    "duration": 229,
    "start_time": "2022-07-13T15:20:39.670Z"
   },
   {
    "duration": 14,
    "start_time": "2022-07-13T15:20:39.901Z"
   },
   {
    "duration": 19,
    "start_time": "2022-07-13T15:20:39.917Z"
   },
   {
    "duration": 4,
    "start_time": "2022-07-13T15:20:39.937Z"
   },
   {
    "duration": 18,
    "start_time": "2022-07-13T15:20:39.943Z"
   },
   {
    "duration": 8,
    "start_time": "2022-07-13T15:20:39.963Z"
   },
   {
    "duration": 6,
    "start_time": "2022-07-13T15:20:39.973Z"
   },
   {
    "duration": 8,
    "start_time": "2022-07-13T15:20:39.981Z"
   },
   {
    "duration": 574,
    "start_time": "2022-07-13T15:20:39.990Z"
   },
   {
    "duration": 201,
    "start_time": "2022-07-13T15:20:40.566Z"
   }
  ],
  "kernelspec": {
   "display_name": "Python 3 (ipykernel)",
   "language": "python",
   "name": "python3"
  },
  "language_info": {
   "codemirror_mode": {
    "name": "ipython",
    "version": 3
   },
   "file_extension": ".py",
   "mimetype": "text/x-python",
   "name": "python",
   "nbconvert_exporter": "python",
   "pygments_lexer": "ipython3",
   "version": "3.9.7"
  },
  "toc": {
   "base_numbering": 1,
   "nav_menu": {
    "height": "118px",
    "width": "238px"
   },
   "number_sections": true,
   "sideBar": true,
   "skip_h1_title": true,
   "title_cell": "Содержание",
   "title_sidebar": "Contents",
   "toc_cell": true,
   "toc_position": {},
   "toc_section_display": true,
   "toc_window_display": true
  }
 },
 "nbformat": 4,
 "nbformat_minor": 5
}
