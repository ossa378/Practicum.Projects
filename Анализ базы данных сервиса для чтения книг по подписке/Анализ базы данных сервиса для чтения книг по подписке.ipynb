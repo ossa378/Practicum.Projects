{
 "cells": [
  {
   "cell_type": "markdown",
   "id": "8654bae1",
   "metadata": {
    "toc": true
   },
   "source": [
    "<h1>Содержание<span class=\"tocSkip\"></span></h1>\n",
    "<div class=\"toc\"><ul class=\"toc-item\"><li><span><a href=\"#Запрос-к-базе-данных\" data-toc-modified-id=\"Запрос-к-базе-данных-1\"><span class=\"toc-item-num\">1&nbsp;&nbsp;</span>Запрос к базе данных</a></span></li><li><span><a href=\"#SQL-запросы\" data-toc-modified-id=\"SQL-запросы-2\"><span class=\"toc-item-num\">2&nbsp;&nbsp;</span>SQL-запросы</a></span></li><li><span><a href=\"#Вывод\" data-toc-modified-id=\"Вывод-3\"><span class=\"toc-item-num\">3&nbsp;&nbsp;</span>Вывод</a></span></li></ul></div>"
   ]
  },
  {
   "cell_type": "markdown",
   "id": "08f057c6",
   "metadata": {},
   "source": [
    "# Анализ базы данных сервиса для чтения книг по подписке"
   ]
  },
  {
   "cell_type": "markdown",
   "id": "e4226766",
   "metadata": {},
   "source": [
    "Эпидемия коронавируса изменила привычный порядок вещей на некоторое время. У жителей городов появилось много свободного времени, которое нужно провести в уединении. Чтение книг один из вариантов такого досуга. Количество сервисов по чтению книг по подписке стало расти. \n",
    "\n",
    "Для одного из них необходимо провести анализ базы данных. В ней  вся информация о книгах, издательствах, авторах, а также пользовательские обзоры книг. На основе анализа этих данных будет сформулированы предложения для создания нового продукта.\n",
    "\n",
    "Данные в базе находятся в таблицах\n",
    " - books\n",
    " - authors\n",
    " - publishers\n",
    " - ratings\n",
    " - reviews\n",
    "\n",
    "\n",
    "**Задачи данной работы:**\n",
    "\n",
    " - выгрузить информацию из базы данных в файлы `csv`\n",
    " \n",
    " - исследовать таблицы\n",
    " \n",
    " - написать SQL-запросы\n",
    " \n",
    "\n",
    "**Таким образом работа пройдет по следующим этапам:**\n",
    "\n",
    " - создадим коннекцию к базе\n",
    " - напишем код для выгрузки данных из таблицы в csv-файлы\n",
    " - изучим данные\n",
    " - напишем SQL-запросы\n",
    "  "
   ]
  },
  {
   "cell_type": "markdown",
   "id": "10519421",
   "metadata": {},
   "source": [
    "## Запрос к базе данных"
   ]
  },
  {
   "cell_type": "markdown",
   "id": "6562558b",
   "metadata": {},
   "source": [
    " - Создадим запрос к базе данных и сохраним информацию в csv-файл"
   ]
  },
  {
   "cell_type": "code",
   "execution_count": 1,
   "id": "6d2877fa",
   "metadata": {},
   "outputs": [],
   "source": [
    "#!pip install ipython-sql               # импортируем библиотеки\n",
    "#!pip3 install psycopg2\n",
    "\n",
    "import pandas as pd\n",
    "from sqlalchemy import create_engine  \n"
   ]
  },
  {
   "cell_type": "code",
   "execution_count": 2,
   "id": "c795a443",
   "metadata": {},
   "outputs": [],
   "source": [
    "# устанавливаем параметры\n",
    "db_config = {'user': 'praktikum_student', # имя пользователя\n",
    "             'pwd': 'Sdf4$2;d-d30pp', # пароль\n",
    "             'host': 'rc1b-wcoijxj3yxfsf3fs.mdb.yandexcloud.net',\n",
    "             'port': 6432, # порт подключения\n",
    "             'db': 'data-analyst-final-project-db'} # название базы данных\n",
    "connection_string = 'postgresql://{}:{}@{}:{}/{}'.format(db_config['user'],\n",
    "                                                        db_config['pwd'],\n",
    "                                                        db_config['host'],\n",
    "                                                        db_config['port'],\n",
    "                                                        db_config['db'])\n",
    "# сохраняем коннектор\n",
    "engine = create_engine(connection_string, connect_args={'sslmode':'require'})\n",
    "                                               "
   ]
  },
  {
   "cell_type": "code",
   "execution_count": 3,
   "id": "d0afdbde",
   "metadata": {},
   "outputs": [
    {
     "data": {
      "text/html": [
       "<div>\n",
       "<style scoped>\n",
       "    .dataframe tbody tr th:only-of-type {\n",
       "        vertical-align: middle;\n",
       "    }\n",
       "\n",
       "    .dataframe tbody tr th {\n",
       "        vertical-align: top;\n",
       "    }\n",
       "\n",
       "    .dataframe thead th {\n",
       "        text-align: right;\n",
       "    }\n",
       "</style>\n",
       "<table border=\"1\" class=\"dataframe\">\n",
       "  <thead>\n",
       "    <tr style=\"text-align: right;\">\n",
       "      <th></th>\n",
       "      <th>book_id</th>\n",
       "      <th>author_id</th>\n",
       "      <th>title</th>\n",
       "      <th>num_pages</th>\n",
       "      <th>publication_date</th>\n",
       "      <th>publisher_id</th>\n",
       "    </tr>\n",
       "  </thead>\n",
       "  <tbody>\n",
       "    <tr>\n",
       "      <th>0</th>\n",
       "      <td>1</td>\n",
       "      <td>546</td>\n",
       "      <td>'Salem's Lot</td>\n",
       "      <td>594</td>\n",
       "      <td>2005-11-01</td>\n",
       "      <td>93</td>\n",
       "    </tr>\n",
       "    <tr>\n",
       "      <th>1</th>\n",
       "      <td>2</td>\n",
       "      <td>465</td>\n",
       "      <td>1 000 Places to See Before You Die</td>\n",
       "      <td>992</td>\n",
       "      <td>2003-05-22</td>\n",
       "      <td>336</td>\n",
       "    </tr>\n",
       "    <tr>\n",
       "      <th>2</th>\n",
       "      <td>3</td>\n",
       "      <td>407</td>\n",
       "      <td>13 Little Blue Envelopes (Little Blue Envelope...</td>\n",
       "      <td>322</td>\n",
       "      <td>2010-12-21</td>\n",
       "      <td>135</td>\n",
       "    </tr>\n",
       "    <tr>\n",
       "      <th>3</th>\n",
       "      <td>4</td>\n",
       "      <td>82</td>\n",
       "      <td>1491: New Revelations of the Americas Before C...</td>\n",
       "      <td>541</td>\n",
       "      <td>2006-10-10</td>\n",
       "      <td>309</td>\n",
       "    </tr>\n",
       "    <tr>\n",
       "      <th>4</th>\n",
       "      <td>5</td>\n",
       "      <td>125</td>\n",
       "      <td>1776</td>\n",
       "      <td>386</td>\n",
       "      <td>2006-07-04</td>\n",
       "      <td>268</td>\n",
       "    </tr>\n",
       "  </tbody>\n",
       "</table>\n",
       "</div>"
      ],
      "text/plain": [
       "   book_id  author_id                                              title  \\\n",
       "0        1        546                                       'Salem's Lot   \n",
       "1        2        465                 1 000 Places to See Before You Die   \n",
       "2        3        407  13 Little Blue Envelopes (Little Blue Envelope...   \n",
       "3        4         82  1491: New Revelations of the Americas Before C...   \n",
       "4        5        125                                               1776   \n",
       "\n",
       "   num_pages publication_date  publisher_id  \n",
       "0        594       2005-11-01            93  \n",
       "1        992       2003-05-22           336  \n",
       "2        322       2010-12-21           135  \n",
       "3        541       2006-10-10           309  \n",
       "4        386       2006-07-04           268  "
      ]
     },
     "execution_count": 3,
     "metadata": {},
     "output_type": "execute_result"
    }
   ],
   "source": [
    "query = '''                  \n",
    "           SELECT *\n",
    "           FROM books\n",
    "        '''\n",
    "\n",
    "books_raw = pd.io.sql.read_sql(query, con = engine)\n",
    "books_raw.to_csv('books.csv', index = False)\n",
    "books = books_raw\n",
    "books.head()"
   ]
  },
  {
   "cell_type": "code",
   "execution_count": 4,
   "id": "bf182a55",
   "metadata": {
    "scrolled": true
   },
   "outputs": [
    {
     "name": "stdout",
     "output_type": "stream",
     "text": [
      "<class 'pandas.core.frame.DataFrame'>\n",
      "RangeIndex: 1000 entries, 0 to 999\n",
      "Data columns (total 6 columns):\n",
      " #   Column            Non-Null Count  Dtype \n",
      "---  ------            --------------  ----- \n",
      " 0   book_id           1000 non-null   int64 \n",
      " 1   author_id         1000 non-null   int64 \n",
      " 2   title             1000 non-null   object\n",
      " 3   num_pages         1000 non-null   int64 \n",
      " 4   publication_date  1000 non-null   object\n",
      " 5   publisher_id      1000 non-null   int64 \n",
      "dtypes: int64(4), object(2)\n",
      "memory usage: 47.0+ KB\n"
     ]
    }
   ],
   "source": [
    "books.info()"
   ]
  },
  {
   "cell_type": "code",
   "execution_count": 5,
   "id": "d917f41a",
   "metadata": {
    "scrolled": false
   },
   "outputs": [
    {
     "data": {
      "text/plain": [
       "1000"
      ]
     },
     "execution_count": 5,
     "metadata": {},
     "output_type": "execute_result"
    }
   ],
   "source": [
    "books['book_id'].nunique()"
   ]
  },
  {
   "cell_type": "code",
   "execution_count": 6,
   "id": "4e6c5584",
   "metadata": {
    "scrolled": true
   },
   "outputs": [
    {
     "data": {
      "text/html": [
       "<div>\n",
       "<style scoped>\n",
       "    .dataframe tbody tr th:only-of-type {\n",
       "        vertical-align: middle;\n",
       "    }\n",
       "\n",
       "    .dataframe tbody tr th {\n",
       "        vertical-align: top;\n",
       "    }\n",
       "\n",
       "    .dataframe thead th {\n",
       "        text-align: right;\n",
       "    }\n",
       "</style>\n",
       "<table border=\"1\" class=\"dataframe\">\n",
       "  <thead>\n",
       "    <tr style=\"text-align: right;\">\n",
       "      <th></th>\n",
       "      <th>author_id</th>\n",
       "      <th>author</th>\n",
       "    </tr>\n",
       "  </thead>\n",
       "  <tbody>\n",
       "    <tr>\n",
       "      <th>0</th>\n",
       "      <td>1</td>\n",
       "      <td>A.S. Byatt</td>\n",
       "    </tr>\n",
       "    <tr>\n",
       "      <th>1</th>\n",
       "      <td>2</td>\n",
       "      <td>Aesop/Laura Harris/Laura Gibbs</td>\n",
       "    </tr>\n",
       "    <tr>\n",
       "      <th>2</th>\n",
       "      <td>3</td>\n",
       "      <td>Agatha Christie</td>\n",
       "    </tr>\n",
       "    <tr>\n",
       "      <th>3</th>\n",
       "      <td>4</td>\n",
       "      <td>Alan Brennert</td>\n",
       "    </tr>\n",
       "    <tr>\n",
       "      <th>4</th>\n",
       "      <td>5</td>\n",
       "      <td>Alan Moore/David   Lloyd</td>\n",
       "    </tr>\n",
       "  </tbody>\n",
       "</table>\n",
       "</div>"
      ],
      "text/plain": [
       "   author_id                          author\n",
       "0          1                      A.S. Byatt\n",
       "1          2  Aesop/Laura Harris/Laura Gibbs\n",
       "2          3                 Agatha Christie\n",
       "3          4                   Alan Brennert\n",
       "4          5        Alan Moore/David   Lloyd"
      ]
     },
     "execution_count": 6,
     "metadata": {},
     "output_type": "execute_result"
    }
   ],
   "source": [
    "query = '''                  \n",
    "           SELECT *\n",
    "           FROM authors\n",
    "        '''\n",
    "\n",
    "authors_raw = pd.io.sql.read_sql(query, con = engine)\n",
    "authors_raw.to_csv('authors.csv', index = False)\n",
    "authors =authors_raw\n",
    "authors.head()"
   ]
  },
  {
   "cell_type": "code",
   "execution_count": 7,
   "id": "1e03185d",
   "metadata": {},
   "outputs": [
    {
     "name": "stdout",
     "output_type": "stream",
     "text": [
      "<class 'pandas.core.frame.DataFrame'>\n",
      "RangeIndex: 636 entries, 0 to 635\n",
      "Data columns (total 2 columns):\n",
      " #   Column     Non-Null Count  Dtype \n",
      "---  ------     --------------  ----- \n",
      " 0   author_id  636 non-null    int64 \n",
      " 1   author     636 non-null    object\n",
      "dtypes: int64(1), object(1)\n",
      "memory usage: 10.1+ KB\n"
     ]
    }
   ],
   "source": [
    "authors.info()"
   ]
  },
  {
   "cell_type": "code",
   "execution_count": 8,
   "id": "46be17cd",
   "metadata": {},
   "outputs": [
    {
     "data": {
      "text/html": [
       "<div>\n",
       "<style scoped>\n",
       "    .dataframe tbody tr th:only-of-type {\n",
       "        vertical-align: middle;\n",
       "    }\n",
       "\n",
       "    .dataframe tbody tr th {\n",
       "        vertical-align: top;\n",
       "    }\n",
       "\n",
       "    .dataframe thead th {\n",
       "        text-align: right;\n",
       "    }\n",
       "</style>\n",
       "<table border=\"1\" class=\"dataframe\">\n",
       "  <thead>\n",
       "    <tr style=\"text-align: right;\">\n",
       "      <th></th>\n",
       "      <th>publisher_id</th>\n",
       "      <th>publisher</th>\n",
       "    </tr>\n",
       "  </thead>\n",
       "  <tbody>\n",
       "    <tr>\n",
       "      <th>0</th>\n",
       "      <td>1</td>\n",
       "      <td>Ace</td>\n",
       "    </tr>\n",
       "    <tr>\n",
       "      <th>1</th>\n",
       "      <td>2</td>\n",
       "      <td>Ace Book</td>\n",
       "    </tr>\n",
       "    <tr>\n",
       "      <th>2</th>\n",
       "      <td>3</td>\n",
       "      <td>Ace Books</td>\n",
       "    </tr>\n",
       "    <tr>\n",
       "      <th>3</th>\n",
       "      <td>4</td>\n",
       "      <td>Ace Hardcover</td>\n",
       "    </tr>\n",
       "    <tr>\n",
       "      <th>4</th>\n",
       "      <td>5</td>\n",
       "      <td>Addison Wesley Publishing Company</td>\n",
       "    </tr>\n",
       "  </tbody>\n",
       "</table>\n",
       "</div>"
      ],
      "text/plain": [
       "   publisher_id                          publisher\n",
       "0             1                                Ace\n",
       "1             2                           Ace Book\n",
       "2             3                          Ace Books\n",
       "3             4                      Ace Hardcover\n",
       "4             5  Addison Wesley Publishing Company"
      ]
     },
     "execution_count": 8,
     "metadata": {},
     "output_type": "execute_result"
    }
   ],
   "source": [
    "query = '''                  \n",
    "           SELECT *\n",
    "           FROM publishers\n",
    "        '''\n",
    "\n",
    "publishers_raw = pd.io.sql.read_sql(query, con = engine)\n",
    "publishers_raw.to_csv('publishers.csv', index = False)\n",
    "publishers =publishers_raw\n",
    "publishers.head()"
   ]
  },
  {
   "cell_type": "code",
   "execution_count": 9,
   "id": "92dbd736",
   "metadata": {},
   "outputs": [
    {
     "name": "stdout",
     "output_type": "stream",
     "text": [
      "<class 'pandas.core.frame.DataFrame'>\n",
      "RangeIndex: 340 entries, 0 to 339\n",
      "Data columns (total 2 columns):\n",
      " #   Column        Non-Null Count  Dtype \n",
      "---  ------        --------------  ----- \n",
      " 0   publisher_id  340 non-null    int64 \n",
      " 1   publisher     340 non-null    object\n",
      "dtypes: int64(1), object(1)\n",
      "memory usage: 5.4+ KB\n"
     ]
    }
   ],
   "source": [
    "publishers.info()"
   ]
  },
  {
   "cell_type": "code",
   "execution_count": 10,
   "id": "90594b99",
   "metadata": {},
   "outputs": [
    {
     "data": {
      "text/html": [
       "<div>\n",
       "<style scoped>\n",
       "    .dataframe tbody tr th:only-of-type {\n",
       "        vertical-align: middle;\n",
       "    }\n",
       "\n",
       "    .dataframe tbody tr th {\n",
       "        vertical-align: top;\n",
       "    }\n",
       "\n",
       "    .dataframe thead th {\n",
       "        text-align: right;\n",
       "    }\n",
       "</style>\n",
       "<table border=\"1\" class=\"dataframe\">\n",
       "  <thead>\n",
       "    <tr style=\"text-align: right;\">\n",
       "      <th></th>\n",
       "      <th>rating_id</th>\n",
       "      <th>book_id</th>\n",
       "      <th>username</th>\n",
       "      <th>rating</th>\n",
       "    </tr>\n",
       "  </thead>\n",
       "  <tbody>\n",
       "    <tr>\n",
       "      <th>0</th>\n",
       "      <td>1</td>\n",
       "      <td>1</td>\n",
       "      <td>ryanfranco</td>\n",
       "      <td>4</td>\n",
       "    </tr>\n",
       "    <tr>\n",
       "      <th>1</th>\n",
       "      <td>2</td>\n",
       "      <td>1</td>\n",
       "      <td>grantpatricia</td>\n",
       "      <td>2</td>\n",
       "    </tr>\n",
       "    <tr>\n",
       "      <th>2</th>\n",
       "      <td>3</td>\n",
       "      <td>1</td>\n",
       "      <td>brandtandrea</td>\n",
       "      <td>5</td>\n",
       "    </tr>\n",
       "    <tr>\n",
       "      <th>3</th>\n",
       "      <td>4</td>\n",
       "      <td>2</td>\n",
       "      <td>lorichen</td>\n",
       "      <td>3</td>\n",
       "    </tr>\n",
       "    <tr>\n",
       "      <th>4</th>\n",
       "      <td>5</td>\n",
       "      <td>2</td>\n",
       "      <td>mariokeller</td>\n",
       "      <td>2</td>\n",
       "    </tr>\n",
       "  </tbody>\n",
       "</table>\n",
       "</div>"
      ],
      "text/plain": [
       "   rating_id  book_id       username  rating\n",
       "0          1        1     ryanfranco       4\n",
       "1          2        1  grantpatricia       2\n",
       "2          3        1   brandtandrea       5\n",
       "3          4        2       lorichen       3\n",
       "4          5        2    mariokeller       2"
      ]
     },
     "execution_count": 10,
     "metadata": {},
     "output_type": "execute_result"
    }
   ],
   "source": [
    "query = '''                  \n",
    "           SELECT *\n",
    "           FROM ratings\n",
    "        '''\n",
    "\n",
    "ratings_raw = pd.io.sql.read_sql(query, con = engine)\n",
    "ratings_raw.to_csv('ratings.csv', index = False)\n",
    "ratings = ratings_raw\n",
    "ratings.head()"
   ]
  },
  {
   "cell_type": "code",
   "execution_count": 11,
   "id": "843e64f6",
   "metadata": {},
   "outputs": [
    {
     "name": "stdout",
     "output_type": "stream",
     "text": [
      "<class 'pandas.core.frame.DataFrame'>\n",
      "RangeIndex: 6456 entries, 0 to 6455\n",
      "Data columns (total 4 columns):\n",
      " #   Column     Non-Null Count  Dtype \n",
      "---  ------     --------------  ----- \n",
      " 0   rating_id  6456 non-null   int64 \n",
      " 1   book_id    6456 non-null   int64 \n",
      " 2   username   6456 non-null   object\n",
      " 3   rating     6456 non-null   int64 \n",
      "dtypes: int64(3), object(1)\n",
      "memory usage: 201.9+ KB\n"
     ]
    }
   ],
   "source": [
    "ratings.info()"
   ]
  },
  {
   "cell_type": "code",
   "execution_count": 12,
   "id": "0cd36c3a",
   "metadata": {},
   "outputs": [
    {
     "data": {
      "text/html": [
       "<div>\n",
       "<style scoped>\n",
       "    .dataframe tbody tr th:only-of-type {\n",
       "        vertical-align: middle;\n",
       "    }\n",
       "\n",
       "    .dataframe tbody tr th {\n",
       "        vertical-align: top;\n",
       "    }\n",
       "\n",
       "    .dataframe thead th {\n",
       "        text-align: right;\n",
       "    }\n",
       "</style>\n",
       "<table border=\"1\" class=\"dataframe\">\n",
       "  <thead>\n",
       "    <tr style=\"text-align: right;\">\n",
       "      <th></th>\n",
       "      <th>review_id</th>\n",
       "      <th>book_id</th>\n",
       "      <th>username</th>\n",
       "      <th>text</th>\n",
       "    </tr>\n",
       "  </thead>\n",
       "  <tbody>\n",
       "    <tr>\n",
       "      <th>0</th>\n",
       "      <td>1</td>\n",
       "      <td>1</td>\n",
       "      <td>brandtandrea</td>\n",
       "      <td>Mention society tell send professor analysis. ...</td>\n",
       "    </tr>\n",
       "    <tr>\n",
       "      <th>1</th>\n",
       "      <td>2</td>\n",
       "      <td>1</td>\n",
       "      <td>ryanfranco</td>\n",
       "      <td>Foot glass pretty audience hit themselves. Amo...</td>\n",
       "    </tr>\n",
       "    <tr>\n",
       "      <th>2</th>\n",
       "      <td>3</td>\n",
       "      <td>2</td>\n",
       "      <td>lorichen</td>\n",
       "      <td>Listen treat keep worry. Miss husband tax but ...</td>\n",
       "    </tr>\n",
       "    <tr>\n",
       "      <th>3</th>\n",
       "      <td>4</td>\n",
       "      <td>3</td>\n",
       "      <td>johnsonamanda</td>\n",
       "      <td>Finally month interesting blue could nature cu...</td>\n",
       "    </tr>\n",
       "    <tr>\n",
       "      <th>4</th>\n",
       "      <td>5</td>\n",
       "      <td>3</td>\n",
       "      <td>scotttamara</td>\n",
       "      <td>Nation purpose heavy give wait song will. List...</td>\n",
       "    </tr>\n",
       "  </tbody>\n",
       "</table>\n",
       "</div>"
      ],
      "text/plain": [
       "   review_id  book_id       username  \\\n",
       "0          1        1   brandtandrea   \n",
       "1          2        1     ryanfranco   \n",
       "2          3        2       lorichen   \n",
       "3          4        3  johnsonamanda   \n",
       "4          5        3    scotttamara   \n",
       "\n",
       "                                                text  \n",
       "0  Mention society tell send professor analysis. ...  \n",
       "1  Foot glass pretty audience hit themselves. Amo...  \n",
       "2  Listen treat keep worry. Miss husband tax but ...  \n",
       "3  Finally month interesting blue could nature cu...  \n",
       "4  Nation purpose heavy give wait song will. List...  "
      ]
     },
     "execution_count": 12,
     "metadata": {},
     "output_type": "execute_result"
    }
   ],
   "source": [
    "query = '''                  \n",
    "           SELECT *\n",
    "           FROM reviews\n",
    "        '''\n",
    "\n",
    "reviews_raw = pd.io.sql.read_sql(query, con = engine)\n",
    "reviews_raw.to_csv('reviews.csv', index = False)\n",
    "reviews = reviews_raw\n",
    "reviews.head()"
   ]
  },
  {
   "cell_type": "code",
   "execution_count": 13,
   "id": "3b7d065d",
   "metadata": {},
   "outputs": [
    {
     "name": "stdout",
     "output_type": "stream",
     "text": [
      "<class 'pandas.core.frame.DataFrame'>\n",
      "RangeIndex: 2793 entries, 0 to 2792\n",
      "Data columns (total 4 columns):\n",
      " #   Column     Non-Null Count  Dtype \n",
      "---  ------     --------------  ----- \n",
      " 0   review_id  2793 non-null   int64 \n",
      " 1   book_id    2793 non-null   int64 \n",
      " 2   username   2793 non-null   object\n",
      " 3   text       2793 non-null   object\n",
      "dtypes: int64(2), object(2)\n",
      "memory usage: 87.4+ KB\n"
     ]
    }
   ],
   "source": [
    "reviews.info()"
   ]
  },
  {
   "cell_type": "code",
   "execution_count": 14,
   "id": "36e20401",
   "metadata": {},
   "outputs": [
    {
     "name": "stdout",
     "output_type": "stream",
     "text": [
      "0\n",
      "0\n",
      "0\n",
      "0\n",
      "0\n"
     ]
    }
   ],
   "source": [
    "tables = [books, authors, publishers, ratings, reviews]\n",
    "for i in tables:\n",
    "    print(i.duplicated().sum())"
   ]
  },
  {
   "cell_type": "markdown",
   "id": "38dd1156",
   "metadata": {},
   "source": [
    "**Вывод**\n",
    "\n",
    "Данные представлены в корректном виде\n",
    " - пропусков нет\n",
    " - дубликатов нет\n",
    " - типы танных соответствуют ожидаемым. Исключения таблица books, где дата записана как тип object, но в самом sql-запросе мы сделали преобразование"
   ]
  },
  {
   "cell_type": "markdown",
   "id": "e6f105a5",
   "metadata": {},
   "source": [
    "## SQL-запросы"
   ]
  },
  {
   "cell_type": "markdown",
   "id": "f3721aec",
   "metadata": {},
   "source": [
    " - *Посчитайте,сколько книг вышло после 1 января 2000 года*"
   ]
  },
  {
   "cell_type": "code",
   "execution_count": 15,
   "id": "659a758e",
   "metadata": {},
   "outputs": [],
   "source": [
    "query_1 = ''' SELECT COUNT(book_id)\n",
    "               FROM books \n",
    "               WHERE publication_date::date >= '2000-01-01'\n",
    "               '''"
   ]
  },
  {
   "cell_type": "code",
   "execution_count": 16,
   "id": "75fd17e1",
   "metadata": {},
   "outputs": [
    {
     "name": "stdout",
     "output_type": "stream",
     "text": [
      "   count\n",
      "0    821\n"
     ]
    }
   ],
   "source": [
    "result_1 = pd.read_sql(query_1, con = engine)\n",
    "print(result_1)"
   ]
  },
  {
   "cell_type": "markdown",
   "id": "42e4492b",
   "metadata": {},
   "source": [
    "Комментарий\n",
    "\n",
    "- Начиная с 1 января 2000 года вышло 821 книга"
   ]
  },
  {
   "cell_type": "markdown",
   "id": "896e6e7f",
   "metadata": {},
   "source": [
    " - *Для каждой книги посчитайте количество обзоров и среднюю оценку*"
   ]
  },
  {
   "cell_type": "code",
   "execution_count": 17,
   "id": "072d32b2",
   "metadata": {},
   "outputs": [],
   "source": [
    "query_2 = '''SELECT b.book_id,\n",
    "                    COUNT(rv.review_id) AS review_count,\n",
    "                    ROUND(AVG(rt.rating),1) AS rating_avg\n",
    "             FROM books b\n",
    "             LEFT JOIN ratings rt ON b.book_id = rt.book_id\n",
    "             LEFT JOIN reviews rv ON b.book_id = rv.book_id\n",
    "             GROUP BY b.book_id\n",
    "             \n",
    "             \n",
    "          '''"
   ]
  },
  {
   "cell_type": "code",
   "execution_count": 18,
   "id": "f927bec9",
   "metadata": {},
   "outputs": [
    {
     "name": "stdout",
     "output_type": "stream",
     "text": [
      "     book_id  review_count  rating_avg\n",
      "0        652             4         4.5\n",
      "1        273             4         4.5\n",
      "2         51            60         4.3\n",
      "3        951             4         4.0\n",
      "4        839            28         4.3\n",
      "..       ...           ...         ...\n",
      "995       64            52         4.2\n",
      "996       55             4         5.0\n",
      "997      148            21         3.4\n",
      "998      790             4         3.5\n",
      "999      828             4         3.0\n",
      "\n",
      "[1000 rows x 3 columns]\n"
     ]
    }
   ],
   "source": [
    "result_2 = pd.read_sql(query_2, con = engine)\n",
    "print(result_2)"
   ]
  },
  {
   "cell_type": "markdown",
   "id": "18b1b396",
   "metadata": {
    "scrolled": true
   },
   "source": [
    "Комментарий\n",
    "\n",
    " - Количество обзоров и среднюю оценку для каждой книги посчитали\n"
   ]
  },
  {
   "cell_type": "markdown",
   "id": "099c2327",
   "metadata": {},
   "source": [
    "- *Определите издательство, которое выпустило наибольшее число книг толще 50 страниц*"
   ]
  },
  {
   "cell_type": "code",
   "execution_count": 19,
   "id": "c85c4ef0",
   "metadata": {},
   "outputs": [],
   "source": [
    "query_3 = '''  SELECT p.publisher,\n",
    "               COUNT(b.book_id) AS num\n",
    "                    \n",
    "             FROM publishers p\n",
    "             JOIN books b ON b.publisher_id = p.publisher_id\n",
    "             WHERE b.num_pages > 50\n",
    "             GROUP BY p.publisher\n",
    "             ORDER BY num DESC\n",
    "             LIMIT 1\n",
    "                    \n",
    "             '''"
   ]
  },
  {
   "cell_type": "code",
   "execution_count": 20,
   "id": "a32a5fc7",
   "metadata": {},
   "outputs": [
    {
     "name": "stdout",
     "output_type": "stream",
     "text": [
      "       publisher  num\n",
      "0  Penguin Books   42\n"
     ]
    }
   ],
   "source": [
    "result_3 = pd.read_sql(query_3, con = engine)\n",
    "print(result_3)"
   ]
  },
  {
   "cell_type": "markdown",
   "id": "426dc103",
   "metadata": {},
   "source": [
    "Комментарий\n",
    " - Penguin Books - издательство, которое выпустило больше всего книг, толще 50 страниц. Таких книг у него 42"
   ]
  },
  {
   "cell_type": "markdown",
   "id": "8e26a756",
   "metadata": {},
   "source": [
    " - *Определите автора с самой высокой средней оценкой книг. Учитывайте только книги с 50 и более оценками*"
   ]
  },
  {
   "cell_type": "code",
   "execution_count": 21,
   "id": "1e7558ce",
   "metadata": {},
   "outputs": [],
   "source": [
    "query_4 = '''WITH h AS(SELECT a.author,\n",
    "                    COUNT(r.rating_id) AS counter,\n",
    "                    ROUND(AVG(r.rating), 2) AS rating\n",
    "                    FROM books b\n",
    "                    JOIN authors a ON b.author_id = a.author_id\n",
    "                    LEFT JOIN ratings r ON b.book_id = r.book_id\n",
    "                    GROUP BY a.author)\n",
    "             SELECT h.author,\n",
    "                    h.rating\n",
    "            FROM h\n",
    "            WHERE h.counter >= 50\n",
    "            GROUP BY 1, 2\n",
    "            ORDER BY 2 DESC\n",
    "            LIMIT 1\n",
    "                      \n",
    "          '''"
   ]
  },
  {
   "cell_type": "code",
   "execution_count": 22,
   "id": "5e294662",
   "metadata": {},
   "outputs": [
    {
     "name": "stdout",
     "output_type": "stream",
     "text": [
      "           author  rating\n",
      "0  Diana Gabaldon     4.3\n"
     ]
    }
   ],
   "source": [
    "result_4 = pd.read_sql(query_4, con = engine)\n",
    "print(result_4)"
   ]
  },
  {
   "cell_type": "markdown",
   "id": "71183006",
   "metadata": {},
   "source": [
    "Комментарий\n",
    " - Диана Гэблдон автор автор с самой высокой средней оценкой книг (для книг с 50 оценками и более)"
   ]
  },
  {
   "cell_type": "markdown",
   "id": "7a426a2e",
   "metadata": {},
   "source": [
    " - Посчитайте среднее количество обзоров от пользователей, которые поставили больше 50 оценок"
   ]
  },
  {
   "cell_type": "code",
   "execution_count": 23,
   "id": "fc99ca6e",
   "metadata": {},
   "outputs": [],
   "source": [
    "query_5 = '''WITH r AS (SELECT \n",
    "                    rv.username,\n",
    "                    COUNT(rt.rating_id) AS rat,\n",
    "                    COUNT(rv.review_id) AS rev\n",
    "                FROM ratings rt\n",
    "                JOIN reviews rv ON rt.username = rv.username\n",
    "                GROUP BY 1)\n",
    "                SELECT ROUND(AVG(r.rev))  AS avg_review\n",
    "                 FROM r     \n",
    "                WHERE r.rat >50\n",
    "                \n",
    "            '''"
   ]
  },
  {
   "cell_type": "code",
   "execution_count": 24,
   "id": "85e38b85",
   "metadata": {},
   "outputs": [
    {
     "name": "stdout",
     "output_type": "stream",
     "text": [
      "   avg_review\n",
      "0       720.0\n"
     ]
    }
   ],
   "source": [
    "result_5 = pd.read_sql(query_5, con = engine)\n",
    "print(result_5)"
   ]
  },
  {
   "cell_type": "markdown",
   "id": "29e4f21e",
   "metadata": {},
   "source": [
    "Комментарий\n",
    "\n",
    "Среднее количество обзоров от пользователей, которые поставили больше 50 оценок  - 720"
   ]
  },
  {
   "cell_type": "markdown",
   "id": "64cbda6e",
   "metadata": {},
   "source": [
    "## Вывод\n"
   ]
  },
  {
   "cell_type": "markdown",
   "id": "5dcd651c",
   "metadata": {},
   "source": [
    "Мы создали коннекцию к база данных и выгрузили таблицы\n",
    "\n",
    " - books\n",
    " - authors\n",
    " - publishers\n",
    " - ratings\n",
    " - reviews\n",
    " \n",
    "Изучили данные, проверили на дубликаты \n",
    " \n",
    "Написали SQL- запросы для ответов на вопросы задания и получили следующую информацию\n",
    "\n",
    " - После 1 января 2000 года вышло 821 книга\n",
    " - Посчитали количество обзоров и среднюю оценку для каждой книги\n",
    " - Penguin Books издательство, которое выпустило больше всего книг толще 50 страниц. Всего таких книг - 42\n",
    " - Диана Гэблдон - автор книг с самой высокой средней оценкой книг  (для книг с 50 оценками и более)\n",
    " - Среднее количество обзоров от пользователей, которые поставили больше 50 оценок - 720 "
   ]
  }
 ],
 "metadata": {
  "ExecuteTimeLog": [
   {
    "duration": 788,
    "start_time": "2022-04-06T19:08:52.963Z"
   },
   {
    "duration": 465,
    "start_time": "2022-04-06T19:09:21.132Z"
   },
   {
    "duration": 18,
    "start_time": "2022-04-06T19:12:13.551Z"
   },
   {
    "duration": 13,
    "start_time": "2022-04-06T19:12:17.154Z"
   },
   {
    "duration": 107,
    "start_time": "2022-04-06T19:39:03.001Z"
   },
   {
    "duration": 9,
    "start_time": "2022-04-06T19:39:14.858Z"
   },
   {
    "duration": 8,
    "start_time": "2022-04-06T19:39:49.945Z"
   },
   {
    "duration": 483,
    "start_time": "2022-07-13T15:20:26.790Z"
   },
   {
    "duration": 12202,
    "start_time": "2022-07-13T15:20:27.275Z"
   },
   {
    "duration": 190,
    "start_time": "2022-07-13T15:20:39.478Z"
   },
   {
    "duration": 229,
    "start_time": "2022-07-13T15:20:39.670Z"
   },
   {
    "duration": 14,
    "start_time": "2022-07-13T15:20:39.901Z"
   },
   {
    "duration": 19,
    "start_time": "2022-07-13T15:20:39.917Z"
   },
   {
    "duration": 4,
    "start_time": "2022-07-13T15:20:39.937Z"
   },
   {
    "duration": 18,
    "start_time": "2022-07-13T15:20:39.943Z"
   },
   {
    "duration": 8,
    "start_time": "2022-07-13T15:20:39.963Z"
   },
   {
    "duration": 6,
    "start_time": "2022-07-13T15:20:39.973Z"
   },
   {
    "duration": 8,
    "start_time": "2022-07-13T15:20:39.981Z"
   },
   {
    "duration": 574,
    "start_time": "2022-07-13T15:20:39.990Z"
   },
   {
    "duration": 201,
    "start_time": "2022-07-13T15:20:40.566Z"
   },
   {
    "duration": 498,
    "start_time": "2022-08-23T13:39:20.702Z"
   },
   {
    "duration": 6005,
    "start_time": "2022-08-23T13:39:21.202Z"
   },
   {
    "duration": 368,
    "start_time": "2022-08-23T13:39:27.209Z"
   },
   {
    "duration": 11,
    "start_time": "2022-08-23T13:39:27.579Z"
   },
   {
    "duration": 6,
    "start_time": "2022-08-23T13:39:27.591Z"
   },
   {
    "duration": 180,
    "start_time": "2022-08-23T13:39:27.598Z"
   },
   {
    "duration": 9,
    "start_time": "2022-08-23T13:39:27.780Z"
   },
   {
    "duration": 165,
    "start_time": "2022-08-23T13:39:27.790Z"
   },
   {
    "duration": 10,
    "start_time": "2022-08-23T13:39:27.957Z"
   },
   {
    "duration": 220,
    "start_time": "2022-08-23T13:39:27.969Z"
   },
   {
    "duration": 9,
    "start_time": "2022-08-23T13:39:28.190Z"
   },
   {
    "duration": 266,
    "start_time": "2022-08-23T13:39:28.201Z"
   },
   {
    "duration": 9,
    "start_time": "2022-08-23T13:39:28.469Z"
   },
   {
    "duration": 13,
    "start_time": "2022-08-23T13:39:28.480Z"
   },
   {
    "duration": 3,
    "start_time": "2022-08-23T13:39:28.494Z"
   },
   {
    "duration": 76,
    "start_time": "2022-08-23T13:39:28.498Z"
   },
   {
    "duration": 3,
    "start_time": "2022-08-23T13:39:28.575Z"
   },
   {
    "duration": 81,
    "start_time": "2022-08-23T13:39:28.579Z"
   },
   {
    "duration": 3,
    "start_time": "2022-08-23T13:39:28.662Z"
   },
   {
    "duration": 76,
    "start_time": "2022-08-23T13:39:28.667Z"
   },
   {
    "duration": 3,
    "start_time": "2022-08-23T13:39:28.745Z"
   },
   {
    "duration": 85,
    "start_time": "2022-08-23T13:39:28.750Z"
   },
   {
    "duration": 3,
    "start_time": "2022-08-23T13:39:28.837Z"
   },
   {
    "duration": 106,
    "start_time": "2022-08-23T13:39:28.841Z"
   },
   {
    "duration": 44,
    "start_time": "2022-08-23T15:55:40.480Z"
   },
   {
    "duration": 460,
    "start_time": "2022-08-23T15:55:46.852Z"
   },
   {
    "duration": 6044,
    "start_time": "2022-08-23T15:55:48.229Z"
   },
   {
    "duration": 320,
    "start_time": "2022-08-23T15:55:54.275Z"
   },
   {
    "duration": 10,
    "start_time": "2022-08-23T15:55:54.598Z"
   },
   {
    "duration": 5,
    "start_time": "2022-08-23T15:55:58.117Z"
   },
   {
    "duration": 116,
    "start_time": "2022-08-23T15:56:01.182Z"
   },
   {
    "duration": 13,
    "start_time": "2022-08-23T15:56:02.196Z"
   },
   {
    "duration": 109,
    "start_time": "2022-08-23T15:57:20.699Z"
   },
   {
    "duration": 10,
    "start_time": "2022-08-23T15:57:21.575Z"
   },
   {
    "duration": 169,
    "start_time": "2022-08-23T15:57:24.099Z"
   },
   {
    "duration": 10,
    "start_time": "2022-08-23T15:57:24.964Z"
   },
   {
    "duration": 182,
    "start_time": "2022-08-23T15:57:27.576Z"
   },
   {
    "duration": 10,
    "start_time": "2022-08-23T15:57:28.536Z"
   },
   {
    "duration": 12,
    "start_time": "2022-08-23T15:57:31.175Z"
   },
   {
    "duration": 3,
    "start_time": "2022-08-23T15:57:37.623Z"
   },
   {
    "duration": 66,
    "start_time": "2022-08-23T15:57:38.430Z"
   },
   {
    "duration": 3,
    "start_time": "2022-08-23T15:58:22.730Z"
   },
   {
    "duration": 88,
    "start_time": "2022-08-23T15:58:23.385Z"
   },
   {
    "duration": 3,
    "start_time": "2022-08-23T15:59:13.407Z"
   },
   {
    "duration": 86,
    "start_time": "2022-08-23T15:59:14.107Z"
   },
   {
    "duration": 2,
    "start_time": "2022-08-23T16:01:41.018Z"
   },
   {
    "duration": 67,
    "start_time": "2022-08-23T16:01:41.710Z"
   },
   {
    "duration": 3,
    "start_time": "2022-08-23T16:01:52.840Z"
   },
   {
    "duration": 69,
    "start_time": "2022-08-23T16:01:53.486Z"
   },
   {
    "duration": 47,
    "start_time": "2022-08-23T16:02:13.683Z"
   },
   {
    "duration": 3,
    "start_time": "2022-08-23T16:02:17.370Z"
   },
   {
    "duration": 71,
    "start_time": "2022-08-23T16:02:18.151Z"
   },
   {
    "duration": 52,
    "start_time": "2022-08-23T16:02:25.817Z"
   },
   {
    "duration": 2,
    "start_time": "2022-08-23T16:03:14.278Z"
   },
   {
    "duration": 70,
    "start_time": "2022-08-23T16:03:15.596Z"
   },
   {
    "duration": 3,
    "start_time": "2022-08-23T16:07:48.117Z"
   },
   {
    "duration": 88,
    "start_time": "2022-08-23T16:07:48.777Z"
   },
   {
    "duration": 2,
    "start_time": "2022-08-23T16:09:12.867Z"
   },
   {
    "duration": 89,
    "start_time": "2022-08-23T16:09:13.538Z"
   },
   {
    "duration": 3,
    "start_time": "2022-08-23T16:11:56.828Z"
   },
   {
    "duration": 71,
    "start_time": "2022-08-23T16:11:57.480Z"
   },
   {
    "duration": 3,
    "start_time": "2022-08-23T16:12:05.545Z"
   },
   {
    "duration": 76,
    "start_time": "2022-08-23T16:12:06.254Z"
   },
   {
    "duration": 3,
    "start_time": "2022-08-23T16:12:31.641Z"
   },
   {
    "duration": 71,
    "start_time": "2022-08-23T16:12:32.247Z"
   },
   {
    "duration": 3,
    "start_time": "2022-08-23T16:12:45.993Z"
   },
   {
    "duration": 72,
    "start_time": "2022-08-23T16:12:46.545Z"
   },
   {
    "duration": 3,
    "start_time": "2022-08-23T16:13:07.348Z"
   },
   {
    "duration": 72,
    "start_time": "2022-08-23T16:13:07.994Z"
   },
   {
    "duration": 3,
    "start_time": "2022-08-23T16:13:24.547Z"
   },
   {
    "duration": 71,
    "start_time": "2022-08-23T16:13:25.105Z"
   },
   {
    "duration": 3,
    "start_time": "2022-08-23T16:13:57.555Z"
   },
   {
    "duration": 76,
    "start_time": "2022-08-23T16:13:58.266Z"
   },
   {
    "duration": 3,
    "start_time": "2022-08-23T16:14:04.563Z"
   },
   {
    "duration": 71,
    "start_time": "2022-08-23T16:14:05.134Z"
   },
   {
    "duration": 3,
    "start_time": "2022-08-23T16:14:23.221Z"
   },
   {
    "duration": 78,
    "start_time": "2022-08-23T16:14:23.779Z"
   },
   {
    "duration": 528,
    "start_time": "2022-08-23T16:23:10.870Z"
   },
   {
    "duration": 5218,
    "start_time": "2022-08-23T16:23:11.400Z"
   },
   {
    "duration": 340,
    "start_time": "2022-08-23T16:23:16.620Z"
   },
   {
    "duration": 9,
    "start_time": "2022-08-23T16:23:16.962Z"
   },
   {
    "duration": 10,
    "start_time": "2022-08-23T16:23:16.973Z"
   },
   {
    "duration": 124,
    "start_time": "2022-08-23T16:23:16.985Z"
   },
   {
    "duration": 9,
    "start_time": "2022-08-23T16:23:17.110Z"
   },
   {
    "duration": 147,
    "start_time": "2022-08-23T16:23:17.121Z"
   },
   {
    "duration": 9,
    "start_time": "2022-08-23T16:23:17.269Z"
   },
   {
    "duration": 177,
    "start_time": "2022-08-23T16:23:17.280Z"
   },
   {
    "duration": 9,
    "start_time": "2022-08-23T16:23:17.459Z"
   },
   {
    "duration": 174,
    "start_time": "2022-08-23T16:23:17.469Z"
   },
   {
    "duration": 10,
    "start_time": "2022-08-23T16:23:17.645Z"
   },
   {
    "duration": 25,
    "start_time": "2022-08-23T16:23:17.656Z"
   },
   {
    "duration": 14,
    "start_time": "2022-08-23T16:23:17.682Z"
   },
   {
    "duration": 99,
    "start_time": "2022-08-23T16:23:17.698Z"
   },
   {
    "duration": 2,
    "start_time": "2022-08-23T16:23:17.799Z"
   },
   {
    "duration": 96,
    "start_time": "2022-08-23T16:23:17.803Z"
   },
   {
    "duration": 2,
    "start_time": "2022-08-23T16:23:17.901Z"
   },
   {
    "duration": 80,
    "start_time": "2022-08-23T16:23:17.904Z"
   },
   {
    "duration": 3,
    "start_time": "2022-08-23T16:23:17.985Z"
   },
   {
    "duration": 99,
    "start_time": "2022-08-23T16:23:17.989Z"
   },
   {
    "duration": 2,
    "start_time": "2022-08-23T16:23:18.089Z"
   },
   {
    "duration": 104,
    "start_time": "2022-08-23T16:23:18.093Z"
   }
  ],
  "kernelspec": {
   "display_name": "Python 3 (ipykernel)",
   "language": "python",
   "name": "python3"
  },
  "language_info": {
   "codemirror_mode": {
    "name": "ipython",
    "version": 3
   },
   "file_extension": ".py",
   "mimetype": "text/x-python",
   "name": "python",
   "nbconvert_exporter": "python",
   "pygments_lexer": "ipython3",
   "version": "3.9.7"
  },
  "toc": {
   "base_numbering": 1,
   "nav_menu": {
    "height": "118px",
    "width": "238px"
   },
   "number_sections": true,
   "sideBar": true,
   "skip_h1_title": true,
   "title_cell": "Содержание",
   "title_sidebar": "Contents",
   "toc_cell": true,
   "toc_position": {},
   "toc_section_display": true,
   "toc_window_display": true
  }
 },
 "nbformat": 4,
 "nbformat_minor": 5
}
